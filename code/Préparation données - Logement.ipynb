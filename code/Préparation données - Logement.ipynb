{
 "cells": [
  {
   "cell_type": "code",
   "execution_count": null,
   "id": "0",
   "metadata": {},
   "outputs": [],
   "source": [
    "import pandas as pd\n",
    "import geopandas as gpd\n",
    "import shapely\n",
    "import numpy as np\n",
    "from pathlib import Path\n",
    "import os\n",
    "import rasterio\n",
    "from rasterio.plot import show\n",
    "from shapely.geometry import Point, Polygon\n",
    "from rasterstats import zonal_stats\n",
    "from rasterio.plot import show_hist\n",
    "from rasterio.mask import mask\n",
    "import matplotlib.pyplot as plt\n",
    "import contextily as ctx\n",
    "import seaborn as sns"
   ]
  },
  {
   "cell_type": "markdown",
   "id": "1",
   "metadata": {},
   "source": [
    "## Load data"
   ]
  },
  {
   "cell_type": "code",
   "execution_count": null,
   "id": "2",
   "metadata": {},
   "outputs": [],
   "source": [
    "data_folder = Path('../Data/')\n",
    "databases = Path('/Users/david/Dropbox/PhD/Data/')"
   ]
  },
  {
   "cell_type": "code",
   "execution_count": null,
   "id": "3",
   "metadata": {},
   "outputs": [],
   "source": [
    "cantons_ch = gpd.read_file('/Users/david/Dropbox/PhD/Data/Databases/Shapefiles/SHAPEFILE_LV95_LN02/swissBOUNDARIES3D_1_3_TLM_KANTONSGEBIET.shp')\n",
    "cantons_ch = cantons_ch.to_crs(2056)"
   ]
  },
  {
   "cell_type": "code",
   "execution_count": null,
   "id": "4",
   "metadata": {},
   "outputs": [],
   "source": [
    "statpop = pd.read_csv('/Users/david/Dropbox/PhD/Data/Databases/OFS/ag-b-00.03-vz2020statpop/STATPOP2020.csv',sep = ';')\n",
    "statpop_ha = statpop.copy()\n",
    "geometry = [Point(xy) for xy in zip(statpop['E_KOORD'], statpop['N_KOORD'])]\n",
    "statpop_point = gpd.GeoDataFrame(statpop, crs=2056, geometry=geometry)   "
   ]
  },
  {
   "cell_type": "code",
   "execution_count": null,
   "id": "5",
   "metadata": {},
   "outputs": [],
   "source": [
    "geometry = [Polygon(zip([xy[0],xy[0],xy[0]+100,xy[0]+100],[xy[1],xy[1]+100,xy[1]+100,xy[1]])) for xy in zip(statpop_ha.E_KOORD, statpop_ha.N_KOORD)]\n",
    "statpop_ha = gpd.GeoDataFrame(statpop_ha, crs=2056, geometry=geometry)      "
   ]
  },
  {
   "cell_type": "code",
   "execution_count": null,
   "id": "6",
   "metadata": {},
   "outputs": [],
   "source": [
    "regbl_db = Path('/Users/david/Dropbox/PhD/GitHub/SanteIntegra/Data/raw/OFS/regBL/GWR_MADD_Export_MADD-20210920-A4_20220427/')"
   ]
  },
  {
   "cell_type": "code",
   "execution_count": null,
   "id": "7",
   "metadata": {},
   "outputs": [],
   "source": [
    "regbl_codebook = pd.read_excel(regbl_db/'GWRCodes.xlsx')"
   ]
  },
  {
   "cell_type": "code",
   "execution_count": null,
   "id": "8",
   "metadata": {},
   "outputs": [],
   "source": [
    "regbl_df_A = pd.read_csv(regbl_db/'GWR_MADD_EIN-03_Data_MADD-20210920-A4_20220427.dsv', sep = '\\t')\n",
    "regbl_df_B = pd.read_csv(regbl_db/'GWR_MADD_GEB-03_Data_MADD-20210920-A4_20220427.dsv', sep = '\\t')\n",
    "regbl_df_C = pd.read_csv(regbl_db/'GWR_MADD_GST-03_Data_MADD-20210920-A4_20220427.dsv', sep = '\\t')\n",
    "regbl_df_D = pd.read_csv(regbl_db/'GWR_MADD_WHG-03_Data_MADD-20210920-A4_20220427.dsv', sep = '\\t')\n",
    "\n",
    "regbl_df_A_codebook = pd.read_csv(regbl_db/'GWR_MADD_EIN-03_Readme_MADD-20210920-A4_20220427.dsv', sep = '\\t')\n",
    "regbl_df_B_codebook = pd.read_csv(regbl_db/'GWR_MADD_GEB-03_Readme_MADD-20210920-A4_20220427.dsv', sep = '\\t')\n",
    "regbl_df_C_codebook = pd.read_csv(regbl_db/'GWR_MADD_GST-03_Readme_MADD-20210920-A4_20220427.dsv', sep = '\\t')\n",
    "regbl_df_D_codebook = pd.read_csv(regbl_db/'GWR_MADD_WHG-03_Readme_MADD-20210920-A4_20220427.dsv', sep = '\\t')"
   ]
  },
  {
   "cell_type": "code",
   "execution_count": null,
   "id": "9",
   "metadata": {},
   "outputs": [],
   "source": [
    "n_pieces_by_logement_by_egid = pd.DataFrame(regbl_df_D.groupby(['EGID','WAZIM']).size()).reset_index()\n",
    "n_pieces_by_logement_by_egid.columns = ['EGID','n_pieces','n_logement']"
   ]
  },
  {
   "cell_type": "code",
   "execution_count": null,
   "id": "10",
   "metadata": {},
   "outputs": [],
   "source": [
    "regbl_df_D_geom = pd.merge(regbl_df_B[['EGID','GKODE','GKODN']].drop_duplicates(), regbl_df_D, on = 'EGID')"
   ]
  },
  {
   "cell_type": "code",
   "execution_count": null,
   "id": "11",
   "metadata": {},
   "outputs": [],
   "source": [
    "regbl_gdf_D = gpd.GeoDataFrame(regbl_df_D_geom, crs=2056, geometry=gpd.points_from_xy(regbl_df_D_geom.GKODE, regbl_df_D_geom.GKODN))"
   ]
  },
  {
   "cell_type": "code",
   "execution_count": null,
   "id": "12",
   "metadata": {},
   "outputs": [],
   "source": [
    "regbl_gdf_D = gpd.sjoin(regbl_gdf_D, cantons_ch[['NAME','geometry']], op = 'intersects')"
   ]
  },
  {
   "cell_type": "markdown",
   "id": "13",
   "metadata": {},
   "source": [
    "## Données loyer OFS"
   ]
  },
  {
   "cell_type": "code",
   "execution_count": null,
   "id": "14",
   "metadata": {},
   "outputs": [],
   "source": [
    "microgis_geom = gpd.read_file('/Users/david/Dropbox/PhD/Data/Databases/Microgis_Geneva/JOOSTSPECIAL_NB_2018.shp')\n",
    "microgis_data = pd.read_csv('/Users/david/Dropbox/PhD/Data/Databases/Microgis_Geneva/joost_microgis_data_2018.csv')"
   ]
  },
  {
   "cell_type": "code",
   "execution_count": null,
   "id": "15",
   "metadata": {},
   "outputs": [],
   "source": [
    "microgis_geom['area'] = microgis_geom.geometry.area"
   ]
  },
  {
   "cell_type": "code",
   "execution_count": null,
   "id": "16",
   "metadata": {},
   "outputs": [],
   "source": [
    "microgis_geom = microgis_geom.to_crs(2056)"
   ]
  },
  {
   "cell_type": "code",
   "execution_count": null,
   "id": "17",
   "metadata": {},
   "outputs": [],
   "source": [
    "microgis_logement = gpd.sjoin(microgis_geom[['NBID','geometry']],regbl_gdf_D[['EGID','EWID','estimated_rent','WAZIM','WAREA','geometry']], op = 'intersects')"
   ]
  },
  {
   "cell_type": "code",
   "execution_count": null,
   "id": "18",
   "metadata": {},
   "outputs": [],
   "source": [
    "# Neighborhood with the most housing units\n",
    "microgis_logement.groupby('NBID').size().sort_values().idxmax()"
   ]
  },
  {
   "cell_type": "code",
   "execution_count": null,
   "id": "19",
   "metadata": {},
   "outputs": [],
   "source": [
    "microgis_geom[microgis_geom.NBID == 4878]"
   ]
  },
  {
   "cell_type": "code",
   "execution_count": null,
   "id": "20",
   "metadata": {},
   "outputs": [],
   "source": [
    "sns.histplot(data = microgis_data.dmdrent, bins = 30)"
   ]
  },
  {
   "cell_type": "code",
   "execution_count": null,
   "id": "21",
   "metadata": {},
   "outputs": [],
   "source": [
    "sns.histplot(data = microgis_data.dmdrent5, bins = 50)"
   ]
  },
  {
   "cell_type": "code",
   "execution_count": null,
   "id": "22",
   "metadata": {},
   "outputs": [],
   "source": [
    "microgis_geom = pd.merge(microgis_geom, microgis_data[['nbid','dmdrent','dmdrent1','dmdrent2','dmdrent3','dmdrent4','dmdrent5','dmdrent6']], left_on = 'NBID', right_on = 'nbid')"
   ]
  },
  {
   "cell_type": "code",
   "execution_count": null,
   "id": "23",
   "metadata": {},
   "outputs": [],
   "source": [
    "microgis_geom.plot('dmdrent', figsize = (15,15), legend = True)"
   ]
  },
  {
   "cell_type": "markdown",
   "id": "24",
   "metadata": {},
   "source": [
    "Not very surpringly, it is the Lignon"
   ]
  },
  {
   "cell_type": "code",
   "execution_count": null,
   "id": "25",
   "metadata": {},
   "outputs": [],
   "source": [
    "loyer_canton_par_n_piece = pd.read_excel(data_folder/'raw/OFS/Loyers/je-f-09.03.03.01.xlsx', sheet_name = '2020')\n",
    "loyer_canton_par_epoque_construction = pd.read_excel(data_folder/'raw/OFS/Loyers/je-f-09.03.03.02.xlsx', sheet_name = '2020_clean')\n",
    "prix_m2_canton_par_n_piece = pd.read_excel(data_folder/'raw/OFS/Loyers/je-f-09.03.03.05.xlsx', sheet_name = '2020')"
   ]
  },
  {
   "cell_type": "code",
   "execution_count": null,
   "id": "26",
   "metadata": {},
   "outputs": [],
   "source": [
    "dict_cantons = {'Zurich':'Zürich','Berne':'Bern','Tessin':'Ticino',\n",
    "                'Saint-Gall':'St. Gallen','Grisons':'Graubünden',\n",
    "                'Argovie':'Aargau','Soleure':'Solothurn','Appenzell Rh.-Ext.':'Appenzell Ausserrhoden',\n",
    "                'Appenzell Rh.-Int.':'Appenzell Innerrhoden','Bâle-Ville': 'Basel-Stadt','Zoug':'Zug',\n",
    "                'Thurgovie':'Thurgau','Lucerne':'Luzern','Schaffhouse':'Schaffhausen','Bâle-Campagne':'Basel-Landschaft',\n",
    "                'Glaris':'Glarus','Nidwald':'Nidwalden','Obwald':'Obwalden', 'Suisse':'Suisse','Genève':'Genève','Vaud':'Vaud',\n",
    "                'Fribourg':'Fribourg','Schwyz':'Schwyz','Uri':'Uri', 'Valais':'Valais','Neuchâtel':'Neuchâtel','Jura':'Jura'\n",
    "        }"
   ]
  },
  {
   "cell_type": "code",
   "execution_count": null,
   "id": "27",
   "metadata": {},
   "outputs": [],
   "source": [
    "prix_m2_canton_par_n_piece['Canton'] = prix_m2_canton_par_n_piece['Canton'].map(dict_cantons, na_action = 'ignore')"
   ]
  },
  {
   "cell_type": "code",
   "execution_count": null,
   "id": "28",
   "metadata": {},
   "outputs": [],
   "source": [
    "def rent(canton, squared_m, n_rooms):\n",
    "    try:\n",
    "        if n_rooms >= 6:\n",
    "            n_rooms = '6p+'\n",
    "        else:\n",
    "            n_rooms = str(int(n_rooms)) + 'p'\n",
    "        col_name = 'avgRent'+n_rooms\n",
    "        return prix_m2_canton_par_n_piece[prix_m2_canton_par_n_piece.Canton == canton][col_name].to_list()[0] * squared_m\n",
    "    except:\n",
    "        return np.nan"
   ]
  },
  {
   "cell_type": "code",
   "execution_count": null,
   "id": "29",
   "metadata": {},
   "outputs": [],
   "source": [
    "regbl_gdf_D[regbl_gdf_D.EGID == 1004845]"
   ]
  },
  {
   "cell_type": "code",
   "execution_count": null,
   "id": "30",
   "metadata": {},
   "outputs": [],
   "source": [
    "regbl_gdf_D['estimated_rent'] = regbl_gdf_D.apply(lambda x : rent(x.NAME,x.WAREA,x.WAZIM), axis = 1)"
   ]
  },
  {
   "cell_type": "code",
   "execution_count": null,
   "id": "31",
   "metadata": {},
   "outputs": [],
   "source": [
    "regbl_gdf_D = regbl_gdf_D.drop('index_right', axis = 1)"
   ]
  },
  {
   "cell_type": "code",
   "execution_count": null,
   "id": "32",
   "metadata": {},
   "outputs": [],
   "source": [
    "lignon_housing = regbl_gdf_D[regbl_gdf_D.EGID.isin(microgis_logement[microgis_logement.NBID == 4878].EGID.unique())]"
   ]
  },
  {
   "cell_type": "code",
   "execution_count": null,
   "id": "33",
   "metadata": {},
   "outputs": [],
   "source": [
    "lignon_housing[lignon_housing.WAZIM == 1].estimated_rent.median()"
   ]
  },
  {
   "cell_type": "code",
   "execution_count": null,
   "id": "34",
   "metadata": {},
   "outputs": [],
   "source": [
    "microgis_logement.loc[microgis_logement.WAZIM >= 6, 'WAZIM'] = 6"
   ]
  },
  {
   "cell_type": "code",
   "execution_count": null,
   "id": "35",
   "metadata": {},
   "outputs": [],
   "source": [
    "estimated_rent_by_nbid = microgis_logement.groupby(['NBID','WAZIM']).median()[['estimated_rent']].reset_index()"
   ]
  },
  {
   "cell_type": "code",
   "execution_count": null,
   "id": "36",
   "metadata": {},
   "outputs": [],
   "source": [
    "estimated_rent_by_nbid = estimated_rent_by_nbid.pivot(index = 'NBID', columns = 'WAZIM',values = 'estimated_rent')"
   ]
  },
  {
   "cell_type": "code",
   "execution_count": null,
   "id": "37",
   "metadata": {},
   "outputs": [],
   "source": [
    "estimated_rent_by_nbid['estimated_dmdrent'] = microgis_logement.groupby('NBID').median()['estimated_rent']"
   ]
  },
  {
   "cell_type": "code",
   "execution_count": null,
   "id": "38",
   "metadata": {},
   "outputs": [],
   "source": [
    "test = pd.merge(estimated_rent_by_nbid, microgis_geom, left_index = True, right_on = \"NBID\")"
   ]
  },
  {
   "cell_type": "code",
   "execution_count": null,
   "id": "39",
   "metadata": {},
   "outputs": [],
   "source": [
    "test = gpd.GeoDataFrame(test, crs = 2056, geometry = test['geometry'])"
   ]
  },
  {
   "cell_type": "code",
   "execution_count": null,
   "id": "40",
   "metadata": {},
   "outputs": [],
   "source": [
    "test[test.estimated_dmdrent < 7000].plot('estimated_dmdrent', figsize = (15,15), legend = True)"
   ]
  }
 ],
 "metadata": {
  "kernelspec": {
   "display_name": "py38",
   "language": "python",
   "name": "py38"
  },
  "language_info": {
   "codemirror_mode": {
    "name": "ipython",
    "version": 3
   },
   "file_extension": ".py",
   "mimetype": "text/x-python",
   "name": "python",
   "nbconvert_exporter": "python",
   "pygments_lexer": "ipython3",
   "version": "3.8.13"
  }
 },
 "nbformat": 4,
 "nbformat_minor": 5
}
