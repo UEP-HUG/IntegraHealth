{
 "cells": [
  {
   "cell_type": "code",
   "execution_count": null,
   "id": "0",
   "metadata": {},
   "outputs": [],
   "source": [
    "import pandas as pd\n",
    "import os\n",
    "os.environ['USE_PYGEOS'] = '0'\n",
    "import geopandas as gpd\n",
    "import networkx as nx\n",
    "from pathlib import Path\n",
    "import networkx as nx\n",
    "import matplotlib.pyplot as plt\n",
    "import numpy as np\n",
    "from sklearn.preprocessing import MinMaxScaler\n",
    "import sys\n",
    "sys.path.append('/Users/david/Dropbox/PhD/Scripts/Spatial analyses')\n",
    "import pyspace\n",
    "import libpysal as lps\n",
    "from scipy.spatial import cKDTree\n",
    "from libpysal.weights.distance import get_points_array\n",
    "from esda import fdr\n",
    "from importlib import reload\n",
    "pd.set_option('display.max_rows', 500)\n",
    "reload(pyspace)\n",
    "import seaborn as sns\n",
    "from esda.moran import Moran\n",
    "# sns.set_theme(font = 'Helvetica')\n",
    "%matplotlib inline\n",
    "from numba import NumbaDeprecationWarning\n",
    "import warnings\n",
    "# Suppress NumbaDeprecationWarning\n",
    "warnings.filterwarnings(\"ignore\", category=NumbaDeprecationWarning)"
   ]
  },
  {
   "cell_type": "code",
   "execution_count": null,
   "id": "1",
   "metadata": {},
   "outputs": [],
   "source": [
    "data_folder  = Path('../data/')\n",
    "main_folder = Path('../manuscript/')\n",
    "results_folder = main_folder/'output'"
   ]
  },
  {
   "cell_type": "code",
   "execution_count": null,
   "id": "2",
   "metadata": {},
   "outputs": [],
   "source": [
    "cantons = gpd.read_file(data_folder/'raw/Linkage/swissBOUNDARIES3D_1_3_TLM_KANTONSGEBIET.shp', engine='pyogrio')\n",
    "cantons['dummies'] = 1\n",
    "ch_polygon = cantons.dissolve('dummies')"
   ]
  },
  {
   "cell_type": "code",
   "execution_count": null,
   "id": "3",
   "metadata": {},
   "outputs": [],
   "source": [
    "ch_polygon.to_file(data_folder/'raw/CH/ch_contour.shp', engine='pyogrio')\n",
    "ch_polygon = ch_polygon.to_crs(2056)\n",
    "ch_polygon.to_file(data_folder/'raw/CH/ch_contour_2056.shp', engine='pyogrio')"
   ]
  },
  {
   "cell_type": "code",
   "execution_count": null,
   "id": "4",
   "metadata": {},
   "outputs": [],
   "source": [
    "# Save the exploded dispensers DataFrame to a parquet file\n",
    "df_dispensateurs_lca_nodupli = pd.read_parquet(\n",
    "    data_folder/'processed'/'df_dispensateurs_lca_nodupli.parquet.gzip')\n",
    "\n",
    "df_dispensateurs_lca_exploded = pd.read_parquet(data_folder/'processed'/'df_dispensateur_lca_exploded.parquet.gzip')"
   ]
  },
  {
   "cell_type": "markdown",
   "id": "5",
   "metadata": {},
   "source": [
    "## Import LCA data"
   ]
  },
  {
   "cell_type": "code",
   "execution_count": null,
   "id": "6",
   "metadata": {},
   "outputs": [],
   "source": [
    "df_prestation_lca = pd.read_parquet(data_folder/'processed'/'df_prestation_lca_processed.parquet_gzip')"
   ]
  },
  {
   "cell_type": "code",
   "execution_count": null,
   "id": "7",
   "metadata": {},
   "outputs": [],
   "source": [
    "df_prestation_lca_1spe = df_prestation_lca[df_prestation_lca.n_therapies == 1].explode('THERAPIES_SIMPLIFIED_SET')\n",
    "df_prestation_lca_exploded = df_prestation_lca.explode('THERAPIES_SIMPLIFIED_SET')"
   ]
  },
  {
   "cell_type": "code",
   "execution_count": null,
   "id": "8",
   "metadata": {},
   "outputs": [],
   "source": [
    "(df_prestation_lca_1spe.groupby(['NOANNEE','THERAPIES_SIMPLIFIED_SET']).uuid.nunique()/df_prestation_lca_1spe.groupby(['NOANNEE']).uuid.nunique()).mul(100)"
   ]
  },
  {
   "cell_type": "code",
   "execution_count": null,
   "id": "9",
   "metadata": {},
   "outputs": [],
   "source": [
    "prev_therapies_by_year = (df_prestation_lca_exploded.groupby(['NOANNEE','THERAPIES_SIMPLIFIED_SET']).uuid.nunique()/df_prestation_lca_exploded.groupby(['NOANNEE']).uuid.nunique()).mul(100)"
   ]
  },
  {
   "cell_type": "code",
   "execution_count": null,
   "id": "10",
   "metadata": {},
   "outputs": [],
   "source": [
    "prev_therapies_by_year = prev_therapies_by_year.reset_index()"
   ]
  },
  {
   "cell_type": "code",
   "execution_count": null,
   "id": "11",
   "metadata": {},
   "outputs": [],
   "source": [
    "prev_therapies_by_year[prev_therapies_by_year.NOANNEE == 2021].sort_values('uuid').tail(40).set_index('THERAPIES_SIMPLIFIED_SET')['uuid'].plot.bar()"
   ]
  },
  {
   "cell_type": "markdown",
   "id": "12",
   "metadata": {},
   "source": [
    "## Analyses Getis - Outcomes principaux"
   ]
  },
  {
   "cell_type": "code",
   "execution_count": null,
   "id": "13",
   "metadata": {},
   "outputs": [],
   "source": [
    "df_treated_filtered = pd.read_parquet(data_folder/'/processed/df_treated_filtered.parquet.gzip')\n",
    "df_treated_filtered = gpd.GeoDataFrame(df_treated_filtered, crs = 4326, geometry=gpd.points_from_xy(df_treated_filtered.lon_masked, df_treated_filtered.lat_masked))\n",
    "df_treated_filtered = df_treated_filtered.to_crs(2056)"
   ]
  },
  {
   "cell_type": "code",
   "execution_count": null,
   "id": "14",
   "metadata": {},
   "outputs": [],
   "source": [
    "df_treated_filtered['CAREMODEL'] = df_treated_filtered.filter(regex='MODEL_').idxmax(axis=1).str.replace('MODEL_', '')"
   ]
  },
  {
   "cell_type": "code",
   "execution_count": null,
   "id": "15",
   "metadata": {},
   "outputs": [],
   "source": [
    "canton_to_language = {\n",
    "    'Zürich': 'German',\n",
    "    'Bern': 'German',\n",
    "    'Luzern': 'German',\n",
    "    'Uri': 'German',\n",
    "    'Schwyz': 'German',\n",
    "    'Obwalden': 'German',\n",
    "    'Nidwalden': 'German',\n",
    "    'Glarus': 'German',\n",
    "    'Zug': 'German',\n",
    "    'Fribourg': 'Mix',\n",
    "    'Solothurn': 'German',\n",
    "    'Basel-Stadt': 'German',\n",
    "    'Basel-Landschaft': 'German',\n",
    "    'Schaffhausen': 'German',\n",
    "    'Appenzell Ausserrhoden': 'German',\n",
    "    'Appenzell Innerrhoden': 'German',\n",
    "    'St. Gallen': 'German',\n",
    "    'Graubünden': 'German', # Note: Graubünden is trilingual with German, Romansh and Italian communities\n",
    "    'Aargau': 'German',\n",
    "    'Thurgau': 'German',\n",
    "    'Ticino': 'Italian',\n",
    "    'Vaud': 'French',\n",
    "    'Valais': 'Mix', # Note: Valais is bilingual with French and German communities\n",
    "    'Neuchâtel': 'French',\n",
    "    'Genève': 'French',\n",
    "    'Jura': 'French',\n",
    "}"
   ]
  },
  {
   "cell_type": "code",
   "execution_count": null,
   "id": "16",
   "metadata": {},
   "outputs": [],
   "source": [
    "df_treated_filtered['lang_region'] = df_treated_filtered['CANTON_NAME'].map(canton_to_language)"
   ]
  },
  {
   "cell_type": "code",
   "execution_count": null,
   "id": "17",
   "metadata": {},
   "outputs": [],
   "source": [
    "def compute_and_save_getis(data, outcome, weights, year, store, threshold=0.05):\n",
    "    getis_values = pyspace.compute_getis(data, outcome, weights, 999, transform_type='B', p_001=False)\n",
    "    fdr_pvalue = fdr(getis_values.p_sim, threshold)\n",
    "    data[f'{outcome}_G_cl_fdr'] = data[f'{outcome}_G_cl']\n",
    "    data.loc[data[f'{outcome}_G_psim'] >= fdr_pvalue, f'{outcome}_G_cl_fdr'] = 'Not significant'\n",
    "\n",
    "    # Plot and save\n",
    "    fig, ax = pyspace.plotGetisMap(data, f'{outcome}_G_cl', markersize_s=0.01, markersize_l=0.1, p_001=False, commune_name=False)\n",
    "    file_path = f'../output/Getis/{outcome}_{year}.png'\n",
    "    plt.savefig(file_path, dpi=480, bbox_inches='tight')\n",
    "    store[f'df_getis_{outcome}_{year}'] = data.drop('geometry', axis=1)\n",
    "\n",
    "def main():\n",
    "    outcomes = ['PRESTATIONS_TOTAL','PRESTATIONS_BRUTES_LCA','PRESTATIONS_BRUTES_AOS','cds','Methodes de massage_amount','Methodes energetiques_amount','Methodes occidentales_amount','Methodes orientales_amount','Methodes hydrotherapeutiques_amount']\n",
    "    _weights = {}  # Initialize your weights dictionary\n",
    "    \n",
    "    store = pd.HDFStore(output_folder/'Getis/dfs_getis.h5')\n",
    "    dfs_getis = []\n",
    "\n",
    "    for year in df_treated_filtered.NOANNEE.unique():\n",
    "        data_year = df_treated_filtered[df_treated_filtered.NOANNEE == year].set_index('uuid')[outcomes + ['E', 'N', 'geometry']]\n",
    "\n",
    "        wnn32 = _weights.get(year)\n",
    "        if wnn32 is None:\n",
    "            wnn32 = lps.weights.KNN(cKDTree(get_points_array(data_year.geometry.centroid)), 32)\n",
    "            _weights[year] = wnn32\n",
    "\n",
    "        for outcome in outcomes:\n",
    "            file_path = f'../output/Getis/{outcome}_{year}.png'\n",
    "            if not os.path.isfile(file_path):\n",
    "                compute_and_save_getis(data_year, outcome, wnn32, year, store)\n",
    "            else:\n",
    "                data_year = store[f'df_getis_{outcome}_{year}']\n",
    "        dfs_getis.append(data_year)\n",
    "    store.close()\n",
    "    return _weights\n",
    "\n",
    "if __name__ == \"__main__\":\n",
    "    weights_dict = main()"
   ]
  },
  {
   "cell_type": "code",
   "execution_count": null,
   "id": "18",
   "metadata": {},
   "outputs": [],
   "source": [
    "store = pd.HDFStore(output_folder/'Getis/dfs_getis.h5')\n",
    "outcome = 'PRESTATIONS_BRUTES_AOS'\n",
    "year='2017'\n",
    "df_treated_filtered_year = store[f'df_getis_{outcome}_{str(year)}']"
   ]
  },
  {
   "cell_type": "code",
   "execution_count": null,
   "id": "19",
   "metadata": {},
   "outputs": [],
   "source": [
    "pyspace.plot_getis_by_class(df_treated_filtered_year,'PRESTATIONS_BRUTES_AOS_G_cl', 'PRESTATIONS_BRUTES_AOS', 'Average AOS spending amount (CHF) in 2017', 8, 12, 8, 8, p_001=False,showfliers = False)"
   ]
  },
  {
   "cell_type": "code",
   "execution_count": null,
   "id": "20",
   "metadata": {},
   "outputs": [],
   "source": [
    "outcome = 'PRESTATIONS_BRUTES_LCA'\n",
    "year='2017'\n",
    "data_final_year = store[f'df_getis_{outcome}_{str(year)}']"
   ]
  },
  {
   "cell_type": "code",
   "execution_count": null,
   "id": "21",
   "metadata": {},
   "outputs": [],
   "source": [
    "pyspace.plot_getis_by_class(df_treated_filtered_year,'PRESTATIONS_BRUTES_LCA_G_cl', 'PRESTATIONS_BRUTES_LCA', 'Average LCA spending amount (CHF) in 2017', 8, 12, 8, 8, p_001=False,showfliers = False)"
   ]
  },
  {
   "cell_type": "code",
   "execution_count": null,
   "id": "22",
   "metadata": {},
   "outputs": [],
   "source": [
    "outcome = 'PRESTATIONS_BRUTES_LCA'\n",
    "year=2019\n",
    "df_treated_filtered_year = store[f'df_getis_{outcome}_{str(year)}']"
   ]
  },
  {
   "cell_type": "code",
   "execution_count": null,
   "id": "23",
   "metadata": {},
   "outputs": [],
   "source": [
    "pyspace.plot_getis_by_class(df_treated_filtered_year,'PRESTATIONS_BRUTES_LCA_G_cl', 'PRESTATIONS_BRUTES_LCA', 'Avg CM spending amount (CHF) in 2019', 8, 12, 8, 8, p_001=False,showfliers = False)"
   ]
  },
  {
   "cell_type": "markdown",
   "id": "24",
   "metadata": {},
   "source": [
    "## Adjustment models and Getis on residuals"
   ]
  },
  {
   "cell_type": "code",
   "execution_count": null,
   "id": "25",
   "metadata": {},
   "outputs": [],
   "source": [
    "outcome = 'PRESTATIONS_BRUTES_LCA'\n",
    "year='2017'\n",
    "data_final_year = store[f'df_getis_{outcome}_{str(year)}']"
   ]
  },
  {
   "cell_type": "code",
   "execution_count": null,
   "id": "26",
   "metadata": {},
   "outputs": [],
   "source": [
    "data_2017 = df_treated_filtered[df_treated_filtered.NOANNEE == 2017]\n",
    "data_2018 = df_treated_filtered[df_treated_filtered.NOANNEE == 2018]\n",
    "data_2019 = df_treated_filtered[df_treated_filtered.NOANNEE == 2019]\n",
    "data_2020 = df_treated_filtered[df_treated_filtered.NOANNEE == 2020]\n",
    "data_2021 = df_treated_filtered[df_treated_filtered.NOANNEE == 2021]\n",
    "\n",
    "data_2017 = gpd.GeoDataFrame(data_2017, crs = 2056, geometry = data_2017['geometry'] )\n",
    "data_2018 = gpd.GeoDataFrame(data_2018, crs = 2056, geometry = data_2018['geometry'] )\n",
    "data_2019 = gpd.GeoDataFrame(data_2019, crs = 2056, geometry = data_2019['geometry'] )\n",
    "data_2020 = gpd.GeoDataFrame(data_2020, crs = 2056, geometry = data_2020['geometry'] )\n",
    "data_2021 = gpd.GeoDataFrame(data_2021, crs = 2056, geometry = data_2021['geometry'] )"
   ]
  },
  {
   "cell_type": "code",
   "execution_count": null,
   "id": "27",
   "metadata": {},
   "outputs": [],
   "source": [
    "data_2018.CAREMODEL.unique()"
   ]
  },
  {
   "cell_type": "code",
   "execution_count": null,
   "id": "28",
   "metadata": {},
   "outputs": [],
   "source": [
    "data_2018 = data_2018[data_2018.CANTON_ACRONYM.isnull()==False]"
   ]
  },
  {
   "cell_type": "code",
   "execution_count": null,
   "id": "29",
   "metadata": {},
   "outputs": [],
   "source": [
    "chronic_diseases = data_2018.filter(regex='_PCG').columns.tolist()"
   ]
  },
  {
   "cell_type": "code",
   "execution_count": null,
   "id": "30",
   "metadata": {},
   "outputs": [],
   "source": [
    "import statsmodels.api as sm\n",
    "\n",
    "# Step 1: Prepare the data\n",
    "X = data_2018[['cds','SEX_F','NBAGE','ssep3','CANTON_ACRONYM','E','N']]  # Covariates\n",
    "y = data_2018['PRESTATIONS_BRUTES_AOS']  # Dependent variable\n",
    "\n",
    "formula = \"PRESTATIONS_BRUTES_AOS ~  CDPHYSSEXE + CANTON_ACRONYM + NBAGE + CAREMODEL + CDLANGUE + MTFRANCHISECOUV\"\n",
    "model = sm.formula.ols(formula, data=data_2018).fit()\n",
    "print(model.summary())"
   ]
  },
  {
   "cell_type": "code",
   "execution_count": null,
   "id": "31",
   "metadata": {},
   "outputs": [],
   "source": [
    "data_2018['residuals'] = model.resid"
   ]
  },
  {
   "cell_type": "code",
   "execution_count": null,
   "id": "32",
   "metadata": {},
   "outputs": [],
   "source": [
    "wnn32 = lps.weights.KNN(cKDTree(get_points_array(data_2018.geometry.centroid)), 32)"
   ]
  },
  {
   "cell_type": "code",
   "execution_count": null,
   "id": "33",
   "metadata": {},
   "outputs": [],
   "source": [
    "getis_values = pyspace.compute_getis(data_2018, 'residuals', wnn32, 999, transform_type='B', p_001=False)"
   ]
  },
  {
   "cell_type": "code",
   "execution_count": null,
   "id": "34",
   "metadata": {},
   "outputs": [],
   "source": [
    "fig, ax = pyspace.plotGetisMap(data_2018, 'residuals_G_cl', markersize_s=0.01, markersize_l=0.1, p_001=False, commune_name=False)\n",
    "file_path = output_folder/'Getis/PRESTATIONS_BRUTES_AOS_2018_adjusted.png'\n",
    "plt.savefig(file_path, dpi=1000, bbox_inches='tight')"
   ]
  },
  {
   "cell_type": "markdown",
   "id": "35",
   "metadata": {},
   "source": [
    "## Claims amount by sex"
   ]
  },
  {
   "cell_type": "code",
   "execution_count": null,
   "id": "36",
   "metadata": {},
   "outputs": [],
   "source": [
    "fig, ax = plt.subplots(figsize = (8,8))\n",
    "sns.boxplot(data=df_treated_filtered, y=\"PRESTATIONS_BRUTES_AOS\",x = 'CDPHYSSEXE',showfliers = False, dodge = False, ax = ax)\n",
    "plt.show()"
   ]
  },
  {
   "cell_type": "code",
   "execution_count": null,
   "id": "37",
   "metadata": {},
   "outputs": [],
   "source": [
    "fig, ax = plt.subplots(figsize = (8,8))\n",
    "sns.boxplot(data=df_treated_filtered, y=\"PRESTATIONS_BRUTES_LCA\",x = 'CDPHYSSEXE',showfliers = False, dodge = False, ax = ax)\n",
    "plt.show()"
   ]
  },
  {
   "cell_type": "markdown",
   "id": "38",
   "metadata": {},
   "source": [
    "## Claims amount by canton / region"
   ]
  },
  {
   "cell_type": "code",
   "execution_count": null,
   "id": "39",
   "metadata": {},
   "outputs": [],
   "source": [
    "avg_prestation_lca_by_canton = df_treated_filtered.groupby('CANTON_NAME')['PRESTATIONS_BRUTES_LCA'].mean()\n",
    "rank = avg_prestation_lca_by_canton.argsort().argsort()   # http://stackoverflow.com/a/6266510/1628638\n",
    "rank = rank.sort_values().index.tolist()\n",
    "pal = sns.color_palette(\"Greens\", len(avg_prestation_lca_by_canton))\n",
    "fig, ax = plt.subplots(figsize = (8,8))\n",
    "sns.barplot(data=df_treated_filtered, y=\"treatment\",x = 'CANTON_NAME',hue = 'lang_region', dodge = False, order = rank, ax = ax)\n",
    "# ax.set_ylim(0,5000)\n",
    "plt.legend(title='')\n",
    "plt.xticks(rotation = 90)\n",
    "sns.despine()\n",
    "plt.xlabel('Cantons', fontsize=12)\n",
    "plt.ylabel('Annual CAM claims amount (SI) (CHF)', fontsize=12)\n",
    "plt.grid(axis = 'y')\n",
    "plt.savefig(results_folder/'Figures_rapport/Prevalence_CAM_SI_by_canton.png', dpi = 300, bbox_inches='tight')"
   ]
  },
  {
   "cell_type": "code",
   "execution_count": null,
   "id": "40",
   "metadata": {},
   "outputs": [],
   "source": [
    "avg_prestation_lca_by_canton = df_treated_filtered.groupby('CANTON_NAME')['PRESTATIONS_BRUTES_LCA'].mean()\n",
    "rank = avg_prestation_lca_by_canton.argsort().argsort()   # http://stackoverflow.com/a/6266510/1628638\n",
    "rank = rank.sort_values().index.tolist()\n",
    "pal = sns.color_palette(\"Greens\", len(avg_prestation_lca_by_canton))\n",
    "fig, ax = plt.subplots(figsize = (8,8))\n",
    "sns.boxplot(data=df_treated_filtered, y=\"PRESTATIONS_BRUTES_LCA\",x = 'CANTON_NAME',hue = 'lang_region',showfliers = False, dodge = False, order = rank, ax = ax)\n",
    "# ax.set_ylim(0,5000)\n",
    "plt.legend(title='')\n",
    "plt.xticks(rotation = 90)\n",
    "sns.despine()\n",
    "plt.xlabel('Cantons', fontsize=12)\n",
    "plt.ylabel('Annual CAM claims amount (SI) (CHF)', fontsize=12)\n",
    "plt.grid(axis = 'y')\n",
    "plt.savefig(results_folder/'Figures_rapport/Avg_CAM_SI_by_canton.png', dpi = 300, bbox_inches='tight')"
   ]
  },
  {
   "cell_type": "code",
   "execution_count": null,
   "id": "41",
   "metadata": {},
   "outputs": [],
   "source": [
    "avg_prestation_aos_by_canton = df_treated_filtered.groupby('CANTON_NAME')['PRESTATIONS_BRUTES_AOS'].median()\n",
    "rank = avg_prestation_aos_by_canton.argsort().argsort()   # http://stackoverflow.com/a/6266510/1628638\n",
    "rank = rank.sort_values().index.tolist()\n",
    "pal = sns.color_palette(\"Greens\", len(avg_prestation_aos_by_canton))\n",
    "fig, ax = plt.subplots(figsize = (8,8))\n",
    "sns.boxplot(data=df_treated_filtered, y=\"PRESTATIONS_BRUTES_AOS\",x = 'CANTON_NAME',hue = 'lang_region',showfliers = False,dodge = False, order = rank, ax = ax)\n",
    "# ax.set_ylim(0,5000)\n",
    "plt.xticks(rotation = 90)\n",
    "plt.legend(title='')\n",
    "sns.despine()\n",
    "plt.grid(axis = 'y')\n",
    "plt.xlabel('Cantons', fontsize=12)\n",
    "plt.ylabel('Annual CM claims amount (MHI) (CHF)', fontsize=12)\n",
    "plt.savefig(results_folder/'figures_rapport/Avg_CM_MHI_by_canton.png', dpi = 300, bbox_inches='tight')"
   ]
  },
  {
   "cell_type": "code",
   "execution_count": null,
   "id": "42",
   "metadata": {},
   "outputs": [],
   "source": [
    "avg_prestation_lca_by_canton = df_treated_filtered.groupby('CANTON_NAME')['treatment_cam_only'].mean()\n",
    "rank = avg_prestation_lca_by_canton.argsort().argsort()   # http://stackoverflow.com/a/6266510/1628638\n",
    "rank = rank.sort_values().index.tolist()\n",
    "pal = sns.color_palette(\"Greens\", len(avg_prestation_lca_by_canton))\n",
    "fig, ax = plt.subplots(figsize = (8,8))\n",
    "sns.barplot(data=df_treated_filtered, y=\"treatment_cam_only\",x = 'CANTON_NAME',hue = 'lang_region', dodge = False, order = rank, ax = ax)\n",
    "# ax.set_ylim(0,5000)\n",
    "plt.legend(title='')\n",
    "plt.xticks(rotation = 90)\n",
    "sns.despine()\n",
    "plt.xlabel('Cantons', fontsize=12)\n",
    "plt.ylabel('Annual CAM claims amount (SI) (CHF)', fontsize=12)\n",
    "plt.grid(axis = 'y')\n",
    "plt.savefig(results_folder/'figures_rapport/Prevalence_CAM_MHI_by_canton.png', dpi = 300, bbox_inches='tight')"
   ]
  },
  {
   "cell_type": "code",
   "execution_count": null,
   "id": "43",
   "metadata": {},
   "outputs": [],
   "source": [
    "avg_prestation_cam_by_canton = df_treated_filtered.groupby('CANTON_NAME')['PRESTATIONS_BRUTES_CAM'].mean()\n",
    "rank = avg_prestation_cam_by_canton.argsort().argsort()   # http://stackoverflow.com/a/6266510/1628638\n",
    "rank = rank.sort_values().index.tolist()\n",
    "pal = sns.color_palette(\"Greens\", len(avg_prestation_cam_by_canton))\n",
    "fig, ax = plt.subplots(figsize = (8,8))\n",
    "sns.barplot(data=df_treated_filtered, y=\"PRESTATIONS_BRUTES_CAM\",x = 'CANTON_NAME',hue = 'lang_region',dodge = False, order = rank, ax = ax)\n",
    "# ax.set_ylim(0,5000)\n",
    "plt.legend(title='', loc = 'upper left')\n",
    "plt.xticks(rotation = 90)\n",
    "sns.despine()\n",
    "plt.grid(axis = 'y')\n",
    "plt.xlabel('Cantons', fontsize=12)\n",
    "plt.ylabel('Annual CAM claims amount (MHI) (CHF)', fontsize=12)\n",
    "plt.savefig(results_folder/'figures_rapport/Avg_CAM_MHI_by_canton.png', dpi = 300, bbox_inches='tight')"
   ]
  },
  {
   "cell_type": "code",
   "execution_count": null,
   "id": "44",
   "metadata": {},
   "outputs": [],
   "source": [
    "fig, ax = plt.subplots(figsize = (8,8))\n",
    "ordered_labels = df_treated_filtered.groupby('CANTON_NAME')['PRESTATIONS_BRUTES_LCA'].median().sort_values().index\n",
    "# Plot the orbital period with horizontal boxes\n",
    "g = sns.boxplot(data=df_treated_filtered, x=\"PRESTATIONS_BRUTES_LCA\",y = 'CANTON_NAME', order = ordered_labels, showfliers=False,width=.6, palette=\"vlag\", ax = ax)\n",
    "# ax.set_xlim(0,5000)\n",
    "g.set_xlabel('Annual CAM claims (SI)')\n",
    "g.set_ylabel('Canton')\n",
    "plt.savefig(results_folder/'figures_rapport/Avg_CAM_SI_by_canton_cmap.png', dpi = 300, bbox_inches='tight')"
   ]
  },
  {
   "cell_type": "markdown",
   "id": "45",
   "metadata": {},
   "source": [
    "## Claims amount by age group"
   ]
  },
  {
   "cell_type": "code",
   "execution_count": null,
   "id": "46",
   "metadata": {},
   "outputs": [],
   "source": [
    "fig, ax = plt.subplots(figsize = (8,8))\n",
    "\n",
    "g = sns.boxplot(data=df_treated_filtered, x=\"PRESTATIONS_BRUTES_LCA\",y = 'age_group', width=.6, palette=\"vlag\", showfliers=False, ax = ax)\n",
    "g.set_xlabel('Annual CAM claims amount (SI) (CHF) ')\n",
    "g.set_ylabel('Age group')\n",
    "plt.savefig(results_folder/'figures_rapport/Avg_CAM_SI_by_age_group_cmap.png', dpi = 300, bbox_inches='tight')"
   ]
  },
  {
   "cell_type": "code",
   "execution_count": null,
   "id": "47",
   "metadata": {},
   "outputs": [],
   "source": [
    "fig, ax = plt.subplots(figsize = (8,8))\n",
    "\n",
    "g = sns.boxplot(data=df_treated_filtered, x=\"PRESTATIONS_BRUTES_AOS\",y = 'age_group', width=.6, palette=\"vlag\", showfliers=False, ax = ax)\n",
    "g.set_xlabel('Annual CM claims amount (MHI) (CHF) ')\n",
    "g.set_ylabel('Age group')\n",
    "plt.savefig(results_folder/'figures_rapport/Avg_CM_MHI_by_age_group_cmap.png', dpi = 300, bbox_inches='tight')"
   ]
  },
  {
   "cell_type": "code",
   "execution_count": null,
   "id": "48",
   "metadata": {},
   "outputs": [],
   "source": [
    "fig, ax = plt.subplots(figsize = (8,8))\n",
    "\n",
    "g = sns.barplot(data=df_treated_filtered, x=\"PRESTATIONS_BRUTES_CAM\",y = 'age_group', width=.6, palette=\"vlag\", ax = ax)\n",
    "g.set_xlabel('Annual CAM claims amount (MHI) (CHF) ')\n",
    "g.set_ylabel('Age group')\n",
    "plt.savefig(results_folder/'figures_rapport/Avg_CAM_MHI_by_age_group_cmap.png', dpi = 300, bbox_inches='tight')"
   ]
  },
  {
   "cell_type": "markdown",
   "id": "49",
   "metadata": {},
   "source": [
    "### Prop of minors by canton"
   ]
  },
  {
   "cell_type": "code",
   "execution_count": null,
   "id": "50",
   "metadata": {},
   "outputs": [],
   "source": [
    "dict_region_colors = {'German': '#55a868', 'French': '#4c72b0', 'Italian': '#c44e52', 'Mix': '#dd8452'}"
   ]
  },
  {
   "cell_type": "code",
   "execution_count": null,
   "id": "51",
   "metadata": {},
   "outputs": [],
   "source": [
    "df_treated_filtered['is_minor'] = df_treated_filtered['NBAGE'].apply(lambda x: 1 if x < 19 else 0)\n",
    "counts = df_treated_filtered.groupby('CANTON_NAME')['is_minor'].agg(['sum', 'count'])\n",
    "counts['proportion_of_minors'] =( counts['sum'] / counts['count']) *100\n",
    "counts['LANG_REGION'] = counts.index.map(canton_to_language).map(dict_region_colors)\n",
    "# Plotting the proportions\n",
    "plt.figure(figsize=(12,8))\n",
    "counts['proportion_of_minors'].sort_values().plot(kind='bar', color = 'grey')\n",
    "plt.ylabel('Percentage of age 0 to 18')\n",
    "plt.xlabel('Canton')\n",
    "\n",
    "# plt.title('Proportion of minors by canton')\n",
    "plt.savefig(results_folder/'figures_rapport/Perc_minors_by_canton.png', dpi = 300, bbox_inches='tight')"
   ]
  },
  {
   "cell_type": "markdown",
   "id": "52",
   "metadata": {},
   "source": [
    "### Avg age by canton"
   ]
  },
  {
   "cell_type": "code",
   "execution_count": null,
   "id": "53",
   "metadata": {},
   "outputs": [],
   "source": [
    "avg_age_by_canton = df_treated_filtered.groupby('CANTON_NAME')['NBAGE'].mean()\n",
    "rank = avg_age_by_canton.argsort().argsort()   # http://stackoverflow.com/a/6266510/1628638\n",
    "rank = rank.sort_values().index.tolist()\n",
    "pal = sns.color_palette(\"Greens\", len(avg_age_by_canton))\n",
    "fig, ax = plt.subplots(figsize = (8,8))\n",
    "sns.boxplot(data=df_treated_filtered, y=\"NBAGE\",x = 'CANTON_NAME',hue = 'lang_region',showfliers = False,dodge = False, order = rank, ax = ax)\n",
    "# ax.set_ylim(0,5000)\n",
    "plt.xticks(rotation = 90)\n",
    "sns.despine()\n",
    "plt.grid(axis = 'y')\n",
    "plt.xlabel('Cantons', fontsize=12)\n",
    "plt.ylabel('Average age', fontsize=12)\n",
    "plt.show()"
   ]
  },
  {
   "cell_type": "markdown",
   "id": "54",
   "metadata": {},
   "source": [
    "## Claims by franchise amount\n",
    "### For minors"
   ]
  },
  {
   "cell_type": "code",
   "execution_count": null,
   "id": "55",
   "metadata": {},
   "outputs": [],
   "source": [
    "avg_prestation_aos_by_franchise = df_treated_filtered[df_treated_filtered.NBAGE <= 18].groupby('MTFRANCHISECOUV')['PRESTATIONS_BRUTES_AOS'].mean()\n",
    "rank = avg_prestation_aos_by_franchise.argsort().argsort()   # http://stackoverflow.com/a/6266510/1628638\n",
    "rank = rank.sort_values().index.tolist()\n",
    "pal = sns.color_palette(\"Greens\", len(avg_prestation_aos_by_franchise))\n",
    "fig, ax = plt.subplots(figsize = (8,8))\n",
    "sns.boxplot(data=df_treated_filtered[df_treated_filtered.NBAGE <= 18], y=\"PRESTATIONS_BRUTES_AOS\",x = 'MTFRANCHISECOUV',color = '#4E79A7', showfliers = False,dodge = False, ax = ax)\n",
    "# ax.set_ylim(0,5000)\n",
    "plt.xticks(rotation = 90)\n",
    "sns.despine()\n",
    "plt.grid(axis = 'y')\n",
    "plt.ylabel('Annual CM claims amount (MHI) (CHF)', fontsize=12)\n",
    "plt.xlabel('Annual deductible amount (CHF)', fontsize=12)\n",
    "plt.savefig(results_folder/'figures_rapport/Avg_CM_MHI_by_franchise_minors.png', dpi = 300, bbox_inches='tight')"
   ]
  },
  {
   "cell_type": "markdown",
   "id": "56",
   "metadata": {},
   "source": [
    "### For adults"
   ]
  },
  {
   "cell_type": "code",
   "execution_count": null,
   "id": "57",
   "metadata": {},
   "outputs": [],
   "source": [
    "avg_prestation_aos_by_franchise = df_treated_filtered[df_treated_filtered.NBAGE > 18].groupby('MTFRANCHISECOUV')['PRESTATIONS_BRUTES_AOS'].mean()\n",
    "rank = avg_prestation_aos_by_franchise.argsort().argsort()   # http://stackoverflow.com/a/6266510/1628638\n",
    "rank = rank.sort_values().index.tolist()\n",
    "pal = sns.color_palette(\"Greens\", len(avg_prestation_aos_by_franchise))\n",
    "fig, ax = plt.subplots(figsize = (8,8))\n",
    "sns.boxplot(data=df_treated_filtered[df_treated_filtered.NBAGE > 18], y=\"PRESTATIONS_BRUTES_AOS\",x = 'MTFRANCHISECOUV',color = '#4E79A7',showfliers = False, dodge = False, ax = ax)\n",
    "# ax.set_ylim(0,5000)\n",
    "plt.xticks(rotation = 90)\n",
    "sns.despine()\n",
    "plt.grid(axis = 'y')\n",
    "plt.xlabel('Annual deductible amount (CHF)', fontsize=12)\n",
    "plt.ylabel('Annual CM claims amount (MHI) (CHF)', fontsize=12)\n",
    "# plt.title('')\n",
    "plt.savefig(results_folder/'figures_rapport/Avg_CM_MHI_by_franchise_adults.png', dpi = 300, bbox_inches='tight')"
   ]
  },
  {
   "cell_type": "code",
   "execution_count": null,
   "id": "58",
   "metadata": {},
   "outputs": [],
   "source": [
    "avg_prestation_aos_by_franchise = df_treated_filtered[df_treated_filtered.NBAGE > 18].groupby('MTFRANCHISECOUV')['PRESTATIONS_BRUTES_LCA'].mean()\n",
    "rank = avg_prestation_aos_by_franchise.argsort().argsort()   # http://stackoverflow.com/a/6266510/1628638\n",
    "rank = rank.sort_values().index.tolist()\n",
    "pal = sns.color_palette(\"Greens\", len(avg_prestation_aos_by_franchise))\n",
    "fig, ax = plt.subplots(figsize = (8,8))\n",
    "sns.barplot(data=df_treated_filtered[df_treated_filtered.NBAGE > 18], y=\"PRESTATIONS_BRUTES_LCA\",x = 'MTFRANCHISECOUV',color = '#F28E2B', dodge = False, ax = ax)\n",
    "# ax.set_ylim(0,5000)\n",
    "plt.xticks(rotation = 90)\n",
    "sns.despine()\n",
    "plt.grid(axis = 'y')\n",
    "plt.xlabel('Annual deductible amount (CHF)', fontsize=12)\n",
    "plt.ylabel('Annual CAM claims amount (SI) (CHF)', fontsize=12)\n",
    "# plt.title('')\n",
    "plt.savefig(results_folder/'figures_rapport/Avg_CAM_SI_by_franchise_adults.png', dpi = 300, bbox_inches='tight')"
   ]
  },
  {
   "cell_type": "markdown",
   "id": "59",
   "metadata": {},
   "source": [
    "## Claims by model type"
   ]
  },
  {
   "cell_type": "code",
   "execution_count": null,
   "id": "60",
   "metadata": {},
   "outputs": [],
   "source": [
    "avg_prestation_lca_by_model = df_treated_filtered.groupby('CAREMODEL')['PRESTATIONS_BRUTES_LCA'].mean()\n",
    "rank = avg_prestation_lca_by_model.argsort().argsort()   # http://stackoverflow.com/a/6266510/1628638\n",
    "rank = rank.sort_values().index.tolist()\n",
    "pal = sns.color_palette(\"Greens\", len(avg_prestation_lca_by_model))\n",
    "fig, ax = plt.subplots(figsize = (8,8))\n",
    "sns.boxplot(data=df_treated_filtered, y=\"PRESTATIONS_BRUTES_LCA\",x = 'CAREMODEL',showfliers = False, dodge = False, order = rank, ax = ax)\n",
    "# ax.set_ylim(0,5000)\n",
    "plt.xticks(rotation = 90)\n",
    "sns.despine()\n",
    "plt.xlabel('Healthcare Models', fontsize=12)\n",
    "plt.ylabel('Average gross amount (CHF) \\nof complementary health insurance claims', fontsize=12)\n",
    "plt.grid(axis = 'y')\n",
    "plt.show()"
   ]
  },
  {
   "cell_type": "code",
   "execution_count": null,
   "id": "61",
   "metadata": {},
   "outputs": [],
   "source": [
    "avg_prestation_aos_by_model = df_treated_filtered.groupby('CAREMODEL')['PRESTATIONS_BRUTES_AOS'].mean()\n",
    "rank = avg_prestation_aos_by_model.argsort().argsort()   # http://stackoverflow.com/a/6266510/1628638\n",
    "rank = rank.sort_values().index.tolist()\n",
    "pal = sns.color_palette(\"Greens\", len(avg_prestation_aos_by_model))\n",
    "fig, ax = plt.subplots(figsize = (8,8))\n",
    "sns.boxplot(data=df_treated_filtered, y=\"PRESTATIONS_BRUTES_LCA\",x = 'CAREMODEL',showfliers = False, dodge = False, order = rank, ax = ax)\n",
    "# ax.set_ylim(0,5000)\n",
    "plt.xticks(rotation = 90)\n",
    "sns.despine()\n",
    "plt.xlabel('Healthcare Models', fontsize=12)\n",
    "plt.ylabel('Average gross amount (CHF) \\nof mandatory health insurance claims', fontsize=12)\n",
    "plt.grid(axis = 'y')\n",
    "plt.show()"
   ]
  },
  {
   "cell_type": "code",
   "execution_count": null,
   "id": "62",
   "metadata": {},
   "outputs": [],
   "source": [
    "counts = df_treated_filtered.groupby('CAREMODEL')['is_minor'].agg(['sum', 'count'])\n",
    "counts['proportion_of_minors'] = counts['sum'] / counts['count']\n",
    "# counts['LANG_REGION'] = counts.index.map(canton_to_language).map(dict_region_colors)\n",
    "# Plotting the proportions\n",
    "plt.figure(figsize=(12,8))\n",
    "counts['proportion_of_minors'].sort_values().plot(kind='barh')\n",
    "plt.xlabel('Proportion of Minors')\n",
    "plt.ylabel('Healthcare model')\n",
    "plt.title('Proportion of Minors by Canton')\n",
    "plt.show()"
   ]
  },
  {
   "cell_type": "code",
   "execution_count": null,
   "id": "63",
   "metadata": {},
   "outputs": [],
   "source": [
    "test = df_treated_filtered.filter(regex = 'CARE|CANTON|LANG|PRESTATIONS')\n",
    "test = pd.crosstab(test['CANTON_NAME'], test['CAREMODEL'], normalize='index')\n",
    "test.sort_values('AH_STD').plot.bar(stacked=True, figsize = (8,8))"
   ]
  },
  {
   "cell_type": "code",
   "execution_count": null,
   "id": "64",
   "metadata": {},
   "outputs": [],
   "source": [
    "test = df_treated_filtered.filter(regex = 'CARE|CANTON|LANG|PRESTATIONS')\n",
    "test = pd.crosstab(test['CANTON_NAME'], test['CAREMODEL'])\n",
    "test.sort_values('AH_STD').plot.bar(stacked=True, figsize = (8,8))"
   ]
  },
  {
   "cell_type": "code",
   "execution_count": null,
   "id": "65",
   "metadata": {},
   "outputs": [],
   "source": [
    "test.sort_values('AH_STD').plot.bar(stacked=True, figsize = (8,8))"
   ]
  },
  {
   "cell_type": "markdown",
   "id": "66",
   "metadata": {},
   "source": [
    "## Quelles thérapies complémentaires sont les plus \"co-pratiquées\" par les thérapeutes"
   ]
  },
  {
   "cell_type": "code",
   "execution_count": null,
   "id": "67",
   "metadata": {},
   "outputs": [],
   "source": [
    "therapies_serie = df_dispensateurs_lca_exploded.groupby('ID_DISPENSATEUR').THERAPIES_SIMPLIFIED.apply(set)"
   ]
  },
  {
   "cell_type": "code",
   "execution_count": null,
   "id": "68",
   "metadata": {},
   "outputs": [],
   "source": [
    "node_weights = df_dispensateurs_lca_exploded['THERAPIES_SIMPLIFIED'].value_counts().to_dict()"
   ]
  },
  {
   "cell_type": "code",
   "execution_count": null,
   "id": "69",
   "metadata": {},
   "outputs": [],
   "source": [
    "import itertools\n",
    "from collections import Counter\n",
    "\n",
    "# Create an empty counter to store co-occurrences\n",
    "co_occurrences = Counter()\n",
    "\n",
    "# Loop through each set in the series\n",
    "for s in therapies_serie:\n",
    "    # Ignore None sets\n",
    "    if s is None:\n",
    "        continue\n",
    "\n",
    "    # Get all combinations of 2 elements from the set\n",
    "    combos = itertools.combinations(s, 2)\n",
    "    # Update the counter with the combinations\n",
    "    co_occurrences.update(combos)"
   ]
  },
  {
   "cell_type": "code",
   "execution_count": null,
   "id": "70",
   "metadata": {},
   "outputs": [],
   "source": [
    "df = pd.DataFrame(co_occurrences.items(), columns=['combo', 'count'])\n",
    "# Split the combo column into two columns\n",
    "df[['node1', 'node2']] = pd.DataFrame(df['combo'].tolist())\n",
    "\n",
    "# Drop the combo column\n",
    "df = df.drop('combo', axis=1)\n",
    "\n",
    "# Reset the index\n",
    "df = df.reset_index(drop=True)\n",
    "\n",
    "# Rename the columns\n",
    "df = df.rename(columns={'count': 'weight'})\n",
    "\n",
    "# Filter out rows where node1 or node2 is None\n",
    "df = df[df['node1'].notnull() & df['node2'].notnull()]\n"
   ]
  },
  {
   "cell_type": "markdown",
   "id": "71",
   "metadata": {},
   "source": [
    "### Full network"
   ]
  },
  {
   "cell_type": "code",
   "execution_count": null,
   "id": "72",
   "metadata": {},
   "outputs": [],
   "source": [
    "# scaler = MinMaxScaler()\n",
    "# df[['weight']] = scaler.fit_transform(df[['weight']])*5"
   ]
  },
  {
   "cell_type": "code",
   "execution_count": null,
   "id": "73",
   "metadata": {},
   "outputs": [],
   "source": [
    "# Create an empty graph\n",
    "G = nx.Graph()\n",
    "\n",
    "# Add nodes to the graph\n",
    "nodes = set(df['node1']).union(set(df['node2']))\n",
    "G.add_nodes_from(nodes)\n",
    "node_sizes = [node_weights[node] / 10 for node in G.nodes()]\n",
    "\n",
    "# Add edges to the graph\n",
    "edges = [(row['node1'], row['node2'], row['weight']) for _, row in df.iterrows()]\n",
    "G.add_weighted_edges_from(edges)\n",
    "\n",
    "# Define the layout\n",
    "pos = nx.spring_layout(G, k=5, iterations=50, weight = 'weight')\n",
    "# Plot the graph\n",
    "nx.draw(G, with_labels=True, font_size = 5, node_color='lightblue', width = df['weight']/10000, edge_color='gray', node_size=node_sizes)\n",
    "\n",
    "# Adjust plot limits to account for label spacing\n",
    "xmin, xmax, ymin, ymax = plt.axis()\n",
    "plt.axis([xmin - 0.1, xmax + 0.1, ymin - 0.1, ymax + 0.1])\n",
    "\n",
    "plt.show()"
   ]
  },
  {
   "cell_type": "markdown",
   "id": "74",
   "metadata": {},
   "source": [
    "### Identifying communities of therapies"
   ]
  },
  {
   "cell_type": "code",
   "execution_count": null,
   "id": "75",
   "metadata": {},
   "outputs": [],
   "source": [
    "import networkx.algorithms.community as nxcom"
   ]
  },
  {
   "cell_type": "code",
   "execution_count": null,
   "id": "76",
   "metadata": {},
   "outputs": [],
   "source": [
    "communities = nxcom.greedy_modularity_communities(G, weight = 'weight')"
   ]
  },
  {
   "cell_type": "markdown",
   "id": "77",
   "metadata": {},
   "source": [
    "I used the Louvain method for community detection, which is a widely used and fast algorithm for community detection in large networks. The Louvain method works by optimizing a modularity function that measures the strength of division of a network into communities.\n",
    "\n",
    "In terms of parameters, I used the default parameters for the `greedy_modularity_communities` function, which are `weight=None` and `resolution=1.0`. The weight parameter allows you to specify an edge attribute to use as the weight for the modularity calculation, while the resolution parameter controls the size of the communities (higher resolution leads to smaller communities). Since our network has edge weights, I used the weight column values. And since we don't have any prior knowledge about the optimal community size, I left resolution as the default value of 1.0.\n",
    "\n",
    "In general, the choice of parameters for community detection depends on the specific characteristics of the network and the goals of the analysis. For example, if you have a very large network, you might want to use a more scalable algorithm that can handle large amounts of data. Alternatively, if you have prior knowledge about the community structure of your network, you might want to use an algorithm that can incorporate that information into the analysis. Additionally, you may want to experiment with different values of the resolution parameter to see how it affects the number and size of the communities detected."
   ]
  },
  {
   "cell_type": "code",
   "execution_count": null,
   "id": "78",
   "metadata": {},
   "outputs": [],
   "source": [
    "# Print the number of communities\n",
    "print(f\"Number of communities: {len(communities)}\")\n",
    "\n",
    "# Color the nodes based on community\n",
    "color_map = {}\n",
    "for i, comm in enumerate(communities):\n",
    "    for node in comm:\n",
    "        color_map[node] = i"
   ]
  },
  {
   "cell_type": "code",
   "execution_count": null,
   "id": "79",
   "metadata": {},
   "outputs": [],
   "source": [
    "def set_node_community(G, communities):\n",
    "    '''Add community to node attributes'''\n",
    "    for c, v_c in enumerate(communities):\n",
    "        for v in v_c:\n",
    "            # Add 1 to save 0 for external edges\n",
    "            G.nodes[v]['community'] = c + 1\n",
    "def set_edge_community(G):\n",
    "    '''Find internal edges and add their community to their attributes'''\n",
    "    for v, w, in G.edges:\n",
    "        if G.nodes[v]['community'] == G.nodes[w]['community']:\n",
    "            # Internal edge, mark with community\n",
    "            G.edges[v, w]['community'] = G.nodes[v]['community']\n",
    "        else:\n",
    "            # External edge, mark as 0\n",
    "            G.edges[v, w]['community'] = 0\n",
    "def get_color(i, r_off=1, g_off=1, b_off=1):\n",
    "    '''Assign a color to a vertex.'''\n",
    "    r0, g0, b0 = 0, 0, 0\n",
    "    n = 16\n",
    "    low, high = 0.1, 0.9\n",
    "    span = high - low\n",
    "    r = low + span * (((i + r_off) * 3) % n) / (n - 1)\n",
    "    g = low + span * (((i + g_off) * 5) % n) / (n - 1)\n",
    "    b = low + span * (((i + b_off) * 7) % n) / (n - 1)\n",
    "    return (r, g, b)"
   ]
  },
  {
   "cell_type": "markdown",
   "id": "80",
   "metadata": {},
   "source": [
    "Found a cool blog post : https://graphsandnetworks.com/community-detection-using-networkx/"
   ]
  },
  {
   "cell_type": "code",
   "execution_count": null,
   "id": "81",
   "metadata": {},
   "outputs": [],
   "source": [
    "from pyvis.network import Network"
   ]
  },
  {
   "cell_type": "code",
   "execution_count": null,
   "id": "82",
   "metadata": {},
   "outputs": [],
   "source": [
    "plt.rcParams.update(plt.rcParamsDefault)\n",
    "plt.rcParams.update({'figure.figsize': (15, 10)})\n",
    "# Color the nodes based on community\n",
    "color_map = {}\n",
    "for i, comm in enumerate(communities):\n",
    "    for node in comm:\n",
    "        color_map[node] = i\n",
    "# Set node and edge communities\n",
    "set_node_community(G, communities)\n",
    "set_edge_community(G)\n",
    "node_color = [get_color(G.nodes[v]['community']) for v in G.nodes]\n",
    "\n",
    "node_sizes = [node_weights[node] / 20 for node in G.nodes()]\n",
    "\n",
    "pos = nx.spring_layout(G, k=5, iterations=100, weight = 'weight')\n",
    "nx.draw(G, pos, with_labels=True, font_size = 4, edge_color=\"#444444\", node_color=node_color, width=df['weight']/4000,alpha=0.5, node_size=node_sizes)\n",
    "\n",
    "# Add labels to the edges\n",
    "# labels = nx.get_edge_attributes(G, 'weight')\n",
    "# nx.draw_networkx_edge_labels(G, pos, edge_labels=labels, font_size=8)\n",
    "\n",
    "\n",
    "# Add a legend for the communities\n",
    "handles = []\n",
    "labels = []\n",
    "# fig, ax = plt.subplots(figsize=(8, 8))\n",
    "# for i, community in enumerate(communities):\n",
    "#     plt.plot([], [], color=color_map_patches[i], label=f\"Community {i}\")\n",
    "# plt.legend(scatterpoints=1, frameon=True, labelspacing=0.5, title='Communities')\n",
    "# ax.set_axis_off()\n",
    "for i, community in enumerate(communities):\n",
    "    handles.append(plt.Line2D([], [], linewidth=0, marker='o', color=list(set(node_color))[i]))\n",
    "    labels.append(f'Community {i+1}')\n",
    "plt.legend(handles, labels, loc='upper right',fontsize = 10, labelspacing=0.5, title='Communities')\n",
    "\n",
    "# Adjust plot limits to account for label spacing\n",
    "xmin, xmax, ymin, ymax = plt.axis()\n",
    "plt.axis([xmin - 0.1, xmax + 0.1, ymin - 0.1, ymax + 0.1])\n",
    "\n",
    "# Save the network to PDF\n",
    "plt.savefig(output_folder/'Network analyses/Therapies - White.pdf', format='pdf')\n",
    "\n",
    "plt.show()"
   ]
  },
  {
   "cell_type": "code",
   "execution_count": null,
   "id": "83",
   "metadata": {},
   "outputs": [],
   "source": [
    "plt.rcParams.update(plt.rcParamsDefault)\n",
    "plt.rcParams.update({'figure.figsize': (19.20,10.80)})\n",
    "plt.style.use('dark_background')\n",
    "\n",
    "# Set community color for internal edges\n",
    "external = [(v, w) for v, w in G.edges if G.edges[v, w]['community'] == 0]\n",
    "internal = [(v, w) for v, w in G.edges if G.edges[v, w]['community'] > 0]\n",
    "internal_color = [\"red\" for e in internal]\n",
    "node_color = [get_color(G.nodes[v]['community']) for v in G.nodes]\n",
    "# external edges\n",
    "nx.draw_networkx(\n",
    "    G,\n",
    "    pos=pos,\n",
    "    node_size=0,\n",
    "    edgelist=external,\n",
    "    edge_color=\"green\",\n",
    "    node_color=node_color,\n",
    "    alpha=0.4,\n",
    "    width = df['weight']/4000,\n",
    "    with_labels=False)\n",
    "# internal edges\n",
    "nx.draw_networkx(\n",
    "    G, pos=pos,\n",
    "    node_size=node_sizes,\n",
    "    edgelist=internal,\n",
    "    edge_color=internal_color,\n",
    "    node_color=node_color,\n",
    "    alpha=0.4,\n",
    "    width = df['weight']/4000,\n",
    "    with_labels=False)\n",
    "# Add a legend for the communities\n",
    "handles = []\n",
    "labels = []\n",
    "for i, community in enumerate(communities):\n",
    "    handles.append(plt.Line2D([], [], linewidth=0, marker='o', color=list(set(node_color))[i]))\n",
    "    labels.append(f'Community {i+1}')\n",
    "# plt.legend(handles, labels, loc='upper right',fontsize = 6, labelspacing=0.5, title='Communities')\n",
    "\n",
    "# Adjust plot limits to account for label spacing\n",
    "xmin, xmax, ymin, ymax = plt.axis()\n",
    "plt.axis([xmin - 0.1, xmax + 0.1, ymin - 0.1, ymax + 0.1])\n",
    "plt.savefig(output_folder/'Network analyses/Therapies - Dark.png', format='png', dpi = 360)\n",
    "plt.show()\n"
   ]
  },
  {
   "cell_type": "markdown",
   "id": "84",
   "metadata": {},
   "source": [
    "### K-CORES\n",
    "\n",
    "A k-core of a graph G is a maximal connected subgraph of G in which all vertices have degree at least k. Equivalently, it is one of the connected components of the subgraph of G formed by repeatedly deleting all vertices of degree less than k. If a non-empty k-core exists, then, clearly, G has degeneracy at least k, and the degeneracy of G is the largest k for which G has a k-core.\n",
    "\n"
   ]
  },
  {
   "cell_type": "code",
   "execution_count": null,
   "id": "85",
   "metadata": {},
   "outputs": [],
   "source": [
    "# cores with at lest degree \n",
    "G_core_30 = nx.k_core(G, 5)\n",
    "# similarly, with at least degree 10\n",
    "G_core_60 = nx.k_core(G, 10)\n",
    "# Visualize network and k-cores\n",
    "plt.rcParams.update(plt.rcParamsDefault)\n",
    "plt.rcParams.update({'figure.figsize': (15, 10)})\n",
    "plt.style.use('dark_background')\n",
    "pos = nx.spring_layout(G, k=0.1)\n",
    "nx.draw_networkx(\n",
    "    G, pos=pos, node_size=node_sizes, edge_color=\"#333333\", width = df['weight']/4000, alpha=0.2, with_labels=False)\n",
    "nx.draw_networkx(\n",
    "    G_core_30, pos=pos, node_size=0, edge_color=\"green\",width = df['weight']/2000, alpha=0.2, with_labels=False)\n",
    "nx.draw_networkx(\n",
    "    G_core_60, pos=pos, node_size=0, edge_color=\"red\",width = df['weight']/2000, alpha=0.2, with_labels=False)\n",
    "plt.show()"
   ]
  },
  {
   "cell_type": "markdown",
   "id": "86",
   "metadata": {},
   "source": [
    "### GIRVAN-NEWMAN COMMUNITY DETECTION\n",
    "The Girvan–Newman algorithm detects communities by progressively removing edges from the original network. The connected components of the remaining network are the communities. Instead of trying to construct a measure that tells us which edges are the most central to communities, the Girvan–Newman algorithm focuses on edges that are most likely “between” communities.\n",
    "\n"
   ]
  },
  {
   "cell_type": "code",
   "execution_count": null,
   "id": "87",
   "metadata": {},
   "outputs": [],
   "source": [
    "result = nxcom.girvan_newman(G)\n",
    "communities = next(result)\n",
    "len(communities)"
   ]
  },
  {
   "cell_type": "code",
   "execution_count": null,
   "id": "88",
   "metadata": {},
   "outputs": [],
   "source": [
    "plt.rcParams.update(plt.rcParamsDefault)\n",
    "plt.rcParams.update({'figure.figsize': (15, 10)})\n",
    "# Set node and edge communities\n",
    "set_node_community(G, communities)\n",
    "set_edge_community(G)\n",
    "# Set community color for nodes\n",
    "node_color = [get_color(G.nodes[v]['community']) for v in G.nodes]\n",
    "# Set community color for internal edges\n",
    "external = [(v, w) for v, w in G.edges if G.edges[v, w]['community'] == 0]\n",
    "internal = [(v, w) for v, w in G.edges if G.edges[v, w]['community'] > 0]\n",
    "internal_color = [get_color(G.edges[e]['community']) for e in internal]\n",
    "pos = nx.spring_layout(G)\n",
    "# Draw external edges\n",
    "nx.draw_networkx(\n",
    "    G, pos=pos, node_size=0,\n",
    "    edgelist=external, edge_color=\"#333333\", with_labels=False)\n",
    "# Draw nodes and internal edges\n",
    "nx.draw_networkx(\n",
    "    G, pos=pos, node_color=node_color,\n",
    "    edgelist=internal, edge_color=internal_color)\n",
    "plt.show()"
   ]
  },
  {
   "cell_type": "markdown",
   "id": "89",
   "metadata": {},
   "source": [
    "Having only two communities is not particularly helpful, especially when visualizing them... We can discard this method"
   ]
  },
  {
   "cell_type": "markdown",
   "id": "90",
   "metadata": {},
   "source": [
    "### CLIQUES\n",
    "A clique is a subset of vertices of an undirected graph such that every two distinct vertices in the clique are adjacent; that is, its induced subgraph is complete. Cliques are in a way tight communities where every nodes is connected to every other."
   ]
  },
  {
   "cell_type": "code",
   "execution_count": null,
   "id": "91",
   "metadata": {},
   "outputs": [],
   "source": [
    "plt.rcParams.update(plt.rcParamsDefault)\n",
    "plt.rcParams.update({'figure.figsize': (15, 10)})\n",
    "cliques = list(nx.find_cliques(G))\n",
    "max_clique = max(cliques, key=len)\n",
    "node_color = [(0.5, 0.3, 0.5) for v in G.nodes()]\n",
    "for i, v in enumerate(G.nodes()):\n",
    "    if v in max_clique:\n",
    "        node_color[i] = (0.5, 0.5, 0.9)\n",
    "nx.draw_networkx(G, node_color=node_color,edge_color=\"silver\", width = df['weight']/4000, pos=pos, node_size = node_sizes, alpha = 0.3, with_labels = False)\n",
    "plt.show()"
   ]
  },
  {
   "cell_type": "markdown",
   "id": "92",
   "metadata": {},
   "source": [
    "### Network of 100 most central nodes"
   ]
  },
  {
   "cell_type": "code",
   "execution_count": null,
   "id": "93",
   "metadata": {},
   "outputs": [],
   "source": [
    "def network_more_stats(g):\n",
    "    # Compute various network metrics\n",
    "    bb = nx.betweenness_centrality(g)\n",
    "    dc = nx.degree_centrality(g)\n",
    "    cc = nx.closeness_centrality(g)\n",
    "    clc = nx.clustering(g)\n",
    "    ec = nx.eigenvector_centrality(g, max_iter=1000, tol=1e-06, nstart=None, weight=None)\n",
    "    \n",
    "    # Set node attributes\n",
    "    nx.set_node_attributes(g, bb, 'betweenness')\n",
    "    nx.set_node_attributes(g, dc, 'degree_centrality')\n",
    "    nx.set_node_attributes(g, cc, 'closeness')\n",
    "    nx.set_node_attributes(g, clc, 'clustering')\n",
    "    nx.set_node_attributes(g, ec, 'eigenvector')\n",
    "    \n",
    "    # Create a DataFrame to store the metrics\n",
    "    metrics_df = pd.DataFrame({\n",
    "        'Node': list(g.nodes()),\n",
    "        'Betweenness': [bb[node] for node in g.nodes()],\n",
    "        'Degree Centrality': [dc[node] for node in g.nodes()],\n",
    "        'Closeness': [cc[node] for node in g.nodes()],\n",
    "        'Clustering': [clc[node] for node in g.nodes()],\n",
    "        'Eigenvector': [ec[node] for node in g.nodes()]\n",
    "    })\n",
    "    return g, metrics_df\n"
   ]
  },
  {
   "cell_type": "code",
   "execution_count": null,
   "id": "94",
   "metadata": {},
   "outputs": [],
   "source": [
    "degrees = [(node,deg) for (node, deg) in G.degree()]\n",
    "degrees_sorted = sorted(degrees, key=lambda x: x[1], reverse=True)\n",
    "pd.DataFrame(degrees_sorted,columns = ['Thérapie','degree']).plot(marker = '.',logy = False,logx = False)\n",
    "plt.grid()\n",
    "plt.show()"
   ]
  },
  {
   "cell_type": "code",
   "execution_count": null,
   "id": "95",
   "metadata": {},
   "outputs": [],
   "source": [
    "G, df_G_metrics = network_more_stats(G)"
   ]
  },
  {
   "cell_type": "code",
   "execution_count": null,
   "id": "96",
   "metadata": {},
   "outputs": [],
   "source": [
    "k = 150\n",
    "node_sel = [n for (n, deg) in degrees_sorted[:k]]\n",
    "node_deg = [deg for (n, deg) in degrees_sorted[:k]]\n",
    "G2 = G.subgraph(node_sel).copy() #Returns a subgraph of the 500 most mentioned people\n",
    "# compute network \"core\"\n",
    "G3 = nx.k_core(G2, k=2)"
   ]
  },
  {
   "cell_type": "code",
   "execution_count": null,
   "id": "97",
   "metadata": {},
   "outputs": [],
   "source": [
    "# Define the layout\n",
    "pos = nx.spring_layout(G2, k=0.1, iterations=50, weight = 'weight')\n",
    "# Plot the graph\n",
    "nx.draw(G2, with_labels=True, font_size = 5, node_color='lightblue', width = df['weight']/4000, edge_color='gray', node_size=100)\n",
    "\n",
    "# Adjust plot limits to account for label spacing\n",
    "xmin, xmax, ymin, ymax = plt.axis()\n",
    "plt.axis([xmin - 0.1, xmax + 0.1, ymin - 0.1, ymax + 0.1])\n",
    "\n",
    "plt.show()"
   ]
  },
  {
   "cell_type": "code",
   "execution_count": null,
   "id": "98",
   "metadata": {},
   "outputs": [],
   "source": [
    "communities = nxcom.greedy_modularity_communities(G2, weight = 'weight')"
   ]
  },
  {
   "cell_type": "code",
   "execution_count": null,
   "id": "99",
   "metadata": {},
   "outputs": [],
   "source": [
    "plt.rcParams.update(plt.rcParamsDefault)\n",
    "plt.rcParams.update({'figure.figsize': (15, 10)})\n",
    "# Color the nodes based on community\n",
    "color_map = {}\n",
    "for i, comm in enumerate(communities):\n",
    "    for node in comm:\n",
    "        color_map[node] = i\n",
    "# Set node and edge communities\n",
    "set_node_community(G2, communities)\n",
    "set_edge_community(G2)\n",
    "node_color = [get_color(G2.nodes[v]['community']) for v in G2.nodes]\n",
    "\n",
    "node_sizes = [node_weights[node] / 20 for node in G2.nodes()]\n",
    "\n",
    "pos = nx.spring_layout(G2, k=0.4, iterations=50, weight = 'weight')\n",
    "# pos = nx.nx_agraph.graphviz_layout(G2)\n",
    "nx.draw(G2, pos, with_labels=True, font_size = 6, edge_color=\"#444444\", node_color=node_color, width=df['weight']/4000,alpha=0.5, node_size=node_sizes)\n",
    "\n",
    "# Add labels to the edges\n",
    "# labels = nx.get_edge_attributes(G, 'weight')\n",
    "# nx.draw_networkx_edge_labels(G, pos, edge_labels=labels, font_size=8)\n",
    "\n",
    "\n",
    "# Add a legend for the communities\n",
    "handles = []\n",
    "labels = []\n",
    "# fig, ax = plt.subplots(figsize=(8, 8))\n",
    "# for i, community in enumerate(communities):\n",
    "#     plt.plot([], [], color=color_map_patches[i], label=f\"Community {i}\")\n",
    "# plt.legend(scatterpoints=1, frameon=True, labelspacing=0.5, title='Communities')\n",
    "# ax.set_axis_off()\n",
    "for i, community in enumerate(communities):\n",
    "    handles.append(plt.Line2D([], [], linewidth=0, marker='o', color=list(set(node_color))[i]))\n",
    "    labels.append(f'Community {i+1}')\n",
    "plt.legend(handles, labels, loc='upper right',fontsize = 6, labelspacing=0.5, title='Communities')\n",
    "\n",
    "# Adjust plot limits to account for label spacing\n",
    "xmin, xmax, ymin, ymax = plt.axis()\n",
    "plt.axis([xmin - 0.1, xmax + 0.1, ymin - 0.1, ymax + 0.1])\n",
    "\n",
    "# Save the network to PDF\n",
    "plt.savefig(output_folder/'Network analyses/Therapies - Top 100 - White.pdf', format='pdf')\n",
    "\n",
    "plt.show()"
   ]
  },
  {
   "cell_type": "code",
   "execution_count": null,
   "id": "100",
   "metadata": {},
   "outputs": [],
   "source": [
    "plt.rcParams.update(plt.rcParamsDefault)\n",
    "plt.rcParams.update({'figure.figsize': (15, 10)})\n",
    "plt.style.use('dark_background')\n",
    "\n",
    "# Set community color for internal edges\n",
    "external = [(v, w) for v, w in G2.edges if G2.edges[v, w]['community'] == 0]\n",
    "internal = [(v, w) for v, w in G2.edges if G2.edges[v, w]['community'] > 0]\n",
    "internal_color = [\"red\" for e in internal]\n",
    "node_color = [get_color(G2.nodes[v]['community']) for v in G2.nodes]\n",
    "# external edges\n",
    "nx.draw_networkx(\n",
    "    G2,\n",
    "    pos=pos,\n",
    "    node_size=0,\n",
    "    edgelist=external,\n",
    "    edge_color=\"green\",\n",
    "    node_color=node_color,\n",
    "    alpha=0.2,\n",
    "    with_labels=False)\n",
    "# internal edges\n",
    "nx.draw_networkx(\n",
    "    G2, pos=pos,\n",
    "    node_size=node_sizes,\n",
    "    edgelist=internal,\n",
    "    edge_color=internal_color,\n",
    "    node_color=node_color,\n",
    "    alpha=0.2,\n",
    "    with_labels=False)\n",
    "# Add a legend for the communities\n",
    "handles = []\n",
    "labels = []\n",
    "for i, community in enumerate(communities):\n",
    "    handles.append(plt.Line2D([], [], linewidth=0, marker='o', color=list(set(node_color))[i]))\n",
    "    labels.append(f'Community {i+1}')\n",
    "plt.legend(handles, labels, loc='upper right',fontsize = 6, labelspacing=0.5, title='Communities')\n",
    "\n",
    "# Adjust plot limits to account for label spacing\n",
    "xmin, xmax, ymin, ymax = plt.axis()\n",
    "plt.axis([xmin - 0.1, xmax + 0.1, ymin - 0.1, ymax + 0.1])\n",
    "plt.savefig(output_folder/'Network analyses/Therapies - Top 100 - Dark.pdf', format='pdf')\n",
    "\n",
    "plt.show()\n"
   ]
  },
  {
   "cell_type": "code",
   "execution_count": null,
   "id": "101",
   "metadata": {},
   "outputs": [],
   "source": [
    "plt.rcParams.update(plt.rcParamsDefault)\n",
    "plt.rcParams.update({'figure.figsize': (15, 10)})\n",
    "cliques = list(nx.find_cliques(G2))\n",
    "max_clique = max(cliques, key=len)\n",
    "node_color = [(0.5, 0.3, 0.5) for v in G2.nodes()]\n",
    "for i, v in enumerate(G2.nodes()):\n",
    "    if v in max_clique:\n",
    "        node_color[i] = (0.5, 0.5, 0.9)\n",
    "nx.draw_networkx(G2, node_color=node_color, font_size = 6, edge_color=\"silver\", width = df['weight']/4000, pos=pos, node_size = node_sizes, alpha = 0.3, with_labels = True)\n",
    "plt.savefig(output_folder/'Network analyses/Therapies - Top 100 - Cliques.pdf', format = 'pdf', bbox_inches = 'tight')\n",
    "plt.show()"
   ]
  },
  {
   "cell_type": "code",
   "execution_count": null,
   "id": "102",
   "metadata": {},
   "outputs": [],
   "source": [
    "# create the network visualization\n",
    "net = Network(width='800px', height='800px')\n",
    "net.from_nx(G2)\n",
    "net.show_buttons()\n",
    "\n",
    "# export the visualization to HTML\n",
    "net.show(output_folder/'EDA/Interactive - Top 100.html')"
   ]
  },
  {
   "cell_type": "markdown",
   "id": "103",
   "metadata": {},
   "source": [
    "#### Insights\n",
    "\n",
    "- Communities exist\n",
    "- The identified communities make sense in the context of practice\n",
    "- ..."
   ]
  },
  {
   "cell_type": "markdown",
   "id": "104",
   "metadata": {},
   "source": [
    "## Quels thérapeutes se ressemblent le plus en terme de pratique, observe-t-on des cliques/communautés?"
   ]
  },
  {
   "cell_type": "markdown",
   "id": "105",
   "metadata": {},
   "source": [
    "## Is there any community of patients using similar complementary medicine?"
   ]
  },
  {
   "cell_type": "code",
   "execution_count": null,
   "id": "106",
   "metadata": {},
   "outputs": [],
   "source": [
    "from utils import optimize_memory_df, feature_map, show_values, sizeof_fmt, find_intersection, read_data\n",
    "from pathlib import Path\n",
    "%matplotlib inline\n",
    "# Define base data folder\n",
    "data_folder  = Path('../Data/')\n",
    "# Define base result folder\n",
    "result_folder = Path('../Results')"
   ]
  },
  {
   "cell_type": "code",
   "execution_count": null,
   "id": "107",
   "metadata": {},
   "outputs": [],
   "source": [
    "df_prestation_lca = read_data(data_folder/'/processed/df_prestation_lca_processed.parquet_gzip')"
   ]
  },
  {
   "cell_type": "code",
   "execution_count": null,
   "id": "108",
   "metadata": {},
   "outputs": [],
   "source": [
    "df_prestation_lca = df_prestation_lca[df_prestation_lca.medcomp_status == 'Clear']"
   ]
  },
  {
   "cell_type": "code",
   "execution_count": null,
   "id": "109",
   "metadata": {},
   "outputs": [],
   "source": [
    "df_n_therapies_by_patient = df_prestation_lca.groupby('uuid').n_therapies.apply(set).apply(sum).sort_values()"
   ]
  },
  {
   "cell_type": "code",
   "execution_count": null,
   "id": "110",
   "metadata": {},
   "outputs": [],
   "source": [
    "df_prestation_lca_restricted = df_prestation_lca[df_prestation_lca.n_therapies == 1]"
   ]
  },
  {
   "cell_type": "code",
   "execution_count": null,
   "id": "111",
   "metadata": {},
   "outputs": [],
   "source": [
    "df_prestation_lca_restricted['DISCIPLINES_SIMPLIFIED_SET'] = df_prestation_lca_restricted.DISCIPLINES_SIMPLIFIED_SET.apply(lambda x: x[0])\n",
    "df_prestation_lca_restricted['THERAPIES_SIMPLIFIED_SET'] = df_prestation_lca_restricted.THERAPIES_SIMPLIFIED_SET.apply(lambda x: x[0])"
   ]
  },
  {
   "cell_type": "code",
   "execution_count": null,
   "id": "112",
   "metadata": {},
   "outputs": [],
   "source": [
    "df_amount_by_uuid = df_prestation_lca_restricted.groupby('uuid', observed = True)['PRESTATIONS_BRUTES'].sum().to_dict()"
   ]
  },
  {
   "cell_type": "code",
   "execution_count": null,
   "id": "113",
   "metadata": {},
   "outputs": [],
   "source": [
    "df_patient_lca_similarity = pd.DataFrame(df_prestation_lca_restricted.groupby('uuid',observed=True)['THERAPIES_SIMPLIFIED_SET'].apply(set)).reset_index()"
   ]
  },
  {
   "cell_type": "code",
   "execution_count": null,
   "id": "114",
   "metadata": {},
   "outputs": [],
   "source": [
    "df_patient_lca_similarity['n_therapies'] = df_patient_lca_similarity['THERAPIES_SIMPLIFIED_SET'].apply(len)"
   ]
  },
  {
   "cell_type": "code",
   "execution_count": null,
   "id": "115",
   "metadata": {},
   "outputs": [],
   "source": [
    "df_patient_lca_similarity_3plus = df_patient_lca_similarity[df_patient_lca_similarity.n_therapies>2]"
   ]
  },
  {
   "cell_type": "code",
   "execution_count": null,
   "id": "116",
   "metadata": {},
   "outputs": [],
   "source": [
    "df_uuid = df_patient_lca_similarity_3plus.uuid.unique()"
   ]
  },
  {
   "cell_type": "code",
   "execution_count": null,
   "id": "117",
   "metadata": {},
   "outputs": [],
   "source": [
    "from itertools import combinations\n",
    "\n",
    "# Define Jaccard similarity function\n",
    "def jaccard_similarity(set1, set2):\n",
    "    intersection = len(set1.intersection(set2))\n",
    "    union = len(set1.union(set2))\n",
    "    return intersection / union"
   ]
  },
  {
   "cell_type": "code",
   "execution_count": null,
   "id": "118",
   "metadata": {},
   "outputs": [],
   "source": [
    "df_patient_lca_similarity_3plus['THERAPIES_SIMPLIFIED_SET_TEST'] = df_patient_lca_similarity_3plus['THERAPIES_SIMPLIFIED_SET'].apply(lambda x: set(i.replace(' ','') for i in x))"
   ]
  },
  {
   "cell_type": "code",
   "execution_count": null,
   "id": "119",
   "metadata": {},
   "outputs": [],
   "source": [
    "from sklearn.feature_extraction.text import CountVectorizer\n",
    "from sklearn.metrics import pairwise_distances\n",
    "\n",
    "# Sort elements of the sets\n",
    "# df_patient_lca_similarity_3plus['THERAPIES_SIMPLIFIED_SET'] = df_patient_lca_similarity_3plus['THERAPIES_SIMPLIFIED_SET'].apply(lambda x: sorted(x))\n",
    "\n",
    "# Convert the set into string format which will be treated as \"documents\" for Count Vectorizer\n",
    "df_patient_lca_similarity_3plus['THERAPIES_SIMPLIFIED_STRING'] = df_patient_lca_similarity_3plus['THERAPIES_SIMPLIFIED_SET_TEST'].apply(lambda x: ' '.join(x))\n",
    "\n",
    "# Use Count Vectorizer to create a matrix representation\n",
    "vectorizer = CountVectorizer(tokenizer=lambda x: x.split(), binary=True)\n",
    "matrix = vectorizer.fit_transform(df_patient_lca_similarity_3plus['THERAPIES_SIMPLIFIED_STRING']).astype('bool')\n",
    "\n",
    "# Define a function to compute Jaccard similarity in chunks\n",
    "def compute_jaccard_in_chunks(matrix, chunk_size=500):\n",
    "    n_rows = matrix.shape[0]\n",
    "    jaccard_similarity_matrix = np.zeros((n_rows, n_rows))\n",
    "    \n",
    "    for i in range(0, n_rows, chunk_size):\n",
    "        end_i = min(i + chunk_size, n_rows)\n",
    "        chunk = matrix[i:end_i].toarray()  # Convert only the current chunk to dense\n",
    "        \n",
    "        for j in range(0, n_rows, chunk_size):\n",
    "            end_j = min(j + chunk_size, n_rows)\n",
    "            distances = pairwise_distances(chunk, matrix[j:end_j].toarray(), metric='jaccard')\n",
    "            jaccard_similarity_matrix[i:end_i, j:end_j] = 1 - distances\n",
    "\n",
    "    return jaccard_similarity_matrix\n",
    "\n",
    "# Calculate the Jaccard similarity\n",
    "jaccard_similarity = compute_jaccard_in_chunks(matrix)"
   ]
  },
  {
   "cell_type": "code",
   "execution_count": null,
   "id": "120",
   "metadata": {},
   "outputs": [],
   "source": [
    "# df_patient_lca_similarity_3plus = df_patient_lca_similarity_3plus.set_index('uuid')\n",
    "\n",
    "# jaccard_df_similarity_3plus = pd.DataFrame()\n",
    "# # Compute the Jaccard index for all combinations\n",
    "# for row1, row2 in combinations(df_patient_lca_similarity_3plus.index, 2):\n",
    "#     set1 = df_patient_lca_similarity_3plus.loc[row1, 'THERAPIES_SIMPLIFIED_SET']\n",
    "#     set2 = df_patient_lca_similarity_3plus.loc[row2, 'THERAPIES_SIMPLIFIED_SET']\n",
    "#     intersection = len(set1 & set2)\n",
    "#     union = len(set1 | set2)\n",
    "#     jaccard_index = intersection / union\n",
    "    \n",
    "#     # Fill the DataFrame\n",
    "#     jaccard_df_similarity_3plus.loc[row1, row2] = jaccard_index\n",
    "#     jaccard_df_similarity_3plus.loc[row2, row1] = jaccard_index\n",
    "\n",
    "# # Fill diagonal with 1s, as they are identical\n",
    "# for row in df.index:\n",
    "#     jaccard_df_similarity_3plus.loc[row, row] = 1.0"
   ]
  },
  {
   "cell_type": "code",
   "execution_count": null,
   "id": "121",
   "metadata": {},
   "outputs": [],
   "source": [
    "# melted_jaccard_df_3plus = pd.melt(jaccard_df_similarity_3plus.reset_index(), id_vars=\"index\", var_name=\"Method_2\", value_name=\"jaccard_index\")\n",
    "\n",
    "# melted_jaccard_df = melted_jaccard_df[melted_jaccard_df.jaccard_index.isnull()==False]\n",
    "\n",
    "# melted_jaccard_df.columns = ['cat_dispensateur_A','cat_dispensateur_B', 'jaccard_index']\n",
    "\n",
    "\n",
    "# melted_jaccard_df['cat_dispensateur_A'] = melted_jaccard_df.apply(lambda x: x.cat_dispensateur_B if x.cat_dispensateur_A > x.cat_dispensateur_B else x.cat_dispensateur_A ,axis =1)\n",
    "# melted_jaccard_df['cat_dispensateur_B'] = melted_jaccard_df.apply(lambda x: x.cat_dispensateur_A if x.cat_dispensateur_A > x.cat_dispensateur_B else x.cat_dispensateur_B ,axis =1)\n",
    "\n",
    "# melted_jaccard_df['set_cat'] = melted_jaccard_df[['cat_dispensateur_A','cat_dispensateur_B']].apply(set, axis = 1)\n",
    "\n",
    "# melted_jaccard_df = melted_jaccard_df.drop_duplicates('set_cat')\n",
    "\n",
    "# melted_jaccard_df['len_set'] = melted_jaccard_df['set_cat'].apply(len)\n",
    "\n",
    "# melted_jaccard_df = melted_jaccard_df[melted_jaccard_df.len_set != 1]\n",
    "\n",
    "# # melted_jaccard_df = melted_jaccard_df[melted_jaccard_df.jaccard_index > 0.05]"
   ]
  },
  {
   "cell_type": "code",
   "execution_count": null,
   "id": "122",
   "metadata": {},
   "outputs": [],
   "source": [
    "uuids = df_patient_lca_similarity_3plus['uuid'].tolist()\n",
    "similarity_df = pd.DataFrame(jaccard_similarity, index=uuids, columns=uuids)"
   ]
  },
  {
   "cell_type": "code",
   "execution_count": null,
   "id": "123",
   "metadata": {},
   "outputs": [],
   "source": [
    "similar_pairs = similarity_df[similarity_df>0.5].stack().reset_index().drop_duplicates()"
   ]
  },
  {
   "cell_type": "code",
   "execution_count": null,
   "id": "124",
   "metadata": {},
   "outputs": [],
   "source": [
    "similar_pairs['uuid_A'] = similar_pairs.apply(lambda x: x.level_1 if x.level_0 > x.level_1 else x.level_0 ,axis =1)\n",
    "similar_pairs['uuid_B'] = similar_pairs.apply(lambda x: x.level_0 if x.level_0 > x.level_1 else x.level_1 ,axis =1)"
   ]
  },
  {
   "cell_type": "code",
   "execution_count": null,
   "id": "125",
   "metadata": {},
   "outputs": [],
   "source": [
    "similar_pairs = similar_pairs.drop_duplicates(subset = ['uuid_A','uuid_B']).drop(['level_0','level_1'], axis = 1)"
   ]
  },
  {
   "cell_type": "code",
   "execution_count": null,
   "id": "126",
   "metadata": {},
   "outputs": [],
   "source": [
    "similar_pairs  = similar_pairs[similar_pairs.uuid_A !=  similar_pairs.uuid_B]"
   ]
  },
  {
   "cell_type": "code",
   "execution_count": null,
   "id": "127",
   "metadata": {},
   "outputs": [],
   "source": [
    "similar_pairs.columns = ['jaccard_score','uuid_A','uuid_B'] "
   ]
  },
  {
   "cell_type": "code",
   "execution_count": null,
   "id": "128",
   "metadata": {},
   "outputs": [],
   "source": [
    "similar_pairs.to_csv(output_folder/'Network analyses/patient_CAM_similarity_05.csv', index = False)"
   ]
  },
  {
   "cell_type": "code",
   "execution_count": null,
   "id": "129",
   "metadata": {},
   "outputs": [],
   "source": [
    "similar_pairs_sample = similar_pairs.sample(50000, random_state = 42)"
   ]
  },
  {
   "cell_type": "code",
   "execution_count": null,
   "id": "130",
   "metadata": {},
   "outputs": [],
   "source": [
    "similar_pairs_sample.to_csv(output_folder/'Network analyses/patient_CAM_similarity_sample_500.csv', index = False)"
   ]
  },
  {
   "cell_type": "code",
   "execution_count": null,
   "id": "131",
   "metadata": {},
   "outputs": [],
   "source": [
    "similar_pairs_sample['jaccard_score'] = similar_pairs_sample['jaccard_score']*20"
   ]
  },
  {
   "cell_type": "code",
   "execution_count": null,
   "id": "132",
   "metadata": {},
   "outputs": [],
   "source": [
    "# Create an empty graph\n",
    "G = nx.Graph()\n",
    "\n",
    "# Add nodes to the graph\n",
    "nodes = set(similar_pairs['uuid_A']).union(set(similar_pairs['uuid_B']))\n",
    "G.add_nodes_from(nodes)\n",
    "# node_sizes = [node_weights[node] / 10 for node in G.nodes()]\n",
    "\n",
    "# Add edges to the graph\n",
    "edges = [(row['uuid_A'], row['uuid_B'], row['jaccard_score']) for _, row in similar_pairs.iterrows()]\n",
    "G.add_weighted_edges_from(edges)"
   ]
  },
  {
   "cell_type": "code",
   "execution_count": null,
   "id": "133",
   "metadata": {},
   "outputs": [],
   "source": [
    "degrees = [(node,deg) for (node, deg) in G.degree()]\n",
    "degrees_sorted = sorted(degrees, key=lambda x: x[1], reverse=True)\n",
    "pd.DataFrame(degrees_sorted,columns = ['User','mentions']).plot(marker = '.',logy = True,logx = True)\n",
    "plt.grid()"
   ]
  },
  {
   "cell_type": "code",
   "execution_count": null,
   "id": "134",
   "metadata": {},
   "outputs": [],
   "source": [
    "degrees = [(node,deg) for (node, deg) in G.degree()]\n",
    "degrees_sorted = sorted(degrees, key=lambda x: x[1], reverse=True)\n",
    "pd.DataFrame(degrees_sorted,columns = ['Thérapie','degree']).plot(marker = '.',logy = False,logx = False)\n",
    "plt.grid()\n",
    "plt.show()"
   ]
  },
  {
   "cell_type": "code",
   "execution_count": null,
   "id": "135",
   "metadata": {},
   "outputs": [],
   "source": [
    "df_node_deg = pd.DataFrame(degrees_sorted, columns = ['uuid','degree'])"
   ]
  },
  {
   "cell_type": "code",
   "execution_count": null,
   "id": "136",
   "metadata": {},
   "outputs": [],
   "source": [
    "k = 5000\n",
    "node_sel = [n for (n,deg) in degrees_sorted[:k]]\n",
    "node_deg = [deg for (n,deg) in degrees_sorted[:k]]\n",
    "G2 = G.subgraph(node_sel).copy() #Returns a subgraph of the 5000 most connected patients "
   ]
  },
  {
   "cell_type": "code",
   "execution_count": null,
   "id": "137",
   "metadata": {},
   "outputs": [],
   "source": [
    "communities = nxcom.greedy_modularity_communities(G2, weight = 'jaccard_score')"
   ]
  },
  {
   "cell_type": "code",
   "execution_count": null,
   "id": "138",
   "metadata": {},
   "outputs": [],
   "source": [
    "# Print the number of communities\n",
    "print(f\"Number of communities: {len(communities)}\")\n",
    "\n",
    "# Color the nodes based on community\n",
    "color_map = {}\n",
    "for i, comm in enumerate(communities):\n",
    "    for node in comm:\n",
    "        color_map[node] = i"
   ]
  },
  {
   "cell_type": "code",
   "execution_count": null,
   "id": "139",
   "metadata": {},
   "outputs": [],
   "source": [
    "def get_color_highrange(i, r_off=1, g_off=1, b_off=1):\n",
    "    '''Assign a color to a vertex.'''\n",
    "    r0, g0, b0 = 0, 0, 0\n",
    "    n = 53\n",
    "    low, high = 0.1, 0.9\n",
    "    span = high - low\n",
    "    r = low + span * (((i + r_off) * 3) % n) / (n - 1)\n",
    "    g = low + span * (((i + g_off) * 5) % n) / (n - 1)\n",
    "    b = low + span * (((i + b_off) * 7) % n) / (n - 1)\n",
    "    return (r, g, b)"
   ]
  },
  {
   "cell_type": "code",
   "execution_count": null,
   "id": "140",
   "metadata": {},
   "outputs": [],
   "source": [
    "# Color the nodes based on community\n",
    "color_map = {}\n",
    "for i, comm in enumerate(communities):\n",
    "    for node in comm:\n",
    "        color_map[node] = i\n",
    "# Set node and edge communities\n",
    "set_node_community(G2, communities)\n",
    "set_edge_community(G2)\n",
    "node_color = [get_color(G2.nodes[v]['community']) for v in G2.nodes]\n",
    "node_sizes = [df_amount_by_uuid[node] / 20 for node in G2.nodes()]\n",
    "\n",
    "\n",
    "# Adjust edge transparency and thickness\n",
    "edge_alpha = 0.2  # Increased transparency\n",
    "edge_width = similar_pairs_sample['jaccard_score'] / 1000  # Reduced thickness\n",
    "\n",
    "pos = nx.spring_layout(G2, k=0.5, iterations=100, weight = 'weight')\n",
    "# pos = nx.nx_agraph.graphviz_layout(G2)\n",
    "nx.draw(G2, pos, font_size = 0,with_labels=False, edge_color=\"#444444\", node_color=node_color, width=edge_width, alpha= edge_alpha, node_size=node_sizes)\n",
    "\n",
    "# Add labels to the edges\n",
    "# labels = nx.get_edge_attributes(G, 'weight')\n",
    "# nx.draw_networkx_edge_labels(G, pos, edge_labels=labels, font_size=8)\n",
    "\n",
    "\n",
    "# Add a legend for the communities\n",
    "handles = []\n",
    "labels = []\n",
    "# fig, ax = plt.subplots(figsize=(8, 8))\n",
    "# for i, community in enumerate(communities):\n",
    "#     plt.plot([], [], color=color_map_patches[i], label=f\"Community {i}\")\n",
    "# plt.legend(scatterpoints=1, frameon=True, labelspacing=0.5, title='Communities')\n",
    "# ax.set_axis_off()\n",
    "for i, community in enumerate(communities):\n",
    "    handles.append(plt.Line2D([], [], linewidth=0, marker='o', color=list(set(node_color))[i]))\n",
    "    labels.append(f'Community {i+1}')\n",
    "plt.legend(handles, labels, loc='upper right',fontsize = 8, labelspacing=0.5, title='Communities')\n",
    "\n",
    "# Adjust plot limits to account for label spacing\n",
    "xmin, xmax, ymin, ymax = plt.axis()\n",
    "plt.axis([xmin - 0.1, xmax + 0.1, ymin - 0.1, ymax + 0.1])\n",
    "\n",
    "# Save the network to PDF\n",
    "plt.savefig(output_folder/'Network analyses/Patients - Top 5000 - Jaccard.png', dpi = 1000, format='png')\n",
    "\n",
    "plt.show()"
   ]
  },
  {
   "cell_type": "code",
   "execution_count": null,
   "id": "141",
   "metadata": {},
   "outputs": [],
   "source": [
    "community_dict = {}\n",
    "for index, fs in enumerate(communities):\n",
    "    for element in fs:\n",
    "        community_dict[element] = index"
   ]
  },
  {
   "cell_type": "code",
   "execution_count": null,
   "id": "142",
   "metadata": {},
   "outputs": [],
   "source": [
    "for name, size in sorted(((name, sys.getsizeof(value)) for name, value in list(\n",
    "                          locals().items())), key= lambda x: -x[1])[:20]:\n",
    "    print(\"{:>30}: {:>8}\".format(name, sizeof_fmt(size)))"
   ]
  },
  {
   "cell_type": "code",
   "execution_count": null,
   "id": "143",
   "metadata": {},
   "outputs": [],
   "source": [
    "df_prestation_lca_restricted['community'] = df_prestation_lca_restricted['uuid'].map(community_dict)"
   ]
  },
  {
   "cell_type": "code",
   "execution_count": null,
   "id": "144",
   "metadata": {},
   "outputs": [],
   "source": [
    "df_treated_filtered['community'] = df_treated_filtered['uuid'].map(community_dict)"
   ]
  },
  {
   "cell_type": "code",
   "execution_count": null,
   "id": "145",
   "metadata": {},
   "outputs": [],
   "source": [
    "df_heatmap_communities = df_prestation_lca_restricted.groupby(['uuid','community','DISCIPLINES_SIMPLIFIED_SET']).sum().groupby(['community','DISCIPLINES_SIMPLIFIED_SET'])['PRESTATIONS_BRUTES'].mean()\n",
    "df_heatmap_communities = df_heatmap_communities.unstack().fillna(0)\n",
    "df_heatmap_communities.index = df_heatmap_communities.index+1\n",
    "df_heatmap_communities.index = df_heatmap_communities.index.astype(int).astype(str)"
   ]
  },
  {
   "cell_type": "code",
   "execution_count": null,
   "id": "146",
   "metadata": {},
   "outputs": [],
   "source": [
    "df_heatmap_communities_diseases = df_treated_filtered.groupby(['uuid','community','DISCIPLINES_SIMPLIFIED_SET']).sum().groupby(['community','DISCIPLINES_SIMPLIFIED_SET'])['PRESTATIONS_BRUTES'].mean()\n",
    "df_heatmap_communities_diseases = df_heatmap_communities_diseases.unstack().fillna(0)\n",
    "df_heatmap_communities_diseases.index = df_heatmap_communities_diseases.index+1\n",
    "df_heatmap_communities_diseases.index = df_heatmap_communities_diseases.index.astype(int).astype(str)"
   ]
  },
  {
   "cell_type": "code",
   "execution_count": null,
   "id": "147",
   "metadata": {},
   "outputs": [],
   "source": [
    "methods_regex = 'PCG'\n",
    "methods_long_df = df_treated_filtered.melt(id_vars=['uuid','year','community'], \n",
    "                          value_vars=df_treated_filtered.filter(regex=methods_regex).columns, \n",
    "                          var_name='Disease', value_name='Prevalence')\n",
    "methods_long_df['Disease'] = methods_long_df['Disease'].str.replace('_PCG','')\n",
    "methods_long_df = methods_long_df[methods_long_df.Prevalence == 1]"
   ]
  },
  {
   "cell_type": "code",
   "execution_count": null,
   "id": "148",
   "metadata": {},
   "outputs": [],
   "source": [
    "methods_long_df[methods_long_df.community.isnull()==False]"
   ]
  },
  {
   "cell_type": "code",
   "execution_count": null,
   "id": "149",
   "metadata": {},
   "outputs": [],
   "source": [
    "# plt.figure(figsize=(32, 4))\n",
    "sns.clustermap(df_heatmap_communities, standard_scale = 1, cmap = 'coolwarm', figsize=(25, 12))\n",
    "plt.title('Typology of communities based on Therapies')\n",
    "plt.xlabel('Méthodes thérapeutiques')\n",
    "plt.ylabel('Community')\n",
    "plt.show()"
   ]
  },
  {
   "cell_type": "code",
   "execution_count": null,
   "id": "150",
   "metadata": {},
   "outputs": [],
   "source": [
    "# plt.figure(figsize=(32, 4))\n",
    "sns.clustermap(df_heatmap_communities, z_score = 1, cmap = 'coolwarm', figsize=(25, 12))\n",
    "plt.title('Typology of communities based on Therapies')\n",
    "plt.xlabel('Méthodes thérapeutiques')\n",
    "plt.ylabel('Community')\n",
    "plt.show()"
   ]
  },
  {
   "cell_type": "code",
   "execution_count": null,
   "id": "151",
   "metadata": {},
   "outputs": [],
   "source": [
    "# Plotting the heatmap\n",
    "plt.figure(figsize=(12, 4))\n",
    "sns.heatmap(df_heatmap_communities, annot=False, cmap='coolwarm')\n",
    "plt.title('Typology of communities based on Therapies')\n",
    "plt.xlabel('Méthodes thérapeutiques')\n",
    "plt.ylabel('Community')\n",
    "plt.show()"
   ]
  },
  {
   "cell_type": "markdown",
   "id": "152",
   "metadata": {},
   "source": [
    "## Other approach : compute distance (cosine similarity) based on spending patterns"
   ]
  },
  {
   "cell_type": "code",
   "execution_count": null,
   "id": "153",
   "metadata": {},
   "outputs": [],
   "source": [
    "from sklearn.metrics.pairwise import cosine_similarity\n",
    "from sklearn.preprocessing import MinMaxScaler"
   ]
  },
  {
   "cell_type": "code",
   "execution_count": null,
   "id": "154",
   "metadata": {},
   "outputs": [],
   "source": [
    "df_tsne = pd.DataFrame((df_prestation_lca_restricted.groupby(['uuid','THERAPIES_SIMPLIFIED_SET'])['PRESTATIONS_BRUTES'].sum()))\n",
    "df_tsne = df_tsne.unstack('THERAPIES_SIMPLIFIED_SET').fillna(0)['PRESTATIONS_BRUTES']"
   ]
  },
  {
   "cell_type": "code",
   "execution_count": null,
   "id": "155",
   "metadata": {},
   "outputs": [],
   "source": [
    "df_tsne_samp = df_tsne[df_tsne.index.isin(node_sel)]"
   ]
  },
  {
   "cell_type": "code",
   "execution_count": null,
   "id": "156",
   "metadata": {},
   "outputs": [],
   "source": [
    "scaler = MinMaxScaler()\n",
    "df_tsne_scaled = scaler.fit_transform(df_tsne_samp)\n",
    "# df_tsne_scaled = df_tsne_samp.copy()"
   ]
  },
  {
   "cell_type": "code",
   "execution_count": null,
   "id": "157",
   "metadata": {},
   "outputs": [],
   "source": [
    "df_tsne_scaled = pd.DataFrame(df_tsne_scaled, columns = df_tsne.columns, index = df_tsne_samp.index)"
   ]
  },
  {
   "cell_type": "code",
   "execution_count": null,
   "id": "158",
   "metadata": {},
   "outputs": [],
   "source": [
    "dict_spending = df_tsne_scaled.sum(axis=1).to_dict()"
   ]
  },
  {
   "cell_type": "code",
   "execution_count": null,
   "id": "159",
   "metadata": {},
   "outputs": [],
   "source": [
    "cosine_sim = cosine_similarity(df_tsne_scaled)\n",
    "cosine_sim_df = pd.DataFrame(cosine_sim, index=df_tsne_scaled.index, columns=df_tsne_scaled.index)\n"
   ]
  },
  {
   "cell_type": "code",
   "execution_count": null,
   "id": "160",
   "metadata": {},
   "outputs": [],
   "source": [
    "melted_tsne_df = pd.melt(cosine_sim_df.reset_index(), id_vars=\"uuid\", var_name=\"uuid_b\", value_name=\"cosine_similarity\")\n",
    "melted_tsne_df = melted_tsne_df[melted_tsne_df.cosine_similarity.isnull()==False]\n"
   ]
  },
  {
   "cell_type": "code",
   "execution_count": null,
   "id": "161",
   "metadata": {},
   "outputs": [],
   "source": [
    "melted_tsne_df_99 = melted_tsne_df[melted_tsne_df.cosine_similarity > 0.99]\n",
    "melted_tsne_df_99.columns = ['uuid_a','uuid_b', 'cosine_similarity']\n",
    "melted_tsne_df_99[['uuid_a', 'uuid_b']] = melted_tsne_df_99.apply(lambda row: sorted([row['uuid_a'], row['uuid_b']]), axis=1, result_type='expand')\n",
    "melted_tsne_df_99.drop_duplicates(subset=['uuid_a', 'uuid_b'], inplace=True)\n",
    "melted_tsne_df_99 = melted_tsne_df_99[melted_tsne_df_99.uuid_a != melted_tsne_df_99.uuid_b]"
   ]
  },
  {
   "cell_type": "code",
   "execution_count": null,
   "id": "162",
   "metadata": {},
   "outputs": [],
   "source": [
    "# Create an empty graph\n",
    "G = nx.Graph()\n",
    "\n",
    "# Add nodes to the graph\n",
    "nodes = set(melted_tsne_df_99['uuid_a']).union(set(melted_tsne_df_99['uuid_b']))\n",
    "G.add_nodes_from(nodes)\n",
    "# node_sizes = [node_weights[node] / 10 for node in G.nodes()]\n",
    "\n",
    "# Add edges to the graph\n",
    "edges = [(row['uuid_a'], row['uuid_b'], row['cosine_similarity']) for _, row in melted_tsne_df_99.iterrows()]\n",
    "G.add_weighted_edges_from(edges)\n",
    "\n",
    "# Define the layout\n",
    "pos = nx.spring_layout(G, k=5, iterations=10, weight = 'cosine_similarity')\n",
    "# Plot the graph\n",
    "nx.draw(G, with_labels=False, node_color='lightblue', width = melted_tsne_df_99['cosine_similarity']*10, edge_color='gray')\n",
    "\n",
    "# Adjust plot limits to account for label spacing\n",
    "xmin, xmax, ymin, ymax = plt.axis()\n",
    "plt.axis([xmin - 0.1, xmax + 0.1, ymin - 0.1, ymax + 0.1])\n",
    "\n",
    "plt.show()"
   ]
  },
  {
   "cell_type": "code",
   "execution_count": null,
   "id": "163",
   "metadata": {},
   "outputs": [],
   "source": [
    "communities = nxcom.greedy_modularity_communities(G, weight = 'cosine_similarity')"
   ]
  },
  {
   "cell_type": "code",
   "execution_count": null,
   "id": "164",
   "metadata": {},
   "outputs": [],
   "source": [
    "# Print the number of communities\n",
    "print(f\"Number of communities: {len(communities)}\")\n",
    "\n",
    "# Color the nodes based on community\n",
    "color_map = {}\n",
    "for i, comm in enumerate(communities):\n",
    "    for node in comm:\n",
    "        color_map[node] = i"
   ]
  },
  {
   "cell_type": "code",
   "execution_count": null,
   "id": "165",
   "metadata": {},
   "outputs": [],
   "source": [
    "# Color the nodes based on community\n",
    "color_map = {}\n",
    "for i, comm in enumerate(communities):\n",
    "    for node in comm:\n",
    "        color_map[node] = i\n",
    "# Set node and edge communities\n",
    "set_node_community(G, communities)\n",
    "set_edge_community(G)\n",
    "node_color = [get_color(G.nodes[v]['community']) for v in G.nodes]\n",
    "node_sizes = [dict_spending[node] / 20 for node in G.nodes()]\n",
    "\n",
    "\n",
    "# Adjust edge transparency and thickness\n",
    "edge_alpha = 0.3  # Increased transparency\n",
    "edge_width = melted_tsne_df_99['cosine_similarity'] *10  # Reduced thickness\n",
    "\n",
    "pos = nx.spring_layout(G, k=1, iterations=100, weight = 'weight')\n",
    "# pos = nx.nx_agraph.graphviz_layout(G2)\n",
    "nx.draw(G, pos, font_size = 0,with_labels=False, edge_color=\"#444444\", node_color=node_color, width=edge_width, alpha= edge_alpha, node_size=node_sizes)\n",
    "\n",
    "# Add labels to the edges\n",
    "# labels = nx.get_edge_attributes(G, 'weight')\n",
    "# nx.draw_networkx_edge_labels(G, pos, edge_labels=labels, font_size=8)\n",
    "\n",
    "\n",
    "# Add a legend for the communities\n",
    "handles = []\n",
    "labels = []\n",
    "# fig, ax = plt.subplots(figsize=(8, 8))\n",
    "# for i, community in enumerate(communities):\n",
    "#     plt.plot([], [], color=color_map_patches[i], label=f\"Community {i}\")\n",
    "# plt.legend(scatterpoints=1, frameon=True, labelspacing=0.5, title='Communities')\n",
    "# ax.set_axis_off()\n",
    "# for i, community in enumerate(communities):\n",
    "#     handles.append(plt.Line2D([], [], linewidth=0, marker='o', color=list(set(node_color))[i]))\n",
    "#     labels.append(f'Community {i+1}')\n",
    "# plt.legend(handles, labels, loc='upper right',fontsize = 8, labelspacing=0.5, title='Communities')\n",
    "\n",
    "# Adjust plot limits to account for label spacing\n",
    "xmin, xmax, ymin, ymax = plt.axis()\n",
    "plt.axis([xmin - 0.1, xmax + 0.1, ymin - 0.1, ymax + 0.1])\n",
    "plt.show()"
   ]
  },
  {
   "cell_type": "markdown",
   "id": "166",
   "metadata": {},
   "source": [
    "## t-SNE"
   ]
  },
  {
   "cell_type": "code",
   "execution_count": null,
   "id": "167",
   "metadata": {},
   "outputs": [],
   "source": [
    "df_tsne = pd.DataFrame((df_prestation_lca_restricted.groupby(['uuid','THERAPIES_SIMPLIFIED_SET'])['PRESTATIONS_BRUTES'].sum()))"
   ]
  },
  {
   "cell_type": "code",
   "execution_count": null,
   "id": "168",
   "metadata": {},
   "outputs": [],
   "source": [
    "df_tsne = df_tsne.unstack('THERAPIES_SIMPLIFIED_SET').fillna(0)\n",
    "df_tsne = df_tsne['PRESTATIONS_BRUTES']"
   ]
  },
  {
   "cell_type": "code",
   "execution_count": null,
   "id": "169",
   "metadata": {},
   "outputs": [],
   "source": [
    "# df_tsne_samp = df_tsne[df_tsne.index.isin(node_sel)]\n",
    "df_tsne_samp = df_tsne.sample(frac=0.2, random_state=42).copy()"
   ]
  },
  {
   "cell_type": "code",
   "execution_count": null,
   "id": "170",
   "metadata": {},
   "outputs": [],
   "source": [
    "import pandas as pd\n",
    "import numpy as np\n",
    "import matplotlib.pyplot as plt\n",
    "from sklearn.manifold import TSNE\n",
    "\n",
    "# Assuming df is your DataFrame where each row is an insured individual\n",
    "# and each column represents the amount spent on a type of complementary medicine.\n",
    "\n",
    "# Standardize the data (important for t-SNE)\n",
    "from sklearn.preprocessing import StandardScaler\n",
    "scaler = StandardScaler()\n",
    "scaled_df = scaler.fit_transform(df_tsne_samp)\n",
    "\n",
    "# Perform t-SNE\n",
    "tsne = TSNE(n_components=2, random_state=42, perplexity=30, n_iter=5000)\n",
    "tsne_results = tsne.fit_transform(scaled_df)\n",
    "\n",
    "# Create a DataFrame to hold the t-SNE results\n",
    "tsne_df = pd.DataFrame(data=tsne_results, columns=['Dimension 1', 'Dimension 2'])\n",
    "\n",
    "# Plot the t-SNE results\n",
    "plt.figure(figsize=(8, 8))\n",
    "plt.scatter(tsne_df['Dimension 1'], tsne_df['Dimension 2'], alpha=0.5)\n",
    "plt.title('t-SNE of Amount Spent on Complementary Medicine')\n",
    "plt.xlabel('Dimension 1')\n",
    "plt.ylabel('Dimension 2')\n",
    "plt.show()"
   ]
  },
  {
   "cell_type": "code",
   "execution_count": null,
   "id": "171",
   "metadata": {},
   "outputs": [],
   "source": [
    "tsne_df = tsne_df.set_index(df_tsne_samp.index)\n",
    "tsne_df['community'] = tsne_df.index.map(community_dict)\n",
    "tsne_df['community'] = tsne_df['community']+1\n",
    "tsne_df['community'] = tsne_df['community'].astype('category')"
   ]
  },
  {
   "cell_type": "code",
   "execution_count": null,
   "id": "172",
   "metadata": {},
   "outputs": [],
   "source": [
    "plt.figure(figsize=(8, 8))\n",
    "sns.scatterplot(data=tsne_df, hue='community',  x='Dimension 1', y='Dimension 2', alpha=0.5, linewidth = 0)\n",
    "plt.show()"
   ]
  },
  {
   "cell_type": "markdown",
   "id": "173",
   "metadata": {},
   "source": [
    "## Using OpenTSNE"
   ]
  },
  {
   "cell_type": "code",
   "execution_count": null,
   "id": "174",
   "metadata": {},
   "outputs": [],
   "source": [
    "import openTSNE\n",
    "from openTSNE import utils\n",
    "import pickle\n",
    "import gzip\n",
    "import numpy as np\n",
    "from sklearn.model_selection import train_test_split\n",
    "import utils_opentsne\n",
    "import matplotlib.pyplot as plt\n",
    "reload(utils_opentsne)"
   ]
  },
  {
   "cell_type": "code",
   "execution_count": null,
   "id": "175",
   "metadata": {},
   "outputs": [],
   "source": [
    "# with gzip.open(\"/Users/david/Downloads/macosko_2015.pkl.gz\", \"rb\") as f:\n",
    "#     data = pickle.load(f)"
   ]
  },
  {
   "cell_type": "code",
   "execution_count": null,
   "id": "176",
   "metadata": {},
   "outputs": [],
   "source": [
    "# x = data[\"pca_50\"]\n",
    "# y = data[\"CellType1\"].astype(str)"
   ]
  },
  {
   "cell_type": "code",
   "execution_count": null,
   "id": "177",
   "metadata": {},
   "outputs": [],
   "source": [
    "df_tsne['sum'] = df_tsne.sum(axis = 1)"
   ]
  },
  {
   "cell_type": "code",
   "execution_count": null,
   "id": "178",
   "metadata": {},
   "outputs": [],
   "source": [
    "df_tsne['sum_q'] = pd.qcut(df_tsne['sum'], q=3, labels=['Low', 'Medium', 'High'])"
   ]
  },
  {
   "cell_type": "code",
   "execution_count": null,
   "id": "179",
   "metadata": {},
   "outputs": [],
   "source": [
    "scaler = StandardScaler()\n",
    "df_tsne_scaled = df_tsne.drop(['sum_q'],axis = 1)\n",
    "# df_tsne_samp_scaled = scaler.fit_transform(df_tsne_samp.drop(['sum','sum_q'],axis = 1))\n",
    "df_tsne_scaled[df_tsne_scaled.columns] = scaler.fit_transform(df_tsne_scaled[df_tsne_scaled.columns])"
   ]
  },
  {
   "cell_type": "code",
   "execution_count": null,
   "id": "180",
   "metadata": {},
   "outputs": [],
   "source": [
    "x = df_tsne_scaled.to_numpy()\n",
    "y = df_tsne_scaled['sum'].to_numpy()"
   ]
  },
  {
   "cell_type": "code",
   "execution_count": null,
   "id": "181",
   "metadata": {},
   "outputs": [],
   "source": [
    "colors_tsne = {'Low':'#91bfdb','Medium':'#ffffbf','High':'#fc8d59'}"
   ]
  },
  {
   "cell_type": "code",
   "execution_count": null,
   "id": "182",
   "metadata": {},
   "outputs": [],
   "source": [
    "def plot_tsne(x, **kwargs):\n",
    "    utils_opentsne.plot(x, y, colors=colors_tsne, **kwargs)"
   ]
  },
  {
   "cell_type": "code",
   "execution_count": null,
   "id": "183",
   "metadata": {},
   "outputs": [],
   "source": [
    "%%time\n",
    "embedding_standard = openTSNE.TSNE(\n",
    "    perplexity=30,\n",
    "    initialization=\"random\",\n",
    "    metric=\"euclidean\",\n",
    "    n_jobs=10,\n",
    "    random_state=3,\n",
    ").fit(x)"
   ]
  },
  {
   "cell_type": "code",
   "execution_count": null,
   "id": "184",
   "metadata": {},
   "outputs": [],
   "source": [
    "%%time\n",
    "embedding_pca = openTSNE.TSNE(\n",
    "    perplexity=100,\n",
    "    initialization=\"pca\",\n",
    "    metric=\"euclidean\",\n",
    "    n_jobs=10,\n",
    "    random_state=3,\n",
    ").fit(x)"
   ]
  },
  {
   "cell_type": "code",
   "execution_count": null,
   "id": "185",
   "metadata": {},
   "outputs": [],
   "source": [
    "embedding_pca_cosine = openTSNE.TSNE(\n",
    "    perplexity=300,\n",
    "    initialization=\"pca\",\n",
    "    metric=\"cosine\",\n",
    "    n_jobs=8,\n",
    "    random_state=3,\n",
    ").fit(x)"
   ]
  },
  {
   "cell_type": "code",
   "execution_count": null,
   "id": "186",
   "metadata": {},
   "outputs": [],
   "source": [
    "reload(utils_opentsne)"
   ]
  },
  {
   "cell_type": "code",
   "execution_count": null,
   "id": "187",
   "metadata": {},
   "outputs": [],
   "source": [
    "from sklearn.cluster import KMeans\n",
    "from sklearn.preprocessing import StandardScaler"
   ]
  },
  {
   "cell_type": "code",
   "execution_count": null,
   "id": "188",
   "metadata": {},
   "outputs": [],
   "source": [
    "# ax = plot_tsne(embedding_pca)\n",
    "# plt.show()"
   ]
  },
  {
   "cell_type": "code",
   "execution_count": null,
   "id": "189",
   "metadata": {},
   "outputs": [],
   "source": [
    "# ax = plot_tsne(embedding_pca_cosine)\n",
    "# plt.show()"
   ]
  },
  {
   "cell_type": "code",
   "execution_count": null,
   "id": "190",
   "metadata": {},
   "outputs": [],
   "source": [
    "df_tsne_scaled[['Dim1','Dim2']] = embedding_pca\n",
    "# df_tsne_samp_scaled[['Dim1','Dim2']] = embedding_pca"
   ]
  },
  {
   "cell_type": "code",
   "execution_count": null,
   "id": "191",
   "metadata": {},
   "outputs": [],
   "source": [
    "kmeans = KMeans(n_clusters=15, random_state=42)\n",
    "kmeans_labels = kmeans.fit_predict(df_tsne_scaled[['Dim1', 'Dim2']])"
   ]
  },
  {
   "cell_type": "code",
   "execution_count": null,
   "id": "192",
   "metadata": {},
   "outputs": [],
   "source": [
    "df_tsne_scaled['kmeans_group'] = kmeans_labels\n",
    "df_tsne['kmeans_group'] = kmeans_labels"
   ]
  },
  {
   "cell_type": "code",
   "execution_count": null,
   "id": "193",
   "metadata": {},
   "outputs": [],
   "source": [
    "\n",
    "# List to store the inertia (within-cluster sum of squares)\n",
    "inertia_list = []\n",
    "\n",
    "# Number of clusters to try\n",
    "cluster_range = range(1, 18)\n",
    "\n",
    "# Calculate inertia for different number of clusters\n",
    "for num_clusters in cluster_range:\n",
    "    kmeans = KMeans(n_clusters=num_clusters, random_state=0).fit(df_tsne_scaled[['Dim1', 'Dim2']])\n",
    "    inertia_list.append(kmeans.inertia_)\n",
    "\n",
    "# Plotting the Elbow Method Graph\n",
    "plt.figure(figsize=(10, 6))\n",
    "plt.plot(cluster_range, inertia_list, marker='o')\n",
    "plt.xlabel('Number of Clusters')\n",
    "plt.ylabel('SSE')\n",
    "plt.title('Elbow Method for Optimal Number of Clusters')\n",
    "plt.grid(True)\n",
    "plt.show()"
   ]
  },
  {
   "cell_type": "code",
   "execution_count": null,
   "id": "194",
   "metadata": {},
   "outputs": [],
   "source": [
    "# df_tsne_samp['kmeans_group'] = df_tsne_samp['kmeans_group'].astype('string')"
   ]
  },
  {
   "cell_type": "code",
   "execution_count": null,
   "id": "195",
   "metadata": {},
   "outputs": [],
   "source": [
    "cmap = plt.get_cmap('tab20')\n",
    "colors = [cmap(i/19) for i in range(15)] "
   ]
  },
  {
   "cell_type": "code",
   "execution_count": null,
   "id": "196",
   "metadata": {},
   "outputs": [],
   "source": [
    "from matplotlib.patches import Patch"
   ]
  },
  {
   "cell_type": "code",
   "execution_count": null,
   "id": "197",
   "metadata": {},
   "outputs": [],
   "source": [
    "legend_handles = [Patch(facecolor=colors[i], edgecolor='gray', label=f'Cluster {i+1}') for i in range(15)]\n",
    "\n",
    "fig, ax = plt.subplots(figsize=(15, 12))\n",
    "mapped_colors = [colors[label] for label in df_tsne_scaled[df_tsne_scaled.kmeans_group != 6].kmeans_group]\n",
    "plt.scatter(df_tsne_scaled[df_tsne_scaled.kmeans_group != 6]['Dim1'], df_tsne_scaled[df_tsne_scaled.kmeans_group != 6]['Dim2'], c=mapped_colors, alpha=0.05, s=1)\n",
    "mapped_colors = [colors[label] for label in df_tsne_scaled[df_tsne_scaled.kmeans_group == 6].kmeans_group]\n",
    "plt.scatter(df_tsne_scaled[df_tsne_scaled.kmeans_group == 6]['Dim1'], df_tsne_scaled[df_tsne_scaled.kmeans_group == 6]['Dim2'], c=mapped_colors, alpha=1, s=3)\n",
    "plt.title('t-SNE with K-means Clusters')\n",
    "ax.set_axis_off()\n",
    "\n",
    "# Add legend\n",
    "ax.legend(handles=legend_handles, title='Clusters', bbox_to_anchor=(1.05, 1), loc='upper left')\n",
    "\n",
    "plt.show()"
   ]
  },
  {
   "cell_type": "code",
   "execution_count": null,
   "id": "198",
   "metadata": {},
   "outputs": [],
   "source": [
    "legend_handles = [Patch(facecolor=colors[i], edgecolor='gray', label=f'Cluster {i+1}') for i in range(15)]\n",
    "\n",
    "fig, ax = plt.subplots(figsize=(15, 12))\n",
    "mapped_colors = [colors[label] for label in df_tsne_scaled[df_tsne_scaled.kmeans_group != 0].kmeans_group]\n",
    "plt.scatter(df_tsne_scaled[df_tsne_scaled.kmeans_group != 0]['Dim1'], df_tsne_scaled[df_tsne_scaled.kmeans_group != 0]['Dim2'], c=mapped_colors, alpha=0.05, s=1)\n",
    "mapped_colors = [colors[label] for label in df_tsne_scaled[df_tsne_scaled.kmeans_group == 0].kmeans_group]\n",
    "plt.scatter(df_tsne_scaled[df_tsne_scaled.kmeans_group == 0]['Dim1'], df_tsne_scaled[df_tsne_scaled.kmeans_group == 0]['Dim2'], c=mapped_colors, alpha=1, s=3)\n",
    "plt.title('t-SNE with K-means Clusters')\n",
    "ax.set_axis_off()\n",
    "\n",
    "# Add legend\n",
    "ax.legend(handles=legend_handles, title='Clusters', bbox_to_anchor=(1.05, 1), loc='upper left')\n",
    "\n",
    "plt.show()"
   ]
  },
  {
   "cell_type": "code",
   "execution_count": null,
   "id": "199",
   "metadata": {},
   "outputs": [],
   "source": [
    "fig, ax = plt.subplots(figsize = (15,12))\n",
    "mapped_colors = [colors[label] for label in df_tsne_scaled.kmeans_group]\n",
    "\n",
    "plt.scatter(df_tsne_scaled['Dim1'], df_tsne_scaled['Dim2'], c=mapped_colors, alpha=0.3, s=3)\n",
    "# plt.colorbar()\n",
    "plt.title('t-SNE with K-means Clusters')\n",
    "# plt.xlabel('Dimension 1')\n",
    "# plt.ylabel('Dimension 2')\n",
    "ax.set_axis_off()\n",
    "plt.show()"
   ]
  },
  {
   "cell_type": "code",
   "execution_count": null,
   "id": "200",
   "metadata": {},
   "outputs": [],
   "source": [
    "df_heatmap_kmeans = df_tsne.groupby('kmeans_group').mean()\n",
    "df_heatmap_kmeans_scaled = df_tsne_scaled.groupby('kmeans_group').mean()\n",
    "\n",
    "\n",
    "df_heatmap_kmeans.index = df_heatmap_kmeans.index+1\n",
    "\n",
    "df_heatmap_kmeans.index = df_heatmap_kmeans.index.astype(int).astype(str)\n",
    "\n",
    "# Plotting the heatmap\n",
    "plt.figure(figsize=(32, 4))\n",
    "sns.heatmap(df_heatmap_kmeans, annot=False, cmap='coolwarm')\n",
    "plt.title('Typology of communities based on Therapies')\n",
    "plt.xlabel('Méthodes thérapeutiques')\n",
    "plt.ylabel('Community')\n",
    "plt.show()"
   ]
  },
  {
   "cell_type": "code",
   "execution_count": null,
   "id": "201",
   "metadata": {},
   "outputs": [],
   "source": [
    "from scipy.cluster.hierarchy import dendrogram, linkage\n",
    "from scipy.spatial.distance import pdist\n",
    "import matplotlib.pyplot as plt\n",
    "\n",
    "\n",
    "# Calculate pairwise distance matrix\n",
    "distance_matrix = pdist(df_heatmap_kmeans.drop(['sum'], axis = 1))\n",
    "\n",
    "# Perform hierarchical clustering\n",
    "Z = linkage(distance_matrix, method='ward')\n",
    "\n",
    "# Create dendrogram\n",
    "dendrogram(Z)\n",
    "plt.title('Hierarchical Clustering Dendrogram')\n",
    "plt.xlabel('Sample Index')\n",
    "plt.ylabel('K-means group')\n",
    "plt.show()"
   ]
  },
  {
   "cell_type": "code",
   "execution_count": null,
   "id": "202",
   "metadata": {},
   "outputs": [],
   "source": [
    "df_heatmap_kmeans.sort_values('Relaxation')['Relaxation']"
   ]
  },
  {
   "cell_type": "code",
   "execution_count": null,
   "id": "203",
   "metadata": {},
   "outputs": [],
   "source": [
    "df_prestation_lca_restricted[df_prestation_lca_restricted.THERAPIES_SIMPLIFIED_SET == 'Relaxation'].PRESTATIONS_BRUTES.sum()"
   ]
  },
  {
   "cell_type": "code",
   "execution_count": null,
   "id": "204",
   "metadata": {},
   "outputs": [],
   "source": [
    "# plt.figure(figsize=(32, 4))\n",
    "sns.clustermap(df_heatmap_kmeans.drop('sum', axis = 1), z_score = 1, cmap = 'viridis', figsize=(25, 12))\n",
    "plt.show()"
   ]
  },
  {
   "cell_type": "code",
   "execution_count": null,
   "id": "205",
   "metadata": {},
   "outputs": [],
   "source": [
    "# plt.figure(figsize=(32, 4))\n",
    "sns.clustermap(df_heatmap_kmeans.drop('sum', axis = 1), cmap = 'viridis', figsize=(25, 12))\n",
    "plt.show()"
   ]
  },
  {
   "cell_type": "code",
   "execution_count": null,
   "id": "206",
   "metadata": {},
   "outputs": [],
   "source": [
    "df_tsne_scaled.groupby('kmeans_group')['sum'].mean().sort_values()"
   ]
  },
  {
   "cell_type": "markdown",
   "id": "207",
   "metadata": {},
   "source": [
    "## K-means"
   ]
  },
  {
   "cell_type": "code",
   "execution_count": null,
   "id": "208",
   "metadata": {},
   "outputs": [],
   "source": [
    "# from sklearn.cluster import KMeans\n",
    "# from sklearn.preprocessing import StandardScaler\n",
    "# # scaler = StandardScaler()\n",
    "# # scaled_df = scaler.fit_transform(df_tsne)\n",
    "# kmeans = KMeans(n_clusters=10, random_state=42)\n",
    "# kmeans_labels = kmeans.fit_predict(scaled_df)"
   ]
  },
  {
   "cell_type": "code",
   "execution_count": null,
   "id": "209",
   "metadata": {},
   "outputs": [],
   "source": [
    "# scaler = StandardScaler()\n",
    "# scaled_df = scaler.fit_transform(df_tsne)\n",
    "kmeans = KMeans(n_clusters=4, random_state=42)\n",
    "kmeans_labels = kmeans.fit_predict(tsne_df[['Dimension 1', 'Dimension 2']])"
   ]
  },
  {
   "cell_type": "code",
   "execution_count": null,
   "id": "210",
   "metadata": {},
   "outputs": [],
   "source": [
    "\n",
    "# List to store the inertia (within-cluster sum of squares)\n",
    "inertia_list = []\n",
    "\n",
    "# Number of clusters to try\n",
    "cluster_range = range(1, 18)\n",
    "\n",
    "# Calculate inertia for different number of clusters\n",
    "for num_clusters in cluster_range:\n",
    "    kmeans = KMeans(n_clusters=num_clusters, random_state=0).fit(tsne_df[['Dimension 1', 'Dimension 2']])\n",
    "    inertia_list.append(kmeans.inertia_)\n",
    "\n",
    "# Plotting the Elbow Method Graph\n",
    "plt.figure(figsize=(10, 6))\n",
    "plt.plot(cluster_range, inertia_list, marker='o')\n",
    "plt.xlabel('Number of Clusters')\n",
    "plt.ylabel('SSE')\n",
    "plt.title('Elbow Method for Optimal Number of Clusters')\n",
    "plt.grid(True)\n",
    "plt.show()"
   ]
  },
  {
   "cell_type": "code",
   "execution_count": null,
   "id": "211",
   "metadata": {},
   "outputs": [],
   "source": [
    "df_tsne_samp['kmeans_group'] = kmeans_labels"
   ]
  },
  {
   "cell_type": "code",
   "execution_count": null,
   "id": "212",
   "metadata": {},
   "outputs": [],
   "source": [
    "plt.scatter(tsne_df['Dimension 1'], tsne_df['Dimension 2'], c=kmeans_labels, cmap=plt.cm.get_cmap('tab10', 10), alpha=1)\n",
    "plt.colorbar()\n",
    "plt.title('t-SNE with K-means Clusters')\n",
    "plt.xlabel('Dimension 1')\n",
    "plt.ylabel('Dimension 2')\n",
    "plt.show()"
   ]
  },
  {
   "cell_type": "code",
   "execution_count": null,
   "id": "213",
   "metadata": {},
   "outputs": [],
   "source": [
    "df_tsne_samp['community'] = df_tsne_samp.index.map(community_dict)\n",
    "df_tsne_samp['community'] = df_tsne_samp['community']+1\n",
    "df_tsne_samp['community'] = df_tsne_samp['community'].astype('category')"
   ]
  },
  {
   "cell_type": "code",
   "execution_count": null,
   "id": "214",
   "metadata": {},
   "outputs": [],
   "source": [
    "df_heatmap_kmeans = df_tsne_samp.groupby('kmeans_group').mean()['PRESTATIONS_BRUTES']\n",
    "df_heatmap_community = df_tsne_samp.groupby('community').mean()['PRESTATIONS_BRUTES']"
   ]
  },
  {
   "cell_type": "code",
   "execution_count": null,
   "id": "215",
   "metadata": {},
   "outputs": [],
   "source": [
    "# Plotting the heatmap\n",
    "plt.figure(figsize=(12, 4))\n",
    "sns.heatmap(df_heatmap_kmeans, annot=False, cmap='coolwarm')\n",
    "plt.title('Typology of kmeans_group based on Therapies')\n",
    "plt.xlabel('Therapies')\n",
    "plt.ylabel('kmeans_group')\n",
    "plt.show()"
   ]
  },
  {
   "cell_type": "code",
   "execution_count": null,
   "id": "216",
   "metadata": {},
   "outputs": [],
   "source": [
    "# Plotting the heatmap\n",
    "plt.figure(figsize=(12, 4))\n",
    "sns.heatmap(df_heatmap_community, annot=False, cmap='coolwarm')\n",
    "plt.title('Typology of communities based on Therapies')\n",
    "plt.xlabel('Therapies')\n",
    "plt.ylabel('Communities')\n",
    "plt.show()"
   ]
  },
  {
   "cell_type": "code",
   "execution_count": null,
   "id": "217",
   "metadata": {},
   "outputs": [],
   "source": [
    "# Function to get top therapies for each group\n",
    "def get_top_therapies(group, n_top=3):\n",
    "    sorted_therapies = group.sort_values(ascending=False)\n",
    "    return sorted_therapies.head(n_top).index.tolist()"
   ]
  },
  {
   "cell_type": "code",
   "execution_count": null,
   "id": "218",
   "metadata": {},
   "outputs": [],
   "source": [
    "# Dictionary to hold top therapies for each kmeans_group\n",
    "top_therapies_dict = {}\n",
    "\n",
    "# Get top therapies for each group\n",
    "for group in df_heatmap_kmeans.index:\n",
    "    top_therapies = get_top_therapies(df_heatmap_kmeans.loc[group])\n",
    "    top_therapies_dict[group] = top_therapies\n",
    "\n",
    "top_therapies_dict"
   ]
  },
  {
   "cell_type": "code",
   "execution_count": null,
   "id": "219",
   "metadata": {},
   "outputs": [],
   "source": [
    "# Dictionary to hold top therapies for each kmeans_group\n",
    "top_therapies_dict = {}\n",
    "\n",
    "# Get top therapies for each group\n",
    "for group in df_heatmap_community.index:\n",
    "    top_therapies = get_top_therapies(df_heatmap_community.loc[group])\n",
    "    top_therapies_dict[group] = top_therapies\n",
    "\n",
    "top_therapies_dict"
   ]
  },
  {
   "cell_type": "code",
   "execution_count": null,
   "id": "220",
   "metadata": {},
   "outputs": [],
   "source": [
    "# Pseudo-code to implement ratio-based grouping\n",
    "total_spent_each_therapy = df_tsne_samp.sum(axis=0)\n",
    "\n",
    "for group in df_heatmap_kmeans.index:\n",
    "    group_data = df_heatmap_kmeans.loc[group]\n",
    "    ratio = group_data / total_spent_each_therapy\n",
    "    top_therapies = get_top_therapies(ratio)"
   ]
  },
  {
   "cell_type": "code",
   "execution_count": null,
   "id": "221",
   "metadata": {},
   "outputs": [],
   "source": [
    "group_data"
   ]
  },
  {
   "cell_type": "markdown",
   "id": "222",
   "metadata": {},
   "source": [
    "## Network of therapies and medicine - How do they collaborate?"
   ]
  },
  {
   "cell_type": "code",
   "execution_count": null,
   "id": "223",
   "metadata": {},
   "outputs": [],
   "source": [
    "df_prestation_aos = read_data(data_folder/'processed'/'df_prestation_aos_preprocessed.parquet.gzip')"
   ]
  },
  {
   "cell_type": "code",
   "execution_count": null,
   "id": "224",
   "metadata": {},
   "outputs": [],
   "source": [
    "df1_lca = pd.DataFrame(df_prestation_lca_restricted.groupby('DISCIPLINES_SIMPLIFIED_SET')['uuid'].apply(set))"
   ]
  },
  {
   "cell_type": "code",
   "execution_count": null,
   "id": "225",
   "metadata": {},
   "outputs": [],
   "source": [
    "df1_lca['med_type'] = 'Complementary'"
   ]
  },
  {
   "cell_type": "code",
   "execution_count": null,
   "id": "226",
   "metadata": {},
   "outputs": [],
   "source": [
    "df2_aos = pd.DataFrame(df_prestation_aos.groupby('SOUS_CATEGORIE_DISPENSATEUR')['uuid'].apply(set))"
   ]
  },
  {
   "cell_type": "code",
   "execution_count": null,
   "id": "227",
   "metadata": {},
   "outputs": [],
   "source": [
    "df2_aos['med_type'] = 'Conventional'"
   ]
  },
  {
   "cell_type": "code",
   "execution_count": null,
   "id": "228",
   "metadata": {},
   "outputs": [],
   "source": [
    "df_uuid_sets = pd.concat([df1_lca, df2_aos])"
   ]
  },
  {
   "cell_type": "code",
   "execution_count": null,
   "id": "229",
   "metadata": {},
   "outputs": [],
   "source": [
    "df_uuid_sets['len_set'] = df_uuid_sets['uuid'].apply(len)"
   ]
  },
  {
   "cell_type": "code",
   "execution_count": null,
   "id": "230",
   "metadata": {},
   "outputs": [],
   "source": [
    "# Initialize an empty DataFrame to store the Jaccard indices\n",
    "jaccard_df = pd.DataFrame(index=df_uuid_sets.index, columns=df_uuid_sets.index)\n",
    "\n",
    "# Compute the Jaccard index for all combinations\n",
    "for row1, row2 in combinations(df_uuid_sets.index, 2):\n",
    "    set1 = df_uuid_sets.loc[row1, 'uuid']\n",
    "    set2 = df_uuid_sets.loc[row2, 'uuid']\n",
    "    intersection = len(set1 & set2)\n",
    "    union = len(set1 | set2)\n",
    "    jaccard_index = intersection / union\n",
    "    \n",
    "    # Fill the DataFrame\n",
    "    jaccard_df.loc[row1, row2] = jaccard_index\n",
    "    jaccard_df.loc[row2, row1] = jaccard_index\n",
    "\n",
    "# Fill diagonal with 1s, as they are identical\n",
    "for row in df.index:\n",
    "    jaccard_df.loc[row, row] = 1.0"
   ]
  },
  {
   "cell_type": "code",
   "execution_count": null,
   "id": "231",
   "metadata": {},
   "outputs": [],
   "source": [
    "melted_jaccard_df = pd.melt(jaccard_df.reset_index(), id_vars=\"index\", var_name=\"Method_2\", value_name=\"jaccard_index\")\n",
    "\n",
    "melted_jaccard_df = melted_jaccard_df[melted_jaccard_df.jaccard_index.isnull()==False]\n",
    "\n",
    "melted_jaccard_df.columns = ['cat_dispensateur_A','cat_dispensateur_B', 'jaccard_index']\n",
    "\n",
    "\n",
    "melted_jaccard_df['cat_dispensateur_A'] = melted_jaccard_df.apply(lambda x: x.cat_dispensateur_B if x.cat_dispensateur_A > x.cat_dispensateur_B else x.cat_dispensateur_A ,axis =1)\n",
    "melted_jaccard_df['cat_dispensateur_B'] = melted_jaccard_df.apply(lambda x: x.cat_dispensateur_A if x.cat_dispensateur_A > x.cat_dispensateur_B else x.cat_dispensateur_B ,axis =1)\n",
    "\n",
    "melted_jaccard_df['set_cat'] = melted_jaccard_df[['cat_dispensateur_A','cat_dispensateur_B']].apply(set, axis = 1)\n",
    "\n",
    "melted_jaccard_df = melted_jaccard_df.drop_duplicates('set_cat')\n",
    "\n",
    "melted_jaccard_df['len_set'] = melted_jaccard_df['set_cat'].apply(len)\n",
    "\n",
    "melted_jaccard_df = melted_jaccard_df[melted_jaccard_df.len_set != 1]\n",
    "\n",
    "# melted_jaccard_df = melted_jaccard_df[melted_jaccard_df.jaccard_index > 0.05]"
   ]
  },
  {
   "cell_type": "code",
   "execution_count": null,
   "id": "232",
   "metadata": {},
   "outputs": [],
   "source": [
    "node_weights = df_uuid_sets['len_set'].div(100).to_dict()"
   ]
  },
  {
   "cell_type": "code",
   "execution_count": null,
   "id": "233",
   "metadata": {},
   "outputs": [],
   "source": [
    "# Function to map 'type of medicine' to a color\n",
    "def get_color(type_of_medicine):\n",
    "    color_map = {\n",
    "        'Conventional': 'red',\n",
    "        'Complementary': 'blue',\n",
    "        'Type3': 'green'\n",
    "        # Add more types here\n",
    "    }\n",
    "    return color_map.get(type_of_medicine, 'gray')  # Default to gray if type not found\n"
   ]
  },
  {
   "cell_type": "code",
   "execution_count": null,
   "id": "234",
   "metadata": {},
   "outputs": [],
   "source": [
    "plt.rcParams.update(plt.rcParamsDefault)\n",
    "plt.rcParams.update({'figure.figsize': (15, 10)})\n",
    "\n",
    "# Create an empty graph\n",
    "G = nx.Graph()\n",
    "\n",
    "# Add nodes to the graph\n",
    "nodes = set(melted_jaccard_df['cat_dispensateur_A']).union(set(melted_jaccard_df['cat_dispensateur_B']))\n",
    "G.add_nodes_from(nodes)\n",
    "node_sizes = [node_weights[node] / 10 for node in G.nodes()]\n",
    "nx.set_node_attributes(G, df_uuid_sets['med_type'].to_dict(), 'med_type')\n",
    "node_colors = [get_color(G.nodes[node].get('med_type', None)) for node in G.nodes()]\n",
    "\n",
    "# node_color=node_color\n",
    "# Add edges to the graph\n",
    "edges = [(row['cat_dispensateur_A'], row['cat_dispensateur_B'], row['jaccard_index']) for _, row in melted_jaccard_df.iterrows()]\n",
    "G.add_weighted_edges_from(edges)\n",
    "\n",
    "# Define the layout\n",
    "pos = nx.spring_layout(G, k=0.1, iterations=100, weight = 'weight')\n",
    "# Plot the graph\n",
    "nx.draw(G, with_labels=True, font_size = 1, node_color=node_colors, width = melted_jaccard_df['jaccard_index']/10, edge_color='gray',alpha=0.7, node_size=node_sizes)\n",
    "\n",
    "# Adjust plot limits to account for label spacing\n",
    "xmin, xmax, ymin, ymax = plt.axis()\n",
    "plt.axis([xmin - 0.1, xmax + 0.1, ymin - 0.1, ymax + 0.1])\n",
    "plt.savefig(output_folder/'Network analyses/Collaboration - Conventional vs Complementary.png', format = 'png', dpi = 1200, bbox_inches = 'tight')\n",
    "\n",
    "plt.show()"
   ]
  },
  {
   "cell_type": "code",
   "execution_count": null,
   "id": "235",
   "metadata": {},
   "outputs": [],
   "source": [
    "melted_jaccard_df_massage = melted_jaccard_df[(melted_jaccard_df.cat_dispensateur_A == 'Methodes de massage')|(melted_jaccard_df.cat_dispensateur_B == 'Methodes de massage')]"
   ]
  },
  {
   "cell_type": "code",
   "execution_count": null,
   "id": "236",
   "metadata": {},
   "outputs": [],
   "source": [
    "df_prestation_aos.uuid.nunique()"
   ]
  },
  {
   "cell_type": "code",
   "execution_count": null,
   "id": "237",
   "metadata": {},
   "outputs": [],
   "source": [
    "plt.rcParams.update(plt.rcParamsDefault)\n",
    "plt.rcParams.update({'figure.figsize': (15, 10)})\n",
    "\n",
    "# Create an empty graph\n",
    "G = nx.Graph()\n",
    "\n",
    "# Add nodes to the graph\n",
    "nodes = set(melted_jaccard_df_massage['cat_dispensateur_A']).union(set(melted_jaccard_df_massage['cat_dispensateur_B']))\n",
    "G.add_nodes_from(nodes)\n",
    "node_sizes = [node_weights[node] / 10 for node in G.nodes()]\n",
    "nx.set_node_attributes(G, df_uuid_sets['med_type'].to_dict(), 'med_type')\n",
    "node_colors = [get_color(G.nodes[node].get('med_type', None)) for node in G.nodes()]\n",
    "\n",
    "# node_color=node_color\n",
    "# Add edges to the graph\n",
    "edges = [(row['cat_dispensateur_A'], row['cat_dispensateur_B'], row['jaccard_index']) for _, row in melted_jaccard_df_massage.iterrows()]\n",
    "G.add_weighted_edges_from(edges)\n",
    "\n",
    "# Define the layout\n",
    "pos = nx.spring_layout(G, k=5, iterations=100, weight = 'weight')\n",
    "# Plot the graph\n",
    "nx.draw(G, with_labels=True, font_size = 3, node_color=node_colors, width = melted_jaccard_df_massage['jaccard_index']*10, edge_color='gray',alpha=0.7, node_size=node_sizes)\n",
    "\n",
    "# Adjust plot limits to account for label spacing\n",
    "xmin, xmax, ymin, ymax = plt.axis()\n",
    "plt.axis([xmin - 0.1, xmax + 0.1, ymin - 0.1, ymax + 0.1])\n",
    "plt.savefig(output_folder/'Network analyses/Collaboration - Conventional vs Complementary - Massages.pdf', format = 'pdf', bbox_inches = 'tight')\n",
    "\n",
    "plt.show()"
   ]
  },
  {
   "cell_type": "code",
   "execution_count": null,
   "id": "238",
   "metadata": {},
   "outputs": [],
   "source": [
    "melted_jaccard_df_onco = melted_jaccard_df[(melted_jaccard_df.cat_dispensateur_B.str.contains('onco|Onco'))|(melted_jaccard_df.cat_dispensateur_A.str.contains('onco|Onco'))].sort_values('jaccard_index')"
   ]
  },
  {
   "cell_type": "code",
   "execution_count": null,
   "id": "239",
   "metadata": {},
   "outputs": [],
   "source": [
    "plt.rcParams.update(plt.rcParamsDefault)\n",
    "plt.rcParams.update({'figure.figsize': (15, 10)})\n",
    "\n",
    "# Create an empty graph\n",
    "G = nx.Graph()\n",
    "\n",
    "# Add nodes to the graph\n",
    "nodes = set(melted_jaccard_df_onco['cat_dispensateur_A']).union(set(melted_jaccard_df_onco['cat_dispensateur_B']))\n",
    "G.add_nodes_from(nodes)\n",
    "node_sizes = [node_weights[node] / 10 for node in G.nodes()]\n",
    "nx.set_node_attributes(G, df_uuid_sets['med_type'].to_dict(), 'med_type')\n",
    "node_colors = [get_color(G.nodes[node].get('med_type', None)) for node in G.nodes()]\n",
    "\n",
    "# node_color=node_color\n",
    "# Add edges to the graph\n",
    "edges = [(row['cat_dispensateur_A'], row['cat_dispensateur_B'], row['jaccard_index']) for _, row in melted_jaccard_df_onco.iterrows()]\n",
    "G.add_weighted_edges_from(edges)\n",
    "\n",
    "# Define the layout\n",
    "pos = nx.spring_layout(G, k=5, iterations=100, weight = 'weight')\n",
    "# Plot the graph\n",
    "nx.draw(G, with_labels=True, font_size = 3, node_color=node_colors, width = melted_jaccard_df_onco['jaccard_index']*10, edge_color='gray',alpha=0.7, node_size=node_sizes)\n",
    "\n",
    "# Adjust plot limits to account for label spacing\n",
    "xmin, xmax, ymin, ymax = plt.axis()\n",
    "plt.axis([xmin - 0.1, xmax + 0.1, ymin - 0.1, ymax + 0.1])\n",
    "plt.savefig(output_folder/'Network analyses/Collaboration - Conventional vs Complementary - Onco.pdf', format = 'pdf', bbox_inches = 'tight')\n",
    "\n",
    "plt.show()"
   ]
  },
  {
   "cell_type": "code",
   "execution_count": null,
   "id": "240",
   "metadata": {},
   "outputs": [],
   "source": [
    "melted_jaccard_df_complementary = melted_jaccard_df[(melted_jaccard_df.cat_dispensateur_A.isin(df1_lca.index))|(melted_jaccard_df.cat_dispensateur_B.isin(df1_lca.index))]"
   ]
  },
  {
   "cell_type": "code",
   "execution_count": null,
   "id": "241",
   "metadata": {},
   "outputs": [],
   "source": [
    "melted_jaccard_df_complementary.sort_values('jaccard_index')"
   ]
  },
  {
   "cell_type": "code",
   "execution_count": null,
   "id": "242",
   "metadata": {},
   "outputs": [],
   "source": [
    "melted_jaccard_df_complementary = melted_jaccard_df_complementary[melted_jaccard_df_complementary.jaccard_index > 0.001]"
   ]
  },
  {
   "cell_type": "code",
   "execution_count": null,
   "id": "243",
   "metadata": {},
   "outputs": [],
   "source": [
    "# Create an empty graph\n",
    "G = nx.Graph()\n",
    "\n",
    "# Add nodes to the graph\n",
    "nodes = set(melted_jaccard_df_complementary['cat_dispensateur_A']).union(set(melted_jaccard_df_complementary['cat_dispensateur_B']))\n",
    "G.add_nodes_from(nodes)\n",
    "node_sizes = [node_weights[node] / 10 for node in G.nodes()]\n",
    "nx.set_node_attributes(G, df_uuid_sets['med_type'].to_dict(), 'med_type')\n",
    "node_colors = [get_color(G.nodes[node].get('med_type', None)) for node in G.nodes()]\n",
    "\n",
    "# node_color=node_color\n",
    "# Add edges to the graph\n",
    "edges = [(row['cat_dispensateur_A'], row['cat_dispensateur_B'], row['jaccard_index']) for _, row in melted_jaccard_df_complementary.iterrows()]\n",
    "G.add_weighted_edges_from(edges)\n",
    "\n",
    "# Define the layout\n",
    "pos = nx.spring_layout(G, k=5, iterations=100, weight = 'weight')\n",
    "# Plot the graph\n",
    "nx.draw(G, with_labels=True, font_size = 3, node_color=node_colors, width = melted_jaccard_df_complementary['jaccard_index'], edge_color='gray',alpha=0.7, node_size=node_sizes)\n",
    "\n",
    "# Adjust plot limits to account for label spacing\n",
    "xmin, xmax, ymin, ymax = plt.axis()\n",
    "plt.axis([xmin - 0.1, xmax + 0.1, ymin - 0.1, ymax + 0.1])\n",
    "plt.savefig('output_folder/Network analyses/Collaboration - Conventional vs Complementary - Complementary links.pdf', format = 'pdf', bbox_inches = 'tight')\n",
    "\n",
    "plt.show()"
   ]
  },
  {
   "cell_type": "code",
   "execution_count": null,
   "id": "244",
   "metadata": {},
   "outputs": [],
   "source": [
    "df_uuid_sets[['med_type','len_set']].to_csv('output_folder/Network analyses/df_nodes_complementary_collab.csv', sep = ';')"
   ]
  },
  {
   "cell_type": "code",
   "execution_count": null,
   "id": "245",
   "metadata": {},
   "outputs": [],
   "source": [
    "melted_jaccard_df_complementary.to_csv('output_folder/Network analyses/df_network_complementary_collab.csv', sep=';', index=False)"
   ]
  },
  {
   "cell_type": "markdown",
   "id": "246",
   "metadata": {},
   "source": [
    "## Geographically weighted k-means"
   ]
  },
  {
   "cell_type": "code",
   "execution_count": null,
   "id": "247",
   "metadata": {},
   "outputs": [],
   "source": []
  },
  {
   "cell_type": "code",
   "execution_count": null,
   "id": "248",
   "metadata": {},
   "outputs": [],
   "source": []
  }
 ],
 "metadata": {
  "kernelspec": {
   "display_name": "py311",
   "language": "python",
   "name": "py311"
  },
  "language_info": {
   "codemirror_mode": {
    "name": "ipython",
    "version": 3
   },
   "file_extension": ".py",
   "mimetype": "text/x-python",
   "name": "python",
   "nbconvert_exporter": "python",
   "pygments_lexer": "ipython3",
   "version": "3.11.9"
  }
 },
 "nbformat": 4,
 "nbformat_minor": 5
}
