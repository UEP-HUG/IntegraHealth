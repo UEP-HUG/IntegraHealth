{
 "cells": [
  {
   "cell_type": "code",
   "execution_count": null,
   "id": "0",
   "metadata": {},
   "outputs": [],
   "source": [
    "import pandas as pd\n",
    "import matplotlib.pyplot as plt\n",
    "import seaborn as sns\n",
    "from pathlib import Path\n",
    "import geopandas as gpd\n",
    "from tableone import TableOne\n",
    "from utils import read_data, plot_covariate_distributions, plot_match, compare_balance, sizeof_fmt, optimize_memory_df, plot_categorical_proportional_diff, compute_mean_differences_and_proportions, love_plot, sensitivity_analysis_k_neighbors"
   ]
  },
  {
   "cell_type": "markdown",
   "id": "1",
   "metadata": {},
   "source": [
    "## CHECK VARIABLES INPATIENT AND OUTPATIENT HOSPITALISATION !!\n",
    "\n",
    "Weirdly enough, these seem to be identical ! -> Done and it is correct !!"
   ]
  },
  {
   "cell_type": "code",
   "execution_count": null,
   "id": "2",
   "metadata": {},
   "outputs": [],
   "source": [
    "main_folder = Path('../Manuscript/Economic analysis of integrative medicine/')\n",
    "data_folder = Path('../Data')\n",
    "results_folder = main_folder/'Results'\n",
    "figures_folder = main_folder/'Figures'"
   ]
  },
  {
   "cell_type": "code",
   "execution_count": null,
   "id": "3",
   "metadata": {},
   "outputs": [],
   "source": [
    "import os\n",
    "model_folder = results_folder/'Models'\n",
    "if not os.path.exists(model_folder):\n",
    "    os.makedirs(model_folder)"
   ]
  },
  {
   "cell_type": "markdown",
   "id": "4",
   "metadata": {},
   "source": [
    "## Load data"
   ]
  },
  {
   "cell_type": "code",
   "execution_count": null,
   "id": "5",
   "metadata": {},
   "outputs": [],
   "source": [
    "df_treated_filtered = pd.read_parquet('../Data/processed/df_treated_filtered.parquet.gzip')"
   ]
  },
  {
   "cell_type": "code",
   "execution_count": null,
   "id": "6",
   "metadata": {},
   "outputs": [],
   "source": [
    "df_treated_filtered.shape[0]"
   ]
  },
  {
   "cell_type": "code",
   "execution_count": null,
   "id": "7",
   "metadata": {},
   "outputs": [],
   "source": [
    "df_treated_filtered[df_treated_filtered.gp.isnull()]"
   ]
  },
  {
   "cell_type": "code",
   "execution_count": null,
   "id": "8",
   "metadata": {},
   "outputs": [],
   "source": [
    "df_treated_filtered.groupby(['NOANNEE','gp']).size()"
   ]
  },
  {
   "cell_type": "code",
   "execution_count": null,
   "id": "9",
   "metadata": {},
   "outputs": [],
   "source": [
    "df_treated_filtered.groupby('treatment_lca_cam').size()"
   ]
  },
  {
   "cell_type": "code",
   "execution_count": null,
   "id": "10",
   "metadata": {},
   "outputs": [],
   "source": [
    "df_treated_filtered['PRESTATIONS_BRUTES_AOS'].sum()"
   ]
  },
  {
   "cell_type": "markdown",
   "id": "11",
   "metadata": {},
   "source": [
    "## Table 1 "
   ]
  },
  {
   "cell_type": "code",
   "execution_count": null,
   "id": "12",
   "metadata": {},
   "outputs": [],
   "source": [
    "variable_names = pd.DataFrame({\"old\": ['multimorbidity','ssep3_q','Urbanicity_simple','n_atc','n_flags','NBAGE',\"NBAGE_std\",'age_group', \"ssep3_std\",'ssep3', 'region_DE', 'region_FR', 'region_IT','urb_Urbain','urb_Périurbain','Asthma_PCG', 'Cancer_PCG', 'Diabetes_PCG', 'Epilepsy_PCG',\n",
    "       'Glaucoma_PCG', 'HIV_AIDS_PCG', 'Heart_disease_PCG',\n",
    "       'Hypertension_related_PCG', 'Immune_PCG', 'Inflammatory_PCG',\n",
    "       'Mental_PCG', 'Other_PCG', 'Pain_PCG', 'Parkinson_PCG', 'Thyroid_PCG', \"SEX_F\",'SEX','CDPHYSSEXE','LANG', \"cds_std\",'cds','LANG_FR','D_MEDIC_B','D_MEDIC_S','D_MEDIC_B_std','D_MEDIC_S_std','DEDUCTIBLE_above_500','E_std','N_std','E_std:N_std','PRESTATIONS_BRUTES_ATC','PRESTATIONS_TOTAL','PRESTATIONS_BRUTES_AOS','PRESTATIONS_BRUTES_LCA','PRESTATIONS_BRUTES_CAM','PRESTATIONS_BRUTES_AMBULATOIRE','PRESTATIONS_BRUTES_STATIONNAIRE','PRESTATIONS_ACCIDENT','PRESTATIONS_DISEASE','PRESTATIONS_BIRTH','MTFRANCHISECOUV','mean_pm10','mean_no2','mean_pm25','mean_ndvi','mean_lst','mean_carnight'],\n",
    "                           \"new\": ['Multimorbidity','Swiss-SEP','Urbanicity','Number of ATC','Number of PCG flags','Age',\"Age\", 'Age Group', \"SES index\",'SES index','German', 'French', 'Italian','Urban','Periurban', 'Asthma', 'Cancer', 'Diabetes', 'Epilepsy', 'Glaucoma', 'HIV/AIDS',\n",
    "       'Heart disease', 'Hypertension related', 'Immune', 'Inflammatory',\n",
    "       'Mental', 'Other', 'Pain', 'Parkinson', 'Thyroid', \"Sex (Female)\",'Sex','Sex','Langage', \"CDS\",'CDS','French speaker','Access to prim. care med.','Access to spec. med.','Access to prim. care med.','Access to spec. med.','Deductible (>500)','E','N','E:N','Drug-related claims (CHF)','Total claims amount (CHF)','CM claims (MHI) (CHF)','CAM claims (SI) (CHF)','CAM claims (MHI) (CHF)','Ambulatory claims (CHF)','Stationary claims (CHF)','Accident-related claims (CHF)','Disease-related claims (CHF)','Birth-related claims (CHF)','Deductible','PM10','NO2','PM25','NDVI','LST','Nighttime car noise']})\n",
    "def update_variable_names(summary_table, variable_names, table_type):\n",
    "    name_mapper = variable_names.set_index('old')['new'].to_dict()\n",
    "    if table_type == 'summary':\n",
    "        name_mapper = {f\"{key}, mean (SD)\": f\"{value}, mean (SD)\" for key, value in name_mapper.items()}\n",
    "    elif table_type == 'categorical':\n",
    "        name_mapper = {f\"{key}, n (%)\": f\"{value}, n (%)\" for key, value in name_mapper.items()}\n",
    "    summary_table = summary_table.rename(index=name_mapper)\n",
    "    return summary_table"
   ]
  },
  {
   "cell_type": "code",
   "execution_count": null,
   "id": "13",
   "metadata": {},
   "outputs": [],
   "source": [
    "columns = ['PRESTATIONS_TOTAL','PRESTATIONS_BRUTES_AOS','PRESTATIONS_BRUTES_CAM','PRESTATIONS_BRUTES_LCA','PRESTATIONS_BRUTES_ATC','PRESTATIONS_BRUTES_AMBULATOIRE','PRESTATIONS_BRUTES_STATIONNAIRE','n_flags','n_atc']\n",
    "mytable = TableOne(df_treated_filtered, columns, groupby='NOANNEE', \n",
    "                   categorical = [],\n",
    "                   pval=True,\n",
    "                   pval_adjust='bonferroni', \n",
    "                   htest_name=False, \n",
    "                   nonnormal = ['PRESTATIONS_TOTAL','PRESTATIONS_BRUTES_AOS','PRESTATIONS_BRUTES_CAM','PRESTATIONS_BRUTES_LCA','PRESTATIONS_BRUTES_ATC','PRESTATIONS_BRUTES_AMBULATOIRE','PRESTATIONS_BRUTES_STATIONNAIRE','n_flag','n_atc'],\n",
    "                   missing=False,\n",
    "                   normal_test=True,\n",
    "                   tukey_test=True)\n",
    "summary_table_year = update_variable_names(mytable.tableone,variable_names,'summary')\n",
    "summary_table_year"
   ]
  },
  {
   "cell_type": "code",
   "execution_count": null,
   "id": "14",
   "metadata": {},
   "outputs": [],
   "source": [
    "summary_table_year.to_clipboard()"
   ]
  },
  {
   "cell_type": "code",
   "execution_count": null,
   "id": "15",
   "metadata": {},
   "outputs": [],
   "source": [
    "df_treated_filtered.n_atc.plot.kde()"
   ]
  },
  {
   "cell_type": "code",
   "execution_count": null,
   "id": "16",
   "metadata": {},
   "outputs": [],
   "source": [
    "columns = ['PRESTATIONS_TOTAL','PRESTATIONS_BRUTES_AOS','PRESTATIONS_BRUTES_CAM','PRESTATIONS_BRUTES_LCA','PRESTATIONS_BRUTES_ATC','PRESTATIONS_BRUTES_AMBULATOIRE','PRESTATIONS_BRUTES_STATIONNAIRE','n_flags','n_atc']\n",
    "mytable = TableOne(df_treated_filtered, columns, groupby='CDPHYSSEXE', \n",
    "                   categorical = [],\n",
    "                   pval=True,\n",
    "                   pval_adjust='bonferroni', \n",
    "                   htest_name=False, \n",
    "                   nonnormal = ['PRESTATIONS_TOTAL','PRESTATIONS_BRUTES_AOS','PRESTATIONS_BRUTES_CAM','PRESTATIONS_BRUTES_LCA','PRESTATIONS_BRUTES_ATC','PRESTATIONS_BRUTES_AMBULATOIRE','PRESTATIONS_BRUTES_STATIONNAIRE','n_flags','n_atc'],\n",
    "                   missing=False,\n",
    "                   normal_test=True,\n",
    "                   tukey_test=True)\n",
    "summary_table_year = update_variable_names(mytable.tableone,variable_names,'summary')\n",
    "summary_table_year"
   ]
  },
  {
   "cell_type": "code",
   "execution_count": null,
   "id": "17",
   "metadata": {},
   "outputs": [],
   "source": [
    "summary_table_year.to_clipboard()"
   ]
  },
  {
   "cell_type": "code",
   "execution_count": null,
   "id": "18",
   "metadata": {},
   "outputs": [],
   "source": [
    "columns = ['PRESTATIONS_BRUTES_CAM']\n",
    "mytable = TableOne(df_treated_filtered[df_treated_filtered.PRESTATIONS_BRUTES_CAM>0], columns, groupby='NOANNEE', \n",
    "                   categorical = [],\n",
    "                   pval=True,\n",
    "                   pval_adjust='bonferroni', \n",
    "                   htest_name=False, \n",
    "                   nonnormal = ['PRESTATIONS_BRUTES_CAM'],\n",
    "                   missing=False,\n",
    "                   normal_test=True,\n",
    "                   tukey_test=True)\n",
    "summary_table_year = update_variable_names(mytable.tableone,variable_names,'summary')\n",
    "summary_table_year"
   ]
  },
  {
   "cell_type": "code",
   "execution_count": null,
   "id": "19",
   "metadata": {},
   "outputs": [],
   "source": [
    "summary_table_year.to_clipboard()"
   ]
  },
  {
   "cell_type": "code",
   "execution_count": null,
   "id": "20",
   "metadata": {},
   "outputs": [],
   "source": [
    "columns = ['PRESTATIONS_BRUTES_CAM']\n",
    "mytable = TableOne(df_treated_filtered[df_treated_filtered.PRESTATIONS_BRUTES_CAM>0], columns, groupby='CDPHYSSEXE', \n",
    "                   categorical = [],\n",
    "                   pval=True,\n",
    "                   pval_adjust='bonferroni', \n",
    "                   htest_name=False, \n",
    "                   nonnormal = ['PRESTATIONS_BRUTES_CAM'],\n",
    "                   missing=False,\n",
    "                   normal_test=True,\n",
    "                   tukey_test=True)\n",
    "summary_table_year = update_variable_names(mytable.tableone,variable_names,'summary')\n",
    "summary_table_year"
   ]
  },
  {
   "cell_type": "code",
   "execution_count": null,
   "id": "21",
   "metadata": {},
   "outputs": [],
   "source": [
    "summary_table_year.to_clipboard()"
   ]
  },
  {
   "cell_type": "code",
   "execution_count": null,
   "id": "22",
   "metadata": {},
   "outputs": [],
   "source": [
    "columns = ['CDPHYSSEXE','age_group', 'Language','Urbanicity_simple','ssep3_q','Asthma_PCG', 'Cancer_PCG', 'Diabetes_PCG', 'Epilepsy_PCG',\n",
    "       'Glaucoma_PCG', 'HIV_AIDS_PCG', 'Heart_disease_PCG',\n",
    "       'Hypertension_related_PCG', 'Immune_PCG', 'Inflammatory_PCG',\n",
    "       'Mental_PCG', 'Other_PCG', 'Pain_PCG', 'Parkinson_PCG', 'Thyroid_PCG','n_inpatient_hosp', 'multimorbidity']\n",
    "mytable = TableOne(df_treated_filtered, columns, groupby='NOANNEE', \n",
    "                   categorical = ['CDPHYSSEXE','age_group', 'Language','Urbanicity_simple','ssep3_q','Asthma_PCG', 'Cancer_PCG', 'Diabetes_PCG', 'Epilepsy_PCG',\n",
    "       'Glaucoma_PCG', 'HIV_AIDS_PCG', 'Heart_disease_PCG',\n",
    "       'Hypertension_related_PCG', 'Immune_PCG', 'Inflammatory_PCG',\n",
    "       'Mental_PCG', 'Other_PCG', 'Pain_PCG', 'Parkinson_PCG', 'Thyroid_PCG','n_inpatient_hosp','multimorbidity'],\n",
    "                   pval=True,\n",
    "                   pval_adjust='bonferroni', \n",
    "                   htest_name=False, \n",
    "                   missing=False,\n",
    "                   normal_test=True,\n",
    "                   tukey_test=True)\n",
    "summary_table_year = update_variable_names(mytable.tableone,variable_names,'categorical')\n",
    "summary_table_year"
   ]
  },
  {
   "cell_type": "code",
   "execution_count": null,
   "id": "23",
   "metadata": {},
   "outputs": [],
   "source": [
    "summary_table_year.to_clipboard()"
   ]
  },
  {
   "cell_type": "code",
   "execution_count": null,
   "id": "24",
   "metadata": {},
   "outputs": [],
   "source": [
    "n_sex_uuid = df_treated_filtered.groupby('uuid').CDPHYSSEXE.nunique().sort_values()"
   ]
  },
  {
   "cell_type": "code",
   "execution_count": null,
   "id": "25",
   "metadata": {},
   "outputs": [],
   "source": [
    "columns = ['PRESTATIONS_TOTAL','PRESTATIONS_BRUTES_AOS','PRESTATIONS_BRUTES_CAM','PRESTATIONS_BRUTES_LCA','PRESTATIONS_BRUTES_ATC','PRESTATIONS_BRUTES_AMBULATOIRE','PRESTATIONS_BRUTES_STATIONNAIRE','n_flags','n_atc', 'CDPHYSSEXE','age_group', 'Language','Urbanicity_simple','ssep3_q','Asthma_PCG', 'Cancer_PCG', 'Diabetes_PCG', 'Epilepsy_PCG',\n",
    "       'Glaucoma_PCG', 'HIV_AIDS_PCG', 'Heart_disease_PCG',\n",
    "       'Hypertension_related_PCG', 'Immune_PCG', 'Inflammatory_PCG',\n",
    "       'Mental_PCG', 'Other_PCG', 'Pain_PCG', 'Parkinson_PCG', 'Thyroid_PCG', 'multimorbidity']\n",
    "mytable = TableOne(df_treated_filtered, columns, groupby='treatment_lca_cam', \n",
    "                   categorical = ['CDPHYSSEXE','age_group', 'Language','Urbanicity_simple','ssep3_q','Asthma_PCG', 'Cancer_PCG', 'Diabetes_PCG', 'Epilepsy_PCG',\n",
    "       'Glaucoma_PCG', 'HIV_AIDS_PCG', 'Heart_disease_PCG',\n",
    "       'Hypertension_related_PCG', 'Immune_PCG', 'Inflammatory_PCG',\n",
    "       'Mental_PCG', 'Other_PCG', 'Pain_PCG', 'Parkinson_PCG', 'Thyroid_PCG','multimorbidity'],\n",
    "                   pval=True,\n",
    "                   pval_adjust='bonferroni', \n",
    "                   htest_name=False, \n",
    "                   missing=False,\n",
    "                   normal_test=True,\n",
    "                   tukey_test=True)\n",
    "summary_table_year = update_variable_names(mytable.tableone,variable_names,'categorical')\n",
    "summary_table_year"
   ]
  },
  {
   "cell_type": "code",
   "execution_count": null,
   "id": "26",
   "metadata": {},
   "outputs": [],
   "source": [
    "df_treated_filtered['treatment_lca_cam']"
   ]
  },
  {
   "cell_type": "code",
   "execution_count": null,
   "id": "27",
   "metadata": {},
   "outputs": [],
   "source": [
    "summary_table_year.to_clipboard()"
   ]
  },
  {
   "cell_type": "markdown",
   "id": "28",
   "metadata": {},
   "source": [
    "## Multilevel model"
   ]
  },
  {
   "cell_type": "markdown",
   "id": "29",
   "metadata": {},
   "source": [
    "### Prestations LCA"
   ]
  },
  {
   "cell_type": "code",
   "execution_count": null,
   "id": "30",
   "metadata": {},
   "outputs": [],
   "source": [
    "import statsmodels.api as sm\n",
    "import statsmodels.formula.api as smf"
   ]
  },
  {
   "cell_type": "code",
   "execution_count": null,
   "id": "31",
   "metadata": {},
   "outputs": [],
   "source": [
    "sample_uuid = df_treated_filtered.sample(1000, random_state=42).uuid.unique()"
   ]
  },
  {
   "cell_type": "code",
   "execution_count": null,
   "id": "32",
   "metadata": {},
   "outputs": [],
   "source": [
    "df_sample = df_treated_filtered[df_treated_filtered.uuid.isin(sample_uuid)]"
   ]
  },
  {
   "cell_type": "code",
   "execution_count": null,
   "id": "33",
   "metadata": {},
   "outputs": [],
   "source": [
    "df_sample.to_csv(\"/Users/david/Dropbox/PhD/GitHub/SanteIntegra/Data/processed/df_sample.csv\")"
   ]
  },
  {
   "cell_type": "markdown",
   "id": "34",
   "metadata": {},
   "source": [
    "## Comparison between R and Python code"
   ]
  },
  {
   "cell_type": "code",
   "execution_count": null,
   "id": "35",
   "metadata": {},
   "outputs": [],
   "source": [
    "Fribourg_data = pd.read_stata('/Users/david/Dropbox/PhD/Course material/Multilevel modelling of clustered data/data_for_participants/Fribourg_data_new.dta')"
   ]
  },
  {
   "cell_type": "code",
   "execution_count": null,
   "id": "36",
   "metadata": {},
   "outputs": [],
   "source": [
    "model_ri_frib = smf.mixedlm(formula='q1km ~ sex + generati + wend + C(otime)', \n",
    "                             data=Fribourg_data, \n",
    "                             groups=Fribourg_data['code'], \n",
    "                             re_formula='~1').fit(reml=False)"
   ]
  },
  {
   "cell_type": "code",
   "execution_count": null,
   "id": "37",
   "metadata": {},
   "outputs": [],
   "source": [
    "print(model_ri_frib.summary())"
   ]
  },
  {
   "cell_type": "code",
   "execution_count": null,
   "id": "38",
   "metadata": {},
   "outputs": [],
   "source": [
    "# Obtain the residuals\n",
    "residuals = model_ri_frib.resid\n",
    "# Obtain the fitted values  \n",
    "fitted_values = model_ri_frib.fittedvalues\n",
    "random_intercepts = pd.DataFrame({k: v['Group'] for k, v in  model_ri_frib.random_effects.items()}, index=['random_intercept']).T\n"
   ]
  },
  {
   "cell_type": "code",
   "execution_count": null,
   "id": "39",
   "metadata": {},
   "outputs": [],
   "source": [
    "model_rs_frib = smf.mixedlm(formula='q1km ~ sex + generati + wend + C(otime)', \n",
    "                             data=Fribourg_data, \n",
    "                             groups=Fribourg_data['code'], \n",
    "                             re_formula='~wend').fit(reml=False)"
   ]
  },
  {
   "cell_type": "code",
   "execution_count": null,
   "id": "40",
   "metadata": {},
   "outputs": [],
   "source": [
    "print(model_rs_frib.summary())"
   ]
  },
  {
   "cell_type": "code",
   "execution_count": null,
   "id": "41",
   "metadata": {},
   "outputs": [],
   "source": [
    "# Ensure 'Fribourg_data' is a pandas DataFrame and that 'otime' is treated as a categorical variable\n",
    "Fribourg_data['otime'] = Fribourg_data['otime'].astype('category')\n",
    "\n",
    "# Define the mixed effects model formula\n",
    "# 'C()' is used to specify categorical variables in statsmodels\n",
    "model_formula = 'q1km ~ sex + generati + wend + C(otime)'\n",
    "\n",
    "# Fit the mixed effects model\n",
    "# Specify the random intercepts and slopes for 'code' and random intercepts for 'famcode'\n",
    "model_rIs_frib = smf.mixedlm(model_formula, Fribourg_data, \n",
    "                          groups=Fribourg_data['code'], \n",
    "                          re_formula='1 + wend', \n",
    "                          vc_formula={'famcode': '0 + C(famcode)'}).fit(reml=False)\n"
   ]
  },
  {
   "cell_type": "code",
   "execution_count": null,
   "id": "42",
   "metadata": {},
   "outputs": [],
   "source": [
    "print(model_rIs_frib.summary())"
   ]
  },
  {
   "cell_type": "code",
   "execution_count": null,
   "id": "43",
   "metadata": {},
   "outputs": [],
   "source": [
    "# random.famcode <- ranef(model_rIs_frib)$famcode\n",
    "# random.famcode$`(Intercept)`[row.names(random.famcode) == \"2726\"]"
   ]
  },
  {
   "cell_type": "markdown",
   "id": "44",
   "metadata": {},
   "source": [
    "## Multilevel Modeling "
   ]
  },
  {
   "cell_type": "code",
   "execution_count": null,
   "id": "45",
   "metadata": {},
   "outputs": [],
   "source": [
    "formula_1 = 'ihs_cost_aos ~ treatment*year'\n",
    "formula_2 = 'ihs_cost_aos ~ treatment*year + NBAGE + SEX_F'\n",
    "formula_3 = 'ihs_cost_aos ~ treatment*year + NBAGE + SEX_F + cds + ssep3'\n",
    "formula_4 = 'ihs_cost_aos ~ treatment*year + NBAGE + SEX_F + cds + ssep3 + CDLANGUE + D_MEDIC_S + D_MEDIC_B + mean_lst+mean_pm10 + mean_ndvi'"
   ]
  },
  {
   "cell_type": "code",
   "execution_count": null,
   "id": "46",
   "metadata": {},
   "outputs": [],
   "source": [
    "def output_model(model, model_n, model_type):\n",
    "    model_n_folder = model_folder/f\"Model{model_n}\"\n",
    "    model_n_type_folder = model_n_folder/model_type\n",
    "    if not os.path.exists(model_n_folder):\n",
    "        os.makedirs(model_n_folder)\n",
    "    if not os.path.exists(model_n_type_folder):\n",
    "        os.makedirs(model_n_type_folder)\n",
    "    # Convert summary to dataframe\n",
    "    quality_metrics = pd.DataFrame(model.summary().tables[0])\n",
    "    parameters = pd.DataFrame(model.summary().tables[1])\n",
    "    if model_type == 'OLS':\n",
    "        diagnostics = pd.DataFrame(model.summary().tables[2])\n",
    "        diagnostics.to_csv(model_n_type_folder/'model_diagnostics.csv')\n",
    "    else:\n",
    "        quality_metrics.loc[6] = ['AIC',model.aic,'','']\n",
    "        quality_metrics.loc[7] = ['BIC',model.bic,'','']\n",
    "    # Save to CSV\n",
    "    quality_metrics.to_csv(model_n_type_folder/'model_metrics.csv')\n",
    "    parameters.to_csv(model_n_type_folder/'model_parameters.csv')"
   ]
  },
  {
   "cell_type": "code",
   "execution_count": null,
   "id": "47",
   "metadata": {},
   "outputs": [],
   "source": [
    "from statsmodels.graphics.gofplots import qqplot\n",
    "\n",
    "def plot_model_diagnostics(model, model_type, fitted_values, residuals, random_intercepts, figsize=(10, 6)):\n",
    "    \"\"\"\n",
    "    Plots diagnostics for a fitted regression model.\n",
    "\n",
    "    Parameters:\n",
    "    fitted_values -- an array-like object of fitted values from the model\n",
    "    residuals -- an array-like object of residuals from the model\n",
    "    figsize -- a tuple defining the figure size for the plots\n",
    "    \"\"\"\n",
    "    model_n_folder = model_folder/model\n",
    "    model_n_type_folder = model_n_folder/model_type\n",
    "\n",
    "    if not os.path.exists(model_n_folder):\n",
    "        os.makedirs(model_n_folder)\n",
    "    if not os.path.exists(model_n_type_folder):\n",
    "        os.makedirs(model_n_type_folder)\n",
    "    # Residuals vs Fitted plot\n",
    "    plt.figure(figsize=figsize)\n",
    "    plt.scatter(fitted_values, residuals, alpha=0.5)\n",
    "    plt.axhline(y=0, color='r', linestyle='--')\n",
    "    plt.xlabel('Fitted Values')\n",
    "    plt.ylabel('Residuals')\n",
    "    plt.title('Residuals vs Fitted')\n",
    "    plt.savefig(model_n_type_folder/'residuals_vs_fitted.png', dpi = 300, bbox_inches = 'tight')\n",
    "    \n",
    "    # Residuals across years\n",
    "    plt.figure(figsize=figsize)\n",
    "    sns.stripplot(x='year', y=residuals, data=df, jitter=True, alpha = 0.5)\n",
    "    sns.despine()\n",
    "    plt.savefig(model_n_type_folder/'res_over_years.png', dpi = 300, bbox_inches = 'tight')\n",
    "    \n",
    "    # QQ plot for level 1 residuals\n",
    "    qqplot(residuals, line='s')\n",
    "    plt.title('QQ Plot of level 1 Residuals')\n",
    "    plt.savefig(model_n_type_folder/'qqplot_lvl1.png', dpi = 300, bbox_inches = 'tight')\n",
    "    # QQ plot for level 2 residuals\n",
    "    qqplot(random_intercepts, line='s')\n",
    "    plt.title('QQ Plot of level 2 Residuals')\n",
    "    plt.savefig(model_n_type_folder/'qqplot_lvl2.png', dpi = 300, bbox_inches = 'tight')\n",
    "\n",
    "    # Histogram of residuals\n",
    "    plt.figure(figsize=figsize)\n",
    "    sns.histplot(residuals, kde=True)\n",
    "    plt.xlabel('Residuals')\n",
    "    plt.title('Histogram of Residuals')\n",
    "    plt.savefig(model_n_type_folder/'residuals_hist.png', dpi = 300, bbox_inches = 'tight')\n",
    "\n",
    "    # Scale-Location plot (Absolute Residuals vs Fitted Values)\n",
    "    plt.figure(figsize=figsize)\n",
    "    plt.scatter(fitted_values, np.abs(residuals), alpha=0.5)\n",
    "    plt.axhline(y=np.mean(np.abs(residuals)), color='r', linestyle='--')\n",
    "    plt.xlabel('Fitted Values')\n",
    "    plt.ylabel('Absolute Residuals')\n",
    "    plt.title('Scale-Location Plot')\n",
    "    plt.savefig(model_n_type_folder/'abs_residuals_vs_fitted.png', dpi = 300, bbox_inches = 'tight')"
   ]
  },
  {
   "cell_type": "markdown",
   "id": "48",
   "metadata": {},
   "source": [
    "## Prototyping on data sample"
   ]
  },
  {
   "cell_type": "code",
   "execution_count": null,
   "id": "49",
   "metadata": {},
   "outputs": [],
   "source": [
    "df = df_sample.copy()"
   ]
  },
  {
   "cell_type": "markdown",
   "id": "50",
   "metadata": {},
   "source": [
    "### Naive OLS model"
   ]
  },
  {
   "cell_type": "code",
   "execution_count": null,
   "id": "51",
   "metadata": {},
   "outputs": [],
   "source": [
    "def run_ols(df, formula, n_formula, sample=False):\n",
    "    print('Starting OLS modeling')\n",
    "    ols_model = smf.ols(formula, data=df).fit()\n",
    "    if sample:\n",
    "        pass\n",
    "    else:\n",
    "        output_model(ols_model, n_formula, 'OLS')\n",
    "    print(ols_model.summary())\n",
    "    # Obtain the residuals\n",
    "    residuals = ols_model.resid\n",
    "    # Obtain the fitted values  \n",
    "    fitted_values = ols_model.fittedvalues\n",
    "    # Store the residuals in the original dataframe\n",
    "    df[f'model{n_formula}_ols_residuals'] = residuals\n",
    "    # Store the fitted values in the original dataframe\n",
    "    df[f'model{n_formula}_ols_fitted_values'] = fitted_values"
   ]
  },
  {
   "cell_type": "code",
   "execution_count": null,
   "id": "52",
   "metadata": {},
   "outputs": [],
   "source": [
    "run_ols(df, formula_1, 1, True)\n",
    "run_ols(df, formula_2, 2, True)\n",
    "run_ols(df, formula_3, 3, True)\n",
    "run_ols(df, formula_4, 4, True)"
   ]
  },
  {
   "cell_type": "markdown",
   "id": "53",
   "metadata": {},
   "source": [
    "### Random intercept model"
   ]
  },
  {
   "cell_type": "code",
   "execution_count": null,
   "id": "54",
   "metadata": {},
   "outputs": [],
   "source": [
    "def run_mixedlm_ri(df, formula, n_formula, sample=False):\n",
    "    print('Starting Mixed effect modeling with Random Intercepts for UUID')\n",
    "    me_intercept_model = smf.mixedlm(formula, data=df, groups=df['uuid']).fit(reml=False)\n",
    "    if sample:\n",
    "        pass\n",
    "    else:\n",
    "        output_model(me_intercept_model, n_formula, 'RI')\n",
    "    print(me_intercept_model.summary())\n",
    "    # Obtain the residuals\n",
    "    residuals = me_intercept_model.resid\n",
    "    # Obtain the fitted values\n",
    "    fitted_values = me_intercept_model.fittedvalues\n",
    "    # Obtain the random intercepts\n",
    "    random_intercepts = pd.DataFrame({k: v['Group'] for k, v in  me_intercept_model.random_effects.items()}, index=['random_intercept']).T\n",
    "    \n",
    "    # Store the residuals in the original dataframe\n",
    "    df[f'model{n_formula}_ri_residuals'] = residuals\n",
    "    # Store the fitted values in the original dataframe\n",
    "    df[f'model{n_formula}_ri_fitted_values'] = fitted_values\n",
    "    # Store the random intercepts\n",
    "    df[f'model{n_formula}_ri_random_intercepts'] = df['uuid'].map(random_intercepts['random_intercept'].to_dict())\n",
    "    # Calculate linear predictor\n",
    "    model1_ri_lin_pred = fitted_values - df[f'model{n_formula}_ri_random_intercepts'] # the linear predictor"
   ]
  },
  {
   "cell_type": "code",
   "execution_count": null,
   "id": "55",
   "metadata": {},
   "outputs": [],
   "source": [
    "run_mixedlm_ri(df, formula_1, 1, True)\n",
    "run_mixedlm_ri(df, formula_2, 2, True)\n",
    "run_mixedlm_ri(df, formula_3, 3, True)\n",
    "run_mixedlm_ri(df, formula_4, 4, True)"
   ]
  },
  {
   "cell_type": "markdown",
   "id": "56",
   "metadata": {},
   "source": [
    "### Random slope model"
   ]
  },
  {
   "cell_type": "code",
   "execution_count": null,
   "id": "57",
   "metadata": {},
   "outputs": [],
   "source": [
    "def run_mixedlm_rs(df, formula, n_formula, sample=False):\n",
    "    print('Starting Mixed effect modeling with Random Intercepts for UUID and Random Slopes for YEAR')\n",
    "    me_slope_model = smf.mixedlm(formula, data=df, \n",
    "                              groups=df['uuid'], \n",
    "                              re_formula=\"~year\").fit(reml=False)  \n",
    "    if sample:\n",
    "        pass\n",
    "    else:\n",
    "        output_model(me_slope_model, n_formula, 'RS')\n",
    "\n",
    "    print(me_slope_model.summary())\n",
    "    # Obtain the residuals\n",
    "    residuals = me_slope_model.resid\n",
    "    # Obtain the fitted values\n",
    "    fitted_values = me_slope_model.fittedvalues\n",
    "    # Obtain the random intercepts\n",
    "    random_intercepts = pd.DataFrame({k: v['Group'] for k, v in  me_slope_model.random_effects.items()}, index=['random_intercept']).T\n",
    "    # Store the residuals in the original dataframe\n",
    "    df[f'model{n_formula}_rs_residuals'] = residuals\n",
    "    # Store the fitted values in the original dataframe\n",
    "    df[f'model{n_formula}_rs_fitted_values'] = fitted_values\n",
    "    # Store the random intercepts\n",
    "    df[f'model{n_formula}_rs_random_intercepts'] = df['uuid'].map(random_intercepts['random_intercept'].to_dict())\n",
    "    # Calculate linear predictor\n",
    "    model1_ri_lin_pred = fitted_values - df[f'model{n_formula}_ri_random_intercepts'] # the linear predictor"
   ]
  },
  {
   "cell_type": "code",
   "execution_count": null,
   "id": "58",
   "metadata": {},
   "outputs": [],
   "source": [
    "run_mixedlm_rs(df, formula_1, 1, True)\n",
    "run_mixedlm_rs(df, formula_2, 2, True)\n",
    "run_mixedlm_rs(df, formula_3, 3, True)\n",
    "run_mixedlm_rs(df, formula_4, 4, True)"
   ]
  },
  {
   "cell_type": "markdown",
   "id": "59",
   "metadata": {},
   "source": [
    "### Random slope model - More complex"
   ]
  },
  {
   "cell_type": "code",
   "execution_count": null,
   "id": "60",
   "metadata": {},
   "outputs": [],
   "source": [
    "def run_mixedlm_rs_complex(df, formula, n_formula, sample=False):\n",
    "    print('Starting Mixed effect modeling with Random Intercepts for UUID and CDLANGUE and Random Slopes for YEAR')\n",
    "    # Specify the random intercepts and slopes for 'code' and random intercepts for 'famcode'\n",
    "    me_slope_2_model = smf.mixedlm(formula, df, \n",
    "                          groups=df['uuid'], \n",
    "                          re_formula='1 + year', \n",
    "                          vc_formula={'CDLANGUE': '0 + C(CDLANGUE)'}).fit(reml=False)\n",
    "    if sample:\n",
    "        pass\n",
    "    else:\n",
    "        output_model(me_slope_2_model, n_formula, 'RS2')\n",
    "\n",
    "    print(me_slope_2_model.summary())\n",
    "    # Obtain the residuals\n",
    "    residuals = me_slope_2_model.resid\n",
    "    # Obtain the fitted values\n",
    "    fitted_values = me_slope_2_model.fittedvalues\n",
    "    # Obtain the random intercepts\n",
    "    random_intercepts = pd.DataFrame({k: v['Group'] for k, v in  me_slope_2_model.random_effects.items()}, index=['random_intercept']).T\n",
    "    \n",
    "    # Store the residuals in the original dataframe\n",
    "    df[f'model{n_formula}_rs_complex_residuals'] = residuals\n",
    "    # Store the fitted values in the original dataframe\n",
    "    df[f'model{n_formula}_rs_complex_fitted_values'] = fitted_values\n",
    "    # Store the random intercepts\n",
    "    df[f'model{n_formula}_rs_complex_random_intercepts'] = df['uuid'].map(random_intercepts['random_intercept'].to_dict())"
   ]
  },
  {
   "cell_type": "code",
   "execution_count": null,
   "id": "61",
   "metadata": {},
   "outputs": [],
   "source": [
    "run_mixedlm_rs_complex(df, formula_1, 1, True)\n",
    "run_mixedlm_rs_complex(df, formula_2, 2, True)\n",
    "run_mixedlm_rs_complex(df, formula_3, 3, True)\n",
    "run_mixedlm_rs_complex(df, formula_4, 4, True)"
   ]
  },
  {
   "cell_type": "markdown",
   "id": "62",
   "metadata": {},
   "source": [
    "### Two-part Mixed-Effect Model\n",
    "#### Part 1 : Logistic Regression for Zero vs Non-Zero Healthcare Spending"
   ]
  },
  {
   "cell_type": "code",
   "execution_count": null,
   "id": "63",
   "metadata": {},
   "outputs": [],
   "source": [
    "formula_1_part1 = 'non_zero_ihs_cost_aos ~ treatment*year'\n",
    "formula_2_part1 = 'non_zero_ihs_cost_aos ~ treatment*year + NBAGE + SEX_F'\n",
    "formula_3_part1 = 'non_zero_ihs_cost_aos ~ treatment*year + NBAGE + SEX_F + cds + ssep2'\n",
    "formula_4_part1 = 'non_zero_ihs_cost_aos ~ treatment*year + NBAGE + SEX_F + cds + ssep2 + CDLANGUE + D_MEDIC_S + D_MEDIC_B + mean_lst+mean_pm10 + mean_ndvi'"
   ]
  },
  {
   "cell_type": "code",
   "execution_count": null,
   "id": "64",
   "metadata": {},
   "outputs": [],
   "source": [
    "df['non_zero_ihs_cost_aos'] = (df['ihs_cost_aos'] > 0).astype(int)\n",
    "df.to_csv('/Users/david/Dropbox/PhD/GitHub/SanteIntegra/Data/processed/df_sample.csv', index=False)\n",
    "# Fit the logistic regression model\n",
    "logistic_model = smf.mixedlm('non_zero_ihs_cost_aos ~ NBAGE', data=df, \n",
    "                             groups=df['uuid'], family=sm.families.Binomial()).fit()\n",
    "\n",
    "# Summary of the logistic model\n",
    "print(logistic_model.summary())"
   ]
  },
  {
   "cell_type": "code",
   "execution_count": null,
   "id": "65",
   "metadata": {},
   "outputs": [],
   "source": [
    "df[df.non_zero_ihs_cost_aos != 1]"
   ]
  },
  {
   "cell_type": "markdown",
   "id": "66",
   "metadata": {},
   "source": [
    "## Actual models"
   ]
  },
  {
   "cell_type": "code",
   "execution_count": null,
   "id": "67",
   "metadata": {},
   "outputs": [],
   "source": [
    "df = df_treated_filtered.copy()"
   ]
  },
  {
   "cell_type": "markdown",
   "id": "68",
   "metadata": {},
   "source": [
    "### Naive OLS model"
   ]
  },
  {
   "cell_type": "code",
   "execution_count": null,
   "id": "69",
   "metadata": {},
   "outputs": [],
   "source": [
    "run_ols(df, formula_1, 1)\n",
    "run_ols(df, formula_2, 2)\n",
    "run_ols(df, formula_3, 3)\n",
    "run_ols(df, formula_4, 4)"
   ]
  },
  {
   "cell_type": "code",
   "execution_count": null,
   "id": "70",
   "metadata": {},
   "outputs": [],
   "source": [
    "# plot_model_diagnostics('Model1','OLS',df['model1_ols_fitted_values'], df['model1_ols_residuals'], df['model1_random_intercepts'])\n",
    "# plot_model_diagnostics('Model2','OLS',df['model2_ols_fitted_values'], df['model2_ols_residuals'], df['model2_random_intercepts'])\n",
    "# plot_model_diagnostics('Model3','OLS',df['model3_ols_fitted_values'], df['model3_ols_residuals'], df['model3_random_intercepts'])\n",
    "# plot_model_diagnostics('Model4','OLS',df['model4_ols_fitted_values'], df['model4_ols_residuals'], df['model4_random_intercepts'])"
   ]
  },
  {
   "cell_type": "markdown",
   "id": "71",
   "metadata": {},
   "source": [
    "### Random intercept model"
   ]
  },
  {
   "cell_type": "code",
   "execution_count": null,
   "id": "72",
   "metadata": {},
   "outputs": [],
   "source": [
    "run_mixedlm_ri(df, formula_1, 1)\n",
    "run_mixedlm_ri(df, formula_2, 2)\n",
    "run_mixedlm_ri(df, formula_3, 3)\n",
    "run_mixedlm_ri(df, formula_4, 4)"
   ]
  },
  {
   "cell_type": "code",
   "execution_count": null,
   "id": "73",
   "metadata": {},
   "outputs": [],
   "source": [
    "plot_model_diagnostics('Model1','RI',df['model1_ri_fitted_values'], df['model1_ri_residuals'], df['model1_ri_random_intercepts'])\n",
    "plot_model_diagnostics('Model2','RI',df['model2_ri_fitted_values'], df['model2_ri_residuals'], df['model2_ri_random_intercepts'])\n",
    "plot_model_diagnostics('Model3','RI',df['model3_ri_fitted_values'], df['model3_ri_residuals'], df['model3_ri_random_intercepts'])\n",
    "plot_model_diagnostics('Model4','RI',df['model4_ri_fitted_values'], df['model4_ri_residuals'], df['model4_ri_random_intercepts'])"
   ]
  },
  {
   "cell_type": "markdown",
   "id": "74",
   "metadata": {},
   "source": [
    "### Random slope model"
   ]
  },
  {
   "cell_type": "code",
   "execution_count": null,
   "id": "75",
   "metadata": {},
   "outputs": [],
   "source": [
    "run_mixedlm_rs(df, formula_1, 1)\n",
    "run_mixedlm_rs(df, formula_2, 2)\n",
    "run_mixedlm_rs(df, formula_3, 3)\n",
    "run_mixedlm_rs(df, formula_4, 4)"
   ]
  },
  {
   "cell_type": "code",
   "execution_count": null,
   "id": "76",
   "metadata": {},
   "outputs": [],
   "source": [
    "plot_model_diagnostics('Model1','RS',df['model1_rs_fitted_values'], df['model1_rs_residuals'], df['model1_rs_random_intercepts'])\n",
    "plot_model_diagnostics('Model2','RS',df['model2_rs_fitted_values'], df['model2_rs_residuals'], df['model2_rs_random_intercepts'])\n",
    "plot_model_diagnostics('Model3','RS',df['model3_rs_fitted_values'], df['model3_rs_residuals'], df['model3_rs_random_intercepts'])\n",
    "plot_model_diagnostics('Model4','RS',df['model4_rs_fitted_values'], df['model4_rs_residuals'], df['model4_rs_random_intercepts'])"
   ]
  },
  {
   "cell_type": "markdown",
   "id": "77",
   "metadata": {},
   "source": [
    "### Random slope model - More complex"
   ]
  },
  {
   "cell_type": "code",
   "execution_count": null,
   "id": "78",
   "metadata": {},
   "outputs": [],
   "source": [
    "run_mixedlm_rs_complex(df, formula_1, 1)\n",
    "run_mixedlm_rs_complex(df, formula_2, 2)\n",
    "run_mixedlm_rs_complex(df, formula_3, 3)\n",
    "run_mixedlm_rs_complex(df, formula_4, 4)"
   ]
  },
  {
   "cell_type": "code",
   "execution_count": null,
   "id": "79",
   "metadata": {},
   "outputs": [],
   "source": [
    "plot_model_diagnostics('Model1','RS2',df['model1_rs_complex_fitted_values'], df['model1_rs_complex_residuals'], df['model1_rs_complex_random_intercepts'])\n",
    "plot_model_diagnostics('Model2','RS2',df['model2_rs_complex_fitted_values'], df['model2_rs_complex_residuals'], df['model2_rs_complex_random_intercepts'])\n",
    "plot_model_diagnostics('Model3','RS2',df['model3_rs_complex_fitted_values'], df['model3_rs_complex_residuals'], df['model3_rs_complex_random_intercepts'])\n",
    "plot_model_diagnostics('Model4','RS2',df['model4_rs_complex_fitted_values'], df['model4_rs_complex_residuals'], df['model4_rs_complex_random_intercepts'])"
   ]
  },
  {
   "cell_type": "markdown",
   "id": "80",
   "metadata": {},
   "source": [
    "## Model comparison"
   ]
  },
  {
   "cell_type": "code",
   "execution_count": null,
   "id": "81",
   "metadata": {},
   "outputs": [],
   "source": [
    "# Compare Models\n",
    "print('Starting model comparision')\n",
    "models = [('OLS', ols_model), ('Mixed_Intercepts', me_intercept_model), ('Mixed_Slopes', me_slope_model)]\n",
    "for name, model in models:\n",
    "    print(f\"{name} AIC: {model.aic}\")"
   ]
  },
  {
   "cell_type": "code",
   "execution_count": null,
   "id": "82",
   "metadata": {},
   "outputs": [],
   "source": [
    "from scipy.stats import chi2\n",
    "\n",
    "# Function to calculate Likelihood Ratio Test\n",
    "def lr_test(model1, model2):\n",
    "    lr = 2 * (model2.llf - model1.llf)\n",
    "    dof_difference = (model2.df_resid - model1.df_resid)\n",
    "    p = chi2.sf(lr, df=dof_difference)\n",
    "    return lr, p\n",
    "\n",
    "# Compare Models\n",
    "models = [('OLS', ols_model), ('Mixed_Intercepts', me_intercept_model), ('Mixed_Slopes', me_slope_model)]\n",
    "\n",
    "for name, model in models:\n",
    "    print(f\"{name} AIC: {model.aic}, BIC: {model.bic}\")\n",
    "\n",
    "# Likelihood Ratio Test between mixed models\n",
    "lr, p = lr_test(me_intercept_model, me_slope_model)\n",
    "print(f\"\\nLikelihood Ratio Test between Mixed_Intercepts and Mixed_Slopes: LR = {lr}, p-value = {p}\")\n"
   ]
  },
  {
   "cell_type": "code",
   "execution_count": null,
   "id": "83",
   "metadata": {},
   "outputs": [],
   "source": [
    "lr = (-2 * (me_intercept_model.llf) - (-2*(me_slope_model.llf)))\n",
    "dof_difference = (me_slope_model.df_resid - me_intercept_model.df_resid)\n",
    "p = chi2.sf(lr, df=100)"
   ]
  },
  {
   "cell_type": "markdown",
   "id": "84",
   "metadata": {},
   "source": [
    "## Model diagnostics"
   ]
  },
  {
   "cell_type": "code",
   "execution_count": null,
   "id": "85",
   "metadata": {},
   "outputs": [],
   "source": [
    "# Example usage of the function with your dataframe 'df':\n",
    "# plot_model_diagnostics('Model1','OLS',df['model1_ols_fitted_values'], df['model1_ols_residuals'])\n",
    "plot_model_diagnostics('Model1','RI',df['model1_ri_fitted_values'], df['model1_ri_residuals'], df['model1_ri_random_intercepts'])\n",
    "# plot_model_diagnostics('Model1','RS',df['model1_rs_fitted_values'], df['model1_rs_residuals'])"
   ]
  },
  {
   "cell_type": "markdown",
   "id": "86",
   "metadata": {},
   "source": [
    "## Compute the Intraclass correlation coef for the random effect model"
   ]
  },
  {
   "cell_type": "code",
   "execution_count": null,
   "id": "87",
   "metadata": {},
   "outputs": [],
   "source": [
    "# Extract the variance components\n",
    "variance_components = me_intercept_model.cov_re\n",
    "group_variance = variance_components.iloc[0, 0]  # Variance due to grouping\n",
    "residual_variance = model.scale  # Residual variance\n",
    "\n",
    "# Calculate ICC\n",
    "icc = group_variance / (group_variance + residual_variance)\n",
    "\n",
    "print(f\"Intraclass Correlation Coefficient (ICC): {icc}\")"
   ]
  },
  {
   "cell_type": "code",
   "execution_count": null,
   "id": "88",
   "metadata": {},
   "outputs": [],
   "source": [
    "lr"
   ]
  },
  {
   "cell_type": "code",
   "execution_count": null,
   "id": "89",
   "metadata": {},
   "outputs": [],
   "source": []
  }
 ],
 "metadata": {
  "kernelspec": {
   "display_name": "py310",
   "language": "python",
   "name": "py310"
  },
  "language_info": {
   "codemirror_mode": {
    "name": "ipython",
    "version": 3
   },
   "file_extension": ".py",
   "mimetype": "text/x-python",
   "name": "python",
   "nbconvert_exporter": "python",
   "pygments_lexer": "ipython3",
   "version": "3.8.18"
  }
 },
 "nbformat": 4,
 "nbformat_minor": 5
}
