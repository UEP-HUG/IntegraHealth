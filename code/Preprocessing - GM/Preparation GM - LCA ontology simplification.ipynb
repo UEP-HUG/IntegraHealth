{
 "cells": [
  {
   "cell_type": "code",
   "execution_count": null,
   "id": "0",
   "metadata": {},
   "outputs": [],
   "source": [
    "import pandas as pd\n",
    "import numpy as np\n",
    "from pathlib import Path\n",
    "import re"
   ]
  },
  {
   "cell_type": "code",
   "execution_count": null,
   "id": "1",
   "metadata": {},
   "outputs": [],
   "source": [
    "data_folder = Path('./Data/')"
   ]
  },
  {
   "cell_type": "markdown",
   "id": "2",
   "metadata": {},
   "source": [
    "# Import data"
   ]
  },
  {
   "cell_type": "code",
   "execution_count": null,
   "id": "3",
   "metadata": {},
   "outputs": [],
   "source": [
    "df_therapeute = pd.read_csv(data_folder/'Dispensateur_ID_therapies_UNIGE.csv',sep = ';')"
   ]
  },
  {
   "cell_type": "code",
   "execution_count": null,
   "id": "4",
   "metadata": {},
   "outputs": [],
   "source": [
    "df_code_thera = pd.read_excel(data_folder/'therapies_liste_GM a Unige.xlsx')"
   ]
  },
  {
   "cell_type": "markdown",
   "id": "5",
   "metadata": {},
   "source": [
    "## Create dict for all code therapies"
   ]
  },
  {
   "cell_type": "code",
   "execution_count": null,
   "id": "6",
   "metadata": {},
   "outputs": [],
   "source": [
    "df_code_thera['RME'] = df_code_thera['RME'].astype('string').str.split('-')\n",
    "df_code_thera['ASCA'] = df_code_thera['ASCA'].astype('string').str.split('-')\n",
    "df_code_thera['NVS'] = df_code_thera['NVS'].astype('string').str.split('-')\n",
    "df_code_thera['APTN'] = df_code_thera['APTN'].astype('string').str.split('-')"
   ]
  },
  {
   "cell_type": "code",
   "execution_count": null,
   "id": "7",
   "metadata": {},
   "outputs": [],
   "source": [
    "col_drop = df_code_thera.filter(regex = 'Unna').columns\n",
    "df_code_thera = df_code_thera.drop(col_drop, axis=1)"
   ]
  },
  {
   "cell_type": "code",
   "execution_count": null,
   "id": "8",
   "metadata": {},
   "outputs": [],
   "source": [
    "df_code_thera = df_code_thera.explode('RME')\n",
    "df_code_thera = df_code_thera.explode('ASCA')\n",
    "df_code_thera = df_code_thera.explode('NVS')\n",
    "df_code_thera = df_code_thera.explode('APTN')"
   ]
  },
  {
   "cell_type": "code",
   "execution_count": null,
   "id": "9",
   "metadata": {},
   "outputs": [],
   "source": [
    "df_code_thera['RME'] = 'EMR-'+df_code_thera['RME'].astype(str)\n",
    "df_code_thera['ASCA'] = 'ASCA-'+df_code_thera['ASCA'].astype(str)\n",
    "df_code_thera['NVS'] = 'NVS-'+df_code_thera['NVS'].astype(str)\n",
    "df_code_thera['APTN'] = 'APTN-'+df_code_thera['APTN'].astype(str)"
   ]
  },
  {
   "cell_type": "code",
   "execution_count": null,
   "id": "10",
   "metadata": {},
   "outputs": [],
   "source": [
    "df_code_thera[['RME','ASCA','NVS','APTN']] =  df_code_thera[['RME','ASCA','NVS','APTN']].applymap(lambda x : np.nan if ('nan') in x else x)"
   ]
  },
  {
   "cell_type": "code",
   "execution_count": null,
   "id": "11",
   "metadata": {},
   "outputs": [],
   "source": [
    "_dict = df_code_thera.set_index('Name').to_dict()"
   ]
  },
  {
   "cell_type": "code",
   "execution_count": null,
   "id": "12",
   "metadata": {},
   "outputs": [],
   "source": [
    "dict_RME = {v: k for k, v in _dict['RME'].items()}\n",
    "dict_ASCA = {v: k for k, v in _dict['ASCA'].items()}\n",
    "dict_APTN = {v: k for k, v in _dict['APTN'].items()}\n",
    "dict_NVS = {v: k for k, v in _dict['NVS'].items()}"
   ]
  },
  {
   "cell_type": "code",
   "execution_count": null,
   "id": "13",
   "metadata": {},
   "outputs": [],
   "source": [
    "dict_codes = {}\n",
    "dict_codes.update(dict_RME)\n",
    "dict_codes.update(dict_ASCA)\n",
    "dict_codes.update(dict_APTN)\n",
    "dict_codes.update(dict_NVS)"
   ]
  },
  {
   "cell_type": "code",
   "execution_count": null,
   "id": "14",
   "metadata": {},
   "outputs": [],
   "source": [
    "for k, v in list(dict_codes.items()):\n",
    "    if 'nan' in str(k):\n",
    "        print(k,v)\n",
    "        del dict_codes[k]"
   ]
  },
  {
   "cell_type": "code",
   "execution_count": null,
   "id": "15",
   "metadata": {},
   "outputs": [],
   "source": [
    "dict_codes['NVS-61'] = 'Acupuncture'\n",
    "dict_codes['NVS-62'] = 'Acupuncture'\n",
    "dict_codes['NVS-63'] = 'Acupuncture'\n",
    "\n",
    "dict_codes['EMR-23'] = 'Conseils diététiques/nutri. ayurvédiques (MAV)'\n",
    "dict_codes['EMR-24'] = 'Conseils diététiques/nutri. ayurvédiques (MAV)'\n",
    "dict_codes['NVS-34'] = 'Conseils diététiques/nutri. ayurvédiques (MAV)'\n",
    "dict_codes['NVS-35'] = 'Conseils diététiques/nutri. ayurvédiques (MAV)'\n",
    "\n",
    "dict_codes['NVS-68'] = 'Conseils nutritionnels'\n",
    "dict_codes['NVS-69'] = 'Conseils nutritionnels'\n",
    "dict_codes['NVS-168'] = 'Conseils nutritionnels'\n",
    "\n",
    "dict_codes['EMR-66'] = 'Electrothérapie'\n",
    "dict_codes['EMR-67'] = 'Electrothérapie'\n",
    "\n",
    "dict_codes['NVS-84'] = 'Homéopathie classique'\n",
    "dict_codes['NVS-94'] = 'Homéopathie classique'\n",
    "dict_codes['NVS-95'] = 'Homéopathie classique'\n",
    "\n",
    "dict_codes['EMR-27'] = 'Massage ayurvédique'\n",
    "dict_codes['EMR-28'] = 'Massage ayurvédique'\n",
    "dict_codes['NVS-36'] = 'Massage ayurvédique'\n",
    "dict_codes['NVS-37'] = 'Massage ayurvédique'\n",
    "\n",
    "dict_codes['NVS-111'] = 'Massage classique'\n",
    "dict_codes['NVS-169'] = 'Massage classique'\n",
    "\n",
    "dict_codes['EMR-81'] = 'Massage des zones réflexes du pied'\n",
    "dict_codes['EMR-82'] = 'Massage des zones réflexes du pied'\n",
    "\n",
    "dict_codes['EMR-34'] = 'Massage du tissu conjonctif'\n",
    "dict_codes['EMR-35'] = 'Massage du tissu conjonctif'\n",
    "\n",
    "dict_codes['NVS-112'] = 'Massage médical (groupe, brevet fédéral)'\n",
    "dict_codes['NVS-116'] = 'Massage médical (groupe, brevet fédéral)'\n",
    "dict_codes['ASCA-232'] = 'Massage médical (groupe, brevet fédéral)'\n",
    "dict_codes['ASCA-234'] = 'Massage médical (groupe, brevet fédéral)'\n",
    "\n",
    "dict_codes['NVS-23'] = 'Médecine anthroposophique'\n",
    "dict_codes['NVS-24'] = 'Médecine anthroposophique'\n",
    "\n",
    "dict_codes['ASCA-548'] = 'Musicothérapie'\n",
    "dict_codes['ASCA-801'] = 'Musicothérapie'\n",
    "\n",
    "dict_codes['ASCA-211'] = 'Naturopathie (MN) (MCO) (MTC) (TEN)'\n",
    "dict_codes['ASCA-231'] = 'Naturopathie (MN) (MCO) (MTC) (TEN)'\n",
    "dict_codes['EMR-131'] = 'Naturopathie (MN) (MCO) (MTC) (TEN)'\n",
    "dict_codes['EMR-132'] = 'Naturopathie (MN) (MCO) (MTC) (TEN)'\n",
    "\n",
    "dict_codes['NVS-86'] = 'Oxygénothérapie en plusieurs étapes'\n",
    "dict_codes['NVS-146'] = 'Oxygénothérapie en plusieurs étapes'\n",
    "dict_codes['NVS-147'] = 'Oxygénothérapie en plusieurs étapes'\n",
    "dict_codes['NVS-148'] = 'Oxygénothérapie en plusieurs étapes'\n",
    "\n",
    "dict_codes['NVS-164'] = 'Phytothérapie (MTC) (TEN)'\n",
    "dict_codes['NVS-171'] = 'Phytothérapie (MTC) (TEN)'\n",
    "\n",
    "dict_codes['ASCA-417'] = 'Psychologie biodynamique / Biodynamique'\n",
    "dict_codes['ASCA-385'] = 'Psychologie biodynamique / Biodynamique'\n",
    "\n",
    "dict_codes['EMR-25'] = 'Remèdes ayurvédiques'\n",
    "dict_codes['EMR-26'] = 'Remèdes ayurvédiques'\n",
    "\n",
    "dict_codes['ASCA-542'] = 'Thérapie par la danse et le mouvement'\n",
    "dict_codes['ASCA-803'] = 'Thérapie par la danse et le mouvement'"
   ]
  },
  {
   "cell_type": "code",
   "execution_count": null,
   "id": "16",
   "metadata": {},
   "outputs": [],
   "source": [
    "asca_codes = pd.read_excel('../Data/raw/LCA_ASCA_codes.xlsx')\n",
    "\n",
    "asca_codes['Code'] = 'ASCA-' + asca_codes['Code'].astype(str)"
   ]
  },
  {
   "cell_type": "code",
   "execution_count": null,
   "id": "17",
   "metadata": {},
   "outputs": [],
   "source": [
    "dict_asca_codes = asca_codes[asca_codes.Code.isin(df_code_thera[df_code_thera.ASCA.str.contains('ASCA')].ASCA) == False].set_index('Code')['Discipline thérapeutique'].to_dict()"
   ]
  },
  {
   "cell_type": "code",
   "execution_count": null,
   "id": "18",
   "metadata": {},
   "outputs": [],
   "source": [
    "dict_codes.update(dict_asca_codes)"
   ]
  },
  {
   "cell_type": "code",
   "execution_count": null,
   "id": "19",
   "metadata": {},
   "outputs": [],
   "source": [
    "dict_codes"
   ]
  },
  {
   "cell_type": "markdown",
   "id": "20",
   "metadata": {},
   "source": [
    "# Exploratory analysis\n",
    "\n",
    "## Check distribution of # of therapies"
   ]
  },
  {
   "cell_type": "code",
   "execution_count": null,
   "id": "21",
   "metadata": {},
   "outputs": [],
   "source": [
    "#Get therapists with >1 specialties\n",
    "# df_therapeute_mult = df_therapeute[df_therapeute.Nb_codes_therapie > 1]"
   ]
  },
  {
   "cell_type": "code",
   "execution_count": null,
   "id": "22",
   "metadata": {},
   "outputs": [],
   "source": [
    "# Among them, drop the ones that are just duplicated across years\n",
    "df_therapeute_uniq = df_therapeute[['ID_DISP','CODES_THERAPIES','THERAPIES','Nb_codes_therapie']].reset_index(drop = True)"
   ]
  },
  {
   "cell_type": "code",
   "execution_count": null,
   "id": "23",
   "metadata": {},
   "outputs": [],
   "source": [
    "df_therapeute_uniq['code_therapies_list'] = df_therapeute_uniq['CODES_THERAPIES'].str.split(',')\n",
    "df_therapeute_uniq['therapies_list'] = df_therapeute_uniq['THERAPIES'].str.split(',')"
   ]
  },
  {
   "cell_type": "code",
   "execution_count": null,
   "id": "24",
   "metadata": {},
   "outputs": [],
   "source": [
    "df_therapeute_uniq['Nb_codes_therapie'] = df_therapeute_uniq['code_therapies_list'].apply(lambda x: len(x))"
   ]
  },
  {
   "cell_type": "code",
   "execution_count": null,
   "id": "25",
   "metadata": {},
   "outputs": [],
   "source": [
    "df_therapeute_uniq.sort_values('Nb_codes_therapie')['Nb_codes_therapie'].plot.hist(bins = 50)"
   ]
  },
  {
   "cell_type": "code",
   "execution_count": null,
   "id": "26",
   "metadata": {},
   "outputs": [],
   "source": [
    "print('Number of unique therapists-therapies pairs ',df_therapeute_uniq.shape[0])"
   ]
  },
  {
   "cell_type": "code",
   "execution_count": null,
   "id": "27",
   "metadata": {},
   "outputs": [],
   "source": [
    "df_therapeute_uniq['THERAPIES'] = df_therapeute_uniq['THERAPIES'].str.replace('(groupe,','(groupe',regex = False)\n",
    "df_therapeute_uniq['THERAPIES'] = df_therapeute_uniq['THERAPIES'].str.replace('thérapeutique,','thérapeutique;',regex = False)\n",
    "df_therapeute_uniq['THERAPIES'] = df_therapeute_uniq['THERAPIES'].str.replace('EMR-Art-therapeute (DF) Specialisation Therapie a medi,','EMR-Art-therapeute (DF) Specialisation Therapie a mediation visuelle et plast. (DF) [802]',regex = False)"
   ]
  },
  {
   "cell_type": "code",
   "execution_count": null,
   "id": "28",
   "metadata": {},
   "outputs": [],
   "source": [
    "# dict_get_codes = {}\n",
    "def add_missing_dict_codes(x):\n",
    "    for i in x:\n",
    "        try:\n",
    "            code_therapie = i.split('-')[0]+'-'+re.search(r\"\\[([A-Za-z0-9_]+)\\]\", i).group(1)\n",
    "            code_therapie = code_therapie.strip()\n",
    "            if code_therapie not in dict_codes:\n",
    "                dict_codes[code_therapie] = i.strip().split('-')[1].split(' [')[0]\n",
    "        except:\n",
    "            continue"
   ]
  },
  {
   "cell_type": "markdown",
   "id": "29",
   "metadata": {},
   "source": [
    "## Filter therapies : Step 1 - Clean therapies names"
   ]
  },
  {
   "cell_type": "code",
   "execution_count": null,
   "id": "30",
   "metadata": {},
   "outputs": [],
   "source": [
    "therapies_lists = df_therapeute_uniq.therapies_list.to_list()\n",
    "for x in therapies_lists:\n",
    "    add_missing_dict_codes(x)"
   ]
  },
  {
   "cell_type": "code",
   "execution_count": null,
   "id": "31",
   "metadata": {},
   "outputs": [],
   "source": [
    "def filter_specialty(x,_dict):\n",
    "    specialty = set()\n",
    "    for i in x:\n",
    "        try:\n",
    "            spe = _dict[i.strip()]\n",
    "            specialty.add(spe)\n",
    "        except:\n",
    "            spe = 'Unknown code : %s' % i.strip()\n",
    "            specialty.add(spe)\n",
    "    return specialty"
   ]
  },
  {
   "cell_type": "code",
   "execution_count": null,
   "id": "32",
   "metadata": {},
   "outputs": [],
   "source": [
    "df_therapeute_uniq['therapies_filtered'] = df_therapeute_uniq.code_therapies_list.apply(lambda x: filter_specialty(x,dict_codes))"
   ]
  },
  {
   "cell_type": "code",
   "execution_count": null,
   "id": "33",
   "metadata": {},
   "outputs": [],
   "source": [
    "df_therapeute_uniq['n_filtered_therapies'] = df_therapeute_uniq['therapies_filtered'].apply(lambda x: len(x))"
   ]
  },
  {
   "cell_type": "code",
   "execution_count": null,
   "id": "34",
   "metadata": {},
   "outputs": [],
   "source": [
    "filtered_therap = pd.DataFrame.from_dict(dict_codes, orient = 'index').reset_index()"
   ]
  },
  {
   "cell_type": "code",
   "execution_count": null,
   "id": "35",
   "metadata": {},
   "outputs": [],
   "source": [
    "filtered_therap.to_csv('../Data/Aggregated_therap_specialties.csv',index = False)"
   ]
  },
  {
   "cell_type": "code",
   "execution_count": null,
   "id": "36",
   "metadata": {},
   "outputs": [],
   "source": [
    "# filtered_therap_clean = pd.read_csv('../Data/processed/Therapies_ontology.csv')"
   ]
  },
  {
   "cell_type": "code",
   "execution_count": null,
   "id": "37",
   "metadata": {},
   "outputs": [],
   "source": [
    "filtered_therap_clean[filtered_therap_clean.Code == 'SPAK-185']"
   ]
  },
  {
   "cell_type": "code",
   "execution_count": null,
   "id": "38",
   "metadata": {},
   "outputs": [],
   "source": [
    "df_therapeute_uniq_final.to_csv('../Data/Cleaned_therapists.csv',index = False)"
   ]
  },
  {
   "cell_type": "code",
   "execution_count": null,
   "id": "39",
   "metadata": {},
   "outputs": [],
   "source": [
    "df_therapeute_uniq_final[df_therapeute_uniq_final.n_filtered_therapies_lvl1 == 1].shape"
   ]
  },
  {
   "cell_type": "code",
   "execution_count": null,
   "id": "40",
   "metadata": {},
   "outputs": [],
   "source": [
    "df_therapeute_uniq_final[df_therapeute_uniq_final.n_filtered_therapies_lvl2 == 1].shape"
   ]
  },
  {
   "cell_type": "code",
   "execution_count": null,
   "id": "41",
   "metadata": {},
   "outputs": [],
   "source": [
    "df_therapeute_uniq_final[df_therapeute_uniq_final.n_filtered_therapies_lvl3 == 1].shape"
   ]
  },
  {
   "cell_type": "markdown",
   "id": "42",
   "metadata": {},
   "source": [
    "## Filter therapies : Step 2 - Aggregate similar therapies"
   ]
  },
  {
   "cell_type": "code",
   "execution_count": null,
   "id": "43",
   "metadata": {},
   "outputs": [],
   "source": [
    "from fuzzywuzzy import fuzz\n",
    "from fuzzywuzzy import process"
   ]
  },
  {
   "cell_type": "code",
   "execution_count": null,
   "id": "44",
   "metadata": {},
   "outputs": [],
   "source": [
    "all_therapies = sorted(set(dict_codes.values())) #511 different therapies"
   ]
  },
  {
   "cell_type": "code",
   "execution_count": null,
   "id": "45",
   "metadata": {},
   "outputs": [],
   "source": [
    "dict_strong_filtered_therapies = {}"
   ]
  },
  {
   "cell_type": "code",
   "execution_count": null,
   "id": "46",
   "metadata": {},
   "outputs": [],
   "source": [
    "#Method fuzzy wuzzy\n",
    "for choice in all_therapies:\n",
    "    for i in process.extract(choice, all_therapies):\n",
    "        if i[1] >= 85:\n",
    "            if i[0] not in dict_strong_filtered_therapies:\n",
    "                dict_strong_filtered_therapies[i[0]] = choice"
   ]
  },
  {
   "cell_type": "code",
   "execution_count": null,
   "id": "47",
   "metadata": {},
   "outputs": [],
   "source": [
    "len(set(dict_strong_filtered_therapies.values())) #We have ~200 less therapies"
   ]
  },
  {
   "cell_type": "code",
   "execution_count": null,
   "id": "48",
   "metadata": {},
   "outputs": [],
   "source": [
    "def filter_again(x,dict_):\n",
    "    agg_thera = set()\n",
    "    for n in x:\n",
    "        try :\n",
    "            agg_thera.add(dict_[n])\n",
    "        except:\n",
    "            agg_thera.add(n)\n",
    "    return agg_thera"
   ]
  },
  {
   "cell_type": "code",
   "execution_count": null,
   "id": "49",
   "metadata": {},
   "outputs": [],
   "source": [
    "filtered_therap.columns = ['Code','therapie_lvl1']\n",
    "filtered_therap['therapie_lvl2'] = filtered_therap['therapie_lvl1'].map(dict_strong_filtered_therapies)"
   ]
  },
  {
   "cell_type": "code",
   "execution_count": null,
   "id": "50",
   "metadata": {},
   "outputs": [],
   "source": [
    "df_therapeute_uniq['n_therapies_filtered_v2'] = df_therapeute_uniq['therapies_filtered_lvl2'].apply(lambda x: len(x))"
   ]
  },
  {
   "cell_type": "code",
   "execution_count": null,
   "id": "51",
   "metadata": {},
   "outputs": [],
   "source": [
    "df_therapeute_uniq[df_therapeute_uniq.n_therapies_filtered_v2 >5]"
   ]
  },
  {
   "cell_type": "code",
   "execution_count": null,
   "id": "52",
   "metadata": {},
   "outputs": [],
   "source": [
    "all_therapies_round_2 = sorted(set(dict_strong_filtered_therapies.values()))\n",
    "\n",
    "dict_very_strong_filtered_therapies = {}\n",
    "\n",
    "for choice in all_therapies_round_2:\n",
    "    for i in process.extract(choice, all_therapies_round_2):\n",
    "        if i[1] >= 60:\n",
    "            if i[0] not in dict_very_strong_filtered_therapies:\n",
    "                dict_very_strong_filtered_therapies[i[0]] = choice\n",
    "\n",
    "len(set(dict_very_strong_filtered_therapies.values())) #We have 40 less therapies"
   ]
  },
  {
   "cell_type": "code",
   "execution_count": null,
   "id": "53",
   "metadata": {},
   "outputs": [],
   "source": [
    "filtered_therap['therapie_lvl3'] = filtered_therap['therapie_lvl2'].map(dict_very_strong_filtered_therapies)"
   ]
  },
  {
   "cell_type": "code",
   "execution_count": null,
   "id": "54",
   "metadata": {},
   "outputs": [],
   "source": [
    "# filtered_therap_clean.to_csv('../Data/processed/Therapies_ontology.csv',index = False)"
   ]
  },
  {
   "cell_type": "markdown",
   "id": "55",
   "metadata": {},
   "source": [
    "### After extensive manual cleaning of the Therapies_ontology.csv file, we can do some automated cleaning"
   ]
  },
  {
   "cell_type": "code",
   "execution_count": null,
   "id": "56",
   "metadata": {},
   "outputs": [],
   "source": [
    "filtered_therap_clean = pd.read_csv('../Data/processed/Therapies_ontology.csv')"
   ]
  },
  {
   "cell_type": "code",
   "execution_count": null,
   "id": "57",
   "metadata": {},
   "outputs": [],
   "source": [
    "filtered_therap[~filtered_therap.Code.isin(filtered_therap_clean.Code)].to_csv('../Data/Aggregated_therap_specialties_supplement.csv',index = False)"
   ]
  },
  {
   "cell_type": "code",
   "execution_count": null,
   "id": "58",
   "metadata": {},
   "outputs": [],
   "source": [
    "filtered_therap_clean['Notes'] = filtered_therap_clean['Notes'].fillna('')"
   ]
  },
  {
   "cell_type": "code",
   "execution_count": null,
   "id": "59",
   "metadata": {},
   "outputs": [],
   "source": [
    "filtered_therap_clean['therapie_lvl2'] = filtered_therap_clean['therapie_lvl2'].replace('é','e',regex = True).replace('è','e',regex = True)\n",
    "filtered_therap_clean['therapie_lvl3'] = filtered_therap_clean['therapie_lvl3'].replace('é','e',regex = True).replace('è','e',regex = True)\n",
    "\n",
    "\n",
    "filtered_therap_clean['therapie_lvl2'] = filtered_therap_clean['therapie_lvl2'].replace('Ther\\.','Therapie', regex = True).replace('Thera\\.','Therapie', regex = True)\n",
    "filtered_therap_clean['therapie_lvl3'] = filtered_therap_clean['therapie_lvl3'].replace('Ther\\.','Therapie', regex = True).replace('Thera\\.','Therapie', regex = True)"
   ]
  },
  {
   "cell_type": "code",
   "execution_count": null,
   "id": "60",
   "metadata": {},
   "outputs": [],
   "source": [
    "dict_code_to_lvl2 = filtered_therap_clean[['Code','therapie_lvl2']].set_index('Code').to_dict()['therapie_lvl2']\n",
    "dict_code_to_lvl3 = filtered_therap_clean[['Code','therapie_lvl3']].set_index('Code').to_dict()['therapie_lvl3']"
   ]
  },
  {
   "cell_type": "code",
   "execution_count": null,
   "id": "61",
   "metadata": {},
   "outputs": [],
   "source": [
    "df_therapeute_uniq['therapies_filtered_lvl2'] = df_therapeute_uniq.code_therapies_list.apply(lambda x: filter_specialty(x,dict_code_to_lvl2))\n",
    "df_therapeute_uniq['therapies_filtered_lvl3'] = df_therapeute_uniq.code_therapies_list.apply(lambda x: filter_specialty(x,dict_code_to_lvl3))"
   ]
  },
  {
   "cell_type": "code",
   "execution_count": null,
   "id": "62",
   "metadata": {},
   "outputs": [],
   "source": [
    "df_therapeute_uniq_final = df_therapeute_uniq.rename(columns = {'therapies_filtered':'therapie_lvl1','n_filtered_therapies':'n_filtered_therapies_lvl1'})"
   ]
  },
  {
   "cell_type": "code",
   "execution_count": null,
   "id": "63",
   "metadata": {},
   "outputs": [],
   "source": [
    "df_therapeute_uniq_final['n_filtered_therapies_lvl2'] = df_therapeute_uniq_final['therapies_filtered_lvl2'].apply(lambda x: len(x))\n",
    "df_therapeute_uniq_final['n_filtered_therapies_lvl3'] = df_therapeute_uniq_final['therapies_filtered_lvl3'].apply(lambda x: len(x))"
   ]
  },
  {
   "cell_type": "code",
   "execution_count": null,
   "id": "64",
   "metadata": {},
   "outputs": [],
   "source": [
    "filtered_therap_clean[filtered_therap_clean.therapie_lvl2.str.contains('Therapiepie')]"
   ]
  },
  {
   "cell_type": "code",
   "execution_count": null,
   "id": "65",
   "metadata": {},
   "outputs": [],
   "source": [
    "filtered_therap_clean.to_csv('../Data/Processed/20230223_Therapies_ontology.csv',index = False)"
   ]
  }
 ],
 "metadata": {
  "kernelspec": {
   "display_name": "py310",
   "language": "python",
   "name": "py310"
  },
  "language_info": {
   "codemirror_mode": {
    "name": "ipython",
    "version": 3
   },
   "file_extension": ".py",
   "mimetype": "text/x-python",
   "name": "python",
   "nbconvert_exporter": "python",
   "pygments_lexer": "ipython3",
   "version": "3.8.18"
  }
 },
 "nbformat": 4,
 "nbformat_minor": 5
}
