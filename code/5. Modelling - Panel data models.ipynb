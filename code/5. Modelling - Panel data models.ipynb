{
 "cells": [
  {
   "cell_type": "code",
   "execution_count": null,
   "id": "0",
   "metadata": {},
   "outputs": [],
   "source": [
    "# Required Libraries\n",
    "import pandas as pd\n",
    "from linearmodels.panel import PanelOLS\n",
    "from linearmodels.panel import RandomEffects\n",
    "from statsmodels.datasets import grunfeld\n",
    "import statsmodels.api as sm\n",
    "import statsmodels.formula.api as smf\n",
    "from utils import read_data, plot_covariate_distributions, plot_match, compare_balance, sizeof_fmt, optimize_memory_df, plot_categorical_proportional_diff, compute_mean_differences_and_proportions, love_plot, sensitivity_analysis_k_neighbors\n",
    "import spreg\n",
    "import libpysal\n",
    "import numpy as np"
   ]
  },
  {
   "cell_type": "markdown",
   "id": "1",
   "metadata": {},
   "source": [
    "## Data filtering"
   ]
  },
  {
   "cell_type": "code",
   "execution_count": null,
   "id": "2",
   "metadata": {},
   "outputs": [],
   "source": [
    "import matplotlib.pyplot as plt\n",
    "import matplotlib.patches as mpatches\n",
    "\n",
    "fig, ax = plt.subplots()\n",
    "\n",
    "# Draw rectangles\n",
    "rect1 = mpatches.Rectangle((0, 0.1), 0.3, 0.2, alpha = 0.3, edgecolor = 'black', facecolor = 'white')\n",
    "rect2 = mpatches.Rectangle((0, 0.4), 0.3, 0.2, alpha = 0.3, edgecolor = 'black', facecolor = 'white')\n",
    "rect3 = mpatches.Rectangle((0, 0.7), 0.3, 0.2, alpha = 0.3, edgecolor = 'black', facecolor = 'white')\n",
    "rect4 = mpatches.Rectangle((0, -0.2), 0.3, 0.2, alpha = 0.3, edgecolor = 'black', facecolor = 'white')\n",
    "\n",
    "# Add rectangles to plot\n",
    "ax.add_patch(rect1)\n",
    "ax.add_patch(rect2)\n",
    "ax.add_patch(rect3)\n",
    "ax.add_patch(rect4)\n",
    "\n",
    "# Add text\n",
    "plt.text(0.15, 0.775, 'Raw yearly data\\n(n = 260,551/year)', color='black', size = 9, horizontalalignment = 'center')\n",
    "plt.text(0.15, 0.52, \"\"\"Excluding individuals not part of treatment/control\\n within a year\"\"\", size = 6, color='black', horizontalalignment = 'center')\n",
    "plt.text(0.15, 0.4, \"\"\"\n",
    "2017    (n=215263)\n",
    "2018    (n=199964)\n",
    "2019    (n=191651)\n",
    "2020    (n=190652)\n",
    "2021    (n=191133)\"\"\", size = 5, color='black', horizontalalignment = 'center')\n",
    "plt.text(0.15, 0.135, 'Excluding individuals not part of treatment/control\\n for the 5-year period\\n(n=143,765)', size=9, color='black', horizontalalignment = 'center')\n",
    "plt.text(0.15, -0.16, 'Excluding individuals not in the PSM matched\\n baseline (2017) dataset\\n(n=125,077)', size=9, color='black', horizontalalignment = 'center')\n",
    "\n",
    "# Add arrows\n",
    "plt.arrow(0.15, 0.7125, 0.0, -0.07, head_width=0.005, head_length=0.03, fc='k', ec='k',head_starts_at_zero = True)\n",
    "plt.arrow(0.15, 0.4125, 0.0, -0.07, head_width=0.005, head_length=0.03, fc='k', ec='k',head_starts_at_zero = True)\n",
    "plt.arrow(0.15, 0.11, 0.0, -0.07, head_width=0.005, head_length=0.03, fc='k', ec='k',head_starts_at_zero = True)\n",
    "\n",
    "# Remove axis\n",
    "plt.axis('off')\n",
    "\n",
    "plt.show()"
   ]
  },
  {
   "cell_type": "markdown",
   "id": "3",
   "metadata": {},
   "source": [
    "## Data preparation"
   ]
  },
  {
   "cell_type": "code",
   "execution_count": null,
   "id": "4",
   "metadata": {},
   "outputs": [],
   "source": [
    "data = read_data(\"../Data/processed/full_dataset_nonull.parquet.gzip\")\n",
    "data_final = data[data.gp.isin(['LCA & AOS','AOS only','LCA only'])]"
   ]
  },
  {
   "cell_type": "code",
   "execution_count": null,
   "id": "5",
   "metadata": {},
   "outputs": [],
   "source": [
    "# df_matched_2017 = pd.read_parquet('/Users/david/Dropbox/PhD/GitHub/SanteIntegra/Data/processed/PSM/df_matched_2017_filtered.parquet.gzip')\n",
    "# df_matched_2018 = pd.read_parquet('/Users/david/Dropbox/PhD/GitHub/SanteIntegra/Data/processed/PSM/df_matched_2018_filtered.parquet.gzip')\n",
    "# df_matched_2019 = pd.read_parquet('/Users/david/Dropbox/PhD/GitHub/SanteIntegra/Data/processed/PSM/df_matched_2019_filtered.parquet.gzip')\n",
    "# df_matched_2020 = pd.read_parquet('/Users/david/Dropbox/PhD/GitHub/SanteIntegra/Data/processed/PSM/df_matched_2020_filtered.parquet.gzip')\n",
    "# df_matched_2021 = pd.read_parquet('/Users/david/Dropbox/PhD/GitHub/SanteIntegra/Data/processed/PSM/df_matched_2021_filtered.parquet.gzip')"
   ]
  },
  {
   "cell_type": "code",
   "execution_count": null,
   "id": "6",
   "metadata": {},
   "outputs": [],
   "source": [
    "# dfs = {\n",
    "#     2017: df_matched_2017,\n",
    "#     2018: df_matched_2018,\n",
    "#     2019: df_matched_2019,\n",
    "#     2020: df_matched_2020,\n",
    "#     2021: df_matched_2021,\n",
    "# }\n",
    "\n",
    "# df_matched_full = pd.concat(\n",
    "#     [df.assign(year=year) for year, df in dfs.items()],\n",
    "#     ignore_index=True\n",
    "# )"
   ]
  },
  {
   "cell_type": "code",
   "execution_count": null,
   "id": "7",
   "metadata": {},
   "outputs": [],
   "source": [
    "# df_matched_2017_filtered = read_data('/Users/david/Dropbox/PhD/GitHub/SanteIntegra/Data/processed/PSM/df_matched_2017_filtered.parquet.gzip')\n",
    "# df_matched_2018_filtered = read_data('/Users/david/Dropbox/PhD/GitHub/SanteIntegra/Data/processed/PSM/df_matched_2018_filtered.parquet.gzip')\n",
    "# df_matched_2019_filtered = read_data('/Users/david/Dropbox/PhD/GitHub/SanteIntegra/Data/processed/PSM/df_matched_2019_filtered.parquet.gzip')\n",
    "# df_matched_2020_filtered = read_data('/Users/david/Dropbox/PhD/GitHub/SanteIntegra/Data/processed/PSM/df_matched_2020_filtered.parquet.gzip')\n",
    "# df_matched_2021_filtered = read_data('/Users/david/Dropbox/PhD/GitHub/SanteIntegra/Data/processed/PSM/df_matched_2021_filtered.parquet.gzip')"
   ]
  },
  {
   "cell_type": "code",
   "execution_count": null,
   "id": "8",
   "metadata": {},
   "outputs": [],
   "source": [
    "# del df_matched_2017_filtered, df_matched_2018_filtered, df_matched_2019_filtered, df_matched_2020_filtered, df_matched_2021_filtered"
   ]
  },
  {
   "cell_type": "code",
   "execution_count": null,
   "id": "9",
   "metadata": {},
   "outputs": [],
   "source": [
    "del data"
   ]
  },
  {
   "cell_type": "markdown",
   "id": "10",
   "metadata": {},
   "source": [
    "### Filter out individuals that do not belong to the groups part of treatment and control"
   ]
  },
  {
   "cell_type": "code",
   "execution_count": null,
   "id": "11",
   "metadata": {},
   "outputs": [],
   "source": [
    "df_treated = optimize_memory_df(data_final[data_final.treatment.isnull()==False])"
   ]
  },
  {
   "cell_type": "markdown",
   "id": "12",
   "metadata": {},
   "source": [
    "### Filter out individuals that do not belong to the treatment and control for the whole 5 years"
   ]
  },
  {
   "cell_type": "code",
   "execution_count": null,
   "id": "13",
   "metadata": {},
   "outputs": [],
   "source": [
    "# Get unique years\n",
    "unique_years = set(df_treated['NOANNEE'])\n",
    "\n",
    "# Group by patient_id and filter\n",
    "df_treated_filtered = df_treated.groupby('uuid').filter(lambda x: set(x['NOANNEE']) == unique_years)"
   ]
  },
  {
   "cell_type": "code",
   "execution_count": null,
   "id": "14",
   "metadata": {},
   "outputs": [],
   "source": [
    "df_treated_filtered.groupby(['NOANNEE','treatment']).uuid.nunique()"
   ]
  },
  {
   "cell_type": "code",
   "execution_count": null,
   "id": "15",
   "metadata": {},
   "outputs": [],
   "source": [
    "del df_treated"
   ]
  },
  {
   "cell_type": "markdown",
   "id": "16",
   "metadata": {},
   "source": [
    "### Associate baseline (2017) PSM dataset to the following 4 years\n",
    "\n",
    "1. One approach is to replicate the duplicate pattern created by the PSM for the 4 following years then concat the baseline with the following years.\n",
    "2. Another approach is to simply concat the following year without replicating the duplicated individuals from the PSM of the baseline year.\n",
    "\n",
    "FYI : There is an interesting package that seems to be able to conduct PSM on a continuous treatment variable,"
   ]
  },
  {
   "cell_type": "markdown",
   "id": "17",
   "metadata": {},
   "source": [
    "#### Approach 1 : Without replication"
   ]
  },
  {
   "cell_type": "code",
   "execution_count": null,
   "id": "18",
   "metadata": {},
   "outputs": [],
   "source": [
    "# df_matched_2017_filtered['NOANNEE'] = 2017\n",
    "\n",
    "# df_did_wo_replication = pd.concat([df_matched_2017_filtered[['uuid','NOANNEE','PRESTATIONS_BRUTES_LCA','PRESTATIONS_BRUTES_AOS','treatment']],df_treated_filtered[(df_treated_filtered.NOANNEE != 2017)][['uuid','NOANNEE','PRESTATIONS_BRUTES_LCA','PRESTATIONS_BRUTES_AOS','treatment']]]) \n",
    "\n",
    "# df_did_wo_replication = df_did_wo_replication.sort_values(['uuid', 'NOANNEE'])\n",
    "\n",
    "# df_did_wo_replication['time'] = df_did_wo_replication['NOANNEE'] - 2017\n",
    "\n",
    "# # Create an interaction term between the year and treatment variables.\n",
    "# df_did_wo_replication['interaction'] = df_did_wo_replication['time'] * df_did_wo_replication['treatment']\n",
    "\n",
    "# # Add constant term for intercept\n",
    "# df_did_wo_replication['const'] = 1"
   ]
  },
  {
   "cell_type": "markdown",
   "id": "19",
   "metadata": {},
   "source": [
    "## Panel data models - Toy example"
   ]
  },
  {
   "cell_type": "code",
   "execution_count": null,
   "id": "20",
   "metadata": {},
   "outputs": [],
   "source": [
    "# Loading Grunfeld Investment data\n",
    "data = grunfeld.load_pandas().data"
   ]
  },
  {
   "cell_type": "code",
   "execution_count": null,
   "id": "21",
   "metadata": {},
   "outputs": [],
   "source": [
    "# Loading Grunfeld Investment data\n",
    "year = pd.Categorical(data.year)\n",
    "\n",
    "# Preparing data for panel model\n",
    "data = data.set_index(['firm','year'])\n",
    "data['year'] = year\n",
    "\n",
    "# Pooled OLS model\n",
    "pols = PanelOLS.from_formula('invest ~ value + capital + EntityEffects', data=data)\n",
    "pols_result = pols.fit()\n",
    "print(pols_result)\n",
    "\n",
    "# Fixed effects model\n",
    "fem = PanelOLS.from_formula('invest ~ value + capital + EntityEffects', data=data)\n",
    "fem_result = fem.fit()\n",
    "print(fem_result)\n",
    "\n",
    "# Random effects model\n",
    "rem = RandomEffects.from_formula('invest ~ value + capital', data=data)\n",
    "rem_result = rem.fit()\n",
    "print(rem_result)"
   ]
  },
  {
   "cell_type": "code",
   "execution_count": null,
   "id": "22",
   "metadata": {},
   "outputs": [],
   "source": [
    "a = [1,2,3,4,6,6,6]"
   ]
  },
  {
   "cell_type": "code",
   "execution_count": null,
   "id": "23",
   "metadata": {},
   "outputs": [],
   "source": [
    "a.count(max(a))"
   ]
  },
  {
   "cell_type": "code",
   "execution_count": null,
   "id": "24",
   "metadata": {},
   "outputs": [],
   "source": []
  },
  {
   "cell_type": "code",
   "execution_count": null,
   "id": "25",
   "metadata": {},
   "outputs": [],
   "source": [
    "import random\n",
    "\n",
    "# Generate random sample data\n",
    "n_individuals = 10  # Number of individuals\n",
    "n_years = 5  # Number of years\n",
    "\n",
    "# Create lists to hold the data\n",
    "uuids = [f\"indiv_{i+1}\" for i in range(n_individuals) for _ in range(n_years)]\n",
    "years = [year for _ in range(n_individuals) for year in range(2017, 2017 + n_years)]\n",
    "treatments = [random.choice([0, 1]) for _ in range(n_individuals * n_years)]\n",
    "prestations_LCA = [random.uniform(0, 500) if t == 1 else 0 for t in treatments]\n",
    "prestations_AOS = [random.uniform(1000, 5000) for _ in range(n_individuals * n_years)]\n",
    "ages = [random.randint(30, 60) for _ in range(n_individuals * n_years)]\n",
    "sexes = [random.choice(['M', 'F']) for _ in range(n_individuals * n_years)]\n",
    "deductibles = [random.randint(200, 1000) for _ in range(n_individuals * n_years)]\n",
    "zipcodes = [random.randint(1000, 9999) for _ in range(n_individuals * n_years)]\n",
    "\n",
    "# Create the dataframe\n",
    "sample_df = pd.DataFrame({\n",
    "    'uuid': uuids,\n",
    "    'NOANNEE': years,\n",
    "    'treatment': treatments,\n",
    "    'PRESTATIONS_BRUTES_LCA': prestations_LCA,\n",
    "    'PRESTATIONS_BRUTES_AOS': prestations_AOS,\n",
    "    'age': ages,\n",
    "    'sex': sexes,\n",
    "    'deductible': deductibles,\n",
    "    'zipcode': zipcodes\n",
    "})\n",
    "\n",
    "# Add a column to count the number of years treated for each individual\n",
    "sample_df['years_treated'] = sample_df.groupby('uuid')['treatment'].cumsum()\n",
    "\n",
    "sample_df.head(15)  # Show the first 15 rows of the sample dataframe"
   ]
  },
  {
   "cell_type": "markdown",
   "id": "26",
   "metadata": {},
   "source": [
    "## Panel data models"
   ]
  },
  {
   "cell_type": "code",
   "execution_count": null,
   "id": "27",
   "metadata": {},
   "outputs": [],
   "source": [
    "from linearmodels import PanelOLS"
   ]
  },
  {
   "cell_type": "markdown",
   "id": "28",
   "metadata": {},
   "source": [
    "## Effect of treatment_status on PRESTATIONS_BRUTES_AOS"
   ]
  },
  {
   "cell_type": "code",
   "execution_count": null,
   "id": "29",
   "metadata": {},
   "outputs": [],
   "source": [
    "df_treated_filtered['year'] = df_treated_filtered['NOANNEE']-2016\n",
    "df_panel_model = df_treated_filtered.set_index(['uuid','NOANNEE'])"
   ]
  },
  {
   "cell_type": "code",
   "execution_count": null,
   "id": "30",
   "metadata": {},
   "outputs": [],
   "source": [
    "Y = df_panel_model['PRESTATIONS_BRUTES_AOS']"
   ]
  },
  {
   "cell_type": "code",
   "execution_count": null,
   "id": "31",
   "metadata": {},
   "outputs": [],
   "source": [
    "df_panel_model['years_treated'] = df_panel_model.sort_values(['uuid','year']).groupby('uuid')['treatment'].cumsum()"
   ]
  },
  {
   "cell_type": "code",
   "execution_count": null,
   "id": "32",
   "metadata": {},
   "outputs": [],
   "source": [
    "# Independent variables, adding constant for the intercept\n",
    "X = sm.add_constant(df_panel_model[['treatment']])"
   ]
  },
  {
   "cell_type": "code",
   "execution_count": null,
   "id": "33",
   "metadata": {},
   "outputs": [],
   "source": [
    "def plot_OLS_coefficients(result, var):\n",
    "    # Get coefficients and confidence intervals\n",
    "    coefficients = result.params\n",
    "    conf_int = result.conf_int()\n",
    "    conf_int['coef'] = coefficients\n",
    "    conf_int['pvalues'] = result.pvalues\n",
    "    conf_int['significant?'] = ['significant' if pval <= 0.05 else 'not significant' for pval in result.pvalues]\n",
    "    \n",
    "    # Sort by coefficients\n",
    "    sorted_coef = conf_int.sort_values(by='coef')\n",
    "    plt.figure(figsize=(6, 6))\n",
    "    \n",
    "    for idx, row in sorted_coef.iterrows():\n",
    "        if idx == 'Intercept':\n",
    "            pass\n",
    "        else:\n",
    "            ci_lower = row[0]  # Lower bound of confidence interval\n",
    "            ci_upper = row[1]  # Upper bound of confidence interval\n",
    "            coef = row['coef']  # Coefficient value\n",
    "\n",
    "            ci = [[coef - ci_lower], [ci_upper - coef]]\n",
    "\n",
    "            color = 'tab:red' if row['significant?'] == 'significant' and coef > 0 else \\\n",
    "                    'tab:blue' if row['significant?'] == 'significant' and coef <= 0 else \\\n",
    "                    'tab:gray'\n",
    "\n",
    "            plt.errorbar(x=[coef], y=[idx], xerr=ci, ecolor=color, capsize=3, linestyle='None', \n",
    "                         linewidth=1, marker=\"o\", markersize=5, mfc=color, mec=color)\n",
    "\n",
    "    plt.axvline(x=0, color='grey', linestyle='--')\n",
    "#     plt.yticks(np.arange(len(sorted_coef)), sorted_coef.index)\n",
    "    plt.xlabel('Coefficient Value (CHF)')\n",
    "    plt.ylabel('Coefficient Name')\n",
    "    plt.title('Panel Data Model with Fixed Effects -  Coefficient Plot - {}'.format(var))\n",
    "    plt.show()"
   ]
  },
  {
   "cell_type": "code",
   "execution_count": null,
   "id": "34",
   "metadata": {},
   "outputs": [],
   "source": [
    "model1 = 'PRESTATIONS_BRUTES_AOS ~ 1 + treatment*year + NBAGE_scaled + EntityEffects'\n",
    "model2 = 'PRESTATIONS_BRUTES_AOS ~ 1 + treatment + treatment*year + EntityEffects'\n",
    "model3 = 'PRESTATIONS_BRUTES_AOS ~ 1 + treatment + treatment*year + cds + NBAGE_scaled + SEX_F + MTFRANCHISECOUV + ssep2 + D_MEDIC_B + D_MEDIC_S + mean_ndvi + mean_lst + mean_pm10 + mean_no2 + EntityEffects'\n",
    "model4 = 'PRESTATIONS_BRUTES_AOS ~ 1 + PRESTATIONS_BRUTES_LCA  + EntityEffects'\n",
    "model5 = 'PRESTATIONS_BRUTES_AOS ~ 1 + PRESTATIONS_BRUTES_LCA  + PRESTATIONS_BRUTES_LCA*year + EntityEffects'\n",
    "model6 = 'PRESTATIONS_BRUTES_AOS ~ 1 + PRESTATIONS_BRUTES_LCA  + PRESTATIONS_BRUTES_LCA*year + NBAGE_scaled + cds + SEX_F + MTFRANCHISECOUV + ssep2 + D_MEDIC_B + D_MEDIC_S + mean_ndvi + mean_lst + mean_pm10 + mean_no2 + EntityEffects'\n",
    "model7 = 'PRESTATIONS_BRUTES_AOS ~ 1 + years_treated + EntityEffects'\n",
    "model8 = 'PRESTATIONS_BRUTES_AOS ~ 1 + years_treated + years_treated*year + EntityEffects'\n",
    "model9 = 'PRESTATIONS_BRUTES_AOS ~ 1 + years_treated + years_treated*year + cds + NBAGE_scaled + SEX_F + MTFRANCHISECOUV + ssep2 + D_MEDIC_B + D_MEDIC_S + mean_ndvi + mean_lst + mean_pm10 + mean_no2 + EntityEffects'"
   ]
  },
  {
   "cell_type": "code",
   "execution_count": null,
   "id": "35",
   "metadata": {},
   "outputs": [],
   "source": [
    "# Fixed effects model\n",
    "fem = PanelOLS.from_formula(model1, data=df_panel_model, drop_absorbed=True)\n",
    "fem_result = fem.fit()\n",
    "print(fem_result)"
   ]
  },
  {
   "cell_type": "code",
   "execution_count": null,
   "id": "36",
   "metadata": {},
   "outputs": [],
   "source": [
    "plot_OLS_coefficients(fem_result, 'Model 1')  # Assuming plot_OLS_coefficients function is defined"
   ]
  },
  {
   "cell_type": "code",
   "execution_count": null,
   "id": "37",
   "metadata": {},
   "outputs": [],
   "source": [
    "# Fixed effects model2\n",
    "fem = PanelOLS.from_formula(model2, data=df_panel_model, drop_absorbed=True)\n",
    "fem_result = fem.fit()\n",
    "print(fem_result)"
   ]
  },
  {
   "cell_type": "code",
   "execution_count": null,
   "id": "38",
   "metadata": {},
   "outputs": [],
   "source": [
    "plot_OLS_coefficients(fem_result, 'Model 2')  # Assuming plot_OLS_coefficients function is defined"
   ]
  },
  {
   "cell_type": "code",
   "execution_count": null,
   "id": "39",
   "metadata": {},
   "outputs": [],
   "source": [
    "from sklearn.preprocessing import StandardScaler, MinMaxScaler\n",
    "\n",
    "scaler = MinMaxScaler()\n",
    "\n",
    "df_panel_model['NBAGE_scaled'] =  scaler.fit_transform(df_panel_model[['NBAGE']])\n"
   ]
  },
  {
   "cell_type": "code",
   "execution_count": null,
   "id": "40",
   "metadata": {},
   "outputs": [],
   "source": [
    "df_panel_model[['NBAGE_scaled','year']].corr()"
   ]
  },
  {
   "cell_type": "code",
   "execution_count": null,
   "id": "41",
   "metadata": {},
   "outputs": [],
   "source": [
    "# Fixed effects model3\n",
    "fem = PanelOLS.from_formula(model3, data=df_panel_model, drop_absorbed=True)\n",
    "fem_result = fem.fit()\n",
    "print(fem_result)"
   ]
  },
  {
   "cell_type": "code",
   "execution_count": null,
   "id": "42",
   "metadata": {},
   "outputs": [],
   "source": [
    "plot_OLS_coefficients(fem_result, 'Model 3')  # Assuming plot_OLS_coefficients function is defined"
   ]
  },
  {
   "cell_type": "code",
   "execution_count": null,
   "id": "43",
   "metadata": {},
   "outputs": [],
   "source": [
    "# Fixed effects model4\n",
    "fem = PanelOLS.from_formula(model4, data=df_panel_model)\n",
    "fem_result = fem.fit()\n",
    "print(fem_result)"
   ]
  },
  {
   "cell_type": "code",
   "execution_count": null,
   "id": "44",
   "metadata": {},
   "outputs": [],
   "source": [
    "plot_OLS_coefficients(fem_result, 'Model 4')  # Assuming plot_OLS_coefficients function is defined"
   ]
  },
  {
   "cell_type": "code",
   "execution_count": null,
   "id": "45",
   "metadata": {},
   "outputs": [],
   "source": [
    "# Fixed effects model5\n",
    "fem = PanelOLS.from_formula(model5, data=df_panel_model)\n",
    "fem_result = fem.fit()\n",
    "print(fem_result)"
   ]
  },
  {
   "cell_type": "code",
   "execution_count": null,
   "id": "46",
   "metadata": {},
   "outputs": [],
   "source": [
    "plot_OLS_coefficients(fem_result, 'Model 5')  # Assuming plot_OLS_coefficients function is defined"
   ]
  },
  {
   "cell_type": "code",
   "execution_count": null,
   "id": "47",
   "metadata": {},
   "outputs": [],
   "source": [
    "# Fixed effects model5\n",
    "fem = PanelOLS.from_formula(model6, data=df_panel_model, drop_absorbed= True)\n",
    "fem_result = fem.fit(cov_type='clustered', cluster_entity=True)\n",
    "print(fem_result)"
   ]
  },
  {
   "cell_type": "code",
   "execution_count": null,
   "id": "48",
   "metadata": {},
   "outputs": [],
   "source": [
    "plot_OLS_coefficients(fem_result, 'Model 6')  # Assuming plot_OLS_coefficients function is defined"
   ]
  },
  {
   "cell_type": "code",
   "execution_count": null,
   "id": "49",
   "metadata": {},
   "outputs": [],
   "source": [
    "# Fixed effects model5\n",
    "fem = PanelOLS.from_formula(model7, data=df_panel_model)\n",
    "fem_result = fem.fit()\n",
    "print(fem_result)"
   ]
  },
  {
   "cell_type": "code",
   "execution_count": null,
   "id": "50",
   "metadata": {},
   "outputs": [],
   "source": [
    "# Fixed effects model5\n",
    "fem = PanelOLS.from_formula(model8, data=df_panel_model)\n",
    "fem_result = fem.fit()\n",
    "print(fem_result)"
   ]
  },
  {
   "cell_type": "code",
   "execution_count": null,
   "id": "51",
   "metadata": {},
   "outputs": [],
   "source": [
    "# Fixed effects model5\n",
    "fem = PanelOLS.from_formula(model9, data=df_panel_model, drop_absorbed=True)\n",
    "fem_result = fem.fit()\n",
    "print(fem_result)"
   ]
  },
  {
   "cell_type": "code",
   "execution_count": null,
   "id": "52",
   "metadata": {},
   "outputs": [],
   "source": [
    "df_panel_model.columns = [col.replace(' ', '_') for col in df_panel_model.columns]\n",
    "df_panel_model.columns = [col.replace(\"'\", '') for col in df_panel_model.columns]"
   ]
  },
  {
   "cell_type": "code",
   "execution_count": null,
   "id": "53",
   "metadata": {},
   "outputs": [],
   "source": [
    "' + '.join(df_panel_model.filter(regex='_binary').columns.tolist())"
   ]
  },
  {
   "cell_type": "code",
   "execution_count": null,
   "id": "54",
   "metadata": {},
   "outputs": [],
   "source": [
    "model10 = \"PRESTATIONS_BRUTES_AOS ~ 1 + treatment + year + cds + age_group + SEX_F + ssep2 + MTFRANCHISECOUV + mean_ndvi + D_MEDIC_B + D_MEDIC_S + EntityEffects\""
   ]
  },
  {
   "cell_type": "code",
   "execution_count": null,
   "id": "55",
   "metadata": {},
   "outputs": [],
   "source": [
    "# Fixed effects model5\n",
    "fem = PanelOLS.from_formula(model10, data=df_panel_model, drop_absorbed=True)\n",
    "fem_result = fem.fit()\n",
    "print(fem_result)"
   ]
  },
  {
   "cell_type": "code",
   "execution_count": null,
   "id": "56",
   "metadata": {},
   "outputs": [],
   "source": [
    "dict_age_2017 = df_treated_filtered[df_treated_filtered.NOANNEE == 2017].set_index('uuid')['NBAGE'].to_dict()\n",
    "\n",
    "df_panel_model['NBAGE_2017'] = df_panel_model.index.get_level_values('uuid').map(dict_age_2017)"
   ]
  },
  {
   "cell_type": "code",
   "execution_count": null,
   "id": "57",
   "metadata": {},
   "outputs": [],
   "source": [
    "time_dummies = pd.get_dummies(df_panel_model['year'], prefix='year',dtype = int)"
   ]
  },
  {
   "cell_type": "code",
   "execution_count": null,
   "id": "58",
   "metadata": {},
   "outputs": [],
   "source": [
    "df_panel_model = pd.concat([df_panel_model, time_dummies], axis=1)"
   ]
  },
  {
   "cell_type": "code",
   "execution_count": null,
   "id": "59",
   "metadata": {},
   "outputs": [],
   "source": [
    "model11 = \"PRESTATIONS_BRUTES_AOS ~ 1 + PRESTATIONS_BRUTES_LCA + year_2017 + year_2018 + year_2019 + year_2020  + NBAGE + EntityEffects\""
   ]
  },
  {
   "cell_type": "code",
   "execution_count": null,
   "id": "60",
   "metadata": {},
   "outputs": [],
   "source": [
    "# Fixed effects model5\n",
    "fem = PanelOLS.from_formula(model11, data=df_panel_model, drop_absorbed=True)\n",
    "fem_result = fem.fit()\n",
    "print(fem_result)"
   ]
  },
  {
   "cell_type": "code",
   "execution_count": null,
   "id": "61",
   "metadata": {},
   "outputs": [],
   "source": [
    "# Fixed effects model5\n",
    "fem = PanelOLS.from_formula('PRESTATIONS_BRUTES_AOS ~ 1 + SEX_F + EntityEffects', data=df_panel_model, drop_absorbed=True)\n",
    "fem_result = fem.fit()\n",
    "print(fem_result)"
   ]
  },
  {
   "cell_type": "markdown",
   "id": "62",
   "metadata": {},
   "source": [
    "## Association entre treatment and CDS"
   ]
  },
  {
   "cell_type": "code",
   "execution_count": null,
   "id": "63",
   "metadata": {},
   "outputs": [],
   "source": [
    "df_panel_model_test = df_panel_model[df_panel_model.age_group == '45-64']"
   ]
  },
  {
   "cell_type": "code",
   "execution_count": null,
   "id": "64",
   "metadata": {},
   "outputs": [],
   "source": [
    "model1_cds = 'cds ~ 1 + treatment*year + EntityEffects'\n",
    "\n",
    "# Fixed effects model5\n",
    "fem = PanelOLS.from_formula(model1_cds, data=df_panel_model, drop_absorbed=True)\n",
    "fem_result = fem.fit()\n",
    "print(fem_result)"
   ]
  },
  {
   "cell_type": "code",
   "execution_count": null,
   "id": "65",
   "metadata": {},
   "outputs": [],
   "source": [
    "model2_cds = 'cds ~ 1 + treatment*year + ssep2 + SEX_F +  EntityEffects'\n",
    "\n",
    "# Fixed effects model5\n",
    "fem = PanelOLS.from_formula(model2_cds, data=df_panel_model, drop_absorbed=True)\n",
    "fem_result = fem.fit()\n",
    "print(fem_result)"
   ]
  },
  {
   "cell_type": "code",
   "execution_count": null,
   "id": "66",
   "metadata": {},
   "outputs": [],
   "source": [
    "model3_cds = 'cds ~ 1 + treatment*year + NBAGE_scaled + SEX_F + MTFRANCHISECOUV + ssep2 + D_MEDIC_B + D_MEDIC_S + mean_ndvi + mean_lst + mean_pm10 + mean_no2 + EntityEffects'\n",
    "\n",
    "# Fixed effects model5\n",
    "fem = PanelOLS.from_formula(model3_cds, data=df_panel_model, drop_absorbed=True)\n",
    "fem_result = fem.fit()\n",
    "print(fem_result)"
   ]
  },
  {
   "cell_type": "code",
   "execution_count": null,
   "id": "67",
   "metadata": {},
   "outputs": [],
   "source": [
    "# # Fixed effects model5\n",
    "# fem = PanelOLS.from_formula(model1_cds, data=df_panel_model_cancer, drop_absorbed=True)\n",
    "# fem_result = fem.fit()\n",
    "# print(fem_result)"
   ]
  },
  {
   "cell_type": "markdown",
   "id": "68",
   "metadata": {},
   "source": [
    "## Association entre treatment/PRESTATIONS_BRUTES_LCA et N_ATC"
   ]
  },
  {
   "cell_type": "code",
   "execution_count": null,
   "id": "69",
   "metadata": {},
   "outputs": [],
   "source": [
    "test=df_panel_model.reset_index()"
   ]
  },
  {
   "cell_type": "code",
   "execution_count": null,
   "id": "70",
   "metadata": {},
   "outputs": [],
   "source": [
    "# del test"
   ]
  },
  {
   "cell_type": "code",
   "execution_count": null,
   "id": "71",
   "metadata": {},
   "outputs": [],
   "source": [
    "df_panel_model['NBAGE_min'] = df_panel_model.groupby(level='uuid')['NBAGE'].transform('min')"
   ]
  },
  {
   "cell_type": "code",
   "execution_count": null,
   "id": "72",
   "metadata": {},
   "outputs": [],
   "source": [
    "model1_natc = 'n_atc ~ 1 +  treatment*year_2 + treatment*year_3 + treatment*year_4 + treatment*year_5 + NBAGE + ssep2 + SEX_F + MTFRANCHISECOUV +  EntityEffects'\n",
    "# Fixed effects model5\n",
    "fem = PanelOLS.from_formula(model1_natc, data=df_panel_model, drop_absorbed=True)\n",
    "fem_result = fem.fit()\n",
    "print(fem_result)"
   ]
  },
  {
   "cell_type": "code",
   "execution_count": null,
   "id": "73",
   "metadata": {},
   "outputs": [],
   "source": [
    "model1_natc = 'n_atc ~ 1 + treatment*year + ssep2 + SEX_F + MTFRANCHISECOUV +  EntityEffects'\n",
    "# Fixed effects model5\n",
    "fem = PanelOLS.from_formula(model1_natc, data=df_panel_model[df_panel_model.NBAGE >=65], drop_absorbed=True)\n",
    "fem_result = fem.fit()\n",
    "print(fem_result)"
   ]
  },
  {
   "cell_type": "code",
   "execution_count": null,
   "id": "74",
   "metadata": {},
   "outputs": [],
   "source": [
    "model1_natc = 'DRUGAMOUNT_BRUT ~ 1 + treatment*year + ssep2 + SEX_F + MTFRANCHISECOUV +  EntityEffects'\n",
    "# Fixed effects model5\n",
    "fem = PanelOLS.from_formula(model1_natc, data=df_panel_model[df_panel_model.NBAGE >=65], drop_absorbed=True)\n",
    "fem_result = fem.fit()\n",
    "print(fem_result)"
   ]
  },
  {
   "cell_type": "code",
   "execution_count": null,
   "id": "75",
   "metadata": {},
   "outputs": [],
   "source": [
    "# model1_natc = 'PRESTATIONS_BRUTES_AOS ~ 1 + treatment*NBAGE + ssep2 + CDPHYSSEXE + CANTON_NAME + MTFRANCHISECOUV +  EntityEffects'\n",
    "# # Fixed effects model5\n",
    "# fem = PanelOLS.from_formula(model1_natc, data=df_panel_model, drop_absorbed=True)\n",
    "# fem_result = fem.fit(cov_type='clustered', cluster_entity=True)\n",
    "# print(fem_result)"
   ]
  },
  {
   "cell_type": "markdown",
   "id": "76",
   "metadata": {},
   "source": [
    "### Random effects model\n",
    "\n",
    "Fitting a Random Effects model for model2 allows you to examine the interaction between treatment and time while also accounting for both within-entity and between-entity variations in spending on conventional medicine.\n",
    "\n",
    "**Pros:**\n",
    "Efficiency: Compared to Fixed Effects models, Random Effects can be more efficient (smaller standard errors) if the individual entity effects are not strongly correlated with the predictors.\n",
    "\n",
    "Between-Entity Information: Captures both within-entity and between-entity variations, thereby utilizing more information in the data.\n",
    "\n",
    "Model Complexity: Allows for the inclusion of time-invariant predictors if needed (though not in this specific formula).\n",
    "\n",
    "**Cons:**\n",
    "\n",
    "Assumptions: Assumes that the entity-specific effects are uncorrelated with the independent variables. Violation of this assumption can lead to biased estimates.\n",
    "\n",
    "Generalizability: The random effects are assumed to be drawn from a larger population, and this assumption may not always hold or be of interest.\n",
    "\n",
    "**Interpretation:**\n",
    "Similar to a Fixed Effects model, you'll get estimates for the impact of treatment and its interaction with time on spending on conventional medicine (PRESTATIONS_BRUTES_AOS). However, the coefficients will represent both within-entity and between-entity effects, giving a more holistic view of the treatment's impact.\n",
    "\n",
    "In summary, using a Random Effects model for model2 can be a good strategy if you believe that the unobserved entity-specific effects are not strongly correlated with the treatment and time variables in your model."
   ]
  },
  {
   "cell_type": "code",
   "execution_count": null,
   "id": "77",
   "metadata": {},
   "outputs": [],
   "source": [
    "# Random effects model\n",
    "rem = RandomEffects.from_formula(model2, data=df_panel_model)\n",
    "rem_result = rem.fit()\n",
    "print(rem_result)"
   ]
  },
  {
   "cell_type": "code",
   "execution_count": null,
   "id": "78",
   "metadata": {},
   "outputs": [],
   "source": [
    "# Fixed effects model5\n",
    "rem = PanelOLS.from_formula('PRESTATIONS_BRUTES_AOS ~ 1 + PRESTATIONS_BRUTES_LCA + NBAGE', data=df_panel_model, drop_absorbed=True)\n",
    "rem_result = rem.fit()\n",
    "print(rem_result)"
   ]
  },
  {
   "cell_type": "markdown",
   "id": "79",
   "metadata": {},
   "source": [
    "#### Pooled OLS model\n",
    "\n",
    "Using a Pooled OLS (Ordinary Least Squares) model for model2 is essentially treating your data as one big dataset without paying special attention to the differences between entities (like patients) or time periods.\n",
    "\n",
    "**Pros:**\n",
    "Simplicity: Easy to understand and implement.\n",
    "More Degrees of Freedom: Uses all the data without any partitioning, which could be beneficial when you have fewer observations.\n",
    "\n",
    "**Cons:**\n",
    "Ignores Structure: Does not account for any differences between patients or changes over time. This might lead to incorrect conclusions.\n",
    "Inefficiency: If there are significant differences between patients or over time, ignoring them can make your estimates less precise.  \n",
    "\n",
    "**Assumptions:**\n",
    "Linear Relationship: Assumes a linear relationship between the dependent and independent variables.\n",
    "Independence: Observations should be independent of each other, which might not be the case in your panel data.\n",
    "\n",
    "**Interpretation:**\n",
    "The model will give you an estimate of the average effect of treatment and its interaction with time on spending on conventional medicine (PRESTATIONS_BRUTES_AOS). However, the results might be misleading if the differences between patients or changes over time are important for understanding your question.\n",
    "\n",
    "In short, a Pooled OLS model is like a \"one-size-fits-all\" approach. It's easier but might not be as accurate if you think that individual differences or changes over time are important."
   ]
  },
  {
   "cell_type": "code",
   "execution_count": null,
   "id": "80",
   "metadata": {},
   "outputs": [],
   "source": [
    "# Pooled OLS model\n",
    "pols = PanelOLS.from_formula(model2, data=df_panel_model, drop_absorbed=True)\n",
    "pols_result = pols.fit()\n",
    "print(pols_result)"
   ]
  },
  {
   "cell_type": "code",
   "execution_count": null,
   "id": "81",
   "metadata": {},
   "outputs": [],
   "source": [
    "df_panel_model.reset_index()"
   ]
  },
  {
   "cell_type": "code",
   "execution_count": null,
   "id": "82",
   "metadata": {},
   "outputs": [],
   "source": [
    "uuid_mapping = {uuid: i for i, uuid in enumerate(df_treated_filtered['uuid'].unique())}\n"
   ]
  },
  {
   "cell_type": "code",
   "execution_count": null,
   "id": "83",
   "metadata": {},
   "outputs": [],
   "source": [
    "uuid_mapping = {uuid: i+1 for i, uuid in enumerate(df_treated['uuid'].unique())}\n",
    "df_treated['uuid_int'] = df_treated['uuid'].map(uuid_mapping).astype(int)\n",
    "df_treated_filtered['uuid_int'] = df_treated_filtered['uuid'].map(uuid_mapping).astype(int)"
   ]
  },
  {
   "cell_type": "code",
   "execution_count": null,
   "id": "84",
   "metadata": {},
   "outputs": [],
   "source": [
    "\n",
    "\n",
    "# Formula for fixed effects (Intervention, Time) and random intercepts (1|ID)\n",
    "formula = \"PRESTATIONS_BRUTES_AOS ~ treatment + year + treatment*year + (1|uuid_int)\"\n",
    "\n",
    "# Fit the model\n",
    "model = smf.mixedlm(formula, df_treated_filtered, groups=df_treated_filtered[\"uuid_int\"])\n",
    "result = model.fit()\n",
    "\n",
    "# Show the results\n",
    "print(result.summary())"
   ]
  },
  {
   "cell_type": "code",
   "execution_count": null,
   "id": "85",
   "metadata": {},
   "outputs": [],
   "source": [
    "\"cds + NBAGE_scaled + SEX_F + MTFRANCHISECOUV + ssep2 + D_MEDIC_B + D_MEDIC_S + mean_ndvi + mean_lst + mean_pm10 + mean_no2 \""
   ]
  },
  {
   "cell_type": "code",
   "execution_count": null,
   "id": "86",
   "metadata": {},
   "outputs": [],
   "source": [
    "model = sm.MixedLM.from_formula('PRESTATIONS_BRUTES_AOS ~ treatment*year + cds + NBAGE + SEX_F + MTFRANCHISECOUV + ssep2 + D_MEDIC_B + D_MEDIC_S + mean_ndvi + mean_lst + mean_pm10 + mean_no2', groups='uuid_int', data=df_treated_filtered)\n",
    "result = model.fit()\n",
    "# Show the results\n",
    "print(result.summary())"
   ]
  },
  {
   "cell_type": "code",
   "execution_count": null,
   "id": "87",
   "metadata": {},
   "outputs": [],
   "source": [
    "df_treated = df_treated.reset_index(drop = True)"
   ]
  },
  {
   "cell_type": "code",
   "execution_count": null,
   "id": "88",
   "metadata": {},
   "outputs": [],
   "source": [
    "n_years_uuid = df_treated.groupby('uuid').size().sort_values()"
   ]
  },
  {
   "cell_type": "code",
   "execution_count": null,
   "id": "89",
   "metadata": {},
   "outputs": [],
   "source": [
    "n_years_uuid_2plus = n_years_uuid[n_years_uuid > 1].index"
   ]
  },
  {
   "cell_type": "code",
   "execution_count": null,
   "id": "90",
   "metadata": {},
   "outputs": [],
   "source": [
    "test = df_treated[df_treated.uuid.isin(n_years_uuid_2plus)]"
   ]
  },
  {
   "cell_type": "code",
   "execution_count": null,
   "id": "91",
   "metadata": {},
   "outputs": [],
   "source": [
    "df_treated"
   ]
  },
  {
   "cell_type": "code",
   "execution_count": null,
   "id": "92",
   "metadata": {},
   "outputs": [],
   "source": [
    "model = sm.MixedLM.from_formula('PRESTATIONS_BRUTES_AOS ~ treatment', groups='uuid_int', data=df_treated)\n",
    "result = model.fit()\n",
    "# Show the results\n",
    "print(result.summary())"
   ]
  },
  {
   "cell_type": "code",
   "execution_count": null,
   "id": "93",
   "metadata": {},
   "outputs": [],
   "source": [
    "# Show the results\n",
    "print(result.summary())"
   ]
  },
  {
   "cell_type": "code",
   "execution_count": null,
   "id": "94",
   "metadata": {},
   "outputs": [],
   "source": [
    "# Formula for fixed effects (Intervention, Time) and random intercepts (1|ID)\n",
    "formula = \"PRESTATIONS_BRUTES_AOS ~ treatment + year + (1|uuid_int)\"\n",
    "vc = {'classroom': '0 + C(classroom)'}\n",
    "# Fit the model\n",
    "model = smf.mixedlm(formula, df_treated, groups=df_treated[\"uuid_int\"])\n",
    "result = model.fit()\n",
    "\n",
    "# Show the results\n",
    "print(result.summary())"
   ]
  },
  {
   "cell_type": "markdown",
   "id": "95",
   "metadata": {},
   "source": [
    "## Spatial panel data models with fixed-effects"
   ]
  },
  {
   "cell_type": "markdown",
   "id": "96",
   "metadata": {},
   "source": [
    "### Toy example"
   ]
  },
  {
   "cell_type": "code",
   "execution_count": null,
   "id": "97",
   "metadata": {},
   "outputs": [],
   "source": [
    "nat = libpysal.examples.load_example(\"NCOVR\")\n",
    "db = libpysal.io.open(nat.get_path(\"NAT.dbf\"), \"r\")\n",
    "\n",
    "# Create spatial weight matrix\n",
    "nat_shp = libpysal.examples.get_path(\"NAT.shp\")\n",
    "w = libpysal.weights.Queen.from_shapefile(nat_shp)\n",
    "w.transform = 'r'\n",
    "\n",
    "# Define dependent variable\n",
    "name_y = [\"HR70\", \"HR80\", \"HR90\"]\n",
    "y = np.array([db.by_col(name) for name in name_y]).T\n",
    "\n",
    "# Define independent variables\n",
    "name_x = [\"RD70\", \"RD80\", \"RD90\", \"PS70\", \"PS80\", \"PS90\"]\n",
    "x = np.array([db.by_col(name) for name in name_x]).T"
   ]
  },
  {
   "cell_type": "code",
   "execution_count": null,
   "id": "98",
   "metadata": {},
   "outputs": [],
   "source": [
    "fe_lag = spreg.Panel_FE_Lag(y, x, w, name_y=name_y, name_x=name_x, name_ds=\"NAT\")"
   ]
  },
  {
   "cell_type": "code",
   "execution_count": null,
   "id": "99",
   "metadata": {},
   "outputs": [],
   "source": [
    "print(fe_lag.summary)"
   ]
  },
  {
   "cell_type": "code",
   "execution_count": null,
   "id": "100",
   "metadata": {},
   "outputs": [],
   "source": [
    "y_long = y.reshape((y.shape[0]*y.shape[1],1), order='F')\n",
    "x_long = x.reshape((x.shape[0]*3,2), order='F')\n",
    "\n",
    "fe_lag_long = spreg.Panel_FE_Lag(y_long, x_long, w, name_y=name_y, name_x=name_x, name_ds=\"NAT\")\n",
    "print(fe_lag_long.summary)"
   ]
  },
  {
   "cell_type": "markdown",
   "id": "101",
   "metadata": {},
   "source": [
    "### Actual model"
   ]
  },
  {
   "cell_type": "code",
   "execution_count": null,
   "id": "102",
   "metadata": {},
   "outputs": [],
   "source": [
    "import geopandas as gpd\n",
    "from scipy.spatial import cKDTree\n",
    "from libpysal.weights.distance import get_points_array"
   ]
  },
  {
   "cell_type": "code",
   "execution_count": null,
   "id": "103",
   "metadata": {},
   "outputs": [],
   "source": [
    "gdf_panel_model = gpd.GeoDataFrame(df_panel_model[['PRESTATIONS_BRUTES_AOS','PRESTATIONS_BRUTES_LCA','treatment','cds','lon_masked','lat_masked']], geometry = gpd.points_from_xy(df_panel_model.lon_masked, df_panel_model.lat_masked), crs = 4326)\n",
    "gdf_panel_model = gdf_panel_model.to_crs(2056)"
   ]
  },
  {
   "cell_type": "code",
   "execution_count": null,
   "id": "104",
   "metadata": {},
   "outputs": [],
   "source": [
    "sample_uuids = gdf_panel_model.reset_index()['uuid'].sample(n=10000, random_state=1).tolist()"
   ]
  },
  {
   "cell_type": "code",
   "execution_count": null,
   "id": "105",
   "metadata": {},
   "outputs": [],
   "source": [
    "sample_df_panel_model = gdf_panel_model[gdf_panel_model.index.get_level_values('uuid').isin(sample_uuids)]"
   ]
  },
  {
   "cell_type": "code",
   "execution_count": null,
   "id": "106",
   "metadata": {},
   "outputs": [],
   "source": [
    "w = libpysal.weights.KNN(cKDTree(get_points_array(sample_df_panel_model.geometry.centroid)), 8)\n",
    "\n",
    "w.transform = 'r'"
   ]
  },
  {
   "cell_type": "code",
   "execution_count": null,
   "id": "107",
   "metadata": {},
   "outputs": [],
   "source": [
    "# Define dependent variable\n",
    "y = sample_df_panel_model['PRESTATIONS_BRUTES_AOS'].values.reshape(-1, 1)\n",
    "\n",
    "\n",
    "# Define independent variables\n",
    "x = sample_df_panel_model[['PRESTATIONS_BRUTES_LCA']].values.reshape(-1, 1)\n"
   ]
  },
  {
   "cell_type": "code",
   "execution_count": null,
   "id": "108",
   "metadata": {},
   "outputs": [],
   "source": [
    "# name_y = ['amount_aos_2017','amount_aos_2018','amount_aos_2019','amount_aos_2020','amount_aos_2021']\n",
    "# name_x = ['treatment_2017','treatment_2018','treatment_2019','treatment_2020','treatment_2021', 'cds_2017','cds_2018','cds_2019','cds_2020','cds_2021']"
   ]
  },
  {
   "cell_type": "code",
   "execution_count": null,
   "id": "109",
   "metadata": {},
   "outputs": [],
   "source": [
    "name_y = ['amount_aos']\n",
    "name_x = ['amount_lca']"
   ]
  },
  {
   "cell_type": "code",
   "execution_count": null,
   "id": "110",
   "metadata": {},
   "outputs": [],
   "source": [
    "??spreg.Panel_FE_Lag"
   ]
  },
  {
   "cell_type": "code",
   "execution_count": null,
   "id": "111",
   "metadata": {},
   "outputs": [],
   "source": [
    "fe_lag_long = spreg.Panel_FE_Lag(y, x, w, name_y=name_y, name_x=name_x, name_ds=\"test\")"
   ]
  },
  {
   "cell_type": "code",
   "execution_count": null,
   "id": "112",
   "metadata": {},
   "outputs": [],
   "source": [
    "fe_lag_long"
   ]
  },
  {
   "cell_type": "markdown",
   "id": "113",
   "metadata": {},
   "source": [
    "## Number of years treated and PRESTATIONS_BRUTES_AOS"
   ]
  },
  {
   "cell_type": "code",
   "execution_count": null,
   "id": "114",
   "metadata": {},
   "outputs": [],
   "source": [
    "outcome_vars = ['DRUGAMOUNT_BRUT','PRESTATIONS_BRUTES_AOS','PRESTATIONS_NETTES_AOS','PRESTATIONS_BRUTES_LCA','PRESTATIONS_DISEASE','PRESTATIONS_BIRTH','PRESTATIONS_ACCIDENT','PRESTATIONS_TOTAL','n_atc','NBRE_FACTURES_LCA', 'NBRE_FACTURES_AOS', 'NBRE_FACTURES_TOTAL', 'n_inpatient_hosp', 'n_outpatient_hosp',\n",
    " 'n_month_outpatienthosp',\n",
    " 'n_month_inpatienthosp',\n",
    " 'time_to_rehosp_in',\n",
    " 'time_to_rehosp_out']"
   ]
  },
  {
   "cell_type": "code",
   "execution_count": null,
   "id": "115",
   "metadata": {},
   "outputs": [],
   "source": [
    "sample_df['years_treated'] = sample_df.groupby('uuid')['treatment'].cumsum()"
   ]
  },
  {
   "cell_type": "code",
   "execution_count": null,
   "id": "116",
   "metadata": {},
   "outputs": [],
   "source": [
    "# Loading Grunfeld Investment data\n",
    "year = pd.Categorical(df_matched_full['year'])"
   ]
  },
  {
   "cell_type": "code",
   "execution_count": null,
   "id": "117",
   "metadata": {},
   "outputs": [],
   "source": [
    "# Preparing data for panel model\n",
    "df_matched_full = df_matched_full.set_index(['uuid','year'])\n",
    "df_matched_full['year'] = year\n"
   ]
  },
  {
   "cell_type": "code",
   "execution_count": null,
   "id": "118",
   "metadata": {},
   "outputs": [],
   "source": [
    "# Pooled OLS model\n",
    "pols = PanelOLS.from_formula('PRESTATIONS_BRUTES_AOS ~  n_atc + DRUGAMOUNT_BRUT + n_outpatient_hosp', data=df_matched_full)\n",
    "pols_result = pols.fit()\n",
    "print(pols_result)"
   ]
  },
  {
   "cell_type": "code",
   "execution_count": null,
   "id": "119",
   "metadata": {},
   "outputs": [],
   "source": [
    "# Fixed effects model\n",
    "fem = PanelOLS.from_formula('treatment ~  n_atc + n_outpatient_hosp + n_inpatient_hosp + EntityEffects', data=df_matched_full)\n",
    "fem_result = fem.fit(cov_type='clustered', cluster_entity = True)\n",
    "print(fem_result)"
   ]
  },
  {
   "cell_type": "code",
   "execution_count": null,
   "id": "120",
   "metadata": {},
   "outputs": [],
   "source": [
    "# Random effects model\n",
    "rem = RandomEffects.from_formula('PRESTATIONS_BRUTES_AOS ~ treatment + n_atc + n_outpatient_hosp + n_inpatient_hosp + EntityEffects', data=df_matched_full)\n",
    "rem_result = rem.fit(cov_type='clustered', cluster_entity = True)\n",
    "print(rem_result)"
   ]
  },
  {
   "cell_type": "code",
   "execution_count": null,
   "id": "121",
   "metadata": {},
   "outputs": [],
   "source": [
    "# Conduct the Fixed Effects Model Analysis\n",
    "fe_model_formula = 'PRESTATIONS_BRUTES_AOS ~ years_treated + age + C(NOANNEE) + sex + deductible + zipcode + C(uuid)'\n",
    "fe_model = smf.ols(formula=fe_model_formula, data=sample_df).fit()\n",
    "\n",
    "# Display the Fixed Effects model summary\n",
    "fe_model.summary()"
   ]
  },
  {
   "cell_type": "code",
   "execution_count": null,
   "id": "122",
   "metadata": {},
   "outputs": [],
   "source": []
  },
  {
   "cell_type": "markdown",
   "id": "123",
   "metadata": {},
   "source": [
    "## Difference-in-differences model"
   ]
  },
  {
   "cell_type": "code",
   "execution_count": null,
   "id": "124",
   "metadata": {},
   "outputs": [],
   "source": [
    "# Specify regression formula\n",
    "reg_formula = 'PRESTATIONS_BRUTES_AOS ~ NOANNEE + treatment + interaction'\n",
    "\n",
    "# Implement DiD model\n",
    "model = sm.OLS.from_formula(reg_formula, df_did_wo_replication)\n",
    "result = model.fit()"
   ]
  },
  {
   "cell_type": "code",
   "execution_count": null,
   "id": "125",
   "metadata": {},
   "outputs": [],
   "source": [
    "print(result.summary())"
   ]
  },
  {
   "cell_type": "markdown",
   "id": "126",
   "metadata": {},
   "source": [
    "## Integrate differences in treatment \"exposure\"\n",
    "\n",
    "- With this binary definition of treatment and outcome, we can't differentiate people who have used complementary medicine once within a year from the ones that have used it every week.\n",
    "- This follow up analysis includes this information"
   ]
  },
  {
   "cell_type": "code",
   "execution_count": null,
   "id": "127",
   "metadata": {},
   "outputs": [],
   "source": [
    "reg_formula = 'PRESTATIONS_BRUTES_AOS ~ PRESTATIONS_BRUTES_LCA + NOANNEE + treatment + interaction'\n",
    "# Implement DiD model\n",
    "model = sm.OLS.from_formula(reg_formula, df_did_wo_replication)\n",
    "result = model.fit()"
   ]
  },
  {
   "cell_type": "code",
   "execution_count": null,
   "id": "128",
   "metadata": {},
   "outputs": [],
   "source": [
    "print(result.summary())"
   ]
  },
  {
   "cell_type": "markdown",
   "id": "129",
   "metadata": {},
   "source": [
    "#### Approach 2 : With replication"
   ]
  },
  {
   "cell_type": "code",
   "execution_count": null,
   "id": "130",
   "metadata": {},
   "outputs": [],
   "source": [
    "baseline_df = df_matched_2017[['uuid','NOANNEE','PRESTATIONS_BRUTES_LCA','PRESTATIONS_BRUTES_AOS','treatment']].copy()\n",
    "subsequent_years_df = df_treated_filtered[(df_treated_filtered.NOANNEE != 2017)][['uuid','NOANNEE','PRESTATIONS_BRUTES_LCA','PRESTATIONS_BRUTES_AOS','treatment']]"
   ]
  },
  {
   "cell_type": "code",
   "execution_count": null,
   "id": "131",
   "metadata": {},
   "outputs": [],
   "source": [
    "baseline_df[baseline_df.uuid.duplicated()]"
   ]
  },
  {
   "cell_type": "code",
   "execution_count": null,
   "id": "132",
   "metadata": {},
   "outputs": [],
   "source": [
    "df_treated_filtered[df_treated_filtered.uuid == '18f8b703-f5e6-42fe-8843-afdb8727b0d9']"
   ]
  },
  {
   "cell_type": "code",
   "execution_count": null,
   "id": "133",
   "metadata": {},
   "outputs": [],
   "source": [
    "subsequent_years_df[subsequent_years_df.uuid == '18f8b703-f5e6-42fe-8843-afdb8727b0d9']"
   ]
  },
  {
   "cell_type": "code",
   "execution_count": null,
   "id": "134",
   "metadata": {},
   "outputs": [],
   "source": [
    "baseline_df['key'] = range(len(baseline_df))"
   ]
  },
  {
   "cell_type": "code",
   "execution_count": null,
   "id": "135",
   "metadata": {},
   "outputs": [],
   "source": [
    "subsequent_years_df['key'] = range(len(subsequent_years_df))\n",
    "# Merge with the baseline data to replicate the duplication pattern\n",
    "final_df = pd.merge(baseline_df[['key', 'uuid']], subsequent_years_df, on='uuid', how='left')"
   ]
  },
  {
   "cell_type": "code",
   "execution_count": null,
   "id": "136",
   "metadata": {},
   "outputs": [],
   "source": [
    "final_df"
   ]
  },
  {
   "cell_type": "code",
   "execution_count": null,
   "id": "137",
   "metadata": {},
   "outputs": [],
   "source": [
    "data_final[(data_final.NOANNEE != 2017)&(data_final.uuid.isin(df_matched_2017.uuid))]"
   ]
  },
  {
   "cell_type": "code",
   "execution_count": null,
   "id": "138",
   "metadata": {},
   "outputs": [],
   "source": [
    "df = pd.DataFrame({\n",
    "    'individual_id': [1, 1, 2, 2, 3, 3],\n",
    "    'year': [1, 2, 1, 2, 1, 2],\n",
    "    'treatment': [0, 0, 1, 1, 0, 0],\n",
    "    'conventional_cost': [100, 110, 50, 45, 130, 125]\n",
    "})"
   ]
  },
  {
   "cell_type": "code",
   "execution_count": null,
   "id": "139",
   "metadata": {},
   "outputs": [],
   "source": [
    "df_did_init = df_treated_filtered[(df_treated_filtered.NOANNEE != 2017)&(df_treated_filtered.uuid.isin(df_matched_2017.uuid))][['uuid','NOANNEE','PRESTATIONS_BRUTES_LCA','PRESTATIONS_BRUTES_AOS','treatment']]"
   ]
  },
  {
   "cell_type": "code",
   "execution_count": null,
   "id": "140",
   "metadata": {},
   "outputs": [],
   "source": [
    "df_did = pd.merge(df_matched_2017, df_did_init, on = ['uuid'])"
   ]
  },
  {
   "cell_type": "code",
   "execution_count": null,
   "id": "141",
   "metadata": {},
   "outputs": [],
   "source": [
    "df"
   ]
  }
 ],
 "metadata": {
  "kernelspec": {
   "display_name": "psm",
   "language": "python",
   "name": "psm"
  },
  "language_info": {
   "codemirror_mode": {
    "name": "ipython",
    "version": 3
   },
   "file_extension": ".py",
   "mimetype": "text/x-python",
   "name": "python",
   "nbconvert_exporter": "python",
   "pygments_lexer": "ipython3",
   "version": "3.10.10"
  }
 },
 "nbformat": 4,
 "nbformat_minor": 5
}
