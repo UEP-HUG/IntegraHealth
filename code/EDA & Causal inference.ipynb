{
 "cells": [
  {
   "cell_type": "code",
   "execution_count": null,
   "id": "0",
   "metadata": {},
   "outputs": [],
   "source": [
    "import pandas as pd\n",
    "import os\n",
    "os.environ['USE_PYGEOS'] = '0'\n",
    "import geopandas as gpd\n",
    "import networkx as nx\n",
    "from pathlib import Path\n",
    "import networkx as nx\n",
    "import matplotlib.pyplot as plt\n",
    "import numpy as np\n",
    "pd.set_option('display.max_columns', 500)\n",
    "\n",
    "from sklearn.preprocessing import MinMaxScaler\n",
    "import sys\n",
    "sys.path.append('/Users/david/Dropbox/PhD/Scripts/Spatial analyses')\n",
    "import pyspace\n",
    "import libpysal as lps\n",
    "from scipy.spatial import cKDTree\n",
    "from libpysal.weights.distance import get_points_array\n",
    "from esda import fdr\n",
    "from importlib import reload\n",
    "pd.set_option('display.max_rows', 500)\n",
    "reload(pyspace)\n",
    "import seaborn as sns\n",
    "from esda.moran import Moran\n",
    "# sns.set_theme(font = 'Helvetica')\n",
    "%matplotlib inline\n",
    "from numba import NumbaDeprecationWarning\n",
    "import warnings\n",
    "import os\n",
    "# Suppress NumbaDeprecationWarning\n",
    "warnings.filterwarnings(\"ignore\", category=NumbaDeprecationWarning)\n",
    "from utils import read_data, plot_covariate_distributions, plot_match, compare_balance, sizeof_fmt, optimize_memory_df, plot_categorical_proportional_diff, compute_mean_differences_and_proportions, love_plot, sensitivity_analysis_k_neighbors"
   ]
  },
  {
   "cell_type": "code",
   "execution_count": null,
   "id": "1",
   "metadata": {},
   "outputs": [],
   "source": [
    "data_folder  = Path('../Data/')\n",
    "main_folder = Path('../Manuscript/Economic analysis of integrative medicine/')\n",
    "results_folder = main_folder/'Results'\n",
    "model_folder = results_folder/'Models'\n",
    "\n",
    "if not os.path.exists(model_folder):\n",
    "    os.makedirs(model_folder)"
   ]
  },
  {
   "cell_type": "code",
   "execution_count": null,
   "id": "2",
   "metadata": {},
   "outputs": [],
   "source": [
    "# data = pd.read_parquet('../Data/processed/full_dataset_nonull.parquet.gzip')"
   ]
  },
  {
   "cell_type": "code",
   "execution_count": null,
   "id": "3",
   "metadata": {},
   "outputs": [],
   "source": [
    "# data.filter(regex='mean_pm10')"
   ]
  },
  {
   "cell_type": "code",
   "execution_count": null,
   "id": "4",
   "metadata": {},
   "outputs": [],
   "source": [
    "# del data"
   ]
  },
  {
   "cell_type": "code",
   "execution_count": null,
   "id": "5",
   "metadata": {},
   "outputs": [],
   "source": [
    "df_treated_filtered = pd.read_parquet('../Data/processed/df_treated_filtered_nominors.parquet.gzip')\n",
    "df_treated_filtered_t_1 = pd.read_parquet('../Data/processed/df_treated_filtered_t_1_nominors.parquet.gzip')"
   ]
  },
  {
   "cell_type": "code",
   "execution_count": null,
   "id": "6",
   "metadata": {},
   "outputs": [],
   "source": [
    "df_treated_filtered.uuid.nunique()"
   ]
  },
  {
   "cell_type": "code",
   "execution_count": null,
   "id": "7",
   "metadata": {},
   "outputs": [],
   "source": [
    "df_treated_filtered.groupby(['NOANNEE','CDPHYSSEXE'])['PRESTATIONS_BRUTES_AOS'].agg({\"mean\",\"std\"}).unstack(level=1).div(1000).round(1)"
   ]
  },
  {
   "cell_type": "code",
   "execution_count": null,
   "id": "8",
   "metadata": {},
   "outputs": [],
   "source": [
    "test = pd.concat([df_treated_filtered.groupby(['NOANNEE','CDPHYSSEXE'])['PRESTATIONS_BRUTES_AOS'].agg({\"mean\",\"std\"}).unstack().div(1000).round(1),\n",
    "df_treated_filtered.groupby(['NOANNEE','age_group'],observed=True)['PRESTATIONS_BRUTES_AOS'].agg({\"mean\",\"std\"}).unstack().div(1000).round(1),\n",
    "df_treated_filtered.groupby(['NOANNEE','ssep3_q'],observed=True)['PRESTATIONS_BRUTES_AOS'].agg({\"mean\",\"std\"}).unstack().div(1000).round(1),\n",
    "df_treated_filtered.groupby(['NOANNEE','Language'],observed=True)['PRESTATIONS_BRUTES_AOS'].agg({\"mean\",\"std\"}).unstack().div(1000).round(1),\n",
    "df_treated_filtered.groupby(['NOANNEE','CAREMODEL'],observed=True)['PRESTATIONS_BRUTES_AOS'].agg({\"mean\",\"std\"}).unstack().div(1000).round(1),\n",
    "df_treated_filtered.groupby(['NOANNEE','MTFRANCHISECOUV'],observed=True)['PRESTATIONS_BRUTES_AOS'].agg({\"mean\",\"std\"}).unstack().div(1000).round(1)], axis=1).T.reset_index()\n",
    "test.columns = ['Statistic', 'Categories', '2017', '2018', '2019', '2020', '2021']\n",
    "\n",
    "# Pivot the DataFrame to make each row represent one year and one sex\n",
    "df_pivot = test.pivot(index='Categories', columns='Statistic')\n",
    "\n",
    "for year in ['2017', '2018', '2019', '2020', '2021']:\n",
    "    df_pivot[year] = df_pivot[(year, 'mean')].astype(str) + \" (\" + df_pivot[(year, 'std')].astype(str) + \")\"\n",
    "df_pivot.columns = df_pivot.columns.droplevel(1)  # Drops the upper level, leaving only the years\n",
    "df_final = df_pivot.reset_index()\n",
    "df_final = df_final.loc[:,~df_final.columns.duplicated()].copy()\n",
    "df_final.to_clipboard()"
   ]
  },
  {
   "cell_type": "code",
   "execution_count": null,
   "id": "9",
   "metadata": {},
   "outputs": [],
   "source": []
  },
  {
   "cell_type": "code",
   "execution_count": null,
   "id": "10",
   "metadata": {},
   "outputs": [],
   "source": [
    "df_treated_filtered = gpd.GeoDataFrame(df_treated_filtered, crs = 2056, geometry = gpd.points_from_xy(df_treated_filtered['E'], df_treated_filtered['N']))\n",
    "df_treated_filtered.sample(10000).plot('ssep3_q', categorical = True, markersize = 3, cmap='bwr', legend=True)"
   ]
  },
  {
   "cell_type": "code",
   "execution_count": null,
   "id": "11",
   "metadata": {},
   "outputs": [],
   "source": [
    "def percentile_25(x):\n",
    "    return np.percentile(x, 25)\n",
    "\n",
    "def percentile_75(x):\n",
    "    return np.percentile(x, 75)\n",
    "\n",
    "def median(x):\n",
    "    return np.median(x)\n"
   ]
  },
  {
   "cell_type": "code",
   "execution_count": null,
   "id": "12",
   "metadata": {},
   "outputs": [],
   "source": [
    "test = pd.concat([df_treated_filtered.groupby(['NOANNEE','CDPHYSSEXE'])['PRESTATIONS_BRUTES_LCA'].agg({\"mean\",\"std\"}).unstack().round(1),\n",
    "df_treated_filtered.groupby(['NOANNEE','age_group'],observed=True)['PRESTATIONS_BRUTES_LCA'].agg({\"mean\",\"std\"}).unstack().round(1),\n",
    "df_treated_filtered.groupby(['NOANNEE','ssep3_q'],observed=True)['PRESTATIONS_BRUTES_LCA'].agg({\"mean\",\"std\"}).unstack().round(1),\n",
    "df_treated_filtered.groupby(['NOANNEE','Language'],observed=True)['PRESTATIONS_BRUTES_LCA'].agg({\"mean\",\"std\"}).unstack().round(1),\n",
    "df_treated_filtered.groupby(['NOANNEE','CAREMODEL'],observed=True)['PRESTATIONS_BRUTES_LCA'].agg({\"mean\",\"std\"}).unstack().round(1),\n",
    "df_treated_filtered.groupby(['NOANNEE','MTFRANCHISECOUV'],observed=True)['PRESTATIONS_BRUTES_LCA'].agg({\"mean\",\"std\"}).unstack().round(1)], axis=1).T.reset_index()\n",
    "test.columns = ['Statistic', 'Categories', '2017', '2018', '2019', '2020', '2021']\n",
    "\n",
    "# Pivot the DataFrame to make each row represent one year and one sex\n",
    "df_pivot = test.pivot(index='Categories', columns='Statistic')\n",
    "\n",
    "for year in ['2017', '2018', '2019', '2020', '2021']:\n",
    "    df_pivot[year] = df_pivot[(year, 'mean')].astype(str) + \" (\" + df_pivot[(year, 'std')].astype(str) + \")\"\n",
    "df_pivot.columns = df_pivot.columns.droplevel(1)  # Drops the upper level, leaving only the years\n",
    "df_final = df_pivot.reset_index()\n",
    "df_final = df_final.loc[:,~df_final.columns.duplicated()].copy()\n",
    "df_final.to_clipboard()"
   ]
  },
  {
   "cell_type": "code",
   "execution_count": null,
   "id": "13",
   "metadata": {},
   "outputs": [],
   "source": [
    "pd.concat([df_treated_filtered.groupby(['NOANNEE','CDPHYSSEXE'])['PRESTATIONS_BRUTES_LCA'].agg({\"median\",\"std\"}).unstack().round(1),\n",
    "df_treated_filtered.groupby(['NOANNEE','age_group'],observed=True)['PRESTATIONS_BRUTES_LCA'].agg({\"median\",\"std\"}).unstack().round(1),\n",
    "df_treated_filtered.groupby(['NOANNEE','ssep3_q'],observed=True)['PRESTATIONS_BRUTES_LCA'].agg({\"median\",\"std\"}).unstack().round(1),\n",
    "df_treated_filtered.groupby(['NOANNEE','CDLANGUE'],observed=True)['PRESTATIONS_BRUTES_LCA'].agg({\"median\",\"std\"}).unstack().round(1),\n",
    "df_treated_filtered.groupby(['NOANNEE','CAREMODEL'],observed=True)['PRESTATIONS_BRUTES_LCA'].agg({\"median\",\"std\"}).unstack().round(1)], axis=1).T.reset_index()"
   ]
  },
  {
   "cell_type": "code",
   "execution_count": null,
   "id": "14",
   "metadata": {},
   "outputs": [],
   "source": [
    "# # Format the result as 'p50 [p25, p75]'\n",
    "# table_costs['p50 [p25, p75]'] = table_costs.apply(lambda row: f\"{row['median']} [{row['percentile_25']}, {row['percentile_75']}]\", axis=1)\n",
    "\n",
    "# # Select only the formatted column\n",
    "# table_costs = table_costs[['p50 [p25, p75]']]\n"
   ]
  },
  {
   "cell_type": "code",
   "execution_count": null,
   "id": "15",
   "metadata": {},
   "outputs": [],
   "source": []
  },
  {
   "cell_type": "code",
   "execution_count": null,
   "id": "16",
   "metadata": {},
   "outputs": [],
   "source": [
    "df_uuid = df_treated_filtered[['uuid']]\n",
    "\n",
    "df_uuid = df_uuid.drop_duplicates().reset_index(drop=True)"
   ]
  },
  {
   "cell_type": "code",
   "execution_count": null,
   "id": "17",
   "metadata": {},
   "outputs": [],
   "source": [
    "yearly_data_AOS = df_treated_filtered.groupby('NOANNEE')['PRESTATIONS_BRUTES_AOS'].sum().div(1000000).reset_index()\n",
    "yearly_data_LCA = df_treated_filtered.groupby('NOANNEE')['PRESTATIONS_BRUTES_LCA'].sum().div(1000000).reset_index()\n",
    "yearly_data_CAM = df_treated_filtered.groupby('NOANNEE')['PRESTATIONS_BRUTES_CAM'].sum().div(1000000).reset_index()\n",
    "\n",
    "# Normalize data\n",
    "\n",
    "yearly_data_AOS['PRESTATIONS_BRUTES_AOS'] = yearly_data_AOS['PRESTATIONS_BRUTES_AOS'] / yearly_data_AOS['PRESTATIONS_BRUTES_AOS'].iloc[0] * 100\n",
    "yearly_data_LCA['PRESTATIONS_BRUTES_LCA'] = yearly_data_LCA['PRESTATIONS_BRUTES_LCA'] / yearly_data_LCA['PRESTATIONS_BRUTES_LCA'].iloc[0] * 100\n",
    "yearly_data_CAM['PRESTATIONS_BRUTES_CAM'] = yearly_data_CAM['PRESTATIONS_BRUTES_CAM'] / yearly_data_CAM['PRESTATIONS_BRUTES_CAM'].iloc[0] * 100\n",
    "\n",
    "# Plot normalized data\n",
    "fig, ax = plt.subplots(figsize=(8, 4))\n",
    "sns.lineplot(data=yearly_data_AOS, x='NOANNEE', y='PRESTATIONS_BRUTES_AOS', marker='o', label='CM - MHI', ax=ax)\n",
    "sns.lineplot(data=yearly_data_LCA, x='NOANNEE', y='PRESTATIONS_BRUTES_LCA', marker='o', label='CAM - SI', ax=ax)\n",
    "sns.lineplot(data=yearly_data_CAM, x='NOANNEE', y='PRESTATIONS_BRUTES_CAM', marker='o', label='CAM - MHI', ax=ax)\n",
    "ax.set_xticks(yearly_data_CAM['NOANNEE'])  # Assuming x-values are year numbers\n",
    "ax.set_xticklabels(yearly_data_CAM['NOANNEE'].astype('string'), rotation=45)\n",
    "ax.grid(True)\n",
    "\n",
    "plt.xlabel('Year')\n",
    "plt.ylabel('Evolution of annual expenditures (%)')  # Update label to indicate these are percentages\n",
    "plt.grid(True)\n",
    "plt.legend(title='Prestation type')\n",
    "# plt.show()\n",
    "plt.savefig(results_folder/'Figures_rapport/Evolution_costs_perc_baseline.png', dpi = 300, bbox_inches='tight')"
   ]
  },
  {
   "cell_type": "code",
   "execution_count": null,
   "id": "18",
   "metadata": {},
   "outputs": [],
   "source": [
    "yearly_data_CAM"
   ]
  },
  {
   "cell_type": "code",
   "execution_count": null,
   "id": "19",
   "metadata": {},
   "outputs": [],
   "source": [
    "yearly_data_LCA"
   ]
  },
  {
   "cell_type": "code",
   "execution_count": null,
   "id": "20",
   "metadata": {},
   "outputs": [],
   "source": [
    "yearly_data_AOS = df_treated_filtered.groupby('NOANNEE')['PRESTATIONS_BRUTES_AOS'].sum().div(1000000).reset_index()\n",
    "yearly_data_LCA = df_treated_filtered.groupby('NOANNEE')['PRESTATIONS_BRUTES_LCA'].sum().div(1000000).reset_index()\n",
    "yearly_data_CAM = df_treated_filtered.groupby('NOANNEE')['PRESTATIONS_BRUTES_CAM'].sum().div(1000000).reset_index()\n",
    "\n",
    "# Create a long format DataFrame for easier plotting with seaborn\n",
    "combined_data = pd.concat([\n",
    "    yearly_data_AOS.rename(columns={'PRESTATIONS_BRUTES_AOS': 'Values'}).assign(Type='CM - MHI'),\n",
    "    yearly_data_CAM.rename(columns={'PRESTATIONS_BRUTES_CAM': 'Values'}).assign(Type='CAM - MHI'),\n",
    "    yearly_data_LCA.rename(columns={'PRESTATIONS_BRUTES_LCA': 'Values'}).assign(Type='CAM - SI')\n",
    "])\n",
    "\n",
    "# Adjusted for FacetGrid with custom x-ticks\n",
    "def plot_facet_grid(data, x, y, facet_col, x_label, y_label):\n",
    "    g = sns.FacetGrid(data, row=facet_col, sharey=False, height=4, aspect=2)\n",
    "    g.map_dataframe(sns.lineplot, x=x, y=y, marker='o')\n",
    "    g.set_axis_labels(x_label, y_label)\n",
    "\n",
    "    # Set x-ticks for each facet\n",
    "    for ax in g.axes.flatten():\n",
    "        ax.set_xticks(data[x].unique())  # Assuming x-values are year numbers\n",
    "        ax.set_xticklabels(data[x].unique(), rotation=45)\n",
    "        ax.grid(True)\n",
    "\n",
    "# Combine and rename data as per previous example for combined_data\n",
    "plot_facet_grid(\n",
    "    combined_data,\n",
    "    'NOANNEE', 'Values', 'Type',\n",
    "    'Year', 'Total annual expenditures (millions CHF)'\n",
    ")\n",
    "plt.savefig(results_folder/'Figures_rapport/Evolution_costs.png', dpi = 300, bbox_inches='tight')"
   ]
  },
  {
   "cell_type": "markdown",
   "id": "21",
   "metadata": {},
   "source": [
    "## Treatment defitions\n",
    "\n",
    "'treatment','n_month_lca_by_patient','n_dispensateur_lca','month_reached_1000_lca'\n",
    "\n",
    "Would be interesting to check whether Cancer patients tend to have less spending in Pain medication !"
   ]
  },
  {
   "cell_type": "code",
   "execution_count": null,
   "id": "22",
   "metadata": {},
   "outputs": [],
   "source": [
    "df_treated_filtered[df_treated_filtered.ihs_cost_aos > 0].groupby('uuid').size().value_counts()"
   ]
  },
  {
   "cell_type": "markdown",
   "id": "23",
   "metadata": {},
   "source": [
    "### Cost distribution after transformation"
   ]
  },
  {
   "cell_type": "markdown",
   "id": "24",
   "metadata": {},
   "source": [
    "#### AOS"
   ]
  },
  {
   "cell_type": "code",
   "execution_count": null,
   "id": "25",
   "metadata": {},
   "outputs": [],
   "source": [
    "df_treated_filtered['n_atc'].plot.hist(bins = 100)"
   ]
  },
  {
   "cell_type": "code",
   "execution_count": null,
   "id": "26",
   "metadata": {},
   "outputs": [],
   "source": [
    "fig, axs = plt.subplots(1, 3, figsize=(16, 4))\n",
    "\n",
    "g = sns.kdeplot(data=df_treated_filtered, x=\"PRESTATIONS_BRUTES_AOS\", ax = axs[0])\n",
    "g.set_xlabel('Yearly CM claims amount (MHI) (CHF)')\n",
    "g = sns.kdeplot(data=df_treated_filtered, x=\"ihs_cost_aos\", ax = axs[1])\n",
    "g.set_xlabel('IHS transformed yearly CM claims amount (MHI) (CHF)')\n",
    "g = sns.kdeplot(data=df_treated_filtered[df_treated_filtered.PRESTATIONS_BRUTES_AOS > df_treated_filtered.MTFRANCHISECOUV], x=\"ihs_cost_aos\", ax = axs[2])\n",
    "g.set_xlabel('IHS transformed yearly CM claims amount (MHI) (CHF)')\n",
    "plt.savefig(results_folder/'Figures_rapport/IHS_transformation_procedure_AOS.png', dpi = 300, bbox_inches='tight')"
   ]
  },
  {
   "cell_type": "code",
   "execution_count": null,
   "id": "27",
   "metadata": {},
   "outputs": [],
   "source": [
    "df_treated_filtered['ihs_cost_aos'].plot.kde()"
   ]
  },
  {
   "cell_type": "markdown",
   "id": "28",
   "metadata": {},
   "source": [
    "#### LCA"
   ]
  },
  {
   "cell_type": "code",
   "execution_count": null,
   "id": "29",
   "metadata": {},
   "outputs": [],
   "source": [
    "df_treated_filtered['ihs_cost_lca'].plot.kde()"
   ]
  },
  {
   "cell_type": "markdown",
   "id": "30",
   "metadata": {},
   "source": [
    "## Création de sous-groupes\n",
    "\n",
    "- Répondre à des questions spécifiques\n",
    "- Augmenter l'homogénéité de la population étudiée"
   ]
  },
  {
   "cell_type": "code",
   "execution_count": null,
   "id": "31",
   "metadata": {},
   "outputs": [],
   "source": [
    "# Healthy = People with PCG flags = 0 in any year\n",
    "uuid_healthy = df_treated_filtered[df_treated_filtered.n_flags == 0].uuid.unique()\n",
    "df_healthy = df_treated_filtered[df_treated_filtered.uuid.isin(uuid_healthy)]\n",
    "\n",
    "# Healthy = People with AOS = 0 at baseline\n",
    "uuid_healthy_bs = df_treated_filtered[(df_treated_filtered.NOANNEE==2017)&(df_treated_filtered.n_flags == 0)].uuid.unique()\n",
    "df_healthy_bs = df_treated_filtered[df_treated_filtered.uuid.isin(uuid_healthy_bs)]\n",
    "\n",
    "# Patients with multimorbidity\n",
    "uuid_multimorbid = df_treated_filtered[df_treated_filtered.multimorbidity == 1].uuid.unique()\n",
    "df_multimorbid = df_treated_filtered[df_treated_filtered.uuid.isin(uuid_multimorbid)]\n",
    "\n",
    "# Patients with multimorbidity at baseline\n",
    "uuid_multimorbid_bs = df_treated_filtered[(df_treated_filtered.NOANNEE==2017)&(df_treated_filtered.multimorbidity == 1)].uuid.unique()\n",
    "df_multimorbid_bs = df_treated_filtered[df_treated_filtered.uuid.isin(uuid_multimorbid_bs)]\n",
    "\n",
    "# Patients with cancer\n",
    "uuid_cancer = df_treated_filtered[(df_treated_filtered.Cancer_PCG == 1)].uuid.unique()\n",
    "df_cancer = df_treated_filtered[df_treated_filtered.uuid.isin(uuid_cancer)]\n",
    "\n",
    "# Patients with cancer at baseline\n",
    "uuid_cancer_bs = df_treated_filtered[(df_treated_filtered.NOANNEE==2017)&(df_treated_filtered.Cancer_PCG == 1)].uuid.unique()\n",
    "df_cancer_bs = df_treated_filtered[df_treated_filtered.uuid.isin(uuid_cancer_bs)]\n",
    "\n",
    "# Patients with diabetes\n",
    "uuid_diab = df_treated_filtered[(df_treated_filtered.Diabetes_PCG == 1)].uuid.unique()\n",
    "df_diab = df_treated_filtered[df_treated_filtered.uuid.isin(uuid_diab)]\n",
    "\n",
    "# Patients with diabetes at baseline\n",
    "uuid_diab_bs = df_treated_filtered[(df_treated_filtered.NOANNEE==2017)&(df_treated_filtered.Diabetes_PCG == 1)].uuid.unique()\n",
    "df_diab_bs = df_treated_filtered[df_treated_filtered.uuid.isin(uuid_diab_bs)]\n",
    "\n",
    "# Patients with pain\n",
    "uuid_pain = df_treated_filtered[(df_treated_filtered.Pain_PCG == 1)].uuid.unique()\n",
    "df_pain = df_treated_filtered[df_treated_filtered.uuid.isin(uuid_pain)]\n",
    "\n",
    "# Patients with pain\n",
    "uuid_mental = df_treated_filtered[(df_treated_filtered.Mental_PCG == 1)].uuid.unique()\n",
    "df_mental = df_treated_filtered[df_treated_filtered.uuid.isin(uuid_mental)]\n"
   ]
  },
  {
   "cell_type": "code",
   "execution_count": null,
   "id": "32",
   "metadata": {},
   "outputs": [],
   "source": [
    "df_diab.groupby('locdrhosp')['n_flags'].mean()"
   ]
  },
  {
   "cell_type": "markdown",
   "id": "33",
   "metadata": {},
   "source": [
    "## Total spending by category"
   ]
  },
  {
   "cell_type": "code",
   "execution_count": null,
   "id": "34",
   "metadata": {},
   "outputs": [],
   "source": [
    "variable_names = pd.DataFrame({\"old\": ['multimorbidity','ssep3_q','Urbanicity_simple','n_atc','n_flags','NBAGE',\"NBAGE_std\",'age_group', \"ssep3_std\",'ssep3', 'region_DE', 'region_FR', 'region_IT','urb_Urbain','urb_Périurbain','Asthma_PCG', 'Cancer_PCG', 'Diabetes_PCG', 'Epilepsy_PCG',\n",
    "       'Glaucoma_PCG', 'HIV_AIDS_PCG', 'Heart_disease_PCG',\n",
    "       'Hypertension_related_PCG', 'Immune_PCG', 'Inflammatory_PCG',\n",
    "       'Mental_PCG', 'Other_PCG', 'Pain_PCG', 'Parkinson_PCG', 'Thyroid_PCG', \"SEX_F\",'SEX','CDPHYSSEXE','LANG', \"cds_std\",'cds','LANG_FR','D_MEDIC_B','D_MEDIC_S','D_MEDIC_B_std','D_MEDIC_S_std','DEDUCTIBLE_above_500','E_std','N_std','E_std:N_std','PRESTATIONS_BRUTES_ATC','PRESTATIONS_TOTAL','PRESTATIONS_BRUTES_AOS','PRESTATIONS_BRUTES_LCA','PRESTATIONS_BRUTES_CAM','PRESTATIONS_BRUTES_AMBULATOIRE','PRESTATIONS_BRUTES_STATIONNAIRE','PRESTATIONS_ACCIDENT','PRESTATIONS_DISEASE','PRESTATIONS_BIRTH','MTFRANCHISECOUV','mean_pm10','mean_no2','mean_pm25','mean_ndvi','mean_lst','mean_carnight'],\n",
    "                           \"new\": ['Multimorbidity','Swiss-SEP','Urbanicity','Number of ATC','Number of PCG flags','Age',\"Age\", 'Age Group', \"SES index\",'SES index','German', 'French', 'Italian','Urban','Periurban', 'Asthma', 'Cancer', 'Diabetes', 'Epilepsy', 'Glaucoma', 'HIV/AIDS',\n",
    "       'Heart disease', 'Hypertension related', 'Immune', 'Inflammatory',\n",
    "       'Mental', 'Other', 'Pain', 'Parkinson', 'Thyroid', \"Sex (Female)\",'Sex','Sex','Langage', \"CDS\",'CDS','French speaker','Access to prim. care med.','Access to spec. med.','Access to prim. care med.','Access to spec. med.','Deductible (>500)','E','N','E:N','Drug-related claims (CHF)','Total claims amount (CHF)','CM claims (MHI) (CHF)','CAM claims (SI) (CHF)','CAM claims (MHI) (CHF)','Ambulatory claims (CHF)','Stationary claims (CHF)','Accident-related claims (CHF)','Disease-related claims (CHF)','Birth-related claims (CHF)','Deductible','PM10','NO2','PM25','NDVI','LST','Nighttime car noise']})\n",
    "rename_dict = variable_names.set_index('old')['new'].to_dict()\n",
    "\n",
    "def update_variable_names(summary_table, variable_names, table_type):\n",
    "    name_mapper = variable_names.set_index('old')['new'].to_dict()\n",
    "    if table_type == 'summary':\n",
    "        name_mapper = {f\"{key}, mean (SD)\": f\"{value}, mean (SD)\" for key, value in name_mapper.items()}\n",
    "    elif table_type == 'categorical':\n",
    "        name_mapper = {f\"{key}, n (%)\": f\"{value}, n (%)\" for key, value in name_mapper.items()}\n",
    "    summary_table = summary_table.rename(index=name_mapper)\n",
    "    return summary_table"
   ]
  },
  {
   "cell_type": "code",
   "execution_count": null,
   "id": "35",
   "metadata": {},
   "outputs": [],
   "source": [
    "df_treated_filtered_long = df_treated_filtered.set_index('NOANNEE')[['PRESTATIONS_BRUTES_AOS','PRESTATIONS_BRUTES_CAM','PRESTATIONS_BRUTES_LCA']].stack().reset_index()\n",
    "\n",
    "df_treated_filtered_long.columns = ['NOANNEE','cat_spending','amount']\n",
    "\n",
    "# sns.barplot(df_treated_filtered_long, x=\"NOANNEE\", y=\"amount\", hue = 'cat_spending')"
   ]
  },
  {
   "cell_type": "code",
   "execution_count": null,
   "id": "36",
   "metadata": {},
   "outputs": [],
   "source": [
    "# Assuming df_treated_filtered_long is your DataFrame after manipulation\n",
    "df_treated_filtered_long['cat_spending'] = df_treated_filtered_long['cat_spending'].replace({\n",
    "    'PRESTATIONS_BRUTES_AOS': 'Conventional medicine (MHI)',\n",
    "    'PRESTATIONS_BRUTES_CAM': 'Complementary medicine (MHI)',\n",
    "    'PRESTATIONS_BRUTES_LCA': 'Complementary medicine (SI)'\n",
    "})"
   ]
  },
  {
   "cell_type": "code",
   "execution_count": null,
   "id": "37",
   "metadata": {},
   "outputs": [],
   "source": [
    "palette = {\n",
    "    'Conventional medicine (MHI)': '#4E79A7',\n",
    "    'Complementary medicine (MHI)': '#59A14F',\n",
    "    'Complementary medicine (SI)': '#F28E2B'\n",
    "}"
   ]
  },
  {
   "cell_type": "code",
   "execution_count": null,
   "id": "38",
   "metadata": {},
   "outputs": [],
   "source": [
    "# Now plot with Seaborn\n",
    "g = sns.barplot(data=df_treated_filtered_long, x=\"NOANNEE\", y=\"amount\", hue='cat_spending', palette=palette)\n",
    "# plt.ylim([0,10000])\n",
    "# g.set_yscale(\"log\")\n",
    "# the non-logarithmic labels you want\n",
    "# ticks = [1, 10, 100, 1000, 10000, 100000]\n",
    "# g.set_yticks(ticks)\n",
    "# g.set_yticklabels(ticks)\n",
    "g.set_xlabel('Year')\n",
    "plt.legend(title='')\n",
    "# If you want to further customize the legend, you can use plt.legend:\n",
    "# plt.legend(title='S')\n",
    "plt.ylabel('Average yearly claims amount (CHF)')\n",
    "# To ensure the plot displays properly in Jupyter notebooks\n",
    "plt.savefig(results_folder/'Figures_rapport/Avg_expenditures.png', dpi = 300, bbox_inches='tight')"
   ]
  },
  {
   "cell_type": "code",
   "execution_count": null,
   "id": "39",
   "metadata": {},
   "outputs": [],
   "source": [
    "# Now plot with Seaborn\n",
    "g = sns.barplot(data=df_treated_filtered_long, x=\"NOANNEE\", y=\"amount\", hue='cat_spending', palette=palette)\n",
    "# plt.ylim([0,10000])\n",
    "g.set_yscale(\"log\")\n",
    "# the non-logarithmic labels you want\n",
    "ticks = [1, 10, 100, 1000, 10000, 100000]\n",
    "g.set_yticks(ticks)\n",
    "g.set_yticklabels(ticks)\n",
    "g.set_xlabel('Year')\n",
    "plt.legend(title='')\n",
    "# If you want to further customize the legend, you can use plt.legend:\n",
    "# plt.legend(title='S')\n",
    "plt.ylabel('Average yearly claims amount (CHF)')\n",
    "# To ensure the plot displays properly in Jupyter notebooks\n",
    "plt.savefig(results_folder/'Figures_rapport/Avg_expenditures_log.png', dpi = 300, bbox_inches='tight')"
   ]
  },
  {
   "cell_type": "code",
   "execution_count": null,
   "id": "40",
   "metadata": {},
   "outputs": [],
   "source": [
    "# First subplot\n",
    "g = sns.lineplot(x='NOANNEE', y='amount', hue='cat_spending', data=df_treated_filtered_long, marker='o')\n",
    "g.set_yscale(\"log\")\n",
    "# the non-logarithmic labels you want\n",
    "ticks = [1, 10, 100, 1000, 10000, 100000]\n",
    "g.set_yticks(ticks)\n",
    "g.set_yticklabels(ticks)\n",
    "g.set_xlabel('Year')\n",
    "plt.legend(title='')\n",
    "# axs[0, 0].set_title('All')\n",
    "# axs[0, 0].set_xlabel('Year')\n",
    "# axs[0, 0].set_ylabel('Average Number of ATCs')\n",
    "# axs[0, 0].legend(title='Treatment', loc='upper left')\n",
    "# axs[0, 0].grid(True)"
   ]
  },
  {
   "cell_type": "code",
   "execution_count": null,
   "id": "41",
   "metadata": {},
   "outputs": [],
   "source": [
    "df_treated_filtered[df_treated_filtered.PRESTATIONS_BRUTES_CAM > 0].groupby('NOANNEE').uuid.nunique().plot.bar()"
   ]
  },
  {
   "cell_type": "code",
   "execution_count": null,
   "id": "42",
   "metadata": {},
   "outputs": [],
   "source": [
    "# sns.barplot(\n",
    "#     x=df_treated_filtered[df_treated_filtered.PRESTATIONS_BRUTES_CAM > 0]['NOANNEE'], \n",
    "#     y=df_treated_filtered[df_treated_filtered.PRESTATIONS_BRUTES_CAM > 0]['PRESTATIONS_TOTAL'], \n",
    "#     hue=df_treated_filtered[df_treated_filtered.PRESTATIONS_BRUTES_CAM > 0]['cat_spending'].map(rename_dict)\n",
    "# )"
   ]
  },
  {
   "cell_type": "code",
   "execution_count": null,
   "id": "43",
   "metadata": {},
   "outputs": [],
   "source": [
    "df_treated_filtered[df_treated_filtered.PRESTATIONS_BRUTES_LCA > 0].groupby('NOANNEE').uuid.nunique().plot.bar()"
   ]
  },
  {
   "cell_type": "code",
   "execution_count": null,
   "id": "44",
   "metadata": {},
   "outputs": [],
   "source": [
    "g = sns.barplot(df_treated_filtered[df_treated_filtered.PRESTATIONS_BRUTES_CAM > 0], x=\"NOANNEE\", y=\"PRESTATIONS_BRUTES_CAM\", color = '#59A14F')\n",
    "g.set_ylabel('Average yearly claims amount (CHF)')\n",
    "# g.legend(title='Complementary medicine (LAMal) for users')\n",
    "g.set_xlabel('Year')\n",
    "g.set_ylim([0,1500])\n",
    "plt.savefig(results_folder/'Figures_rapport/Avg_expenditures_CAM_users.png', dpi = 300, bbox_inches='tight')"
   ]
  },
  {
   "cell_type": "code",
   "execution_count": null,
   "id": "45",
   "metadata": {},
   "outputs": [],
   "source": [
    "df_treated_filtered[df_treated_filtered.PRESTATIONS_BRUTES_CAM > 0].groupby('year')['PRESTATIONS_BRUTES_CAM'].describe()"
   ]
  },
  {
   "cell_type": "code",
   "execution_count": null,
   "id": "46",
   "metadata": {},
   "outputs": [],
   "source": [
    "sns.barplot(df_treated_filtered[df_treated_filtered.PRESTATIONS_BRUTES_LCA > 0], x=\"NOANNEE\", y=\"PRESTATIONS_BRUTES_LCA\")"
   ]
  },
  {
   "cell_type": "markdown",
   "id": "47",
   "metadata": {},
   "source": [
    "### Number of individuals by cumulated years of treatment"
   ]
  },
  {
   "cell_type": "code",
   "execution_count": null,
   "id": "48",
   "metadata": {},
   "outputs": [],
   "source": [
    "ttmt_month_gp_uuid = df_treated_filtered.groupby('uuid')['n_month_lca_by_patient'].sum().to_dict()\n",
    "df_treated_filtered['cumulated_n_month_lca_by_patient'] = df_treated_filtered['uuid'].map(ttmt_month_gp_uuid)\n",
    "df_uuid['cumulated_n_month_lca_by_patient'] = df_uuid['uuid'].map(ttmt_month_gp_uuid)"
   ]
  },
  {
   "cell_type": "code",
   "execution_count": null,
   "id": "49",
   "metadata": {},
   "outputs": [],
   "source": [
    "df_treated_filtered.groupby('uuid')['PRESTATIONS_BRUTES_LCA'].sum().plot.hist(bins = 100)"
   ]
  },
  {
   "cell_type": "code",
   "execution_count": null,
   "id": "50",
   "metadata": {},
   "outputs": [],
   "source": [
    "# df_treated_filtered.groupby('treatment_cumulated_lca_cam').uuid.nunique().plot.bar()\n",
    "from matplotlib.ticker import FuncFormatter\n",
    "\n",
    "# First, perform your groupby operation and reset the index to turn it into a DataFrame\n",
    "df_aggregated = df_treated_filtered.groupby('treatment_cumulated_lca_cam')['uuid'].nunique().reset_index()\n",
    "\n",
    "# Rename the columns for clarity if desired\n",
    "df_aggregated.columns = ['Treatment', 'UniqueCount']\n",
    "# Now, use Seaborn to create a bar plot\n",
    "def thousands_separator(x, pos):\n",
    "    return '{:,.0f}'.format(x)  # The '0f' ensures no decimal places\n",
    "\n",
    "# Assuming df_aggregated is your DataFrame after the groupby and reset_index\n",
    "sns.barplot(x='Treatment', y='UniqueCount', data=df_aggregated, palette = 'Blues')\n",
    "\n",
    "# Get the current axis\n",
    "ax = plt.gca()\n",
    "\n",
    "# Set the formatter for the y-axis to use your custom formatter\n",
    "ax.yaxis.set_major_formatter(FuncFormatter(thousands_separator))\n",
    "\n",
    "# Optional: add labels and title for clarity\n",
    "plt.xlabel('Number of years in the treatment group (CAM claims amount > 0) \\n (MHI and SI combined)')\n",
    "plt.ylabel('Number of individuals')\n",
    "# plt.title('Number of individuals by Treatment')\n",
    "plt.savefig(results_folder/'Figures_rapport/Number_users_CAM_cumulated_years.png', dpi = 300, bbox_inches='tight')"
   ]
  },
  {
   "cell_type": "code",
   "execution_count": null,
   "id": "51",
   "metadata": {},
   "outputs": [],
   "source": [
    "df_aggregated['perc_count'] = (df_aggregated['UniqueCount']/df_aggregated['UniqueCount'].sum())*100"
   ]
  },
  {
   "cell_type": "code",
   "execution_count": null,
   "id": "52",
   "metadata": {},
   "outputs": [],
   "source": [
    "df_treated_filtered.groupby('cumulated_n_month_lca_by_patient').uuid.nunique().plot.bar(figsize = (12,8))"
   ]
  },
  {
   "cell_type": "code",
   "execution_count": null,
   "id": "53",
   "metadata": {},
   "outputs": [],
   "source": [
    "df_uuid['cumulated_n_month_lca_by_patient'].median()"
   ]
  },
  {
   "cell_type": "markdown",
   "id": "54",
   "metadata": {},
   "source": [
    "## What generates spending in AOS?\n",
    "\n",
    "#### Time-varying covariates (proxies for health status)\n",
    "- Age\n",
    "- Sex\n",
    "- Deductible\n",
    "- Education, income (Swiss SES index)\n",
    "- Access to healthcare\n",
    "    - Captured directly through measured access (existing variables : d_medic_s, d_medic)\n",
    "    - Captured indirectly through urban contexts (urban, periurban, rural)\n",
    "- Disease state : CDS, PCGs, HOSPITALISATIONS\n",
    "\n",
    "#### Time-invariant covariates\n",
    "- Sociocultural norms:\n",
    "    - Captured through the canton of residence and spoken langage\n",
    "- Policies :\n",
    "    - Captured through the canton of residence \n",
    "- Environmental factors:\n",
    "    - Air quality (NO2, PM10, PM2.5)\n",
    "    - Vegetation (NDVI)\n",
    "    - Noise (dB)\n",
    "\n",
    "#### Time-varying treatment\n",
    "- Treatment\n",
    "\n",
    "\n",
    "#### Temporal lags\n",
    "\n",
    "- To explore ! But that would result in losing at least the baseline year to be able to create the lagged variables.\n"
   ]
  },
  {
   "cell_type": "markdown",
   "id": "55",
   "metadata": {},
   "source": [
    "### Health status -> cost, treatment"
   ]
  },
  {
   "cell_type": "code",
   "execution_count": null,
   "id": "56",
   "metadata": {},
   "outputs": [],
   "source": [
    "# Create a 2x2 grid of subplots\n",
    "fig, axs = plt.subplots(2, 2, figsize=(9, 6))\n",
    "\n",
    "# First subplot\n",
    "sns.boxplot(data=df_treated_filtered, y=\"PRESTATIONS_BRUTES_AOS\", x='n_flags', width=.6, palette=\"vlag\", showfliers=False, ax=axs[0, 0])\n",
    "\n",
    "# Second subplot\n",
    "sns.boxplot(data=df_treated_filtered, y=\"PRESTATIONS_DISEASE\", x='n_flags', width=.6, palette=\"vlag\", showfliers=False, ax=axs[0, 1])\n",
    "\n",
    "# Third subplot\n",
    "sns.boxplot(data=df_treated_filtered, y=\"PRESTATIONS_BRUTES_LCA\", x='n_flags', width=.6, palette=\"vlag\", showfliers=False, ax=axs[1, 0])\n",
    "\n",
    "# Fourth subplot\n",
    "sns.boxplot(data=df_treated_filtered, y=\"PRESTATIONS_BRUTES_AOS\", x='locdrhosp', width=.6, palette=\"vlag\", showfliers=False, ax=axs[1, 1])\n",
    "\n",
    "# Adjust layout\n",
    "plt.tight_layout()\n",
    "plt.show()"
   ]
  },
  {
   "cell_type": "code",
   "execution_count": null,
   "id": "57",
   "metadata": {},
   "outputs": [],
   "source": [
    "# Create a 2x2 grid of subplots\n",
    "fig, axs = plt.subplots(2, 2, figsize=(6, 4))\n",
    "\n",
    "# First subplot\n",
    "sns.boxplot(data=df_treated_filtered, y=\"PRESTATIONS_BRUTES_AOS\", x='multimorbidity', width=.6, palette=\"vlag\", showfliers=False, ax=axs[0,0])\n",
    "\n",
    "# Second subplot\n",
    "sns.boxplot(data=df_treated_filtered, y=\"PRESTATIONS_BRUTES_LCA\", x='multimorbidity', width=.6, palette=\"vlag\", showfliers=False, ax=axs[0,1])\n",
    "\n",
    "# Third subplot\n",
    "sns.barplot(data=df_treated_filtered, y=\"PRESTATIONS_BRUTES_CAM\", x='multimorbidity', width=.6, palette=\"vlag\", ax=axs[1,0])\n",
    "\n",
    "# Fourth subplot\n",
    "sns.boxplot(data=df_treated_filtered, y=\"PRESTATIONS_DISEASE\", x='multimorbidity', width=.6, palette=\"vlag\", showfliers=False, ax=axs[1,1])\n",
    "\n",
    "\n",
    "# Adjust layout\n",
    "plt.tight_layout()\n",
    "plt.show()"
   ]
  },
  {
   "cell_type": "code",
   "execution_count": null,
   "id": "58",
   "metadata": {},
   "outputs": [],
   "source": [
    "df_treated_filtered.groupby('multimorbidity')['PRESTATIONS_BRUTES_CAM'].mean()"
   ]
  },
  {
   "cell_type": "markdown",
   "id": "59",
   "metadata": {},
   "source": [
    "#### Remarques\n",
    "\n",
    "- Les personnes avec des comorbidités ne sont pas celles qui utilisent plus de LCA\n",
    "- Les personnes avec des comorbidités dépensent bcp plus en AOS (logique)"
   ]
  },
  {
   "cell_type": "code",
   "execution_count": null,
   "id": "60",
   "metadata": {},
   "outputs": [],
   "source": [
    "df_treated_filtered['CDPHYSSEXE']"
   ]
  },
  {
   "cell_type": "code",
   "execution_count": null,
   "id": "61",
   "metadata": {},
   "outputs": [],
   "source": [
    "# Create a 2x2 grid of subplots\n",
    "fig, axs = plt.subplots(2, 2, figsize=(10, 6))\n",
    "\n",
    "# First subplot\n",
    "g = sns.boxplot(data=df_treated_filtered, y=\"PRESTATIONS_BRUTES_AOS\", x='CDPHYSSEXE', width=.6, palette=\"vlag\", showfliers=False, ax=axs[0, 0])\n",
    "g.set_xlabel('Sex')\n",
    "g.set_ylabel('Annual CM claims amount (MHI) (CHF)')\n",
    "# Second subplot\n",
    "g = sns.boxplot(data=df_treated_filtered, y=\"cds\", x='CDPHYSSEXE', width=.6, palette=\"vlag\", showfliers=False, ax=axs[0, 1])\n",
    "g.set_xlabel('Sex')\n",
    "g.set_ylabel('Chronic Disease Score (CHF)')\n",
    "# Third subplot\n",
    "g = sns.barplot(data=df_treated_filtered, y=\"PRESTATIONS_BRUTES_CAM\", x='CDPHYSSEXE', width=.6, palette=\"vlag\", ax=axs[1, 0])\n",
    "g.set_xlabel('Sex')\n",
    "g.set_ylabel('Annual CAM claims amount (MHI) (CHF)')\n",
    "# Fourth subplot\n",
    "g = sns.boxplot(data=df_treated_filtered, y=\"PRESTATIONS_BRUTES_LCA\", x='CDPHYSSEXE', width=.6, palette=\"vlag\",showfliers=False, ax=axs[1, 1])\n",
    "g.set_xlabel('Sex')\n",
    "g.set_ylabel('Annual CAM claims amount (SI) (CHF)')\n",
    "# Adjust layout\n",
    "plt.tight_layout()\n",
    "plt.savefig(results_folder/'Figures_rapport/Fourplot_cost_by_sex.png', dpi = 300, bbox_inches='tight')"
   ]
  },
  {
   "cell_type": "markdown",
   "id": "62",
   "metadata": {},
   "source": [
    "### Age -> cost, disease state, treatment"
   ]
  },
  {
   "cell_type": "code",
   "execution_count": null,
   "id": "63",
   "metadata": {},
   "outputs": [],
   "source": [
    "# Create a 2x2 grid of subplots\n",
    "fig, axs = plt.subplots(2, 2, figsize=(10, 6))\n",
    "\n",
    "# First subplot\n",
    "g = sns.boxplot(data=df_treated_filtered, y=\"PRESTATIONS_BRUTES_AOS\", x='age_group', width=.6, palette=\"vlag\", showfliers=False, ax=axs[0, 0])\n",
    "g.set_xlabel('Age group')\n",
    "g.set_ylabel('Annual CM claims amount (MHI) (CHF)')\n",
    "# Second subplot\n",
    "g = sns.boxplot(data=df_treated_filtered, y=\"cds\", x='age_group', width=.6, palette=\"vlag\", showfliers=False, ax=axs[0, 1])\n",
    "g.set_xlabel('Age group')\n",
    "g.set_ylabel('Chronic Disease Score (CHF)')\n",
    "# Third subplot\n",
    "g = sns.barplot(data=df_treated_filtered, y=\"PRESTATIONS_BRUTES_CAM\", x='age_group', width=.6, palette=\"vlag\", ax=axs[1, 0])\n",
    "g.set_xlabel('Age group')\n",
    "g.set_ylabel('Annual CAM claims amount (MHI) (CHF)')\n",
    "# Fourth subplot\n",
    "g = sns.boxplot(data=df_treated_filtered, y=\"PRESTATIONS_BRUTES_LCA\", x='age_group', width=.6, palette=\"vlag\",showfliers=False, ax=axs[1, 1])\n",
    "g.set_xlabel('Age group')\n",
    "g.set_ylabel('Annual CAM claims amount (SI) (CHF)')\n",
    "# Adjust layout\n",
    "plt.tight_layout()\n",
    "plt.savefig(results_folder/'Figures_rapport/Fourplot_cost_by_age.png', dpi = 300, bbox_inches='tight')"
   ]
  },
  {
   "cell_type": "markdown",
   "id": "64",
   "metadata": {},
   "source": [
    "### Year & Year-1 -> cost, disease state, treatment"
   ]
  },
  {
   "cell_type": "code",
   "execution_count": null,
   "id": "65",
   "metadata": {},
   "outputs": [],
   "source": [
    "# Create a 2x2 grid of subplots\n",
    "fig, axs = plt.subplots(2, 2, figsize=(9, 6))\n",
    "\n",
    "# First subplot\n",
    "sns.kdeplot(data=df_treated_filtered.head(100000), x=\"treatment\", y=\"treatment_t_1\", ax=axs[0, 0])\n",
    "\n",
    "# Second subplot\n",
    "sns.kdeplot(data=df_treated_filtered.head(100000), x=\"ihs_cost_aos\", y=\"ihs_cost_aos_t_1\", hue='treatment', ax=axs[0, 1])\n",
    "\n",
    "# Third subplot\n",
    "sns.kdeplot(data=df_treated_filtered.head(100000), x=\"ihs_cost_lca\", y=\"ihs_cost_lca_t_1\", ax=axs[1, 0])\n",
    "\n",
    "# Fourth subplot\n",
    "sns.kdeplot(data=df_treated_filtered.head(100000), x=\"ihs_cost_lca\", y=\"ihs_cost_aos\", ax=axs[1, 1])\n",
    "\n",
    "# Adjust layout\n",
    "plt.tight_layout()\n",
    "plt.show()"
   ]
  },
  {
   "cell_type": "markdown",
   "id": "66",
   "metadata": {},
   "source": [
    "## Time -> Cost, Disease, Treament"
   ]
  },
  {
   "cell_type": "code",
   "execution_count": null,
   "id": "67",
   "metadata": {},
   "outputs": [],
   "source": [
    "palette = sns.color_palette()\n",
    "\n",
    "\n",
    "dic_labels = {1:'Usage',0:'No usage'}"
   ]
  },
  {
   "cell_type": "code",
   "execution_count": null,
   "id": "68",
   "metadata": {},
   "outputs": [],
   "source": [
    "# Create a 2x2 grid of subplots\n",
    "fig, axs = plt.subplots(2, 2, figsize=(9, 6))\n",
    "\n",
    "# List of dataframes and titles\n",
    "dataframes = [df_treated_filtered, df_healthy, df_multimorbid, df_cancer]\n",
    "titles = ['All individuals', 'Individuals without chronic conditions', 'Multimorbid individuals', 'Individuals with cancer']\n",
    "\n",
    "# Create subplots\n",
    "for i, (ax, df, title) in enumerate(zip(axs.flat, dataframes, titles)):\n",
    "    sns.lineplot(x='NOANNEE', y='PRESTATIONS_BRUTES_AOS', hue='treatment_cam_only', data=df, marker='o', ax=ax, legend=False)\n",
    "    ax.set_title(title)\n",
    "    ax.set_xlabel('Year')\n",
    "    ax.set_ylabel('Conventional Medicine\\nexpenditures (CHF)')\n",
    "    ax.grid(True)\n",
    "\n",
    "# Manually create legend handles and labels\n",
    "legend_handles = [plt.Line2D([0], [0], marker='o', color=palette[i], \n",
    "                             label=dic_labels[treatment], markersize=8, linestyle='-') \n",
    "                  for i, treatment in enumerate(df_treated_filtered['treatment_cam_only'].unique())]\n",
    "\n",
    "# Create a single legend with the correct title\n",
    "legend = fig.legend(handles=legend_handles, \n",
    "           title='Complementary/Alternative Medicine (CAM)\\nthrough Mandatory Health Insurance (MHI)', \n",
    "           loc='lower center', alignment='center', bbox_to_anchor=(0.5, -0.04), ncol=2)\n",
    "plt.setp(legend.get_title(), ha='center')  # 'ha' stands for horizontal alignment\n",
    "\n",
    "# Adjust layout\n",
    "plt.tight_layout()\n",
    "fig.subplots_adjust(bottom=0.15)  # Make room for the legend\n",
    "\n",
    "plt.savefig(model_folder/'trends_treatment_cam_only_aos_cost.png', dpi=300, bbox_inches='tight')\n",
    "plt.show()"
   ]
  },
  {
   "cell_type": "code",
   "execution_count": null,
   "id": "69",
   "metadata": {},
   "outputs": [],
   "source": [
    "# Create a 2x2 grid of subplots\n",
    "fig, axs = plt.subplots(2, 2, figsize=(9, 6))\n",
    "\n",
    "# First subplot\n",
    "sns.lineplot(x='NOANNEE', y='PRESTATIONS_BRUTES_AOS', hue='treatment_cam_only', data=df_treated_filtered, marker='o', ax=axs[0, 0])\n",
    "axs[0, 0].set_title('All')\n",
    "axs[0, 0].set_xlabel('Year')\n",
    "axs[0, 0].set_ylabel('Expenditures CM - MHI  (CHF)')\n",
    "axs[0, 0].legend(title='CAM - MHI usage', loc='upper left')\n",
    "axs[0, 0].grid(True)\n",
    "# Second subplot\n",
    "sns.lineplot(x='NOANNEE', y='PRESTATIONS_BRUTES_AOS', hue='treatment_cam_only', data=df_healthy, marker='o', ax=axs[0, 1])\n",
    "axs[0, 1].set_title('No-PCG individuals')\n",
    "axs[0, 1].set_xlabel('Year')\n",
    "axs[0, 1].set_ylabel('Expenditures CM - MHI  (CHF)')\n",
    "axs[0, 1].legend(title='CAM - MHI usage', loc='upper left')\n",
    "axs[0, 1].grid(True)\n",
    "\n",
    "# Third subplot\n",
    "# Create the line plot\n",
    "sns.lineplot(x='NOANNEE', y='PRESTATIONS_BRUTES_AOS', hue='treatment_cam_only', data=df_multimorbid, marker='o', ax=axs[1, 0])\n",
    "axs[1, 0].set_title('Multimorbid patients')\n",
    "axs[1, 0].set_xlabel('Year')\n",
    "axs[1, 0].set_ylabel('Expenditures CM - MHI  (CHF)')\n",
    "axs[1, 0].legend(title='CAM - MHI usage', loc='upper left')\n",
    "axs[1, 0].grid(True)\n",
    "\n",
    "# Fourth subplot\n",
    "sns.lineplot(x='NOANNEE', y='PRESTATIONS_BRUTES_AOS', hue='treatment_cam_only', data=df_cancer, marker='o', ax=axs[1, 1])\n",
    "\n",
    "axs[1, 1].set_title('Patients with cancer')\n",
    "axs[1, 1].set_xlabel('Year')\n",
    "axs[1, 1].set_ylabel('Expenditures CM - MHI (CHF)')\n",
    "axs[1, 1].legend(title='CAM - MHI usage', loc='upper left')\n",
    "axs[1, 1].grid(True)\n",
    "\n",
    "# Adjust layout\n",
    "plt.tight_layout()\n",
    "plt.savefig(model_folder/'trends_treatment_cam_only_aos_cost.png', dpi = 300, bbox_inches = 'tight')\n"
   ]
  },
  {
   "cell_type": "code",
   "execution_count": null,
   "id": "70",
   "metadata": {},
   "outputs": [],
   "source": [
    "df_spenders_cam_lca = df_treated_filtered[df_treated_filtered.treatment_cam_only == 1]"
   ]
  },
  {
   "cell_type": "code",
   "execution_count": null,
   "id": "71",
   "metadata": {},
   "outputs": [],
   "source": [
    "df_treated_filtered[df_treated_filtered.treatment_cumulated == 1].uuid.nunique()"
   ]
  },
  {
   "cell_type": "code",
   "execution_count": null,
   "id": "72",
   "metadata": {},
   "outputs": [],
   "source": [
    "# Create a 2x2 grid of subplots\n",
    "fig, axs = plt.subplots(2, 2, figsize=(9, 7))\n",
    "\n",
    "# First subplot\n",
    "sns.lineplot(x='NOANNEE', y='PRESTATIONS_BRUTES_LCA', hue='treatment_cam_only', data=df_treated_filtered, marker='o', ax=axs[0, 0])\n",
    "axs[0, 0].set_title('All')\n",
    "axs[0, 0].set_xlabel('Year')\n",
    "axs[0, 0].set_ylabel('Average Spending on Complementary Medicine')\n",
    "axs[0, 0].legend(title='CAM - MHI usage', loc='upper left')\n",
    "axs[0, 0].grid(True)\n",
    "# Second subplot\n",
    "sns.lineplot(x='NOANNEE', y='PRESTATIONS_BRUTES_LCA', hue='treatment_cam_only', data=df_healthy, marker='o', ax=axs[0, 1])\n",
    "axs[0, 1].set_title('No-PCG individuals')\n",
    "axs[0, 1].set_xlabel('Year')\n",
    "axs[0, 1].set_ylabel('Average Spending on Complementary Medicine')\n",
    "axs[0, 1].legend(title='CAM - MHI usage', loc='upper left')\n",
    "axs[0, 1].grid(True)\n",
    "\n",
    "# Third subplot\n",
    "# Create the line plot\n",
    "sns.lineplot(x='NOANNEE', y='PRESTATIONS_BRUTES_LCA', hue='treatment_cam_only', data=df_multimorbid, marker='o', ax=axs[1, 0])\n",
    "axs[1, 0].set_title('Multimorbid patients')\n",
    "axs[1, 0].set_xlabel('Year')\n",
    "axs[1, 0].set_ylabel('Average Spending on Complementary Medicine')\n",
    "axs[1, 0].legend(title='CAM - MHI usage', loc='upper left')\n",
    "axs[1, 0].grid(True)\n",
    "\n",
    "# Fourth subplot\n",
    "sns.lineplot(x='NOANNEE', y='PRESTATIONS_BRUTES_LCA', hue='treatment_cam_only', data=df_cancer, marker='o', ax=axs[1, 1])\n",
    "\n",
    "axs[1, 1].set_title('Patients with cancer')\n",
    "axs[1, 1].set_xlabel('Year')\n",
    "axs[1, 1].set_ylabel('Average Spending on Complementary Medicine')\n",
    "axs[1, 1].legend(title='CAM - MHI usage', loc='upper left')\n",
    "axs[1, 1].grid(True)\n",
    "\n",
    "# Adjust layout\n",
    "plt.tight_layout()\n",
    "plt.savefig(model_folder/'trends_treatment_cam_only_lca_cost.png', dpi = 300, bbox_inches = 'tight')\n"
   ]
  },
  {
   "cell_type": "code",
   "execution_count": null,
   "id": "73",
   "metadata": {},
   "outputs": [],
   "source": [
    "df_treated_filtered['treatment'].sort_values().unique()\n"
   ]
  },
  {
   "cell_type": "code",
   "execution_count": null,
   "id": "74",
   "metadata": {},
   "outputs": [],
   "source": []
  },
  {
   "cell_type": "code",
   "execution_count": null,
   "id": "75",
   "metadata": {},
   "outputs": [],
   "source": [
    "# Create a 2x2 grid of subplots\n",
    "fig, axs = plt.subplots(2, 2, figsize=(9, 6))\n",
    "\n",
    "# List of dataframes and titles\n",
    "dataframes = [df_treated_filtered, df_healthy, df_multimorbid, df_cancer]\n",
    "titles = ['All individuals', 'Individuals without chronic conditions', 'Multimorbid individuals', 'Individuals with cancer']\n",
    "\n",
    "# Create subplots\n",
    "for i, (ax, df, title) in enumerate(zip(axs.flat, dataframes, titles)):\n",
    "    sns.lineplot(x='NOANNEE', y='PRESTATIONS_BRUTES_AOS', hue='treatment', data=df, marker='o', ax=ax, legend=False)\n",
    "    ax.set_title(title)\n",
    "    ax.set_xlabel('Year')\n",
    "    ax.set_ylabel('Conventional Medicine\\nexpenditures (CHF)')\n",
    "    ax.grid(True)\n",
    "\n",
    "# Manually create legend handles and labels\n",
    "legend_handles = [plt.Line2D([0], [0], marker='o', color=palette[i], \n",
    "                             label=dic_labels[treatment], markersize=8, linestyle='-') \n",
    "                  for i, treatment in enumerate(df_treated_filtered['treatment'].sort_values().unique())]\n",
    "\n",
    "# Create a single legend with the correct title\n",
    "legend = fig.legend(handles=legend_handles, \n",
    "           title='Complementary/Alternative Medicine (CAM)\\nthrough Supplementary Insurance (SI)', \n",
    "           loc='lower center', bbox_to_anchor=(0.5, -0.04), ncol=2)\n",
    "plt.setp(legend.get_title(), ha='center')  # 'ha' stands for horizontal alignment\n",
    "\n",
    "# Adjust layout\n",
    "plt.tight_layout()\n",
    "fig.subplots_adjust(bottom=0.15)  # Make room for the legend\n",
    "\n",
    "plt.savefig(model_folder/'trends_treatment_aos_cost.png', dpi=300, bbox_inches='tight')\n",
    "plt.show()"
   ]
  },
  {
   "cell_type": "code",
   "execution_count": null,
   "id": "76",
   "metadata": {},
   "outputs": [],
   "source": [
    "# Create a 2x2 grid of subplots\n",
    "fig, axs = plt.subplots(2, 2, figsize=(9, 6))\n",
    "\n",
    "# First subplot\n",
    "sns.lineplot(x='NOANNEE', y='PRESTATIONS_BRUTES_AOS', hue='treatment', data=df_treated_filtered, marker='o', ax=axs[0, 0])\n",
    "axs[0, 0].set_title('All')\n",
    "axs[0, 0].set_xlabel('Year')\n",
    "axs[0, 0].set_ylabel('Expenditures CM - MHI (CHF)')\n",
    "axs[0, 0].legend(title='CAM - SI usage', loc='upper left')\n",
    "axs[0, 0].grid(True)\n",
    "# Second subplot\n",
    "sns.lineplot(x='NOANNEE', y='PRESTATIONS_BRUTES_AOS', hue='treatment', data=df_healthy, marker='o', ax=axs[0, 1])\n",
    "axs[0, 1].set_title('No-PCG individuals')\n",
    "axs[0, 1].set_xlabel('Year')\n",
    "axs[0, 1].set_ylabel('Expenditures CM - MHI (CHF)')\n",
    "axs[0, 1].legend(title='CAM - SI usage', loc='upper left')\n",
    "axs[0, 1].grid(True)\n",
    "\n",
    "# Third subplot\n",
    "# Create the line plot\n",
    "sns.lineplot(x='NOANNEE', y='PRESTATIONS_BRUTES_AOS', hue='treatment', data=df_multimorbid, marker='o', ax=axs[1, 0])\n",
    "axs[1, 0].set_title('Multimorbid patients')\n",
    "axs[1, 0].set_xlabel('Year')\n",
    "axs[1, 0].set_ylabel('Expenditures CM - MHI (CHF)')\n",
    "axs[1, 0].legend(title='CAM - SI usage', loc='upper left')\n",
    "axs[1, 0].grid(True)\n",
    "\n",
    "# Fourth subplot\n",
    "sns.lineplot(x='NOANNEE', y='PRESTATIONS_BRUTES_AOS', hue='treatment', data=df_cancer, marker='o', ax=axs[1, 1])\n",
    "\n",
    "axs[1, 1].set_title('Patients with cancer')\n",
    "axs[1, 1].set_xlabel('Year')\n",
    "axs[1, 1].set_ylabel('Expenditures CM - MHI (CHF)')\n",
    "axs[1, 1].legend(title='CAM - SI usage', loc='upper left')\n",
    "axs[1, 1].grid(True)\n",
    "\n",
    "# Adjust layout\n",
    "plt.tight_layout()\n",
    "plt.savefig(model_folder/'trends_treatment_aos_cost.png', dpi = 300, bbox_inches = 'tight')\n"
   ]
  },
  {
   "cell_type": "code",
   "execution_count": null,
   "id": "77",
   "metadata": {},
   "outputs": [],
   "source": [
    "# Create a 2x2 grid of subplots\n",
    "fig, axs = plt.subplots(2, 2, figsize=(9, 6))\n",
    "\n",
    "# First subplot\n",
    "sns.lineplot(x='NOANNEE', y='cds', hue='treatment', data=df_treated_filtered, marker='o', ax=axs[0, 0])\n",
    "axs[0, 0].set_title('All')\n",
    "axs[0, 0].set_xlabel('Year')\n",
    "axs[0, 0].set_ylabel('Chronic disease score (CDS)')\n",
    "axs[0, 0].legend(title='CAM - SI usage', loc='upper left')\n",
    "axs[0, 0].grid(True)\n",
    "# Second subplot\n",
    "sns.lineplot(x='NOANNEE', y='cds', hue='treatment', data=df_healthy, marker='o', ax=axs[0, 1])\n",
    "axs[0, 1].set_title('No-PCG individuals')\n",
    "axs[0, 1].set_xlabel('Year')\n",
    "axs[0, 1].set_ylabel('Chronic disease score (CDS)')\n",
    "axs[0, 1].legend(title='Treatment', loc='upper left')\n",
    "axs[0, 1].grid(True)\n",
    "\n",
    "# Third subplot\n",
    "# Create the line plot\n",
    "sns.lineplot(x='NOANNEE', y='cds', hue='treatment', data=df_multimorbid, marker='o', ax=axs[1, 0])\n",
    "axs[1, 0].set_title('Multimorbid patients')\n",
    "axs[1, 0].set_xlabel('Year')\n",
    "axs[1, 0].set_ylabel('Chronic disease score (CDS)')\n",
    "axs[1, 0].legend(title='CAM - SI usage', loc='upper left')\n",
    "axs[1, 0].grid(True)\n",
    "\n",
    "# Fourth subplot\n",
    "sns.lineplot(x='NOANNEE', y='cds', hue='treatment', data=df_cancer, marker='o', ax=axs[1, 1])\n",
    "\n",
    "axs[1, 1].set_title('Patients with cancer')\n",
    "axs[1, 1].set_xlabel('Year')\n",
    "axs[1, 1].set_ylabel('Chronic disease score (CDS)')\n",
    "axs[1, 1].legend(title='CAM - SI usage', loc='upper left')\n",
    "axs[1, 1].grid(True)\n",
    "\n",
    "# Adjust layout\n",
    "plt.tight_layout()\n",
    "plt.savefig(model_folder/'trends_treatment_cds.png', dpi = 300, bbox_inches = 'tight')\n"
   ]
  },
  {
   "cell_type": "code",
   "execution_count": null,
   "id": "78",
   "metadata": {},
   "outputs": [],
   "source": []
  },
  {
   "cell_type": "code",
   "execution_count": null,
   "id": "79",
   "metadata": {},
   "outputs": [],
   "source": [
    "# Create a 2x2 grid of subplots\n",
    "fig, axs = plt.subplots(2, 2, figsize=(9, 6))\n",
    "\n",
    "# List of dataframes and titles\n",
    "dataframes = [df_treated_filtered, df_healthy, df_multimorbid, df_cancer]\n",
    "titles = ['All', 'No-PCG individuals', 'Multimorbid patients', 'Patients with cancer']\n",
    "\n",
    "# Create subplots\n",
    "for i, (ax, df, title) in enumerate(zip(axs.flat, dataframes, titles)):\n",
    "    sns.lineplot(x='NOANNEE', y='n_atc', hue='treatment', data=df, marker='o', ax=ax, legend=False)\n",
    "    ax.set_title(title)\n",
    "    ax.set_xlabel('Year')\n",
    "    ax.set_ylabel('Number of distinct therapeutic subgroups')\n",
    "    ax.grid(True)\n",
    "\n",
    "# Manually create legend handles and labels\n",
    "legend_handles = [plt.Line2D([0], [0], marker='o', color=palette[i], \n",
    "                             label=dic_labels[treatment], markersize=8, linestyle='-') \n",
    "                  for i, treatment in enumerate(df_treated_filtered['treatment'].unique())]\n",
    "\n",
    "# Create a single legend with the correct title\n",
    "fig.legend(handles=legend_handles, \n",
    "           title='Complementary/Alternative Medicine usage through Supplementary Insurance', \n",
    "           loc='lower center', bbox_to_anchor=(0.5, -0.04), ncol=2)\n",
    "# Adjust layout\n",
    "plt.tight_layout()\n",
    "fig.subplots_adjust(bottom=0.15)  # Make room for the legend\n",
    "\n",
    "plt.savefig(model_folder/'trends_treatment_atcs.png', dpi=300, bbox_inches='tight')\n",
    "plt.show()"
   ]
  },
  {
   "cell_type": "code",
   "execution_count": null,
   "id": "80",
   "metadata": {},
   "outputs": [],
   "source": [
    "# Create a 2x2 grid of subplots\n",
    "fig, axs = plt.subplots(2, 2, figsize=(9, 6))\n",
    "# First subplot\n",
    "sns.lineplot(x='NOANNEE', y='n_atc', hue='treatment_cam_only', data=df_treated_filtered[df_treated_filtered.PRESTATIONS_BRUTES_AOS > df_treated_filtered.MTFRANCHISECOUV], marker='o', ax=axs[0, 0])\n",
    "axs[0, 0].set_title('All')\n",
    "axs[0, 0].set_xlabel('Year')\n",
    "axs[0, 0].set_ylabel('Number of ATCs')\n",
    "axs[0, 0].legend(title='CAM - MHI usage', loc='upper left')\n",
    "axs[0, 0].grid(True)\n",
    "# Second subplot\n",
    "sns.lineplot(x='NOANNEE', y='n_atc', hue='treatment_cam_only', data=df_healthy, marker='o', ax=axs[0, 1])\n",
    "axs[0, 1].set_title('No-PCG individuals')\n",
    "axs[0, 1].set_xlabel('Year')\n",
    "axs[0, 1].set_ylabel('Number of ATCs')\n",
    "axs[0, 1].legend(title='CAM - MHI usage', loc='upper left')\n",
    "axs[0, 1].grid(True)\n",
    "\n",
    "# Third subplot\n",
    "# Create the line plot\n",
    "sns.lineplot(x='NOANNEE', y='n_atc', hue='treatment_cam_only', data=df_multimorbid, marker='o', ax=axs[1, 0])\n",
    "axs[1, 0].set_title('Multimorbid patients')\n",
    "axs[1, 0].set_xlabel('Year')\n",
    "axs[1, 0].set_ylabel('Number of ATCs')\n",
    "axs[1, 0].legend(title='CAM - MHI usage', loc='upper left')\n",
    "axs[1, 0].grid(True)\n",
    "\n",
    "# Fourth subplot\n",
    "sns.lineplot(x='NOANNEE', y='n_atc', hue='treatment_cam_only', data=df_cancer, marker='o', ax=axs[1, 1])\n",
    "\n",
    "axs[1, 1].set_title('Patients with cancer')\n",
    "axs[1, 1].set_xlabel('Year')\n",
    "axs[1, 1].set_ylabel('Number of ATCs')\n",
    "axs[1, 1].legend(title='CAM - MHI usage', loc='upper left')\n",
    "axs[1, 1].grid(True)\n",
    "\n",
    "# Adjust layout\n",
    "plt.tight_layout()\n",
    "plt.savefig(model_folder/'trends_treatment_atcs_MHI.png', dpi = 300, bbox_inches = 'tight')\n"
   ]
  },
  {
   "cell_type": "code",
   "execution_count": null,
   "id": "81",
   "metadata": {},
   "outputs": [],
   "source": [
    "# Create a 2x2 grid of subplots\n",
    "fig, axs = plt.subplots(2, 2, figsize=(9, 6))\n",
    "\n",
    "# First subplot\n",
    "sns.lineplot(x='year', y='PRESTATIONS_BRUTES_AOS', hue='treatment_cumulated', data=df_treated_filtered, marker='o', ax=axs[0, 0])\n",
    "axs[0, 0].set_title('All')\n",
    "axs[0, 0].set_xlabel('Year')\n",
    "axs[0, 0].set_ylabel('Average Number of ATCs')\n",
    "axs[0, 0].legend(title='Treatment', loc='upper left')\n",
    "axs[0, 0].grid(True)\n",
    "# Second subplot\n",
    "sns.lineplot(x='NOANNEE', y='PRESTATIONS_BRUTES_AOS', hue='treatment_cumulated', data=df_healthy, marker='o', ax=axs[0, 1])\n",
    "axs[0, 1].set_title('No-PCG individuals')\n",
    "axs[0, 1].set_xlabel('Year')\n",
    "axs[0, 1].set_ylabel('Average Number of ATCs')\n",
    "axs[0, 1].legend(title='Treatment', loc='upper left')\n",
    "axs[0, 1].grid(True)\n",
    "\n",
    "# Third subplot\n",
    "# Create the line plot\n",
    "sns.lineplot(x='year', y='PRESTATIONS_BRUTES_AOS', hue='treatment_cumulated', data=df_multimorbid, marker='o', ax=axs[1, 0])\n",
    "axs[1, 0].set_title('Multimorbid patients')\n",
    "axs[1, 0].set_xlabel('Year')\n",
    "axs[1, 0].set_ylabel('Average Number of ATCs')\n",
    "axs[1, 0].legend(title='Treatment', loc='upper left')\n",
    "axs[1, 0].grid(True)\n",
    "\n",
    "# Fourth subplot\n",
    "sns.lineplot(x='year', y='PRESTATIONS_BRUTES_AOS', hue='treatment_cumulated', data=df_cancer, marker='o', ax=axs[1, 1])\n",
    "\n",
    "axs[1, 1].set_title('Patients with cancer')\n",
    "axs[1, 1].set_xlabel('Year')\n",
    "axs[1, 1].set_ylabel('Average Number of ATCs')\n",
    "axs[1, 1].legend(title='Treatment', loc='upper left')\n",
    "axs[1, 1].grid(True)\n",
    "\n",
    "# Adjust layout\n",
    "plt.tight_layout()\n",
    "plt.savefig(model_folder/'trends_treatment_cumulated_aos_cost.png', dpi = 300, bbox_inches = 'tight')"
   ]
  },
  {
   "cell_type": "markdown",
   "id": "82",
   "metadata": {},
   "source": [
    "## Cancer patients"
   ]
  },
  {
   "cell_type": "code",
   "execution_count": null,
   "id": "83",
   "metadata": {},
   "outputs": [],
   "source": [
    "df_treated_filtered.groupby('Cancer_PCG')['treatment_lca_cam'].mean()"
   ]
  },
  {
   "cell_type": "code",
   "execution_count": null,
   "id": "84",
   "metadata": {},
   "outputs": [],
   "source": [
    "fig, axs = plt.subplots(1, 3, figsize=(15, 4))\n",
    "\n",
    "g = sns.barplot(data=df_treated_filtered, y=\"treatment\", x='Cancer_PCG', width=.6, palette=\"vlag\", ax=axs[0])\n",
    "g.set_ylabel('Prevalence of CAM use (SI)')\n",
    "\n",
    "g = sns.barplot(data=df_treated_filtered, y=\"treatment_cam_only\", x='Cancer_PCG', width=.6, palette=\"vlag\", ax=axs[1])\n",
    "g.set_ylabel('Prevalence of CAM use (MHI)')\n",
    "\n",
    "g = sns.barplot(data=df_treated_filtered, y=\"treatment_lca_cam\", x='Cancer_PCG', width=.6, palette=\"vlag\", ax=axs[2])\n",
    "g.set_ylabel('Prevalence of CAM use (SI+MHI)')\n",
    "\n",
    "plt.savefig(results_folder/'Figures_rapport/Prevalence_cancer_patients.png', dpi = 300, bbox_inches='tight')"
   ]
  },
  {
   "cell_type": "code",
   "execution_count": null,
   "id": "85",
   "metadata": {},
   "outputs": [],
   "source": [
    "df_treated_filtered.filter(regex='Meth.*_amount$|Cancer')"
   ]
  },
  {
   "cell_type": "code",
   "execution_count": null,
   "id": "86",
   "metadata": {},
   "outputs": [],
   "source": [
    "\n",
    "# Melt the dataframe to long format for methods columns.\n",
    "methods_regex = 'Methodes.*_amount$'\n",
    "methods_long_df = df_treated_filtered.melt(id_vars='Cancer_PCG', \n",
    "                          value_vars=df_treated_filtered.filter(regex=methods_regex).columns, \n",
    "                          var_name='Method', value_name='Amount')\n"
   ]
  },
  {
   "cell_type": "code",
   "execution_count": null,
   "id": "87",
   "metadata": {},
   "outputs": [],
   "source": [
    "methods_long_df['Method'] = methods_long_df['Method'].str.replace('_amount','')"
   ]
  },
  {
   "cell_type": "code",
   "execution_count": null,
   "id": "88",
   "metadata": {},
   "outputs": [],
   "source": [
    "# Now use Seaborn to create a bar plot with error bars.\n",
    "plt.figure(figsize=(14, 7))\n",
    "sns.barplot(data=methods_long_df, x='Method', y='Amount', hue='Cancer_PCG', errorbar='ci')\n",
    "\n",
    "# Improve the aesthetics and readability.\n",
    "# plt.title('Comparison of Method Amounts by Cancer Classification with Error Bars')\n",
    "plt.xlabel('Methods')\n",
    "plt.ylabel('Average yearly CAM claims amount (SI) (CHF)')\n",
    "plt.xticks(rotation=45, ha='right')  # Rotate x-axis labels for better readability.\n",
    "# plt.legend(title='Cancer_PCG')\n",
    "plt.tight_layout()  # Adjust layout to prevent clipping of tick-labels.\n",
    "plt.savefig(results_folder/'Figures_rapport/Costs_by_lca_method_cancer_patients.png', dpi = 300, bbox_inches='tight')"
   ]
  },
  {
   "cell_type": "code",
   "execution_count": null,
   "id": "89",
   "metadata": {},
   "outputs": [],
   "source": [
    "for col in df_treated_filtered.filter(regex=methods_regex).columns:\n",
    "    df_treated_filtered[f'{col}_binary'] = df_treated_filtered[col].apply(lambda x: 1 if x > 0 else 0)"
   ]
  },
  {
   "cell_type": "code",
   "execution_count": null,
   "id": "90",
   "metadata": {},
   "outputs": [],
   "source": [
    "methods_long_df"
   ]
  },
  {
   "cell_type": "code",
   "execution_count": null,
   "id": "91",
   "metadata": {},
   "outputs": [],
   "source": [
    "methods_regex = 'Methodes.*_binary$'\n",
    "methods_long_df = df_treated_filtered.melt(id_vars='Pain_PCG', \n",
    "                          value_vars=df_treated_filtered.filter(regex=methods_regex).columns, \n",
    "                          var_name='Method', value_name='Prevalence')\n",
    "methods_long_df['Method'] = methods_long_df['Method'].str.replace('_amount_binary','')"
   ]
  },
  {
   "cell_type": "code",
   "execution_count": null,
   "id": "92",
   "metadata": {},
   "outputs": [],
   "source": [
    "# Now use Seaborn to create a bar plot with error bars.\n",
    "plt.figure(figsize=(14, 7))\n",
    "sns.barplot(data=methods_long_df, x='Method', y='Prevalence', hue='Pain_PCG', errorbar='ci')\n",
    "\n",
    "# Improve the aesthetics and readability.\n",
    "# plt.title('Comparison of Method Amounts by Cancer Classification with Error Bars')\n",
    "plt.xlabel('Methods')\n",
    "plt.ylabel('Prevalence')\n",
    "plt.xticks(rotation=45, ha='right')  # Rotate x-axis labels for better readability.\n",
    "# plt.legend(title='Cancer_PCG')\n",
    "plt.tight_layout()  # Adjust layout to prevent clipping of tick-labels.\n",
    "plt.savefig(results_folder/'Figures_rapport/Prevalence_by_lca_method_pain_patients.png', dpi = 300, bbox_inches='tight')"
   ]
  },
  {
   "cell_type": "code",
   "execution_count": null,
   "id": "93",
   "metadata": {},
   "outputs": [],
   "source": [
    "methods_regex = 'Methodes.*_binary$'\n",
    "methods_long_df = df_treated_filtered.melt(id_vars='Cancer_PCG', \n",
    "                          value_vars=df_treated_filtered.filter(regex=methods_regex).columns, \n",
    "                          var_name='Method', value_name='Prevalence')\n",
    "methods_long_df['Method'] = methods_long_df['Method'].str.replace('_amount_binary','')"
   ]
  },
  {
   "cell_type": "code",
   "execution_count": null,
   "id": "94",
   "metadata": {},
   "outputs": [],
   "source": [
    "# Now use Seaborn to create a bar plot with error bars.\n",
    "plt.figure(figsize=(14, 7))\n",
    "sns.barplot(data=methods_long_df, x='Method', y='Prevalence', hue='Cancer_PCG', errorbar='ci')\n",
    "\n",
    "# Improve the aesthetics and readability.\n",
    "# plt.title('Comparison of Method Amounts by Cancer Classification with Error Bars')\n",
    "plt.xlabel('Methods')\n",
    "plt.ylabel('Prevalence')\n",
    "plt.xticks(rotation=45, ha='right')  # Rotate x-axis labels for better readability.\n",
    "# plt.legend(title='Cancer_PCG')\n",
    "plt.tight_layout()  # Adjust layout to prevent clipping of tick-labels.\n",
    "plt.savefig(results_folder/'Figures_rapport/Prevalence_by_lca_method_cancer_patients.png', dpi = 300, bbox_inches='tight')"
   ]
  },
  {
   "cell_type": "markdown",
   "id": "95",
   "metadata": {},
   "source": [
    "### Prevalence utilisation des CAM par PCG"
   ]
  },
  {
   "cell_type": "code",
   "execution_count": null,
   "id": "96",
   "metadata": {},
   "outputs": [],
   "source": [
    "methods_regex = 'PCG'\n",
    "methods_long_df = df_treated_filtered.melt(id_vars='treatment_cam_only', \n",
    "                          value_vars=df_treated_filtered.filter(regex=methods_regex).columns, \n",
    "                          var_name='Disease', value_name='Prevalence')\n",
    "methods_long_df['Disease'] = methods_long_df['Disease'].str.replace('_PCG','')\n",
    "\n",
    "methods_long_df = methods_long_df.rename(columns = {\"treatment_cam_only\":'Treatment 3 (MHI only)'})\n",
    "\n",
    "plt.figure(figsize=(14, 7))\n",
    "sns.barplot(data=methods_long_df, x='Disease', y='Prevalence', hue='Treatment 3 (MHI only)', errorbar='ci')\n",
    "\n",
    "# Improve the aesthetics and readability.\n",
    "# plt.title('Comparison of Method Amounts by Cancer Classification with Error Bars')\n",
    "plt.xlabel('Methods')\n",
    "plt.ylabel('Prevalence')\n",
    "plt.xticks(rotation=45, ha='right')  # Rotate x-axis labels for better readability.\n",
    "# plt.legend(title='Cancer_PCG')\n",
    "plt.tight_layout()  # Adjust layout to prevent clipping of tick-labels.\n",
    "plt.savefig(results_folder/'Figures_rapport/Prevalence_cam_only_by_pcg.png', dpi = 300, bbox_inches='tight')"
   ]
  },
  {
   "cell_type": "code",
   "execution_count": null,
   "id": "97",
   "metadata": {},
   "outputs": [],
   "source": [
    "methods_regex = 'PCG'\n",
    "methods_long_df = df_treated_filtered.melt(id_vars='treatment', \n",
    "                          value_vars=df_treated_filtered.filter(regex=methods_regex).columns, \n",
    "                          var_name='Disease', value_name='Prevalence')\n",
    "methods_long_df['Disease'] = methods_long_df['Disease'].str.replace('_PCG','')\n",
    "\n",
    "methods_long_df = methods_long_df.rename(columns = {\"treatment\":'Treatment 1 (SI only)'})\n",
    "\n",
    "plt.figure(figsize=(14, 7))\n",
    "sns.barplot(data=methods_long_df, x='Disease', y='Prevalence', hue='Treatment 1 (SI only)', errorbar='ci')\n",
    "\n",
    "# Improve the aesthetics and readability.\n",
    "# plt.title('Comparison of Method Amounts by Cancer Classification with Error Bars')\n",
    "plt.xlabel('Methods')\n",
    "plt.ylabel('Prevalence')\n",
    "plt.xticks(rotation=45, ha='right')  # Rotate x-axis labels for better readability.\n",
    "# plt.legend(title='Cancer_PCG')\n",
    "plt.tight_layout()  # Adjust layout to prevent clipping of tick-labels.\n",
    "plt.savefig(results_folder/'Figures_rapport/Prevalence_lca_only_by_pcg.png', dpi = 300, bbox_inches='tight')"
   ]
  },
  {
   "cell_type": "markdown",
   "id": "98",
   "metadata": {},
   "source": [
    "## HEATMAP PCG VS METHODS"
   ]
  },
  {
   "cell_type": "code",
   "execution_count": null,
   "id": "99",
   "metadata": {},
   "outputs": [],
   "source": [
    "methods_regex = 'Methodes.*_binary$'\n",
    "# methods_long_df = df_treated_filtered.melt(id_vars='Cancer_PCG', \n",
    "#                           value_vars=df_treated_filtered.filter(regex=methods_regex).columns, \n",
    "#                           var_name='Method', value_name='Prevalence')\n",
    "df_treated_filtered.filter(regex=methods_regex).columns"
   ]
  },
  {
   "cell_type": "code",
   "execution_count": null,
   "id": "100",
   "metadata": {},
   "outputs": [],
   "source": [
    "methods_regex = 'PCG'\n",
    "methods_long_df = df_treated_filtered.melt(id_vars=['uuid','year'], \n",
    "                          value_vars=df_treated_filtered.filter(regex=methods_regex).columns, \n",
    "                          var_name='Disease', value_name='Prevalence')\n",
    "methods_long_df['Disease'] = methods_long_df['Disease'].str.replace('_PCG','')\n"
   ]
  },
  {
   "cell_type": "code",
   "execution_count": null,
   "id": "101",
   "metadata": {},
   "outputs": [],
   "source": [
    "methods_long_df = methods_long_df[methods_long_df.Prevalence == 1]\n",
    "\n",
    "df_test = df_treated_filtered.filter(regex='Methodes.*binary$|uuid|year')\n",
    "# g = sns.clustermap(df_test, method=\"average\", cmap=\"coolwarm\", standard_scale=1)\n",
    "\n",
    "df_disease_methods = pd.merge(methods_long_df,df_test, on = ['uuid','year'])"
   ]
  },
  {
   "cell_type": "code",
   "execution_count": null,
   "id": "102",
   "metadata": {},
   "outputs": [],
   "source": [
    "df_disease_methods[df_disease_methods['Disease'] == 'Asthma']['Methodes ayurvediques_amount_binary'].sum()"
   ]
  },
  {
   "cell_type": "code",
   "execution_count": null,
   "id": "103",
   "metadata": {},
   "outputs": [],
   "source": [
    "df_disease_methods[df_disease_methods['Disease'] == 'Cancer']['Methodes ayurvediques_amount_binary'].sum()"
   ]
  },
  {
   "cell_type": "code",
   "execution_count": null,
   "id": "104",
   "metadata": {},
   "outputs": [],
   "source": [
    "df_disease_methods = df_disease_methods.groupby('Disease').sum()"
   ]
  },
  {
   "cell_type": "code",
   "execution_count": null,
   "id": "105",
   "metadata": {},
   "outputs": [],
   "source": [
    "exclude_columns = ['year','uuid','Prevalence']\n",
    "\n",
    "for col in df_disease_methods.columns:\n",
    "    if col not in exclude_columns:\n",
    "        print(col)\n",
    "        df_disease_methods[col] = df_disease_methods[col] / df_disease_methods['Prevalence']"
   ]
  },
  {
   "cell_type": "code",
   "execution_count": null,
   "id": "106",
   "metadata": {},
   "outputs": [],
   "source": [
    "df_disease_methods = df_disease_methods.drop(['year','Prevalence'], axis = 1)\n",
    "\n",
    "df_disease_methods.columns = df_disease_methods.columns.str.replace('_amount_binary','')"
   ]
  },
  {
   "cell_type": "code",
   "execution_count": null,
   "id": "107",
   "metadata": {},
   "outputs": [],
   "source": [
    "# # plt.figure(figsize=(32, 4))\n",
    "# sns.clustermap(df_disease_methods, z_score = 1, cmap = 'coolwarm', figsize=(8, 8))\n",
    "# plt.title('Typology based on therapy Methods and PCGs')\n",
    "# plt.savefig(results_folder/'Figures_rapport/Prevalence_methods_vs_pcg.png', dpi = 300, bbox_inches='tight')"
   ]
  },
  {
   "cell_type": "code",
   "execution_count": null,
   "id": "108",
   "metadata": {},
   "outputs": [],
   "source": [
    "method_mapping = {\n",
    "    'Methodes ayurvediques': 'Ayurvedic methods',\n",
    "    \"Methodes d'art therapie\": 'Art therapy methods',\n",
    "    'Methodes de massage': 'Massage methods',\n",
    "    'Methodes energetiques': 'Energetic methods',\n",
    "    'Methodes energetiques manuelles': 'Manual energetic methods',\n",
    "    'Methodes hydrotherapeutiques': 'Hydrotherapeutic methods',\n",
    "    'Methodes occidentales': 'Western methods',\n",
    "    'Methodes orientales': 'Oriental methods',\n",
    "    'Methodes prescriptives': 'Prescriptive methods',\n",
    "    'Methodes psychologiques complementaires': 'Complementary psychological methods',\n",
    "    'Methodes reflexes': 'Reflex methods',\n",
    "    'Methodes therapeutiques par le mouvement': 'Movement-based therapeutic methods'\n",
    "}\n",
    "\n",
    "disease_mapping = {\n",
    "\n",
    "    'Asthma' : \"Asthma\",\n",
    "  'Diabetes' : \"Diabetes\",\n",
    "  'Cancer'   : \"Cancer\",\n",
    "  'Epilepsy' : \"Epilepsy\",\n",
    "  'Glaucoma' : \"Glaucoma\",\n",
    "  'HIV_AIDS' : \"HIV/AIDS\",\n",
    "  'Heart_disease' : \"Heart Disease\",\n",
    "  'Hypertension_related' : \"Hypertension\",\n",
    "  'Immune' : \"Immune Disorders\",\n",
    "  'Inflammatory' : \"Inflammatory Disorders\",\n",
    "  'Mental' : \"Mental Health Conditions\",\n",
    "  'Other' : \"Other Conditions\",\n",
    "  'Pain' : \"Pain Related Conditions\",\n",
    "  'Parkinson' : \"Parkinson's Disease\",\n",
    "  'Thyroid' : \"Thyroid Disorders\",\n",
    "}"
   ]
  },
  {
   "cell_type": "code",
   "execution_count": null,
   "id": "109",
   "metadata": {},
   "outputs": [],
   "source": [
    "df_disease_methods = df_disease_methods.rename(columns=method_mapping)\n",
    "df_disease_methods = df_disease_methods.rename(index=disease_mapping)"
   ]
  },
  {
   "cell_type": "code",
   "execution_count": null,
   "id": "110",
   "metadata": {},
   "outputs": [],
   "source": [
    "# Better color bar handling\n",
    "cmap = sns.diverging_palette(220, 20, as_cmap=True)  # Create a custom diverging palette\n",
    "\n",
    "# Generate the clustermap\n",
    "g = sns.clustermap(\n",
    "    df_disease_methods.drop('uuid',axis=1),\n",
    "    z_score=1,\n",
    "    cmap=cmap,\n",
    "    figsize=(10, 10),  # Adjust size to fit labels if needed\n",
    "    linewidths=.5,  # Add lines between cells to enhance readability\n",
    "    cbar_kws={'label': 'Standardized Scores'}  # Label for the color bar\n",
    ")\n",
    "plt.setp(g.ax_heatmap.get_yticklabels(), rotation=0)  # Rotate the y labels for better readability\n",
    "# plt.set_xlabel('CAM - SI methods')\n",
    "# plt.setp(g.ax_heatmap.get_xticklabels(), rotation=45)  # Rotate the x labels for readability\n",
    "# g.ax_heatmap.set_title('Typology based on Therapy Methods and PCGs', pad=-10)  # Set title with padding for visibility\n",
    "plt.savefig(results_folder/'Figures_rapport/Heatmap_disease_SI_methods.png', dpi = 300, bbox_inches='tight')"
   ]
  },
  {
   "cell_type": "code",
   "execution_count": null,
   "id": "111",
   "metadata": {},
   "outputs": [],
   "source": [
    "df_cdposition = pd.read_parquet('/Users/david/Dropbox/PhD/GitHub/SanteIntegra/Data/processed/Intermediate datasets/df_amount_by_cdposition.parquet.gzip')"
   ]
  },
  {
   "cell_type": "code",
   "execution_count": null,
   "id": "112",
   "metadata": {},
   "outputs": [],
   "source": [
    "columns_to_update = ['Acupuncture', 'Anthroposophic medicine', 'Homeopathy', 'Neural therapy', 'Phytotherapy', 'Traditional Chinese medicine']\n",
    "df_treated_filtered[[i+'_b' for i in columns_to_update]] = df_treated_filtered[columns_to_update].apply(lambda x: np.where(x > 0, 1, x))"
   ]
  },
  {
   "cell_type": "code",
   "execution_count": null,
   "id": "113",
   "metadata": {},
   "outputs": [],
   "source": [
    "'|'.join(df_cdposition.filter(regex='_b').columns.tolist())"
   ]
  },
  {
   "cell_type": "code",
   "execution_count": null,
   "id": "114",
   "metadata": {},
   "outputs": [],
   "source": [
    "methods_regex = 'Acupuncture_b|Anthroposophic medicine_b|Homeopathy_b|Neural therapy_b|Phytotherapy_b|Traditional Chinese medicine_b'\n",
    "# methods_long_df = df_treated_filtered.melt(id_vars='Cancer_PCG', \n",
    "#                           value_vars=df_treated_filtered.filter(regex=methods_regex).columns, \n",
    "#                           var_name='Method', value_name='Prevalence')\n",
    "df_treated_filtered.filter(regex=methods_regex).columns"
   ]
  },
  {
   "cell_type": "code",
   "execution_count": null,
   "id": "115",
   "metadata": {},
   "outputs": [],
   "source": [
    "methods_regex = 'PCG'\n",
    "methods_long_df = df_treated_filtered.melt(id_vars=['uuid','year'], \n",
    "                          value_vars=df_treated_filtered.filter(regex=methods_regex).columns, \n",
    "                          var_name='Disease', value_name='Prevalence')\n",
    "methods_long_df['Disease'] = methods_long_df['Disease'].str.replace('_PCG','')\n"
   ]
  },
  {
   "cell_type": "code",
   "execution_count": null,
   "id": "116",
   "metadata": {},
   "outputs": [],
   "source": [
    "methods_long_df = methods_long_df[methods_long_df.Prevalence == 1]\n",
    "\n",
    "df_test = df_treated_filtered.filter(regex='uuid|year|Acupuncture_b|Anthroposophic medicine_b|Homeopathy_b|Neural therapy_b|Phytotherapy_b|Traditional Chinese medicine_b')\n",
    "# g = sns.clustermap(df_test, method=\"average\", cmap=\"coolwarm\", standard_scale=1)\n",
    "\n",
    "df_disease_methods = pd.merge(methods_long_df,df_test, on = ['uuid','year'])"
   ]
  },
  {
   "cell_type": "code",
   "execution_count": null,
   "id": "117",
   "metadata": {},
   "outputs": [],
   "source": [
    "df_disease_methods = df_disease_methods.groupby('Disease').sum()"
   ]
  },
  {
   "cell_type": "code",
   "execution_count": null,
   "id": "118",
   "metadata": {},
   "outputs": [],
   "source": [
    "exclude_columns = ['uuid','year','Prevalence']\n",
    "\n",
    "for col in df_disease_methods.columns:\n",
    "    if col not in exclude_columns:\n",
    "        df_disease_methods[col] = df_disease_methods[col] / df_disease_methods['Prevalence']"
   ]
  },
  {
   "cell_type": "code",
   "execution_count": null,
   "id": "119",
   "metadata": {},
   "outputs": [],
   "source": [
    "df_disease_methods = df_disease_methods.drop(['year','uuid','Prevalence'], axis = 1)\n",
    "df_disease_methods.columns = df_disease_methods.columns.str.replace('_b','')"
   ]
  },
  {
   "cell_type": "code",
   "execution_count": null,
   "id": "120",
   "metadata": {},
   "outputs": [],
   "source": [
    "# df_disease_methods = df_disease_methods.rename(columns=method_mapping)\n",
    "df_disease_methods = df_disease_methods.rename(index=disease_mapping)"
   ]
  },
  {
   "cell_type": "code",
   "execution_count": null,
   "id": "121",
   "metadata": {},
   "outputs": [],
   "source": [
    "# Generate the clustermap\n",
    "g = sns.clustermap(\n",
    "    df_disease_methods,\n",
    "    z_score=1,\n",
    "    cmap=cmap,\n",
    "    figsize=(10, 10),  # Adjust size to fit labels if needed\n",
    "    linewidths=.5,  # Add lines between cells to enhance readability\n",
    "    cbar_kws={'label': 'Standardized Scores'}  # Label for the color bar\n",
    ")\n",
    "plt.setp(g.ax_heatmap.get_yticklabels(), rotation=0) \n",
    "plt.savefig(results_folder/'Figures_rapport/Heatmap_disease_MHI_methods.png', dpi = 300, bbox_inches='tight')"
   ]
  },
  {
   "cell_type": "code",
   "execution_count": null,
   "id": "122",
   "metadata": {},
   "outputs": [],
   "source": [
    "# # plt.figure(figsize=(32, 4))\n",
    "# sns.clustermap(methods_long_df, z_score = 1, cmap = 'coolwarm', figsize=(25, 12))\n",
    "# plt.title('Typology of communities based on Therapies')\n",
    "# plt.xlabel('Méthodes thérapeutiques')\n",
    "# plt.ylabel('Community')\n",
    "# plt.show()"
   ]
  },
  {
   "cell_type": "markdown",
   "id": "123",
   "metadata": {},
   "source": [
    "## Models on subgroups"
   ]
  },
  {
   "cell_type": "code",
   "execution_count": null,
   "id": "124",
   "metadata": {},
   "outputs": [],
   "source": [
    "import statsmodels.api as sm\n",
    "import statsmodels.formula.api as smf"
   ]
  },
  {
   "cell_type": "code",
   "execution_count": null,
   "id": "125",
   "metadata": {},
   "outputs": [],
   "source": [
    "def run_mixedlm_ri(df, formula, n_formula, sample=False):\n",
    "    print('Starting Mixed effect modeling with Random Intercepts for UUID')\n",
    "    me_intercept_model = smf.mixedlm(formula, data=df, groups=df['uuid']).fit(reml=False)\n",
    "    if sample:\n",
    "        pass\n",
    "    else:\n",
    "        output_model(me_intercept_model, n_formula, 'RI')\n",
    "    print(me_intercept_model.summary())\n",
    "    # Obtain the residuals\n",
    "    residuals = me_intercept_model.resid\n",
    "    # Obtain the fitted values\n",
    "    fitted_values = me_intercept_model.fittedvalues\n",
    "    # Obtain the random intercepts\n",
    "    random_intercepts = pd.DataFrame({k: v['Group'] for k, v in  me_intercept_model.random_effects.items()}, index=['random_intercept']).T\n",
    "    \n",
    "    # Store the residuals in the original dataframe\n",
    "    df[f'model{n_formula}_ri_residuals'] = residuals\n",
    "    # Store the fitted values in the original dataframe\n",
    "    df[f'model{n_formula}_ri_fitted_values'] = fitted_values\n",
    "    # Store the random intercepts\n",
    "    df[f'model{n_formula}_ri_random_intercepts'] = df['uuid'].map(random_intercepts['random_intercept'].to_dict())\n",
    "    # Calculate linear predictor\n",
    "    model1_ri_lin_pred = fitted_values - df[f'model{n_formula}_ri_random_intercepts'] # the linear predictor"
   ]
  },
  {
   "cell_type": "code",
   "execution_count": null,
   "id": "126",
   "metadata": {},
   "outputs": [],
   "source": [
    "def run_mixedlm_rs(df, formula, n_formula, sample=False):\n",
    "    print('Starting Mixed effect modeling with Random Intercepts for UUID and Random Slopes for YEAR')\n",
    "    me_slope_model = smf.mixedlm(formula, data=df, \n",
    "                              groups=df['uuid'], \n",
    "                              re_formula=\"~year\").fit(reml=False)  \n",
    "    if sample:\n",
    "        pass\n",
    "    else:\n",
    "        output_model(me_slope_model, n_formula, 'RS')\n",
    "    print(me_slope_model.summary())\n",
    "    # Obtain the residuals\n",
    "    residuals = me_slope_model.resid\n",
    "    # Obtain the fitted values\n",
    "    fitted_values = me_slope_model.fittedvalues\n",
    "    # Obtain the random intercepts\n",
    "    random_intercepts = pd.DataFrame({k: v['Group'] for k, v in  me_slope_model.random_effects.items()}, index=['random_intercept']).T\n",
    "    # Store the residuals in the original dataframe\n",
    "    df[f'model{n_formula}_rs_residuals'] = residuals\n",
    "    # Store the fitted values in the original dataframe\n",
    "    df[f'model{n_formula}_rs_fitted_values'] = fitted_values\n",
    "    # Store the random intercepts\n",
    "    df[f'model{n_formula}_rs_random_intercepts'] = df['uuid'].map(random_intercepts['random_intercept'].to_dict())\n",
    "    # Calculate linear predictor\n",
    "    model1_ri_lin_pred = fitted_values - df[f'model{n_formula}_rs_random_intercepts'] # the linear predictor\n",
    "    return df, me_slope_model"
   ]
  },
  {
   "cell_type": "code",
   "execution_count": null,
   "id": "127",
   "metadata": {},
   "outputs": [],
   "source": [
    "def run_mixedlm_rs_complex(df, formula, n_formula, sample=False):\n",
    "    print('Starting Mixed effect modeling with Random Intercepts for UUID and CANTON and Random Slopes for YEAR')\n",
    "    # Specify the random intercepts and slopes for 'code' and random intercepts for 'famcode'\n",
    "    me_slope_2_model = smf.mixedlm(formula, df, \n",
    "                          groups=df['uuid'], \n",
    "                          re_formula='1 + year', \n",
    "                          vc_formula={'CANTON_ACRONYM_first': '0 + C(CANTON_ACRONYM_first)'}).fit(reml=False)\n",
    "    if sample:\n",
    "        pass\n",
    "    else:\n",
    "        output_model(me_slope_2_model, n_formula, 'RS2')\n",
    "\n",
    "    print(me_slope_2_model.summary())\n",
    "    # Obtain the residuals\n",
    "    residuals = me_slope_2_model.resid\n",
    "    # Obtain the fitted values\n",
    "    fitted_values = me_slope_2_model.fittedvalues\n",
    "    # Obtain the random intercepts\n",
    "    random_intercepts = pd.DataFrame({k: v['Group'] for k, v in  me_slope_2_model.random_effects.items()}, index=['random_intercept']).T\n",
    "    \n",
    "    # Store the residuals in the original dataframe\n",
    "    df[f'model{n_formula}_rs_complex_residuals'] = residuals\n",
    "    # Store the fitted values in the original dataframe\n",
    "    df[f'model{n_formula}_rs_complex_fitted_values'] = fitted_values\n",
    "    # Store the random intercepts\n",
    "    df[f'model{n_formula}_rs_complex_random_intercepts'] = df['uuid'].map(random_intercepts['random_intercept'].to_dict())\n",
    "    return df, me_slope_2_model"
   ]
  },
  {
   "cell_type": "code",
   "execution_count": null,
   "id": "128",
   "metadata": {},
   "outputs": [],
   "source": [
    "def run_mixedlm_ri_complex(df, formula, n_formula, sample=False):\n",
    "    print('Starting Mixed effect modeling with Random Intercepts for UUID and for CANTON')\n",
    "    me_intercept2_model = smf.mixedlm(formula, df, \n",
    "                          groups=df['uuid'], \n",
    "                          re_formula='1', \n",
    "                          vc_formula={'CANTON_ACRONYM_first': '0 + C(CANTON_ACRONYM_first)'}).fit(reml=False)   \n",
    "    if sample:\n",
    "        pass\n",
    "    else:\n",
    "        output_model(me_intercept2_model, n_formula, 'RI2')\n",
    "    print(me_intercept2_model.summary())\n",
    "    # Obtain the residuals\n",
    "    residuals = me_intercept2_model.resid\n",
    "    # Obtain the fitted values\n",
    "    fitted_values = me_intercept2_model.fittedvalues\n",
    "    # Obtain the random intercepts\n",
    "    random_intercepts = pd.DataFrame({k: v['Group'] for k, v in  me_intercept2_model.random_effects.items()}, index=['random_intercept']).T\n",
    "    \n",
    "    # Store the residuals in the original dataframe\n",
    "    df[f'model{n_formula}_ri_complex_residuals'] = residuals\n",
    "    # Store the fitted values in the original dataframe\n",
    "    df[f'model{n_formula}_ri_complex_fitted_values'] = fitted_values\n",
    "    # Store the random intercepts\n",
    "    df[f'model{n_formula}_ri_complex_random_intercepts'] = df['uuid'].map(random_intercepts['random_intercept'].to_dict())\n",
    "    # Calculate linear predictor\n",
    "    model1_ri_lin_pred = fitted_values - df[f'model{n_formula}_ri_complex_random_intercepts'] # the linear predictor\n",
    "    return df, me_intercept2_model"
   ]
  },
  {
   "cell_type": "code",
   "execution_count": null,
   "id": "129",
   "metadata": {},
   "outputs": [],
   "source": [
    "from statsmodels.graphics.gofplots import qqplot\n",
    "\n",
    "def plot_model_diagnostics(df, model, model_type, fitted_values, residuals, random_intercepts, figsize=(10, 6)):\n",
    "    \"\"\"\n",
    "    Plots diagnostics for a fitted regression model.\n",
    "\n",
    "    Parameters:\n",
    "    fitted_values -- an array-like object of fitted values from the model\n",
    "    residuals -- an array-like object of residuals from the model\n",
    "    figsize -- a tuple defining the figure size for the plots\n",
    "    \"\"\"\n",
    "    model_n_folder = model_folder/model\n",
    "    model_n_type_folder = model_n_folder/model_type\n",
    "\n",
    "    if not os.path.exists(model_n_folder):\n",
    "        os.makedirs(model_n_folder)\n",
    "    if not os.path.exists(model_n_type_folder):\n",
    "        os.makedirs(model_n_type_folder)\n",
    "    # Residuals vs Fitted plot\n",
    "    plt.figure(figsize=figsize)\n",
    "    plt.scatter(fitted_values, residuals, alpha=0.5)\n",
    "    plt.axhline(y=0, color='r', linestyle='--')\n",
    "    plt.xlabel('Fitted Values')\n",
    "    plt.ylabel('Residuals')\n",
    "    plt.title('Residuals vs Fitted')\n",
    "    plt.savefig(model_n_type_folder/'residuals_vs_fitted.png', dpi = 300, bbox_inches = 'tight')\n",
    "    \n",
    "    # Residuals across years\n",
    "    plt.figure(figsize=figsize)\n",
    "    sns.stripplot(x='year', y=residuals, data=df, jitter=True, alpha = 0.5)\n",
    "    sns.despine()\n",
    "    plt.savefig(model_n_type_folder/'res_over_years.png', dpi = 300, bbox_inches = 'tight')\n",
    "    \n",
    "    # QQ plot for level 1 residuals\n",
    "    fig,ax = plt.subplots(figsize = (10,5))\n",
    "    qqplot(residuals, line='s', ax = ax, markersize=0.5)\n",
    "    plt.title('QQ Plot of level 1 Residuals')\n",
    "    plt.savefig(model_n_type_folder/'qqplot_lvl1.png', dpi = 300, bbox_inches = 'tight')\n",
    "    # QQ plot for level 2 residuals\n",
    "    fig,ax = plt.subplots(figsize = (10,5))\n",
    "    qqplot(random_intercepts, line='s', ax = ax, markersize=0.5)\n",
    "    plt.title('QQ Plot of level 2 Residuals')\n",
    "    plt.savefig(model_n_type_folder/'qqplot_lvl2.png', dpi = 300, bbox_inches = 'tight')\n",
    "\n",
    "    # Histogram of residuals\n",
    "    plt.figure(figsize=figsize)\n",
    "    sns.histplot(residuals, kde=True)\n",
    "    plt.xlabel('Residuals')\n",
    "    plt.title('Histogram of Residuals')\n",
    "    plt.savefig(model_n_type_folder/'residuals_hist.png', dpi = 300, bbox_inches = 'tight')\n",
    "\n",
    "    # Scale-Location plot (Absolute Residuals vs Fitted Values)\n",
    "    plt.figure(figsize=figsize)\n",
    "    plt.scatter(fitted_values, np.abs(residuals), alpha=0.5)\n",
    "    plt.axhline(y=np.mean(np.abs(residuals)), color='r', linestyle='--')\n",
    "    plt.xlabel('Fitted Values')\n",
    "    plt.ylabel('Absolute Residuals')\n",
    "    plt.title('Scale-Location Plot')\n",
    "    plt.savefig(model_n_type_folder/'abs_residuals_vs_fitted.png', dpi = 300, bbox_inches = 'tight')"
   ]
  },
  {
   "cell_type": "code",
   "execution_count": null,
   "id": "130",
   "metadata": {},
   "outputs": [],
   "source": [
    "def output_model(model, model_n, model_type):\n",
    "    print(\"Outputting the model\")\n",
    "    model_n_folder = model_folder/f\"Model - {model_n}\"\n",
    "    model_n_type_folder = model_n_folder/model_type\n",
    "    if not os.path.exists(model_n_folder):\n",
    "        os.makedirs(model_n_folder)\n",
    "    if not os.path.exists(model_n_type_folder):\n",
    "        os.makedirs(model_n_type_folder)\n",
    "    # Convert summary to dataframe\n",
    "    quality_metrics = pd.DataFrame(model.summary().tables[0])\n",
    "    parameters = pd.DataFrame(model.summary().tables[1])\n",
    "    if model_type == 'OLS':\n",
    "        diagnostics = pd.DataFrame(model.summary().tables[2])\n",
    "        diagnostics.to_csv(model_n_type_folder/'model_diagnostics.csv')\n",
    "    else:\n",
    "        quality_metrics.loc[6] = ['AIC',model.aic,'','']\n",
    "        quality_metrics.loc[7] = ['BIC',model.bic,'','']\n",
    "    # Save to CSV\n",
    "    quality_metrics.to_csv(model_n_type_folder/'model_metrics.csv')\n",
    "    parameters.to_csv(model_n_type_folder/'model_parameters.csv')"
   ]
  },
  {
   "cell_type": "markdown",
   "id": "131",
   "metadata": {},
   "source": [
    "## Run models"
   ]
  },
  {
   "cell_type": "markdown",
   "id": "132",
   "metadata": {},
   "source": [
    "### All data - Model 1"
   ]
  },
  {
   "cell_type": "code",
   "execution_count": null,
   "id": "133",
   "metadata": {},
   "outputs": [],
   "source": [
    "# model_formula = 'ihs_cost_aos ~  treatment*year + SEX_F + NBAGE + ssep3 + CDLANGUE + D_MEDIC_B + n_flags + n_atc + locdrhosp + MTFRANCHISECOUV + mean_no2 + n_outpatient_hosp +  n_inpatient_hosp'\n",
    "# df1_all, me_slope_model1_all = run_mixedlm_rs(df_treated_filtered, model_formula, \"All\", False)"
   ]
  },
  {
   "cell_type": "code",
   "execution_count": null,
   "id": "134",
   "metadata": {},
   "outputs": [],
   "source": [
    "# plot_model_diagnostics(df1_all, 'Model - All','RS', df1_all['modelAll_rs_fitted_values'], df1_all['modelAll_rs_residuals'], df1_all['modelAll_rs_random_intercepts'])"
   ]
  },
  {
   "cell_type": "markdown",
   "id": "135",
   "metadata": {},
   "source": [
    "### All data - Model 2 "
   ]
  },
  {
   "cell_type": "code",
   "execution_count": null,
   "id": "136",
   "metadata": {},
   "outputs": [],
   "source": [
    "# model_formula = 'ihs_cost_aos_ambu ~  treatment*year + SEX_F + NBAGE + ssep3 + CDLANGUE + D_MEDIC_B + n_flags + n_atc + locdrhosp + MTFRANCHISECOUV + mean_no2 + n_outpatient_hosp +  n_inpatient_hosp'\n",
    "# df2_all, me_slope_model2_all = run_mixedlm_rs(df_treated_filtered, model_formula, \"All - Ambulatoire\", True)"
   ]
  },
  {
   "cell_type": "markdown",
   "id": "137",
   "metadata": {},
   "source": [
    "### All data - Model 3"
   ]
  },
  {
   "cell_type": "code",
   "execution_count": null,
   "id": "138",
   "metadata": {},
   "outputs": [],
   "source": [
    "# model_formula = 'ihs_cost_aos_stat ~  treatment*year + SEX_F + NBAGE + ssep3 + CDLANGUE + D_MEDIC_B + n_flags + n_atc + locdrhosp + MTFRANCHISECOUV + mean_no2 + n_outpatient_hosp +  n_inpatient_hosp'\n",
    "# df3_all, me_slope_model3_all = run_mixedlm_rs(df_treated_filtered, model_formula, \"All - Stationnaire\", True)"
   ]
  },
  {
   "cell_type": "markdown",
   "id": "139",
   "metadata": {},
   "source": [
    "### Individuals with multimorbidity - Model 1"
   ]
  },
  {
   "cell_type": "code",
   "execution_count": null,
   "id": "140",
   "metadata": {},
   "outputs": [],
   "source": [
    "df_multimorbid.filter(regex='treatment')"
   ]
  },
  {
   "cell_type": "code",
   "execution_count": null,
   "id": "141",
   "metadata": {},
   "outputs": [],
   "source": [
    "model_formula = 'ihs_cost_aos ~  treatment*year + SEX_F + NBAGE + ssep3 + CDLANGUE + D_MEDIC_B + n_flags + n_atc + locdrhosp + MTFRANCHISECOUV + mean_no2 + n_outpatient_hosp +  n_inpatient_hosp'\n",
    "df1_multi, me_slope_model1_multi = run_mixedlm_rs(df_multimorbid, model_formula, \"Multimorbidity\", False)"
   ]
  },
  {
   "cell_type": "code",
   "execution_count": null,
   "id": "142",
   "metadata": {},
   "outputs": [],
   "source": [
    "# Extract variance components\n",
    "var_fixed = me_slope_model1_multi.fe_params.var()  # Fixed effects variance\n",
    "# var_random = me_slope_model1_multi.random_effects.var()  # Random effects variance\n",
    "var_resid = me_slope_model1_multi.resid.var()  # Residual variance\n",
    "\n",
    "# Total variance\n",
    "total_var = var_fixed  + var_resid\n",
    "\n",
    "# Marginal R^2\n",
    "r2_marginal = var_fixed / total_var\n",
    "\n",
    "# Conditional R^2\n",
    "r2_conditional = (var_fixed) / total_var"
   ]
  },
  {
   "cell_type": "code",
   "execution_count": null,
   "id": "143",
   "metadata": {},
   "outputs": [],
   "source": [
    "df1_multi[df1_multi.modelMultimorbidity_rs_residuals.abs() >3].filter(regex='uuid|PCG|ihs|age_group|NOANNEE|Metho|PRESTATIONS_BRUTES_AOS|PRESTATIONS_BRUTES_LCA|atc|res')"
   ]
  },
  {
   "cell_type": "code",
   "execution_count": null,
   "id": "144",
   "metadata": {},
   "outputs": [],
   "source": [
    "df1_multi[df1_multi.uuid == '4d0c0121-d8d8-4683-a778-826f9b9f8ef2'].filter(regex='PCG|ihs|age_group|NOANNEE|Metho|PRESTATIONS_BRUTES_AOS|PRESTATIONS_BRUTES_LCA|atc|res')"
   ]
  },
  {
   "cell_type": "code",
   "execution_count": null,
   "id": "145",
   "metadata": {},
   "outputs": [],
   "source": [
    "plot_model_diagnostics(df1_multi, 'Model - Multimorbidity','RS', df1_multi['modelMultimorbidity_rs_fitted_values'], df1_multi['modelMultimorbidity_rs_residuals'], df1_multi['modelMultimorbidity_rs_random_intercepts'])"
   ]
  },
  {
   "cell_type": "code",
   "execution_count": null,
   "id": "146",
   "metadata": {},
   "outputs": [],
   "source": [
    "fig = plt.figure(figsize = (16, 9))\n",
    "\n",
    "ax = sns.scatterplot(y = me_slope_model1_multi.resid, x = me_slope_model1_multi.fittedvalues)\n",
    "\n",
    "ax.set_title(\"RVF Plot\")\n",
    "ax.set_xlabel(\"Fitted Values\")\n",
    "ax.set_ylabel(\"Residuals\")"
   ]
  },
  {
   "cell_type": "code",
   "execution_count": null,
   "id": "147",
   "metadata": {},
   "outputs": [],
   "source": [
    "# Extracting random effects\n",
    "random_effects = me_slope_model1_multi.random_effects\n",
    "\n",
    "# Convert to DataFrame for easier handling\n",
    "random_effects_df = pd.DataFrame([dict(re) for re in random_effects.values()], index=random_effects.keys())\n",
    "\n",
    "# Plotting the distribution of random intercepts and slopes (if applicable)\n",
    "for column in random_effects_df.columns:\n",
    "    plt.figure(figsize=(8, 4))\n",
    "    plt.hist(random_effects_df[column], bins=30, edgecolor='black')\n",
    "    plt.title(f'Distribution of Random Effect: {column}')\n",
    "    plt.xlabel(column)\n",
    "    plt.ylabel('Frequency')\n",
    "    plt.show()\n"
   ]
  },
  {
   "cell_type": "code",
   "execution_count": null,
   "id": "148",
   "metadata": {},
   "outputs": [],
   "source": [
    "z_scores = np.abs(random_effects_df - random_effects_df.mean()) / random_effects_df.std()\n",
    "outliers = z_scores > 3  # Arbitrary threshold, can be adjusted\n",
    "\n",
    "# Displaying potential outliers\n",
    "print(\"Potential Outliers in Random Effects:\")\n",
    "print(outliers.sum())"
   ]
  },
  {
   "cell_type": "code",
   "execution_count": null,
   "id": "149",
   "metadata": {},
   "outputs": [],
   "source": [
    "df_multimorbid[df_multimorbid.uuid == '017b50e0-a5bf-4ee7-ac12-c3dec88d25fd'].filter(regex='PCG|ihs|age_group|NOANNEE|Metho|PRESTATIONS_BRUTES_AOS|PRESTATIONS_BRUTES_LCA|atc|res')"
   ]
  },
  {
   "cell_type": "code",
   "execution_count": null,
   "id": "150",
   "metadata": {},
   "outputs": [],
   "source": [
    "model_formula = 'ihs_cost_aos ~  treatment*year + SEX_F + NBAGE + ssep3 + CDLANGUE + D_MEDIC_B + n_flags + n_atc + locdrhosp + MTFRANCHISECOUV + mean_no2 + n_outpatient_hosp +  n_inpatient_hosp'\n",
    "df1_multi_complex, me_slope_model1_multi_complex = run_mixedlm_rs_complex(df_multimorbid, model_formula, \"Multimorbid\", True)"
   ]
  },
  {
   "cell_type": "markdown",
   "id": "151",
   "metadata": {},
   "source": [
    "### Individuals with multimorbidity - Model 2"
   ]
  },
  {
   "cell_type": "code",
   "execution_count": null,
   "id": "152",
   "metadata": {},
   "outputs": [],
   "source": [
    "model_formula = 'ihs_cost_aos_ambu ~  treatment*year + SEX_F + NBAGE + ssep3 + CDLANGUE + D_MEDIC_B + n_flags + n_atc + locdrhosp + MTFRANCHISECOUV + mean_no2 + n_outpatient_hosp +  n_inpatient_hosp'\n",
    "df2_multi, me_slope_model2_multi = run_mixedlm_rs(df_multimorbid, model_formula, \"Multimorbidity - Ambulatoire\", True)"
   ]
  },
  {
   "cell_type": "markdown",
   "id": "153",
   "metadata": {},
   "source": [
    "### Individuals with multimorbidity - Model 3"
   ]
  },
  {
   "cell_type": "code",
   "execution_count": null,
   "id": "154",
   "metadata": {},
   "outputs": [],
   "source": [
    "model_formula = 'ihs_cost_aos_ambu ~  treatment*year + SEX_F + NBAGE + ssep3 + CDLANGUE + D_MEDIC_B + n_flags + n_atc + locdrhosp + MTFRANCHISECOUV + mean_no2 + n_outpatient_hosp +  n_inpatient_hosp'\n",
    "df3_multi, me_slope_model3_multi = run_mixedlm_rs(df_multimorbid, model_formula, \"Multimorbidity - Stationnaire\", True)"
   ]
  },
  {
   "cell_type": "markdown",
   "id": "155",
   "metadata": {},
   "source": [
    "### Individuals with cancer - Model 1"
   ]
  },
  {
   "cell_type": "code",
   "execution_count": null,
   "id": "156",
   "metadata": {},
   "outputs": [],
   "source": [
    "model_formula = 'ihs_cost_aos ~  treatment*year + SEX_F + NBAGE + ssep3 + CDLANGUE + D_MEDIC_B + n_flags + n_atc + locdrhosp + MTFRANCHISECOUV + mean_no2 + n_outpatient_hosp +  n_inpatient_hosp'\n",
    "df1_cancer, me_slope_model1_cancer = run_mixedlm_rs(df_cancer, model_formula, \"Cancer\", True)"
   ]
  },
  {
   "cell_type": "markdown",
   "id": "157",
   "metadata": {},
   "source": [
    "### Individuals with cancer - Model 2"
   ]
  },
  {
   "cell_type": "code",
   "execution_count": null,
   "id": "158",
   "metadata": {},
   "outputs": [],
   "source": [
    "model_formula = 'ihs_cost_aos_ambu ~  treatment*year + SEX_F + NBAGE + ssep3 + CDLANGUE + D_MEDIC_B + n_flags + n_atc + locdrhosp + MTFRANCHISECOUV + mean_no2 + n_outpatient_hosp +  n_inpatient_hosp'\n",
    "df2_cancer, me_slope_model2_cancer = run_mixedlm_rs(df_cancer, model_formula, \"Cancer - Ambulatoire\", True)"
   ]
  },
  {
   "cell_type": "markdown",
   "id": "159",
   "metadata": {},
   "source": [
    "### Individuals with cancer - Model 3"
   ]
  },
  {
   "cell_type": "code",
   "execution_count": null,
   "id": "160",
   "metadata": {},
   "outputs": [],
   "source": [
    "model_formula = 'ihs_cost_aos_stat ~  treatment*year + SEX_F + NBAGE + ssep3 + CDLANGUE + D_MEDIC_B + n_flags + n_atc + locdrhosp + MTFRANCHISECOUV + mean_no2 + n_outpatient_hosp +  n_inpatient_hosp'\n",
    "df3_cancer, me_slope_model3_cancer = run_mixedlm_rs(df_cancer, model_formula, \"Cancer - Stationnaire\", True)"
   ]
  },
  {
   "cell_type": "markdown",
   "id": "161",
   "metadata": {},
   "source": [
    "### Indivuals with cancer - Model 4"
   ]
  },
  {
   "cell_type": "code",
   "execution_count": null,
   "id": "162",
   "metadata": {},
   "outputs": [],
   "source": [
    "model_formula = 'ihs_cost_pain ~  treatment*year + SEX_F + NBAGE + ssep3 + CDLANGUE + D_MEDIC_B + n_flags + n_atc + locdrhosp + MTFRANCHISECOUV + mean_no2 + n_outpatient_hosp +  n_inpatient_hosp'\n",
    "df1_cancer, me_slope_model1_cancer = run_mixedlm_rs(df_cancer, model_formula, \"Cancer\", True)"
   ]
  },
  {
   "cell_type": "code",
   "execution_count": null,
   "id": "163",
   "metadata": {},
   "outputs": [],
   "source": [
    "df_uuid_gp = df_treated_filtered[['uuid','NOANNEE','treatment','PRESTATIONS_BRUTES_AOS','PRESTATIONS_BRUTES_AMBULATOIRE','PRESTATIONS_BRUTES_STATIONNAIRE']].groupby('uuid').sum()"
   ]
  },
  {
   "cell_type": "code",
   "execution_count": null,
   "id": "164",
   "metadata": {},
   "outputs": [],
   "source": [
    "sns.boxplot(data=df_uuid_gp, x='treatment', y='PRESTATIONS_BRUTES_STATIONNAIRE', showfliers=False)"
   ]
  },
  {
   "cell_type": "code",
   "execution_count": null,
   "id": "165",
   "metadata": {},
   "outputs": [],
   "source": [
    "# Create the line plot\n",
    "plt.figure(figsize=(10, 6))\n",
    "sns.lineplot(x='year', y='ihs_cost_aos', hue='treatment', data=df_treated_filtered, marker='o')\n",
    "\n",
    "plt.title('Treatment Effect Over Time')\n",
    "plt.xlabel('Year')\n",
    "plt.ylabel('Average Spending on Conventional Medicine')\n",
    "plt.legend(title='Treatment', loc='upper left')\n",
    "plt.grid(True)\n",
    "plt.show()"
   ]
  },
  {
   "cell_type": "code",
   "execution_count": null,
   "id": "166",
   "metadata": {},
   "outputs": [],
   "source": [
    "model_formula = 'ihs_cost_aos ~  treatment*year + SEX_F + NBAGE + ssep2 + CDLANGUE + D_MEDIC_B + n_flags + Cancer_PCG + Pain_PCG + n_outpatient_hosp +  n_inpatient_hosp'\n",
    "df2, me_slope_model2 = run_mixedlm_rs(df_multimorbid, model_formula, \"Multimorbid\", True)"
   ]
  },
  {
   "cell_type": "code",
   "execution_count": null,
   "id": "167",
   "metadata": {},
   "outputs": [],
   "source": [
    "df2[df2.uuid=='546cfa0f-1c2f-4692-962c-d733cb5b49b8'].filter(regex='PCG|NOANNEE|ihs|hosp|PRESTATIONS_BRUTES_AOS|PRESTATIONS_BRUTES_LCA|atc|flags|residuals')"
   ]
  },
  {
   "cell_type": "code",
   "execution_count": null,
   "id": "168",
   "metadata": {},
   "outputs": [],
   "source": [
    "df_multimorbid_nooutliers = df_multimorbid[df_multimorbid.modelMultimorbid_rs_residuals.abs()< 3]"
   ]
  },
  {
   "cell_type": "code",
   "execution_count": null,
   "id": "169",
   "metadata": {},
   "outputs": [],
   "source": [
    "df_multimorbid[df_multimorbid.modelMultimorbid_rs_residuals.abs() >3]"
   ]
  },
  {
   "cell_type": "markdown",
   "id": "170",
   "metadata": {},
   "source": [
    "#### Cas d'une femme avec epilepsie qui ne consomme plus de médicaments à partir de 2020 et uniquement du LCA"
   ]
  },
  {
   "cell_type": "code",
   "execution_count": null,
   "id": "171",
   "metadata": {},
   "outputs": [],
   "source": [
    "df_multimorbid[df_multimorbid.uuid == '546cfa0f-1c2f-4692-962c-d733cb5b49b8'].filter(regex='PCG|NOANNEE|PRESTATIONS_BRUTES_AOS|PRESTATIONS_BRUTES_LCA|atc')"
   ]
  },
  {
   "cell_type": "code",
   "execution_count": null,
   "id": "172",
   "metadata": {},
   "outputs": [],
   "source": [
    "df_multimorbid[df_multimorbid.uuid == '546cfa0f-1c2f-4692-962c-d733cb5b49b8']"
   ]
  },
  {
   "cell_type": "markdown",
   "id": "173",
   "metadata": {},
   "source": [
    "### Modelling without outliers"
   ]
  },
  {
   "cell_type": "code",
   "execution_count": null,
   "id": "174",
   "metadata": {},
   "outputs": [],
   "source": [
    "model_formula = 'ihs_cost_aos ~ treatment*year + SEX_F + NBAGE + ssep2 + CDLANGUE + D_MEDIC_B'\n",
    "me_slope_model = run_mixedlm_rs(df_multimorbid_nooutliers, model_formula, \"Multimorbid\", True)"
   ]
  },
  {
   "cell_type": "code",
   "execution_count": null,
   "id": "175",
   "metadata": {},
   "outputs": [],
   "source": [
    "plot_model_diagnostics(df_multimorbid, 'Model - Multimorbidty','RS', df_multimorbid['modelMultimorbid_rs_fitted_values'], df_multimorbid['modelMultimorbid_rs_residuals'], df_multimorbid['modelMultimorbid_rs_random_intercepts'])"
   ]
  },
  {
   "cell_type": "code",
   "execution_count": null,
   "id": "176",
   "metadata": {},
   "outputs": [],
   "source": [
    "plot_model_diagnostics(df_multimorbid_nooutliers, 'Model - Multimorbidty','RS', df_multimorbid['modelMultimorbid_rs_fitted_values'], df_multimorbid_nooutliers['modelMultimorbid_rs_residuals'], df_multimorbid_nooutliers['modelMultimorbid_rs_random_intercepts'])"
   ]
  },
  {
   "cell_type": "code",
   "execution_count": null,
   "id": "177",
   "metadata": {},
   "outputs": [],
   "source": [
    "import scipy.stats as stats\n",
    "fig = plt.figure(figsize = (16, 9))\n",
    "\n",
    "ax = sns.distplot(me_slope_model.resid, hist = False, kde_kws = {\"fill\" : True, \"lw\": 1}, fit = stats.norm)\n",
    "\n",
    "ax.set_title(\"KDE Plot of Model Residuals (Blue) and Normal Distribution (Black)\")\n",
    "ax.set_xlabel(\"Residuals\")"
   ]
  },
  {
   "cell_type": "code",
   "execution_count": null,
   "id": "178",
   "metadata": {},
   "outputs": [],
   "source": [
    "fig = plt.figure(figsize = (16, 9))\n",
    "ax = fig.add_subplot(111)\n",
    "\n",
    "sm.qqplot(me_slope_model.resid, dist = stats.norm, line = 's', ax = ax)\n",
    "\n",
    "ax.set_title(\"Q-Q Plot\")"
   ]
  },
  {
   "cell_type": "code",
   "execution_count": null,
   "id": "179",
   "metadata": {},
   "outputs": [],
   "source": [
    "fig = plt.figure(figsize = (16, 9))\n",
    "\n",
    "ax = sns.scatterplot(y = me_slope_model.resid, x = me_slope_model.fittedvalues)\n",
    "\n",
    "ax.set_title(\"RVF Plot\")\n",
    "ax.set_xlabel(\"Fitted Values\")\n",
    "ax.set_ylabel(\"Residuals\")"
   ]
  },
  {
   "cell_type": "markdown",
   "id": "180",
   "metadata": {},
   "source": [
    "### Reproducing analysis by Radoslaw Panczak"
   ]
  },
  {
   "cell_type": "code",
   "execution_count": null,
   "id": "181",
   "metadata": {},
   "outputs": [],
   "source": [
    "df = df_multimorbid[df_multimorbid.NBAGE >18].copy()\n",
    "df = df[df['PRESTATIONS_BRUTES_AOS'] > df['MTFRANCHISECOUV']]"
   ]
  },
  {
   "cell_type": "code",
   "execution_count": null,
   "id": "182",
   "metadata": {},
   "outputs": [],
   "source": [
    "df['MTFRANCHISECOUV'] = df['MTFRANCHISECOUV'].astype('category')"
   ]
  },
  {
   "cell_type": "code",
   "execution_count": null,
   "id": "183",
   "metadata": {},
   "outputs": [],
   "source": [
    "base_formula = \"ihs_cost_aos ~\"\n",
    "# Model 0: Unadjusted\n",
    "model_0 = smf.mixedlm(base_formula + '1', \n",
    "                      data=df_treated_filtered, \n",
    "                      groups=df_treated_filtered['uuid']).fit(reml=False)\n",
    "\n",
    "\n",
    "# Model 1: Unadjusted\n",
    "model_1 = smf.mixedlm(base_formula + '1', \n",
    "                      data=df, \n",
    "                      groups=df['uuid'], \n",
    "                      re_formula='1+year', \n",
    "                      vc_formula={'CANTON_ACRONYM_first': '0 + CANTON_ACRONYM_first'}).fit(reml=False)\n",
    "\n",
    "# Model 2: Adjusted for Age, sex\n",
    "model_2 = smf.mixedlm(base_formula + 'treatment*year + NBAGE + SEX_F', \n",
    "                      data=df, \n",
    "                      groups=df['uuid'], \n",
    "                      re_formula='1+year', \n",
    "                      vc_formula={'CANTON_ACRONYM_first': '0 + CANTON_ACRONYM_first'}).fit(reml=False)\n",
    "\n",
    "# Model 3: Adjusted for SES and access to HC\n",
    "model_3 = smf.mixedlm(base_formula + 'treatment*year + NBAGE + SEX_F + ssep3 + D_MEDIC_B', \n",
    "                      data=df, \n",
    "                      groups=df['uuid'], \n",
    "                      re_formula='1+year', \n",
    "                      vc_formula={'CANTON_ACRONYM_first': '0 + CANTON_ACRONYM_first'}).fit(reml=False)"
   ]
  },
  {
   "cell_type": "code",
   "execution_count": null,
   "id": "184",
   "metadata": {},
   "outputs": [],
   "source": [
    "# Model 4: Fully adjusted\n",
    "model_4 = smf.mixedlm(base_formula + 'treatment_cam_only*year + SEX_F + NBAGE + DEDUCTIBLE_300 + DEDUCTIBLE_500 + DEDUCTIBLE_1000 + DEDUCTIBLE_1500 + DEDUCTIBLE_2000 + MODEL_MF + MODEL_HMO + MODEL_TEL + ssep3_q + region_DE + region_FR + region_IT + n_flags + n_month_inpatienthosp_log + locdrhosp + Asthma_PCG + Diabetes_PCG + Cancer_PCG + Epilepsy_PCG + Glaucoma_PCG + HIV_AIDS_PCG + Heart_disease_PCG + Hypertension_related_PCG + Immune_PCG + Inflammatory_PCG + Mental_PCG + Other_PCG + Pain_PCG + Parkinson_PCG + Thyroid_PCG  + mean_no2 + mean_ndvi + urb_Peri_urban + urb_Urban + D_MEDIC_B_log', \n",
    "                      data=df, \n",
    "                      groups=df['uuid'], \n",
    "                      re_formula='1', \n",
    "                      vc_formula={'CANTON_ACRONYM_first': '0 + CANTON_ACRONYM_first'}).fit(reml=False)"
   ]
  },
  {
   "cell_type": "code",
   "execution_count": null,
   "id": "185",
   "metadata": {},
   "outputs": [],
   "source": [
    "model_2 = smf.mixedlm(base_formula + 'treatment_lca_cam*year + NBAGE + SEX_F', \n",
    "                      data=df, \n",
    "                      groups=df['uuid'], \n",
    "                      re_formula='1', \n",
    "                      vc_formula={'CANTON_ACRONYM_first': '0 + CANTON_ACRONYM_first'}).fit(reml=False)\n"
   ]
  },
  {
   "cell_type": "code",
   "execution_count": null,
   "id": "186",
   "metadata": {},
   "outputs": [],
   "source": [
    "print(model_2.summary())"
   ]
  },
  {
   "cell_type": "code",
   "execution_count": null,
   "id": "187",
   "metadata": {},
   "outputs": [],
   "source": [
    "df.filter(regex='month')"
   ]
  },
  {
   "cell_type": "code",
   "execution_count": null,
   "id": "188",
   "metadata": {},
   "outputs": [],
   "source": [
    "# Obtain the residuals\n",
    "residuals = model_4.resid\n",
    "# Obtain the fitted values\n",
    "fitted_values = model_4.fittedvalues\n",
    "\n",
    "df['fitted_values'] = fitted_values\n",
    "df['residuals'] = residuals"
   ]
  },
  {
   "cell_type": "code",
   "execution_count": null,
   "id": "189",
   "metadata": {},
   "outputs": [],
   "source": [
    "ri_canton = pd.DataFrame({k: v[2] for k, v in  model_4.random_effects.items()}, index=['ri_group']).T.to_dict()['ri_group']\n",
    "df['ri_canton'] = df['uuid'].map(ri_canton)"
   ]
  },
  {
   "cell_type": "code",
   "execution_count": null,
   "id": "190",
   "metadata": {},
   "outputs": [],
   "source": [
    "df['intercept'] = model_4.params['Intercept']\n",
    "df['intercept_ri_canton'] = df['intercept']+df['ri_canton']\n",
    "df['exp_intercept_ri_canton'] = np.sinh(df['intercept_ri_canton'])"
   ]
  },
  {
   "cell_type": "code",
   "execution_count": null,
   "id": "191",
   "metadata": {},
   "outputs": [],
   "source": [
    "df['intercept_sex_f'] = df['intercept'] + model_4.params['SEX_F']*df['SEX_F']\n",
    "df['intercept_ssep3'] = df['intercept'] + model_4.params['ssep3_q']*df['ssep3_q']\n",
    "df['intercept_treatment'] = df['intercept'] + model_4.params['treatment']*df['treatment']\n",
    "\n",
    "df['exp_intercept_sex_f'] = np.sinh(df['intercept_sex_f'])\n",
    "df['exp_intercept_ssep3'] = np.sinh(df['intercept_ssep3'])\n",
    "df['exp_intercept_treatment'] = np.sinh(df['intercept_treatment'])\n",
    "\n",
    "cost_ratio = df.groupby('treatment')['exp_intercept_treatment'].mean()/df['exp_intercept_treatment'].mean()\n",
    "# cost_ratio = df.groupby('SEX_F')['intercept_sex_f'].mean()/df['exp_intercept_sex_f'].mean()"
   ]
  },
  {
   "cell_type": "code",
   "execution_count": null,
   "id": "192",
   "metadata": {},
   "outputs": [],
   "source": [
    "cost_ratio"
   ]
  },
  {
   "cell_type": "code",
   "execution_count": null,
   "id": "193",
   "metadata": {},
   "outputs": [],
   "source": [
    "1.046433/0.939225"
   ]
  },
  {
   "cell_type": "code",
   "execution_count": null,
   "id": "194",
   "metadata": {},
   "outputs": [],
   "source": [
    "df['treatment:year'] = df['year'] * df['treatment']"
   ]
  },
  {
   "cell_type": "code",
   "execution_count": null,
   "id": "195",
   "metadata": {},
   "outputs": [],
   "source": [
    "dict_params = {'CDLANGUE[T.EN]':'LANG_EN', 'CDLANGUE[T.FR]':\"LANG_FR\", 'CDLANGUE[T.IT]':\"LANG_EN\", 'Urbanicity_simple[T.Rural]':'urb_Rural',\n",
    "               'Urbanicity_simple[T.Périurbain]':'urb_Périurbain','Urbanicity_simple[T.Urban]':'urb_Urban',\n",
    "               'Language[T.RM]':'region_RM','Language[T.IT]':'region_IT','Language[T.FR]':'region_FR','Language[T.DE]':'region_DE',\n",
    "       'MTFRANCHISECOUV[T.500.0]':\"DEDUCTIBLE_500\", 'MTFRANCHISECOUV[T.1000.0]':\"DEDUCTIBLE_1000\",\n",
    "       'MTFRANCHISECOUV[T.1500.0]':\"DEDUCTIBLE_1500\", 'MTFRANCHISECOUV[T.2000.0]':\"DEDUCTIBLE_2000\",\n",
    "       'MTFRANCHISECOUV[T.2500.0]':\"DEDUCTIBLE_2500\", 'treatment':'treatment', 'year':'year', 'treatment:year':'treatment:year',\n",
    "       'NBAGE':'NBAGE', 'SEX_F':'SEX_F', 'ssep3':'ssep3', 'D_MEDIC_B':'D_MEDIC_B', 'n_flags':'n_flags', 'n_atc':'n_atc', 'locdrhosp':'locdrhosp',\n",
    "       'mean_no2':'mean_no2', 'n_outpatient_hosp':'n_outpatient_hosp', 'n_inpatient_hosp':'n_inpatient_hosp'}"
   ]
  },
  {
   "cell_type": "code",
   "execution_count": null,
   "id": "196",
   "metadata": {},
   "outputs": [],
   "source": [
    "# Initialize a dictionary to store cost ratios\n",
    "cost_ratios = {}\n",
    "df['intercept'] = model_4.params['Intercept']\n",
    "# Loop over each parameter in the model (excluding the intercept)\n",
    "for param in model_4.params.index[1:-4]:  # Skips the intercept\n",
    "    print(param)\n",
    "    # Calculate the adjusted intercept\n",
    "    df[f'intercept_{param}'] = df['intercept'] + model_4.params[param] * df[dict_params[param]]\n",
    "    \n",
    "    # Apply np.sinh transformation\n",
    "    df[f'exp_intercept_{param}'] = np.sinh(df[f'intercept_{param}'])\n",
    "    \n",
    "    # Calculate and store the cost ratio\n",
    "    cost_ratios[param] = df.groupby(dict_params[param])[f'exp_intercept_{param}'].mean() / df[f'exp_intercept_{param}'].mean()\n"
   ]
  },
  {
   "cell_type": "code",
   "execution_count": null,
   "id": "197",
   "metadata": {},
   "outputs": [],
   "source": [
    "fig,ax = plt.subplots(figsize=(15,6))\n",
    "ax = sns.pointplot(\n",
    "    data=df, x=\"CANTON_ACRONYM_first\", y=\"ri_canton\", order = ['UR', 'GL', 'AR', 'ZG', 'SG', 'NW', 'JU', 'VS', 'SO', 'SZ', 'LU', 'NE',\n",
    "       'BE', 'FR', 'TI', 'BL', 'SH', 'AG', 'ZH', 'VD', 'TG', 'BS', 'GR', 'GE',\n",
    "       'OW', 'AI'],\n",
    "    capsize=.2, join=False, errorbar=('ci', 95), errwidth=0.6)\n",
    "\n",
    "ax.set_xticklabels(ax.get_xticklabels(), rotation=90)\n",
    "ax.grid(True)\n",
    "# Show the plot\n",
    "plt.show"
   ]
  },
  {
   "cell_type": "code",
   "execution_count": null,
   "id": "198",
   "metadata": {},
   "outputs": [],
   "source": [
    "cost_ratio = (df.groupby('CANTON_ACRONYM_first').exp_intercept_ri_canton.mean()/df.exp_intercept_ri_canton.mean()).to_dict()"
   ]
  },
  {
   "cell_type": "code",
   "execution_count": null,
   "id": "199",
   "metadata": {},
   "outputs": [],
   "source": [
    "cantons = gpd.read_file('/Users/david/Dropbox/PhD/GitHub/SanteIntegra/Data/raw/OFS/swissBOUNDARIES3D_1_5_LV95_LN02.gpkg', layer = 'tlm_kantonsgebiet')\n",
    "cantons = cantons.to_crs(2056)\n",
    "swiss_cantons = {\n",
    "    \"Aargau\": \"AG\",\n",
    "    \"Appenzell Ausserrhoden\": \"AR\",\n",
    "    \"Appenzell Innerrhoden\": \"AI\",\n",
    "    \"Basel-Landschaft\": \"BL\",\n",
    "    \"Basel-Stadt\": \"BS\",\n",
    "    \"Bern\": \"BE\",\n",
    "    \"Fribourg\": \"FR\",\n",
    "    \"Genève\": \"GE\",\n",
    "    \"Glarus\": \"GL\",\n",
    "    \"Graubünden\": \"GR\",\n",
    "    \"Jura\": \"JU\",\n",
    "    \"Luzern\": \"LU\",\n",
    "    \"Neuchâtel\": \"NE\",\n",
    "    \"Nidwalden\": \"NW\",\n",
    "    \"Obwalden\": \"OW\",\n",
    "    \"St. Gallen\": \"SG\",\n",
    "    \"Schaffhausen\": \"SH\",\n",
    "    \"Schwyz\": \"SZ\",\n",
    "    \"Solothurn\": \"SO\",\n",
    "    \"Thurgau\": \"TG\",\n",
    "    \"Ticino\": \"TI\",\n",
    "    \"Uri\": \"UR\",\n",
    "    \"Vaud\": \"VD\",\n",
    "    \"Valais\":\"VS\",\n",
    "    \"Zug\": \"ZG\",\n",
    "    \"Zürich\": \"ZH\"\n",
    "}\n",
    "\n",
    "cantons['CANTON_ACRONYM_manual'] = cantons['name'].map(swiss_cantons)\n",
    "cantons['CANTON_NAME_manual'] = cantons['name']"
   ]
  },
  {
   "cell_type": "code",
   "execution_count": null,
   "id": "200",
   "metadata": {},
   "outputs": [],
   "source": [
    "cantons['cost_ratio'] = cantons['CANTON_ACRONYM_manual'].map(cost_ratio)"
   ]
  },
  {
   "cell_type": "code",
   "execution_count": null,
   "id": "201",
   "metadata": {},
   "outputs": [],
   "source": [
    "# Define custom breaks\n",
    "breaks = [i * 0.1 for i in range(8,14)]  # Adjust the range as needed\n",
    "breaks.insert(0,0.5)\n",
    "breaks.append(1.8)\n",
    "# Categorize data\n",
    "cantons['cost_ratio_cat'] = pd.cut(cantons['cost_ratio'], breaks)\n",
    "\n",
    "# Plot with custom categories\n",
    "fig, ax = plt.subplots(1, 1)\n",
    "cantons.plot(column='cost_ratio_cat', cmap='RdYlBu_r', legend=True, ax=ax)\n",
    "\n",
    "# Show the plot\n",
    "plt.show()"
   ]
  },
  {
   "cell_type": "code",
   "execution_count": null,
   "id": "202",
   "metadata": {},
   "outputs": [],
   "source": [
    "# Obtain the residuals\n",
    "residuals = model_2.resid\n",
    "# Obtain the fitted values\n",
    "fitted_values = model_2.fittedvalues\n",
    "# Obtain the random intercepts\n",
    "random_intercepts_group = pd.DataFrame({k: v['Group'] for k, v in  model_2.random_effects.items()}, index=['ri_group']).T\n",
    "random_intercepts_year = pd.DataFrame({k: v['year'] for k, v in  model_2.random_effects.items()}, index=['ri_year']).T\n",
    "# random_intercepts_canton = pd.DataFrame({k: v['CANTON_ACRONYM_first'] for k, v in  model_2.random_effects.items()}, index=['random_intercept']).T\n",
    "random_intercepts_group"
   ]
  },
  {
   "cell_type": "code",
   "execution_count": null,
   "id": "203",
   "metadata": {},
   "outputs": [],
   "source": [
    "# Compare model fit using AIC and BIC\n",
    "model_comparison = {\n",
    "    \"Model 1\": (model_1.aic, model_1.bic),\n",
    "    \"Model 2\": (model_2.aic, model_2.bic),\n",
    "    \"Model 3\": (model_3.aic, model_3.bic),\n",
    "    \"Model 4\": (model_4.aic, model_4.bic)\n",
    "}\n",
    "\n",
    "model_metrics = pd.DataFrame.from_dict(model_comparison).T\n",
    "model_metrics.columns = ['AIC','BIC']\n",
    "model_metrics"
   ]
  },
  {
   "cell_type": "markdown",
   "id": "204",
   "metadata": {},
   "source": [
    "## Two part model"
   ]
  },
  {
   "cell_type": "markdown",
   "id": "205",
   "metadata": {},
   "source": [
    "### Part 2 - Continuous multilevel model"
   ]
  },
  {
   "cell_type": "code",
   "execution_count": null,
   "id": "206",
   "metadata": {},
   "outputs": [],
   "source": [
    "df_treated_filtered_t_1.shape"
   ]
  },
  {
   "cell_type": "code",
   "execution_count": null,
   "id": "207",
   "metadata": {},
   "outputs": [],
   "source": [
    "df = df_treated_filtered_t_1[df_treated_filtered_t_1.NBAGE>18]"
   ]
  },
  {
   "cell_type": "code",
   "execution_count": null,
   "id": "208",
   "metadata": {},
   "outputs": [],
   "source": [
    "df.shape"
   ]
  },
  {
   "cell_type": "code",
   "execution_count": null,
   "id": "209",
   "metadata": {},
   "outputs": [],
   "source": [
    "df = df[df.PRESTATIONS_BRUTES_AOS > df.MTFRANCHISECOUV]"
   ]
  },
  {
   "cell_type": "code",
   "execution_count": null,
   "id": "210",
   "metadata": {},
   "outputs": [],
   "source": [
    "df = df.rename(columns = {'age_80+':'age_80plus'})"
   ]
  },
  {
   "cell_type": "code",
   "execution_count": null,
   "id": "211",
   "metadata": {},
   "outputs": [],
   "source": [
    "df.shape"
   ]
  },
  {
   "cell_type": "code",
   "execution_count": null,
   "id": "212",
   "metadata": {},
   "outputs": [],
   "source": [
    "uuids = df[['uuid']].drop_duplicates()\n",
    "uuid_sample = uuids.sample(n = 50000, random_state=42)\n",
    "df_sample = df[df.uuid.isin(uuid_sample.uuid)].reset_index(drop=True)"
   ]
  },
  {
   "cell_type": "code",
   "execution_count": null,
   "id": "213",
   "metadata": {},
   "outputs": [],
   "source": [
    "df_sample.groupby('uuid').size().sort_values().value_counts()"
   ]
  },
  {
   "cell_type": "code",
   "execution_count": null,
   "id": "214",
   "metadata": {},
   "outputs": [],
   "source": [
    "model_formula = 'ihs_cost_aos ~  treatment_lca_cam*year + ihs_cost_aos_t_1 + SEX_F + NBAGE + MODEL_MF + MODEL_HMO + MODEL_TEL + ssep3_q + region_DE + region_FR + region_IT + D_MEDIC_B_log + n_flags + n_atc_log*n_month_inpatienthosp_log + locdrhosp + Asthma_PCG + Cancer_PCG + Diabetes_PCG + Epilepsy_PCG + Glaucoma_PCG + HIV_AIDS_PCG + Heart_disease_PCG + Hypertension_related_PCG + Immune_PCG + Inflammatory_PCG + Mental_PCG + Other_PCG + Pain_PCG + Parkinson_PCG + Thyroid_PCG + DEDUCTIBLE_300 + DEDUCTIBLE_500 + DEDUCTIBLE_1000 + DEDUCTIBLE_1500 + DEDUCTIBLE_2000 + mean_no2 + mean_ndvi + mean_carnight + urb_Peri_urban + urb_Urban'\n",
    "df_ri, me_intercept_complex_model = run_mixedlm_ri_complex(df, model_formula, \"AOS costs\", True)"
   ]
  },
  {
   "cell_type": "code",
   "execution_count": null,
   "id": "215",
   "metadata": {},
   "outputs": [],
   "source": [
    "model_formula = 'ihs_cost_aos ~  treatment_lca_cam*year + ihs_cost_aos_t_1 + SEX_F + NBAGE + MODEL_MF + MODEL_HMO + MODEL_TEL + ssep3_q + region_DE + region_FR + region_IT + D_MEDIC_B + n_flags + n_atc_log + locdrhosp + Cancer_PCG  + DEDUCTIBLE_300 + DEDUCTIBLE_500 + DEDUCTIBLE_1000 + DEDUCTIBLE_1500 + DEDUCTIBLE_2000 + mean_no2 + mean_ndvi + mean_carnight + n_month_inpatienthosp_log + urb_Peri_urban + urb_Urban'\n",
    "df_sample_ri, me_intercept_complex_model_sample = run_mixedlm_ri_complex(df_sample, model_formula, \"AOS costs\", True)"
   ]
  },
  {
   "cell_type": "code",
   "execution_count": null,
   "id": "216",
   "metadata": {},
   "outputs": [],
   "source": [
    "# model_formula = 'ihs_cost_aos ~  treatment_lca_cam*year + ihs_cost_aos_t_1 + n_inpatient_hosp_t_1 + SEX_F + NBAGE + MODEL_MF + MODEL_HMO + MODEL_TEL + ssep3_q + region_DE + region_FR + region_IT + D_MEDIC_B + n_flags + n_atc_log + locdrhosp + Cancer_PCG  + DEDUCTIBLE_300 + DEDUCTIBLE_500 + DEDUCTIBLE_1000 + DEDUCTIBLE_1500 + DEDUCTIBLE_2000 + mean_no2 + mean_ndvi + mean_carnight + n_inpatient_hosp_log + urb_Peri_urban + urb_Urban'\n",
    "# df_sample_rs, me_rs_complex_model_sample = run_mixedlm_rs_complex(df_sample, model_formula, \"AOS costs\", True)"
   ]
  },
  {
   "cell_type": "code",
   "execution_count": null,
   "id": "217",
   "metadata": {},
   "outputs": [],
   "source": [
    "plot_model_diagnostics(df_ri, 'Model - AOS costs','RI - Complex', df_ri['modelAOS costs_ri_complex_fitted_values'], df_ri['modelAOS costs_ri_complex_residuals'], df_ri['modelAOS costs_ri_complex_random_intercepts'])"
   ]
  },
  {
   "cell_type": "code",
   "execution_count": null,
   "id": "218",
   "metadata": {},
   "outputs": [],
   "source": [
    "fig,ax = plt.subplots(figsize = (10,5))\n",
    "sm.qqplot(df_ri['modelAOS costs_ri_complex_residuals'], line='s', ax = ax, markersize=0.5)\n",
    "plt.show()"
   ]
  },
  {
   "cell_type": "code",
   "execution_count": null,
   "id": "219",
   "metadata": {},
   "outputs": [],
   "source": [
    "from scipy.stats import norm, uniform\n"
   ]
  },
  {
   "cell_type": "code",
   "execution_count": null,
   "id": "220",
   "metadata": {},
   "outputs": [],
   "source": [
    "fig,ax = plt.subplots(figsize = (5,5))\n",
    "sm.qqplot(df_ri['modelAOS costs_ri_complex_residuals'],norm, fit=True, line='45', ax = ax, markersize=0.5)\n",
    "plt.show()"
   ]
  },
  {
   "cell_type": "code",
   "execution_count": null,
   "id": "221",
   "metadata": {},
   "outputs": [],
   "source": [
    "fig,ax = plt.subplots(figsize = (5,5))\n",
    "sm.qqplot(df_ri['modelAOS costs_ri_complex_residuals'], line='s', ax = ax, markersize=0.5)\n",
    "plt.show()"
   ]
  },
  {
   "cell_type": "code",
   "execution_count": null,
   "id": "222",
   "metadata": {},
   "outputs": [],
   "source": [
    "# plot_model_diagnostics(df_sample_rs, 'Model - AOS costs','RS - Complex', df_sample_rs['modelAOS costs_rs_complex_fitted_values'], df_sample_rs['modelAOS costs_rs_complex_residuals'], df_sample_rs['modelAOS costs_rs_complex_random_intercepts'])"
   ]
  },
  {
   "cell_type": "markdown",
   "id": "223",
   "metadata": {},
   "source": [
    "In linear mixed-effects models, the concept of R2 (coefficient of determination) is not as straightforward as in simple linear regression due to the presence of random effects. However, there are methods to calculate pseudo-R2 values that can give you an idea of the variance explained by the model. These pseudo-R2 values are typically categorized into two types: Marginal R2 and conditional R2.\n",
    "\n",
    "Marginal $R^2$ (also known as $R_m^2$):\n",
    "Represents the variance explained by the fixed effects alone.\n",
    "\n",
    "Conditional $R^2$ (also known as $R_c^2$): Represents the variance explained by both the fixed and random effects.\n",
    "\n",
    "**WARNING** This way of calculating var_random is incorrect and there is no easy way to compute it with statsmodels"
   ]
  },
  {
   "cell_type": "code",
   "execution_count": null,
   "id": "224",
   "metadata": {},
   "outputs": [],
   "source": [
    "# Calculate the variance components\n",
    "var_fixed = np.var(me_intercept_complex_model_sample.fittedvalues)\n",
    "var_random = sum([np.var(random_effect) for random_effect in me_intercept_complex_model_sample.random_effects.values()])\n",
    "var_resid = np.var(me_intercept_complex_model_sample.resid)\n",
    "\n",
    "# Calculate marginal R^2\n",
    "r2_marginal = var_fixed / (var_fixed + var_random + var_resid)\n",
    "\n",
    "# Calculate conditional R^2\n",
    "r2_conditional = (var_fixed + var_random) / (var_fixed + var_random + var_resid)\n",
    "\n",
    "print(f\"Marginal R^2: {r2_marginal}\")\n",
    "print(f\"Conditional R^2: {r2_conditional}\")"
   ]
  },
  {
   "cell_type": "code",
   "execution_count": null,
   "id": "225",
   "metadata": {},
   "outputs": [],
   "source": [
    "df_ri[df_ri.uuid == '664deadf-902c-4bea-9e95-8e523d88c0f0'][['uuid','year','NBAGE','CDPHYSSEXE','CDLANGUE','PRESTATIONS_BRUTES_AOS','PRESTATIONS_BRUTES_LCA','modelAOS costs_ri_complex_residuals','n_inpatient_hosp','n_outpatient_hosp','ihs_cost_aos','ihs_cost_lca','modelAOS costs_ri_complex_fitted_values']]"
   ]
  },
  {
   "cell_type": "code",
   "execution_count": null,
   "id": "226",
   "metadata": {},
   "outputs": [],
   "source": [
    "df_ri.groupby('n_month_inpatienthosp_log')['modelAOS costs_ri_complex_residuals'].mean().plot.bar()"
   ]
  },
  {
   "cell_type": "code",
   "execution_count": null,
   "id": "227",
   "metadata": {},
   "outputs": [],
   "source": [
    "\n",
    "# Calculate the z-score for each student's height\n",
    "z = np.abs(stats.zscore(df['ihs_cost_aos']))\n",
    "\n",
    "# Identify outliers as students with a z-score greater than 3\n",
    "threshold = 3\n",
    "outliers = df[z > threshold]"
   ]
  },
  {
   "cell_type": "code",
   "execution_count": null,
   "id": "228",
   "metadata": {},
   "outputs": [],
   "source": [
    "gp_outliers_wellmodeled = outliers[outliers['modelAOS costs_ri_complex_residuals'].between(-0.3,0.3)][['uuid','year','NBAGE','PRESTATIONS_BRUTES_AOS','n_atc','n_month_inpatienthosp']]"
   ]
  },
  {
   "cell_type": "code",
   "execution_count": null,
   "id": "229",
   "metadata": {},
   "outputs": [],
   "source": [
    "gp_outliers_badmodeled = outliers[outliers['modelAOS costs_ri_complex_residuals'].between(-1,1) == False][['uuid','year','NBAGE','PRESTATIONS_BRUTES_AOS','n_atc','n_month_inpatienthosp']]"
   ]
  },
  {
   "cell_type": "code",
   "execution_count": null,
   "id": "230",
   "metadata": {},
   "outputs": [],
   "source": [
    "gp_outliers_badmodeled.mean()"
   ]
  },
  {
   "cell_type": "code",
   "execution_count": null,
   "id": "231",
   "metadata": {},
   "outputs": [],
   "source": [
    "gp_outliers_wellmodeled.mean()"
   ]
  },
  {
   "cell_type": "code",
   "execution_count": null,
   "id": "232",
   "metadata": {},
   "outputs": [],
   "source": [
    "outliers.ihs_cost_aos.plot.hist(bins = 100)"
   ]
  },
  {
   "cell_type": "code",
   "execution_count": null,
   "id": "233",
   "metadata": {},
   "outputs": [],
   "source": [
    "outliers.filter(regex='PCG|hosp')"
   ]
  },
  {
   "cell_type": "code",
   "execution_count": null,
   "id": "234",
   "metadata": {},
   "outputs": [],
   "source": [
    "df[(df.locdrhosp == 1)&(df.n_month_inpatienthosp == 0)]"
   ]
  },
  {
   "cell_type": "code",
   "execution_count": null,
   "id": "235",
   "metadata": {},
   "outputs": [],
   "source": [
    "outliers[outliers.PRESTATIONS_BRUTES_AOS < 100].shape[0]"
   ]
  },
  {
   "cell_type": "code",
   "execution_count": null,
   "id": "236",
   "metadata": {},
   "outputs": [],
   "source": [
    "outliers.shape[0]"
   ]
  },
  {
   "cell_type": "code",
   "execution_count": null,
   "id": "237",
   "metadata": {},
   "outputs": [],
   "source": [
    "df_sample.groupby('n_atc')['PRESTATIONS_BRUTES_AOS'].mean().plot.bar()"
   ]
  },
  {
   "cell_type": "markdown",
   "id": "238",
   "metadata": {},
   "source": [
    "## Spatial variations"
   ]
  },
  {
   "cell_type": "code",
   "execution_count": null,
   "id": "239",
   "metadata": {},
   "outputs": [],
   "source": [
    "# Obtain the residuals\n",
    "residuals = model_0.resid\n",
    "# Obtain the fitted values\n",
    "fitted_values = model_0.fittedvalues\n",
    "\n",
    "df_treated_filtered['model0_fitted_values'] = fitted_values\n",
    "df_treated_filtered['model0_residuals'] = residuals"
   ]
  },
  {
   "cell_type": "code",
   "execution_count": null,
   "id": "240",
   "metadata": {},
   "outputs": [],
   "source": [
    "base_formula = \"ihs_cost_lca ~\"\n",
    "# Model 0: Unadjusted\n",
    "model_0_lca = smf.mixedlm(base_formula + '1', \n",
    "                      data=df_treated_filtered, \n",
    "                      groups=df_treated_filtered['uuid']).fit(reml=False)"
   ]
  },
  {
   "cell_type": "code",
   "execution_count": null,
   "id": "241",
   "metadata": {},
   "outputs": [],
   "source": [
    "# Obtain the residuals\n",
    "residuals = model_0_lca.resid\n",
    "# Obtain the fitted values\n",
    "fitted_values = model_0_lca.fittedvalues\n",
    "\n",
    "df_treated_filtered['model0_lca_fitted_values'] = fitted_values\n",
    "df_treated_filtered['model0_lca_residuals'] = residuals"
   ]
  },
  {
   "cell_type": "code",
   "execution_count": null,
   "id": "242",
   "metadata": {},
   "outputs": [],
   "source": [
    "from scipy import stats\n",
    "fig = plt.figure(figsize = (16, 9))\n",
    "ax = fig.add_subplot(111)\n",
    "\n",
    "sm.qqplot(model_0_lca.resid, dist = stats.norm, line = 's', ax = ax)\n",
    "\n",
    "ax.set_title(\"Q-Q Plot\")"
   ]
  },
  {
   "cell_type": "markdown",
   "id": "243",
   "metadata": {},
   "source": [
    "## Spatial analyses"
   ]
  },
  {
   "cell_type": "code",
   "execution_count": null,
   "id": "244",
   "metadata": {},
   "outputs": [],
   "source": [
    "from scipy.spatial import cKDTree\n",
    "from libpysal.weights.distance import get_points_array"
   ]
  },
  {
   "cell_type": "code",
   "execution_count": null,
   "id": "245",
   "metadata": {},
   "outputs": [],
   "source": [
    "# df_spatial = df_treated_filtered[['uuid','NOANNEE','year','PRESTATIONS_BRUTES_AOS','PRESTATIONS_BRUTES_LCA','ihs_cost_aos','ihs_cost_lca','geometry']]"
   ]
  },
  {
   "cell_type": "code",
   "execution_count": null,
   "id": "246",
   "metadata": {},
   "outputs": [],
   "source": [
    "weights = lps.weights.KNN(cKDTree(get_points_array(df_treated_filtered.geometry)), 128)"
   ]
  },
  {
   "cell_type": "code",
   "execution_count": null,
   "id": "247",
   "metadata": {},
   "outputs": [],
   "source": [
    "import scipy.sparse\n",
    "from libpysal.weights import WSP"
   ]
  },
  {
   "cell_type": "code",
   "execution_count": null,
   "id": "248",
   "metadata": {},
   "outputs": [],
   "source": [
    "getis_values_1 = pyspace.compute_getis(df_treated_filtered, 'model0_residuals', weights, 999, transform_type='B', p_001=False)"
   ]
  },
  {
   "cell_type": "code",
   "execution_count": null,
   "id": "249",
   "metadata": {},
   "outputs": [],
   "source": [
    "getis_values_2 = pyspace.compute_getis(df_treated_filtered, 'ihs_cost_aos', weights, 999, transform_type='B', p_001=False)"
   ]
  },
  {
   "cell_type": "code",
   "execution_count": null,
   "id": "250",
   "metadata": {},
   "outputs": [],
   "source": [
    "getis_values_3 = pyspace.compute_getis(df_treated_filtered, 'model0_residuals', weights, 999, transform_type='B', p_001=False)"
   ]
  },
  {
   "cell_type": "code",
   "execution_count": null,
   "id": "251",
   "metadata": {},
   "outputs": [],
   "source": [
    "fig, ax = pyspace.plotGetisMap(df_treated_filtered, \"ihs_cost_aos_G_cl\", markersize_s=0.0001, markersize_l=0.8, p_001=False, commune_name=False)"
   ]
  },
  {
   "cell_type": "code",
   "execution_count": null,
   "id": "252",
   "metadata": {},
   "outputs": [],
   "source": [
    "fig, ax = pyspace.plotGetisMap(df_treated_filtered, \"model0_residuals_G_cl\", markersize_s=0.0001, markersize_l=0.8, p_001=False, commune_name=False)"
   ]
  },
  {
   "cell_type": "code",
   "execution_count": null,
   "id": "253",
   "metadata": {},
   "outputs": [],
   "source": [
    "getis_values_1 = pyspace.compute_getis(df_treated_filtered, 'ihs_cost_lca', weights, 999, transform_type='B', p_001=False)"
   ]
  },
  {
   "cell_type": "code",
   "execution_count": null,
   "id": "254",
   "metadata": {},
   "outputs": [],
   "source": [
    "getis_values_2 = pyspace.compute_getis(df_treated_filtered, 'model0_lca_residuals', weights, 999, transform_type='B', p_001=False)"
   ]
  },
  {
   "cell_type": "code",
   "execution_count": null,
   "id": "255",
   "metadata": {},
   "outputs": [],
   "source": [
    "getis_values_3 = pyspace.compute_getis(df_treated_filtered, 'model0_lca_fitted_values', weights, 999, transform_type='B', p_001=False)"
   ]
  },
  {
   "cell_type": "code",
   "execution_count": null,
   "id": "256",
   "metadata": {},
   "outputs": [],
   "source": [
    "fig, ax = pyspace.plotGetisMap(df_treated_filtered, \"ihs_cost_lca_G_cl\", markersize_s=0.01, markersize_l=0.1, p_001=False, commune_name=False)"
   ]
  },
  {
   "cell_type": "code",
   "execution_count": null,
   "id": "257",
   "metadata": {},
   "outputs": [],
   "source": [
    "fig, ax = pyspace.plotGetisMap(df_treated_filtered, \"model0_lca_residuals_G_cl\", markersize_s=0.0001, markersize_l=0.8, p_001=False, commune_name=False)"
   ]
  },
  {
   "cell_type": "code",
   "execution_count": null,
   "id": "258",
   "metadata": {},
   "outputs": [],
   "source": [
    "fig, ax = pyspace.plotGetisMap(df_treated_filtered, \"model0_lca_fitted_values_G_cl\", markersize_s=0.01, markersize_l=0.1, p_001=False, commune_name=False)"
   ]
  },
  {
   "cell_type": "code",
   "execution_count": null,
   "id": "259",
   "metadata": {},
   "outputs": [],
   "source": [
    "fig, ax = pyspace.plot_getis_by_class(df_treated_filtered,'model0_lca_residuals_G_cl', 'model0_lca_residuals', 'PRESTATIONS CAM', 8, 12, 8, 8, p_001=False, showfliers = False)"
   ]
  },
  {
   "cell_type": "code",
   "execution_count": null,
   "id": "260",
   "metadata": {},
   "outputs": [],
   "source": [
    "fig, ax = pyspace.plot_getis_by_class(df_treated_filtered,'model0_lca_fitted_values_G_cl', 'model0_lca_fitted_values', 'PRESTATIONS CAM', 8, 12, 8, 8, p_001=False, showfliers = False)"
   ]
  },
  {
   "cell_type": "markdown",
   "id": "261",
   "metadata": {},
   "source": [
    "## sensitivity analysis - What happens if we simply aggregate the 5 years?"
   ]
  },
  {
   "cell_type": "code",
   "execution_count": null,
   "id": "262",
   "metadata": {},
   "outputs": [],
   "source": [
    "df_aggregated = df_treated_filtered.groupby('uuid').sum()"
   ]
  },
  {
   "cell_type": "code",
   "execution_count": null,
   "id": "263",
   "metadata": {},
   "outputs": [],
   "source": [
    "weights = lps.weights.KNN(cKDTree(get_points_array(df_treated_filtered.geometry)), 32)"
   ]
  }
 ],
 "metadata": {
  "kernelspec": {
   "display_name": "py311",
   "language": "python",
   "name": "py311"
  },
  "language_info": {
   "codemirror_mode": {
    "name": "ipython",
    "version": 3
   },
   "file_extension": ".py",
   "mimetype": "text/x-python",
   "name": "python",
   "nbconvert_exporter": "python",
   "pygments_lexer": "ipython3",
   "version": "3.11.9"
  }
 },
 "nbformat": 4,
 "nbformat_minor": 5
}
