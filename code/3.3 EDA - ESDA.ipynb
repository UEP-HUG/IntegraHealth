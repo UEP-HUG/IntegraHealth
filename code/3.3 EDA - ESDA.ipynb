{
 "cells": [
  {
   "cell_type": "code",
   "execution_count": null,
   "id": "0",
   "metadata": {},
   "outputs": [],
   "source": [
    "import pandas as pd\n",
    "import os\n",
    "os.environ['USE_PYGEOS'] = '0'\n",
    "import geopandas as gpd\n",
    "import networkx as nx\n",
    "from pathlib import Path\n",
    "import networkx as nx\n",
    "import matplotlib.pyplot as plt\n",
    "import numpy as np\n",
    "from sklearn.preprocessing import MinMaxScaler\n",
    "import sys\n",
    "sys.path.append('/Users/david/Dropbox/PhD/Scripts/Spatial analyses')\n",
    "import pyspace\n",
    "import libpysal as lps\n",
    "from scipy.spatial import cKDTree\n",
    "from libpysal.weights.distance import get_points_array\n",
    "from esda import fdr\n",
    "from importlib import reload\n",
    "pd.set_option('display.max_rows', 500)\n",
    "reload(pyspace)\n",
    "import seaborn as sns\n",
    "from esda.moran import Moran\n",
    "# sns.set_theme(font = 'Helvetica')\n",
    "%matplotlib inline\n",
    "from numba import NumbaDeprecationWarning\n",
    "from matplotlib.patheffects import withStroke\n",
    "import pyogrio\n",
    "import warnings\n",
    "import esda\n",
    "# Suppress NumbaDeprecationWarning\n",
    "warnings.filterwarnings(\"ignore\", category=NumbaDeprecationWarning)"
   ]
  },
  {
   "cell_type": "code",
   "execution_count": null,
   "id": "1",
   "metadata": {},
   "outputs": [],
   "source": [
    "# data_folder = Path('../data')\n",
    "data_folder  = Path('../../SanteIntegra/Data/')\n",
    "results_folder = Path('../output')"
   ]
  },
  {
   "cell_type": "code",
   "execution_count": null,
   "id": "2",
   "metadata": {},
   "outputs": [],
   "source": [
    "data = pd.read_parquet(data_folder/'processed'/'df_treated_filtered_nominors.parquet.gzip')\n",
    "data = gpd.GeoDataFrame(data, crs = 4326, geometry=gpd.points_from_xy(data.lon_masked, data.lat_masked))\n",
    "\n",
    "data = data.to_crs(2056)\n",
    "data['E'], data['N'] = data['geometry'].x, data['geometry'].y\n",
    "\n",
    "data_final = data[data.treatment.isnull()==False]"
   ]
  },
  {
   "cell_type": "code",
   "execution_count": null,
   "id": "3",
   "metadata": {},
   "outputs": [],
   "source": [
    "data_2017 = data_final[data_final.NOANNEE == 2017]\n",
    "data_2018 = data_final[data_final.NOANNEE == 2018]\n",
    "data_2019 = data_final[data_final.NOANNEE == 2019]\n",
    "data_2020 = data_final[data_final.NOANNEE == 2020]\n",
    "data_2021 = data_final[data_final.NOANNEE == 2021]\n",
    "\n",
    "data_2017 = gpd.GeoDataFrame(data_2017, crs = 2056, geometry = data_2017['geometry'] )\n",
    "data_2018 = gpd.GeoDataFrame(data_2018, crs = 2056, geometry = data_2018['geometry'] )\n",
    "data_2019 = gpd.GeoDataFrame(data_2019, crs = 2056, geometry = data_2019['geometry'] )\n",
    "data_2020 = gpd.GeoDataFrame(data_2020, crs = 2056, geometry = data_2020['geometry'] )\n",
    "data_2021 = gpd.GeoDataFrame(data_2021, crs = 2056, geometry = data_2021['geometry'] )"
   ]
  },
  {
   "cell_type": "code",
   "execution_count": null,
   "id": "4",
   "metadata": {},
   "outputs": [],
   "source": [
    "cantons = gpd.read_file(\n",
    "    '/Users/david/Dropbox/PhD/Data/Databases/SITG/SHAPEFILE_LV95_LN02/swissBOUNDARIES3D_1_3_TLM_KANTONSGEBIET.shp')\n",
    "communes = gpd.read_file(\n",
    "    '/Users/david/Dropbox/PhD/Data/Databases/SITG/SHAPEFILE_LV95_LN02/swissBOUNDARIES3D_1_3_TLM_HOHEITSGEBIET.shp')"
   ]
  },
  {
   "cell_type": "markdown",
   "id": "5",
   "metadata": {},
   "source": [
    "# Spatial analyses\n",
    "## Data as individual points\n",
    "### Global autocorrelation of main features\n",
    "\n",
    "- AOS Yearly Spending\n",
    "- LCA Yearly Spending"
   ]
  },
  {
   "cell_type": "code",
   "execution_count": null,
   "id": "6",
   "metadata": {},
   "outputs": [],
   "source": [
    "individual_results_folder = results_folder/'Individual'"
   ]
  },
  {
   "cell_type": "code",
   "execution_count": null,
   "id": "7",
   "metadata": {},
   "outputs": [],
   "source": [
    "globalautocorr_result_folder = individual_results_folder/'Global Autocorrelation'\n",
    "if not os.path.exists(globalautocorr_result_folder):\n",
    "    os.makedirs(globalautocorr_result_folder)"
   ]
  },
  {
   "cell_type": "code",
   "execution_count": null,
   "id": "8",
   "metadata": {},
   "outputs": [],
   "source": [
    "def GlobalMoranI(db, col, year, distance, w, result_folder, seed=12345):\n",
    "    xlabel = f\"Global Moran's I - {col} - {year} - {distance}NN\"\n",
    "    file_path = result_folder / f'{xlabel}.pdf'\n",
    "\n",
    "    # Check if the file already exists\n",
    "    if file_path.exists():\n",
    "        print(f\"File '{file_path}' already exists. Skipping execution.\")\n",
    "        return None\n",
    "    \n",
    "    # Compute Moran's I\n",
    "    y = db[col]\n",
    "    np.random.seed(seed)\n",
    "    mi = esda.moran.Moran(y, w)\n",
    "    print(col, year, distance, mi.I, mi.p_sim, mi.z_sim)\n",
    "    \n",
    "    # Moran's I plot\n",
    "    sns.kdeplot(mi.sim, fill=True)\n",
    "    plt.vlines(mi.I, 0, plt.ylim()[1]*0.1, color='r', label='Moran\\'s I')\n",
    "    plt.vlines(mi.EI, 0, plt.ylim()[1]*0.1, label='Expected I')\n",
    "    plt.xlabel(xlabel)\n",
    "    plt.ylabel('Density')\n",
    "    plt.title('Moran\\'s I Distribution')\n",
    "    plt.legend()\n",
    "    # Save figure\n",
    "    plt.savefig(file_path, dpi=320, bbox_inches='tight')\n",
    "    plt.close()  # Close the plot after saving\n",
    "\n",
    "    return mi"
   ]
  },
  {
   "cell_type": "code",
   "execution_count": null,
   "id": "9",
   "metadata": {},
   "outputs": [],
   "source": [
    "col_names = ['PRESTATIONS_BRUTES_AOS', 'PRESTATIONS_BRUTES_LCA']  \n",
    "\n",
    "# Calculate weights once for each year and store them\n",
    "years = [2017, 2018, 2019, 2020, 2021]\n",
    "weights_by_year = {}\n",
    "nn = 32\n",
    "\n",
    "for year, df in zip(years, [data_2017, data_2018, data_2019, data_2020, data_2021]):\n",
    "    # Calculate weights here (w)\n",
    "    # Store the weights in the dictionary\n",
    "    if year not in weights_by_year.keys():\n",
    "        weights_by_year[year] = lps.weights.KNN(cKDTree(get_points_array(df.geometry.centroid)), nn)\n",
    "\n",
    "\n",
    "# Now iterate over each column and use the pre-calculated weights\n",
    "for col_name in col_names:\n",
    "    for year, df in zip(years, [data_2017, data_2018, data_2019, data_2020, data_2021]):\n",
    "        w = weights_by_year[year]  # Retrieve pre-calculated weights\n",
    "        mi = GlobalMoranI(db=df, col=col_name, year=year, distance=nn, w=w, result_folder=globalautocorr_result_folder)"
   ]
  },
  {
   "cell_type": "markdown",
   "id": "10",
   "metadata": {},
   "source": [
    "### Local autocorrelation using Getis Ord Gi* statistic"
   ]
  },
  {
   "cell_type": "code",
   "execution_count": null,
   "id": "11",
   "metadata": {},
   "outputs": [],
   "source": [
    "localautocorr_result_folder = individual_results_folder/'Local Autocorrelation'\n",
    "if not os.path.exists(localautocorr_result_folder):\n",
    "    os.makedirs(localautocorr_result_folder)"
   ]
  },
  {
   "cell_type": "code",
   "execution_count": null,
   "id": "12",
   "metadata": {},
   "outputs": [],
   "source": [
    "# Now iterate over each column and use the pre-calculated weights\n",
    "for col_name in col_names:\n",
    "    for year, df in zip(years, [data_2017, data_2018, data_2019, data_2020, data_2021]):\n",
    "        w = weights_by_year[year]  # Retrieve pre-calculated weights\n",
    "        getis_values = pyspace.compute_getis(df, col_name, w, 999, transform_type='B', p_001=False)\n",
    "        fig, ax = pyspace.plotGetisMap(df, f\"{col_name}_G_cl\", markersize_s=0.01, markersize_l=0.1, p_001=False, commune_name=False)\n",
    "        xlabel = f\"Getis - {col_name} - {year} - {nn}NN\"\n",
    "        file_path = localautocorr_result_folder / f'{xlabel}.png'\n",
    "        plt.savefig(file_path, dpi=1000, bbox_inches='tight')"
   ]
  },
  {
   "cell_type": "code",
   "execution_count": null,
   "id": "13",
   "metadata": {},
   "outputs": [],
   "source": [
    "dict_labels = {'PRESTATIONS_BRUTES_AOS':'Conv. Med. Yearly Spending (CHF)',\n",
    "              'PRESTATIONS_BRUTES_LCA':'Compl. Med. Yearly Spending (CHF)',\n",
    "              'ihs_cost_lca':'IHS transformed CAM claims amount'}"
   ]
  },
  {
   "cell_type": "code",
   "execution_count": null,
   "id": "14",
   "metadata": {},
   "outputs": [],
   "source": [
    "df_aos_costs = data_final[data_final.PRESTATIONS_BRUTES_AOS > data_final.MTFRANCHISECOUV]\n",
    "df_lca_costs = data_final[data_final.PRESTATIONS_BRUTES_LCA > 0]\n",
    "df_cam_costs = data_final[data_final.PRESTATIONS_BRUTES_CAM > 0]"
   ]
  },
  {
   "cell_type": "markdown",
   "id": "15",
   "metadata": {},
   "source": [
    "### AOS USE"
   ]
  },
  {
   "cell_type": "code",
   "execution_count": null,
   "id": "16",
   "metadata": {},
   "outputs": [],
   "source": [
    "avg_prestation_aos_by_canton = df_aos_costs.groupby('CANTON_NAME', observed=True)['PRESTATIONS_BRUTES_AOS'].median()\n",
    "rank = avg_prestation_aos_by_canton.argsort().argsort()   # http://stackoverflow.com/a/6266510/1628638\n",
    "rank = rank.sort_values().index.tolist()\n",
    "pal = sns.color_palette(\"Greens\", len(avg_prestation_aos_by_canton))\n",
    "fig, ax = plt.subplots(figsize = (8,8))\n",
    "sns.boxplot(data=df_aos_costs, y=\"PRESTATIONS_BRUTES_AOS\",x = 'CANTON_NAME',hue = 'lang_region',showfliers = False,dodge = False, order = rank, ax = ax)\n",
    "# ax.set_ylim(0,5000)\n",
    "plt.xticks(rotation = 90)\n",
    "plt.legend(title='')\n",
    "sns.despine()\n",
    "plt.grid(axis = 'y')\n",
    "plt.xlabel('Cantons', fontsize=12)\n",
    "plt.ylabel('Annual CM (MHI) expenditures (CHF)', fontsize=12)\n",
    "plt.savefig(results_folder/'Avg_CM_MHI_by_canton.png', dpi = 300, bbox_inches='tight')"
   ]
  },
  {
   "cell_type": "code",
   "execution_count": null,
   "id": "17",
   "metadata": {},
   "outputs": [],
   "source": [
    "gdf_names = communes[communes.NAME.isin(['Lausanne','Genève','Zürich','Basel','Bern'])]"
   ]
  },
  {
   "cell_type": "code",
   "execution_count": null,
   "id": "18",
   "metadata": {},
   "outputs": [],
   "source": [
    "gdf_names = gdf_names[gdf_names.EINWOHNERZ.isnull()==False]"
   ]
  },
  {
   "cell_type": "code",
   "execution_count": null,
   "id": "19",
   "metadata": {},
   "outputs": [],
   "source": [
    "col_name = 'ihs_cost_aos'\n",
    "nn=32\n",
    "df = df_aos_costs[~df_aos_costs[col_name].isnull()]\n",
    "\n",
    "w = lps.weights.KNN(cKDTree(get_points_array(df.geometry.centroid)), nn)\n",
    "getis_values = pyspace.compute_getis(df, col_name, w, 999, transform_type='B', p_001=False)\n",
    "fig, ax = pyspace.plotGetisMap(df, f\"{col_name}_G_cl\", markersize_s=0.08, markersize_l=1, p_001=False, commune_name=False)\n",
    "for x, y, label in zip(gdf_names.geometry.centroid.x, gdf_names.geometry.centroid.y, gdf_names['NAME']):\n",
    "    ax.text(x, y, label, fontsize=8, ha='right', va='bottom',\n",
    "            path_effects=[withStroke(linewidth=3, foreground='white')], zorder=8)\n",
    "xlabel = f\"Getis - {col_name} - {nn}NN\"\n",
    "file_path = localautocorr_result_folder / f'{xlabel}.png'\n",
    "plt.savefig(file_path, dpi=640, bbox_inches='tight')"
   ]
  },
  {
   "cell_type": "code",
   "execution_count": null,
   "id": "20",
   "metadata": {},
   "outputs": [],
   "source": [
    "xlabel = f\"Getis Bar Plot - {col_name} - {nn}NN\"\n",
    "file_path = Path(localautocorr_result_folder) / f'{xlabel}.png'\n",
    "fig, ax = pyspace.plot_getis_by_class(df = df,x = f'{col_name}_G_cl',y = 'PRESTATIONS_BRUTES_AOS', label = 'Annual CM (MHI) expenditures (CHF)', xtick_size=8, title_size=12, xlabel_size=8,ylabel_size= 8, p_001=False, showfliers = False)\n",
    "plt.savefig(file_path, dpi=320, bbox_inches='tight')"
   ]
  },
  {
   "cell_type": "markdown",
   "id": "21",
   "metadata": {},
   "source": [
    "### CAM - SI USE"
   ]
  },
  {
   "cell_type": "code",
   "execution_count": null,
   "id": "22",
   "metadata": {},
   "outputs": [],
   "source": [
    "avg_prestation_aos_by_canton = df_lca_costs.groupby('CANTON_NAME', observed=True)['PRESTATIONS_BRUTES_LCA'].median()\n",
    "rank = avg_prestation_aos_by_canton.argsort().argsort()   # http://stackoverflow.com/a/6266510/1628638\n",
    "rank = rank.sort_values().index.tolist()\n",
    "pal = sns.color_palette(\"Greens\", len(avg_prestation_aos_by_canton))\n",
    "fig, ax = plt.subplots(figsize = (8,8))\n",
    "sns.boxplot(data=df_lca_costs, y=\"PRESTATIONS_BRUTES_LCA\",x = 'CANTON_NAME',hue = 'lang_region',showfliers = False,dodge = False, order = rank, ax = ax)\n",
    "# ax.set_ylim(0,5000)\n",
    "plt.xticks(rotation = 90)\n",
    "plt.legend(title='Language regions')\n",
    "sns.despine()\n",
    "plt.grid(axis = 'y')\n",
    "plt.xlabel('Cantons', fontsize=12)\n",
    "plt.ylabel('Annual CAM (SI) expenditures (CHF)', fontsize=12)\n",
    "plt.savefig(results_folder/'Avg_CAM_SI_by_canton.png', dpi = 300, bbox_inches='tight')"
   ]
  },
  {
   "cell_type": "markdown",
   "id": "23",
   "metadata": {},
   "source": [
    "### CAM - MHI USE"
   ]
  },
  {
   "cell_type": "code",
   "execution_count": null,
   "id": "24",
   "metadata": {},
   "outputs": [],
   "source": [
    "avg_prestation_aos_by_canton = df_cam_costs.groupby('CANTON_NAME', observed=True)['PRESTATIONS_BRUTES_CAM'].median()\n",
    "rank = avg_prestation_aos_by_canton.argsort().argsort()   # http://stackoverflow.com/a/6266510/1628638\n",
    "rank = rank.sort_values().index.tolist()\n",
    "pal = sns.color_palette(\"Greens\", len(avg_prestation_aos_by_canton))\n",
    "fig, ax = plt.subplots(figsize = (8,8))\n",
    "sns.boxplot(data=df_cam_costs, y=\"PRESTATIONS_BRUTES_CAM\",x = 'CANTON_NAME',hue = 'lang_region',showfliers = False,dodge = False, order = rank, ax = ax)\n",
    "# ax.set_ylim(0,5000)\n",
    "plt.xticks(rotation = 90)\n",
    "plt.legend(title='Language regions')\n",
    "sns.despine()\n",
    "plt.grid(axis = 'y')\n",
    "plt.xlabel('Cantons', fontsize=12)\n",
    "plt.ylabel('Annual CAM (MHI) expenditures (CHF)', fontsize=12)\n",
    "plt.savefig(results_folder/'Avg_CAM_MHI_by_canton.png', dpi = 300, bbox_inches='tight')"
   ]
  },
  {
   "cell_type": "code",
   "execution_count": null,
   "id": "25",
   "metadata": {},
   "outputs": [],
   "source": [
    "col_name = 'ihs_cost_cam'\n",
    "nn=32\n",
    "df = df_cam_costs[~df_cam_costs[col_name].isnull()]\n",
    "\n",
    "w = lps.weights.KNN(cKDTree(get_points_array(df.geometry.centroid)), nn)\n",
    "getis_values = pyspace.compute_getis(df, col_name, w, 999, transform_type='B', p_001=False)\n",
    "fig, ax = pyspace.plotGetisMap(df, f\"{col_name}_G_cl\", markersize_s=0.08, markersize_l=1, p_001=False, commune_name=False)\n",
    "for x, y, label in zip(gdf_names.geometry.centroid.x, gdf_names.geometry.centroid.y, gdf_names['NAME']):\n",
    "    ax.text(x, y, label, fontsize=8, ha='right', va='bottom',\n",
    "            path_effects=[withStroke(linewidth=3, foreground='white')], zorder=8)\n",
    "xlabel = f\"Getis - {col_name} - {nn}NN\"\n",
    "file_path = localautocorr_result_folder / f'{xlabel}.png'\n",
    "plt.savefig(file_path, dpi=640, bbox_inches='tight')"
   ]
  },
  {
   "cell_type": "code",
   "execution_count": null,
   "id": "26",
   "metadata": {},
   "outputs": [],
   "source": [
    "xlabel = f\"Getis Bar Plot - {col_name} - {nn}NN\"\n",
    "file_path = Path(localautocorr_result_folder) / f'{xlabel}.png'\n",
    "fig, ax = pyspace.plot_getis_by_class(df = df,x = f'{col_name}_G_cl',y = 'PRESTATIONS_BRUTES_CAM', label = 'Annual CAM (MHI) expenditures (CHF)', xtick_size=8, title_size=12, xlabel_size=8,ylabel_size= 8, p_001=False, showfliers = False)\n",
    "plt.savefig(file_path, dpi=320, bbox_inches='tight')"
   ]
  },
  {
   "cell_type": "markdown",
   "id": "27",
   "metadata": {},
   "source": [
    "## LCA USE"
   ]
  },
  {
   "cell_type": "code",
   "execution_count": null,
   "id": "28",
   "metadata": {},
   "outputs": [],
   "source": [
    "col_name = 'ihs_cost_lca'\n",
    "nn=32\n",
    "df = df_lca_costs[~df_lca_costs[col_name].isnull()]\n",
    "\n",
    "w = lps.weights.KNN(cKDTree(get_points_array(df.geometry.centroid)), nn)\n",
    "getis_values = pyspace.compute_getis(df, col_name, w, 999, transform_type='B', p_001=False)\n",
    "fig, ax = pyspace.plotGetisMap(df, f\"{col_name}_G_cl\", markersize_s=0.08, markersize_l=1, p_001=False, commune_name=False)\n",
    "\n",
    "for x, y, label in zip(gdf_names.geometry.centroid.x, gdf_names.geometry.centroid.y, gdf_names['NAME']):\n",
    "    ax.text(x, y, label, fontsize=8, ha='right', va='bottom',\n",
    "            path_effects=[withStroke(linewidth=3, foreground='white')], zorder=8)\n",
    "# ax.set_title('A', loc = 'left', size= 16)\n",
    "ax.set_axis_off()  # Hide axes\n",
    "\n",
    "xlabel = f\"Getis - {col_name} - {nn}NN\"\n",
    "file_path = localautocorr_result_folder / f'{xlabel}.png'\n",
    "plt.savefig(file_path, dpi=640, bbox_inches='tight')"
   ]
  },
  {
   "cell_type": "code",
   "execution_count": null,
   "id": "29",
   "metadata": {},
   "outputs": [],
   "source": [
    "xlabel = f\"Getis Bar Plot - {col_name} - {nn}NN\"\n",
    "file_path = Path(localautocorr_result_folder) / f'{xlabel}.png'\n",
    "\n",
    "fig, ax = pyspace.plot_getis_by_class(df = df,x = f'{col_name}_G_cl',y = 'PRESTATIONS_BRUTES_LCA', label = 'Annual CAM (SI) expenditures (CHF)', xtick_size=8, title_size=12, xlabel_size=8,ylabel_size= 8, p_001=False, showfliers = False)\n",
    "plt.savefig(file_path, dpi=320, bbox_inches='tight')"
   ]
  },
  {
   "cell_type": "markdown",
   "id": "30",
   "metadata": {},
   "source": [
    "### Global autocorrelation of main features - Moran's I"
   ]
  },
  {
   "cell_type": "code",
   "execution_count": null,
   "id": "31",
   "metadata": {},
   "outputs": [],
   "source": [
    "from libpysal.weights import Queen, Rook, KNN\n",
    "from libpysal.weights import lat2W, higher_order"
   ]
  },
  {
   "cell_type": "code",
   "execution_count": null,
   "id": "32",
   "metadata": {},
   "outputs": [],
   "source": [
    "agg_results_folder = results_folder/'Aggregated'"
   ]
  },
  {
   "cell_type": "code",
   "execution_count": null,
   "id": "33",
   "metadata": {},
   "outputs": [],
   "source": [
    "globalautocorr_agg_result_folder = agg_results_folder/'Global Autocorrelation'\n",
    "if not os.path.exists(globalautocorr_agg_result_folder):\n",
    "    os.makedirs(globalautocorr_agg_result_folder)"
   ]
  },
  {
   "cell_type": "code",
   "execution_count": null,
   "id": "34",
   "metadata": {},
   "outputs": [],
   "source": [
    "localautocorr_agg_result_folder = agg_results_folder/'Local Autocorrelation'\n",
    "if not os.path.exists(localautocorr_agg_result_folder):\n",
    "    os.makedirs(localautocorr_agg_result_folder)"
   ]
  },
  {
   "cell_type": "code",
   "execution_count": null,
   "id": "35",
   "metadata": {},
   "outputs": [],
   "source": [
    "weights_by_year_h3 = {}\n",
    "weights_by_year_h3_pop_scaled = {}"
   ]
  },
  {
   "cell_type": "code",
   "execution_count": null,
   "id": "36",
   "metadata": {},
   "outputs": [],
   "source": [
    "def get_weights(df, nn, pop_scaled=False):\n",
    "    print('Calculating weights')\n",
    "    w = lps.weights.KNN(cKDTree(get_points_array(df.geometry.centroid)), nn)\n",
    "    if pop_scaled:\n",
    "        print('Scaling weights')\n",
    "        # Adjust weights by the square root of the product of populations\n",
    "        for i, neighbors in w.neighbors.items():\n",
    "            for j in neighbors:\n",
    "                original_weight = w.weights[i][neighbors.index(j)]\n",
    "                adjusted_weight = original_weight *  df['n'].iloc[j]\n",
    "                w.weights[i][neighbors.index(j)] = adjusted_weight\n",
    "                w.transform = 'R'\n",
    "        return w\n",
    "    else:\n",
    "        return w"
   ]
  },
  {
   "cell_type": "code",
   "execution_count": null,
   "id": "37",
   "metadata": {},
   "outputs": [],
   "source": [
    "col_names = ['PRESTATIONS_BRUTES_AOS', 'PRESTATIONS_BRUTES_LCA', 'cds']  # replace with your actual column names\n",
    "# Calculate weights once for each year and store them\n",
    "years = [2017, 2018, 2019, 2020, 2021]\n",
    "nn = 18\n",
    "\n",
    "for col_name in col_names:\n",
    "    if col_name not in weights_by_year_h3.keys():\n",
    "        weights_by_year_h3[col_name] = {}\n",
    "        weights_by_year_h3_pop_scaled[col_name] = {}\n",
    "    for year in years:\n",
    "        print(col_name, year)\n",
    "        # Store the weights in the dictionary\n",
    "        df = h3_500_GM_merged_wfeatures[h3_500_GM_merged_wfeatures.NOANNEE == year]\n",
    "        df_nonull = df[df[col_name].isnull()==False]\n",
    "        if year not in weights_by_year_h3[col_name].keys():\n",
    "            weights_by_year_h3[col_name][year] = get_weights(df_nonull, nn, pop_scaled=False)\n",
    "            weights_by_year_h3_pop_scaled[col_name][year] = get_weights(df_nonull, nn, pop_scaled=True) \n",
    "\n",
    "\n",
    "# Now iterate over each column and use the pre-calculated weights\n",
    "for col_name in col_names:\n",
    "    for year in years:\n",
    "        df = h3_500_GM_merged_wfeatures[h3_500_GM_merged_wfeatures.NOANNEE == year]\n",
    "        df_nonull = df[df[col_name].isnull()==False]\n",
    "        w = weights_by_year_h3[col_name][year]  # Retrieve pre-calculated weights\n",
    "        mi = GlobalMoranI(db=df_nonull, col=col_name, year=year, distance=nn, w=w, result_folder=globalautocorr_agg_result_folder)"
   ]
  },
  {
   "cell_type": "code",
   "execution_count": null,
   "id": "38",
   "metadata": {},
   "outputs": [],
   "source": [
    "year = 2018\n",
    "col_name = 'PRESTATIONS_BRUTES_AOS'\n",
    "for nn in [6,18,36, 72, 144, 288]:\n",
    "    df = h3_500_GM_merged_wfeatures[h3_500_GM_merged_wfeatures.NOANNEE == year]\n",
    "    df_nonull = df[df[col_name].isnull()==False]\n",
    "    w = lps.weights.KNN(cKDTree(get_points_array(df_nonull.geometry.centroid)), nn)  # Retrieve pre-calculated weights\n",
    "    mi = GlobalMoranI(db=df_nonull, col=col_name, year=year, distance=nn, w=w, result_folder=globalautocorr_agg_result_folder)"
   ]
  },
  {
   "cell_type": "markdown",
   "id": "39",
   "metadata": {},
   "source": [
    "### Local autocorrelation with Getis Ord Gi"
   ]
  },
  {
   "cell_type": "code",
   "execution_count": null,
   "id": "40",
   "metadata": {},
   "outputs": [],
   "source": [
    "from esda import fdr"
   ]
  },
  {
   "cell_type": "code",
   "execution_count": null,
   "id": "41",
   "metadata": {},
   "outputs": [],
   "source": [
    "nn = 36"
   ]
  },
  {
   "cell_type": "code",
   "execution_count": null,
   "id": "42",
   "metadata": {},
   "outputs": [],
   "source": [
    "def compute_plot_getis(df_merged, col_names, years, nn, pop_scaled, result_folder):\n",
    "    df_getis = {}\n",
    "    for col_name in col_names:\n",
    "        df_getis[col_name] = {}\n",
    "        for year in years:\n",
    "            df = df_merged[df_merged.NOANNEE == year]\n",
    "            df_nonull = df[df[col_name].notnull()]\n",
    "\n",
    "            if pop_scaled:\n",
    "                w = get_weights(df_nonull, nn, pop_scaled=True)\n",
    "                getis_values = pyspace.compute_getis(df_nonull, col_name, w, 9999, star=False, transform_type='R', p_001=True)\n",
    "\n",
    "            else:\n",
    "                w = get_weights(df_nonull, nn)\n",
    "                getis_values = pyspace.compute_getis(df_nonull, col_name, w, 9999, star=False, transform_type='B', p_001=True)\n",
    "            xlabel = f\"Getis - {col_name} - {year} - {nn}NN\"\n",
    "            file_path = Path(result_folder) / f'{xlabel}.png'\n",
    "            if not file_path.exists():\n",
    "                fig, ax = pyspace.plotGetisMap(df_nonull, f\"{col_name}_G_cl\", markersize_s=0.01, markersize_l=0.1, p_001=True, commune_name=False)\n",
    "                plt.savefig(file_path, dpi=1000, bbox_inches='tight')\n",
    "            \n",
    "            # FDR adjustment\n",
    "            fdr_pvalue = fdr(getis_values.p_sim, 0.05)\n",
    "            df_nonull[f\"{col_name}_G_cl_fdr\"] = df_nonull[f\"{col_name}_G_cl\"]\n",
    "            df_nonull.loc[df_nonull[f\"{col_name}_G_psim\"] >= fdr_pvalue, f\"{col_name}_G_cl_fdr\"] = 'Not significant'\n",
    "            \n",
    "            xlabel_fdr = f\"Getis - {col_name} - {year} - {nn}NN_fdr\"\n",
    "            file_path_fdr = Path(result_folder) / f'{xlabel_fdr}.png'\n",
    "            if not file_path_fdr.exists():\n",
    "                fig, ax = pyspace.plotGetisMap(df_nonull, f\"{col_name}_G_cl_fdr\", markersize_s=0.01, markersize_l=0.1, p_001=True, commune_name=False)\n",
    "                plt.savefig(file_path_fdr, dpi=1000, bbox_inches='tight')\n",
    "            \n",
    "            df_getis[col_name][year] = df_nonull\n",
    "    \n",
    "    return df_getis"
   ]
  },
  {
   "cell_type": "code",
   "execution_count": null,
   "id": "43",
   "metadata": {},
   "outputs": [],
   "source": [
    "# Binary weighting matrix\n",
    "df_getis_results = compute_plot_getis(h3_500_GM_merged_wfeatures, col_names, years, nn, False, localautocorr_agg_result_folder)"
   ]
  },
  {
   "cell_type": "code",
   "execution_count": null,
   "id": "44",
   "metadata": {},
   "outputs": [],
   "source": [
    "# Population scaled weights (more populated h3 have more weights) then row-standardized\n",
    "df_getis_results_pop_scaled = compute_plot_getis(h3_500_GM_merged_wfeatures, col_names, years, nn, True, localautocorr_agg_result_folder/'Population Scaled weights')"
   ]
  },
  {
   "cell_type": "code",
   "execution_count": null,
   "id": "45",
   "metadata": {},
   "outputs": [],
   "source": [
    "dict_labels = {'PRESTATIONS_BRUTES_AOS':'Conv. Med. Yearly Spending (CHF)',\n",
    "              'PRESTATIONS_BRUTES_LCA':'Compl. Med. Yearly Spending (CHF)',\n",
    "              'cds':'Chronic Disease Score (CDS)',\n",
    "              'ihs_cost_lca':'IHS transformed CAM claims amount'}"
   ]
  },
  {
   "cell_type": "markdown",
   "id": "46",
   "metadata": {},
   "source": [
    "### Avg by Getis class - Bar plots"
   ]
  },
  {
   "cell_type": "code",
   "execution_count": null,
   "id": "47",
   "metadata": {},
   "outputs": [],
   "source": [
    "for col_name in col_names:\n",
    "    for year in years:\n",
    "        xlabel = f\"Getis Bar Plot - {col_name} - {year} - {nn}NN\"\n",
    "        file_path = Path(localautocorr_agg_result_folder) / f'{xlabel}.png'\n",
    "\n",
    "        fig, ax = pyspace.plot_getis_by_class(df_getis_results[col_name][year],f'{col_name}_G_cl', col_name, dict_labels[col_name], 8, 12, 8, 8, p_001=True, showfliers = False)\n",
    "        plt.savefig(file_path, dpi=320, bbox_inches='tight')"
   ]
  },
  {
   "cell_type": "code",
   "execution_count": null,
   "id": "48",
   "metadata": {},
   "outputs": [],
   "source": [
    "for col_name in col_names:\n",
    "    for year in years:\n",
    "        xlabel = f\"Getis Bar Plot - {col_name} - {year} - {nn}NN\"\n",
    "        file_path = Path(localautocorr_agg_result_folder/'Population Scaled weights') / f'{xlabel}.png'\n",
    "\n",
    "        fig, ax = pyspace.plot_getis_by_class(df_getis_results_pop_scaled[col_name][year],f'{col_name}_G_cl', col_name, dict_labels[col_name], 8, 12, 8, 8, p_001=True, showfliers = False)\n",
    "        plt.savefig(file_path, dpi=320, bbox_inches='tight')"
   ]
  }
 ],
 "metadata": {
  "kernelspec": {
   "display_name": "MGWR",
   "language": "python",
   "name": "mgwr"
  },
  "language_info": {
   "codemirror_mode": {
    "name": "ipython",
    "version": 3
   },
   "file_extension": ".py",
   "mimetype": "text/x-python",
   "name": "python",
   "nbconvert_exporter": "python",
   "pygments_lexer": "ipython3",
   "version": "3.8.18"
  }
 },
 "nbformat": 4,
 "nbformat_minor": 5
}
