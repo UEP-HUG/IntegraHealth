{
 "cells": [
  {
   "cell_type": "code",
   "execution_count": null,
   "id": "0",
   "metadata": {},
   "outputs": [],
   "source": [
    "import os\n",
    "import glob\n",
    "import sys\n",
    "from pathlib import Path\n",
    "import psycopg2\n",
    "\n",
    "os.environ['USE_PYGEOS'] = '0'  \n",
    "import numpy as np\n",
    "import pandas as pd\n",
    "import matplotlib.pyplot as plt\n",
    "import seaborn as sns\n",
    "import geopandas as gpd\n",
    "import geoplot\n",
    "import geoplot.crs as gcrs\n",
    "import rasterio\n",
    "from rasterio.mask import mask\n",
    "from rasterio.plot import show\n",
    "import fiona\n",
    "import libpysal as lps\n",
    "from scipy.spatial import cKDTree\n",
    "from libpysal.weights.distance import get_points_array\n",
    "from esda import fdr\n",
    "import contextily as ctx\n",
    "from shapely.geometry import Point, Polygon\n",
    "\n",
    "sys.path.append('/Users/david/Dropbox/PhD/Scripts/Spatial analyses')\n",
    "import pyspace\n",
    "import utils\n",
    "from utils import optimize_memory_df, feature_map, show_values, sizeof_fmt, find_intersection, read_data\n",
    "\n",
    "# Local imports\n",
    "from importlib import reload  # Are you using this somewhere?\n",
    "\n",
    "plt.rc('font', family='Helvetica')  # Try to keep configuration parameters together, maybe in a single configuration function or at the beginning of your script.\n",
    "sns.set_theme(style=\"white\")\n",
    "sns.set_context(\"paper\")"
   ]
  },
  {
   "cell_type": "code",
   "execution_count": null,
   "id": "1",
   "metadata": {},
   "outputs": [],
   "source": [
    "# Define base data folder\n",
    "data_folder  = Path('../Data/')\n",
    "# Define base result folder\n",
    "result_folder = Path('../Results')"
   ]
  },
  {
   "cell_type": "markdown",
   "id": "2",
   "metadata": {},
   "source": [
    "# Aims of the notebook\n",
    "\n",
    "## LCA\n",
    "\n",
    "### Multiple therapies problem\n",
    "\n",
    "Basically, for each patient-month pair, we have the amount spent by therapist but therapists can have multiple specialties. \n",
    "\n",
    "- The aggregation based on string similarity improved the situation by reducing the total number of distinct therapies (+ collapsing numerous therapies with different spelling or wording).\n"
   ]
  },
  {
   "cell_type": "code",
   "execution_count": null,
   "id": "3",
   "metadata": {},
   "outputs": [],
   "source": [
    "df_prestation_lca = read_data(data_folder/'processed'/'df_prestation_lca_preprocessed.parquet.gzip')"
   ]
  },
  {
   "cell_type": "markdown",
   "id": "4",
   "metadata": {},
   "source": [
    "### Multiple therapies problem\n",
    "\n",
    "Now solved and included in the main Feature engineering notebook\n"
   ]
  },
  {
   "cell_type": "code",
   "execution_count": null,
   "id": "5",
   "metadata": {},
   "outputs": [],
   "source": [
    "df_dispensateurs_lca_nodupli = pd.read_parquet(\n",
    "    data_folder/'processed'/'df_dispensateurs_lca_nodupli.parquet.gzip')\n",
    "\n",
    "df_dispensateurs_lca_exploded = pd.read_parquet(data_folder/'processed'/'df_dispensateur_lca_exploded.parquet.gzip')\n"
   ]
  },
  {
   "cell_type": "code",
   "execution_count": null,
   "id": "6",
   "metadata": {},
   "outputs": [],
   "source": [
    "df_dispensateurs_lca_nodupli"
   ]
  },
  {
   "cell_type": "code",
   "execution_count": null,
   "id": "7",
   "metadata": {},
   "outputs": [],
   "source": [
    "df_prestation_lca = pd.merge(df_prestation_lca, \n",
    "                             df_dispensateurs_lca_nodupli[['ID_DISPENSATEUR','THERAPIES_SIMPLIFIED_SET','n_therapies']], \n",
    "                             on = 'ID_DISPENSATEUR', \n",
    "                             how = 'left')\n"
   ]
  },
  {
   "cell_type": "code",
   "execution_count": null,
   "id": "8",
   "metadata": {},
   "outputs": [],
   "source": [
    "print(\"Nombre de thérapeutes = \", df_dispensateurs_lca_nodupli.ID_DISPENSATEUR.nunique())"
   ]
  },
  {
   "cell_type": "code",
   "execution_count": null,
   "id": "9",
   "metadata": {},
   "outputs": [],
   "source": [
    "print(\"Nombre de thérapeutes avec > 1 type de thérapie =\", df_dispensateurs_lca_nodupli[df_dispensateurs_lca_nodupli.n_therapies > 1].ID_DISPENSATEUR.nunique())"
   ]
  },
  {
   "cell_type": "markdown",
   "id": "10",
   "metadata": {},
   "source": [
    "On a donc à peu près 50% des dispensateurs qui posent problème..."
   ]
  },
  {
   "cell_type": "code",
   "execution_count": null,
   "id": "11",
   "metadata": {},
   "outputs": [],
   "source": [
    "df_dispensateurs_lca = df_prestation_lca[['ID_DISPENSATEUR','CODES_THERAPIES','THERAPIES','TXGENREFRAISLGFR','CATEGORIE_DISPENSATEUR']].drop_duplicates()"
   ]
  },
  {
   "cell_type": "code",
   "execution_count": null,
   "id": "12",
   "metadata": {},
   "outputs": [],
   "source": [
    "filtered_therap_clean = pd.read_csv('../Data/processed/20230223_Therapies_ontology.csv',encoding='ISO-8859-1')"
   ]
  },
  {
   "cell_type": "code",
   "execution_count": null,
   "id": "13",
   "metadata": {},
   "outputs": [],
   "source": [
    "filtered_therap_clean['therapie_lvl2'].nunique()"
   ]
  },
  {
   "cell_type": "code",
   "execution_count": null,
   "id": "14",
   "metadata": {},
   "outputs": [],
   "source": [
    "filtered_therap_clean['Code'] = filtered_therap_clean['Code'].str.replace(' ','')\n",
    "filtered_therap_clean['Code'] = filtered_therap_clean['Code'].str.strip()"
   ]
  },
  {
   "cell_type": "code",
   "execution_count": null,
   "id": "15",
   "metadata": {},
   "outputs": [],
   "source": [
    "dict_ontology_lca = filtered_therap_clean.set_index('Code')['therapie_lvl2'].to_dict()"
   ]
  },
  {
   "cell_type": "code",
   "execution_count": null,
   "id": "16",
   "metadata": {},
   "outputs": [],
   "source": [
    "dict_ontology_lca_by_disc = filtered_therap_clean.set_index('Code')['Methode'].to_dict()"
   ]
  },
  {
   "cell_type": "markdown",
   "id": "17",
   "metadata": {},
   "source": [
    "On trouve la liste complète des codes EMR ici : https://www.rme.ch/dl/documents/rme-reglement-8-methodes.pdf  \n",
    "On trouve la liste complète des codes ASCA ici : http://www.asca.ch/therapies.aspx"
   ]
  },
  {
   "cell_type": "code",
   "execution_count": null,
   "id": "18",
   "metadata": {},
   "outputs": [],
   "source": [
    "# dict_ontology_lca['EMR-235'] = \"Art-thérapeute avec diplôme fédéral Spécialisation Thérapie intermédiale\"\n",
    "# dict_ontology_lca['EMR-231'] = \"Art-thérapeute avec diplôme fédéral Spécialisation Thérapie par le mouvement et la danse\"\n",
    "# dict_ontology_lca['EMR-43'] = \"Thérapie Dorn, qualification supplémentaire\"\n",
    "# dict_ontology_lca['EMR-232'] = \"Art-thérapeute avec diplôme fédéral Spécialisation Thérapie par le drame et la parole\"\n",
    "# dict_ontology_lca['EMR-233'] = \"Art-thérapeute avec diplôme fédéral Spécialisation Musicothérapie\"\n",
    "# dict_ontology_lca['EMR-234'] = \"Art-thérapeute avec diplôme fédéral Spécialisation Thérapie à médiation plastique et visuelle\"\n",
    "# dict_ontology_lca['EMR-128'] = 'Musicothérapie, anthroposophique'\n",
    "# dict_ontology_lca['EMR-4221'] = \"Certificat de branche OrTra TC - méthode Massage Rythmique Thérapeutique\"\n",
    "# dict_ontology_lca['EMR-4201'] = \"Certificat de branche OrTra TC - méthode Thérapie Biodynamique\"\n",
    "# dict_ontology_lca['EMR-4211'] = \"Certificat de branche OrTra TC - méthode Fasciathérapie\"\n",
    "# dict_ontology_lca['EMR-177'] = \"Art de la parole thérapeutique, anthroposophique\"\n",
    "# dict_ontology_lca['EMR-216'] = \"Thérapie de développement et de l‘apprentissage selon PäPKi pour enfants d'âge préscolaire et scolaire\"\n",
    "# dict_ontology_lca['EMR-215'] = \"Thérapie de développement et de l‘apprentissage selon PäPKi pour les nourrissons et les jeunes enfants\"\n",
    "# dict_ontology_lca['EMR-32'] = \"Thérapie par le mouvement, intégral/clinique\""
   ]
  },
  {
   "cell_type": "code",
   "execution_count": null,
   "id": "19",
   "metadata": {},
   "outputs": [],
   "source": [
    "def simplify_ontology(x):\n",
    "    try:\n",
    "        x = [i.strip() for i in x]\n",
    "        y = list(dict_ontology_lca[i] if i in dict_ontology_lca.keys() else i for i in x)\n",
    "        return y\n",
    "    except:\n",
    "        return np.nan"
   ]
  },
  {
   "cell_type": "code",
   "execution_count": null,
   "id": "20",
   "metadata": {},
   "outputs": [],
   "source": [
    "df_dispensateurs_lca['CODES_THERAPIES'] = df_dispensateurs_lca['CODES_THERAPIES'].str.split(',')\n",
    "\n",
    "def strip_if_list(item):\n",
    "    if isinstance(item, list):\n",
    "        return [str_elem.lstrip() for str_elem in item]\n",
    "    return item\n",
    "\n",
    "# Apply the function to the DataFrame column\n",
    "df_dispensateurs_lca['CODES_THERAPIES'] = df_dispensateurs_lca['CODES_THERAPIES'].apply(strip_if_list)"
   ]
  },
  {
   "cell_type": "code",
   "execution_count": null,
   "id": "21",
   "metadata": {},
   "outputs": [],
   "source": [
    "df_dispensateurs_lca['THERAPIES_SIMPLIFIED'] = df_dispensateurs_lca.apply(lambda x : simplify_ontology(x['CODES_THERAPIES']), axis = 1)"
   ]
  },
  {
   "cell_type": "code",
   "execution_count": null,
   "id": "22",
   "metadata": {},
   "outputs": [],
   "source": [
    "unique_codes_lca = df_dispensateurs_lca['CODES_THERAPIES'].explode().unique()"
   ]
  },
  {
   "cell_type": "code",
   "execution_count": null,
   "id": "23",
   "metadata": {},
   "outputs": [],
   "source": [
    "codes_lca_manquants = []\n",
    "for code_lca in unique_codes_lca:\n",
    "    try:\n",
    "        print(dict_ontology_lca[code_lca.strip()])\n",
    "    except:\n",
    "        print('Code manquant', code_lca)\n",
    "        codes_lca_manquants.append(code_lca)"
   ]
  },
  {
   "cell_type": "code",
   "execution_count": null,
   "id": "24",
   "metadata": {},
   "outputs": [],
   "source": [
    "len(codes_lca_manquants)"
   ]
  },
  {
   "cell_type": "code",
   "execution_count": null,
   "id": "25",
   "metadata": {},
   "outputs": [],
   "source": [
    "df_dispensateurs_lca_exploded = df_dispensateurs_lca.explode(['CODES_THERAPIES','THERAPIES_SIMPLIFIED'])"
   ]
  },
  {
   "cell_type": "code",
   "execution_count": null,
   "id": "26",
   "metadata": {},
   "outputs": [],
   "source": [
    "df_dispensateurs_lca_exploded['discipline_therap'] = df_dispensateurs_lca_exploded['CODES_THERAPIES'].map(dict_ontology_lca_by_disc)"
   ]
  },
  {
   "cell_type": "code",
   "execution_count": null,
   "id": "27",
   "metadata": {},
   "outputs": [],
   "source": [
    "df_dispensateurs_lca_exploded"
   ]
  },
  {
   "cell_type": "code",
   "execution_count": null,
   "id": "28",
   "metadata": {},
   "outputs": [],
   "source": [
    "df_dispensateurs_lca_exploded[df_dispensateurs_lca_exploded['THERAPIES_SIMPLIFIED'].str.contains('Sangsues', na = False)].ID_DISPENSATEUR.nunique()"
   ]
  },
  {
   "cell_type": "code",
   "execution_count": null,
   "id": "29",
   "metadata": {},
   "outputs": [],
   "source": [
    "df_dispensateurs_lca_exploded[df_dispensateurs_lca_exploded['THERAPIES_SIMPLIFIED'].str.contains('Sangsues', na = False)]"
   ]
  },
  {
   "cell_type": "code",
   "execution_count": null,
   "id": "30",
   "metadata": {},
   "outputs": [],
   "source": [
    "# Create a function to handle float inputs and convert non-floats into sets\n",
    "def set_or_nan(x):\n",
    "    if isinstance(x, float):\n",
    "        return float('nan')\n",
    "    else:\n",
    "        return set(x)\n",
    "\n",
    "# Apply the function to the 'THERAPIES_SIMPLIFIED' column\n",
    "df_dispensateurs_lca['THERAPIES_SIMPLIFIED_SET'] = df_dispensateurs_lca['THERAPIES_SIMPLIFIED'].apply(set_or_nan)\n"
   ]
  },
  {
   "cell_type": "code",
   "execution_count": null,
   "id": "31",
   "metadata": {},
   "outputs": [],
   "source": [
    "# Group by 'ID_DISPENSATEUR', aggregate unique therapies for each dispenser\n",
    "df_dispensateurs_lca_nodupli = df_dispensateurs_lca.groupby('ID_DISPENSATEUR').agg({\n",
    "    'THERAPIES_SIMPLIFIED_SET': lambda x: set().union(*[y for y in x if isinstance(y, set)])\n",
    "})\n"
   ]
  },
  {
   "cell_type": "code",
   "execution_count": null,
   "id": "32",
   "metadata": {},
   "outputs": [],
   "source": [
    "# Count the number of unique therapies for each dispenser\n",
    "df_dispensateurs_lca_nodupli['n_therapies'] = df_dispensateurs_lca_nodupli['THERAPIES_SIMPLIFIED_SET'].apply(len)\n",
    "# Reset the DataFrame index\n",
    "df_dispensateurs_lca_nodupli = df_dispensateurs_lca_nodupli.reset_index()\n"
   ]
  },
  {
   "cell_type": "code",
   "execution_count": null,
   "id": "33",
   "metadata": {},
   "outputs": [],
   "source": [
    "# Add the amount by ID_DISPENSATEUR\n",
    "df_dispensateurs_lca_nodupli['PRESTATION_SUM'] = df_dispensateurs_lca_nodupli['ID_DISPENSATEUR'].map(df_prestation_lca.groupby('ID_DISPENSATEUR').PRESTATIONS_BRUTES.sum().to_dict())"
   ]
  },
  {
   "cell_type": "code",
   "execution_count": null,
   "id": "34",
   "metadata": {},
   "outputs": [],
   "source": [
    "# Check whether dispensateurs with a lot of therapy types represent important amounts"
   ]
  },
  {
   "cell_type": "code",
   "execution_count": null,
   "id": "35",
   "metadata": {},
   "outputs": [],
   "source": [
    "# Check what is happening with the ID_DISPENSATEUR having n_therapies == 0\n",
    "df_dispensateurs_lca_nodupli[df_dispensateurs_lca_nodupli.n_therapies == 0].sort_values('PRESTATION_SUM')"
   ]
  },
  {
   "cell_type": "code",
   "execution_count": null,
   "id": "36",
   "metadata": {},
   "outputs": [],
   "source": [
    "df_dispensateurs_lca_exploded[df_dispensateurs_lca_exploded.THERAPIES_SIMPLIFIED == 'Massage classique']"
   ]
  },
  {
   "cell_type": "code",
   "execution_count": null,
   "id": "37",
   "metadata": {},
   "outputs": [],
   "source": [
    "df_dispensateurs_lca_exploded.drop_duplicates(subset = ['ID_DISPENSATEUR','THERAPIES_SIMPLIFIED']).THERAPIES_SIMPLIFIED.value_counts().head(20).plot.bar()"
   ]
  },
  {
   "cell_type": "code",
   "execution_count": null,
   "id": "38",
   "metadata": {},
   "outputs": [],
   "source": [
    "therapies_serie = df_dispensateurs_lca_exploded.groupby('ID_DISPENSATEUR').discipline_therap.apply(set)"
   ]
  },
  {
   "cell_type": "code",
   "execution_count": null,
   "id": "39",
   "metadata": {},
   "outputs": [],
   "source": [
    "df_dispensateurs_lca_exploded"
   ]
  },
  {
   "cell_type": "code",
   "execution_count": null,
   "id": "40",
   "metadata": {},
   "outputs": [],
   "source": [
    "df_dispensateurs_lca_nodupli[df_dispensateurs_lca_nodupli.n_therapies == 2]"
   ]
  },
  {
   "cell_type": "code",
   "execution_count": null,
   "id": "41",
   "metadata": {},
   "outputs": [],
   "source": [
    "\n",
    "df_dispensateurs_lca_nodupli[df_dispensateurs_lca_nodupli.THERAPIES_SIMPLIFIED_SET == {'Massage classique', 'Massage therapeutique'}]"
   ]
  },
  {
   "cell_type": "code",
   "execution_count": null,
   "id": "42",
   "metadata": {},
   "outputs": [],
   "source": [
    "import itertools\n",
    "from collections import Counter\n",
    "\n",
    "# Create an empty counter to store co-occurrences\n",
    "co_occurrences = Counter()\n",
    "\n",
    "# Loop through each set in the series\n",
    "for s in therapies_serie:\n",
    "    # Ignore None sets\n",
    "    if s is None:\n",
    "        continue\n",
    "\n",
    "    # Get all combinations of 2 elements from the set\n",
    "    combos = itertools.combinations(s, 2)\n",
    "    # Update the counter with the combinations\n",
    "    co_occurrences.update(combos)"
   ]
  },
  {
   "cell_type": "code",
   "execution_count": null,
   "id": "43",
   "metadata": {},
   "outputs": [],
   "source": [
    "df = pd.DataFrame(co_occurrences.items(), columns=['combo', 'count'])\n",
    "# Split the combo column into two columns\n",
    "df[['node1', 'node2']] = pd.DataFrame(df['combo'].tolist())\n",
    "\n",
    "# Drop the combo column\n",
    "df = df.drop('combo', axis=1)\n",
    "\n",
    "# Reset the index\n",
    "df = df.reset_index(drop=True)\n",
    "\n",
    "# Rename the columns\n",
    "df = df.rename(columns={'count': 'weight'})\n",
    "\n",
    "# Filter out rows where node1 or node2 is None\n",
    "df = df[df['node1'].notnull() & df['node2'].notnull()]\n"
   ]
  },
  {
   "cell_type": "code",
   "execution_count": null,
   "id": "44",
   "metadata": {},
   "outputs": [],
   "source": [
    "df.sort_values('weight').tail(50)"
   ]
  }
 ],
 "metadata": {
  "kernelspec": {
   "display_name": "py310",
   "language": "python",
   "name": "py310"
  },
  "language_info": {
   "codemirror_mode": {
    "name": "ipython",
    "version": 3
   },
   "file_extension": ".py",
   "mimetype": "text/x-python",
   "name": "python",
   "nbconvert_exporter": "python",
   "pygments_lexer": "ipython3",
   "version": "3.8.18"
  }
 },
 "nbformat": 4,
 "nbformat_minor": 5
}
