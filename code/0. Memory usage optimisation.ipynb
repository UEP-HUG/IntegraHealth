{
 "cells": [
  {
   "cell_type": "code",
   "execution_count": null,
   "id": "0",
   "metadata": {},
   "outputs": [],
   "source": [
    "import pandas as pd\n",
    "from pathlib import Path\n",
    "import numpy as np\n",
    "import uuid\n",
    "import pickle"
   ]
  },
  {
   "cell_type": "code",
   "execution_count": null,
   "id": "1",
   "metadata": {},
   "outputs": [],
   "source": [
    "data_folder  = Path('../Data/')"
   ]
  },
  {
   "cell_type": "code",
   "execution_count": null,
   "id": "2",
   "metadata": {},
   "outputs": [],
   "source": [
    "def optimize_df(df):\n",
    "    \"\"\"\n",
    "    Convert each column of a pandas DataFrame to the datatype that takes the lowest memory.\n",
    "\n",
    "    Parameters:\n",
    "    -----------\n",
    "    df : pandas DataFrame\n",
    "        The input DataFrame to convert.\n",
    "\n",
    "    Returns:\n",
    "    --------\n",
    "    pandas DataFrame\n",
    "        The converted DataFrame with lowest memory datatypes for each column.\n",
    "    \"\"\"\n",
    "\n",
    "    # First, convert all object columns to category type\n",
    "    obj_cols = df.select_dtypes(include=['object']).columns\n",
    "    df[obj_cols] = df[obj_cols].astype('category')\n",
    "\n",
    "    # Next, loop through all numeric columns and downcast the data types\n",
    "    for col in df.select_dtypes(include=['int', 'float']).columns:\n",
    "        col_type = df[col].dtype\n",
    "        if str(col_type)[:3] == 'int':\n",
    "            # Use smallest integer type possible\n",
    "            c_min = df[col].min()\n",
    "            c_max = df[col].max()\n",
    "            if c_min > np.iinfo(np.int8).min and c_max < np.iinfo(np.int8).max:\n",
    "                df[col] = df[col].astype(np.int8)\n",
    "            elif c_min > np.iinfo(np.int16).min and c_max < np.iinfo(np.int16).max:\n",
    "                df[col] = df[col].astype(np.int16)\n",
    "            elif c_min > np.iinfo(np.int32).min and c_max < np.iinfo(np.int32).max:\n",
    "                df[col] = df[col].astype(np.int32)\n",
    "            else:\n",
    "                df[col] = df[col].astype(np.int64)\n",
    "#         else:\n",
    "#             # Use smallest float type possible ! Bug 'halffloat' not supported by Arrow ! -> Commenting out\n",
    "#             c_min = df[col].min()\n",
    "#             c_max = df[col].max()\n",
    "#             if c_min > np.finfo(np.float32).min and c_max < np.finfo(np.float32).max:\n",
    "#                 df[col] = df[col].astype('float32')\n",
    "#             else:\n",
    "#                 df[col] = df[col].astype('float64')\n",
    "    \n",
    "    return df"
   ]
  },
  {
   "cell_type": "code",
   "execution_count": null,
   "id": "3",
   "metadata": {},
   "outputs": [],
   "source": [
    "df_flag_aos = pd.read_csv(data_folder/'raw'/'GM'/'Full'/'Set_flag_AOS_231222.csv', sep = ';')\n",
    "df_couverture_aos = pd.read_csv(data_folder/'raw'/'GM'/'Full'/'Set_couverture_AOS_231222.csv', sep =';')\n"
   ]
  },
  {
   "cell_type": "code",
   "execution_count": null,
   "id": "4",
   "metadata": {},
   "outputs": [],
   "source": [
    "df_couverture_lca = pd.read_csv(data_folder/'raw'/'GM'/'Full'/'Set_res_couverture_LCA_231222.csv', sep = ';')\n"
   ]
  },
  {
   "cell_type": "code",
   "execution_count": null,
   "id": "5",
   "metadata": {},
   "outputs": [],
   "source": [
    "df_couverture_lca"
   ]
  },
  {
   "cell_type": "code",
   "execution_count": null,
   "id": "6",
   "metadata": {},
   "outputs": [],
   "source": []
  },
  {
   "cell_type": "code",
   "execution_count": null,
   "id": "7",
   "metadata": {},
   "outputs": [],
   "source": [
    "df_aos_address = pd.read_csv(data_folder/'raw'/'GM'/'Full'/'AOS_address_masked_ssdoubl.csv', sep=';')\n",
    "df_multiple_address_aos = pd.read_csv(data_folder/'raw'/'GM'/'Full'/'Output_adress_doubl_AOS_050123.csv', sep=';')\n",
    "df_multiple_address_lca = pd.read_csv(data_folder/'raw'/'GM'/'Full'/'Output_adress_doubl_LCA_050123.csv', sep=';')\n",
    "df_remaining_multiple_lca = pd.read_csv(data_folder/'raw'/'GM'/'Full'/'Remaining_LCA_address_masked_ssdoubl.csv', sep=';')\n",
    "##\n",
    "df_couverture_aos = pd.read_csv(data_folder/'raw'/'GM'/'Full'/'Set_couverture_AOS_231222.csv', sep =';')\n",
    "df_flag_aos = pd.read_csv(data_folder/'raw'/'GM'/'Full'/'Set_flag_AOS_231222.csv', sep = ';')\n",
    "df_drug_aos = pd.read_csv(data_folder/'raw'/'GM'/'Full'/'Set_medic_AOS_231222.csv', sep = ';')\n",
    "df_couverture_lca = pd.read_csv(data_folder/'raw'/'GM'/'Full'/'Set_res_couverture_LCA_231222.csv', sep = ';')\n",
    "df_prestation_aos = pd.read_csv(data_folder/'raw'/'GM'/'Full'/'Set_res_prest_AOS_231222.csv', sep = ';')\n",
    "df_prestation_lca = pd.read_csv(data_folder/'raw'/'GM'/'Full'/'SET_RES_PREST_LCA_231222.csv', sep = ';')"
   ]
  },
  {
   "cell_type": "code",
   "execution_count": null,
   "id": "8",
   "metadata": {},
   "outputs": [],
   "source": [
    "df_aos_address_updated = pd.read_csv(data_folder/'raw'/'GM'/'Full'/'Santeintegra_adresses_27012023'/'AOS_masked_ssdoubl.csv', sep=';')\n",
    "df_multiple_address_aos_updated = pd.read_csv(data_folder/'raw'/'GM'/'Full'/'Santeintegra_adresses_27012023'/'Output_adress_doubl_AOS.csv', sep=';')\n",
    "df_multiple_address_lca_updated = pd.read_csv(data_folder/'raw'/'GM'/'Full'/'Santeintegra_adresses_27012023'/'Output_adress_doubl_LCA.csv', sep=';')\n",
    "df_remaining_multiple_lca_updated = pd.read_csv(data_folder/'raw'/'GM'/'Full'/'Santeintegra_adresses_27012023'/'LCA_miss_masked.csv', sep=';')\n",
    "df_remaining_multiple_aos_updated = pd.read_csv(data_folder/'raw'/'GM'/'Full'/'Santeintegra_adresses_27012023'/'LAMAL_miss_masked.csv', sep=';')"
   ]
  },
  {
   "cell_type": "code",
   "execution_count": null,
   "id": "9",
   "metadata": {},
   "outputs": [],
   "source": [
    "import sys\n",
    "def sizeof_fmt(num, suffix='B'):\n",
    "    for unit in ['','Ki','Mi','Gi','Ti','Pi','Ei','Zi']:\n",
    "        if abs(num) < 1024.0:\n",
    "            return \"%3.1f %s%s\" % (num, unit, suffix)\n",
    "        num /= 1024.0\n",
    "    return \"%.1f %s%s\" % (num, 'Yi', suffix)\n",
    "\n",
    "for name, size in sorted(((name, sys.getsizeof(value)) for name, value in list(\n",
    "                          locals().items())), key= lambda x: -x[1])[:10]:\n",
    "    print(\"{:>30}: {:>8}\".format(name, sizeof_fmt(size)))"
   ]
  },
  {
   "cell_type": "code",
   "execution_count": null,
   "id": "10",
   "metadata": {},
   "outputs": [],
   "source": [
    "df_prestation_aos = optimize_df(df_prestation_aos)\n",
    "df_prestation_lca = optimize_df(df_prestation_lca)\n",
    "df_flag_aos = optimize_df(df_flag_aos)\n",
    "df_couverture_aos = optimize_df(df_couverture_aos)\n",
    "df_couverture_lca = optimize_df(df_couverture_lca)\n",
    "df_drug_aos = optimize_df(df_drug_aos)\n",
    "# Old dataset for addresses\n",
    "df_aos_address = optimize_df(df_aos_address)\n",
    "df_multiple_address_aos = optimize_df(df_multiple_address_aos)\n",
    "df_multiple_address_lca = optimize_df(df_multiple_address_lca)\n",
    "df_remaining_multiple_lca = optimize_df(df_remaining_multiple_lca)\n",
    "\n",
    "# Updated datasets\n",
    "df_aos_address_updated = optimize_df(df_aos_address_updated)\n",
    "df_multiple_address_aos_updated = optimize_df(df_multiple_address_aos_updated)\n",
    "df_multiple_address_lca_updated = optimize_df(df_multiple_address_lca_updated)\n",
    "df_remaining_multiple_lca_updated = optimize_df(df_remaining_multiple_lca_updated)\n",
    "df_remaining_multiple_aos_updated = optimize_df(df_remaining_multiple_aos_updated)"
   ]
  },
  {
   "cell_type": "markdown",
   "id": "11",
   "metadata": {},
   "source": [
    "## Add UUID"
   ]
  },
  {
   "cell_type": "code",
   "execution_count": null,
   "id": "12",
   "metadata": {},
   "outputs": [],
   "source": [
    "# Linkage\n",
    "df_paires_lamal_lca = pd.read_csv('../Data/max_probs_w_zipcode_pour_david.csv')"
   ]
  },
  {
   "cell_type": "code",
   "execution_count": null,
   "id": "13",
   "metadata": {},
   "outputs": [],
   "source": [
    "df_paires_lamal_lca['uuid'] = df_paires_lamal_lca.apply(lambda _: uuid.uuid4(), axis=1).astype('string')"
   ]
  },
  {
   "cell_type": "code",
   "execution_count": null,
   "id": "14",
   "metadata": {},
   "outputs": [],
   "source": [
    "df_paires_lamal_lca.to_csv('../Data/max_probs_w_zipcode_pour_david_w_uuid.csv', index = False)"
   ]
  },
  {
   "cell_type": "code",
   "execution_count": null,
   "id": "15",
   "metadata": {},
   "outputs": [],
   "source": [
    "dict_lamal_to_uuid = df_paires_lamal_lca.set_index('id_lamal')['uuid'].to_dict()\n",
    "dict_lca_to_uuid = df_paires_lamal_lca.set_index('id_lca')['uuid'].to_dict()"
   ]
  },
  {
   "cell_type": "code",
   "execution_count": null,
   "id": "16",
   "metadata": {},
   "outputs": [],
   "source": [
    "dict_lamal_to_lca = df_paires_lamal_lca.set_index('id_lamal')['id_lca'].to_dict()\n",
    "dict_lca_to_lamal = df_paires_lamal_lca.set_index('id_lca')['id_lamal'].to_dict()"
   ]
  },
  {
   "cell_type": "code",
   "execution_count": null,
   "id": "17",
   "metadata": {},
   "outputs": [],
   "source": [
    "with open('../Data/processed/dict_lamal_to_uuid.pkl', 'wb') as handle:\n",
    "        pickle.dump(dict_lamal_to_uuid, handle, protocol=pickle.HIGHEST_PROTOCOL)\n",
    "handle.close()"
   ]
  },
  {
   "cell_type": "code",
   "execution_count": null,
   "id": "18",
   "metadata": {},
   "outputs": [],
   "source": [
    "with open('../Data/processed/dict_lca_to_uuid.pkl', 'wb') as handle:\n",
    "        pickle.dump(dict_lca_to_uuid, handle, protocol=pickle.HIGHEST_PROTOCOL)\n",
    "handle.close()"
   ]
  },
  {
   "cell_type": "code",
   "execution_count": null,
   "id": "19",
   "metadata": {},
   "outputs": [],
   "source": [
    "# Add a UUID so that we have a single unique ID instead of pairs of ID_LAMAL-ID_LCA\n",
    "df_prestation_lca['uuid'] = df_prestation_lca['ID_LCA'].map(dict_lca_to_uuid)\n",
    "df_prestation_aos['uuid'] = df_prestation_aos['ID_LAMAL'].map(dict_lamal_to_uuid)\n",
    "\n",
    "df_couverture_lca['uuid'] = df_couverture_lca['ID_LCA'].map(dict_lca_to_uuid)\n",
    "df_couverture_aos['uuid'] = df_couverture_aos['ID_LAMAL'].map(dict_lamal_to_uuid)\n",
    "\n",
    "df_drug_aos['uuid'] = df_drug_aos['ID_LAMAL'].map(dict_lamal_to_uuid)\n",
    "df_flag_aos['uuid'] = df_flag_aos['ID_LAMAL'].map(dict_lamal_to_uuid)"
   ]
  },
  {
   "cell_type": "markdown",
   "id": "20",
   "metadata": {},
   "source": [
    "## Export"
   ]
  },
  {
   "cell_type": "code",
   "execution_count": null,
   "id": "21",
   "metadata": {},
   "outputs": [],
   "source": [
    "df_prestation_aos.to_parquet(data_folder/'raw'/'GM'/'Full'/'Compressed files'/'df_prestation_aos.parquet.gzip', compression = 'gzip')\n",
    "df_prestation_lca.to_parquet(data_folder/'raw'/'GM'/'Full'/'Compressed files'/'df_prestation_lca.parquet.gzip', compression = 'gzip')\n",
    "\n",
    "df_flag_aos.to_parquet(data_folder/'raw'/'GM'/'Full'/'Compressed files'/'df_flag_aos.parquet.gzip', compression = 'gzip')\n",
    "\n",
    "df_couverture_aos.to_parquet(data_folder/'raw'/'GM'/'Full'/'Compressed files'/'df_couverture_aos.parquet.gzip', compression = 'gzip')\n",
    "df_couverture_lca.to_parquet(data_folder/'raw'/'GM'/'Full'/'Compressed files'/'df_couverture_lca.parquet.gzip', compression = 'gzip')\n",
    "\n",
    "df_drug_aos.to_parquet(data_folder/'raw'/'GM'/'Full'/'Compressed files'/'df_drug_aos.parquet.gzip', compression = 'gzip')\n",
    "## Export old\n",
    "df_aos_address.to_parquet(data_folder/'raw'/'GM'/'Full'/'Compressed files'/'df_aos_address.parquet.gzip', compression = 'gzip')\n",
    "df_multiple_address_aos.to_parquet(data_folder/'raw'/'GM'/'Full'/'Compressed files'/'df_multiple_address_aos.parquet.gzip', compression = 'gzip')\n",
    "df_multiple_address_lca.to_parquet(data_folder/'raw'/'GM'/'Full'/'Compressed files'/'df_multiple_address_lca.parquet.gzip', compression = 'gzip')\n",
    "df_remaining_multiple_lca.to_parquet(data_folder/'raw'/'GM'/'Full'/'Compressed files'/'df_remaining_multiple_lca.parquet.gzip', compression = 'gzip')\n",
    "## Export updated\n",
    "df_aos_address_updated.to_parquet(data_folder/'raw'/'GM'/'Full'/'Compressed files'/'df_aos_address_updated.parquet.gzip', compression = 'gzip')\n",
    "df_multiple_address_aos_updated.to_parquet(data_folder/'raw'/'GM'/'Full'/'Compressed files'/'df_multiple_address_aos_updated.parquet.gzip', compression = 'gzip')\n",
    "df_multiple_address_lca_updated.to_parquet(data_folder/'raw'/'GM'/'Full'/'Compressed files'/'df_multiple_address_lca_updated.parquet.gzip', compression = 'gzip')\n",
    "df_remaining_multiple_lca_updated.to_parquet(data_folder/'raw'/'GM'/'Full'/'Compressed files'/'df_remaining_multiple_lca_updated.parquet.gzip', compression = 'gzip')\n",
    "df_remaining_multiple_aos_updated.to_parquet(data_folder/'raw'/'GM'/'Full'/'Compressed files'/'df_remaining_multiple_aos_updated.parquet.gzip', compression = 'gzip')"
   ]
  },
  {
   "cell_type": "code",
   "execution_count": null,
   "id": "22",
   "metadata": {},
   "outputs": [],
   "source": [
    "df_prestation_aos"
   ]
  },
  {
   "cell_type": "code",
   "execution_count": null,
   "id": "23",
   "metadata": {},
   "outputs": [],
   "source": [
    "for name, size in sorted(((name, sys.getsizeof(value)) for name, value in list(\n",
    "                          locals().items())), key= lambda x: -x[1])[:10]:\n",
    "    print(\"{:>30}: {:>8}\".format(name, sizeof_fmt(size)))"
   ]
  }
 ],
 "metadata": {
  "kernelspec": {
   "display_name": "py310",
   "language": "python",
   "name": "py310"
  },
  "language_info": {
   "codemirror_mode": {
    "name": "ipython",
    "version": 3
   },
   "file_extension": ".py",
   "mimetype": "text/x-python",
   "name": "python",
   "nbconvert_exporter": "python",
   "pygments_lexer": "ipython3",
   "version": "3.8.18"
  }
 },
 "nbformat": 4,
 "nbformat_minor": 5
}
