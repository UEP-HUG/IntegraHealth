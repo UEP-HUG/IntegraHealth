{
 "cells": [
  {
   "cell_type": "code",
   "execution_count": null,
   "id": "0",
   "metadata": {},
   "outputs": [],
   "source": [
    "import pandas as pd\n",
    "import os\n",
    "os.environ['USE_PYGEOS'] = '0'\n",
    "import geopandas as gpd\n",
    "import networkx as nx\n",
    "from pathlib import Path\n",
    "import networkx as nx\n",
    "import matplotlib.pyplot as plt\n",
    "import numpy as np\n",
    "from sklearn.preprocessing import MinMaxScaler\n",
    "import sys\n",
    "sys.path.append('/Users/david/Dropbox/PhD/Scripts/Spatial analyses')\n",
    "import pyspace\n",
    "import libpysal as lps\n",
    "from scipy.spatial import cKDTree\n",
    "from libpysal.weights.distance import get_points_array\n",
    "from esda import fdr\n",
    "from importlib import reload\n",
    "pd.set_option('display.max_rows', 500)\n",
    "reload(pyspace)\n",
    "import seaborn as sns\n",
    "from esda.moran import Moran\n",
    "# sns.set_theme(font = 'Helvetica')\n",
    "%matplotlib inline\n",
    "from numba import NumbaDeprecationWarning\n",
    "import pyogrio\n",
    "import warnings\n",
    "import esda\n",
    "# Suppress NumbaDeprecationWarning\n",
    "warnings.filterwarnings(\"ignore\", category=NumbaDeprecationWarning)"
   ]
  },
  {
   "cell_type": "code",
   "execution_count": null,
   "id": "1",
   "metadata": {},
   "outputs": [],
   "source": [
    "from matplotlib.patheffects import withStroke"
   ]
  },
  {
   "cell_type": "code",
   "execution_count": null,
   "id": "2",
   "metadata": {},
   "outputs": [],
   "source": [
    "reload(pyspace)"
   ]
  },
  {
   "cell_type": "code",
   "execution_count": null,
   "id": "3",
   "metadata": {},
   "outputs": [],
   "source": [
    "main_folder = Path('../Manuscript/Economic analysis of integrative medicine/')\n",
    "data_folder = Path('../Data')\n",
    "results_folder = main_folder/'Results'\n",
    "figures_folder = main_folder/'Figures'"
   ]
  },
  {
   "cell_type": "code",
   "execution_count": null,
   "id": "4",
   "metadata": {},
   "outputs": [],
   "source": [
    "# data = pd.read_parquet(data_folder/'processed'/'full_dataset_nonull_nominors.parquet.gzip')"
   ]
  },
  {
   "cell_type": "code",
   "execution_count": null,
   "id": "5",
   "metadata": {},
   "outputs": [],
   "source": [
    "data = pd.read_parquet(data_folder/'processed'/'df_treated_filtered_nominors.parquet.gzip')\n",
    "data = gpd.GeoDataFrame(data, crs = 4326, geometry=gpd.points_from_xy(data.lon_masked, data.lat_masked))\n",
    "\n",
    "data = data.to_crs(2056)\n",
    "data['E'], data['N'] = data['geometry'].x, data['geometry'].y\n",
    "\n",
    "data_final = data[data.treatment.isnull()==False]"
   ]
  },
  {
   "cell_type": "code",
   "execution_count": null,
   "id": "6",
   "metadata": {},
   "outputs": [],
   "source": [
    "# df_aos_costs = pd.read_csv('/Users/david/Dropbox/PhD/GitHub/SanteIntegra/Data/processed/df_aos_costs.csv')\n",
    "# df_aos_costs = gpd.GeoDataFrame(df_aos_costs, crs = 2056, geometry=gpd.points_from_xy(df_aos_costs.E, df_aos_costs.N))\n",
    "\n",
    "\n",
    "# df_lca_costs = pd.read_csv('/Users/david/Dropbox/PhD/GitHub/SanteIntegra/Data/processed/df_lca_costs.csv')\n",
    "# df_lca_costs = gpd.GeoDataFrame(df_lca_costs, crs = 2056, geometry=gpd.points_from_xy(df_lca_costs.E, df_lca_costs.N))\n",
    "\n",
    "# df_cam_costs = pd.read_csv('/Users/david/Dropbox/PhD/GitHub/SanteIntegra/Data/processed/df_cam_costs.csv')\n",
    "# df_cam_costs = gpd.GeoDataFrame(df_cam_costs, crs = 2056, geometry=gpd.points_from_xy(df_cam_costs.E, df_cam_costs.N))\n",
    "\n",
    "\n",
    "# df_lca_costs_t1 = pd.read_csv('/Users/david/Dropbox/PhD/GitHub/SanteIntegra/Data/processed/df_lca_costs_t1.csv')\n",
    "# df_lca_costs_t1 = gpd.GeoDataFrame(df_lca_costs_t1, crs = 2056, geometry=gpd.points_from_xy(df_lca_costs_t1.E, df_lca_costs_t1.N))"
   ]
  },
  {
   "cell_type": "code",
   "execution_count": null,
   "id": "7",
   "metadata": {},
   "outputs": [],
   "source": [
    "# del data"
   ]
  },
  {
   "cell_type": "code",
   "execution_count": null,
   "id": "8",
   "metadata": {},
   "outputs": [],
   "source": [
    "data_2017 = data_final[data_final.NOANNEE == 2017]\n",
    "data_2018 = data_final[data_final.NOANNEE == 2018]\n",
    "data_2019 = data_final[data_final.NOANNEE == 2019]\n",
    "data_2020 = data_final[data_final.NOANNEE == 2020]\n",
    "data_2021 = data_final[data_final.NOANNEE == 2021]\n",
    "\n",
    "data_2017 = gpd.GeoDataFrame(data_2017, crs = 2056, geometry = data_2017['geometry'] )\n",
    "data_2018 = gpd.GeoDataFrame(data_2018, crs = 2056, geometry = data_2018['geometry'] )\n",
    "data_2019 = gpd.GeoDataFrame(data_2019, crs = 2056, geometry = data_2019['geometry'] )\n",
    "data_2020 = gpd.GeoDataFrame(data_2020, crs = 2056, geometry = data_2020['geometry'] )\n",
    "data_2021 = gpd.GeoDataFrame(data_2021, crs = 2056, geometry = data_2021['geometry'] )"
   ]
  },
  {
   "cell_type": "code",
   "execution_count": null,
   "id": "9",
   "metadata": {},
   "outputs": [],
   "source": [
    "cantons = gpd.read_file(\n",
    "    '/Users/david/Dropbox/PhD/Data/Databases/SITG/SHAPEFILE_LV95_LN02/swissBOUNDARIES3D_1_3_TLM_KANTONSGEBIET.shp')\n",
    "communes = gpd.read_file(\n",
    "    '/Users/david/Dropbox/PhD/Data/Databases/SITG/SHAPEFILE_LV95_LN02/swissBOUNDARIES3D_1_3_TLM_HOHEITSGEBIET.shp')"
   ]
  },
  {
   "cell_type": "markdown",
   "id": "10",
   "metadata": {},
   "source": [
    "# Spatial analyses\n",
    "## Data as individual points\n",
    "### Global autocorrelation of main features\n",
    "\n",
    "- AOS Yearly Spending\n",
    "- LCA Yearly Spending\n",
    "- CDS"
   ]
  },
  {
   "cell_type": "code",
   "execution_count": null,
   "id": "11",
   "metadata": {},
   "outputs": [],
   "source": [
    "individual_results_folder = results_folder/'Individual'"
   ]
  },
  {
   "cell_type": "code",
   "execution_count": null,
   "id": "12",
   "metadata": {},
   "outputs": [],
   "source": [
    "globalautocorr_result_folder = individual_results_folder/'Global Autocorrelation'\n",
    "if not os.path.exists(globalautocorr_result_folder):\n",
    "    os.makedirs(globalautocorr_result_folder)"
   ]
  },
  {
   "cell_type": "code",
   "execution_count": null,
   "id": "13",
   "metadata": {},
   "outputs": [],
   "source": [
    "def GlobalMoranI(db, col, year, distance, w, result_folder, seed=12345):\n",
    "    xlabel = f\"Global Moran's I - {col} - {year} - {distance}NN\"\n",
    "    file_path = result_folder / f'{xlabel}.pdf'\n",
    "\n",
    "    # Check if the file already exists\n",
    "    if file_path.exists():\n",
    "        print(f\"File '{file_path}' already exists. Skipping execution.\")\n",
    "        return None\n",
    "    \n",
    "    # Compute Moran's I\n",
    "    y = db[col]\n",
    "    np.random.seed(seed)\n",
    "    mi = esda.moran.Moran(y, w)\n",
    "    print(col, year, distance, mi.I, mi.p_sim, mi.z_sim)\n",
    "    \n",
    "    # Moran's I plot\n",
    "    sns.kdeplot(mi.sim, fill=True)\n",
    "    plt.vlines(mi.I, 0, plt.ylim()[1]*0.1, color='r', label='Moran\\'s I')\n",
    "    plt.vlines(mi.EI, 0, plt.ylim()[1]*0.1, label='Expected I')\n",
    "    plt.xlabel(xlabel)\n",
    "    plt.ylabel('Density')\n",
    "    plt.title('Moran\\'s I Distribution')\n",
    "    plt.legend()\n",
    "    # Save figure\n",
    "    plt.savefig(file_path, dpi=320, bbox_inches='tight')\n",
    "    plt.close()  # Close the plot after saving\n",
    "\n",
    "    return mi"
   ]
  },
  {
   "cell_type": "code",
   "execution_count": null,
   "id": "14",
   "metadata": {},
   "outputs": [],
   "source": [
    "col_names = ['PRESTATIONS_BRUTES_AOS', 'PRESTATIONS_BRUTES_LCA', 'cds']  # replace with your actual column names\n",
    "\n",
    "# Calculate weights once for each year and store them\n",
    "years = [2017, 2018, 2019, 2020, 2021]\n",
    "weights_by_year = {}\n",
    "nn = 32\n",
    "\n",
    "for year, df in zip(years, [data_2017, data_2018, data_2019, data_2020, data_2021]):\n",
    "    # Calculate weights here (w)\n",
    "    # Store the weights in the dictionary\n",
    "    if year not in weights_by_year.keys():\n",
    "        weights_by_year[year] = lps.weights.KNN(cKDTree(get_points_array(df.geometry.centroid)), nn)\n",
    "\n",
    "\n",
    "# Now iterate over each column and use the pre-calculated weights\n",
    "for col_name in col_names:\n",
    "    for year, df in zip(years, [data_2017, data_2018, data_2019, data_2020, data_2021]):\n",
    "        w = weights_by_year[year]  # Retrieve pre-calculated weights\n",
    "        mi = GlobalMoranI(db=df, col=col_name, year=year, distance=nn, w=w, result_folder=globalautocorr_result_folder)"
   ]
  },
  {
   "cell_type": "markdown",
   "id": "15",
   "metadata": {},
   "source": [
    "### Local autocorrelation using Getis Ord Gi* statistic"
   ]
  },
  {
   "cell_type": "code",
   "execution_count": null,
   "id": "16",
   "metadata": {},
   "outputs": [],
   "source": [
    "localautocorr_result_folder = individual_results_folder/'Local Autocorrelation'\n",
    "if not os.path.exists(localautocorr_result_folder):\n",
    "    os.makedirs(localautocorr_result_folder)"
   ]
  },
  {
   "cell_type": "code",
   "execution_count": null,
   "id": "17",
   "metadata": {},
   "outputs": [],
   "source": [
    "# Now iterate over each column and use the pre-calculated weights\n",
    "for col_name in col_names:\n",
    "    for year, df in zip(years, [data_2017, data_2018, data_2019, data_2020, data_2021]):\n",
    "        w = weights_by_year[year]  # Retrieve pre-calculated weights\n",
    "        getis_values = pyspace.compute_getis(df, col_name, w, 999, transform_type='B', p_001=False)\n",
    "        fig, ax = pyspace.plotGetisMap(df, f\"{col_name}_G_cl\", markersize_s=0.01, markersize_l=0.1, p_001=False, commune_name=False)\n",
    "        xlabel = f\"Getis - {col_name} - {year} - {nn}NN\"\n",
    "        file_path = localautocorr_result_folder / f'{xlabel}.png'\n",
    "        plt.savefig(file_path, dpi=1000, bbox_inches='tight')"
   ]
  },
  {
   "cell_type": "code",
   "execution_count": null,
   "id": "18",
   "metadata": {},
   "outputs": [],
   "source": [
    "dict_labels = {'PRESTATIONS_BRUTES_AOS':'Conv. Med. Yearly Spending (CHF)',\n",
    "              'PRESTATIONS_BRUTES_LCA':'Compl. Med. Yearly Spending (CHF)',\n",
    "              'cds':'Chronic Disease Score (CDS)',\n",
    "              'ihs_cost_lca':'IHS transformed CAM claims amount'}"
   ]
  },
  {
   "cell_type": "code",
   "execution_count": null,
   "id": "19",
   "metadata": {},
   "outputs": [],
   "source": [
    "df_aos_costs = data_final[data_final.PRESTATIONS_BRUTES_AOS > data_final.MTFRANCHISECOUV]\n",
    "df_lca_costs = data_final[data_final.PRESTATIONS_BRUTES_LCA > 0]\n",
    "df_cam_costs = data_final[data_final.PRESTATIONS_BRUTES_CAM > 0]"
   ]
  },
  {
   "cell_type": "markdown",
   "id": "20",
   "metadata": {},
   "source": [
    "### AOS USE"
   ]
  },
  {
   "cell_type": "code",
   "execution_count": null,
   "id": "21",
   "metadata": {},
   "outputs": [],
   "source": [
    "avg_prestation_aos_by_canton = df_aos_costs.groupby('CANTON_NAME', observed=True)['PRESTATIONS_BRUTES_AOS'].median()\n",
    "rank = avg_prestation_aos_by_canton.argsort().argsort()   # http://stackoverflow.com/a/6266510/1628638\n",
    "rank = rank.sort_values().index.tolist()\n",
    "pal = sns.color_palette(\"Greens\", len(avg_prestation_aos_by_canton))\n",
    "fig, ax = plt.subplots(figsize = (8,8))\n",
    "sns.boxplot(data=df_aos_costs, y=\"PRESTATIONS_BRUTES_AOS\",x = 'CANTON_NAME',hue = 'lang_region',showfliers = False,dodge = False, order = rank, ax = ax)\n",
    "# ax.set_ylim(0,5000)\n",
    "plt.xticks(rotation = 90)\n",
    "plt.legend(title='')\n",
    "sns.despine()\n",
    "plt.grid(axis = 'y')\n",
    "plt.xlabel('Cantons', fontsize=12)\n",
    "plt.ylabel('Annual CM (MHI) expenditures (CHF)', fontsize=12)\n",
    "plt.savefig(results_folder/'Figures_rapport/Avg_CM_MHI_by_canton.png', dpi = 300, bbox_inches='tight')"
   ]
  },
  {
   "cell_type": "code",
   "execution_count": null,
   "id": "22",
   "metadata": {},
   "outputs": [],
   "source": [
    "gdf_names = communes[communes.NAME.isin(['Lausanne','Genève','Zürich','Basel','Bern'])]"
   ]
  },
  {
   "cell_type": "code",
   "execution_count": null,
   "id": "23",
   "metadata": {},
   "outputs": [],
   "source": [
    "gdf_names = gdf_names[gdf_names.EINWOHNERZ.isnull()==False]"
   ]
  },
  {
   "cell_type": "code",
   "execution_count": null,
   "id": "24",
   "metadata": {},
   "outputs": [],
   "source": [
    "col_name = 'ihs_cost_aos'\n",
    "nn=32\n",
    "df = df_aos_costs[~df_aos_costs[col_name].isnull()]\n",
    "\n",
    "w = lps.weights.KNN(cKDTree(get_points_array(df.geometry.centroid)), nn)\n",
    "getis_values = pyspace.compute_getis(df, col_name, w, 999, transform_type='B', p_001=False)\n",
    "fig, ax = pyspace.plotGetisMap(df, f\"{col_name}_G_cl\", markersize_s=0.08, markersize_l=1, p_001=False, commune_name=False)\n",
    "for x, y, label in zip(gdf_names.geometry.centroid.x, gdf_names.geometry.centroid.y, gdf_names['NAME']):\n",
    "    ax.text(x, y, label, fontsize=8, ha='right', va='bottom',\n",
    "            path_effects=[withStroke(linewidth=3, foreground='white')], zorder=8)\n",
    "xlabel = f\"Getis - {col_name} - {nn}NN\"\n",
    "file_path = localautocorr_result_folder / f'{xlabel}.png'\n",
    "plt.savefig(file_path, dpi=640, bbox_inches='tight')"
   ]
  },
  {
   "cell_type": "code",
   "execution_count": null,
   "id": "25",
   "metadata": {},
   "outputs": [],
   "source": [
    "reload(pyspace)"
   ]
  },
  {
   "cell_type": "code",
   "execution_count": null,
   "id": "26",
   "metadata": {},
   "outputs": [],
   "source": [
    "xlabel = f\"Getis Bar Plot - {col_name} - {nn}NN\"\n",
    "file_path = Path(localautocorr_result_folder) / f'{xlabel}.png'\n",
    "fig, ax = pyspace.plot_getis_by_class(df = df,x = f'{col_name}_G_cl',y = 'PRESTATIONS_BRUTES_AOS', label = 'Annual CM (MHI) expenditures (CHF)', xtick_size=8, title_size=12, xlabel_size=8,ylabel_size= 8, p_001=False, showfliers = False)\n",
    "plt.savefig(file_path, dpi=320, bbox_inches='tight')"
   ]
  },
  {
   "cell_type": "markdown",
   "id": "27",
   "metadata": {},
   "source": [
    "### CAM - SI USE"
   ]
  },
  {
   "cell_type": "code",
   "execution_count": null,
   "id": "28",
   "metadata": {},
   "outputs": [],
   "source": [
    "avg_prestation_aos_by_canton = df_lca_costs.groupby('CANTON_NAME', observed=True)['PRESTATIONS_BRUTES_LCA'].median()\n",
    "rank = avg_prestation_aos_by_canton.argsort().argsort()   # http://stackoverflow.com/a/6266510/1628638\n",
    "rank = rank.sort_values().index.tolist()\n",
    "pal = sns.color_palette(\"Greens\", len(avg_prestation_aos_by_canton))\n",
    "fig, ax = plt.subplots(figsize = (8,8))\n",
    "sns.boxplot(data=df_lca_costs, y=\"PRESTATIONS_BRUTES_LCA\",x = 'CANTON_NAME',hue = 'lang_region',showfliers = False,dodge = False, order = rank, ax = ax)\n",
    "# ax.set_ylim(0,5000)\n",
    "plt.xticks(rotation = 90)\n",
    "plt.legend(title='Language regions')\n",
    "sns.despine()\n",
    "plt.grid(axis = 'y')\n",
    "plt.xlabel('Cantons', fontsize=12)\n",
    "plt.ylabel('Annual CAM (SI) expenditures (CHF)', fontsize=12)\n",
    "plt.savefig(results_folder/'Figures_rapport/Avg_CAM_SI_by_canton.png', dpi = 300, bbox_inches='tight')"
   ]
  },
  {
   "cell_type": "markdown",
   "id": "29",
   "metadata": {},
   "source": [
    "### CAM - MHI USE"
   ]
  },
  {
   "cell_type": "code",
   "execution_count": null,
   "id": "30",
   "metadata": {},
   "outputs": [],
   "source": [
    "avg_prestation_aos_by_canton = df_cam_costs.groupby('CANTON_NAME', observed=True)['PRESTATIONS_BRUTES_CAM'].median()\n",
    "rank = avg_prestation_aos_by_canton.argsort().argsort()   # http://stackoverflow.com/a/6266510/1628638\n",
    "rank = rank.sort_values().index.tolist()\n",
    "pal = sns.color_palette(\"Greens\", len(avg_prestation_aos_by_canton))\n",
    "fig, ax = plt.subplots(figsize = (8,8))\n",
    "sns.boxplot(data=df_cam_costs, y=\"PRESTATIONS_BRUTES_CAM\",x = 'CANTON_NAME',hue = 'lang_region',showfliers = False,dodge = False, order = rank, ax = ax)\n",
    "# ax.set_ylim(0,5000)\n",
    "plt.xticks(rotation = 90)\n",
    "plt.legend(title='Language regions')\n",
    "sns.despine()\n",
    "plt.grid(axis = 'y')\n",
    "plt.xlabel('Cantons', fontsize=12)\n",
    "plt.ylabel('Annual CAM (MHI) expenditures (CHF)', fontsize=12)\n",
    "plt.savefig(results_folder/'Figures_rapport/Avg_CAM_MHI_by_canton.png', dpi = 300, bbox_inches='tight')"
   ]
  },
  {
   "cell_type": "code",
   "execution_count": null,
   "id": "31",
   "metadata": {},
   "outputs": [],
   "source": [
    "reload(pyspace)"
   ]
  },
  {
   "cell_type": "code",
   "execution_count": null,
   "id": "32",
   "metadata": {},
   "outputs": [],
   "source": [
    "col_name = 'ihs_cost_cam'\n",
    "nn=32\n",
    "df = df_cam_costs[~df_cam_costs[col_name].isnull()]\n",
    "\n",
    "w = lps.weights.KNN(cKDTree(get_points_array(df.geometry.centroid)), nn)\n",
    "getis_values = pyspace.compute_getis(df, col_name, w, 999, transform_type='B', p_001=False)\n",
    "fig, ax = pyspace.plotGetisMap(df, f\"{col_name}_G_cl\", markersize_s=0.08, markersize_l=1, p_001=False, commune_name=False)\n",
    "for x, y, label in zip(gdf_names.geometry.centroid.x, gdf_names.geometry.centroid.y, gdf_names['NAME']):\n",
    "    ax.text(x, y, label, fontsize=8, ha='right', va='bottom',\n",
    "            path_effects=[withStroke(linewidth=3, foreground='white')], zorder=8)\n",
    "xlabel = f\"Getis - {col_name} - {nn}NN\"\n",
    "file_path = localautocorr_result_folder / f'{xlabel}.png'\n",
    "plt.savefig(file_path, dpi=640, bbox_inches='tight')"
   ]
  },
  {
   "cell_type": "code",
   "execution_count": null,
   "id": "33",
   "metadata": {},
   "outputs": [],
   "source": [
    "xlabel = f\"Getis Bar Plot - {col_name} - {nn}NN\"\n",
    "file_path = Path(localautocorr_result_folder) / f'{xlabel}.png'\n",
    "fig, ax = pyspace.plot_getis_by_class(df = df,x = f'{col_name}_G_cl',y = 'PRESTATIONS_BRUTES_CAM', label = 'Annual CAM (MHI) expenditures (CHF)', xtick_size=8, title_size=12, xlabel_size=8,ylabel_size= 8, p_001=False, showfliers = False)\n",
    "plt.savefig(file_path, dpi=320, bbox_inches='tight')"
   ]
  },
  {
   "cell_type": "code",
   "execution_count": null,
   "id": "34",
   "metadata": {},
   "outputs": [],
   "source": [
    "col_name = 'model0cam_continuous_res'\n",
    "nn=32\n",
    "df = df_cam_costs[~df_cam_costs[col_name].isnull()]\n",
    "w = lps.weights.KNN(cKDTree(get_points_array(df_cam_costs.geometry.centroid)), nn)\n",
    "getis_values = pyspace.compute_getis(df, col_name, w, 999, transform_type='B', p_001=False)\n",
    "fig, ax = pyspace.plotGetisMap(df, f\"{col_name}_G_cl\", markersize_s=0.08, markersize_l=1, p_001=False, commune_name=False)\n",
    "xlabel = f\"Getis - {col_name} - {nn}NN\"\n",
    "file_path = localautocorr_result_folder / f'{xlabel}.png'\n",
    "plt.savefig(file_path, dpi=1000, bbox_inches='tight')"
   ]
  },
  {
   "cell_type": "code",
   "execution_count": null,
   "id": "35",
   "metadata": {},
   "outputs": [],
   "source": [
    "col_name = 'model5cam_continuous_res'\n",
    "nn=32\n",
    "df = df_cam_costs[~df_cam_costs[col_name].isnull()]\n",
    "w = lps.weights.KNN(cKDTree(get_points_array(df.geometry.centroid)), nn)\n",
    "getis_values = pyspace.compute_getis(df, col_name, w, 999, transform_type='B', p_001=False)\n",
    "fig, ax = pyspace.plotGetisMap(df, f\"{col_name}_G_cl\", markersize_s=0.08, markersize_l=1, p_001=False, commune_name=False)\n",
    "xlabel = f\"Getis - {col_name} - {nn}NN\"\n",
    "file_path = localautocorr_result_folder / f'{xlabel}.png'\n",
    "plt.savefig(file_path, dpi=1000, bbox_inches='tight')"
   ]
  },
  {
   "cell_type": "markdown",
   "id": "36",
   "metadata": {},
   "source": [
    "## LCA USE"
   ]
  },
  {
   "cell_type": "code",
   "execution_count": null,
   "id": "37",
   "metadata": {},
   "outputs": [],
   "source": [
    "col_name = 'ihs_cost_lca'\n",
    "nn=32\n",
    "df = df_lca_costs[~df_lca_costs[col_name].isnull()]\n",
    "\n",
    "w = lps.weights.KNN(cKDTree(get_points_array(df.geometry.centroid)), nn)\n",
    "getis_values = pyspace.compute_getis(df, col_name, w, 999, transform_type='B', p_001=False)\n",
    "fig, ax = pyspace.plotGetisMap(df, f\"{col_name}_G_cl\", markersize_s=0.08, markersize_l=1, p_001=False, commune_name=False)\n",
    "\n",
    "for x, y, label in zip(gdf_names.geometry.centroid.x, gdf_names.geometry.centroid.y, gdf_names['NAME']):\n",
    "    ax.text(x, y, label, fontsize=8, ha='right', va='bottom',\n",
    "            path_effects=[withStroke(linewidth=3, foreground='white')], zorder=8)\n",
    "# ax.set_title('A', loc = 'left', size= 16)\n",
    "ax.set_axis_off()  # Hide axes\n",
    "\n",
    "xlabel = f\"Getis - {col_name} - {nn}NN\"\n",
    "file_path = localautocorr_result_folder / f'{xlabel}.png'\n",
    "plt.savefig(file_path, dpi=640, bbox_inches='tight')"
   ]
  },
  {
   "cell_type": "code",
   "execution_count": null,
   "id": "38",
   "metadata": {},
   "outputs": [],
   "source": [
    "xlabel = f\"Getis Bar Plot - {col_name} - {nn}NN\"\n",
    "file_path = Path(localautocorr_result_folder) / f'{xlabel}.png'\n",
    "\n",
    "fig, ax = pyspace.plot_getis_by_class(df = df,x = f'{col_name}_G_cl',y = 'PRESTATIONS_BRUTES_LCA', label = 'Annual CAM (SI) expenditures (CHF)', xtick_size=8, title_size=12, xlabel_size=8,ylabel_size= 8, p_001=False, showfliers = False)\n",
    "plt.savefig(file_path, dpi=320, bbox_inches='tight')"
   ]
  },
  {
   "cell_type": "code",
   "execution_count": null,
   "id": "39",
   "metadata": {},
   "outputs": [],
   "source": [
    "col_name = 'model0lca_continuous_res'\n",
    "nn=32\n",
    "# w = lps.weights.KNN(cKDTree(get_points_array(df_aos_costs.geometry.centroid)), nn)\n",
    "getis_values = pyspace.compute_getis(df, col_name, w, 999, transform_type='B', p_001=False)\n",
    "fig, ax = pyspace.plotGetisMap(df, f\"{col_name}_G_cl\", markersize_s=0.08, markersize_l=1, p_001=False, commune_name=False)\n",
    "xlabel = f\"Getis - {col_name} - {nn}NN\"\n",
    "file_path = localautocorr_result_folder / f'{xlabel}.png'\n",
    "plt.savefig(file_path, dpi=640, bbox_inches='tight')"
   ]
  },
  {
   "cell_type": "code",
   "execution_count": null,
   "id": "40",
   "metadata": {},
   "outputs": [],
   "source": [
    "col_name = 'model3lca_continuous_res'\n",
    "nn=32\n",
    "df = df_lca_costs[~df_lca_costs[col_name].isnull()]\n",
    "w = lps.weights.KNN(cKDTree(get_points_array(df.geometry.centroid)), nn)\n",
    "getis_values = pyspace.compute_getis(df, col_name, w, 999, transform_type='B', p_001=False)\n",
    "fig, ax = pyspace.plotGetisMap(df, f\"{col_name}_G_cl\", markersize_s=0.08, markersize_l=1, p_001=False, commune_name=False)\n",
    "xlabel = f\"Getis - {col_name} - {nn}NN\"\n",
    "file_path = localautocorr_result_folder / f'{xlabel}.png'\n",
    "plt.savefig(file_path, dpi=640, bbox_inches='tight')"
   ]
  },
  {
   "cell_type": "code",
   "execution_count": null,
   "id": "41",
   "metadata": {},
   "outputs": [],
   "source": [
    "col_name = 'model5lca_continuous_res'\n",
    "nn=32\n",
    "df = df_lca_costs[~df_lca_costs[col_name].isnull()]\n",
    "w = lps.weights.KNN(cKDTree(get_points_array(df.geometry.centroid)), nn)\n",
    "getis_values = pyspace.compute_getis(df, col_name, w, 999, transform_type='B', p_001=False)\n",
    "fig, ax = pyspace.plotGetisMap(df, f\"{col_name}_G_cl\", markersize_s=0.08, markersize_l=1, p_001=False, commune_name=False)\n",
    "xlabel = f\"Getis - {col_name} - {nn}NN\"\n",
    "file_path = localautocorr_result_folder / f'{xlabel}.png'\n",
    "plt.savefig(file_path, dpi=640, bbox_inches='tight')"
   ]
  },
  {
   "cell_type": "markdown",
   "id": "42",
   "metadata": {},
   "source": [
    "## Data as polygons\n",
    "### Create hexbins for aggregated evaluation of spatial statistics"
   ]
  },
  {
   "cell_type": "code",
   "execution_count": null,
   "id": "43",
   "metadata": {},
   "outputs": [],
   "source": [
    "from shapely.geometry import Polygon\n",
    "\n",
    "# Define the bounding box coordinates (xmin, ymin, xmax, ymax)\n",
    "xmin, ymin, xmax, ymax = data_final.total_bounds\n",
    "\n",
    "# Set the hexagon dimensions (dx is the distance from center to vertex)\n",
    "dx = 500  # in meters\n",
    "\n",
    "# Calculate vertical distance (dy)\n",
    "dy = dx * 3 ** 0.5\n",
    "\n",
    "# Initialize an empty list to hold hexagon polygons\n",
    "hexagon_list = []\n",
    "\n",
    "# Calculate the number of hexagons that fit in x and y dimensions\n",
    "nx = int((xmax - xmin) / (3/2 * dx))\n",
    "ny = int((ymax - ymin) / dy)\n",
    "\n",
    "# Generate hexagons\n",
    "for i in range(nx):\n",
    "    for j in range(ny):\n",
    "        x = xmin + i * 3/2 * dx\n",
    "        y = ymin + j * dy\n",
    "\n",
    "        # Offset every other row\n",
    "        if i % 2 == 1:\n",
    "            y += dy / 2\n",
    "\n",
    "        # Create vertices of the hexagon\n",
    "        vertices = [(x + dx * np.cos(np.pi / 3 * t), y + dx * np.sin(np.pi / 3 * t)) for t in range(6)]\n",
    "        \n",
    "        # Create a polygon from vertices and add to list\n",
    "        hexagon = Polygon(vertices)\n",
    "        hexagon_list.append(hexagon)\n",
    "\n",
    "# Create a GeoDataFrame from the hexagon polygons\n",
    "h3_500_gdf = gpd.GeoDataFrame(geometry=hexagon_list, crs=2056)\n",
    "h3_500_gdf['index'] = h3_500_gdf.index"
   ]
  },
  {
   "cell_type": "code",
   "execution_count": null,
   "id": "44",
   "metadata": {},
   "outputs": [],
   "source": [
    "h3_500_GM = gpd.sjoin(h3_500_gdf, data_final[['uuid','NOANNEE','geometry']], predicate = 'intersects')\n",
    "h3_500_GM[['index','uuid']] = h3_500_GM[['index','uuid']].astype('category')\n",
    "h3_500_GM = h3_500_GM.groupby(['index','NOANNEE']).uuid.nunique().reset_index()\n",
    "h3_500_GM_merged = pd.merge(h3_500_gdf, h3_500_GM, on = ['index'])"
   ]
  },
  {
   "cell_type": "code",
   "execution_count": null,
   "id": "45",
   "metadata": {},
   "outputs": [],
   "source": [
    "h3_500_GM_merged.columns = ['geometry','h3_id','NOANNEE','n']"
   ]
  },
  {
   "cell_type": "code",
   "execution_count": null,
   "id": "46",
   "metadata": {},
   "outputs": [],
   "source": [
    "ax = h3_500_GM_merged[h3_500_GM_merged.NOANNEE == 2017].plot('n', legend =True, figsize = (20,20), legend_kwds = {'shrink':0.3})\n",
    "ax.set_axis_off()"
   ]
  },
  {
   "cell_type": "markdown",
   "id": "47",
   "metadata": {},
   "source": [
    "### Calculate averages by h3"
   ]
  },
  {
   "cell_type": "code",
   "execution_count": null,
   "id": "48",
   "metadata": {},
   "outputs": [],
   "source": [
    "joined_gdf = gpd.sjoin(data_final,h3_500_gdf[['geometry']], predicate = 'intersects')"
   ]
  },
  {
   "cell_type": "code",
   "execution_count": null,
   "id": "49",
   "metadata": {},
   "outputs": [],
   "source": [
    "joined_gdf.drop(['uuid','CDPHYSSEXE','age_group','CANTON_NAME','CANTON_ACRONYM','geometry'], axis = 1).groupby(['index_right','NOANNEE']).mean()"
   ]
  },
  {
   "cell_type": "code",
   "execution_count": null,
   "id": "50",
   "metadata": {},
   "outputs": [],
   "source": [
    "agg_data_final = joined_gdf.drop(['uuid','CDPHYSSEXE','age_group','CANTON_NAME','CANTON_ACRONYM','geometry'], axis = 1).groupby(['index_right','NOANNEE']).mean().reset_index()"
   ]
  },
  {
   "cell_type": "code",
   "execution_count": null,
   "id": "51",
   "metadata": {},
   "outputs": [],
   "source": [
    "agg_data_final = agg_data_final.rename(columns = {'index_right':'h3_id'})"
   ]
  },
  {
   "cell_type": "code",
   "execution_count": null,
   "id": "52",
   "metadata": {},
   "outputs": [],
   "source": [
    "h3_500_GM_merged_wfeatures = pd.merge(h3_500_GM_merged, agg_data_final, on = ['h3_id','NOANNEE'], how = 'left')"
   ]
  },
  {
   "cell_type": "markdown",
   "id": "53",
   "metadata": {},
   "source": [
    "### Global autocorrelation of main features - Moran's I"
   ]
  },
  {
   "cell_type": "code",
   "execution_count": null,
   "id": "54",
   "metadata": {},
   "outputs": [],
   "source": [
    "from libpysal.weights import Queen, Rook, KNN\n",
    "from libpysal.weights import lat2W, higher_order"
   ]
  },
  {
   "cell_type": "code",
   "execution_count": null,
   "id": "55",
   "metadata": {},
   "outputs": [],
   "source": [
    "agg_results_folder = results_folder/'Aggregated'"
   ]
  },
  {
   "cell_type": "code",
   "execution_count": null,
   "id": "56",
   "metadata": {},
   "outputs": [],
   "source": [
    "globalautocorr_agg_result_folder = agg_results_folder/'Global Autocorrelation'\n",
    "if not os.path.exists(globalautocorr_agg_result_folder):\n",
    "    os.makedirs(globalautocorr_agg_result_folder)"
   ]
  },
  {
   "cell_type": "code",
   "execution_count": null,
   "id": "57",
   "metadata": {},
   "outputs": [],
   "source": [
    "localautocorr_agg_result_folder = agg_results_folder/'Local Autocorrelation'\n",
    "if not os.path.exists(localautocorr_agg_result_folder):\n",
    "    os.makedirs(localautocorr_agg_result_folder)"
   ]
  },
  {
   "cell_type": "code",
   "execution_count": null,
   "id": "58",
   "metadata": {},
   "outputs": [],
   "source": [
    "weights_by_year_h3 = {}\n",
    "weights_by_year_h3_pop_scaled = {}"
   ]
  },
  {
   "cell_type": "code",
   "execution_count": null,
   "id": "59",
   "metadata": {},
   "outputs": [],
   "source": [
    "def get_weights(df, nn, pop_scaled=False):\n",
    "    print('Calculating weights')\n",
    "    w = lps.weights.KNN(cKDTree(get_points_array(df.geometry.centroid)), nn)\n",
    "    if pop_scaled:\n",
    "        print('Scaling weights')\n",
    "        # Adjust weights by the square root of the product of populations\n",
    "        for i, neighbors in w.neighbors.items():\n",
    "            for j in neighbors:\n",
    "                original_weight = w.weights[i][neighbors.index(j)]\n",
    "                adjusted_weight = original_weight *  df['n'].iloc[j]\n",
    "                w.weights[i][neighbors.index(j)] = adjusted_weight\n",
    "                w.transform = 'R'\n",
    "        return w\n",
    "    else:\n",
    "        return w"
   ]
  },
  {
   "cell_type": "code",
   "execution_count": null,
   "id": "60",
   "metadata": {},
   "outputs": [],
   "source": [
    "col_names = ['PRESTATIONS_BRUTES_AOS', 'PRESTATIONS_BRUTES_LCA', 'cds']  # replace with your actual column names\n",
    "# Calculate weights once for each year and store them\n",
    "years = [2017, 2018, 2019, 2020, 2021]\n",
    "nn = 18\n",
    "\n",
    "for col_name in col_names:\n",
    "    if col_name not in weights_by_year_h3.keys():\n",
    "        weights_by_year_h3[col_name] = {}\n",
    "        weights_by_year_h3_pop_scaled[col_name] = {}\n",
    "    for year in years:\n",
    "        print(col_name, year)\n",
    "        # Store the weights in the dictionary\n",
    "        df = h3_500_GM_merged_wfeatures[h3_500_GM_merged_wfeatures.NOANNEE == year]\n",
    "        df_nonull = df[df[col_name].isnull()==False]\n",
    "        if year not in weights_by_year_h3[col_name].keys():\n",
    "            weights_by_year_h3[col_name][year] = get_weights(df_nonull, nn, pop_scaled=False)\n",
    "            weights_by_year_h3_pop_scaled[col_name][year] = get_weights(df_nonull, nn, pop_scaled=True) \n",
    "\n",
    "\n",
    "# Now iterate over each column and use the pre-calculated weights\n",
    "for col_name in col_names:\n",
    "    for year in years:\n",
    "        df = h3_500_GM_merged_wfeatures[h3_500_GM_merged_wfeatures.NOANNEE == year]\n",
    "        df_nonull = df[df[col_name].isnull()==False]\n",
    "        w = weights_by_year_h3[col_name][year]  # Retrieve pre-calculated weights\n",
    "        mi = GlobalMoranI(db=df_nonull, col=col_name, year=year, distance=nn, w=w, result_folder=globalautocorr_agg_result_folder)"
   ]
  },
  {
   "cell_type": "code",
   "execution_count": null,
   "id": "61",
   "metadata": {},
   "outputs": [],
   "source": [
    "year = 2018\n",
    "col_name = 'PRESTATIONS_BRUTES_AOS'\n",
    "for nn in [6,18,36, 72, 144, 288]:\n",
    "    df = h3_500_GM_merged_wfeatures[h3_500_GM_merged_wfeatures.NOANNEE == year]\n",
    "    df_nonull = df[df[col_name].isnull()==False]\n",
    "    w = lps.weights.KNN(cKDTree(get_points_array(df_nonull.geometry.centroid)), nn)  # Retrieve pre-calculated weights\n",
    "    mi = GlobalMoranI(db=df_nonull, col=col_name, year=year, distance=nn, w=w, result_folder=globalautocorr_agg_result_folder)"
   ]
  },
  {
   "cell_type": "markdown",
   "id": "62",
   "metadata": {},
   "source": [
    "### Local autocorrelation with Getis Ord Gi"
   ]
  },
  {
   "cell_type": "code",
   "execution_count": null,
   "id": "63",
   "metadata": {},
   "outputs": [],
   "source": [
    "from esda import fdr"
   ]
  },
  {
   "cell_type": "code",
   "execution_count": null,
   "id": "64",
   "metadata": {},
   "outputs": [],
   "source": [
    "nn = 36"
   ]
  },
  {
   "cell_type": "code",
   "execution_count": null,
   "id": "65",
   "metadata": {},
   "outputs": [],
   "source": [
    "def compute_plot_getis(df_merged, col_names, years, nn, pop_scaled, result_folder):\n",
    "    df_getis = {}\n",
    "    for col_name in col_names:\n",
    "        df_getis[col_name] = {}\n",
    "        for year in years:\n",
    "            df = df_merged[df_merged.NOANNEE == year]\n",
    "            df_nonull = df[df[col_name].notnull()]\n",
    "\n",
    "            if pop_scaled:\n",
    "                w = get_weights(df_nonull, nn, pop_scaled=True)\n",
    "                getis_values = pyspace.compute_getis(df_nonull, col_name, w, 9999, star=False, transform_type='R', p_001=True)\n",
    "\n",
    "            else:\n",
    "                w = get_weights(df_nonull, nn)\n",
    "                getis_values = pyspace.compute_getis(df_nonull, col_name, w, 9999, star=False, transform_type='B', p_001=True)\n",
    "            xlabel = f\"Getis - {col_name} - {year} - {nn}NN\"\n",
    "            file_path = Path(result_folder) / f'{xlabel}.png'\n",
    "            if not file_path.exists():\n",
    "                fig, ax = pyspace.plotGetisMap(df_nonull, f\"{col_name}_G_cl\", markersize_s=0.01, markersize_l=0.1, p_001=True, commune_name=False)\n",
    "                plt.savefig(file_path, dpi=1000, bbox_inches='tight')\n",
    "            \n",
    "            # FDR adjustment\n",
    "            fdr_pvalue = fdr(getis_values.p_sim, 0.05)\n",
    "            df_nonull[f\"{col_name}_G_cl_fdr\"] = df_nonull[f\"{col_name}_G_cl\"]\n",
    "            df_nonull.loc[df_nonull[f\"{col_name}_G_psim\"] >= fdr_pvalue, f\"{col_name}_G_cl_fdr\"] = 'Not significant'\n",
    "            \n",
    "            xlabel_fdr = f\"Getis - {col_name} - {year} - {nn}NN_fdr\"\n",
    "            file_path_fdr = Path(result_folder) / f'{xlabel_fdr}.png'\n",
    "            if not file_path_fdr.exists():\n",
    "                fig, ax = pyspace.plotGetisMap(df_nonull, f\"{col_name}_G_cl_fdr\", markersize_s=0.01, markersize_l=0.1, p_001=True, commune_name=False)\n",
    "                plt.savefig(file_path_fdr, dpi=1000, bbox_inches='tight')\n",
    "            \n",
    "            df_getis[col_name][year] = df_nonull\n",
    "    \n",
    "    return df_getis"
   ]
  },
  {
   "cell_type": "code",
   "execution_count": null,
   "id": "66",
   "metadata": {},
   "outputs": [],
   "source": [
    "# Binary weighting matrix\n",
    "df_getis_results = compute_plot_getis(h3_500_GM_merged_wfeatures, col_names, years, nn, False, localautocorr_agg_result_folder)"
   ]
  },
  {
   "cell_type": "code",
   "execution_count": null,
   "id": "67",
   "metadata": {},
   "outputs": [],
   "source": [
    "# Population scaled weights (more populated h3 have more weights) then row-standardized\n",
    "df_getis_results_pop_scaled = compute_plot_getis(h3_500_GM_merged_wfeatures, col_names, years, nn, True, localautocorr_agg_result_folder/'Population Scaled weights')"
   ]
  },
  {
   "cell_type": "code",
   "execution_count": null,
   "id": "68",
   "metadata": {},
   "outputs": [],
   "source": [
    "dict_labels = {'PRESTATIONS_BRUTES_AOS':'Conv. Med. Yearly Spending (CHF)',\n",
    "              'PRESTATIONS_BRUTES_LCA':'Compl. Med. Yearly Spending (CHF)',\n",
    "              'cds':'Chronic Disease Score (CDS)',\n",
    "              'ihs_cost_lca':'IHS transformed CAM claims amount'}"
   ]
  },
  {
   "cell_type": "markdown",
   "id": "69",
   "metadata": {},
   "source": [
    "### Avg by Getis class - Bar plots"
   ]
  },
  {
   "cell_type": "code",
   "execution_count": null,
   "id": "70",
   "metadata": {},
   "outputs": [],
   "source": [
    "for col_name in col_names:\n",
    "    for year in years:\n",
    "        xlabel = f\"Getis Bar Plot - {col_name} - {year} - {nn}NN\"\n",
    "        file_path = Path(localautocorr_agg_result_folder) / f'{xlabel}.png'\n",
    "\n",
    "        fig, ax = pyspace.plot_getis_by_class(df_getis_results[col_name][year],f'{col_name}_G_cl', col_name, dict_labels[col_name], 8, 12, 8, 8, p_001=True, showfliers = False)\n",
    "        plt.savefig(file_path, dpi=320, bbox_inches='tight')"
   ]
  },
  {
   "cell_type": "code",
   "execution_count": null,
   "id": "71",
   "metadata": {},
   "outputs": [],
   "source": [
    "for col_name in col_names:\n",
    "    for year in years:\n",
    "        xlabel = f\"Getis Bar Plot - {col_name} - {year} - {nn}NN\"\n",
    "        file_path = Path(localautocorr_agg_result_folder/'Population Scaled weights') / f'{xlabel}.png'\n",
    "\n",
    "        fig, ax = pyspace.plot_getis_by_class(df_getis_results_pop_scaled[col_name][year],f'{col_name}_G_cl', col_name, dict_labels[col_name], 8, 12, 8, 8, p_001=True, showfliers = False)\n",
    "        plt.savefig(file_path, dpi=320, bbox_inches='tight')"
   ]
  },
  {
   "cell_type": "markdown",
   "id": "72",
   "metadata": {},
   "source": [
    "## Adjustment models\n",
    "\n",
    "### 1. OLS"
   ]
  },
  {
   "cell_type": "code",
   "execution_count": null,
   "id": "73",
   "metadata": {},
   "outputs": [],
   "source": [
    "from spreg import OLS\n",
    "from spreg import ML_Lag\n",
    "from spreg import GM_Lag\n",
    "from spreg import ML_Error\n",
    "from spreg import GM_Error\n",
    "from sklearn.preprocessing import StandardScaler\n",
    "scaler = StandardScaler()"
   ]
  },
  {
   "cell_type": "code",
   "execution_count": null,
   "id": "74",
   "metadata": {},
   "outputs": [],
   "source": [
    "df_test = df_getis_results['PRESTATIONS_BRUTES_LCA'][year]\n",
    "w_test = weights_by_year_h3['PRESTATIONS_BRUTES_LCA'][year]\n",
    "y = 'PRESTATIONS_BRUTES_LCA'\n",
    "X = ['NBAGE','ssep2','SEX_F','cds']\n",
    "df_test[X] = StandardScaler().fit_transform(df_test[X])"
   ]
  },
  {
   "cell_type": "code",
   "execution_count": null,
   "id": "75",
   "metadata": {},
   "outputs": [],
   "source": [
    "def run_ols(df,X,y,w):\n",
    "    g_y = df[y].values.reshape(-1, 1)\n",
    "    g_X = df[X].values\n",
    "    ols = OLS(g_y, g_X, w, spat_diag=True, moran=True, name_y=y, name_x=X)\n",
    "    return ols"
   ]
  },
  {
   "cell_type": "code",
   "execution_count": null,
   "id": "76",
   "metadata": {},
   "outputs": [],
   "source": [
    "ols = run_ols(df_test, X, y, w_test)"
   ]
  },
  {
   "cell_type": "code",
   "execution_count": null,
   "id": "77",
   "metadata": {},
   "outputs": [],
   "source": [
    "print(ols.summary)"
   ]
  },
  {
   "cell_type": "code",
   "execution_count": null,
   "id": "78",
   "metadata": {},
   "outputs": [],
   "source": [
    "df_test['OLS_residuals'] = ols.u"
   ]
  },
  {
   "cell_type": "markdown",
   "id": "79",
   "metadata": {},
   "source": [
    "### Spatial error model"
   ]
  },
  {
   "cell_type": "code",
   "execution_count": null,
   "id": "80",
   "metadata": {},
   "outputs": [],
   "source": [
    "def run_mlerr(df,X,y,w):\n",
    "    g_y = df[y].values.reshape(-1, 1)\n",
    "    g_X = df[X].values\n",
    "    mlerr = ML_Error(g_y,g_X,w,name_y=y,name_x=X,name_w='36NN') \n",
    "    return mlerr"
   ]
  },
  {
   "cell_type": "code",
   "execution_count": null,
   "id": "81",
   "metadata": {},
   "outputs": [],
   "source": [
    "mlerr = run_mlerr(df_test, X, y, w_test)"
   ]
  },
  {
   "cell_type": "code",
   "execution_count": null,
   "id": "82",
   "metadata": {},
   "outputs": [],
   "source": [
    "print(mlerr.summary)"
   ]
  },
  {
   "cell_type": "code",
   "execution_count": null,
   "id": "83",
   "metadata": {},
   "outputs": [],
   "source": [
    "df_test['MLERR_residuals'] = mlerr.u"
   ]
  },
  {
   "cell_type": "markdown",
   "id": "84",
   "metadata": {},
   "source": [
    "### GWR"
   ]
  },
  {
   "cell_type": "code",
   "execution_count": null,
   "id": "85",
   "metadata": {},
   "outputs": [],
   "source": [
    "import mgwr\n",
    "reload(mgwr)"
   ]
  },
  {
   "cell_type": "code",
   "execution_count": null,
   "id": "86",
   "metadata": {},
   "outputs": [],
   "source": [
    "from mgwr.gwr import GWR, MGWR\n",
    "from mgwr.sel_bw import Sel_BW\n",
    "from mgwr.utils import shift_colormap, truncate_colormap,compare_surfaces\n",
    "from shapely.geometry import Point\n",
    "import multiprocessing as mp\n",
    "from contextlib import redirect_stdout\n",
    "import itertools"
   ]
  },
  {
   "cell_type": "code",
   "execution_count": null,
   "id": "87",
   "metadata": {},
   "outputs": [],
   "source": [
    "def model_prep(df,y,X):\n",
    "    \"\"\"Prepare data for subsequent GWR/MGWR\"\"\"\n",
    "    g_y = df[y].values.reshape(-1, 1)\n",
    "    g_X = df[X].values\n",
    "    u = df['E']\n",
    "    v = df['N']\n",
    "    g_coords = list(zip(u,v))\n",
    "    g_X = (g_X - g_X.mean(axis=0)) / g_X.std(axis=0)\n",
    "    g_y = (g_y - g_y.mean(axis=0)) / g_y.std(axis=0)\n",
    "    return g_y, g_X, g_coords"
   ]
  },
  {
   "cell_type": "code",
   "execution_count": null,
   "id": "88",
   "metadata": {},
   "outputs": [],
   "source": [
    "df_test['E'] = df_test['geometry'].centroid.x\n",
    "df_test['N'] = df_test['geometry'].centroid.y"
   ]
  },
  {
   "cell_type": "code",
   "execution_count": null,
   "id": "89",
   "metadata": {},
   "outputs": [],
   "source": [
    "df_test.to_file('df_test_mgwr.shp')"
   ]
  },
  {
   "cell_type": "code",
   "execution_count": null,
   "id": "90",
   "metadata": {},
   "outputs": [],
   "source": [
    "n_proc = 9\n",
    "g_y,g_X,g_coords = model_prep(df_test,y,X)\n",
    "pool = mp.Pool(n_proc)\n",
    "gwr_selector = Sel_BW(g_coords, g_y, g_X, fixed=False, kernel='bisquare')\n",
    "gwr_bw = gwr_selector.search(verbose = True,criterion='AICc',interval = 100,pool = pool)\n",
    "pool.close()"
   ]
  },
  {
   "cell_type": "code",
   "execution_count": null,
   "id": "91",
   "metadata": {},
   "outputs": [],
   "source": [
    "model = GWR(g_coords, g_y, g_X, bw=gwr_bw, fixed=False, kernel='bisquare')\n",
    "pool = mp.Pool(n_proc)\n",
    "gwr_results = model.fit(pool = pool)\n",
    "pool.close()"
   ]
  },
  {
   "cell_type": "code",
   "execution_count": null,
   "id": "92",
   "metadata": {},
   "outputs": [],
   "source": [
    "gwr_results_filtered = gwr_results.filter_tvals()"
   ]
  },
  {
   "cell_type": "code",
   "execution_count": null,
   "id": "93",
   "metadata": {},
   "outputs": [],
   "source": [
    "df_test['GWR_residuals'] = gwr_results.resid_response"
   ]
  },
  {
   "cell_type": "markdown",
   "id": "94",
   "metadata": {},
   "source": [
    "### MGWR"
   ]
  },
  {
   "cell_type": "code",
   "execution_count": null,
   "id": "95",
   "metadata": {},
   "outputs": [],
   "source": [
    "mgwr_agg_result_folder = agg_results_folder/'GWR_MGWR'\n",
    "if not os.path.exists(mgwr_agg_result_folder):\n",
    "    os.makedirs(mgwr_agg_result_folder)"
   ]
  },
  {
   "cell_type": "code",
   "execution_count": null,
   "id": "96",
   "metadata": {},
   "outputs": [],
   "source": [
    "y = (y - y.mean(axis=0)) / y.std(axis=0)"
   ]
  },
  {
   "cell_type": "code",
   "execution_count": null,
   "id": "97",
   "metadata": {},
   "outputs": [],
   "source": [
    "\n",
    "_data = lps.io.open(lps.examples.get_path('GData_utm.csv'))\n",
    "_coords = list(zip(_data.by_col('X'), _data.by_col('Y')))\n",
    "_y = np.array(_data.by_col('PctBach')).reshape((-1,1))"
   ]
  },
  {
   "cell_type": "code",
   "execution_count": null,
   "id": "98",
   "metadata": {},
   "outputs": [],
   "source": [
    "g_y,g_X,g_coords = model_prep(df_test,y,X)\n",
    "pool = mp.Pool(n_proc)\n",
    "mgwr_selector = Sel_BW(g_coords, g_y, g_X, fixed=False,multi = True, kernel='bisquare')\n",
    "mgwr_bw = mgwr_selector.search(verbose = True,criterion='AICc',pool = pool)\n",
    "pool.close()\n"
   ]
  },
  {
   "cell_type": "code",
   "execution_count": null,
   "id": "99",
   "metadata": {},
   "outputs": [],
   "source": [
    "pool.close()"
   ]
  },
  {
   "cell_type": "code",
   "execution_count": null,
   "id": "100",
   "metadata": {},
   "outputs": [],
   "source": [
    "model = MGWR(g_coords, g_y, g_X, selector=mgwr_selector, fixed=False, kernel='bisquare')\n",
    "pool = mp.Pool(n_proc)\n",
    "mgwr_results = model.fit(pool = pool)\n",
    "pool.close()"
   ]
  },
  {
   "cell_type": "code",
   "execution_count": null,
   "id": "101",
   "metadata": {},
   "outputs": [],
   "source": [
    "mgwr_results_filtered = mgwr_results.filter_tvals()"
   ]
  },
  {
   "cell_type": "code",
   "execution_count": null,
   "id": "102",
   "metadata": {},
   "outputs": [],
   "source": [
    "df_test['MGWR_residuals'] = mgwr_results.resid_response"
   ]
  },
  {
   "cell_type": "code",
   "execution_count": null,
   "id": "103",
   "metadata": {},
   "outputs": [],
   "source": [
    "sum(df_test['MGWR_residuals']**2)"
   ]
  },
  {
   "cell_type": "code",
   "execution_count": null,
   "id": "104",
   "metadata": {},
   "outputs": [],
   "source": [
    "sum(df_test['GWR_residuals']**2)"
   ]
  },
  {
   "cell_type": "code",
   "execution_count": null,
   "id": "105",
   "metadata": {},
   "outputs": [],
   "source": [
    "sum(df_test['MLERR_residuals']**2)"
   ]
  },
  {
   "cell_type": "code",
   "execution_count": null,
   "id": "106",
   "metadata": {},
   "outputs": [],
   "source": [
    "sum(df_test['OLS_residuals']**2)"
   ]
  },
  {
   "cell_type": "code",
   "execution_count": null,
   "id": "107",
   "metadata": {},
   "outputs": [],
   "source": [
    "reload(mgwr.utils)\n",
    "def plot_gwr_mgwr(df,X,gwr_bw,mgwr_bw,gwr_results,mgwr_results,gwr_filtered_t,mgwr_filtered_t,result_dir):\n",
    "    kwargs1 = {'edgecolor': 'lightgrey', 'markersize': 100}\n",
    "    kwargs2 = {'facecolor': 'lightgrey', 'markersize': 100}\n",
    "#     df['gwr_intercept'] = gwr_results.params[:, 0]\n",
    "#     df['mgwr_intercept'] = mgwr_results.params[:, 0]\n",
    "    if 'intercept' not in X:\n",
    "        X.insert(0,'intercept')\n",
    "    for i,var in enumerate(X):\n",
    "        print(i,var)\n",
    "        var_mgwr = 'mgwr_'+var\n",
    "        var_gwr = 'gwr_'+var\n",
    "        df[var_gwr] = gwr_results.params[:, i]\n",
    "        df[var_mgwr] = mgwr_results.params[:, i]\n",
    "\n",
    "    print('*'*30,'Start of plotting step','*'*30)\n",
    "    for i,var in enumerate(X):\n",
    "        var_gwr,var_mgwr = 'gwr_'+ var,'mgwr_'+ var\n",
    "        mgwr.utils.compare_surfaces(df, var_gwr, var_mgwr,\n",
    "        gwr_filtered_t[:, i], gwr_bw,\n",
    "        mgwr_filtered_t[:, i], mgwr_bw[i],\n",
    "        var, kwargs1, kwargs2, savefig = result_dir/var)"
   ]
  },
  {
   "cell_type": "code",
   "execution_count": null,
   "id": "108",
   "metadata": {},
   "outputs": [],
   "source": [
    "plot_gwr_mgwr(df_test, X, gwr_bw, mgwr_bw, gwr_results, mgwr_results, gwr_results_filtered, mgwr_results_filtered, mgwr_agg_result_folder)"
   ]
  },
  {
   "cell_type": "code",
   "execution_count": null,
   "id": "109",
   "metadata": {},
   "outputs": [],
   "source": [
    "import matplotlib as mpl\n",
    "mpl.colormaps['viridis']"
   ]
  }
 ],
 "metadata": {
  "kernelspec": {
   "display_name": "MGWR",
   "language": "python",
   "name": "mgwr"
  },
  "language_info": {
   "codemirror_mode": {
    "name": "ipython",
    "version": 3
   },
   "file_extension": ".py",
   "mimetype": "text/x-python",
   "name": "python",
   "nbconvert_exporter": "python",
   "pygments_lexer": "ipython3",
   "version": "3.8.18"
  }
 },
 "nbformat": 4,
 "nbformat_minor": 5
}
