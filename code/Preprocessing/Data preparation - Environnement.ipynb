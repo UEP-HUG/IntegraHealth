{
 "cells": [
  {
   "cell_type": "code",
   "execution_count": null,
   "id": "0",
   "metadata": {},
   "outputs": [],
   "source": [
    "import pandas as pd\n",
    "import geopandas as gpd\n",
    "import shapely\n",
    "import numpy as np\n",
    "from pathlib import Path\n",
    "import os\n",
    "os.environ['USE_PYGEOS'] = '0'\n",
    "import rasterio\n",
    "from rasterio.plot import show\n",
    "from shapely.geometry import Point, Polygon\n",
    "from rasterstats import zonal_stats, point_query\n",
    "from rasterio.plot import show_hist\n",
    "from rasterio.mask import mask\n",
    "import matplotlib.pyplot as plt\n",
    "import contextily as ctx\n",
    "# import geemap\n",
    "# import geemap.colormaps as cm"
   ]
  },
  {
   "cell_type": "markdown",
   "id": "1",
   "metadata": {},
   "source": [
    "## Load data"
   ]
  },
  {
   "cell_type": "code",
   "execution_count": null,
   "id": "2",
   "metadata": {},
   "outputs": [],
   "source": [
    "data_folder = Path('../Data/')\n",
    "databases = Path('/Users/david/Dropbox/PhD/Data/')"
   ]
  },
  {
   "cell_type": "code",
   "execution_count": null,
   "id": "3",
   "metadata": {},
   "outputs": [],
   "source": [
    "cantons_ch = gpd.read_file('/Users/david/Dropbox/PhD/Data/Databases/SITG/SHAPEFILE_LV95_LN02/swissBOUNDARIES3D_1_3_TLM_KANTONSGEBIET.shp')\n",
    "cantons_ch = cantons_ch.to_crs(2056)"
   ]
  },
  {
   "cell_type": "code",
   "execution_count": null,
   "id": "4",
   "metadata": {},
   "outputs": [],
   "source": [
    "cantons_ch[(cantons_ch.NAME =='Vaud')&(cantons_ch.KANTONSFLA.isnull()==False)].to_file('/Users/david/Dropbox/PhD/GitHub/GEOCOVID-phase2/data/canton_vd.shp', driver = \"Shapefile\")"
   ]
  },
  {
   "cell_type": "code",
   "execution_count": null,
   "id": "5",
   "metadata": {},
   "outputs": [],
   "source": [
    "statpop = pd.read_csv('/Users/david/Dropbox/PhD/Data/Databases/OFS/ag-b-00.03-vz2020statpop/STATPOP2020.csv',sep = ';')\n",
    "statpop_ha = statpop.copy()\n",
    "geometry = [Point(xy) for xy in zip(statpop['E_KOORD'], statpop['N_KOORD'])]\n",
    "statpop_point = gpd.GeoDataFrame(statpop, crs=2056, geometry=geometry)   "
   ]
  },
  {
   "cell_type": "code",
   "execution_count": null,
   "id": "6",
   "metadata": {},
   "outputs": [],
   "source": [
    "geometry = [Polygon(zip([xy[0],xy[0],xy[0]+100,xy[0]+100],[xy[1],xy[1]+100,xy[1]+100,xy[1]])) for xy in zip(statpop_ha.E_KOORD, statpop_ha.N_KOORD)]\n",
    "statpop_ha = gpd.GeoDataFrame(statpop_ha, crs=2056, geometry=geometry)      "
   ]
  },
  {
   "cell_type": "code",
   "execution_count": null,
   "id": "7",
   "metadata": {},
   "outputs": [],
   "source": [
    "canton_vd = cantons_ch[(cantons_ch.NAME == 'Vaud')&(cantons_ch.EINWOHNERZ.isnull()==False)]\n",
    "statpop_ha_4326 = statpop_ha.to_crs(4326)"
   ]
  },
  {
   "cell_type": "markdown",
   "id": "8",
   "metadata": {},
   "source": [
    "## Process data"
   ]
  },
  {
   "cell_type": "code",
   "execution_count": null,
   "id": "9",
   "metadata": {},
   "outputs": [],
   "source": [
    "stats_no2_tropospheric = pd.read_csv('/Users/david/Library/CloudStorage/GoogleDrive-dn.de.ridder@gmail.com/My Drive/AirPollution/statisticalDataOfNO2.csv')"
   ]
  },
  {
   "cell_type": "code",
   "execution_count": null,
   "id": "10",
   "metadata": {},
   "outputs": [],
   "source": [
    "def import_raster_and_get_min_max(raster_path):\n",
    "    fp = os.path.join(data_dir, raster_path)\n",
    "    # Open the file:\n",
    "    raster = rasterio.open(fp)\n",
    "\n",
    "    # Check type of the variable 'raster'\n",
    "    type(raster)\n",
    "    # Read the raster band as separate variable\n",
    "    band1 = raster.read(1)\n",
    "\n",
    "    # Check type of the variable 'band'\n",
    "#     print(type(band1))\n",
    "\n",
    "    # Data type of the values\n",
    "#     print(band1.dtype)\n",
    "    # Read all bands\n",
    "    array = raster.read()\n",
    "\n",
    "    # Calculate statistics for each band\n",
    "    stats = []\n",
    "    for band in array:\n",
    "        stats.append({\n",
    "            'min': band.min(),\n",
    "            'mean': band.mean(),\n",
    "            'median': np.median(band),\n",
    "            'max': band.max()})\n",
    "\n",
    "    # Show stats for each channel\n",
    "    return stats[0]"
   ]
  },
  {
   "cell_type": "code",
   "execution_count": null,
   "id": "11",
   "metadata": {},
   "outputs": [],
   "source": [
    "data_dir = \"/Users/david/Downloads/\"\n",
    "fp = os.path.join(data_dir, \"Pollution NO2/download.tropospheric_NO2_column_number_density 1.tif\")"
   ]
  },
  {
   "cell_type": "code",
   "execution_count": null,
   "id": "12",
   "metadata": {},
   "outputs": [],
   "source": [
    "all_stats = []\n",
    "for i in range (1,45):\n",
    "    stats = import_raster_and_get_min_max(\"Pollution NO2/download.tropospheric_NO2_column_number_density {}.tif\".format(i))\n",
    "    all_stats.append(stats)"
   ]
  },
  {
   "cell_type": "code",
   "execution_count": null,
   "id": "13",
   "metadata": {},
   "outputs": [],
   "source": [
    "stats_rasterno2 = pd.DataFrame(all_stats)"
   ]
  },
  {
   "cell_type": "code",
   "execution_count": null,
   "id": "14",
   "metadata": {},
   "outputs": [],
   "source": [
    "stats_rasterno2 = stats_rasterno2.round(4)"
   ]
  },
  {
   "cell_type": "code",
   "execution_count": null,
   "id": "15",
   "metadata": {},
   "outputs": [],
   "source": [
    "stats_no2_tropospheric  = stats_no2_tropospheric.round(4)"
   ]
  },
  {
   "cell_type": "code",
   "execution_count": null,
   "id": "16",
   "metadata": {},
   "outputs": [],
   "source": [
    "pd.merge(stats_rasterno2, stats_no2_tropospheric,how = 'left', right_on = 'tropospheric_NO2_column_number_density_max', left_on = 'max') "
   ]
  },
  {
   "cell_type": "code",
   "execution_count": null,
   "id": "17",
   "metadata": {},
   "outputs": [],
   "source": [
    "def getFeatures(gdf):\n",
    "    \"\"\"Function to parse features from GeoDataFrame in such a manner that rasterio wants them\"\"\"\n",
    "    import json\n",
    "    return [json.loads(gdf.to_json())['features'][0]['geometry']]"
   ]
  },
  {
   "cell_type": "code",
   "execution_count": null,
   "id": "18",
   "metadata": {},
   "outputs": [],
   "source": [
    "# Open the file:\n",
    "raster = rasterio.open(fp)\n",
    "\n",
    "# Check type of the variable 'raster'\n",
    "type(raster)"
   ]
  },
  {
   "cell_type": "code",
   "execution_count": null,
   "id": "19",
   "metadata": {},
   "outputs": [],
   "source": [
    "# Read the raster band as separate variable\n",
    "band1 = raster.read(1)\n",
    "\n",
    "# Check type of the variable 'band'\n",
    "print(type(band1))\n",
    "\n",
    "# Data type of the values\n",
    "print(band1.dtype)"
   ]
  },
  {
   "cell_type": "code",
   "execution_count": null,
   "id": "20",
   "metadata": {},
   "outputs": [],
   "source": [
    "# Read all bands\n",
    "array = raster.read()\n",
    "\n",
    "# Calculate statistics for each band\n",
    "stats = []\n",
    "for band in array:\n",
    "    stats.append({\n",
    "        'min': band.min(),\n",
    "        'mean': band.mean(),\n",
    "        'median': np.median(band),\n",
    "        'max': band.max()})\n",
    "\n",
    "# Show stats for each channel\n",
    "stats"
   ]
  },
  {
   "cell_type": "code",
   "execution_count": null,
   "id": "21",
   "metadata": {},
   "outputs": [],
   "source": [
    "out_meta = raster.meta.copy()\n",
    "print(out_meta)"
   ]
  },
  {
   "cell_type": "code",
   "execution_count": null,
   "id": "22",
   "metadata": {},
   "outputs": [],
   "source": [
    "coords = getFeatures(cantons_ch.to_crs(4326))\n",
    "\n",
    "out_img, out_transform = rasterio.mask.mask(dataset=raster, shapes=coords, crop=True)"
   ]
  },
  {
   "cell_type": "code",
   "execution_count": null,
   "id": "23",
   "metadata": {},
   "outputs": [],
   "source": [
    "# Read the raster values\n",
    "array = raster.read(1)"
   ]
  },
  {
   "cell_type": "code",
   "execution_count": null,
   "id": "24",
   "metadata": {},
   "outputs": [],
   "source": [
    "show((raster, 1), cmap='terrain')"
   ]
  },
  {
   "cell_type": "code",
   "execution_count": null,
   "id": "25",
   "metadata": {},
   "outputs": [],
   "source": [
    "# Get the affine\n",
    "affine = raster.transform"
   ]
  },
  {
   "cell_type": "code",
   "execution_count": null,
   "id": "26",
   "metadata": {},
   "outputs": [],
   "source": [
    "import warnings\n",
    "warnings.filterwarnings('ignore')"
   ]
  },
  {
   "cell_type": "code",
   "execution_count": null,
   "id": "27",
   "metadata": {},
   "outputs": [],
   "source": [
    "%%time\n",
    "no2_satellite = zonal_stats(statpop_ha_4326, array, affine=affine, stats=['mean', 'median'])"
   ]
  },
  {
   "cell_type": "code",
   "execution_count": null,
   "id": "28",
   "metadata": {},
   "outputs": [],
   "source": [
    "no2_satellite_pt = point_query(statpop_point.to_crs(4326), array, affine=affine)"
   ]
  },
  {
   "cell_type": "code",
   "execution_count": null,
   "id": "29",
   "metadata": {},
   "outputs": [],
   "source": [
    "statpop_ha[['NO2_tropospheric']] = pd.DataFrame(no2_satellite_pt)"
   ]
  },
  {
   "cell_type": "code",
   "execution_count": null,
   "id": "30",
   "metadata": {},
   "outputs": [],
   "source": [
    "statpop_point_vd = gpd.sjoin(statpop_point,canton_vd[['geometry']], predicate = 'intersects').reset_index(drop  = True)\n",
    "statpop_ha_vd = gpd.sjoin(statpop_ha,canton_vd[['geometry']], predicate = 'intersects').reset_index(drop  = True)"
   ]
  },
  {
   "cell_type": "code",
   "execution_count": null,
   "id": "31",
   "metadata": {},
   "outputs": [],
   "source": [
    "statpop_ha_vd"
   ]
  },
  {
   "cell_type": "code",
   "execution_count": null,
   "id": "32",
   "metadata": {},
   "outputs": [],
   "source": [
    "statpop_ha_vd.loc[statpop_ha_vd['no2_model_mean'] > statpop_ha_vd['no2_model_mean'].quantile(0.999), 'no2_model_mean'] = statpop_ha_vd['no2_model_mean'].mean()"
   ]
  },
  {
   "cell_type": "code",
   "execution_count": null,
   "id": "33",
   "metadata": {},
   "outputs": [],
   "source": [
    "statpop_ha_vd[['NO2_tropospheric','geometry','B20BTOT']].explore('NO2_tropospheric')"
   ]
  },
  {
   "cell_type": "code",
   "execution_count": null,
   "id": "34",
   "metadata": {},
   "outputs": [],
   "source": [
    "statpop_ha_vd[['NO2','geometry','B20BTOT']].explore('NO2')"
   ]
  },
  {
   "cell_type": "code",
   "execution_count": null,
   "id": "35",
   "metadata": {},
   "outputs": [],
   "source": [
    "statpop_ha_vd[['NO2','geometry','B20BTOT']].explore('NO2')"
   ]
  },
  {
   "cell_type": "code",
   "execution_count": null,
   "id": "36",
   "metadata": {},
   "outputs": [],
   "source": [
    "ax = canton_vd.plot(color = 'grey', figsize = (15,15))\n",
    "statpop_ha_vd.plot('NO2', ax = ax, alpha = 0.6, legend = True)\n",
    "ax.set_axis_off()"
   ]
  },
  {
   "cell_type": "code",
   "execution_count": null,
   "id": "37",
   "metadata": {},
   "outputs": [],
   "source": [
    "cantons_ch.plot('mean_NO2', legend = True)"
   ]
  },
  {
   "cell_type": "code",
   "execution_count": null,
   "id": "38",
   "metadata": {},
   "outputs": [],
   "source": [
    "statpop_ha_4326[['mean_NO2','median_NO2']] = pd.DataFrame(ns_car_day)"
   ]
  },
  {
   "cell_type": "code",
   "execution_count": null,
   "id": "39",
   "metadata": {},
   "outputs": [],
   "source": [
    "statpop_ha_4326[statpop_ha_4326.mean_NO2.isnull()==False].plot(linewidth = 0.01)"
   ]
  },
  {
   "cell_type": "markdown",
   "id": "40",
   "metadata": {},
   "source": [
    "## Attempt GEE"
   ]
  },
  {
   "cell_type": "code",
   "execution_count": null,
   "id": "41",
   "metadata": {},
   "outputs": [],
   "source": [
    "ee.Authenticate()\n",
    "\n",
    "ee.Initialize()"
   ]
  },
  {
   "cell_type": "code",
   "execution_count": null,
   "id": "42",
   "metadata": {},
   "outputs": [],
   "source": [
    "# Fetch a Landsat image.\n",
    "img = ee.Image('LANDSAT/LT05/C01/T1_SR/LT05_034033_20000913')\n",
    "\n",
    "# Select Red and NIR bands, scale them, and sample 500 points.\n",
    "samp_fc = img.select(['B3','B4']).divide(10000).sample(scale=30, numPixels=500)\n",
    "\n",
    "# Arrange the sample as a list of lists.\n",
    "samp_dict = samp_fc.reduceColumns(ee.Reducer.toList().repeat(2), ['B3', 'B4'])\n",
    "samp_list = ee.List(samp_dict.get('list'))\n",
    "\n",
    "# Save server-side ee.List as a client-side Python list.\n",
    "samp_data = samp_list.getInfo()\n",
    "\n",
    "# Display a scatter plot of Red-NIR sample pairs using matplotlib.\n",
    "plt.scatter(samp_data[0], samp_data[1], alpha=0.2)\n",
    "plt.xlabel('Red', fontsize=12)\n",
    "plt.ylabel('NIR', fontsize=12)\n",
    "plt.show()"
   ]
  },
  {
   "cell_type": "code",
   "execution_count": null,
   "id": "43",
   "metadata": {},
   "outputs": [],
   "source": [
    "# Fetch a Landsat image.\n",
    "NO2_OFFL = ee.ImageCollection(\"COPERNICUS/S5P/OFFL/L3_NO2\")"
   ]
  },
  {
   "cell_type": "code",
   "execution_count": null,
   "id": "44",
   "metadata": {},
   "outputs": [],
   "source": [
    "NO2_OFFL"
   ]
  },
  {
   "cell_type": "markdown",
   "id": "45",
   "metadata": {},
   "source": [
    "### Day car noise"
   ]
  },
  {
   "cell_type": "code",
   "execution_count": null,
   "id": "46",
   "metadata": {},
   "outputs": [],
   "source": [
    "# Data dir\n",
    "data_dir = \"/Users/david/Dropbox/PhD/Data/SonBaseDayCar/STRASSENLAERM_Tag\"\n",
    "fp = os.path.join(data_dir, \"StrassenLaerm_Tag_LV95.tif\")\n",
    "\n",
    "# Open the file:\n",
    "raster = rasterio.open(fp)\n",
    "\n",
    "# Check type of the variable 'raster'\n",
    "type(raster)"
   ]
  },
  {
   "cell_type": "code",
   "execution_count": null,
   "id": "47",
   "metadata": {},
   "outputs": [],
   "source": [
    "# Read the raster band as separate variable\n",
    "band1 = raster.read(1)\n",
    "\n",
    "# Check type of the variable 'band'\n",
    "print(type(band1))\n",
    "\n",
    "# Data type of the values\n",
    "print(band1.dtype)"
   ]
  },
  {
   "cell_type": "code",
   "execution_count": null,
   "id": "48",
   "metadata": {},
   "outputs": [],
   "source": [
    "# Read all bands\n",
    "array = raster.read()\n",
    "\n",
    "# Calculate statistics for each band\n",
    "stats = []\n",
    "for band in array:\n",
    "    stats.append({\n",
    "        'min': band.min(),\n",
    "        'mean': band.mean(),\n",
    "        'median': np.median(band),\n",
    "        'max': band.max()})\n",
    "\n",
    "# Show stats for each channel\n",
    "stats"
   ]
  },
  {
   "cell_type": "code",
   "execution_count": null,
   "id": "49",
   "metadata": {},
   "outputs": [],
   "source": [
    "out_meta = raster.meta.copy()\n",
    "print(out_meta)"
   ]
  },
  {
   "cell_type": "code",
   "execution_count": null,
   "id": "50",
   "metadata": {},
   "outputs": [],
   "source": [
    "coords = getFeatures(cantons_ch)\n",
    "\n",
    "out_img, out_transform = rasterio.mask.mask(dataset=raster, shapes=coords, crop=True)"
   ]
  },
  {
   "cell_type": "code",
   "execution_count": null,
   "id": "51",
   "metadata": {},
   "outputs": [],
   "source": [
    "# Read the raster values\n",
    "array = raster.read(1)"
   ]
  },
  {
   "cell_type": "code",
   "execution_count": null,
   "id": "52",
   "metadata": {},
   "outputs": [],
   "source": [
    "show((raster, 1), cmap='terrain')"
   ]
  },
  {
   "cell_type": "code",
   "execution_count": null,
   "id": "53",
   "metadata": {},
   "outputs": [],
   "source": [
    "# Get the affine\n",
    "affine = raster.transform"
   ]
  },
  {
   "cell_type": "code",
   "execution_count": null,
   "id": "54",
   "metadata": {},
   "outputs": [],
   "source": [
    "affine"
   ]
  },
  {
   "cell_type": "code",
   "execution_count": null,
   "id": "55",
   "metadata": {},
   "outputs": [],
   "source": [
    "import warnings\n",
    "warnings.filterwarnings('ignore')"
   ]
  },
  {
   "cell_type": "code",
   "execution_count": null,
   "id": "56",
   "metadata": {},
   "outputs": [],
   "source": [
    "%%time\n",
    "ns_car_day = zonal_stats(statpop_ha[['RELI','geometry']], array, affine=affine, stats=['mean', 'median'])"
   ]
  },
  {
   "cell_type": "code",
   "execution_count": null,
   "id": "57",
   "metadata": {},
   "outputs": [],
   "source": [
    "pd.DataFrame(ns_car_day).to_pickle(data_folder/'processed/ns_car_day.pkl')"
   ]
  },
  {
   "cell_type": "code",
   "execution_count": null,
   "id": "58",
   "metadata": {},
   "outputs": [],
   "source": [
    "ns_car_day = pd.read_pickle(data_folder/'processed/ns_car_day.pkl')"
   ]
  },
  {
   "cell_type": "markdown",
   "id": "59",
   "metadata": {},
   "source": [
    "### Car Night noise"
   ]
  },
  {
   "cell_type": "code",
   "execution_count": null,
   "id": "60",
   "metadata": {},
   "outputs": [],
   "source": [
    "# Data dir\n",
    "data_dir = \"/Users/david/Dropbox/PhD/Data/SonBaseNightCar/STRASSENLAERM_Nacht\"\n",
    "fp = os.path.join(data_dir, \"StrassenLaerm_Nacht_LV95.tif\")\n",
    "\n",
    "# Open the file:\n",
    "raster = rasterio.open(fp)"
   ]
  },
  {
   "cell_type": "code",
   "execution_count": null,
   "id": "61",
   "metadata": {},
   "outputs": [],
   "source": [
    "# Check type of the variable 'raster'\n",
    "type(raster)\n",
    "\n",
    "# Read the raster band as separate variable\n",
    "band1 = raster.read(1)\n",
    "\n",
    "# Check type of the variable 'band'\n",
    "print(type(band1))\n",
    "# Data type of the values\n",
    "print(band1.dtype)"
   ]
  },
  {
   "cell_type": "code",
   "execution_count": null,
   "id": "62",
   "metadata": {},
   "outputs": [],
   "source": [
    "# Read all bands\n",
    "array = raster.read()\n",
    "\n",
    "# Calculate statistics for each band\n",
    "stats = []\n",
    "for band in array:\n",
    "    stats.append({\n",
    "        'min': band.min(),\n",
    "        'mean': band.mean(),\n",
    "        'median': np.median(band),\n",
    "        'max': band.max()})\n",
    "\n",
    "out_meta = raster.meta.copy()\n",
    "print(out_meta)"
   ]
  },
  {
   "cell_type": "code",
   "execution_count": null,
   "id": "63",
   "metadata": {},
   "outputs": [],
   "source": [
    "coords = getFeatures(cantons_ch)\n",
    "\n",
    "out_img, out_transform = rasterio.mask.mask(dataset=raster, shapes=coords, crop=True)"
   ]
  },
  {
   "cell_type": "code",
   "execution_count": null,
   "id": "64",
   "metadata": {},
   "outputs": [],
   "source": [
    "show((raster, 1), cmap='Gn')\n",
    "\n",
    "# Read the raster values\n",
    "array = raster.read(1)\n",
    "\n",
    "# Get the affine\n",
    "affine = raster.transform"
   ]
  },
  {
   "cell_type": "code",
   "execution_count": null,
   "id": "65",
   "metadata": {},
   "outputs": [],
   "source": [
    "ns_car_night = zonal_stats(statpop_ha[['RELI','geometry']], array, affine=affine, stats=['mean', 'median'])"
   ]
  },
  {
   "cell_type": "code",
   "execution_count": null,
   "id": "66",
   "metadata": {},
   "outputs": [],
   "source": [
    "pd.DataFrame(ns_car_night).to_pickle(data_folder/'processed/ns_car_night.pkl')\n",
    "\n",
    "ns_car_night = pd.read_pickle(data_folder/'processed/ns_car_night.pkl')"
   ]
  },
  {
   "cell_type": "code",
   "execution_count": null,
   "id": "67",
   "metadata": {},
   "outputs": [],
   "source": [
    "ns_car_day = pd.DataFrame(ns_car_day).rename(columns = {'mean':'mean_carday','median':'median_carday'})\n",
    "ns_car_night = pd.DataFrame(ns_car_night).rename(columns = {'mean':'mean_carnight','median':'median_carnight'})\n",
    "\n",
    "noise_df = pd.concat([ns_car_day,ns_car_night], axis = 1)"
   ]
  },
  {
   "cell_type": "markdown",
   "id": "68",
   "metadata": {},
   "source": [
    "## Air pollution"
   ]
  },
  {
   "cell_type": "code",
   "execution_count": null,
   "id": "69",
   "metadata": {},
   "outputs": [],
   "source": [
    "### PM10\n",
    "\n",
    "# Data dir\n",
    "fp = os.path.join(data_folder, \"raw/Air pollution/pm10/pm10_2020/pm10_2020.tif\")\n",
    "\n",
    "# Open the file:\n",
    "raster = rasterio.open(fp)\n",
    "\n",
    "# Check type of the variable 'raster'\n",
    "type(raster)"
   ]
  },
  {
   "cell_type": "code",
   "execution_count": null,
   "id": "70",
   "metadata": {},
   "outputs": [],
   "source": [
    "# Read the raster values\n",
    "array = raster.read(1)"
   ]
  },
  {
   "cell_type": "code",
   "execution_count": null,
   "id": "71",
   "metadata": {},
   "outputs": [],
   "source": [
    "# Get the affine\n",
    "affine = raster.transform"
   ]
  },
  {
   "cell_type": "code",
   "execution_count": null,
   "id": "72",
   "metadata": {},
   "outputs": [],
   "source": [
    "\n",
    "# Find the maximum value in the band\n",
    "max_value = np.max(array)\n",
    "print(\"Maximum value in the raster is:\", max_value)\n",
    "band1 = np.ma.masked_equal(array, nodata)\n",
    "max_value = np.max(band1)\n",
    "print(\"Maximum value in the raster (excluding NoData values):\", max_value)"
   ]
  },
  {
   "cell_type": "code",
   "execution_count": null,
   "id": "73",
   "metadata": {},
   "outputs": [],
   "source": [
    "show((raster, 1), cmap='RdYlGn')\n"
   ]
  },
  {
   "cell_type": "code",
   "execution_count": null,
   "id": "74",
   "metadata": {},
   "outputs": [],
   "source": [
    "%%time\n",
    "pm10_2020_excluding_NoData = zonal_stats(statpop_ha[['RELI','geometry']], band1, affine=affine, stats=['mean', 'median'])"
   ]
  },
  {
   "cell_type": "code",
   "execution_count": null,
   "id": "75",
   "metadata": {},
   "outputs": [],
   "source": [
    "pd.DataFrame(pm10_2020_excluding_NoData).to_pickle(data_folder/'processed/pm10_2020_excluding_NoData.pkl')"
   ]
  },
  {
   "cell_type": "code",
   "execution_count": null,
   "id": "76",
   "metadata": {},
   "outputs": [],
   "source": [
    "pm10_2020 = pd.read_pickle(data_folder/'processed/pm10_2020.pkl')"
   ]
  },
  {
   "cell_type": "code",
   "execution_count": null,
   "id": "77",
   "metadata": {},
   "outputs": [],
   "source": [
    "pm10_2020['mean'].mean()"
   ]
  },
  {
   "cell_type": "code",
   "execution_count": null,
   "id": "78",
   "metadata": {},
   "outputs": [],
   "source": [
    "# Mask out NoData values if necessary\n",
    "nodata = raster.nodatavals[0]  # This assumes NoData is the same for all bands\n",
    "if nodata is not None:\n",
    "    band1 = np.ma.masked_equal(array, nodata)\n",
    "\n",
    "max_value = np.max(band1)\n",
    "print(\"Maximum value in the raster (excluding NoData values):\", max_value)"
   ]
  },
  {
   "cell_type": "markdown",
   "id": "79",
   "metadata": {},
   "source": [
    "### PM25"
   ]
  },
  {
   "cell_type": "code",
   "execution_count": null,
   "id": "80",
   "metadata": {},
   "outputs": [],
   "source": [
    "# Data dir\n",
    "fp = os.path.join(data_folder, \"raw/Air pollution/pm25/pm25_2020/pm25_2020.tif\")\n",
    "\n",
    "# Open the file:\n",
    "raster = rasterio.open(fp)\n",
    "\n",
    "# Check type of the variable 'raster'\n",
    "type(raster)"
   ]
  },
  {
   "cell_type": "code",
   "execution_count": null,
   "id": "81",
   "metadata": {},
   "outputs": [],
   "source": [
    "# Read the raster values\n",
    "array = raster.read(1)"
   ]
  },
  {
   "cell_type": "code",
   "execution_count": null,
   "id": "82",
   "metadata": {},
   "outputs": [],
   "source": [
    "# Get the affine\n",
    "affine = raster.transform"
   ]
  },
  {
   "cell_type": "code",
   "execution_count": null,
   "id": "83",
   "metadata": {},
   "outputs": [],
   "source": [
    "nodata = raster.nodatavals[0]  # This assumes NoData is the same for all bands\n",
    "band1 = np.ma.masked_equal(array, nodata)"
   ]
  },
  {
   "cell_type": "code",
   "execution_count": null,
   "id": "84",
   "metadata": {},
   "outputs": [],
   "source": [
    "%%time\n",
    "pm25_2020_excluding_NoData = zonal_stats(statpop_ha[['RELI','geometry']], band1, affine=affine, stats=['mean', 'median'])"
   ]
  },
  {
   "cell_type": "code",
   "execution_count": null,
   "id": "85",
   "metadata": {},
   "outputs": [],
   "source": [
    "pd.DataFrame(pm25_2020_excluding_NoData).to_pickle(data_folder/'processed/pm25_2020_excluding_NoData.pkl')\n",
    "\n",
    "pm25_2020 = pd.read_pickle(data_folder/'processed/pm25_2020.pkl')"
   ]
  },
  {
   "cell_type": "markdown",
   "id": "86",
   "metadata": {},
   "source": [
    "### NO2"
   ]
  },
  {
   "cell_type": "code",
   "execution_count": null,
   "id": "87",
   "metadata": {},
   "outputs": [],
   "source": [
    "# Data dir\n",
    "fp = os.path.join(data_folder, \"raw/Air pollution/no2/no2_2020/no2_2020.tif\")\n",
    "\n",
    "# Open the file:\n",
    "raster = rasterio.open(fp)\n",
    "\n",
    "# Check type of the variable 'raster'\n",
    "type(raster)"
   ]
  },
  {
   "cell_type": "code",
   "execution_count": null,
   "id": "88",
   "metadata": {},
   "outputs": [],
   "source": [
    "gt = raster.transform\n",
    "pixelSizeX = gt[0]\n",
    "pixelSizeY =-gt[4]\n",
    "print (pixelSizeX)"
   ]
  },
  {
   "cell_type": "code",
   "execution_count": null,
   "id": "89",
   "metadata": {},
   "outputs": [],
   "source": [
    "pxsz, pysz = raster.res"
   ]
  },
  {
   "cell_type": "code",
   "execution_count": null,
   "id": "90",
   "metadata": {},
   "outputs": [],
   "source": [
    "pysz"
   ]
  },
  {
   "cell_type": "code",
   "execution_count": null,
   "id": "91",
   "metadata": {},
   "outputs": [],
   "source": [
    "# Read the raster values\n",
    "array = raster.read(1)"
   ]
  },
  {
   "cell_type": "code",
   "execution_count": null,
   "id": "92",
   "metadata": {},
   "outputs": [],
   "source": [
    "# Get the affine\n",
    "affine = raster.transform"
   ]
  },
  {
   "cell_type": "code",
   "execution_count": null,
   "id": "93",
   "metadata": {},
   "outputs": [],
   "source": [
    "nodata = raster.nodatavals[0]  # This assumes NoData is the same for all bands\n",
    "band1 = np.ma.masked_equal(array, nodata)"
   ]
  },
  {
   "cell_type": "code",
   "execution_count": null,
   "id": "94",
   "metadata": {},
   "outputs": [],
   "source": [
    "%%time\n",
    "no2_2020_excluding_NoData = zonal_stats(statpop_ha[['RELI','geometry']], band1, affine=affine, stats=['mean', 'median'])"
   ]
  },
  {
   "cell_type": "code",
   "execution_count": null,
   "id": "95",
   "metadata": {},
   "outputs": [],
   "source": [
    "statpop_ha[['no2_model_mean','no2_model_median']] = pd.DataFrame(no2_2020)"
   ]
  },
  {
   "cell_type": "code",
   "execution_count": null,
   "id": "96",
   "metadata": {},
   "outputs": [],
   "source": [
    "statpop_ha['no2_model_mean'].plot.kde()"
   ]
  },
  {
   "cell_type": "code",
   "execution_count": null,
   "id": "97",
   "metadata": {},
   "outputs": [],
   "source": [
    "pd.DataFrame(no2_2020_excluding_NoData).to_pickle(data_folder/'processed/no2_2020_excluding_NoData.pkl')\n",
    "\n",
    "no2_2020 = pd.read_pickle(data_folder/'processed/no2_2020_excluding_NoData.pkl')"
   ]
  },
  {
   "cell_type": "code",
   "execution_count": null,
   "id": "98",
   "metadata": {},
   "outputs": [],
   "source": [
    "# no2_2020.loc[no2_2020['mean'] > no2_2020['mean'].quantile(0.999), 'mean'] = no2_2020['mean'].mean()"
   ]
  },
  {
   "cell_type": "code",
   "execution_count": null,
   "id": "99",
   "metadata": {},
   "outputs": [],
   "source": [
    "no2_2020['mean'].plot.kde()"
   ]
  },
  {
   "cell_type": "markdown",
   "id": "100",
   "metadata": {},
   "source": [
    "## Air Pollution dataset"
   ]
  },
  {
   "cell_type": "code",
   "execution_count": null,
   "id": "101",
   "metadata": {},
   "outputs": [],
   "source": [
    "pm10_2020 = pd.DataFrame(pm10_2020).rename(columns = {'mean':'mean_pm10','median':'median_pm10'})\n",
    "pm25_2020 = pd.DataFrame(pm25_2020).rename(columns = {'mean':'mean_pm25','median':'median_pm25'})\n",
    "no2_2020 = pd.DataFrame(no2_2020).rename(columns = {'mean':'mean_no2','median':'median_no2'})"
   ]
  },
  {
   "cell_type": "code",
   "execution_count": null,
   "id": "102",
   "metadata": {},
   "outputs": [],
   "source": [
    "pollution_df = pd.concat([pm10_2020, pm25_2020, no2_2020], axis = 1)"
   ]
  },
  {
   "cell_type": "code",
   "execution_count": null,
   "id": "103",
   "metadata": {},
   "outputs": [],
   "source": [
    "pollution_df.describe()"
   ]
  },
  {
   "cell_type": "code",
   "execution_count": null,
   "id": "104",
   "metadata": {},
   "outputs": [],
   "source": [
    "def pct_replacement(column):\n",
    "    conds = [column > np.percentile(column, 99.9)]\n",
    "    choices = [np.percentile(column, 50)]\n",
    "    return np.select(conds,choices,column)"
   ]
  },
  {
   "cell_type": "code",
   "execution_count": null,
   "id": "105",
   "metadata": {},
   "outputs": [],
   "source": [
    "pollution_df = pollution_df.apply(lambda x: pct_replacement(x))\n",
    "\n",
    "pollution_df = pd.concat([statpop_ha[['RELI','geometry']], pollution_df], axis = 1)\n",
    "\n",
    "pollution_df = gpd.GeoDataFrame(pollution_df, crs = 2056, geometry = pollution_df['geometry'])"
   ]
  },
  {
   "cell_type": "code",
   "execution_count": null,
   "id": "106",
   "metadata": {},
   "outputs": [],
   "source": [
    "fig, ax = plt.subplots(figsize = (20, 20))\n",
    "pollution_df.plot('mean_pm10', cmap = 'magma', legend = True, ax = ax)\n",
    "ctx.add_basemap(ax, source=ctx.providers.Stamen.TonerLite,crs = 'EPSG:2056')"
   ]
  },
  {
   "cell_type": "markdown",
   "id": "107",
   "metadata": {},
   "source": [
    "## NDVI"
   ]
  },
  {
   "cell_type": "code",
   "execution_count": null,
   "id": "108",
   "metadata": {},
   "outputs": [],
   "source": [
    "from os import listdir\n",
    "import zipfile\n",
    "import glob\n",
    "from rasterio.warp import calculate_default_transform, reproject, Resampling\n",
    "import re\n",
    "import tarfile\n",
    "from pathlib import Path"
   ]
  },
  {
   "cell_type": "code",
   "execution_count": null,
   "id": "109",
   "metadata": {},
   "outputs": [],
   "source": [
    "# Define variables\n",
    "# archive = zipfile.ZipFile('images.zip', 'r')\n",
    "\n",
    "data_path = str(\"../Data/raw/Landsat 8/\")\n",
    "print(data_path)\n",
    "bands_grep = re.compile(\".*_(B2|B3|B4|B5|B10)\\.TIF\")\n",
    "tar_list = glob.glob(data_path + '*.tar')\n",
    "print(tar_list)\n",
    "band_paths = []\n",
    "for tar_file in tar_list:\n",
    "    print(tar_file)\n",
    "    # Open a connection with the first archive (in fact there's only one)\n",
    "    tar = tarfile.open(tar_file)\n",
    "    # Retrieve the file names from the archive\n",
    "    file_list = tar.getnames()\n",
    "    # Filter and keep only useful files (bands 4 and 5 to compute NDVI)\n",
    "    bands = filter(lambda x: bands_grep.search(x), file_list)\n",
    "    for item in bands:\n",
    "        tar.extract(item, path=data_path)\n",
    "        band_paths.append(data_path+item)\n",
    "    # Close the connection\n",
    "    tar.close()\n",
    "\n",
    "# See what we've just extracted\n",
    "print(band_paths)\n",
    "\n"
   ]
  },
  {
   "cell_type": "code",
   "execution_count": null,
   "id": "110",
   "metadata": {},
   "outputs": [],
   "source": [
    "def load_landsat_image(img_folder, bands):\n",
    "    # initialize the dictionaries\n",
    "    image = {}\n",
    "    ds = {}\n",
    "    \n",
    "    path = Path(img_folder)\n",
    "    \n",
    "    # loop through the given bands to load\n",
    "    for band in bands:\n",
    "        # considering the landsat images end with *_SR_B#.TIF, we will use it to locate the correct file\n",
    "        file = next(path.glob(f'*{band}.TIF'))\n",
    "        print(f'Opening file {file}')\n",
    "        ds.update({band: rasterio.open(file)})\n",
    "        image.update({band: ds[band].read(1)})\n",
    "\n",
    "    return image, ds"
   ]
  },
  {
   "cell_type": "code",
   "execution_count": null,
   "id": "111",
   "metadata": {},
   "outputs": [],
   "source": [
    "b2_ds_list = [rasterio.open(i) for i in band_paths if 'B2' in i]\n",
    "b3_ds_list = [rasterio.open(i) for i in band_paths if 'B3' in i]\n",
    "b4_ds_list = [rasterio.open(i) for i in band_paths if 'B4' in i]\n",
    "b5_ds_list = [rasterio.open(i) for i in band_paths if 'B5' in i]\n",
    "b10_ds_list = [rasterio.open(i) for i in band_paths if 'B10' in i]"
   ]
  },
  {
   "cell_type": "code",
   "execution_count": null,
   "id": "112",
   "metadata": {},
   "outputs": [],
   "source": [
    "from rasterio.warp import reproject\n",
    "dst_crs = 2056\n",
    "\n",
    "# B2\n",
    "b2_reproj_list = [reproject(source=rasterio.band(b2_ds, 1), dst_crs=dst_crs) for b2_ds in b2_ds_list]\n",
    "# B3\n",
    "b3_reproj_list = [reproject(source=rasterio.band(b3_ds, 1), dst_crs=dst_crs) for b3_ds in b3_ds_list]\n",
    "# B4\n",
    "b4_reproj_list = [reproject(source=rasterio.band(b4_ds, 1), dst_crs=dst_crs) for b4_ds in b4_ds_list]\n",
    "# B5\n",
    "b5_reproj_list = [reproject(source=rasterio.band(b5_ds, 1), dst_crs=dst_crs) for b5_ds in b5_ds_list]\n",
    "# B10\n",
    "b10_reproj_list = [reproject(source=rasterio.band(b10_ds, 1), dst_crs=dst_crs) for b10_ds in b10_ds_list]\n"
   ]
  },
  {
   "cell_type": "code",
   "execution_count": null,
   "id": "113",
   "metadata": {},
   "outputs": [],
   "source": [
    "from rasterio.io import MemoryFile\n",
    "from rasterio.merge import merge\n",
    "\n",
    "def create_dataset(data, crs, transform):\n",
    "    # Receives a 2D array, a transform and a crs to create a rasterio dataset\n",
    "    memfile = MemoryFile()\n",
    "    dataset = memfile.open(driver='GTiff', height=data.shape[0], width=data.shape[1], count=1, crs=crs, \n",
    "                           transform=transform, dtype=data.dtype)\n",
    "    dataset.write(data, 1)\n",
    "        \n",
    "    return dataset"
   ]
  },
  {
   "cell_type": "code",
   "execution_count": null,
   "id": "114",
   "metadata": {},
   "outputs": [],
   "source": [
    "b2_reproj_ds_list = [create_dataset(b2_reproj_ds[0][0], dst_crs, b2_reproj_ds[1]) for b2_reproj_ds in b2_reproj_list]\n",
    "b3_reproj_ds_list = [create_dataset(b3_reproj_ds[0][0], dst_crs, b3_reproj_ds[1]) for b3_reproj_ds in b3_reproj_list]\n",
    "b4_reproj_ds_list = [create_dataset(b4_reproj_ds[0][0], dst_crs, b4_reproj_ds[1]) for b4_reproj_ds in b4_reproj_list]\n",
    "b5_reproj_ds_list = [create_dataset(b5_reproj_ds[0][0], dst_crs, b5_reproj_ds[1]) for b5_reproj_ds in b5_reproj_list]\n",
    "b10_reproj_ds_list = [create_dataset(b10_reproj_ds[0][0], dst_crs, b10_reproj_ds[1]) for b10_reproj_ds in b10_reproj_list]"
   ]
  },
  {
   "cell_type": "code",
   "execution_count": null,
   "id": "115",
   "metadata": {},
   "outputs": [],
   "source": [
    "# B2\n",
    "merged_b2, transf_b2 = merge(b2_reproj_ds_list)\n",
    "plt.figure(figsize=(12,6))\n",
    "plt.imshow(merged_b2[0])\n",
    "# B3\n",
    "merged_b3, transf_b3 = merge(b3_reproj_ds_list)\n",
    "plt.figure(figsize=(12,6))\n",
    "plt.imshow(merged_b3[0])\n",
    "# B4\n",
    "merged_b4, transf_b4 = merge(b4_reproj_ds_list)\n",
    "plt.figure(figsize=(12,6))\n",
    "plt.imshow(merged_b4[0])\n",
    "# B5\n",
    "merged_b5, transf_b5 = merge(b5_reproj_ds_list)\n",
    "plt.figure(figsize=(12,6))\n",
    "plt.imshow(merged_b5[0])\n",
    "# B10\n",
    "merged_b10, transf_b10 = merge(b10_reproj_ds_list)\n",
    "plt.figure(figsize=(12,6))\n",
    "plt.imshow(merged_b10[0])"
   ]
  },
  {
   "cell_type": "code",
   "execution_count": null,
   "id": "116",
   "metadata": {},
   "outputs": [],
   "source": [
    "merged_b2"
   ]
  },
  {
   "cell_type": "code",
   "execution_count": null,
   "id": "117",
   "metadata": {},
   "outputs": [],
   "source": [
    "# Define spatial characteristics, reproject in EPSG2056\n",
    "dst_crs = 'EPSG:2056'\n",
    "\n",
    "transform, height, width = transf_b2, merged_b2[0].shape[0], merged_b2[0].shape[1]\n",
    "# kwargs = src.meta.copy()\n",
    "kwargs = ({'driver': 'GTiff',\n",
    "    'nodata': 0.0,\n",
    "    'crs': dst_crs,\n",
    "    'transform': transform,\n",
    "    'width': width,\n",
    "    'height': height,\n",
    "    'dtype': rasterio.float32,\n",
    "    'count': 1\n",
    "})\n",
    "print(kwargs)\n",
    "with rasterio.open('/Users/david/Dropbox/PhD/GitHub/Dataviz_specchio_bus/Data/B2_CH.tif', 'w', **kwargs) as dst:\n",
    "        dst.write_band(1, merged_b2[0].astype(rasterio.float32))\n",
    "    \n",
    "\n",
    "transform, height, width = transf_b3, merged_b3[0].shape[0], merged_b3[0].shape[1]\n",
    "\n",
    "with rasterio.open('/Users/david/Dropbox/PhD/GitHub/Dataviz_specchio_bus/Data/B3_CH.tif', 'w', **kwargs) as dst:\n",
    "        dst.write_band(1, merged_b3[0].astype(rasterio.float32))\n",
    "        \n",
    "\n",
    "transform, height, width = transf_b4, merged_b4[0].shape[0], merged_b4[0].shape[1]\n",
    "\n",
    "with rasterio.open('/Users/david/Dropbox/PhD/GitHub/Dataviz_specchio_bus/Data/B4_CH.tif', 'w', **kwargs) as dst:\n",
    "        dst.write_band(1, merged_b4[0].astype(rasterio.float32))"
   ]
  },
  {
   "cell_type": "code",
   "execution_count": null,
   "id": "118",
   "metadata": {},
   "outputs": [],
   "source": []
  },
  {
   "cell_type": "code",
   "execution_count": null,
   "id": "119",
   "metadata": {},
   "outputs": [],
   "source": [
    "ndvi = (merged_b5.astype(float) - merged_b4.astype(float)) / (merged_b5.astype(float) + merged_b4.astype(float))"
   ]
  },
  {
   "cell_type": "code",
   "execution_count": null,
   "id": "120",
   "metadata": {},
   "outputs": [],
   "source": [
    "# Define spatial characteristics, reproject in EPSG2056\n",
    "dst_crs = 'EPSG:2056'\n",
    "\n",
    "transform, height, width = transf_b4, ndvi[0].shape[0], ndvi[0].shape[1]\n",
    "# kwargs = src.meta.copy()\n",
    "kwargs = ({'driver': 'GTiff',\n",
    "    'nodata': 0.0,\n",
    "    'crs': dst_crs,\n",
    "    'transform': transform,\n",
    "    'width': width,\n",
    "    'height': height,\n",
    "    'dtype': rasterio.float32,\n",
    "    'count': 1\n",
    "})\n",
    "print(kwargs)"
   ]
  },
  {
   "cell_type": "code",
   "execution_count": null,
   "id": "121",
   "metadata": {},
   "outputs": [],
   "source": [
    "with rasterio.open('./Data/ndvi_CH_2056.tif', 'w', **kwargs) as dst:\n",
    "        dst.write_band(1, ndvi[0].astype(rasterio.float32))"
   ]
  },
  {
   "cell_type": "code",
   "execution_count": null,
   "id": "122",
   "metadata": {},
   "outputs": [],
   "source": [
    "stats_ndvi = zonal_stats(statpop_ha[['RELI','geometry']], './Data/ndvi_CH_2056.tif', stats=['mean', 'median', 'min', 'max'])"
   ]
  },
  {
   "cell_type": "code",
   "execution_count": null,
   "id": "123",
   "metadata": {},
   "outputs": [],
   "source": [
    "df_nvdi = pd.DataFrame(stats_ndvi)\n",
    "\n",
    "gdf_ndvi = gpd.GeoDataFrame(df_nvdi, crs=2056, geometry=statpop_ha['geometry'])\n",
    "\n",
    "gdf_ndvi = gdf_ndvi.rename(columns = {'mean':'mean_ndvi','median':'median_ndvi','min':'min_ndvi','max':'max_ndvi'})\n",
    "\n",
    "gdf_ndvi.to_pickle('./Data/gdf_ndvi.pkl')"
   ]
  },
  {
   "cell_type": "code",
   "execution_count": null,
   "id": "124",
   "metadata": {},
   "outputs": [],
   "source": [
    "import matplotlib as mpl\n",
    "mpl.rcParams['figure.dpi'] = 300"
   ]
  },
  {
   "cell_type": "code",
   "execution_count": null,
   "id": "125",
   "metadata": {},
   "outputs": [],
   "source": [
    "fig, ax = plt.subplots(figsize = (20, 20))\n",
    "gdf_ndvi.plot('mean_ndvi', legend = True, ax = ax, legend_kwds = {'shrink':0.5})\n",
    "ax.set_axis_off()\n",
    "ax.set_title('NDVI')"
   ]
  },
  {
   "cell_type": "markdown",
   "id": "126",
   "metadata": {},
   "source": [
    "## LST"
   ]
  },
  {
   "cell_type": "code",
   "execution_count": null,
   "id": "127",
   "metadata": {},
   "outputs": [],
   "source": [
    "def calculate_LST(b10, ndvi, NDVImin, NDVImax):\n",
    "    \"\"\" 1.- Calculation of TOA (Top of Atmospheric) spectral radiance.\n",
    "        TOA (L) = ML * Qcal + AL\n",
    "        SOURCE : https://geogeek.xyz/how-to-calculate-land-surface-temperature-with-landsat-8-images.html\n",
    "        \n",
    "        2.- TOA to Brightness Temperature conversion\n",
    "        BT = (K2 / (ln (K1 / L) + 1)) − 273.15\n",
    "        K1 = Band-specific thermal conversion constant from the metadata (K1_CONSTANT_BAND_x, where x is the thermal band number).\n",
    "        K2 = Band-specific thermal conversion constant from the metadata (K2_CONSTANT_BAND_x, where x is the thermal band number).\n",
    "        L = TOA\n",
    "        Therefore, to obtain the results in Celsius, the radiant temperature is adjusted by adding the absolute zero (approx. -273.15°C).\n",
    "        \n",
    "        3.- Calculate NDVI\n",
    "        Done earlier\n",
    "        \n",
    "        4.- Calculate the proportion of vegetation Pv\n",
    "        Pv = Square ((NDVI – NDVImin) / (NDVImax – NDVImin))\n",
    "        \n",
    "        5.- Calculate Emissivity ε\n",
    "        ε = 0.004 * Pv + 0.986\n",
    "        Simply apply the formula in the raster calculator, the value of 0.986 corresponds to a correction value of the equation.\n",
    "        \n",
    "        6.- Calculate the Land Surface Temperature\n",
    "        LST = (BT / (1 + (0.00115 * BT / 1.4388) * Ln(ε)))\n",
    "        LST = Brightness Temp / 1 + Wevelenghth (10 Micron) * ( Brightness Temp / P) * Ln (e) P= hc/s = 14380 h= Plank constant c= velocity of light s = Boltzmann constant e= emissivity e=0.004Pv+0.986 Pv=proportion of vegetation= (NDVI-NDVImin / NDVImax-NDVImin)^2 LST calculation by NDVI Threshold Method (Sobrino et al, 2014)\"\"\"\n",
    "    #Qcal = corresponds to band 10.\n",
    "    Qcal = b10\n",
    "    #ML = Band-specific multiplicative rescaling factor from the metadata (RADIANCE_MULT_BAND_x, where x is the band number).\n",
    "    Ml = 3.3420E-04\n",
    "    #AL = Band-specific additive rescaling factor from the metadata (RADIANCE_ADD_BAND_x, where x is the band number).\n",
    "    Al = 0.1\n",
    "    TOA = Ml * Qcal + Al  \n",
    "    # K1 = Band-specific thermal conversion constant from the metadata (K1_CONSTANT_BAND_x, where x is the thermal band number).\n",
    "    K1 = 774.8853\n",
    "    # K2 = Band-specific thermal conversion constant from the metadata (K2_CONSTANT_BAND_x, where x is the thermal band number).\n",
    "    K2 = 1321.0789\n",
    "    BT = K2/(np.log(K1/TOA+1)) - 273.15\n",
    "    \n",
    "    Pv = ((ndvi - NDVImin)/(NDVImax - NDVImin))**2\n",
    "    emissivity = 0.004*Pv + 0.986\n",
    "    LST = (BT/(1+(0.00115*BT/1.4388)*np.log(emissivity)))\n",
    "    return BT, emissivity, LST"
   ]
  },
  {
   "cell_type": "code",
   "execution_count": null,
   "id": "128",
   "metadata": {},
   "outputs": [],
   "source": [
    "NDVImin = gdf_ndvi['mean_ndvi'].min()\n",
    "NDVImax = gdf_ndvi['mean_ndvi'].max()"
   ]
  },
  {
   "cell_type": "code",
   "execution_count": null,
   "id": "129",
   "metadata": {},
   "outputs": [],
   "source": [
    "BT, emissivity, lst = calculate_LST(merged_b10, ndvi, NDVImin, NDVImax)"
   ]
  },
  {
   "cell_type": "code",
   "execution_count": null,
   "id": "130",
   "metadata": {},
   "outputs": [],
   "source": [
    "# Define spatial characteristics, reproject in EPSG2056\n",
    "dst_crs = 'EPSG:2056'\n",
    "\n",
    "transform, height, width = transf_b10, lst[0].shape[0], lst[0].shape[1]\n",
    "# kwargs = src.meta.copy()\n",
    "kwargs = ({'driver': 'GTiff',\n",
    "    'nodata': 0.0,\n",
    "    'crs': dst_crs,\n",
    "    'transform': transform,\n",
    "    'width': width,\n",
    "    'height': height,\n",
    "    'dtype': rasterio.float32,\n",
    "    'count': 1\n",
    "})\n",
    "print(kwargs)\n",
    "\n",
    "with rasterio.open('./Data/lst_ch_2056.tif', 'w', **kwargs) as dst:\n",
    "        dst.write_band(1, lst[0].astype(rasterio.float32))"
   ]
  },
  {
   "cell_type": "code",
   "execution_count": null,
   "id": "131",
   "metadata": {},
   "outputs": [],
   "source": [
    "stats_lst = zonal_stats(statpop_ha[['RELI','geometry']], './Data/lst_ch_2056.tif', stats=['mean', 'median', 'min', 'max'])"
   ]
  },
  {
   "cell_type": "code",
   "execution_count": null,
   "id": "132",
   "metadata": {},
   "outputs": [],
   "source": [
    "df_lst = pd.DataFrame(stats_lst)\n",
    "\n",
    "gdf_lst = gpd.GeoDataFrame(df_lst, crs=2056, geometry=statpop_ha['geometry'])\n",
    "\n",
    "gdf_lst = gdf_lst.rename(columns = {'mean':'mean_lst','median':'median_lst','min':'min_lst','max':'max_lst'})\n",
    "\n",
    "gdf_lst.to_pickle('./Data/gdf_lst.pkl')"
   ]
  },
  {
   "cell_type": "code",
   "execution_count": null,
   "id": "133",
   "metadata": {},
   "outputs": [],
   "source": [
    "gdf_lst = pd.read_pickle('./Data/gdf_lst.pkl')\n",
    "\n",
    "gdf_lst = gpd.GeoDataFrame(gdf_lst, geometry = gdf_lst['geometry'])"
   ]
  },
  {
   "cell_type": "code",
   "execution_count": null,
   "id": "134",
   "metadata": {},
   "outputs": [],
   "source": [
    "fig, ax = plt.subplots(figsize = (20, 20))\n",
    "gdf_lst.plot('mean_lst', legend = True, ax = ax, cmap = 'magma', legend_kwds = {'shrink':0.5})\n",
    "ax.set_axis_off()\n",
    "ax.set_title('Land Surface Temperature (LST)')"
   ]
  },
  {
   "cell_type": "markdown",
   "id": "135",
   "metadata": {},
   "source": [
    "### Test : Geemap"
   ]
  },
  {
   "cell_type": "code",
   "execution_count": null,
   "id": "136",
   "metadata": {},
   "outputs": [],
   "source": [
    "Map = geemap.Map(center=[40, -100], zoom=4)\n",
    "Map"
   ]
  },
  {
   "cell_type": "code",
   "execution_count": null,
   "id": "137",
   "metadata": {},
   "outputs": [],
   "source": [
    "dem = ee.Image('USGS/3DEP/10m')\n",
    "vis = {'min': 0, 'max': 4000, 'palette': cm.palettes.dem}"
   ]
  },
  {
   "cell_type": "code",
   "execution_count": null,
   "id": "138",
   "metadata": {},
   "outputs": [],
   "source": [
    "Map.addLayer(dem, vis, 'DEM')"
   ]
  },
  {
   "cell_type": "code",
   "execution_count": null,
   "id": "139",
   "metadata": {},
   "outputs": [],
   "source": [
    "landcover = ee.Image(\"USGS/NLCD_RELEASES/2019_REL/NLCD/2019\").select('landcover')"
   ]
  },
  {
   "cell_type": "code",
   "execution_count": null,
   "id": "140",
   "metadata": {},
   "outputs": [],
   "source": [
    "Map.addLayer(landcover, {}, 'NLCD 2019')\n",
    "Map.add_legend(builtin_legend='NLCD')"
   ]
  },
  {
   "cell_type": "code",
   "execution_count": null,
   "id": "141",
   "metadata": {},
   "outputs": [],
   "source": [
    "stats = geemap.image_stats_by_zone(dem, landcover, reducer='MEAN')\n",
    "stats"
   ]
  },
  {
   "cell_type": "code",
   "execution_count": null,
   "id": "142",
   "metadata": {},
   "outputs": [],
   "source": [
    "stats.to_csv('mean.csv', index=False)"
   ]
  },
  {
   "cell_type": "code",
   "execution_count": null,
   "id": "143",
   "metadata": {},
   "outputs": [],
   "source": [
    "geemap.image_stats_by_zone(dem, landcover, out_csv=\"std.csv\", reducer='STD')"
   ]
  },
  {
   "cell_type": "code",
   "execution_count": null,
   "id": "144",
   "metadata": {},
   "outputs": [],
   "source": []
  }
 ],
 "metadata": {
  "kernelspec": {
   "display_name": "py311",
   "language": "python",
   "name": "py311"
  },
  "language_info": {
   "codemirror_mode": {
    "name": "ipython",
    "version": 3
   },
   "file_extension": ".py",
   "mimetype": "text/x-python",
   "name": "python",
   "nbconvert_exporter": "python",
   "pygments_lexer": "ipython3",
   "version": "3.11.9"
  }
 },
 "nbformat": 4,
 "nbformat_minor": 5
}
