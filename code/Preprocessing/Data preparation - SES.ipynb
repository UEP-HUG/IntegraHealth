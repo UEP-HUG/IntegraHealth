{
 "cells": [
  {
   "cell_type": "code",
   "execution_count": null,
   "id": "0",
   "metadata": {},
   "outputs": [],
   "source": [
    "import pandas as pd\n",
    "import geopandas as gpd\n",
    "import shapely\n",
    "import numpy as np\n",
    "from pathlib import Path\n",
    "import os\n",
    "import rasterio\n",
    "from shapely.geometry import Point, Polygon\n",
    "from rasterstats import zonal_stats\n",
    "from rasterio.plot import show_hist\n",
    "# import rioxarray as rxr\n",
    "from rasterio.mask import mask\n",
    "from rasterio import plot as rioplot\n",
    "import matplotlib.pyplot as plt\n",
    "import contextily as ctx\n",
    "import ee\n",
    "# import geemap\n",
    "import fiona\n",
    "# import geemap.colormaps as cm\n",
    "import rasterio\n",
    "from rasterio.plot import show\n",
    "from shapely.geometry import Point, Polygon"
   ]
  },
  {
   "cell_type": "code",
   "execution_count": null,
   "id": "1",
   "metadata": {},
   "outputs": [],
   "source": [
    "data_folder = Path('../Data/raw')\n",
    "databases = Path('/Users/david/Dropbox/PhD/Data/')"
   ]
  },
  {
   "cell_type": "code",
   "execution_count": null,
   "id": "2",
   "metadata": {},
   "outputs": [],
   "source": [
    "cantons_ch = gpd.read_file('/Users/david/Dropbox/PhD/Data/Databases/Shapefiles/SHAPEFILE_LV95_LN02/swissBOUNDARIES3D_1_3_TLM_KANTONSGEBIET.shp')\n",
    "cantons_ch = cantons_ch.to_crs(21781)"
   ]
  },
  {
   "cell_type": "code",
   "execution_count": null,
   "id": "3",
   "metadata": {},
   "outputs": [],
   "source": [
    "statpop = pd.read_csv('/Users/david/Dropbox/PhD/Data/Databases/OFS/ag-b-00.03-vz2020statpop/STATPOP2020.csv',sep = ';')\n",
    "statpop_ha = statpop.copy()\n",
    "geometry = [Point(xy) for xy in zip(statpop['E_KOORD'], statpop['N_KOORD'])]\n",
    "statpop_point = gpd.GeoDataFrame(statpop, crs=2056, geometry=geometry)   "
   ]
  },
  {
   "cell_type": "code",
   "execution_count": null,
   "id": "4",
   "metadata": {},
   "outputs": [],
   "source": [
    "geometry = [Polygon(zip([xy[0],xy[0],xy[0]+100,xy[0]+100],[xy[1],xy[1]+100,xy[1]+100,xy[1]])) for xy in zip(statpop_ha.E_KOORD, statpop_ha.N_KOORD)]\n",
    "statpop_ha = gpd.GeoDataFrame(statpop_ha, crs=2056, geometry=geometry)      "
   ]
  },
  {
   "cell_type": "code",
   "execution_count": null,
   "id": "5",
   "metadata": {},
   "outputs": [],
   "source": [
    "df_swiss_sep1 = gpd.read_file(data_folder/'Swiss-SEP'/'SNC_Swiss-SEP1'/'SHP'/'ssep_user_geo.shp', driver = 'Shapefile')\n",
    "\n",
    "df_swiss_sep2 = gpd.read_file(data_folder/'Swiss-SEP'/'SNC_Swiss-SEP2'/'SHP'/'ssep2_user_geo.shp', driver = 'Shapefile')"
   ]
  },
  {
   "cell_type": "code",
   "execution_count": null,
   "id": "6",
   "metadata": {},
   "outputs": [],
   "source": [
    "country_geo = gpd.read_file(\"/Users/david/Dropbox/PhD/GitHub/COVID19/input/g2l15.shp\")\n",
    "with fiona.open(\"/Users/david/Dropbox/PhD/GitHub/COVID19/input/g2l15.shp\", \"r\") as shapefile:\n",
    "    country_geo_fiona = [feature[\"geometry\"] for feature in shapefile]"
   ]
  },
  {
   "cell_type": "code",
   "execution_count": null,
   "id": "7",
   "metadata": {},
   "outputs": [],
   "source": [
    "lakes = gpd.read_file(\"/Users/david/Dropbox/PhD/GitHub/COVID19/input/g2s15.shp\")"
   ]
  },
  {
   "cell_type": "code",
   "execution_count": null,
   "id": "8",
   "metadata": {},
   "outputs": [],
   "source": [
    "df_swiss_sep2"
   ]
  },
  {
   "cell_type": "code",
   "execution_count": null,
   "id": "9",
   "metadata": {},
   "outputs": [],
   "source": [
    "lakes[lakes.GMDNAME.isin(['Lac Léman'])].to_file('/Users/david/Dropbox/PhD/GitHub/GEOCOVID-phase2/data/lake_vd.shp', driver = \"Shapefile\")"
   ]
  },
  {
   "cell_type": "code",
   "execution_count": null,
   "id": "10",
   "metadata": {},
   "outputs": [],
   "source": [
    "# Open the file:\n",
    "relief_raster = rasterio.open('/Users/david/Dropbox/PhD/GitHub/COVID19/input/02-relief-ascii.asc')\n",
    "\n",
    "# Check type of the variable 'raster'\n",
    "type(relief_raster)"
   ]
  },
  {
   "cell_type": "code",
   "execution_count": null,
   "id": "11",
   "metadata": {},
   "outputs": [],
   "source": [
    "out_image, out_transform = rasterio.mask.mask(relief_raster, country_geo_fiona, crop=True, filled=False)\n",
    "out_meta = relief_raster.meta"
   ]
  },
  {
   "cell_type": "code",
   "execution_count": null,
   "id": "12",
   "metadata": {},
   "outputs": [],
   "source": [
    "array = relief_raster.read(1)"
   ]
  },
  {
   "cell_type": "code",
   "execution_count": null,
   "id": "13",
   "metadata": {},
   "outputs": [],
   "source": [
    "show(array, cmap='Greys_r')"
   ]
  },
  {
   "cell_type": "code",
   "execution_count": null,
   "id": "14",
   "metadata": {},
   "outputs": [],
   "source": [
    "relief_raster.crs"
   ]
  },
  {
   "cell_type": "code",
   "execution_count": null,
   "id": "15",
   "metadata": {},
   "outputs": [],
   "source": [
    "show(out_image, cmap='Greys_r')"
   ]
  },
  {
   "cell_type": "code",
   "execution_count": null,
   "id": "16",
   "metadata": {},
   "outputs": [],
   "source": [
    "ch_extent = np.asarray(country_geo.bounds)[0][[0,2,1,3]]"
   ]
  },
  {
   "cell_type": "code",
   "execution_count": null,
   "id": "17",
   "metadata": {},
   "outputs": [],
   "source": [
    "ax = df_swiss_sep2.plot('ssep2_d', markersize = 0.5, cmap = 'RdYlGn', legend = True,figsize = (15, 15), legend_kwds = {'shrink':0.5})\n",
    "lakes.plot(color = 'lightblue', ax=ax)\n",
    "cantons_ch.geometry.boundary.plot(ax=ax,edgecolor='k', color=None, linewidth=0.1)\n",
    "plt.imshow(out_image.squeeze(),extent=ch_extent, cmap='Greys_r', alpha=0.4)\n",
    "ax.set_axis_off()"
   ]
  },
  {
   "cell_type": "code",
   "execution_count": null,
   "id": "18",
   "metadata": {},
   "outputs": [],
   "source": [
    "ax = df_swiss_sep2.plot('ssep2_t', markersize = 0.5, cmap = 'RdYlGn', legend = True,figsize = (15, 15), legend_kwds = {'shrink':0.5})\n",
    "lakes.plot(color = 'lightblue', ax=ax)\n",
    "cantons_ch.geometry.boundary.plot(ax=ax,edgecolor='k', color=None, linewidth=0.1)\n",
    "plt.imshow(out_image.squeeze(),extent=ch_extent, cmap='Greys_r', alpha=0.4)\n",
    "ax.set_axis_off()"
   ]
  }
 ],
 "metadata": {
  "kernelspec": {
   "display_name": "py311",
   "language": "python",
   "name": "py311"
  },
  "language_info": {
   "codemirror_mode": {
    "name": "ipython",
    "version": 3
   },
   "file_extension": ".py",
   "mimetype": "text/x-python",
   "name": "python",
   "nbconvert_exporter": "python",
   "pygments_lexer": "ipython3",
   "version": "3.11.0"
  }
 },
 "nbformat": 4,
 "nbformat_minor": 5
}
