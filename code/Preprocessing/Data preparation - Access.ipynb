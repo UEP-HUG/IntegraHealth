{
 "cells": [
  {
   "cell_type": "code",
   "execution_count": null,
   "id": "0",
   "metadata": {},
   "outputs": [],
   "source": [
    "import pandas as pd\n",
    "import geopandas as gpd\n",
    "import pysal as ps\n",
    "import pandana as pdna\n",
    "import urbanaccess as ua\n",
    "from urbanaccess.config import settings\n",
    "from urbanaccess.gtfsfeeds import feeds\n",
    "from urbanaccess import gtfsfeeds\n",
    "from urbanaccess.gtfs.gtfsfeeds_dataframe import gtfsfeeds_dfs\n",
    "from urbanaccess.network import ua_network, load_network\n",
    "import cartopy\n",
    "from pathlib import Path"
   ]
  },
  {
   "cell_type": "code",
   "execution_count": null,
   "id": "1",
   "metadata": {},
   "outputs": [],
   "source": [
    "data_folder = Path('../Data/')"
   ]
  },
  {
   "cell_type": "markdown",
   "id": "2",
   "metadata": {},
   "source": [
    "# Intégration du réseau de transports publics avec le réseau piéton"
   ]
  },
  {
   "cell_type": "code",
   "execution_count": null,
   "id": "3",
   "metadata": {},
   "outputs": [],
   "source": [
    "settings.to_dict()\n",
    "settings.log_console = True\n",
    "settings.log_console = False"
   ]
  },
  {
   "cell_type": "markdown",
   "id": "4",
   "metadata": {},
   "source": [
    "## Feeds object"
   ]
  },
  {
   "cell_type": "code",
   "execution_count": null,
   "id": "5",
   "metadata": {},
   "outputs": [],
   "source": [
    "feeds.to_dict()"
   ]
  },
  {
   "cell_type": "markdown",
   "id": "6",
   "metadata": {},
   "source": [
    "## Searching for GTFS feeds"
   ]
  },
  {
   "cell_type": "code",
   "execution_count": null,
   "id": "7",
   "metadata": {},
   "outputs": [],
   "source": [
    "gtfs_path = '/Users/david/Dropbox/PhD/GitHub/SanteIntegra/Data/raw/OFS/Transports publics/gtfs_fp2022_2022-04-13_04-15'"
   ]
  },
  {
   "cell_type": "code",
   "execution_count": null,
   "id": "8",
   "metadata": {},
   "outputs": [],
   "source": [
    "gtfs_path"
   ]
  },
  {
   "cell_type": "code",
   "execution_count": null,
   "id": "9",
   "metadata": {},
   "outputs": [],
   "source": [
    "validation = True\n",
    "verbose = True\n",
    "# bbox for Geneva\n",
    "bbox = (5.9559,46.1225,6.3215,46.3758)\n",
    "bbox_ch = (5.8358140744676303, 45.659168946713827, 10.979311848153316, 47.869910020393519)\n",
    "remove_stops_outsidebbox = True\n",
    "append_definitions = True"
   ]
  },
  {
   "cell_type": "code",
   "execution_count": null,
   "id": "10",
   "metadata": {},
   "outputs": [],
   "source": [
    "loaded_feeds =  ua.gtfs.load.gtfsfeed_to_df(gtfs_path, validation=validation, verbose=verbose, bbox = bbox_ch, remove_stops_outsidebbox=remove_stops_outsidebbox, append_definitions=append_definitions)"
   ]
  },
  {
   "cell_type": "code",
   "execution_count": null,
   "id": "11",
   "metadata": {},
   "outputs": [],
   "source": [
    "loaded_feeds.stops.head()"
   ]
  },
  {
   "cell_type": "code",
   "execution_count": null,
   "id": "12",
   "metadata": {},
   "outputs": [],
   "source": [
    "loaded_feeds.stops.unique_agency_id.unique()"
   ]
  },
  {
   "cell_type": "code",
   "execution_count": null,
   "id": "13",
   "metadata": {},
   "outputs": [],
   "source": [
    "loaded_feeds.stops.plot(kind = 'scatter',x = 'stop_lon',y = 'stop_lat', s=0.1)"
   ]
  },
  {
   "cell_type": "code",
   "execution_count": null,
   "id": "14",
   "metadata": {},
   "outputs": [],
   "source": [
    "ua.gtfs.network.create_transit_net(gtfsfeeds_dfs=loaded_feeds,\n",
    "                                   day='monday',\n",
    "                                   timerange=['07:00:00', '10:00:00'],\n",
    "                                   calendar_dates_lookup=None)"
   ]
  },
  {
   "cell_type": "code",
   "execution_count": null,
   "id": "15",
   "metadata": {},
   "outputs": [],
   "source": [
    "urbanaccess_net = ua.network.ua_network"
   ]
  },
  {
   "cell_type": "code",
   "execution_count": null,
   "id": "16",
   "metadata": {},
   "outputs": [],
   "source": [
    "urbanaccess_net.transit_edges.head()"
   ]
  },
  {
   "cell_type": "code",
   "execution_count": null,
   "id": "17",
   "metadata": {},
   "outputs": [],
   "source": [
    "urbanaccess_net.transit_nodes.head()"
   ]
  },
  {
   "cell_type": "code",
   "execution_count": null,
   "id": "18",
   "metadata": {},
   "outputs": [],
   "source": [
    "urbanaccess_net.transit_nodes.plot(kind='scatter', x='x', y='y', s=0.1)"
   ]
  },
  {
   "cell_type": "markdown",
   "id": "19",
   "metadata": {},
   "source": [
    "### Pedestrian network"
   ]
  },
  {
   "cell_type": "code",
   "execution_count": null,
   "id": "20",
   "metadata": {},
   "outputs": [],
   "source": [
    "nodes, edges = ua.osm.load.ua_network_from_bbox(bbox=bbox_ch,\n",
    "                                                remove_lcn=True)"
   ]
  },
  {
   "cell_type": "code",
   "execution_count": null,
   "id": "21",
   "metadata": {},
   "outputs": [],
   "source": [
    "ua.osm.network.create_osm_net(osm_edges=edges,\n",
    "                              osm_nodes=nodes,\n",
    "                              travel_speed_mph=3)"
   ]
  },
  {
   "cell_type": "code",
   "execution_count": null,
   "id": "22",
   "metadata": {},
   "outputs": [],
   "source": [
    "# Let's inspect the results which we can access inside of the existing urbanaccess_net variable:\n",
    "urbanaccess_net.osm_nodes.head()"
   ]
  },
  {
   "cell_type": "code",
   "execution_count": null,
   "id": "23",
   "metadata": {},
   "outputs": [],
   "source": [
    "urbanaccess_net.osm_edges.head()"
   ]
  },
  {
   "cell_type": "code",
   "execution_count": null,
   "id": "24",
   "metadata": {},
   "outputs": [],
   "source": [
    "urbanaccess_net.osm_nodes.plot(kind='scatter', x='x', y='y', s=0.1)"
   ]
  },
  {
   "cell_type": "markdown",
   "id": "25",
   "metadata": {},
   "source": [
    "### Create an integrated transit and pedestrian network\n",
    "Now let's integrate the two networks together. The resulting graph will be added to your existing UrbanAccess network object. After running this step, your network will be ready to be used with Pandana.\n",
    "\n",
    "The resulting integrated network will be added to your UrbanAccess network object inside net_nodes and net_edges"
   ]
  },
  {
   "cell_type": "code",
   "execution_count": null,
   "id": "26",
   "metadata": {},
   "outputs": [],
   "source": [
    "ua.network.integrate_network(urbanaccess_network=urbanaccess_net,\n",
    "                             headways=False)"
   ]
  },
  {
   "cell_type": "code",
   "execution_count": null,
   "id": "27",
   "metadata": {},
   "outputs": [],
   "source": [
    "# Let's inspect the results which we can access inside of the existing urbanaccess_net variable:\n",
    "urbanaccess_net.net_nodes.head()"
   ]
  },
  {
   "cell_type": "code",
   "execution_count": null,
   "id": "28",
   "metadata": {},
   "outputs": [],
   "source": [
    "urbanaccess_net.net_edges.head()"
   ]
  },
  {
   "cell_type": "code",
   "execution_count": null,
   "id": "29",
   "metadata": {},
   "outputs": [],
   "source": [
    "urbanaccess_net.net_edges[urbanaccess_net.net_edges['net_type'] == 'transit'].head()"
   ]
  },
  {
   "cell_type": "markdown",
   "id": "30",
   "metadata": {},
   "source": [
    "### Save the network to disk\n",
    "\n",
    "You can save the final processed integrated network net_nodes and net_edges to disk inside of a HDF5 file. By default the file will be saved to the directory of this notebook in the folder data."
   ]
  },
  {
   "cell_type": "code",
   "execution_count": null,
   "id": "31",
   "metadata": {},
   "outputs": [],
   "source": [
    "ua.network.save_network(urbanaccess_network=urbanaccess_net,\n",
    "                        filename='final_net.h5',\n",
    "                        overwrite_key = True)"
   ]
  },
  {
   "cell_type": "markdown",
   "id": "32",
   "metadata": {},
   "source": [
    "### Load the network"
   ]
  },
  {
   "cell_type": "code",
   "execution_count": null,
   "id": "33",
   "metadata": {},
   "outputs": [],
   "source": [
    "urbanaccess_net = ua.network.load_network(filename='final_net.h5')"
   ]
  },
  {
   "cell_type": "markdown",
   "id": "34",
   "metadata": {},
   "source": [
    "### Visualize the network\n",
    "You can visualize the network you just created using basic UrbanAccess plot functions\n",
    "\n",
    "**Integrated network**"
   ]
  },
  {
   "cell_type": "code",
   "execution_count": null,
   "id": "35",
   "metadata": {},
   "outputs": [],
   "source": [
    "ua.plot.plot_net(nodes=urbanaccess_net.net_nodes,\n",
    "                 edges=urbanaccess_net.net_edges,\n",
    "                 bbox=bbox,\n",
    "                 fig_height=30, margin=0.02,\n",
    "                 edge_color='#999999', edge_linewidth=1, edge_alpha=1,\n",
    "                 node_color='black', node_size=1.1, node_alpha=1, node_edgecolor='none', node_zorder=3, nodes_only=False)"
   ]
  },
  {
   "cell_type": "markdown",
   "id": "36",
   "metadata": {},
   "source": [
    "**Integrated network by travel time**\n",
    "Use the col_colors function to color edges by travel time. In this case the darker red the higher the travel times.\n",
    "\n",
    "Note the ability to see AC Transit's major bus arterial routes (in darker red) and transfer locations and BART rail network (rail stations are visible by the multiple bus connections at certain junctions in the network most visible in downtown Oakland at 19th, 12th Street, and Lake Merritt stations and Fruitvale and Coliseum stations) with the underlying pedestrian network. Downtown Oakland is located near the white cutout in the northeast middle section of the network which represents Lake Merritt."
   ]
  },
  {
   "cell_type": "code",
   "execution_count": null,
   "id": "37",
   "metadata": {},
   "outputs": [],
   "source": [
    "edgecolor = ua.plot.col_colors(df=urbanaccess_net.net_edges, col='weight', cmap='gist_heat_r', num_bins=5)\n",
    "ua.plot.plot_net(nodes=urbanaccess_net.net_nodes,\n",
    "                 edges=urbanaccess_net.net_edges,\n",
    "                 bbox=bbox,\n",
    "                 fig_height=30, margin=0.02,\n",
    "                 edge_color=edgecolor, edge_linewidth=1, edge_alpha=0.7,\n",
    "                 node_color='black', node_size=0, node_alpha=1, node_edgecolor='none', node_zorder=3, nodes_only=False)"
   ]
  },
  {
   "cell_type": "markdown",
   "id": "38",
   "metadata": {},
   "source": [
    "Let's zoom in closer to the canton of Geneva using a new smaller extent bbox. Note the bus routes on the major arterials and the TPG routes from station to station."
   ]
  },
  {
   "cell_type": "code",
   "execution_count": null,
   "id": "39",
   "metadata": {},
   "outputs": [],
   "source": [
    "edgecolor = ua.plot.col_colors(df=urbanaccess_net.net_edges, col='weight', cmap='gist_heat_r', num_bins=5)\n",
    "ua.plot.plot_net(nodes=urbanaccess_net.net_nodes,\n",
    "                 edges=urbanaccess_net.net_edges,\n",
    "                 bbox=bbox,\n",
    "                 fig_height=30, margin=0.02,\n",
    "                 edge_color=edgecolor, edge_linewidth=1, edge_alpha=0.7,\n",
    "                 node_color='black', node_size=0, node_alpha=1, node_edgecolor='none', node_zorder=3, nodes_only=False)"
   ]
  },
  {
   "cell_type": "markdown",
   "id": "40",
   "metadata": {},
   "source": [
    "### Transit network"
   ]
  },
  {
   "cell_type": "code",
   "execution_count": null,
   "id": "41",
   "metadata": {},
   "outputs": [],
   "source": [
    "ua.plot.plot_net(nodes=urbanaccess_net.net_nodes,\n",
    "                 edges=urbanaccess_net.net_edges[urbanaccess_net.net_edges['net_type']=='transit'],\n",
    "                 bbox=bbox,\n",
    "                 fig_height=30, margin=0.02,\n",
    "                 edge_color='#999999', edge_linewidth=1, edge_alpha=1,\n",
    "                 node_color='black', node_size=0, node_alpha=1, node_edgecolor='none', node_zorder=3, nodes_only=False)"
   ]
  },
  {
   "cell_type": "markdown",
   "id": "42",
   "metadata": {},
   "source": [
    "### Pedestrian network"
   ]
  },
  {
   "cell_type": "code",
   "execution_count": null,
   "id": "43",
   "metadata": {},
   "outputs": [],
   "source": [
    "ua.plot.plot_net(nodes=urbanaccess_net.net_nodes,\n",
    "                 edges=urbanaccess_net.net_edges[urbanaccess_net.net_edges['net_type']=='walk'],\n",
    "                 bbox=None,\n",
    "                 fig_height=30, margin=0.02,\n",
    "                 edge_color='#999999', edge_linewidth=1, edge_alpha=1,\n",
    "                 node_color='black', node_size=0, node_alpha=1, node_edgecolor='none', node_zorder=3, nodes_only=False)"
   ]
  },
  {
   "cell_type": "code",
   "execution_count": null,
   "id": "44",
   "metadata": {},
   "outputs": [],
   "source": [
    "import time\n",
    "s_time = time.time()\n",
    "transit_ped_net = pdna.Network(urbanaccess_net.net_nodes[\"x\"],\n",
    "                               urbanaccess_net.net_nodes[\"y\"],\n",
    "                               urbanaccess_net.net_edges[\"from_int\"],\n",
    "                               urbanaccess_net.net_edges[\"to_int\"],\n",
    "                               urbanaccess_net.net_edges[[\"weight\"]], \n",
    "                               twoway=False)\n",
    "print('Took {:,.2f} seconds'.format(time.time() - s_time))"
   ]
  },
  {
   "cell_type": "code",
   "execution_count": null,
   "id": "45",
   "metadata": {},
   "outputs": [],
   "source": []
  }
 ],
 "metadata": {
  "kernelspec": {
   "display_name": "py38",
   "language": "python",
   "name": "py38"
  },
  "language_info": {
   "codemirror_mode": {
    "name": "ipython",
    "version": 3
   },
   "file_extension": ".py",
   "mimetype": "text/x-python",
   "name": "python",
   "nbconvert_exporter": "python",
   "pygments_lexer": "ipython3",
   "version": "3.8.13"
  }
 },
 "nbformat": 4,
 "nbformat_minor": 5
}
