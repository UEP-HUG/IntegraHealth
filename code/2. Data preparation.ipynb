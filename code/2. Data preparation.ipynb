{
 "cells": [
  {
   "cell_type": "code",
   "execution_count": null,
   "id": "0",
   "metadata": {},
   "outputs": [],
   "source": [
    "import pandas as pd\n",
    "import os\n",
    "os.environ['USE_PYGEOS'] = '0'\n",
    "import geopandas as gpd\n",
    "import networkx as nx\n",
    "from pathlib import Path\n",
    "import networkx as nx\n",
    "import matplotlib.pyplot as plt\n",
    "import numpy as np\n",
    "pd.set_option('display.max_columns', 500)\n",
    "\n",
    "from sklearn.preprocessing import MinMaxScaler\n",
    "import sys\n",
    "sys.path.append('/Users/david/Dropbox/PhD/Scripts/Spatial analyses')\n",
    "import pyspace\n",
    "import libpysal as lps\n",
    "from scipy.spatial import cKDTree\n",
    "from libpysal.weights.distance import get_points_array\n",
    "from esda import fdr\n",
    "from importlib import reload\n",
    "pd.set_option('display.max_rows', 500)\n",
    "reload(pyspace)\n",
    "import seaborn as sns\n",
    "from esda.moran import Moran\n",
    "# sns.set_theme(font = 'Helvetica')\n",
    "%matplotlib inline\n",
    "from numba import NumbaDeprecationWarning\n",
    "import warnings\n",
    "import os\n",
    "# Suppress NumbaDeprecationWarning\n",
    "warnings.filterwarnings(\"ignore\", category=NumbaDeprecationWarning)\n",
    "from utils import read_data, plot_covariate_distributions, plot_match, compare_balance, sizeof_fmt, optimize_memory_df, plot_categorical_proportional_diff, compute_mean_differences_and_proportions, love_plot, sensitivity_analysis_k_neighbors"
   ]
  },
  {
   "cell_type": "code",
   "execution_count": null,
   "id": "1",
   "metadata": {},
   "outputs": [],
   "source": [
    "data_folder  = Path('../data/')\n",
    "main_folder = Path('../manuscript/Economic analysis of integrative medicine/')\n",
    "results_folder = main_folder/'output'\n",
    "model_folder = results_folder/'models'\n",
    "if not os.path.exists(model_folder):\n",
    "    os.makedirs(model_folder)"
   ]
  },
  {
   "cell_type": "markdown",
   "id": "2",
   "metadata": {},
   "source": [
    "## Treatment defitions"
   ]
  },
  {
   "cell_type": "code",
   "execution_count": null,
   "id": "3",
   "metadata": {},
   "outputs": [],
   "source": [
    "len(['Methodes ayurvediques_n', \"Methodes d'art therapie_n\",\n",
    "       'Methodes de massage_n', 'Methodes energetiques_n',\n",
    "       'Methodes energetiques manuelles_n', 'Methodes hydrotherapeutiques_n',\n",
    "       'Methodes occidentales_n', 'Methodes orientales_n',\n",
    "       'Methodes prescriptives_n', 'Methodes psychologiques complementaires_n',\n",
    "       'Methodes reflexes_n', 'Methodes therapeutiques par le mouvement_n',\n",
    "       'Methodes ayurvediques_amount', \"Methodes d'art therapie_amount\",\n",
    "       'Methodes de massage_amount', 'Methodes energetiques_amount',\n",
    "       'Methodes energetiques manuelles_amount',\n",
    "       'Methodes hydrotherapeutiques_amount', 'Methodes occidentales_amount',\n",
    "       'Methodes orientales_amount', 'Methodes prescriptives_amount',\n",
    "       'Methodes psychologiques complementaires_amount',\n",
    "       'Methodes reflexes_amount',\n",
    "       'Methodes therapeutiques par le mouvement_amount'])"
   ]
  },
  {
   "cell_type": "code",
   "execution_count": null,
   "id": "4",
   "metadata": {},
   "outputs": [],
   "source": [
    "data = pd.read_parquet('../Data/processed/full_dataset_nonull.parquet.gzip', columns = ['uuid','gp','NOANNEE','NBAGE','age_group',\n",
    "                                                                                        'CDPHYSSEXE','CDLANGUE','SEX_F','SEX_M','ssep3',\n",
    "                                                                                        'ssep3_q','n_atc','LANG_DE','LANG_FR','LANG_EN',\n",
    "                                                                                        'LANG_IT','D_MEDIC_B','D_MEDIC_S','mean_lst',\n",
    "                                                                                        'mean_ndvi',\n",
    "                                                                                        'mean_pm10',\n",
    "                                                                                        'mean_pm25',\n",
    "                                                                                        'mean_no2',\n",
    "                                                                                        'mean_carnight',\n",
    "                                                                                        'MTFRANCHISECOUV',\n",
    "                                                                                        'MODEL_AH_STD',\n",
    "                                                                                        'MODEL_HMO',\n",
    "                                                                                        'MODEL_MF',\n",
    "                                                                                        'MODEL_TEL',\n",
    "                                                                                        'lon_masked',\n",
    "                                                                                        'lat_masked',\n",
    "                                                                                        'cds',\n",
    "                                                                                        'PRESTATIONS_BRUTES_AOS',\n",
    "                                                                                        'PRESTATIONS_BRUTES_LCA',\n",
    "                                                                                        'PRESTATIONS_BRUTES_CAM',\n",
    "                                                                                        'PRESTATIONS_TOTAL',\n",
    "                                                                                        'PRESTATIONS_BRUTES_ATC',\n",
    "                                                                                        'PRESTATIONS_BRUTES_AMBULATOIRE',\n",
    "                                                                                        'PRESTATIONS_BRUTES_STATIONNAIRE',\n",
    "                                                                                        'PRESTATIONS_ACCIDENT',\n",
    "                                                                                        'PRESTATIONS_BIRTH',\n",
    "                                                                                        'PRESTATIONS_DISEASE',\n",
    "                                                                                        'treatment',\n",
    "                                                                                        'treatment_lca_cam',\n",
    "                                                                                        'n_month_lca_by_patient',\n",
    "                                                                                        'n_dispensateur_lca',\n",
    "                                                                                        'month_reached_1000_lca',\n",
    "                                                                                        'CANTON_NAME','CANTON_ACRONYM',\n",
    "                                                                                        'DEDUCTIBLE_0.0',\n",
    "                                                                                        'DEDUCTIBLE_100.0',\n",
    "                                                                                        'DEDUCTIBLE_200.0',\n",
    "                                                                                        'DEDUCTIBLE_300.0',\n",
    "                                                                                        'DEDUCTIBLE_400.0',\n",
    "                                                                                        'DEDUCTIBLE_500.0',\n",
    "                                                                                        'DEDUCTIBLE_600.0',\n",
    "                                                                                        'DEDUCTIBLE_1000.0',\n",
    "                                                                                        'DEDUCTIBLE_1500.0',\n",
    "                                                                                        'DEDUCTIBLE_2000.0',\n",
    "                                                                                        'DEDUCTIBLE_2500.0',\n",
    "                                                                                        'Methodes ayurvediques_n', \"Methodes d'art therapie_n\",\n",
    "                                                                                        'Methodes de massage_n', 'Methodes energetiques_n',\n",
    "                                                                                        'Methodes energetiques manuelles_n', 'Methodes hydrotherapeutiques_n',\n",
    "                                                                                        'Methodes occidentales_n', 'Methodes orientales_n',\n",
    "                                                                                        'Methodes prescriptives_n', 'Methodes psychologiques complementaires_n',\n",
    "                                                                                        'Methodes reflexes_n', 'Methodes therapeutiques par le mouvement_n',\n",
    "                                                                                        'Methodes ayurvediques_amount', \"Methodes d'art therapie_amount\",\n",
    "                                                                                        'Methodes de massage_amount', 'Methodes energetiques_amount',\n",
    "                                                                                        'Methodes energetiques manuelles_amount',\n",
    "                                                                                        'Methodes hydrotherapeutiques_amount', 'Methodes occidentales_amount',\n",
    "                                                                                        'Methodes orientales_amount', 'Methodes prescriptives_amount',\n",
    "                                                                                        'Methodes psychologiques complementaires_amount',\n",
    "                                                                                        'Methodes reflexes_amount',\n",
    "                                                                                        'Methodes therapeutiques par le mouvement_amount',\n",
    "                                                                                        'n_inpatient_hosp',\n",
    "                                                                                        'n_outpatient_hosp',\n",
    "                                                                                        'n_month_inpatienthosp',\n",
    "                                                                                        'n_month_outpatienthosp',\n",
    "                                                                                        'time_to_rehosp_in',\n",
    "                                                                                        'time_to_rehosp_out',\n",
    "                                                                                        'month_reached_5000_aos',\n",
    "                                                                                        'n_cat_dispensateur_aos',\n",
    "                                                                                        'n_ss_cat_dispensateur_aos',\n",
    "                                                                                        'Diabetes mellitus',\n",
    "                                                                                        'Osteoporosis',\n",
    "                                                                                        'Acid related disorders',\n",
    "                                                                                        'Cardiovascular diseases',\n",
    "                                                                                        'Hyperlipidemia',\n",
    "                                                                                        'Cancer',\n",
    "                                                                                        'Pain'])\n",
    "\n",
    "data = gpd.GeoDataFrame(data, crs = 4326, geometry=gpd.points_from_xy(data.lon_masked, data.lat_masked))\n",
    "\n",
    "data = data.to_crs(2056)\n",
    "data['E'], data['N'] = data['geometry'].x, data['geometry'].y"
   ]
  },
  {
   "cell_type": "code",
   "execution_count": null,
   "id": "5",
   "metadata": {},
   "outputs": [],
   "source": [
    "df_treated = optimize_memory_df(data[data.treatment.isnull()==False])\n",
    "df_treated.columns = df_treated.columns.str.replace('\\.0','',regex=True)"
   ]
  },
  {
   "cell_type": "code",
   "execution_count": null,
   "id": "6",
   "metadata": {},
   "outputs": [],
   "source": [
    "df_amount_by_cdposition = pd.read_parquet('../Data/processed/Intermediate datasets/df_amount_by_cdposition.parquet.gzip')"
   ]
  },
  {
   "cell_type": "code",
   "execution_count": null,
   "id": "7",
   "metadata": {},
   "outputs": [],
   "source": [
    "del data"
   ]
  },
  {
   "cell_type": "code",
   "execution_count": null,
   "id": "8",
   "metadata": {},
   "outputs": [],
   "source": [
    "df_treated['year'] = df_treated['NOANNEE']-2016"
   ]
  },
  {
   "cell_type": "code",
   "execution_count": null,
   "id": "9",
   "metadata": {},
   "outputs": [],
   "source": [
    "df_treated = pd.merge(df_treated,df_amount_by_cdposition, left_on = ['uuid','NOANNEE'], right_on = ['uuid','ANNEE_TRAITEMENT'], how='left')\n",
    "df_treated[['Homeopathy','Neural therapy','Anthroposophic medicine','Phone consultation','Acupuncture','Phytotherapy','Traditional Chinese medicine']] = df_treated[['Homeopathy','Neural therapy','Anthroposophic medicine','Phone consultation','Acupuncture','Phytotherapy','Traditional Chinese medicine']].fillna(0)"
   ]
  },
  {
   "cell_type": "code",
   "execution_count": null,
   "id": "10",
   "metadata": {},
   "outputs": [],
   "source": [
    "df_na_cols = df_treated.isna().sum()\n",
    "df_na_cols[df_na_cols> 0]"
   ]
  },
  {
   "cell_type": "markdown",
   "id": "11",
   "metadata": {},
   "source": [
    "## Create dataset by uuid"
   ]
  },
  {
   "cell_type": "code",
   "execution_count": null,
   "id": "12",
   "metadata": {},
   "outputs": [],
   "source": [
    "df_uuid = df_treated[['uuid']]\n",
    "df_uuid = df_uuid.drop_duplicates().reset_index(drop=True)"
   ]
  },
  {
   "cell_type": "markdown",
   "id": "13",
   "metadata": {},
   "source": [
    "### Create cumulated variables"
   ]
  },
  {
   "cell_type": "code",
   "execution_count": null,
   "id": "14",
   "metadata": {},
   "outputs": [],
   "source": [
    "ttmt_gp_uuid = df_treated.groupby('uuid')['treatment'].sum().to_dict()\n",
    "df_treated['treatment_cumulated'] = df_treated['uuid'].map(ttmt_gp_uuid)"
   ]
  },
  {
   "cell_type": "code",
   "execution_count": null,
   "id": "15",
   "metadata": {},
   "outputs": [],
   "source": [
    "ttmt_gp_uuid = df_treated.groupby('uuid')['treatment_lca_cam'].sum().to_dict()\n",
    "df_treated['treatment_cumulated_lca_cam'] = df_treated['uuid'].map(ttmt_gp_uuid)"
   ]
  },
  {
   "cell_type": "code",
   "execution_count": null,
   "id": "16",
   "metadata": {},
   "outputs": [],
   "source": [
    "ttmt_month_gp_uuid = df_treated.groupby('uuid')['n_month_lca_by_patient'].sum().to_dict()\n",
    "df_treated['cumulated_n_month_lca_by_patient'] = df_treated['uuid'].map(ttmt_month_gp_uuid)"
   ]
  },
  {
   "cell_type": "code",
   "execution_count": null,
   "id": "17",
   "metadata": {},
   "outputs": [],
   "source": [
    "df_uuid['cumulated_n_month_lca_by_patient'] = df_uuid['uuid'].map(ttmt_month_gp_uuid)"
   ]
  },
  {
   "cell_type": "markdown",
   "id": "18",
   "metadata": {},
   "source": [
    "### Add \"urbanicity\" variable and language region"
   ]
  },
  {
   "cell_type": "code",
   "execution_count": null,
   "id": "19",
   "metadata": {},
   "outputs": [],
   "source": [
    "import fiona\n",
    "communes = gpd.read_file(data_folder/'raw/OFS/swissBOUNDARIES3D_1_5_LV95_LN02.gpkg', layer = 'tlm_hoheitsgebiet')\n",
    "\n",
    "\n",
    "communes = communes[communes['icc'] == 'CH']\n",
    "\n",
    "communes_typologie = pd.read_csv(data_folder/'raw/OFS/Typologie communes/SFSO_typologie_communes.csv', sep = ';')\n",
    "communes_langues = pd.read_csv(data_folder/'raw/OFS/Typologie communes/SFSO_langues_communes.csv', sep = ';')\n",
    "\n",
    "communes = pd.merge(communes, communes_langues[['GEO_NAME','DESC_VAL']], left_on = 'name', right_on = 'GEO_NAME', how = 'left').merge(communes_typologie[['GEO_NAME','DESC_VAL']], left_on = 'name', right_on = 'GEO_NAME', how = 'left')\n",
    "\n",
    "communes = communes.drop(['GEO_NAME_x','GEO_NAME_y'], axis = 1).rename(columns={'DESC_VAL_x':\"Language\",'DESC_VAL_y':'Urbanicity'})\n",
    "\n",
    "communes.loc[communes.Urbanicity.str.contains(' urbaine', regex=True, na=False),'Urbanicity_simple'] = 'Urban'\n",
    "communes.loc[communes.Urbanicity.str.contains('périurbaine', regex=True, na=False),'Urbanicity_simple'] = 'Peri-urban'\n",
    "communes.loc[communes.Urbanicity.str.contains('rural', regex=True, na=False),'Urbanicity_simple'] = 'Rural'\n",
    "\n",
    "communes['pop_density'] = (communes['einwohnerzahl']/(communes.geometry.area/1000000))*10000\n",
    "\n",
    "communes.loc[communes.name == 'Obersaxen Mundaun', 'Language'] = 'Région linguistique allemande'\n",
    "communes.loc[communes.name == 'Herznach-Ueken', 'Language'] = 'Région linguistique allemande'\n",
    "communes.loc[communes.name == 'Damphreux-Lugnez', 'Language'] = 'Région linguistique française'\n",
    "communes.loc[communes.name == \"Bois-d'Amont\", 'Language'] = 'Région linguistique française'\n",
    "\n",
    "lang_dict = {'Région linguistique allemande':'DE',\n",
    "            'Région linguistique française':'FR',\n",
    "            'Région linguistique italienne':'IT',\n",
    "            'Région linguistique romanche':'RM'}\n",
    "\n",
    "communes['Language'] = communes['Language'].map(lang_dict)"
   ]
  },
  {
   "cell_type": "code",
   "execution_count": null,
   "id": "20",
   "metadata": {},
   "outputs": [],
   "source": [
    "lakes = gpd.read_file(data_folder/'raw/Lacs/g2s15.shp')\n",
    "lakes = lakes.to_crs(2056)"
   ]
  },
  {
   "cell_type": "code",
   "execution_count": null,
   "id": "21",
   "metadata": {},
   "outputs": [],
   "source": [
    "communes['language_cat'] = communes['Language'].map({'DE':\"German\",'FR':'French','IT':'Italian','RM':\"Romansh\"})"
   ]
  },
  {
   "cell_type": "code",
   "execution_count": null,
   "id": "22",
   "metadata": {},
   "outputs": [],
   "source": [
    "communes[communes.name.isin(['Genève','Bâle','Zürich','Basel','Lausanne','Bern'])]['name']"
   ]
  },
  {
   "cell_type": "code",
   "execution_count": null,
   "id": "23",
   "metadata": {},
   "outputs": [],
   "source": [
    "from matplotlib.patheffects import withStroke\n",
    "\n",
    "fig, ax = plt.subplots(figsize = (12,12))\n",
    "communes.plot('language_cat', categorical=True, legend=True,ax=ax, legend_kwds={\"title\":'Language region'})\n",
    "gdf_names = communes[communes.name.isin(['Genève','Bâle','Zürich','Basel','Lausanne','Bern'])]\n",
    "gdf_names.loc[gdf_names['name'] == 'Genève','name']='Geneva'\n",
    "# gdf_names.apply(lambda x: ax.annotate(text=x['name'], xy=x.geometry.centroid.coords[0], ha='center', size=8), axis=1)\n",
    "lakes.plot(color='lightgrey', ax=ax)\n",
    "# Adding text annotations with white contour\n",
    "for x, y, label in zip(gdf_names.geometry.centroid.x, gdf_names.geometry.centroid.y, gdf_names['name']):\n",
    "    ax.text(x, y, label, fontsize=8, ha='right', va='bottom',\n",
    "            path_effects=[withStroke(linewidth=3, foreground='white')])\n",
    "ax.set_title('B', loc = 'left', size= 16)\n",
    "ax.set_axis_off()  # Hide axes\n",
    "plt.savefig(results_folder/'Figures_rapport/language_region.png', dpi = 300, bbox_inches='tight', transparent=True)"
   ]
  },
  {
   "cell_type": "markdown",
   "id": "24",
   "metadata": {},
   "source": [
    "### Gérer les cantons manquants et les personnes ayant vécus dans plusieurs cantons"
   ]
  },
  {
   "cell_type": "code",
   "execution_count": null,
   "id": "25",
   "metadata": {},
   "outputs": [],
   "source": [
    "cantons = gpd.read_file(data_folder/'raw/OFS/swissBOUNDARIES3D_1_5_LV95_LN02.gpkg', layer = 'tlm_kantonsgebiet')\n",
    "cantons = cantons.to_crs(2056)\n",
    "\n",
    "cantons['CANTON_NAME_manual'] = cantons['name']\n",
    "\n",
    "# df_canton_na = df_treated_filtered[df_treated_filtered.CANTON_NAME.isnull()][['uuid','NOANNEE','CANTON_NAME','CANTON_ACRONYM','geometry']]\n",
    "# Create a dictionary of Swiss cantons and their abbreviations\n",
    "swiss_cantons = {\n",
    "    \"Aargau\": \"AG\",\n",
    "    \"Appenzell Ausserrhoden\": \"AR\",\n",
    "    \"Appenzell Innerrhoden\": \"AI\",\n",
    "    \"Basel-Landschaft\": \"BL\",\n",
    "    \"Basel-Stadt\": \"BS\",\n",
    "    \"Bern\": \"BE\",\n",
    "    \"Fribourg\": \"FR\",\n",
    "    \"Genève\": \"GE\",\n",
    "    \"Glarus\": \"GL\",\n",
    "    \"Graubünden\": \"GR\",\n",
    "    \"Jura\": \"JU\",\n",
    "    \"Luzern\": \"LU\",\n",
    "    \"Neuchâtel\": \"NE\",\n",
    "    \"Nidwalden\": \"NW\",\n",
    "    \"Obwalden\": \"OW\",\n",
    "    \"St. Gallen\": \"SG\",\n",
    "    \"Schaffhausen\": \"SH\",\n",
    "    \"Schwyz\": \"SZ\",\n",
    "    \"Solothurn\": \"SO\",\n",
    "    \"Thurgau\": \"TG\",\n",
    "    \"Ticino\": \"TI\",\n",
    "    \"Uri\": \"UR\",\n",
    "    \"Vaud\": \"VD\",\n",
    "    \"Valais\":\"VS\",\n",
    "    \"Zug\": \"ZG\",\n",
    "    \"Zürich\": \"ZH\"\n",
    "}\n",
    "\n",
    "cantons['CANTON_ACRONYM_manual'] = cantons['name'].map(swiss_cantons)\n",
    "\n",
    "df_treated = gpd.sjoin_nearest(df_treated, communes[communes.objektart == 'Gemeindegebiet'][['name','pop_density','Urbanicity_simple','Language','geometry']]).drop('index_right', axis = 1).drop_duplicates()\n",
    "df_treated = gpd.sjoin(df_treated, cantons[['CANTON_NAME_manual','CANTON_ACRONYM_manual','geometry']], predicate = 'within').drop('index_right', axis = 1).drop_duplicates()\n",
    "\n",
    "baseline_cantons = df_treated.groupby('uuid')['CANTON_ACRONYM_manual'].first().to_dict()\n",
    "\n",
    "df_treated['CANTON_ACRONYM_first'] = df_treated['uuid'].map(baseline_cantons)\n",
    "\n",
    "df_treated = pd.concat([df_treated, pd.get_dummies(df_treated.Urbanicity_simple, prefix = 'urb', dtype=int),\n",
    "               pd.get_dummies(df_treated.Language, prefix = 'region',dtype=int)], axis=1)"
   ]
  },
  {
   "cell_type": "code",
   "execution_count": null,
   "id": "26",
   "metadata": {},
   "outputs": [],
   "source": [
    "from matplotlib.patheffects import withStroke\n",
    "\n",
    "# Combine two colormaps\n",
    "cmap1 = plt.get_cmap('tab20', 20)  # Get the first 20 colors\n",
    "cmap2 = plt.get_cmap('tab20b', 20)  # Get another set of 20 colors\n",
    "colors = np.vstack([cmap1(np.arange(20)), cmap2(np.arange(20))])\n",
    "custom_cmap = plt.matplotlib.colors.ListedColormap(colors[:26, :])\n",
    "\n",
    "fig, ax = plt.subplots(figsize = (12,12))\n",
    "\n",
    "\n",
    "cantons.plot('name', categorical=True, legend=False,ax=ax, cmap=custom_cmap, legend_kwds={\"title\":'Language region'})\n",
    "gdf_names = cantons.copy()\n",
    "# gdf_names.loc[gdf_names['name'] == 'Genève','name']='Geneva'\n",
    "# gdf_names.apply(lambda x: ax.annotate(text=x['name'], xy=x.geometry.centroid.coords[0], ha='center', size=8), axis=1)\n",
    "lakes.plot(color='lightgrey', ax=ax)\n",
    "# Adding text annotations with white contour\n",
    "for x, y, label in zip(gdf_names.geometry.centroid.x, gdf_names.geometry.centroid.y, gdf_names['name']):\n",
    "    ax.text(x, y, label, fontsize=8, ha='right', va='bottom',\n",
    "            path_effects=[withStroke(linewidth=3, foreground='white')])\n",
    "ax.set_title('A', loc = 'left', size= 16)\n",
    "ax.set_axis_off()  # Hide axes\n",
    "plt.savefig(results_folder/'Figures_rapport/cantons.png', dpi = 300, bbox_inches='tight', transparent=True)"
   ]
  },
  {
   "cell_type": "markdown",
   "id": "27",
   "metadata": {},
   "source": [
    "## PCG Flags\n",
    "\n",
    "Ref très utile sur données GM = clustering des patients sur base des PCGs: https://medinform.jmir.org/2022/4/e34274/PDF"
   ]
  },
  {
   "cell_type": "code",
   "execution_count": null,
   "id": "28",
   "metadata": {},
   "outputs": [],
   "source": [
    "df_flag_aos = pd.read_parquet('../Data/processed/df_flag_aos_preprocessed.parquet.gzip')\n",
    "df_flag_aos['n_flags'] = df_flag_aos.filter(regex='LOPCG.').sum(axis = 1)\n",
    "df_flag_aos = df_flag_aos.rename({'LOPCG':'any_pcg'}, axis = 1)\n",
    "df_flag_aos.columns = df_flag_aos.columns.str.replace('LOPCG','', regex=True).str.lower()"
   ]
  },
  {
   "cell_type": "code",
   "execution_count": null,
   "id": "29",
   "metadata": {},
   "outputs": [],
   "source": [
    "df_flag_aos['Cancer_PCG'] = df_flag_aos[['kre', 'krk', 'kho']].any(axis=1).astype(int)\n",
    "df_flag_aos['Inflammatory_PCG'] = df_flag_aos[['mcr', 'pso', 'rhe','msk']].any(axis=1).astype(int)\n",
    "df_flag_aos['Diabetes_PCG'] = df_flag_aos[['dm1','dm2']].any(axis=1).astype(int)\n",
    "df_flag_aos['Hypertension_related_PCG'] = df_flag_aos[['dmh', 'pah', 'hch']].any(axis=1).astype(int)\n",
    "df_flag_aos['Immune_PCG'] = df_flag_aos[['aik', 'tra']].any(axis=1).astype(int)\n",
    "df_flag_aos['Pain_PCG'] = df_flag_aos[['smc', 'smn']].any(axis=1).astype(int)\n",
    "df_flag_aos['Thyroid_PCG'] = df_flag_aos[['thy']].any(axis=1).astype(int)\n",
    "df_flag_aos['Mental_PCG'] = df_flag_aos[['dep','bsr','abh','adh','alz','psy']].any(axis=1).astype(int)\n",
    "df_flag_aos['Asthma_PCG'] = df_flag_aos[['ast', 'cop']].any(axis=1).astype(int)\n",
    "df_flag_aos['Parkinson_PCG'] = df_flag_aos[['par']].any(axis=1).astype(int)\n",
    "df_flag_aos['Epilepsy_PCG'] = df_flag_aos[['epi']].any(axis=1).astype(int)\n",
    "df_flag_aos['Glaucoma_PCG'] = df_flag_aos[['gla']].any(axis=1).astype(int)\n",
    "df_flag_aos['HIV_AIDS_PCG'] = df_flag_aos[['hiv']].any(axis=1).astype(int)\n",
    "df_flag_aos['Heart_disease_PCG'] = df_flag_aos[['car']].any(axis=1).astype(int)\n",
    "df_flag_aos['Other_PCG'] = df_flag_aos[['nie','was','zfp','zns']].any(axis=1).astype(int)\n",
    "df_flag_aos['Diseases_PCG'] = df_flag_aos[['Asthma_PCG',\n",
    " 'Cancer_PCG',\n",
    " 'Diabetes_PCG',\n",
    " 'Epilepsy_PCG',\n",
    " 'Glaucoma_PCG',\n",
    " 'HIV_AIDS_PCG',\n",
    " 'Heart_disease_PCG',\n",
    " 'Hypertension_related_PCG',\n",
    " 'Immune_PCG',\n",
    " 'Inflammatory_PCG',\n",
    " 'Mental_PCG',\n",
    " 'Other_PCG',\n",
    " 'Pain_PCG',\n",
    " 'Parkinson_PCG',\n",
    " 'Thyroid_PCG']].any(axis=1).astype(int)"
   ]
  },
  {
   "cell_type": "markdown",
   "id": "30",
   "metadata": {},
   "source": [
    "### Create multimorbidity variable"
   ]
  },
  {
   "cell_type": "code",
   "execution_count": null,
   "id": "31",
   "metadata": {},
   "outputs": [],
   "source": [
    "df_flag_aos.loc[df_flag_aos['n_flags'] < 2, 'multimorbidity'] = 0\n",
    "df_flag_aos.loc[df_flag_aos['n_flags']>= 2, 'multimorbidity'] = 1\n",
    "\n",
    "df_flag_aos.loc[df_flag_aos['n_flags'] < 1, 'healthy'] = 1\n",
    "df_flag_aos.loc[df_flag_aos['n_flags']>= 1, 'healthy'] = 0"
   ]
  },
  {
   "cell_type": "markdown",
   "id": "32",
   "metadata": {},
   "source": [
    "### Join Flags to main dataset"
   ]
  },
  {
   "cell_type": "code",
   "execution_count": null,
   "id": "33",
   "metadata": {},
   "outputs": [],
   "source": [
    "df_treated = pd.merge(df_treated, df_flag_aos[['uuid','noannee','locdrhosp','any_pcg','n_flags','multimorbidity','Asthma_PCG',\n",
    " 'Cancer_PCG',\n",
    " 'Diabetes_PCG',\n",
    " 'Epilepsy_PCG',\n",
    " 'Glaucoma_PCG',\n",
    " 'HIV_AIDS_PCG',\n",
    " 'Heart_disease_PCG',\n",
    " 'Hypertension_related_PCG',\n",
    " 'Immune_PCG',\n",
    " 'Inflammatory_PCG',\n",
    " 'Mental_PCG',\n",
    " 'Other_PCG',\n",
    " 'Pain_PCG',\n",
    " 'Parkinson_PCG',\n",
    " 'Thyroid_PCG']], left_on = ['uuid','NOANNEE'], right_on = ['uuid','noannee'])"
   ]
  },
  {
   "cell_type": "markdown",
   "id": "34",
   "metadata": {},
   "source": [
    "## Fill NAs "
   ]
  },
  {
   "cell_type": "code",
   "execution_count": null,
   "id": "35",
   "metadata": {},
   "outputs": [],
   "source": [
    "df_treated['n_inpatient_hosp'] = df_treated['n_inpatient_hosp'].fillna(0)\n",
    "df_treated['n_outpatient_hosp'] = df_treated['n_outpatient_hosp'].fillna(0)\n",
    "df_treated['PRESTATIONS_ACCIDENT'] = df_treated['PRESTATIONS_ACCIDENT'].fillna(0)\n",
    "df_treated['PRESTATIONS_DISEASE'] = df_treated['PRESTATIONS_DISEASE'].fillna(0)\n",
    "df_treated['PRESTATIONS_BIRTH'] = df_treated['PRESTATIONS_BIRTH'].fillna(0)\n",
    "df_treated['n_dispensateur_lca'] = df_treated['n_dispensateur_lca'].fillna(0)\n",
    "df_treated['PRESTATIONS_BRUTES_AOS'] = df_treated['PRESTATIONS_BRUTES_AOS'].fillna(0)\n",
    "df_treated['PRESTATIONS_BRUTES_LCA'] = df_treated['PRESTATIONS_BRUTES_LCA'].fillna(0)\n",
    "df_treated['PRESTATIONS_BRUTES_CAM'] = df_treated['PRESTATIONS_BRUTES_CAM'].fillna(0)\n",
    "df_treated['PRESTATIONS_TOTAL'] = df_treated['PRESTATIONS_TOTAL'].fillna(0)\n",
    "df_treated['PRESTATIONS_BRUTES_AMBULATOIRE'] = df_treated['PRESTATIONS_BRUTES_AMBULATOIRE'].fillna(0)\n",
    "df_treated['PRESTATIONS_BRUTES_STATIONNAIRE'] = df_treated['PRESTATIONS_BRUTES_STATIONNAIRE'].fillna(0)\n",
    "df_treated['Methodes de massage_amount'] = df_treated['Methodes de massage_amount'].fillna(0)\n",
    "df_treated['Methodes energetiques_amount'] = df_treated['Methodes energetiques_amount'].fillna(0)\n",
    "df_treated['Methodes occidentales_amount'] = df_treated['Methodes occidentales_amount'].fillna(0)\n",
    "df_treated['Methodes hydrotherapeutiques_amount'] = df_treated['Methodes hydrotherapeutiques_amount'].fillna(0)\n",
    "df_treated['Methodes orientales_amount'] = df_treated['Methodes orientales_amount'].fillna(0)\n",
    "df_treated['n_cat_dispensateur_aos'] = df_treated['n_cat_dispensateur_aos'].fillna(0)\n",
    "df_treated['n_ss_cat_dispensateur_aos'] = df_treated['n_ss_cat_dispensateur_aos'].fillna(0)\n",
    "df_treated['n_month_inpatienthosp'] = df_treated['n_month_inpatienthosp'].fillna(0)\n",
    "df_treated['n_month_outpatienthosp'] = df_treated['n_month_outpatienthosp'].fillna(0)"
   ]
  },
  {
   "cell_type": "markdown",
   "id": "36",
   "metadata": {},
   "source": [
    "## Inverse Hyperbolic Sine transformation of costs"
   ]
  },
  {
   "cell_type": "code",
   "execution_count": null,
   "id": "37",
   "metadata": {},
   "outputs": [],
   "source": [
    "# Apply the Inverse Hyperbolic Sine Transformation to the cost variable\n",
    "# IHS transformation: y = ln(y + (y^2 + 1)^(1/2))\n",
    "# Can also be done with numpy np.arcsinh\n",
    "df_treated['PRESTATIONS_CAM_LCA'] = df_treated['PRESTATIONS_BRUTES_LCA'] + df_treated['PRESTATIONS_BRUTES_CAM']\n",
    "df_treated['ihs_cost_lca_cam'] = np.arcsinh(df_treated['PRESTATIONS_CAM_LCA'])\n",
    "df_treated['ihs_cost_aos'] = np.log(df_treated['PRESTATIONS_BRUTES_AOS'] + np.sqrt(df_treated['PRESTATIONS_BRUTES_AOS']**2 + 1))\n",
    "df_treated['ihs_cost_aos_ambu'] = np.log(df_treated['PRESTATIONS_BRUTES_AMBULATOIRE'] + np.sqrt(df_treated['PRESTATIONS_BRUTES_AMBULATOIRE']**2 + 1))\n",
    "df_treated['ihs_cost_aos_stat'] = np.log(df_treated['PRESTATIONS_BRUTES_STATIONNAIRE'] + np.sqrt(df_treated['PRESTATIONS_BRUTES_STATIONNAIRE']**2 + 1))\n",
    "df_treated['ihs_cost_disease'] = np.log(df_treated['PRESTATIONS_DISEASE'] + np.sqrt(df_treated['PRESTATIONS_DISEASE']**2 + 1))\n",
    "df_treated['ihs_cost_lca'] = np.log(df_treated['PRESTATIONS_BRUTES_LCA'] + np.sqrt(df_treated['PRESTATIONS_BRUTES_LCA']**2 + 1))\n",
    "df_treated['ihs_cost_cam'] = np.log(df_treated['PRESTATIONS_BRUTES_CAM'] + np.sqrt(df_treated['PRESTATIONS_BRUTES_CAM']**2 + 1))\n",
    "df_treated['ihs_cost_pain'] = np.log(df_treated['Pain'] + np.sqrt(df_treated['Pain']**2 + 1))\n",
    "df_treated['ihs_cds'] = np.log(df_treated['cds'] + np.sqrt(df_treated['cds']**2 + 1))"
   ]
  },
  {
   "cell_type": "markdown",
   "id": "38",
   "metadata": {},
   "source": [
    "## Standardize and dichotomize variables"
   ]
  },
  {
   "cell_type": "code",
   "execution_count": null,
   "id": "39",
   "metadata": {},
   "outputs": [],
   "source": [
    "df_treated['non_zero_ihs_cost_aos'] = (df_treated['ihs_cost_aos'] > 0).astype(int)"
   ]
  },
  {
   "cell_type": "code",
   "execution_count": null,
   "id": "40",
   "metadata": {},
   "outputs": [],
   "source": [
    "df_treated = pd.concat([df_treated, pd.get_dummies(df_treated.age_group, prefix = 'age', dtype=int)], axis=1)\n",
    "\n",
    "df_treated.columns = df_treated.columns.str.replace('-','_')\n",
    "\n",
    "df_treated['DEDUCTIBLE_abv_500'] = 1\n",
    "df_treated.loc[df_treated.MTFRANCHISECOUV < 500, 'DEDUCTIBLE_abv_500'] = 0\n",
    "\n",
    "\n",
    "# df_treated['D_MEDIC_S_cat'] = pd.cut(df_treated['D_MEDIC_S'], bins = [0, 5000, 15000, 50000])\n",
    "# df_treated['D_MEDIC_B_cat'] = pd.cut(df_treated['D_MEDIC_B'], bins = [0, 5000, 15000, 50000])"
   ]
  },
  {
   "cell_type": "markdown",
   "id": "41",
   "metadata": {},
   "source": [
    "### Log-transform variables"
   ]
  },
  {
   "cell_type": "code",
   "execution_count": null,
   "id": "42",
   "metadata": {},
   "outputs": [],
   "source": [
    "df_treated['n_atc_log'] = np.log10(df_treated['n_atc']+1)\n",
    "df_treated['n_inpatient_hosp_log'] = np.log10(df_treated['n_inpatient_hosp']+1)\n",
    "df_treated['n_month_inpatienthosp_log'] = np.log10(df_treated['n_month_inpatienthosp']+1)\n",
    "df_treated['D_MEDIC_B_log'] = np.log10(df_treated['D_MEDIC_B']+1)\n",
    "df_treated['D_MEDIC_S_log'] = np.log10(df_treated['D_MEDIC_S']+1)\n",
    "df_treated['cds_log'] = np.log10(df_treated['cds']+1)"
   ]
  },
  {
   "cell_type": "code",
   "execution_count": null,
   "id": "43",
   "metadata": {},
   "outputs": [],
   "source": [
    "df_treated[df_treated.cds > 0].cds_log.plot.kde()"
   ]
  },
  {
   "cell_type": "code",
   "execution_count": null,
   "id": "44",
   "metadata": {},
   "outputs": [],
   "source": [
    "df_treated[df_treated.PRESTATIONS_BRUTES_CAM> 0].filter(regex='uuid|NOANNEE|TOTAL|CAM|LCA|AOS')"
   ]
  },
  {
   "cell_type": "code",
   "execution_count": null,
   "id": "45",
   "metadata": {},
   "outputs": [],
   "source": [
    "df_prestation_aos_cam = read_data(data_folder/'processed'/'df_prestation_aos_cam_preprocessed.parquet.gzip')"
   ]
  },
  {
   "cell_type": "code",
   "execution_count": null,
   "id": "46",
   "metadata": {},
   "outputs": [],
   "source": [
    "df_prestation_aos_cam[df_prestation_aos_cam.uuid == '0003438d-8a67-42ec-93f3-ef928f9fd397'].groupby('ANNEE_TRAITEMENT').PRESTATIONS_BRUTES.sum()"
   ]
  },
  {
   "cell_type": "code",
   "execution_count": null,
   "id": "47",
   "metadata": {},
   "outputs": [],
   "source": [
    "df_treated['PRESTATIONS_BRUTES_CAM_b'] = np.where(df_treated['PRESTATIONS_BRUTES_CAM'] > 0 ,1 ,0)\n",
    "df_treated['PRESTATIONS_BRUTES_AOS_b'] = np.where(df_treated['PRESTATIONS_BRUTES_AOS'] > 0 ,1 ,0)\n",
    "df_treated['PRESTATIONS_BRUTES_LCA_b'] = np.where(df_treated['PRESTATIONS_BRUTES_LCA'] > 0 ,1 ,0)\n",
    "df_treated['PRESTATIONS_ACCIDENT_b'] = np.where(df_treated['PRESTATIONS_ACCIDENT'] > 0 ,1 ,0)\n",
    "df_treated['PRESTATIONS_BIRTH_b'] = np.where(df_treated['PRESTATIONS_BIRTH'] > 0 ,1 ,0)\n",
    "df_treated['PRESTATIONS_BRUTES_STATIONNAIRE_b'] = np.where(df_treated['PRESTATIONS_BRUTES_STATIONNAIRE'] > 0 ,1 ,0)"
   ]
  },
  {
   "cell_type": "code",
   "execution_count": null,
   "id": "48",
   "metadata": {},
   "outputs": [],
   "source": [
    "df_treated.PRESTATIONS_BRUTES_CAM_b.value_counts()"
   ]
  },
  {
   "cell_type": "code",
   "execution_count": null,
   "id": "49",
   "metadata": {},
   "outputs": [],
   "source": [
    "df_treated = df_treated.sort_values(['uuid','year'])"
   ]
  },
  {
   "cell_type": "markdown",
   "id": "50",
   "metadata": {},
   "source": [
    "## Final variables"
   ]
  },
  {
   "cell_type": "code",
   "execution_count": null,
   "id": "51",
   "metadata": {},
   "outputs": [],
   "source": [
    "df_treated['CAREMODEL'] = df_treated.filter(regex='MODEL_').idxmax(axis=1).str.replace('MODEL_', '')"
   ]
  },
  {
   "cell_type": "code",
   "execution_count": null,
   "id": "52",
   "metadata": {},
   "outputs": [],
   "source": [
    "canton_to_language = {\n",
    "    'Zürich': 'German',\n",
    "    'Bern': 'German',\n",
    "    'Luzern': 'German',\n",
    "    'Uri': 'German',\n",
    "    'Schwyz': 'German',\n",
    "    'Obwalden': 'German',\n",
    "    'Nidwalden': 'German',\n",
    "    'Glarus': 'German',\n",
    "    'Zug': 'German',\n",
    "    'Fribourg': 'Mix',\n",
    "    'Solothurn': 'German',\n",
    "    'Basel-Stadt': 'German',\n",
    "    'Basel-Landschaft': 'German',\n",
    "    'Schaffhausen': 'German',\n",
    "    'Appenzell Ausserrhoden': 'German',\n",
    "    'Appenzell Innerrhoden': 'German',\n",
    "    'St. Gallen': 'German',\n",
    "    'Graubünden': 'German', # Note: Graubünden is trilingual with German, Romansh and Italian communities\n",
    "    'Aargau': 'German',\n",
    "    'Thurgau': 'German',\n",
    "    'Ticino': 'Italian',\n",
    "    'Vaud': 'French',\n",
    "    'Valais': 'Mix', # Note: Valais is bilingual with French and German communities\n",
    "    'Neuchâtel': 'French',\n",
    "    'Genève': 'French',\n",
    "    'Jura': 'French',\n",
    "}"
   ]
  },
  {
   "cell_type": "code",
   "execution_count": null,
   "id": "53",
   "metadata": {},
   "outputs": [],
   "source": [
    "df_treated['lang_region'] = df_treated['CANTON_NAME'].map(canton_to_language)"
   ]
  },
  {
   "cell_type": "code",
   "execution_count": null,
   "id": "54",
   "metadata": {},
   "outputs": [],
   "source": [
    "df_treated[['region_DE','region_FR','region_IT','SEX_F', 'NBAGE','MODEL_AH_STD', 'MODEL_MF', 'MODEL_HMO', 'MODEL_TEL', 'ssep3_q', 'DEDUCTIBLE_300', 'DEDUCTIBLE_500', 'DEDUCTIBLE_1000', 'DEDUCTIBLE_1500', 'DEDUCTIBLE_2000', 'D_MEDIC_B_log', 'ihs_cost_aos', 'n_atc_log', 'n_month_inpatienthosp_log', 'locdrhosp', 'Asthma_PCG', 'Cancer_PCG', 'Diabetes_PCG', 'Epilepsy_PCG', 'Glaucoma_PCG', 'HIV_AIDS_PCG', 'Heart_disease_PCG', 'Hypertension_related_PCG', 'Immune_PCG', 'Inflammatory_PCG', 'Mental_PCG', 'Other_PCG', 'Pain_PCG', 'Parkinson_PCG', 'Thyroid_PCG', 'mean_no2', 'mean_ndvi', 'mean_carnight', 'urb_Peri_urban', 'urb_Urban']].corr().sort_values('region_FR')"
   ]
  },
  {
   "cell_type": "markdown",
   "id": "55",
   "metadata": {},
   "source": [
    "### Update Swiss SEP levels"
   ]
  },
  {
   "cell_type": "code",
   "execution_count": null,
   "id": "56",
   "metadata": {},
   "outputs": [],
   "source": [
    "df_treated.filter(regex='ss')"
   ]
  },
  {
   "cell_type": "code",
   "execution_count": null,
   "id": "57",
   "metadata": {},
   "outputs": [],
   "source": [
    "df_treated['ssep3_q'] = df_treated['ssep3_q'].astype('float').astype('int').astype(\"string\")\n",
    "df_treated.loc[df_treated['ssep3_q'] == '1','ssep3_q'] = '1st - Lowest'\n",
    "df_treated.loc[df_treated['ssep3_q'] == '2','ssep3_q'] = '2nd'\n",
    "df_treated.loc[df_treated['ssep3_q'] == '3','ssep3_q'] = '3rd'\n",
    "df_treated.loc[df_treated['ssep3_q'] == '4','ssep3_q'] = '4th'\n",
    "df_treated.loc[df_treated['ssep3_q'] == '5','ssep3_q'] = '5th - Highest'"
   ]
  },
  {
   "cell_type": "markdown",
   "id": "58",
   "metadata": {},
   "source": [
    "## Create dataset with individuals present for all 5 years"
   ]
  },
  {
   "cell_type": "code",
   "execution_count": null,
   "id": "59",
   "metadata": {},
   "outputs": [],
   "source": [
    "# Get unique years\n",
    "unique_years = set(df_treated['NOANNEE'])\n",
    "# Group by patient_id and filter\n",
    "df_treated_filtered = df_treated.groupby('uuid').filter(lambda x: set(x['NOANNEE']) == unique_years)"
   ]
  },
  {
   "cell_type": "code",
   "execution_count": null,
   "id": "60",
   "metadata": {},
   "outputs": [],
   "source": [
    "df_treated_filtered['treatment_cam_only'] = 0\n",
    "df_treated_filtered.loc[df_treated_filtered['PRESTATIONS_BRUTES_CAM']>0, 'treatment_cam_only'] = 1"
   ]
  },
  {
   "cell_type": "code",
   "execution_count": null,
   "id": "61",
   "metadata": {},
   "outputs": [],
   "source": [
    "df_treated_filtered = df_treated_filtered.rename(columns = {'age_80+':'age_80plus'})\n"
   ]
  },
  {
   "cell_type": "code",
   "execution_count": null,
   "id": "62",
   "metadata": {},
   "outputs": [],
   "source": [
    "df_treated_filtered.to_parquet(data_folder/'processed/df_treated_filtered.parquet.gzip', compression='gzip')"
   ]
  },
  {
   "cell_type": "code",
   "execution_count": null,
   "id": "63",
   "metadata": {},
   "outputs": [],
   "source": [
    "df_treated.groupby('uuid').size().value_counts().plot.bar()"
   ]
  },
  {
   "cell_type": "markdown",
   "id": "64",
   "metadata": {},
   "source": [
    "### Exclude minors"
   ]
  },
  {
   "cell_type": "code",
   "execution_count": null,
   "id": "65",
   "metadata": {},
   "outputs": [],
   "source": [
    "id_minors = df_treated_filtered[(df_treated_filtered.NOANNEE==2017)&(df_treated_filtered.NBAGE < 19)].uuid\n",
    "df_treated_filtered_nominors = df_treated_filtered[df_treated_filtered.uuid.isin(id_minors)==False]"
   ]
  },
  {
   "cell_type": "markdown",
   "id": "66",
   "metadata": {},
   "source": [
    "### Create usage type categories"
   ]
  },
  {
   "cell_type": "code",
   "execution_count": null,
   "id": "67",
   "metadata": {},
   "outputs": [],
   "source": [
    "# Initialize the 'usage_type' column to None\n",
    "df_treated_filtered_nominors['usage_type'] = None\n",
    "\n",
    "# Set 'usage_type' based on complex conditions\n",
    "# Correcting the logical operator and ensuring each condition is in its own parentheses\n",
    "df_treated_filtered_nominors.loc[(df_treated_filtered_nominors['PRESTATIONS_BRUTES_AOS'] > 0) & (df_treated_filtered_nominors['treatment_lca_cam'] == 1), 'usage_type'] = 'CAM (MHI or SI) & CM'\n",
    "\n",
    "df_treated_filtered_nominors.loc[df_treated_filtered_nominors['treatment_lca_cam'] == 0, 'usage_type'] = 'CM only'\n",
    "\n",
    "# Adjusting for the second complex condition\n",
    "df_treated_filtered_nominors.loc[(df_treated_filtered_nominors['PRESTATIONS_BRUTES_AOS'] == 0) & (df_treated_filtered_nominors['treatment_lca_cam'] == 1), 'usage_type'] = 'CAM only (MHI or SI)'"
   ]
  },
  {
   "cell_type": "code",
   "execution_count": null,
   "id": "68",
   "metadata": {},
   "outputs": [],
   "source": [
    "df_treated_filtered_nominors.to_parquet(data_folder/'processed/df_treated_filtered_nominors.parquet.gzip', compression='gzip')"
   ]
  },
  {
   "cell_type": "markdown",
   "id": "69",
   "metadata": {},
   "source": [
    "## Create subgroup datasets"
   ]
  },
  {
   "cell_type": "code",
   "execution_count": null,
   "id": "70",
   "metadata": {},
   "outputs": [],
   "source": [
    "df_treated_filtered = df_treated_filtered_nominors.copy()"
   ]
  },
  {
   "cell_type": "code",
   "execution_count": null,
   "id": "71",
   "metadata": {},
   "outputs": [],
   "source": [
    "df_treated_filtered.groupby('multimorbidity')['ihs_cost_aos'].mean()"
   ]
  },
  {
   "cell_type": "code",
   "execution_count": null,
   "id": "72",
   "metadata": {},
   "outputs": [],
   "source": [
    "# Healthy = People with PCG flags = 0 in any year\n",
    "uuid_healthy = df_treated_filtered[df_treated_filtered.n_flags == 0].uuid.unique()\n",
    "df_healthy = df_treated_filtered[df_treated_filtered.uuid.isin(uuid_healthy)]\n",
    "\n",
    "# Healthy = People with AOS = 0 at baseline\n",
    "uuid_healthy_bs = df_treated_filtered[(df_treated_filtered.NOANNEE==2017)&(df_treated_filtered.n_flags == 0)].uuid.unique()\n",
    "df_healthy_bs = df_treated_filtered[df_treated_filtered.uuid.isin(uuid_healthy_bs)]\n",
    "\n",
    "# Patients with multimorbidity\n",
    "uuid_multimorbid = df_treated_filtered[df_treated_filtered.multimorbidity == 1].uuid.unique()\n",
    "df_multimorbid = df_treated_filtered[df_treated_filtered.uuid.isin(uuid_multimorbid)]\n",
    "\n",
    "# Patients with multimorbidity at baseline\n",
    "uuid_multimorbid_bs = df_treated_filtered[(df_treated_filtered.NOANNEE==2017)&(df_treated_filtered.multimorbidity == 1)].uuid.unique()\n",
    "df_multimorbid_bs = df_treated_filtered[df_treated_filtered.uuid.isin(uuid_multimorbid_bs)]\n",
    "\n",
    "# Patients with cancer\n",
    "uuid_cancer = df_treated_filtered[(df_treated_filtered.Cancer_PCG == 1)].uuid.unique()\n",
    "df_cancer = df_treated_filtered[df_treated_filtered.uuid.isin(uuid_cancer)]\n",
    "\n",
    "# Patients with cancer at baseline\n",
    "uuid_cancer_bs = df_treated_filtered[(df_treated_filtered.NOANNEE==2017)&(df_treated_filtered.Cancer_PCG == 1)].uuid.unique()\n",
    "df_cancer_bs = df_treated_filtered[df_treated_filtered.uuid.isin(uuid_cancer_bs)]\n",
    "\n",
    "# Patients with diabetes\n",
    "uuid_diab = df_treated_filtered[(df_treated_filtered.Diabetes_PCG == 1)].uuid.unique()\n",
    "df_diab = df_treated_filtered[df_treated_filtered.uuid.isin(uuid_diab)]\n",
    "\n",
    "# Patients with diabetes at baseline\n",
    "uuid_diab_bs = df_treated_filtered[(df_treated_filtered.NOANNEE==2017)&(df_treated_filtered.Diabetes_PCG == 1)].uuid.unique()\n",
    "df_diab_bs = df_treated_filtered[df_treated_filtered.uuid.isin(uuid_diab_bs)]\n",
    "\n",
    "# Patients with pain\n",
    "uuid_pain = df_treated_filtered[(df_treated_filtered.Pain_PCG == 1)].uuid.unique()\n",
    "df_pain = df_treated_filtered[df_treated_filtered.uuid.isin(uuid_pain)]\n",
    "\n",
    "# Patients with pain\n",
    "uuid_mental = df_treated_filtered[(df_treated_filtered.Mental_PCG == 1)].uuid.unique()\n",
    "df_mental = df_treated_filtered[df_treated_filtered.uuid.isin(uuid_mental)]\n",
    "\n"
   ]
  },
  {
   "cell_type": "code",
   "execution_count": null,
   "id": "73",
   "metadata": {},
   "outputs": [],
   "source": [
    "df_healthy.to_parquet(data_folder/'processed/df_healthy_nominors.parquet.gzip', compression='gzip' )\n",
    "df_multimorbid.to_parquet(data_folder/'processed/df_multimorbidity_nominors.parquet.gzip', compression='gzip' )\n",
    "df_cancer.to_parquet(data_folder/'processed/df_cancer_nominors.parquet.gzip', compression='gzip' )\n",
    "df_diab.to_parquet(data_folder/'processed/df_diab_nominors.parquet.gzip', compression='gzip' )\n",
    "df_pain.to_parquet(data_folder/'processed/df_pain_nominors.parquet.gzip', compression='gzip' )\n",
    "df_mental.to_parquet(data_folder/'processed/df_mental_nominors.parquet.gzip', compression='gzip' )"
   ]
  },
  {
   "cell_type": "code",
   "execution_count": null,
   "id": "74",
   "metadata": {},
   "outputs": [],
   "source": [
    "df_treated_filtered[df_treated_filtered.Cancer > 0 ].shape[0]"
   ]
  },
  {
   "cell_type": "code",
   "execution_count": null,
   "id": "75",
   "metadata": {},
   "outputs": [],
   "source": [
    "df_multimorbid[df_multimorbid.NBAGE < 18]"
   ]
  },
  {
   "cell_type": "code",
   "execution_count": null,
   "id": "76",
   "metadata": {},
   "outputs": [],
   "source": [
    "df_treated_filtered[df_treated_filtered.Cancer_PCG > 0].shape[0]"
   ]
  },
  {
   "cell_type": "code",
   "execution_count": null,
   "id": "77",
   "metadata": {},
   "outputs": [],
   "source": [
    "df_treated_filtered[df_treated_filtered.Diabetes_PCG > 0].shape[0]"
   ]
  },
  {
   "cell_type": "code",
   "execution_count": null,
   "id": "78",
   "metadata": {},
   "outputs": [],
   "source": [
    "df_treated_filtered[df_treated_filtered['Diabetes mellitus'] > 0].shape[0]"
   ]
  },
  {
   "cell_type": "code",
   "execution_count": null,
   "id": "79",
   "metadata": {},
   "outputs": [],
   "source": [
    "df_treated_filtered[df_treated_filtered.Pain_PCG > 0].shape[0]"
   ]
  },
  {
   "cell_type": "code",
   "execution_count": null,
   "id": "80",
   "metadata": {},
   "outputs": [],
   "source": [
    "for pcg in pcg_columns:\n",
    "    n_w_pcg = df_treated_filtered[(df_treated_filtered[pcg] == 1)&(df_treated_filtered.NBAGE > 18)].uuid.nunique()\n",
    "    print(pcg, n_w_pcg)"
   ]
  },
  {
   "cell_type": "code",
   "execution_count": null,
   "id": "81",
   "metadata": {},
   "outputs": [],
   "source": [
    "df_treated_filtered.uuid.nunique()"
   ]
  },
  {
   "cell_type": "code",
   "execution_count": null,
   "id": "82",
   "metadata": {},
   "outputs": [],
   "source": [
    "df_treated_filtered[(df_treated_filtered['n_flags'] > 0)].uuid.nunique()"
   ]
  },
  {
   "cell_type": "code",
   "execution_count": null,
   "id": "83",
   "metadata": {},
   "outputs": [],
   "source": [
    "df_treated_filtered[(df_treated_filtered['n_flags'] == 0)].uuid.nunique()"
   ]
  },
  {
   "cell_type": "code",
   "execution_count": null,
   "id": "84",
   "metadata": {},
   "outputs": [],
   "source": [
    "filtered_therap_clean = pd.read_csv(data_folder/'/processed/20230223_Therapies_ontology.csv',encoding='ISO-8859-1')"
   ]
  },
  {
   "cell_type": "code",
   "execution_count": null,
   "id": "85",
   "metadata": {},
   "outputs": [],
   "source": [
    "'- '.join(filtered_therap_clean[filtered_therap_clean.Methode.isnull()==False].Methode.unique())"
   ]
  },
  {
   "cell_type": "code",
   "execution_count": null,
   "id": "86",
   "metadata": {},
   "outputs": [],
   "source": [
    "[i for i in filtered_therap_clean.Methode.unique()]"
   ]
  },
  {
   "cell_type": "markdown",
   "id": "87",
   "metadata": {},
   "source": []
  }
 ],
 "metadata": {
  "kernelspec": {
   "display_name": "py311",
   "language": "python",
   "name": "py311"
  },
  "language_info": {
   "codemirror_mode": {
    "name": "ipython",
    "version": 3
   },
   "file_extension": ".py",
   "mimetype": "text/x-python",
   "name": "python",
   "nbconvert_exporter": "python",
   "pygments_lexer": "ipython3",
   "version": "3.11.9"
  }
 },
 "nbformat": 4,
 "nbformat_minor": 5
}
