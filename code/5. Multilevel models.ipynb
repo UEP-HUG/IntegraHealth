{
 "cells": [
  {
   "cell_type": "code",
   "execution_count": null,
   "id": "0",
   "metadata": {},
   "outputs": [],
   "source": [
    "# Required Libraries\n",
    "import pandas as pd\n",
    "from linearmodels.panel import PanelOLS\n",
    "from linearmodels.panel import RandomEffects\n",
    "from statsmodels.datasets import grunfeld\n",
    "import statsmodels.api as sm\n",
    "import statsmodels.formula.api as smf\n",
    "from utils import read_data, plot_covariate_distributions, plot_match, compare_balance, sizeof_fmt, optimize_memory_df, plot_categorical_proportional_diff, compute_mean_differences_and_proportions, love_plot, sensitivity_analysis_k_neighbors\n",
    "import spreg\n",
    "import libpysal\n",
    "import numpy as np"
   ]
  },
  {
   "cell_type": "code",
   "execution_count": null,
   "id": "1",
   "metadata": {},
   "outputs": [],
   "source": [
    "data = read_data(\"../Data/processed/full_dataset_nonull.parquet.gzip\")\n",
    "data_final = data[data.gp.isin(['LCA & AOS','AOS only','LCA only'])]"
   ]
  },
  {
   "cell_type": "code",
   "execution_count": null,
   "id": "2",
   "metadata": {},
   "outputs": [],
   "source": [
    "del data"
   ]
  },
  {
   "cell_type": "markdown",
   "id": "3",
   "metadata": {},
   "source": [
    "### Filter out individuals that do not belong to the groups part of treatment and control"
   ]
  },
  {
   "cell_type": "code",
   "execution_count": null,
   "id": "4",
   "metadata": {},
   "outputs": [],
   "source": [
    "df_treated = optimize_memory_df(data_final[data_final.treatment.isnull()==False])"
   ]
  },
  {
   "cell_type": "markdown",
   "id": "5",
   "metadata": {},
   "source": [
    "### Filter out individuals that do not belong to the treatment and control for the whole 5 years"
   ]
  },
  {
   "cell_type": "code",
   "execution_count": null,
   "id": "6",
   "metadata": {},
   "outputs": [],
   "source": [
    "# Get unique years\n",
    "unique_years = set(df_treated['NOANNEE'])\n",
    "\n",
    "# Group by patient_id and filter\n",
    "df_treated_filtered = df_treated.groupby('uuid').filter(lambda x: set(x['NOANNEE']) == unique_years)"
   ]
  },
  {
   "cell_type": "code",
   "execution_count": null,
   "id": "7",
   "metadata": {},
   "outputs": [],
   "source": [
    "df_treated_filtered.groupby(['NOANNEE','treatment']).uuid.nunique()"
   ]
  },
  {
   "cell_type": "code",
   "execution_count": null,
   "id": "8",
   "metadata": {},
   "outputs": [],
   "source": [
    "del df_treated"
   ]
  },
  {
   "cell_type": "code",
   "execution_count": null,
   "id": "9",
   "metadata": {},
   "outputs": [],
   "source": [
    "df_treated_filtered['year'] = df_treated_filtered['NOANNEE']-2016\n",
    "df_multilevel_model = df_treated_filtered.set_index(['uuid','NOANNEE'])"
   ]
  },
  {
   "cell_type": "code",
   "execution_count": null,
   "id": "10",
   "metadata": {},
   "outputs": [],
   "source": [
    "import statsmodels.api as sm\n",
    "import statsmodels.formula.api as smf\n",
    "\n",
    "# Load your data\n",
    "# df = ...\n",
    "\n",
    "# Define your variables\n",
    "outcome_var = 'PRESTATIONS_BRUTES_AOS'  # The outcome variable name as a string\n",
    "time_var = 'year'  # The time variable name as a string\n",
    "covariates = ['cov1', 'cov2', 'cov3']  # List of covariate names as strings\n",
    "group_var = 'patient_id'  # The grouping variable name as a string (e.g., patient ID)\n",
    "\n",
    "# Convert time to string if it's not already, as Patsy requires this\n",
    "df[time_var] = df[time_var].astype(str)\n",
    "\n",
    "# Ordinary Least Squares (OLS) Model\n",
    "ols_formula = f\"{outcome_var} ~ {' + '.join(covariates + [time_var])}\"\n",
    "ols_model = smf.ols(ols_formula, data=df).fit()\n",
    "\n",
    "# Mixed Effects Model with Random Intercepts\n",
    "me_intercept_formula = f\"{outcome_var} ~ {' + '.join(covariates + [time_var])}\"\n",
    "me_intercept_model = smf.mixedlm(me_intercept_formula, data=df, groups=df[group_var]).fit()\n",
    "\n",
    "# Mixed Effects Model with Random Intercepts and Random Slopes\n",
    "me_slope_formula = f\"{outcome_var} ~ {' + '.join(covariates + [time_var])}\"\n",
    "me_slope_model = smf.mixedlm(me_slope_formula, data=df, \n",
    "                              groups=df[group_var], \n",
    "                              re_formula=f\"~{time_var}\").fit()\n",
    "\n",
    "# Compare Models\n",
    "models = [('OLS', ols_model), ('Mixed_Intercepts', me_intercept_model), ('Mixed_Slopes', me_slope_model)]\n",
    "for name, model in models:\n",
    "    print(f\"{name} AIC: {model.aic}\")\n",
    "\n",
    "# Guide for Model Choice\n",
    "# Lower AIC values suggest better-fitting models. However, also consider the complexity\n",
    "# and interpretability of the model, as well as theoretical justifications for including\n",
    "# random effects. Additionally, you may want to look at other measures like BIC, likelihood\n",
    "# ratio tests, and cross-validation results when making your final decision.\n"
   ]
  }
 ],
 "metadata": {
  "kernelspec": {
   "display_name": "py310",
   "language": "python",
   "name": "py310"
  },
  "language_info": {
   "codemirror_mode": {
    "name": "ipython",
    "version": 3
   },
   "file_extension": ".py",
   "mimetype": "text/x-python",
   "name": "python",
   "nbconvert_exporter": "python",
   "pygments_lexer": "ipython3",
   "version": "3.8.18"
  }
 },
 "nbformat": 4,
 "nbformat_minor": 5
}
