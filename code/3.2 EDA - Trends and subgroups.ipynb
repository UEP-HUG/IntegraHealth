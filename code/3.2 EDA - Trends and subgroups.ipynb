{
 "cells": [
  {
   "cell_type": "code",
   "execution_count": null,
   "id": "0",
   "metadata": {},
   "outputs": [],
   "source": [
    "import pandas as pd\n",
    "import os\n",
    "os.environ['USE_PYGEOS'] = '0'\n",
    "import geopandas as gpd\n",
    "import networkx as nx\n",
    "from pathlib import Path\n",
    "import networkx as nx\n",
    "import matplotlib.pyplot as plt\n",
    "import numpy as np\n",
    "pd.set_option('display.max_columns', 500)\n",
    "\n",
    "from sklearn.preprocessing import MinMaxScaler\n",
    "import sys\n",
    "sys.path.append('/Users/david/Dropbox/PhD/Scripts/Spatial analyses')\n",
    "import pyspace\n",
    "import libpysal as lps\n",
    "from scipy.spatial import cKDTree\n",
    "from libpysal.weights.distance import get_points_array\n",
    "from esda import fdr\n",
    "from importlib import reload\n",
    "pd.set_option('display.max_rows', 500)\n",
    "reload(pyspace)\n",
    "import seaborn as sns\n",
    "from esda.moran import Moran\n",
    "# sns.set_theme(font = 'Helvetica')\n",
    "%matplotlib inline\n",
    "from numba import NumbaDeprecationWarning\n",
    "import warnings\n",
    "import os\n",
    "# Suppress NumbaDeprecationWarning\n",
    "warnings.filterwarnings(\"ignore\", category=NumbaDeprecationWarning)\n",
    "from utils import read_data, plot_covariate_distributions, plot_match, compare_balance, sizeof_fmt, optimize_memory_df, plot_categorical_proportional_diff, compute_mean_differences_and_proportions, love_plot, sensitivity_analysis_k_neighbors"
   ]
  },
  {
   "cell_type": "code",
   "execution_count": null,
   "id": "1",
   "metadata": {},
   "outputs": [],
   "source": [
    "data_folder  = Path('../data/')\n",
    "results_folder = Path('../output/')\n",
    "model_folder = results_folder/'Models'\n",
    "\n",
    "if not os.path.exists(model_folder):\n",
    "    os.makedirs(model_folder)"
   ]
  },
  {
   "cell_type": "code",
   "execution_count": null,
   "id": "2",
   "metadata": {},
   "outputs": [],
   "source": [
    "df_treated_filtered = pd.read_parquet(data_folder/'processed/df_treated_filtered_nominors.parquet.gzip')"
   ]
  },
  {
   "cell_type": "code",
   "execution_count": null,
   "id": "3",
   "metadata": {},
   "outputs": [],
   "source": [
    "df_treated_filtered.uuid.nunique()"
   ]
  },
  {
   "cell_type": "code",
   "execution_count": null,
   "id": "4",
   "metadata": {},
   "outputs": [],
   "source": [
    "df_treated_filtered.groupby(['NOANNEE','CDPHYSSEXE'])['PRESTATIONS_BRUTES_AOS'].agg({\"mean\",\"std\"}).unstack(level=1).div(1000).round(1)"
   ]
  },
  {
   "cell_type": "code",
   "execution_count": null,
   "id": "5",
   "metadata": {},
   "outputs": [],
   "source": [
    "test = pd.concat([df_treated_filtered.groupby(['NOANNEE','CDPHYSSEXE'])['PRESTATIONS_BRUTES_AOS'].agg({\"mean\",\"std\"}).unstack().div(1000).round(1),\n",
    "df_treated_filtered.groupby(['NOANNEE','age_group'],observed=True)['PRESTATIONS_BRUTES_AOS'].agg({\"mean\",\"std\"}).unstack().div(1000).round(1),\n",
    "df_treated_filtered.groupby(['NOANNEE','ssep3_q'],observed=True)['PRESTATIONS_BRUTES_AOS'].agg({\"mean\",\"std\"}).unstack().div(1000).round(1),\n",
    "df_treated_filtered.groupby(['NOANNEE','Language'],observed=True)['PRESTATIONS_BRUTES_AOS'].agg({\"mean\",\"std\"}).unstack().div(1000).round(1),\n",
    "df_treated_filtered.groupby(['NOANNEE','CAREMODEL'],observed=True)['PRESTATIONS_BRUTES_AOS'].agg({\"mean\",\"std\"}).unstack().div(1000).round(1),\n",
    "df_treated_filtered.groupby(['NOANNEE','MTFRANCHISECOUV'],observed=True)['PRESTATIONS_BRUTES_AOS'].agg({\"mean\",\"std\"}).unstack().div(1000).round(1)], axis=1).T.reset_index()\n",
    "test.columns = ['Statistic', 'Categories', '2017', '2018', '2019', '2020', '2021']\n",
    "\n",
    "# Pivot the DataFrame to make each row represent one year and one sex\n",
    "df_pivot = test.pivot(index='Categories', columns='Statistic')\n",
    "\n",
    "for year in ['2017', '2018', '2019', '2020', '2021']:\n",
    "    df_pivot[year] = df_pivot[(year, 'mean')].astype(str) + \" (\" + df_pivot[(year, 'std')].astype(str) + \")\"\n",
    "df_pivot.columns = df_pivot.columns.droplevel(1)  # Drops the upper level, leaving only the years\n",
    "df_final = df_pivot.reset_index()\n",
    "df_final = df_final.loc[:,~df_final.columns.duplicated()].copy()\n",
    "df_final.to_clipboard()"
   ]
  },
  {
   "cell_type": "code",
   "execution_count": null,
   "id": "6",
   "metadata": {},
   "outputs": [],
   "source": [
    "def percentile_25(x):\n",
    "    return np.percentile(x, 25)\n",
    "\n",
    "def percentile_75(x):\n",
    "    return np.percentile(x, 75)\n",
    "\n",
    "def median(x):\n",
    "    return np.median(x)"
   ]
  },
  {
   "cell_type": "code",
   "execution_count": null,
   "id": "7",
   "metadata": {},
   "outputs": [],
   "source": [
    "test = pd.concat([df_treated_filtered.groupby(['NOANNEE','CDPHYSSEXE'])['PRESTATIONS_BRUTES_LCA'].agg({\"mean\",\"std\"}).unstack().round(1),\n",
    "df_treated_filtered.groupby(['NOANNEE','age_group'],observed=True)['PRESTATIONS_BRUTES_LCA'].agg({\"mean\",\"std\"}).unstack().round(1),\n",
    "df_treated_filtered.groupby(['NOANNEE','ssep3_q'],observed=True)['PRESTATIONS_BRUTES_LCA'].agg({\"mean\",\"std\"}).unstack().round(1),\n",
    "df_treated_filtered.groupby(['NOANNEE','Language'],observed=True)['PRESTATIONS_BRUTES_LCA'].agg({\"mean\",\"std\"}).unstack().round(1),\n",
    "df_treated_filtered.groupby(['NOANNEE','CAREMODEL'],observed=True)['PRESTATIONS_BRUTES_LCA'].agg({\"mean\",\"std\"}).unstack().round(1),\n",
    "df_treated_filtered.groupby(['NOANNEE','MTFRANCHISECOUV'],observed=True)['PRESTATIONS_BRUTES_LCA'].agg({\"mean\",\"std\"}).unstack().round(1)], axis=1).T.reset_index()\n",
    "test.columns = ['Statistic', 'Categories', '2017', '2018', '2019', '2020', '2021']\n",
    "\n",
    "# Pivot the DataFrame to make each row represent one year and one sex\n",
    "df_pivot = test.pivot(index='Categories', columns='Statistic')\n",
    "\n",
    "for year in ['2017', '2018', '2019', '2020', '2021']:\n",
    "    df_pivot[year] = df_pivot[(year, 'mean')].astype(str) + \" (\" + df_pivot[(year, 'std')].astype(str) + \")\"\n",
    "df_pivot.columns = df_pivot.columns.droplevel(1)  # Drops the upper level, leaving only the years\n",
    "df_final = df_pivot.reset_index()\n",
    "df_final = df_final.loc[:,~df_final.columns.duplicated()].copy()\n",
    "df_final.to_clipboard()"
   ]
  },
  {
   "cell_type": "code",
   "execution_count": null,
   "id": "8",
   "metadata": {},
   "outputs": [],
   "source": [
    "pd.concat([df_treated_filtered.groupby(['NOANNEE','CDPHYSSEXE'])['PRESTATIONS_BRUTES_LCA'].agg({\"median\",\"std\"}).unstack().round(1),\n",
    "df_treated_filtered.groupby(['NOANNEE','age_group'],observed=True)['PRESTATIONS_BRUTES_LCA'].agg({\"median\",\"std\"}).unstack().round(1),\n",
    "df_treated_filtered.groupby(['NOANNEE','ssep3_q'],observed=True)['PRESTATIONS_BRUTES_LCA'].agg({\"median\",\"std\"}).unstack().round(1),\n",
    "df_treated_filtered.groupby(['NOANNEE','CDLANGUE'],observed=True)['PRESTATIONS_BRUTES_LCA'].agg({\"median\",\"std\"}).unstack().round(1),\n",
    "df_treated_filtered.groupby(['NOANNEE','CAREMODEL'],observed=True)['PRESTATIONS_BRUTES_LCA'].agg({\"median\",\"std\"}).unstack().round(1)], axis=1).T.reset_index()"
   ]
  },
  {
   "cell_type": "code",
   "execution_count": null,
   "id": "9",
   "metadata": {},
   "outputs": [],
   "source": [
    "df_uuid = df_treated_filtered[['uuid']]\n",
    "df_uuid = df_uuid.drop_duplicates().reset_index(drop=True)"
   ]
  },
  {
   "cell_type": "markdown",
   "id": "10",
   "metadata": {},
   "source": [
    "### Figure S2A - Trends in healthcare expenditures (2017-2021)"
   ]
  },
  {
   "cell_type": "code",
   "execution_count": null,
   "id": "11",
   "metadata": {},
   "outputs": [],
   "source": [
    "yearly_data_AOS = df_treated_filtered.groupby('NOANNEE')['PRESTATIONS_BRUTES_AOS'].sum().div(1000000).reset_index()\n",
    "yearly_data_LCA = df_treated_filtered.groupby('NOANNEE')['PRESTATIONS_BRUTES_LCA'].sum().div(1000000).reset_index()\n",
    "yearly_data_CAM = df_treated_filtered.groupby('NOANNEE')['PRESTATIONS_BRUTES_CAM'].sum().div(1000000).reset_index()\n",
    "\n",
    "# Create a long format DataFrame for easier plotting with seaborn\n",
    "combined_data = pd.concat([\n",
    "    yearly_data_AOS.rename(columns={'PRESTATIONS_BRUTES_AOS': 'Values'}).assign(Type='CM - MHI'),\n",
    "    yearly_data_CAM.rename(columns={'PRESTATIONS_BRUTES_CAM': 'Values'}).assign(Type='CAM - MHI'),\n",
    "    yearly_data_LCA.rename(columns={'PRESTATIONS_BRUTES_LCA': 'Values'}).assign(Type='CAM - SI')\n",
    "])\n",
    "\n",
    "# Adjusted for FacetGrid with custom x-ticks\n",
    "def plot_facet_grid(data, x, y, facet_col, x_label, y_label):\n",
    "    g = sns.FacetGrid(data, row=facet_col, sharey=False, height=4, aspect=2)\n",
    "    g.map_dataframe(sns.lineplot, x=x, y=y, marker='o')\n",
    "    g.set_axis_labels(x_label, y_label)\n",
    "\n",
    "    # Set x-ticks for each facet\n",
    "    for ax in g.axes.flatten():\n",
    "        ax.set_xticks(data[x].unique())  # Assuming x-values are year numbers\n",
    "        ax.set_xticklabels(data[x].unique(), rotation=45)\n",
    "        ax.grid(True)\n",
    "\n",
    "# Combine and rename data as per previous example for combined_data\n",
    "plot_facet_grid(\n",
    "    combined_data,\n",
    "    'NOANNEE', 'Values', 'Type',\n",
    "    'Year', 'Total annual expenditures (millions CHF)'\n",
    ")\n",
    "plt.savefig(results_folder/'Fig S2A - Evolution_costs.png', dpi = 300, bbox_inches='tight')"
   ]
  },
  {
   "cell_type": "markdown",
   "id": "12",
   "metadata": {},
   "source": [
    "### Figure S2B - Trends in healthcare expenditures (2017-2021)"
   ]
  },
  {
   "cell_type": "code",
   "execution_count": null,
   "id": "13",
   "metadata": {},
   "outputs": [],
   "source": [
    "yearly_data_AOS = df_treated_filtered.groupby('NOANNEE')['PRESTATIONS_BRUTES_AOS'].sum().div(1000000).reset_index()\n",
    "yearly_data_LCA = df_treated_filtered.groupby('NOANNEE')['PRESTATIONS_BRUTES_LCA'].sum().div(1000000).reset_index()\n",
    "yearly_data_CAM = df_treated_filtered.groupby('NOANNEE')['PRESTATIONS_BRUTES_CAM'].sum().div(1000000).reset_index()\n",
    "\n",
    "# Normalize data\n",
    "\n",
    "yearly_data_AOS['PRESTATIONS_BRUTES_AOS'] = yearly_data_AOS['PRESTATIONS_BRUTES_AOS'] / yearly_data_AOS['PRESTATIONS_BRUTES_AOS'].iloc[0] * 100\n",
    "yearly_data_LCA['PRESTATIONS_BRUTES_LCA'] = yearly_data_LCA['PRESTATIONS_BRUTES_LCA'] / yearly_data_LCA['PRESTATIONS_BRUTES_LCA'].iloc[0] * 100\n",
    "yearly_data_CAM['PRESTATIONS_BRUTES_CAM'] = yearly_data_CAM['PRESTATIONS_BRUTES_CAM'] / yearly_data_CAM['PRESTATIONS_BRUTES_CAM'].iloc[0] * 100\n",
    "\n",
    "# Plot normalized data\n",
    "fig, ax = plt.subplots(figsize=(8, 4))\n",
    "sns.lineplot(data=yearly_data_AOS, x='NOANNEE', y='PRESTATIONS_BRUTES_AOS', marker='o', label='CM - MHI', ax=ax)\n",
    "sns.lineplot(data=yearly_data_LCA, x='NOANNEE', y='PRESTATIONS_BRUTES_LCA', marker='o', label='CAM - SI', ax=ax)\n",
    "sns.lineplot(data=yearly_data_CAM, x='NOANNEE', y='PRESTATIONS_BRUTES_CAM', marker='o', label='CAM - MHI', ax=ax)\n",
    "ax.set_xticks(yearly_data_CAM['NOANNEE'])  # Assuming x-values are year numbers\n",
    "ax.set_xticklabels(yearly_data_CAM['NOANNEE'].astype('string'), rotation=45)\n",
    "ax.grid(True)\n",
    "\n",
    "plt.xlabel('Year')\n",
    "plt.ylabel('Evolution of annual expenditures (%)')  # Update label to indicate these are percentages\n",
    "plt.grid(True)\n",
    "plt.legend(title='Prestation type')\n",
    "# plt.show()\n",
    "plt.savefig(results_folder/'Fig S2B - Evolution_costs_perc_baseline.png', dpi = 300, bbox_inches='tight')"
   ]
  },
  {
   "cell_type": "code",
   "execution_count": null,
   "id": "14",
   "metadata": {},
   "outputs": [],
   "source": []
  },
  {
   "cell_type": "markdown",
   "id": "15",
   "metadata": {},
   "source": [
    "### Cost distribution after transformation"
   ]
  },
  {
   "cell_type": "markdown",
   "id": "16",
   "metadata": {},
   "source": [
    "#### AOS"
   ]
  },
  {
   "cell_type": "code",
   "execution_count": null,
   "id": "17",
   "metadata": {},
   "outputs": [],
   "source": [
    "df_treated_filtered['n_atc'].plot.hist(bins = 100)"
   ]
  },
  {
   "cell_type": "code",
   "execution_count": null,
   "id": "18",
   "metadata": {},
   "outputs": [],
   "source": [
    "fig, axs = plt.subplots(1, 3, figsize=(16, 4))\n",
    "\n",
    "g = sns.kdeplot(data=df_treated_filtered, x=\"PRESTATIONS_BRUTES_AOS\", ax = axs[0])\n",
    "g.set_xlabel('Yearly CM claims amount (MHI) (CHF)')\n",
    "g = sns.kdeplot(data=df_treated_filtered, x=\"ihs_cost_aos\", ax = axs[1])\n",
    "g.set_xlabel('IHS transformed yearly CM claims amount (MHI) (CHF)')\n",
    "g = sns.kdeplot(data=df_treated_filtered[df_treated_filtered.PRESTATIONS_BRUTES_AOS > df_treated_filtered.MTFRANCHISECOUV], x=\"ihs_cost_aos\", ax = axs[2])\n",
    "g.set_xlabel('IHS transformed yearly CM claims amount (MHI) (CHF)')\n",
    "plt.savefig(results_folder/'IHS_transformation_procedure_AOS.png', dpi = 300, bbox_inches='tight')"
   ]
  },
  {
   "cell_type": "markdown",
   "id": "19",
   "metadata": {},
   "source": [
    "#### LCA"
   ]
  },
  {
   "cell_type": "code",
   "execution_count": null,
   "id": "20",
   "metadata": {},
   "outputs": [],
   "source": [
    "fig, axs = plt.subplots(1, 3, figsize=(16, 4))\n",
    "\n",
    "g = sns.kdeplot(data=df_treated_filtered, x=\"PRESTATIONS_BRUTES_LCA\", ax = axs[0])\n",
    "g.set_xlabel('Yearly CAM claims amount (SI) (CHF)')\n",
    "g = sns.kdeplot(data=df_treated_filtered, x=\"ihs_cost_lca\", ax = axs[1])\n",
    "g.set_xlabel('IHS transformed yearly CAM claims amount (SI) (CHF)')\n",
    "g = sns.kdeplot(data=df_treated_filtered[df_treated_filtered.PRESTATIONS_BRUTES_LCA > df_treated_filtered.MTFRANCHISECOUV], x=\"ihs_cost_lca\", ax = axs[2])\n",
    "g.set_xlabel('IHS transformed yearly CAM claims amount (SI) (CHF)')\n",
    "plt.savefig(results_folder/'IHS_transformation_procedure_LCA.png', dpi = 300, bbox_inches='tight')"
   ]
  },
  {
   "cell_type": "markdown",
   "id": "21",
   "metadata": {},
   "source": [
    "## Création de sous-groupes\n",
    "\n",
    "- Répondre à des questions spécifiques\n",
    "- Augmenter l'homogénéité de la population étudiée"
   ]
  },
  {
   "cell_type": "code",
   "execution_count": null,
   "id": "22",
   "metadata": {},
   "outputs": [],
   "source": [
    "# Healthy = People with PCG flags = 0 in any year\n",
    "uuid_healthy = df_treated_filtered[df_treated_filtered.n_flags == 0].uuid.unique()\n",
    "df_healthy = df_treated_filtered[df_treated_filtered.uuid.isin(uuid_healthy)]\n",
    "\n",
    "# Healthy = People with AOS = 0 at baseline\n",
    "uuid_healthy_bs = df_treated_filtered[(df_treated_filtered.NOANNEE==2017)&(df_treated_filtered.n_flags == 0)].uuid.unique()\n",
    "df_healthy_bs = df_treated_filtered[df_treated_filtered.uuid.isin(uuid_healthy_bs)]\n",
    "\n",
    "# Patients with multimorbidity\n",
    "uuid_multimorbid = df_treated_filtered[df_treated_filtered.multimorbidity == 1].uuid.unique()\n",
    "df_multimorbid = df_treated_filtered[df_treated_filtered.uuid.isin(uuid_multimorbid)]\n",
    "\n",
    "# Patients with multimorbidity at baseline\n",
    "uuid_multimorbid_bs = df_treated_filtered[(df_treated_filtered.NOANNEE==2017)&(df_treated_filtered.multimorbidity == 1)].uuid.unique()\n",
    "df_multimorbid_bs = df_treated_filtered[df_treated_filtered.uuid.isin(uuid_multimorbid_bs)]\n",
    "\n",
    "# Patients with cancer\n",
    "uuid_cancer = df_treated_filtered[(df_treated_filtered.Cancer_PCG == 1)].uuid.unique()\n",
    "df_cancer = df_treated_filtered[df_treated_filtered.uuid.isin(uuid_cancer)]\n",
    "\n",
    "# Patients with cancer at baseline\n",
    "uuid_cancer_bs = df_treated_filtered[(df_treated_filtered.NOANNEE==2017)&(df_treated_filtered.Cancer_PCG == 1)].uuid.unique()\n",
    "df_cancer_bs = df_treated_filtered[df_treated_filtered.uuid.isin(uuid_cancer_bs)]\n",
    "\n",
    "# Patients with diabetes\n",
    "uuid_diab = df_treated_filtered[(df_treated_filtered.Diabetes_PCG == 1)].uuid.unique()\n",
    "df_diab = df_treated_filtered[df_treated_filtered.uuid.isin(uuid_diab)]\n",
    "\n",
    "# Patients with diabetes at baseline\n",
    "uuid_diab_bs = df_treated_filtered[(df_treated_filtered.NOANNEE==2017)&(df_treated_filtered.Diabetes_PCG == 1)].uuid.unique()\n",
    "df_diab_bs = df_treated_filtered[df_treated_filtered.uuid.isin(uuid_diab_bs)]\n",
    "\n",
    "# Patients with pain\n",
    "uuid_pain = df_treated_filtered[(df_treated_filtered.Pain_PCG == 1)].uuid.unique()\n",
    "df_pain = df_treated_filtered[df_treated_filtered.uuid.isin(uuid_pain)]\n",
    "\n",
    "# Patients with pain\n",
    "uuid_mental = df_treated_filtered[(df_treated_filtered.Mental_PCG == 1)].uuid.unique()\n",
    "df_mental = df_treated_filtered[df_treated_filtered.uuid.isin(uuid_mental)]\n"
   ]
  },
  {
   "cell_type": "markdown",
   "id": "23",
   "metadata": {},
   "source": [
    "## Total spending by category"
   ]
  },
  {
   "cell_type": "code",
   "execution_count": null,
   "id": "24",
   "metadata": {},
   "outputs": [],
   "source": [
    "variable_names = pd.DataFrame({\"old\": ['multimorbidity','ssep3_q','Urbanicity_simple','n_atc','n_flags','NBAGE',\"NBAGE_std\",'age_group', \"ssep3_std\",'ssep3', 'region_DE', 'region_FR', 'region_IT','urb_Urbain','urb_Périurbain','Asthma_PCG', 'Cancer_PCG', 'Diabetes_PCG', 'Epilepsy_PCG',\n",
    "       'Glaucoma_PCG', 'HIV_AIDS_PCG', 'Heart_disease_PCG',\n",
    "       'Hypertension_related_PCG', 'Immune_PCG', 'Inflammatory_PCG',\n",
    "       'Mental_PCG', 'Other_PCG', 'Pain_PCG', 'Parkinson_PCG', 'Thyroid_PCG', \"SEX_F\",'SEX','CDPHYSSEXE','LANG', \"cds_std\",'cds','LANG_FR','D_MEDIC_B','D_MEDIC_S','D_MEDIC_B_std','D_MEDIC_S_std','DEDUCTIBLE_above_500','E_std','N_std','E_std:N_std','PRESTATIONS_BRUTES_ATC','PRESTATIONS_TOTAL','PRESTATIONS_BRUTES_AOS','PRESTATIONS_BRUTES_LCA','PRESTATIONS_BRUTES_CAM','PRESTATIONS_BRUTES_AMBULATOIRE','PRESTATIONS_BRUTES_STATIONNAIRE','PRESTATIONS_ACCIDENT','PRESTATIONS_DISEASE','PRESTATIONS_BIRTH','MTFRANCHISECOUV','mean_pm10','mean_no2','mean_pm25','mean_ndvi','mean_lst','mean_carnight'],\n",
    "                           \"new\": ['Multimorbidity','Swiss-SEP','Urbanicity','Number of ATC','Number of PCG flags','Age',\"Age\", 'Age Group', \"SES index\",'SES index','German', 'French', 'Italian','Urban','Periurban', 'Asthma', 'Cancer', 'Diabetes', 'Epilepsy', 'Glaucoma', 'HIV/AIDS',\n",
    "       'Heart disease', 'Hypertension related', 'Immune', 'Inflammatory',\n",
    "       'Mental', 'Other', 'Pain', 'Parkinson', 'Thyroid', \"Sex (Female)\",'Sex','Sex','Langage', \"CDS\",'CDS','French speaker','Access to prim. care med.','Access to spec. med.','Access to prim. care med.','Access to spec. med.','Deductible (>500)','E','N','E:N','Drug-related claims (CHF)','Total claims amount (CHF)','CM claims (MHI) (CHF)','CAM claims (SI) (CHF)','CAM claims (MHI) (CHF)','Ambulatory claims (CHF)','Stationary claims (CHF)','Accident-related claims (CHF)','Disease-related claims (CHF)','Birth-related claims (CHF)','Deductible','PM10','NO2','PM25','NDVI','LST','Nighttime car noise']})\n",
    "rename_dict = variable_names.set_index('old')['new'].to_dict()\n",
    "\n",
    "def update_variable_names(summary_table, variable_names, table_type):\n",
    "    name_mapper = variable_names.set_index('old')['new'].to_dict()\n",
    "    if table_type == 'summary':\n",
    "        name_mapper = {f\"{key}, mean (SD)\": f\"{value}, mean (SD)\" for key, value in name_mapper.items()}\n",
    "    elif table_type == 'categorical':\n",
    "        name_mapper = {f\"{key}, n (%)\": f\"{value}, n (%)\" for key, value in name_mapper.items()}\n",
    "    summary_table = summary_table.rename(index=name_mapper)\n",
    "    return summary_table"
   ]
  },
  {
   "cell_type": "code",
   "execution_count": null,
   "id": "25",
   "metadata": {},
   "outputs": [],
   "source": [
    "df_treated_filtered_long = df_treated_filtered.set_index('NOANNEE')[['PRESTATIONS_BRUTES_AOS','PRESTATIONS_BRUTES_CAM','PRESTATIONS_BRUTES_LCA']].stack().reset_index()\n",
    "\n",
    "df_treated_filtered_long.columns = ['NOANNEE','cat_spending','amount']\n",
    "\n",
    "# sns.barplot(df_treated_filtered_long, x=\"NOANNEE\", y=\"amount\", hue = 'cat_spending')"
   ]
  },
  {
   "cell_type": "code",
   "execution_count": null,
   "id": "26",
   "metadata": {},
   "outputs": [],
   "source": [
    "# Assuming df_treated_filtered_long is your DataFrame after manipulation\n",
    "df_treated_filtered_long['cat_spending'] = df_treated_filtered_long['cat_spending'].replace({\n",
    "    'PRESTATIONS_BRUTES_AOS': 'Conventional medicine (MHI)',\n",
    "    'PRESTATIONS_BRUTES_CAM': 'Complementary medicine (MHI)',\n",
    "    'PRESTATIONS_BRUTES_LCA': 'Complementary medicine (SI)'\n",
    "})"
   ]
  },
  {
   "cell_type": "code",
   "execution_count": null,
   "id": "27",
   "metadata": {},
   "outputs": [],
   "source": [
    "palette = {\n",
    "    'Conventional medicine (MHI)': '#4E79A7',\n",
    "    'Complementary medicine (MHI)': '#59A14F',\n",
    "    'Complementary medicine (SI)': '#F28E2B'\n",
    "}"
   ]
  },
  {
   "cell_type": "code",
   "execution_count": null,
   "id": "28",
   "metadata": {},
   "outputs": [],
   "source": [
    "# Now plot with Seaborn\n",
    "g = sns.barplot(data=df_treated_filtered_long, x=\"NOANNEE\", y=\"amount\", hue='cat_spending', palette=palette)\n",
    "# plt.ylim([0,10000])\n",
    "# g.set_yscale(\"log\")\n",
    "# the non-logarithmic labels you want\n",
    "# ticks = [1, 10, 100, 1000, 10000, 100000]\n",
    "# g.set_yticks(ticks)\n",
    "# g.set_yticklabels(ticks)\n",
    "g.set_xlabel('Year')\n",
    "plt.legend(title='')\n",
    "# If you want to further customize the legend, you can use plt.legend:\n",
    "# plt.legend(title='S')\n",
    "plt.ylabel('Average yearly claims amount (CHF)')\n",
    "# To ensure the plot displays properly in Jupyter notebooks\n",
    "plt.savefig(results_folder/'Avg_expenditures.png', dpi = 300, bbox_inches='tight')"
   ]
  },
  {
   "cell_type": "code",
   "execution_count": null,
   "id": "29",
   "metadata": {},
   "outputs": [],
   "source": [
    "# Now plot with Seaborn\n",
    "g = sns.barplot(data=df_treated_filtered_long, x=\"NOANNEE\", y=\"amount\", hue='cat_spending', palette=palette)\n",
    "# plt.ylim([0,10000])\n",
    "g.set_yscale(\"log\")\n",
    "# the non-logarithmic labels you want\n",
    "ticks = [1, 10, 100, 1000, 10000, 100000]\n",
    "g.set_yticks(ticks)\n",
    "g.set_yticklabels(ticks)\n",
    "g.set_xlabel('Year')\n",
    "plt.legend(title='')\n",
    "# If you want to further customize the legend, you can use plt.legend:\n",
    "# plt.legend(title='S')\n",
    "plt.ylabel('Average yearly claims amount (CHF)')\n",
    "# To ensure the plot displays properly in Jupyter notebooks\n",
    "plt.savefig(results_folder/'Avg_expenditures_log.png', dpi = 300, bbox_inches='tight')"
   ]
  },
  {
   "cell_type": "code",
   "execution_count": null,
   "id": "30",
   "metadata": {},
   "outputs": [],
   "source": [
    "# First subplot\n",
    "g = sns.lineplot(x='NOANNEE', y='amount', hue='cat_spending', data=df_treated_filtered_long, marker='o')\n",
    "g.set_yscale(\"log\")\n",
    "# the non-logarithmic labels you want\n",
    "ticks = [1, 10, 100, 1000, 10000, 100000]\n",
    "g.set_yticks(ticks)\n",
    "g.set_yticklabels(ticks)\n",
    "g.set_xlabel('Year')\n",
    "plt.legend(title='')\n"
   ]
  },
  {
   "cell_type": "code",
   "execution_count": null,
   "id": "31",
   "metadata": {},
   "outputs": [],
   "source": [
    "df_treated_filtered[df_treated_filtered.PRESTATIONS_BRUTES_CAM > 0].groupby('NOANNEE').uuid.nunique().plot.bar()"
   ]
  },
  {
   "cell_type": "code",
   "execution_count": null,
   "id": "32",
   "metadata": {},
   "outputs": [],
   "source": [
    "df_treated_filtered[df_treated_filtered.PRESTATIONS_BRUTES_LCA > 0].groupby('NOANNEE').uuid.nunique().plot.bar()"
   ]
  },
  {
   "cell_type": "code",
   "execution_count": null,
   "id": "33",
   "metadata": {},
   "outputs": [],
   "source": [
    "g = sns.barplot(df_treated_filtered[df_treated_filtered.PRESTATIONS_BRUTES_CAM > 0], x=\"NOANNEE\", y=\"PRESTATIONS_BRUTES_CAM\", color = '#59A14F')\n",
    "g.set_ylabel('Average yearly claims amount (CHF)')\n",
    "# g.legend(title='Complementary medicine (LAMal) for users')\n",
    "g.set_xlabel('Year')\n",
    "g.set_ylim([0,1500])\n",
    "plt.savefig(results_folder/'Avg_expenditures_CAM_users.png', dpi = 300, bbox_inches='tight')"
   ]
  },
  {
   "cell_type": "code",
   "execution_count": null,
   "id": "34",
   "metadata": {},
   "outputs": [],
   "source": [
    "df_treated_filtered[df_treated_filtered.PRESTATIONS_BRUTES_CAM > 0].groupby('year')['PRESTATIONS_BRUTES_CAM'].describe()"
   ]
  },
  {
   "cell_type": "code",
   "execution_count": null,
   "id": "35",
   "metadata": {},
   "outputs": [],
   "source": [
    "sns.barplot(df_treated_filtered[df_treated_filtered.PRESTATIONS_BRUTES_LCA > 0], x=\"NOANNEE\", y=\"PRESTATIONS_BRUTES_LCA\")"
   ]
  },
  {
   "cell_type": "markdown",
   "id": "36",
   "metadata": {},
   "source": [
    "### Number of individuals by cumulated years of treatment"
   ]
  },
  {
   "cell_type": "code",
   "execution_count": null,
   "id": "37",
   "metadata": {},
   "outputs": [],
   "source": [
    "ttmt_month_gp_uuid = df_treated_filtered.groupby('uuid')['n_month_lca_by_patient'].sum().to_dict()\n",
    "df_treated_filtered['cumulated_n_month_lca_by_patient'] = df_treated_filtered['uuid'].map(ttmt_month_gp_uuid)\n",
    "df_uuid['cumulated_n_month_lca_by_patient'] = df_uuid['uuid'].map(ttmt_month_gp_uuid)"
   ]
  },
  {
   "cell_type": "code",
   "execution_count": null,
   "id": "38",
   "metadata": {},
   "outputs": [],
   "source": [
    "df_treated_filtered.groupby('uuid')['PRESTATIONS_BRUTES_LCA'].sum().plot.hist(bins = 100)"
   ]
  },
  {
   "cell_type": "code",
   "execution_count": null,
   "id": "39",
   "metadata": {},
   "outputs": [],
   "source": [
    "# df_treated_filtered.groupby('treatment_cumulated_lca_cam').uuid.nunique().plot.bar()\n",
    "from matplotlib.ticker import FuncFormatter\n",
    "\n",
    "# First, perform your groupby operation and reset the index to turn it into a DataFrame\n",
    "df_aggregated = df_treated_filtered.groupby('treatment_cumulated_lca_cam')['uuid'].nunique().reset_index()\n",
    "\n",
    "# Rename the columns for clarity if desired\n",
    "df_aggregated.columns = ['Treatment', 'UniqueCount']\n",
    "# Now, use Seaborn to create a bar plot\n",
    "def thousands_separator(x, pos):\n",
    "    return '{:,.0f}'.format(x)  # The '0f' ensures no decimal places\n",
    "\n",
    "# Assuming df_aggregated is your DataFrame after the groupby and reset_index\n",
    "sns.barplot(x='Treatment', y='UniqueCount', data=df_aggregated, palette = 'Blues')\n",
    "\n",
    "# Get the current axis\n",
    "ax = plt.gca()\n",
    "\n",
    "# Set the formatter for the y-axis to use your custom formatter\n",
    "ax.yaxis.set_major_formatter(FuncFormatter(thousands_separator))\n",
    "\n",
    "# Optional: add labels and title for clarity\n",
    "plt.xlabel('Number of years in the treatment group (CAM claims amount > 0) \\n (MHI and SI combined)')\n",
    "plt.ylabel('Number of individuals')\n",
    "# plt.title('Number of individuals by Treatment')\n",
    "plt.savefig(results_folder/'Number_users_CAM_cumulated_years.png', dpi = 300, bbox_inches='tight')"
   ]
  },
  {
   "cell_type": "code",
   "execution_count": null,
   "id": "40",
   "metadata": {},
   "outputs": [],
   "source": [
    "df_aggregated['perc_count'] = (df_aggregated['UniqueCount']/df_aggregated['UniqueCount'].sum())*100"
   ]
  },
  {
   "cell_type": "code",
   "execution_count": null,
   "id": "41",
   "metadata": {},
   "outputs": [],
   "source": [
    "df_treated_filtered.groupby('cumulated_n_month_lca_by_patient').uuid.nunique().plot.bar(figsize = (12,8))"
   ]
  },
  {
   "cell_type": "code",
   "execution_count": null,
   "id": "42",
   "metadata": {},
   "outputs": [],
   "source": [
    "df_uuid['cumulated_n_month_lca_by_patient'].median()"
   ]
  },
  {
   "cell_type": "markdown",
   "id": "43",
   "metadata": {},
   "source": [
    "## What generates spending in AOS?\n",
    "\n",
    "#### Time-varying covariates (proxies for health status)\n",
    "- Age\n",
    "- Sex\n",
    "- Deductible\n",
    "- Education, income (Swiss SES index)\n",
    "- Access to healthcare\n",
    "    - Captured directly through measured access (existing variables : d_medic_s, d_medic)\n",
    "    - Captured indirectly through urban contexts (urban, periurban, rural)\n",
    "- Disease state : CDS, PCGs, HOSPITALISATIONS\n",
    "\n",
    "#### Time-invariant covariates\n",
    "- Sociocultural norms:\n",
    "    - Captured through the canton of residence and spoken langage\n",
    "- Policies :\n",
    "    - Captured through the canton of residence \n",
    "- Environmental factors:\n",
    "    - Air quality (NO2, PM10, PM2.5)\n",
    "    - Vegetation (NDVI)\n",
    "    - Noise (dB)\n",
    "\n",
    "#### Time-varying treatment\n",
    "- Treatment"
   ]
  },
  {
   "cell_type": "markdown",
   "id": "44",
   "metadata": {},
   "source": [
    "### Health status -> cost, treatment"
   ]
  },
  {
   "cell_type": "code",
   "execution_count": null,
   "id": "45",
   "metadata": {},
   "outputs": [],
   "source": [
    "# Create a 2x2 grid of subplots\n",
    "fig, axs = plt.subplots(2, 2, figsize=(9, 6))\n",
    "\n",
    "# First subplot\n",
    "sns.boxplot(data=df_treated_filtered, y=\"PRESTATIONS_BRUTES_AOS\", x='n_flags', width=.6, palette=\"vlag\", showfliers=False, ax=axs[0, 0])\n",
    "\n",
    "# Second subplot\n",
    "sns.boxplot(data=df_treated_filtered, y=\"PRESTATIONS_DISEASE\", x='n_flags', width=.6, palette=\"vlag\", showfliers=False, ax=axs[0, 1])\n",
    "\n",
    "# Third subplot\n",
    "sns.boxplot(data=df_treated_filtered, y=\"PRESTATIONS_BRUTES_LCA\", x='n_flags', width=.6, palette=\"vlag\", showfliers=False, ax=axs[1, 0])\n",
    "\n",
    "# Fourth subplot\n",
    "sns.boxplot(data=df_treated_filtered, y=\"PRESTATIONS_BRUTES_AOS\", x='locdrhosp', width=.6, palette=\"vlag\", showfliers=False, ax=axs[1, 1])\n",
    "\n",
    "# Adjust layout\n",
    "plt.tight_layout()\n",
    "plt.show()"
   ]
  },
  {
   "cell_type": "code",
   "execution_count": null,
   "id": "46",
   "metadata": {},
   "outputs": [],
   "source": [
    "# Create a 2x2 grid of subplots\n",
    "fig, axs = plt.subplots(2, 2, figsize=(6, 4))\n",
    "\n",
    "# First subplot\n",
    "sns.boxplot(data=df_treated_filtered, y=\"PRESTATIONS_BRUTES_AOS\", x='multimorbidity', width=.6, palette=\"vlag\", showfliers=False, ax=axs[0,0])\n",
    "\n",
    "# Second subplot\n",
    "sns.boxplot(data=df_treated_filtered, y=\"PRESTATIONS_BRUTES_LCA\", x='multimorbidity', width=.6, palette=\"vlag\", showfliers=False, ax=axs[0,1])\n",
    "\n",
    "# Third subplot\n",
    "sns.barplot(data=df_treated_filtered, y=\"PRESTATIONS_BRUTES_CAM\", x='multimorbidity', width=.6, palette=\"vlag\", ax=axs[1,0])\n",
    "\n",
    "# Fourth subplot\n",
    "sns.boxplot(data=df_treated_filtered, y=\"PRESTATIONS_DISEASE\", x='multimorbidity', width=.6, palette=\"vlag\", showfliers=False, ax=axs[1,1])\n",
    "\n",
    "\n",
    "# Adjust layout\n",
    "plt.tight_layout()\n",
    "plt.show()"
   ]
  },
  {
   "cell_type": "code",
   "execution_count": null,
   "id": "47",
   "metadata": {},
   "outputs": [],
   "source": [
    "df_treated_filtered.groupby('multimorbidity')['PRESTATIONS_BRUTES_CAM'].mean()"
   ]
  },
  {
   "cell_type": "markdown",
   "id": "48",
   "metadata": {},
   "source": [
    "#### Remarques\n",
    "\n",
    "- Les personnes avec des comorbidités ne sont pas celles qui utilisent plus de LCA\n",
    "- Les personnes avec des comorbidités dépensent bcp plus en AOS (logique)"
   ]
  },
  {
   "cell_type": "code",
   "execution_count": null,
   "id": "49",
   "metadata": {},
   "outputs": [],
   "source": [
    "# Create a 2x2 grid of subplots\n",
    "fig, axs = plt.subplots(2, 2, figsize=(10, 6))\n",
    "\n",
    "# First subplot\n",
    "g = sns.boxplot(data=df_treated_filtered, y=\"PRESTATIONS_BRUTES_AOS\", x='CDPHYSSEXE', width=.6, palette=\"vlag\", showfliers=False, ax=axs[0, 0])\n",
    "g.set_xlabel('Sex')\n",
    "g.set_ylabel('Annual CM claims amount (MHI) (CHF)')\n",
    "# Second subplot\n",
    "g = sns.boxplot(data=df_treated_filtered, y=\"cds\", x='CDPHYSSEXE', width=.6, palette=\"vlag\", showfliers=False, ax=axs[0, 1])\n",
    "g.set_xlabel('Sex')\n",
    "g.set_ylabel('Chronic Disease Score (CHF)')\n",
    "# Third subplot\n",
    "g = sns.barplot(data=df_treated_filtered, y=\"PRESTATIONS_BRUTES_CAM\", x='CDPHYSSEXE', width=.6, palette=\"vlag\", ax=axs[1, 0])\n",
    "g.set_xlabel('Sex')\n",
    "g.set_ylabel('Annual CAM claims amount (MHI) (CHF)')\n",
    "# Fourth subplot\n",
    "g = sns.boxplot(data=df_treated_filtered, y=\"PRESTATIONS_BRUTES_LCA\", x='CDPHYSSEXE', width=.6, palette=\"vlag\",showfliers=False, ax=axs[1, 1])\n",
    "g.set_xlabel('Sex')\n",
    "g.set_ylabel('Annual CAM claims amount (SI) (CHF)')\n",
    "# Adjust layout\n",
    "plt.tight_layout()\n",
    "plt.savefig(results_folder/'Fourplot_cost_by_sex.png', dpi = 300, bbox_inches='tight')"
   ]
  },
  {
   "cell_type": "markdown",
   "id": "50",
   "metadata": {},
   "source": [
    "### Age -> cost, disease state, treatment"
   ]
  },
  {
   "cell_type": "code",
   "execution_count": null,
   "id": "51",
   "metadata": {},
   "outputs": [],
   "source": [
    "# Create a 2x2 grid of subplots\n",
    "fig, axs = plt.subplots(2, 2, figsize=(10, 6))\n",
    "\n",
    "# First subplot\n",
    "g = sns.boxplot(data=df_treated_filtered, y=\"PRESTATIONS_BRUTES_AOS\", x='age_group', width=.6, palette=\"vlag\", showfliers=False, ax=axs[0, 0])\n",
    "g.set_xlabel('Age group')\n",
    "g.set_ylabel('Annual CM claims amount (MHI) (CHF)')\n",
    "# Second subplot\n",
    "g = sns.boxplot(data=df_treated_filtered, y=\"cds\", x='age_group', width=.6, palette=\"vlag\", showfliers=False, ax=axs[0, 1])\n",
    "g.set_xlabel('Age group')\n",
    "g.set_ylabel('Chronic Disease Score (CHF)')\n",
    "# Third subplot\n",
    "g = sns.barplot(data=df_treated_filtered, y=\"PRESTATIONS_BRUTES_CAM\", x='age_group', width=.6, palette=\"vlag\", ax=axs[1, 0])\n",
    "g.set_xlabel('Age group')\n",
    "g.set_ylabel('Annual CAM claims amount (MHI) (CHF)')\n",
    "# Fourth subplot\n",
    "g = sns.boxplot(data=df_treated_filtered, y=\"PRESTATIONS_BRUTES_LCA\", x='age_group', width=.6, palette=\"vlag\",showfliers=False, ax=axs[1, 1])\n",
    "g.set_xlabel('Age group')\n",
    "g.set_ylabel('Annual CAM claims amount (SI) (CHF)')\n",
    "# Adjust layout\n",
    "plt.tight_layout()\n",
    "plt.savefig(results_folder/'Fourplot_cost_by_age.png', dpi = 300, bbox_inches='tight')"
   ]
  },
  {
   "cell_type": "markdown",
   "id": "52",
   "metadata": {},
   "source": [
    "## Time -> Cost, Disease, Treament"
   ]
  },
  {
   "cell_type": "code",
   "execution_count": null,
   "id": "53",
   "metadata": {},
   "outputs": [],
   "source": [
    "palette = sns.color_palette()\n",
    "\n",
    "\n",
    "dic_labels = {1:'Usage',0:'No usage'}"
   ]
  },
  {
   "cell_type": "code",
   "execution_count": null,
   "id": "54",
   "metadata": {},
   "outputs": [],
   "source": [
    "# Create a 2x2 grid of subplots\n",
    "fig, axs = plt.subplots(2, 2, figsize=(9, 6))\n",
    "\n",
    "# List of dataframes and titles\n",
    "dataframes = [df_treated_filtered, df_healthy, df_multimorbid, df_cancer]\n",
    "titles = ['All individuals', 'Individuals without chronic conditions', 'Multimorbid individuals', 'Individuals with cancer']\n",
    "\n",
    "# Create subplots\n",
    "for i, (ax, df, title) in enumerate(zip(axs.flat, dataframes, titles)):\n",
    "    sns.lineplot(x='NOANNEE', y='PRESTATIONS_BRUTES_AOS', hue='treatment_cam_only', data=df, marker='o', ax=ax, legend=False)\n",
    "    ax.set_title(title)\n",
    "    ax.set_xlabel('Year')\n",
    "    ax.set_ylabel('Conventional Medicine\\nexpenditures (CHF)')\n",
    "    ax.grid(True)\n",
    "\n",
    "# Manually create legend handles and labels\n",
    "legend_handles = [plt.Line2D([0], [0], marker='o', color=palette[i], \n",
    "                             label=dic_labels[treatment], markersize=8, linestyle='-') \n",
    "                  for i, treatment in enumerate(df_treated_filtered['treatment_cam_only'].unique())]\n",
    "\n",
    "# Create a single legend with the correct title\n",
    "legend = fig.legend(handles=legend_handles, \n",
    "           title='Complementary/Alternative Medicine (CAM)\\nthrough Mandatory Health Insurance (MHI)', \n",
    "           loc='lower center', alignment='center', bbox_to_anchor=(0.5, -0.04), ncol=2)\n",
    "plt.setp(legend.get_title(), ha='center')  # 'ha' stands for horizontal alignment\n",
    "\n",
    "# Adjust layout\n",
    "plt.tight_layout()\n",
    "fig.subplots_adjust(bottom=0.15)  # Make room for the legend\n",
    "\n",
    "plt.savefig(model_folder/'trends_treatment_cam_only_aos_cost.png', dpi=300, bbox_inches='tight')\n",
    "plt.show()"
   ]
  },
  {
   "cell_type": "code",
   "execution_count": null,
   "id": "55",
   "metadata": {},
   "outputs": [],
   "source": [
    "# Create a 2x2 grid of subplots\n",
    "fig, axs = plt.subplots(2, 2, figsize=(9, 6))\n",
    "\n",
    "# First subplot\n",
    "sns.lineplot(x='NOANNEE', y='PRESTATIONS_BRUTES_AOS', hue='treatment_cam_only', data=df_treated_filtered, marker='o', ax=axs[0, 0])\n",
    "axs[0, 0].set_title('All')\n",
    "axs[0, 0].set_xlabel('Year')\n",
    "axs[0, 0].set_ylabel('Expenditures CM - MHI  (CHF)')\n",
    "axs[0, 0].legend(title='CAM - MHI usage', loc='upper left')\n",
    "axs[0, 0].grid(True)\n",
    "# Second subplot\n",
    "sns.lineplot(x='NOANNEE', y='PRESTATIONS_BRUTES_AOS', hue='treatment_cam_only', data=df_healthy, marker='o', ax=axs[0, 1])\n",
    "axs[0, 1].set_title('No-PCG individuals')\n",
    "axs[0, 1].set_xlabel('Year')\n",
    "axs[0, 1].set_ylabel('Expenditures CM - MHI  (CHF)')\n",
    "axs[0, 1].legend(title='CAM - MHI usage', loc='upper left')\n",
    "axs[0, 1].grid(True)\n",
    "\n",
    "# Third subplot\n",
    "# Create the line plot\n",
    "sns.lineplot(x='NOANNEE', y='PRESTATIONS_BRUTES_AOS', hue='treatment_cam_only', data=df_multimorbid, marker='o', ax=axs[1, 0])\n",
    "axs[1, 0].set_title('Multimorbid patients')\n",
    "axs[1, 0].set_xlabel('Year')\n",
    "axs[1, 0].set_ylabel('Expenditures CM - MHI  (CHF)')\n",
    "axs[1, 0].legend(title='CAM - MHI usage', loc='upper left')\n",
    "axs[1, 0].grid(True)\n",
    "\n",
    "# Fourth subplot\n",
    "sns.lineplot(x='NOANNEE', y='PRESTATIONS_BRUTES_AOS', hue='treatment_cam_only', data=df_cancer, marker='o', ax=axs[1, 1])\n",
    "\n",
    "axs[1, 1].set_title('Patients with cancer')\n",
    "axs[1, 1].set_xlabel('Year')\n",
    "axs[1, 1].set_ylabel('Expenditures CM - MHI (CHF)')\n",
    "axs[1, 1].legend(title='CAM - MHI usage', loc='upper left')\n",
    "axs[1, 1].grid(True)\n",
    "\n",
    "# Adjust layout\n",
    "plt.tight_layout()\n",
    "plt.savefig(model_folder/'trends_treatment_cam_only_aos_cost.png', dpi = 300, bbox_inches = 'tight')\n"
   ]
  },
  {
   "cell_type": "code",
   "execution_count": null,
   "id": "56",
   "metadata": {},
   "outputs": [],
   "source": [
    "df_spenders_cam_lca = df_treated_filtered[df_treated_filtered.treatment_cam_only == 1]"
   ]
  },
  {
   "cell_type": "code",
   "execution_count": null,
   "id": "57",
   "metadata": {},
   "outputs": [],
   "source": [
    "df_treated_filtered[df_treated_filtered.treatment_cumulated == 1].uuid.nunique()"
   ]
  },
  {
   "cell_type": "code",
   "execution_count": null,
   "id": "58",
   "metadata": {},
   "outputs": [],
   "source": [
    "fig, axs = plt.subplots(2, 2, figsize=(9, 7))\n",
    "\n",
    "# First subplot\n",
    "sns.lineplot(x='NOANNEE', y='PRESTATIONS_BRUTES_LCA', hue='treatment_cam_only', data=df_treated_filtered, marker='o', ax=axs[0, 0])\n",
    "axs[0, 0].set_title('All')\n",
    "axs[0, 0].set_xlabel('Year')\n",
    "axs[0, 0].set_ylabel('Average Spending on Complementary Medicine')\n",
    "axs[0, 0].legend(title='CAM - MHI usage', loc='upper left')\n",
    "axs[0, 0].grid(True)\n",
    "# Second subplot\n",
    "sns.lineplot(x='NOANNEE', y='PRESTATIONS_BRUTES_LCA', hue='treatment_cam_only', data=df_healthy, marker='o', ax=axs[0, 1])\n",
    "axs[0, 1].set_title('No-PCG individuals')\n",
    "axs[0, 1].set_xlabel('Year')\n",
    "axs[0, 1].set_ylabel('Average Spending on Complementary Medicine')\n",
    "axs[0, 1].legend(title='CAM - MHI usage', loc='upper left')\n",
    "axs[0, 1].grid(True)\n",
    "\n",
    "# Third subplot\n",
    "# Create the line plot\n",
    "sns.lineplot(x='NOANNEE', y='PRESTATIONS_BRUTES_LCA', hue='treatment_cam_only', data=df_multimorbid, marker='o', ax=axs[1, 0])\n",
    "axs[1, 0].set_title('Multimorbid patients')\n",
    "axs[1, 0].set_xlabel('Year')\n",
    "axs[1, 0].set_ylabel('Average Spending on Complementary Medicine')\n",
    "axs[1, 0].legend(title='CAM - MHI usage', loc='upper left')\n",
    "axs[1, 0].grid(True)\n",
    "\n",
    "# Fourth subplot\n",
    "sns.lineplot(x='NOANNEE', y='PRESTATIONS_BRUTES_LCA', hue='treatment_cam_only', data=df_cancer, marker='o', ax=axs[1, 1])\n",
    "\n",
    "axs[1, 1].set_title('Patients with cancer')\n",
    "axs[1, 1].set_xlabel('Year')\n",
    "axs[1, 1].set_ylabel('Average Spending on Complementary Medicine')\n",
    "axs[1, 1].legend(title='CAM - MHI usage', loc='upper left')\n",
    "axs[1, 1].grid(True)\n",
    "\n",
    "# Adjust layout\n",
    "plt.tight_layout()\n",
    "plt.savefig(model_folder/'trends_treatment_cam_only_lca_cost.png', dpi = 300, bbox_inches = 'tight')\n"
   ]
  },
  {
   "cell_type": "code",
   "execution_count": null,
   "id": "59",
   "metadata": {},
   "outputs": [],
   "source": [
    "fig, axs = plt.subplots(2, 2, figsize=(9, 6))\n",
    "\n",
    "# List of dataframes and titles\n",
    "dataframes = [df_treated_filtered, df_healthy, df_multimorbid, df_cancer]\n",
    "titles = ['All individuals', 'Individuals without chronic conditions', 'Multimorbid individuals', 'Individuals with cancer']\n",
    "\n",
    "# Create subplots\n",
    "for i, (ax, df, title) in enumerate(zip(axs.flat, dataframes, titles)):\n",
    "    sns.lineplot(x='NOANNEE', y='PRESTATIONS_BRUTES_AOS', hue='treatment', data=df, marker='o', ax=ax, legend=False)\n",
    "    ax.set_title(title)\n",
    "    ax.set_xlabel('Year')\n",
    "    ax.set_ylabel('Conventional Medicine\\nexpenditures (CHF)')\n",
    "    ax.grid(True)\n",
    "\n",
    "# Manually create legend handles and labels\n",
    "legend_handles = [plt.Line2D([0], [0], marker='o', color=palette[i], \n",
    "                             label=dic_labels[treatment], markersize=8, linestyle='-') \n",
    "                  for i, treatment in enumerate(df_treated_filtered['treatment'].sort_values().unique())]\n",
    "\n",
    "# Create a single legend with the correct title\n",
    "legend = fig.legend(handles=legend_handles, \n",
    "           title='Complementary/Alternative Medicine (CAM)\\nthrough Supplementary Insurance (SI)', \n",
    "           loc='lower center', bbox_to_anchor=(0.5, -0.04), ncol=2)\n",
    "plt.setp(legend.get_title(), ha='center')  # 'ha' stands for horizontal alignment\n",
    "\n",
    "# Adjust layout\n",
    "plt.tight_layout()\n",
    "fig.subplots_adjust(bottom=0.15)  # Make room for the legend\n",
    "\n",
    "plt.savefig(model_folder/'trends_treatment_aos_cost.png', dpi=300, bbox_inches='tight')\n",
    "plt.show()"
   ]
  },
  {
   "cell_type": "code",
   "execution_count": null,
   "id": "60",
   "metadata": {},
   "outputs": [],
   "source": [
    "fig, axs = plt.subplots(2, 2, figsize=(9, 6))\n",
    "\n",
    "# First subplot\n",
    "sns.lineplot(x='NOANNEE', y='PRESTATIONS_BRUTES_AOS', hue='treatment', data=df_treated_filtered, marker='o', ax=axs[0, 0])\n",
    "axs[0, 0].set_title('All')\n",
    "axs[0, 0].set_xlabel('Year')\n",
    "axs[0, 0].set_ylabel('Expenditures CM - MHI (CHF)')\n",
    "axs[0, 0].legend(title='CAM - SI usage', loc='upper left')\n",
    "axs[0, 0].grid(True)\n",
    "# Second subplot\n",
    "sns.lineplot(x='NOANNEE', y='PRESTATIONS_BRUTES_AOS', hue='treatment', data=df_healthy, marker='o', ax=axs[0, 1])\n",
    "axs[0, 1].set_title('No-PCG individuals')\n",
    "axs[0, 1].set_xlabel('Year')\n",
    "axs[0, 1].set_ylabel('Expenditures CM - MHI (CHF)')\n",
    "axs[0, 1].legend(title='CAM - SI usage', loc='upper left')\n",
    "axs[0, 1].grid(True)\n",
    "\n",
    "# Third subplot\n",
    "# Create the line plot\n",
    "sns.lineplot(x='NOANNEE', y='PRESTATIONS_BRUTES_AOS', hue='treatment', data=df_multimorbid, marker='o', ax=axs[1, 0])\n",
    "axs[1, 0].set_title('Multimorbid patients')\n",
    "axs[1, 0].set_xlabel('Year')\n",
    "axs[1, 0].set_ylabel('Expenditures CM - MHI (CHF)')\n",
    "axs[1, 0].legend(title='CAM - SI usage', loc='upper left')\n",
    "axs[1, 0].grid(True)\n",
    "\n",
    "# Fourth subplot\n",
    "sns.lineplot(x='NOANNEE', y='PRESTATIONS_BRUTES_AOS', hue='treatment', data=df_cancer, marker='o', ax=axs[1, 1])\n",
    "\n",
    "axs[1, 1].set_title('Patients with cancer')\n",
    "axs[1, 1].set_xlabel('Year')\n",
    "axs[1, 1].set_ylabel('Expenditures CM - MHI (CHF)')\n",
    "axs[1, 1].legend(title='CAM - SI usage', loc='upper left')\n",
    "axs[1, 1].grid(True)\n",
    "\n",
    "# Adjust layout\n",
    "plt.tight_layout()\n",
    "plt.savefig(model_folder/'trends_treatment_aos_cost.png', dpi = 300, bbox_inches = 'tight')\n"
   ]
  },
  {
   "cell_type": "code",
   "execution_count": null,
   "id": "61",
   "metadata": {},
   "outputs": [],
   "source": [
    "fig, axs = plt.subplots(2, 2, figsize=(9, 6))\n",
    "\n",
    "# First subplot\n",
    "sns.lineplot(x='NOANNEE', y='cds', hue='treatment', data=df_treated_filtered, marker='o', ax=axs[0, 0])\n",
    "axs[0, 0].set_title('All')\n",
    "axs[0, 0].set_xlabel('Year')\n",
    "axs[0, 0].set_ylabel('Chronic disease score (CDS)')\n",
    "axs[0, 0].legend(title='CAM - SI usage', loc='upper left')\n",
    "axs[0, 0].grid(True)\n",
    "# Second subplot\n",
    "sns.lineplot(x='NOANNEE', y='cds', hue='treatment', data=df_healthy, marker='o', ax=axs[0, 1])\n",
    "axs[0, 1].set_title('No-PCG individuals')\n",
    "axs[0, 1].set_xlabel('Year')\n",
    "axs[0, 1].set_ylabel('Chronic disease score (CDS)')\n",
    "axs[0, 1].legend(title='Treatment', loc='upper left')\n",
    "axs[0, 1].grid(True)\n",
    "\n",
    "# Third subplot\n",
    "# Create the line plot\n",
    "sns.lineplot(x='NOANNEE', y='cds', hue='treatment', data=df_multimorbid, marker='o', ax=axs[1, 0])\n",
    "axs[1, 0].set_title('Multimorbid patients')\n",
    "axs[1, 0].set_xlabel('Year')\n",
    "axs[1, 0].set_ylabel('Chronic disease score (CDS)')\n",
    "axs[1, 0].legend(title='CAM - SI usage', loc='upper left')\n",
    "axs[1, 0].grid(True)\n",
    "\n",
    "# Fourth subplot\n",
    "sns.lineplot(x='NOANNEE', y='cds', hue='treatment', data=df_cancer, marker='o', ax=axs[1, 1])\n",
    "\n",
    "axs[1, 1].set_title('Patients with cancer')\n",
    "axs[1, 1].set_xlabel('Year')\n",
    "axs[1, 1].set_ylabel('Chronic disease score (CDS)')\n",
    "axs[1, 1].legend(title='CAM - SI usage', loc='upper left')\n",
    "axs[1, 1].grid(True)\n",
    "\n",
    "# Adjust layout\n",
    "plt.tight_layout()\n",
    "plt.savefig(model_folder/'trends_treatment_cds.png', dpi = 300, bbox_inches = 'tight')\n"
   ]
  },
  {
   "cell_type": "code",
   "execution_count": null,
   "id": "62",
   "metadata": {},
   "outputs": [],
   "source": [
    "fig, axs = plt.subplots(2, 2, figsize=(9, 6))\n",
    "\n",
    "# List of dataframes and titles\n",
    "dataframes = [df_treated_filtered, df_healthy, df_multimorbid, df_cancer]\n",
    "titles = ['All', 'No-PCG individuals', 'Multimorbid patients', 'Patients with cancer']\n",
    "\n",
    "# Create subplots\n",
    "for i, (ax, df, title) in enumerate(zip(axs.flat, dataframes, titles)):\n",
    "    sns.lineplot(x='NOANNEE', y='n_atc', hue='treatment', data=df, marker='o', ax=ax, legend=False)\n",
    "    ax.set_title(title)\n",
    "    ax.set_xlabel('Year')\n",
    "    ax.set_ylabel('Number of distinct therapeutic subgroups')\n",
    "    ax.grid(True)\n",
    "\n",
    "# Manually create legend handles and labels\n",
    "legend_handles = [plt.Line2D([0], [0], marker='o', color=palette[i], \n",
    "                             label=dic_labels[treatment], markersize=8, linestyle='-') \n",
    "                  for i, treatment in enumerate(df_treated_filtered['treatment'].unique())]\n",
    "\n",
    "# Create a single legend with the correct title\n",
    "fig.legend(handles=legend_handles, \n",
    "           title='Complementary/Alternative Medicine usage through Supplementary Insurance', \n",
    "           loc='lower center', bbox_to_anchor=(0.5, -0.04), ncol=2)\n",
    "# Adjust layout\n",
    "plt.tight_layout()\n",
    "fig.subplots_adjust(bottom=0.15)  # Make room for the legend\n",
    "\n",
    "plt.savefig(model_folder/'trends_treatment_atcs.png', dpi=300, bbox_inches='tight')\n",
    "plt.show()"
   ]
  },
  {
   "cell_type": "code",
   "execution_count": null,
   "id": "63",
   "metadata": {},
   "outputs": [],
   "source": [
    "fig, axs = plt.subplots(2, 2, figsize=(9, 6))\n",
    "# First subplot\n",
    "sns.lineplot(x='NOANNEE', y='n_atc', hue='treatment_cam_only', data=df_treated_filtered[df_treated_filtered.PRESTATIONS_BRUTES_AOS > df_treated_filtered.MTFRANCHISECOUV], marker='o', ax=axs[0, 0])\n",
    "axs[0, 0].set_title('All')\n",
    "axs[0, 0].set_xlabel('Year')\n",
    "axs[0, 0].set_ylabel('Number of ATCs')\n",
    "axs[0, 0].legend(title='CAM - MHI usage', loc='upper left')\n",
    "axs[0, 0].grid(True)\n",
    "# Second subplot\n",
    "sns.lineplot(x='NOANNEE', y='n_atc', hue='treatment_cam_only', data=df_healthy, marker='o', ax=axs[0, 1])\n",
    "axs[0, 1].set_title('No-PCG individuals')\n",
    "axs[0, 1].set_xlabel('Year')\n",
    "axs[0, 1].set_ylabel('Number of ATCs')\n",
    "axs[0, 1].legend(title='CAM - MHI usage', loc='upper left')\n",
    "axs[0, 1].grid(True)\n",
    "\n",
    "# Third subplot\n",
    "# Create the line plot\n",
    "sns.lineplot(x='NOANNEE', y='n_atc', hue='treatment_cam_only', data=df_multimorbid, marker='o', ax=axs[1, 0])\n",
    "axs[1, 0].set_title('Multimorbid patients')\n",
    "axs[1, 0].set_xlabel('Year')\n",
    "axs[1, 0].set_ylabel('Number of ATCs')\n",
    "axs[1, 0].legend(title='CAM - MHI usage', loc='upper left')\n",
    "axs[1, 0].grid(True)\n",
    "\n",
    "# Fourth subplot\n",
    "sns.lineplot(x='NOANNEE', y='n_atc', hue='treatment_cam_only', data=df_cancer, marker='o', ax=axs[1, 1])\n",
    "\n",
    "axs[1, 1].set_title('Patients with cancer')\n",
    "axs[1, 1].set_xlabel('Year')\n",
    "axs[1, 1].set_ylabel('Number of ATCs')\n",
    "axs[1, 1].legend(title='CAM - MHI usage', loc='upper left')\n",
    "axs[1, 1].grid(True)\n",
    "\n",
    "# Adjust layout\n",
    "plt.tight_layout()\n",
    "plt.savefig(model_folder/'trends_treatment_atcs_MHI.png', dpi = 300, bbox_inches = 'tight')\n"
   ]
  },
  {
   "cell_type": "code",
   "execution_count": null,
   "id": "64",
   "metadata": {},
   "outputs": [],
   "source": [
    "fig, axs = plt.subplots(2, 2, figsize=(9, 6))\n",
    "\n",
    "# First subplot\n",
    "sns.lineplot(x='year', y='PRESTATIONS_BRUTES_AOS', hue='treatment_cumulated', data=df_treated_filtered, marker='o', ax=axs[0, 0])\n",
    "axs[0, 0].set_title('All')\n",
    "axs[0, 0].set_xlabel('Year')\n",
    "axs[0, 0].set_ylabel('Average Number of ATCs')\n",
    "axs[0, 0].legend(title='Treatment', loc='upper left')\n",
    "axs[0, 0].grid(True)\n",
    "# Second subplot\n",
    "sns.lineplot(x='NOANNEE', y='PRESTATIONS_BRUTES_AOS', hue='treatment_cumulated', data=df_healthy, marker='o', ax=axs[0, 1])\n",
    "axs[0, 1].set_title('No-PCG individuals')\n",
    "axs[0, 1].set_xlabel('Year')\n",
    "axs[0, 1].set_ylabel('Average Number of ATCs')\n",
    "axs[0, 1].legend(title='Treatment', loc='upper left')\n",
    "axs[0, 1].grid(True)\n",
    "\n",
    "# Third subplot\n",
    "# Create the line plot\n",
    "sns.lineplot(x='year', y='PRESTATIONS_BRUTES_AOS', hue='treatment_cumulated', data=df_multimorbid, marker='o', ax=axs[1, 0])\n",
    "axs[1, 0].set_title('Multimorbid patients')\n",
    "axs[1, 0].set_xlabel('Year')\n",
    "axs[1, 0].set_ylabel('Average Number of ATCs')\n",
    "axs[1, 0].legend(title='Treatment', loc='upper left')\n",
    "axs[1, 0].grid(True)\n",
    "\n",
    "# Fourth subplot\n",
    "sns.lineplot(x='year', y='PRESTATIONS_BRUTES_AOS', hue='treatment_cumulated', data=df_cancer, marker='o', ax=axs[1, 1])\n",
    "\n",
    "axs[1, 1].set_title('Patients with cancer')\n",
    "axs[1, 1].set_xlabel('Year')\n",
    "axs[1, 1].set_ylabel('Average Number of ATCs')\n",
    "axs[1, 1].legend(title='Treatment', loc='upper left')\n",
    "axs[1, 1].grid(True)\n",
    "\n",
    "# Adjust layout\n",
    "plt.tight_layout()\n",
    "plt.savefig(model_folder/'trends_treatment_cumulated_aos_cost.png', dpi = 300, bbox_inches = 'tight')"
   ]
  },
  {
   "cell_type": "markdown",
   "id": "65",
   "metadata": {},
   "source": [
    "## Cancer patients"
   ]
  },
  {
   "cell_type": "code",
   "execution_count": null,
   "id": "66",
   "metadata": {},
   "outputs": [],
   "source": [
    "fig, axs = plt.subplots(1, 3, figsize=(15, 4))\n",
    "\n",
    "g = sns.barplot(data=df_treated_filtered, y=\"treatment\", x='Cancer_PCG', width=.6, palette=\"vlag\", ax=axs[0])\n",
    "g.set_ylabel('Prevalence of CAM use (SI)')\n",
    "\n",
    "g = sns.barplot(data=df_treated_filtered, y=\"treatment_cam_only\", x='Cancer_PCG', width=.6, palette=\"vlag\", ax=axs[1])\n",
    "g.set_ylabel('Prevalence of CAM use (MHI)')\n",
    "\n",
    "g = sns.barplot(data=df_treated_filtered, y=\"treatment_lca_cam\", x='Cancer_PCG', width=.6, palette=\"vlag\", ax=axs[2])\n",
    "g.set_ylabel('Prevalence of CAM use (SI+MHI)')\n",
    "\n",
    "plt.savefig(results_folder/'Prevalence_cancer_patients.png', dpi = 300, bbox_inches='tight')"
   ]
  },
  {
   "cell_type": "code",
   "execution_count": null,
   "id": "67",
   "metadata": {},
   "outputs": [],
   "source": [
    "# Melt the dataframe to long format for methods columns.\n",
    "methods_regex = 'Methodes.*_amount$'\n",
    "methods_long_df = df_treated_filtered.melt(id_vars='Cancer_PCG', \n",
    "                          value_vars=df_treated_filtered.filter(regex=methods_regex).columns, \n",
    "                          var_name='Method', value_name='Amount')\n"
   ]
  },
  {
   "cell_type": "code",
   "execution_count": null,
   "id": "68",
   "metadata": {},
   "outputs": [],
   "source": [
    "methods_long_df['Method'] = methods_long_df['Method'].str.replace('_amount','')"
   ]
  },
  {
   "cell_type": "code",
   "execution_count": null,
   "id": "69",
   "metadata": {},
   "outputs": [],
   "source": [
    "# Now use Seaborn to create a bar plot with error bars.\n",
    "plt.figure(figsize=(14, 7))\n",
    "sns.barplot(data=methods_long_df, x='Method', y='Amount', hue='Cancer_PCG', errorbar='ci')\n",
    "\n",
    "# Improve the aesthetics and readability.\n",
    "# plt.title('Comparison of Method Amounts by Cancer Classification with Error Bars')\n",
    "plt.xlabel('Methods')\n",
    "plt.ylabel('Average yearly CAM claims amount (SI) (CHF)')\n",
    "plt.xticks(rotation=45, ha='right')  # Rotate x-axis labels for better readability.\n",
    "# plt.legend(title='Cancer_PCG')\n",
    "plt.tight_layout()  # Adjust layout to prevent clipping of tick-labels.\n",
    "plt.savefig(results_folder/'Costs_by_lca_method_cancer_patients.png', dpi = 300, bbox_inches='tight')"
   ]
  },
  {
   "cell_type": "code",
   "execution_count": null,
   "id": "70",
   "metadata": {},
   "outputs": [],
   "source": [
    "for col in df_treated_filtered.filter(regex=methods_regex).columns:\n",
    "    df_treated_filtered[f'{col}_binary'] = df_treated_filtered[col].apply(lambda x: 1 if x > 0 else 0)"
   ]
  },
  {
   "cell_type": "code",
   "execution_count": null,
   "id": "71",
   "metadata": {},
   "outputs": [],
   "source": [
    "methods_regex = 'Methodes.*_binary$'\n",
    "methods_long_df = df_treated_filtered.melt(id_vars='Pain_PCG', \n",
    "                          value_vars=df_treated_filtered.filter(regex=methods_regex).columns, \n",
    "                          var_name='Method', value_name='Prevalence')\n",
    "methods_long_df['Method'] = methods_long_df['Method'].str.replace('amount_','')"
   ]
  },
  {
   "cell_type": "code",
   "execution_count": null,
   "id": "72",
   "metadata": {},
   "outputs": [],
   "source": [
    "# Now use Seaborn to create a bar plot with error bars.\n",
    "plt.figure(figsize=(14, 7))\n",
    "sns.barplot(data=methods_long_df, x='Method', y='Prevalence', hue='Pain_PCG', errorbar='ci')\n",
    "\n",
    "# Improve the aesthetics and readability.\n",
    "# plt.title('Comparison of Method Amounts by Cancer Classification with Error Bars')\n",
    "plt.xlabel('Methods')\n",
    "plt.ylabel('Prevalence')\n",
    "plt.xticks(rotation=45, ha='right')  # Rotate x-axis labels for better readability.\n",
    "# plt.legend(title='Cancer_PCG')\n",
    "plt.tight_layout()  # Adjust layout to prevent clipping of tick-labels.\n",
    "plt.savefig(results_folder/'Prevalence_by_lca_method_pain_patients.png', dpi = 300, bbox_inches='tight')"
   ]
  },
  {
   "cell_type": "code",
   "execution_count": null,
   "id": "73",
   "metadata": {},
   "outputs": [],
   "source": [
    "methods_regex = 'Methodes.*_binary$'\n",
    "methods_long_df = df_treated_filtered.melt(id_vars='Cancer_PCG', \n",
    "                          value_vars=df_treated_filtered.filter(regex=methods_regex).columns, \n",
    "                          var_name='Method', value_name='Prevalence')\n",
    "methods_long_df['Method'] = methods_long_df['Method'].str.replace('_amount_binary','')"
   ]
  },
  {
   "cell_type": "code",
   "execution_count": null,
   "id": "74",
   "metadata": {},
   "outputs": [],
   "source": [
    "# Now use Seaborn to create a bar plot with error bars.\n",
    "plt.figure(figsize=(14, 7))\n",
    "sns.barplot(data=methods_long_df, x='Method', y='Prevalence', hue='Cancer_PCG', errorbar='ci')\n",
    "\n",
    "# Improve the aesthetics and readability.\n",
    "# plt.title('Comparison of Method Amounts by Cancer Classification with Error Bars')\n",
    "plt.xlabel('Methods')\n",
    "plt.ylabel('Prevalence')\n",
    "plt.xticks(rotation=45, ha='right')  # Rotate x-axis labels for better readability.\n",
    "# plt.legend(title='Cancer_PCG')\n",
    "plt.tight_layout()  # Adjust layout to prevent clipping of tick-labels.\n",
    "plt.savefig(results_folder/'Prevalence_by_lca_method_cancer_patients.png', dpi = 300, bbox_inches='tight')"
   ]
  },
  {
   "cell_type": "markdown",
   "id": "75",
   "metadata": {},
   "source": [
    "### Prevalence utilisation des CAM par PCG"
   ]
  },
  {
   "cell_type": "code",
   "execution_count": null,
   "id": "76",
   "metadata": {},
   "outputs": [],
   "source": [
    "methods_regex = 'PCG'\n",
    "methods_long_df = df_treated_filtered.melt(id_vars='treatment_cam_only', \n",
    "                          value_vars=df_treated_filtered.filter(regex=methods_regex).columns, \n",
    "                          var_name='Disease', value_name='Prevalence')\n",
    "methods_long_df['Disease'] = methods_long_df['Disease'].str.replace('_PCG','')\n",
    "\n",
    "methods_long_df = methods_long_df.rename(columns = {\"treatment_cam_only\":'Treatment 3 (MHI only)'})\n",
    "\n",
    "plt.figure(figsize=(14, 7))\n",
    "sns.barplot(data=methods_long_df, x='Disease', y='Prevalence', hue='Treatment 3 (MHI only)', errorbar='ci')\n",
    "\n",
    "# Improve the aesthetics and readability.\n",
    "# plt.title('Comparison of Method Amounts by Cancer Classification with Error Bars')\n",
    "plt.xlabel('Methods')\n",
    "plt.ylabel('Prevalence')\n",
    "plt.xticks(rotation=45, ha='right')  # Rotate x-axis labels for better readability.\n",
    "# plt.legend(title='Cancer_PCG')\n",
    "plt.tight_layout()  # Adjust layout to prevent clipping of tick-labels.\n",
    "plt.savefig(results_folder/'Prevalence_cam_only_by_pcg.png', dpi = 300, bbox_inches='tight')"
   ]
  },
  {
   "cell_type": "code",
   "execution_count": null,
   "id": "77",
   "metadata": {},
   "outputs": [],
   "source": [
    "methods_regex = 'PCG'\n",
    "methods_long_df = df_treated_filtered.melt(id_vars='treatment', \n",
    "                          value_vars=df_treated_filtered.filter(regex=methods_regex).columns, \n",
    "                          var_name='Disease', value_name='Prevalence')\n",
    "methods_long_df['Disease'] = methods_long_df['Disease'].str.replace('_PCG','')\n",
    "\n",
    "methods_long_df = methods_long_df.rename(columns = {\"treatment\":'Treatment 1 (SI only)'})\n",
    "\n",
    "plt.figure(figsize=(14, 7))\n",
    "sns.barplot(data=methods_long_df, x='Disease', y='Prevalence', hue='Treatment 1 (SI only)', errorbar='ci')\n",
    "\n",
    "# Improve the aesthetics and readability.\n",
    "# plt.title('Comparison of Method Amounts by Cancer Classification with Error Bars')\n",
    "plt.xlabel('Methods')\n",
    "plt.ylabel('Prevalence')\n",
    "plt.xticks(rotation=45, ha='right')  # Rotate x-axis labels for better readability.\n",
    "# plt.legend(title='Cancer_PCG')\n",
    "plt.tight_layout()  # Adjust layout to prevent clipping of tick-labels.\n",
    "plt.savefig(results_folder/'Prevalence_lca_only_by_pcg.png', dpi = 300, bbox_inches='tight')"
   ]
  },
  {
   "cell_type": "markdown",
   "id": "78",
   "metadata": {},
   "source": [
    "## Heatmaps + HC - PCG vs methods (Figure 4)\n",
    "### Heatmap SI"
   ]
  },
  {
   "cell_type": "code",
   "execution_count": null,
   "id": "79",
   "metadata": {},
   "outputs": [],
   "source": [
    "methods_regex = 'Methodes.*_binary$'\n",
    "# methods_long_df = df_treated_filtered.melt(id_vars='Cancer_PCG', \n",
    "#                           value_vars=df_treated_filtered.filter(regex=methods_regex).columns, \n",
    "#                           var_name='Method', value_name='Prevalence')\n",
    "df_treated_filtered.filter(regex=methods_regex).columns"
   ]
  },
  {
   "cell_type": "code",
   "execution_count": null,
   "id": "80",
   "metadata": {},
   "outputs": [],
   "source": [
    "methods_regex = 'PCG'\n",
    "methods_long_df = df_treated_filtered.melt(id_vars=['uuid','year'], \n",
    "                          value_vars=df_treated_filtered.filter(regex=methods_regex).columns, \n",
    "                          var_name='Disease', value_name='Prevalence')\n",
    "methods_long_df['Disease'] = methods_long_df['Disease'].str.replace('_PCG','')"
   ]
  },
  {
   "cell_type": "code",
   "execution_count": null,
   "id": "81",
   "metadata": {},
   "outputs": [],
   "source": [
    "methods_long_df = methods_long_df[methods_long_df.Prevalence == 1]\n",
    "\n",
    "df_test = df_treated_filtered.filter(regex='Methodes.*binary$|uuid|year')\n",
    "\n",
    "df_disease_methods = pd.merge(methods_long_df,df_test, on = ['uuid','year'])"
   ]
  },
  {
   "cell_type": "code",
   "execution_count": null,
   "id": "82",
   "metadata": {},
   "outputs": [],
   "source": [
    "df_disease_methods[df_disease_methods['Disease'] == 'Asthma']['Methodes ayurvediques_amount_binary'].sum()"
   ]
  },
  {
   "cell_type": "code",
   "execution_count": null,
   "id": "83",
   "metadata": {},
   "outputs": [],
   "source": [
    "df_disease_methods[df_disease_methods['Disease'] == 'Cancer']['Methodes ayurvediques_amount_binary'].sum()"
   ]
  },
  {
   "cell_type": "code",
   "execution_count": null,
   "id": "84",
   "metadata": {},
   "outputs": [],
   "source": [
    "df_disease_methods = df_disease_methods.groupby('Disease').sum()"
   ]
  },
  {
   "cell_type": "code",
   "execution_count": null,
   "id": "85",
   "metadata": {},
   "outputs": [],
   "source": [
    "exclude_columns = ['year','uuid','Prevalence']\n",
    "\n",
    "for col in df_disease_methods.columns:\n",
    "    if col not in exclude_columns:\n",
    "        print(col)\n",
    "        df_disease_methods[col] = df_disease_methods[col] / df_disease_methods['Prevalence']"
   ]
  },
  {
   "cell_type": "code",
   "execution_count": null,
   "id": "86",
   "metadata": {},
   "outputs": [],
   "source": [
    "df_disease_methods = df_disease_methods.drop(['year','Prevalence'], axis = 1)\n",
    "\n",
    "df_disease_methods.columns = df_disease_methods.columns.str.replace('_amount_binary','')"
   ]
  },
  {
   "cell_type": "code",
   "execution_count": null,
   "id": "87",
   "metadata": {},
   "outputs": [],
   "source": [
    "method_mapping = {\n",
    "    'Methodes ayurvediques': 'Ayurvedic methods',\n",
    "    \"Methodes d'art therapie\": 'Art therapy methods',\n",
    "    'Methodes de massage': 'Massage methods',\n",
    "    'Methodes energetiques': 'Energetic methods',\n",
    "    'Methodes energetiques manuelles': 'Manual energetic methods',\n",
    "    'Methodes hydrotherapeutiques': 'Hydrotherapeutic methods',\n",
    "    'Methodes occidentales': 'Western methods',\n",
    "    'Methodes orientales': 'Oriental methods',\n",
    "    'Methodes prescriptives': 'Prescriptive methods',\n",
    "    'Methodes psychologiques complementaires': 'Complementary psychological methods',\n",
    "    'Methodes reflexes': 'Reflex methods',\n",
    "    'Methodes therapeutiques par le mouvement': 'Movement-based therapeutic methods'\n",
    "}\n",
    "\n",
    "disease_mapping = {\n",
    "\n",
    "    'Asthma' : \"Asthma\",\n",
    "  'Diabetes' : \"Diabetes\",\n",
    "  'Cancer'   : \"Cancer\",\n",
    "  'Epilepsy' : \"Epilepsy\",\n",
    "  'Glaucoma' : \"Glaucoma\",\n",
    "  'HIV_AIDS' : \"HIV/AIDS\",\n",
    "  'Heart_disease' : \"Heart Disease\",\n",
    "  'Hypertension_related' : \"Hypertension\",\n",
    "  'Immune' : \"Immune Disorders\",\n",
    "  'Inflammatory' : \"Inflammatory Disorders\",\n",
    "  'Mental' : \"Mental Health Conditions\",\n",
    "  'Other' : \"Other Conditions\",\n",
    "  'Pain' : \"Pain Related Conditions\",\n",
    "  'Parkinson' : \"Parkinson's Disease\",\n",
    "  'Thyroid' : \"Thyroid Disorders\",\n",
    "}"
   ]
  },
  {
   "cell_type": "code",
   "execution_count": null,
   "id": "88",
   "metadata": {},
   "outputs": [],
   "source": [
    "df_disease_methods = df_disease_methods.rename(columns=method_mapping)\n",
    "df_disease_methods = df_disease_methods.rename(index=disease_mapping)"
   ]
  },
  {
   "cell_type": "code",
   "execution_count": null,
   "id": "89",
   "metadata": {},
   "outputs": [],
   "source": [
    "# Better color bar handling\n",
    "cmap = sns.diverging_palette(220, 20, as_cmap=True)  # Create a custom diverging palette\n",
    "\n",
    "# Generate the clustermap\n",
    "g = sns.clustermap(\n",
    "    df_disease_methods.drop('uuid',axis=1),\n",
    "    z_score=1,\n",
    "    cmap=cmap,\n",
    "    figsize=(10, 10),  # Adjust size to fit labels if needed\n",
    "    linewidths=.5,  # Add lines between cells to enhance readability\n",
    "    cbar_kws={'label': 'Standardized Scores'}  # Label for the color bar\n",
    ")\n",
    "plt.setp(g.ax_heatmap.get_yticklabels(), rotation=0)  # Rotate the y labels for better readability\n",
    "# plt.set_xlabel('CAM - SI methods')\n",
    "# plt.setp(g.ax_heatmap.get_xticklabels(), rotation=45)  # Rotate the x labels for readability\n",
    "# g.ax_heatmap.set_title('Typology based on Therapy Methods and PCGs', pad=-10)  # Set title with padding for visibility\n",
    "plt.savefig(results_folder/'Heatmap_disease_SI_methods.png', dpi = 300, bbox_inches='tight')"
   ]
  },
  {
   "cell_type": "markdown",
   "id": "90",
   "metadata": {},
   "source": [
    "### Heatmap MHI"
   ]
  },
  {
   "cell_type": "code",
   "execution_count": null,
   "id": "91",
   "metadata": {},
   "outputs": [],
   "source": [
    "df_cdposition = pd.read_parquet(data_folder/'processed/Intermediate datasets/df_amount_by_cdposition.parquet.gzip')"
   ]
  },
  {
   "cell_type": "code",
   "execution_count": null,
   "id": "92",
   "metadata": {},
   "outputs": [],
   "source": [
    "columns_to_update = ['Acupuncture', 'Anthroposophic medicine', 'Homeopathy', 'Neural therapy', 'Phytotherapy', 'Traditional Chinese medicine']\n",
    "df_treated_filtered[[i+'_b' for i in columns_to_update]] = df_treated_filtered[columns_to_update].apply(lambda x: np.where(x > 0, 1, x))"
   ]
  },
  {
   "cell_type": "code",
   "execution_count": null,
   "id": "93",
   "metadata": {},
   "outputs": [],
   "source": [
    "methods_regex = 'Acupuncture_b|Anthroposophic medicine_b|Homeopathy_b|Neural therapy_b|Phytotherapy_b|Traditional Chinese medicine_b'\n",
    "# methods_long_df = df_treated_filtered.melt(id_vars='Cancer_PCG', \n",
    "#                           value_vars=df_treated_filtered.filter(regex=methods_regex).columns, \n",
    "#                           var_name='Method', value_name='Prevalence')\n",
    "df_treated_filtered.filter(regex=methods_regex).columns"
   ]
  },
  {
   "cell_type": "code",
   "execution_count": null,
   "id": "94",
   "metadata": {},
   "outputs": [],
   "source": [
    "methods_regex = 'PCG'\n",
    "methods_long_df = df_treated_filtered.melt(id_vars=['uuid','year'], \n",
    "                          value_vars=df_treated_filtered.filter(regex=methods_regex).columns, \n",
    "                          var_name='Disease', value_name='Prevalence')\n",
    "methods_long_df['Disease'] = methods_long_df['Disease'].str.replace('_PCG','')"
   ]
  },
  {
   "cell_type": "code",
   "execution_count": null,
   "id": "95",
   "metadata": {},
   "outputs": [],
   "source": [
    "methods_long_df = methods_long_df[methods_long_df.Prevalence == 1]\n",
    "\n",
    "df_test = df_treated_filtered.filter(regex='uuid|year|Acupuncture_b|Anthroposophic medicine_b|Homeopathy_b|Neural therapy_b|Phytotherapy_b|Traditional Chinese medicine_b')\n",
    "# g = sns.clustermap(df_test, method=\"average\", cmap=\"coolwarm\", standard_scale=1)\n",
    "\n",
    "df_disease_methods = pd.merge(methods_long_df,df_test, on = ['uuid','year'])"
   ]
  },
  {
   "cell_type": "code",
   "execution_count": null,
   "id": "96",
   "metadata": {},
   "outputs": [],
   "source": [
    "df_disease_methods = df_disease_methods.groupby('Disease').sum()"
   ]
  },
  {
   "cell_type": "code",
   "execution_count": null,
   "id": "97",
   "metadata": {},
   "outputs": [],
   "source": [
    "exclude_columns = ['uuid','year','Prevalence']\n",
    "\n",
    "for col in df_disease_methods.columns:\n",
    "    if col not in exclude_columns:\n",
    "        df_disease_methods[col] = df_disease_methods[col] / df_disease_methods['Prevalence']"
   ]
  },
  {
   "cell_type": "code",
   "execution_count": null,
   "id": "98",
   "metadata": {},
   "outputs": [],
   "source": [
    "df_disease_methods = df_disease_methods.drop(['year','uuid','Prevalence'], axis = 1)\n",
    "df_disease_methods.columns = df_disease_methods.columns.str.replace('_b','')"
   ]
  },
  {
   "cell_type": "code",
   "execution_count": null,
   "id": "99",
   "metadata": {},
   "outputs": [],
   "source": [
    "# df_disease_methods = df_disease_methods.rename(columns=method_mapping)\n",
    "df_disease_methods = df_disease_methods.rename(index=disease_mapping)"
   ]
  },
  {
   "cell_type": "code",
   "execution_count": null,
   "id": "100",
   "metadata": {},
   "outputs": [],
   "source": [
    "# Generate the clustermap\n",
    "cmap = sns.diverging_palette(220, 20, as_cmap=True)  # Create a custom diverging palette\n",
    "\n",
    "g = sns.clustermap(\n",
    "    df_disease_methods,\n",
    "    z_score=1,\n",
    "    cmap=cmap,\n",
    "    figsize=(10, 10),  # Adjust size to fit labels if needed\n",
    "    linewidths=.5,  # Add lines between cells to enhance readability\n",
    "    cbar_kws={'label': 'Z-Scores'}  # Label for the color bar\n",
    ")\n",
    "plt.setp(g.ax_heatmap.get_yticklabels(), rotation=0) \n",
    "plt.savefig(results_folder/'Heatmap_disease_MHI_methods.png', dpi = 300, bbox_inches='tight')"
   ]
  }
 ],
 "metadata": {
  "kernelspec": {
   "display_name": "py311",
   "language": "python",
   "name": "py311"
  },
  "language_info": {
   "codemirror_mode": {
    "name": "ipython",
    "version": 3
   },
   "file_extension": ".py",
   "mimetype": "text/x-python",
   "name": "python",
   "nbconvert_exporter": "python",
   "pygments_lexer": "ipython3",
   "version": "3.11.9"
  }
 },
 "nbformat": 4,
 "nbformat_minor": 5
}
